{
 "cells": [
  {
   "cell_type": "markdown",
   "metadata": {},
   "source": [
    "### Setup"
   ]
  },
  {
   "cell_type": "code",
   "execution_count": 1,
   "metadata": {
    "collapsed": true
   },
   "outputs": [],
   "source": [
    "import pandas as pd\n",
    "\n",
    "import matplotlib as mpl\n",
    "import matplotlib.pyplot as plt\n",
    "%matplotlib inline\n",
    "\n",
    "import seaborn as sns\n",
    "\n",
    "import scipy.stats as st\n",
    "\n",
    "from os import path"
   ]
  },
  {
   "cell_type": "code",
   "execution_count": 2,
   "metadata": {
    "collapsed": true
   },
   "outputs": [],
   "source": [
    "# Set matplotlib default styles\n",
    "mpl_update = {'font.size':16,\n",
    "              'xtick.labelsize':14,\n",
    "              'ytick.labelsize':14,\n",
    "              'figure.figsize':[10.0,5.0], \n",
    "              'axes.labelsize':16,\n",
    "              'axes.labelcolor':'#677385',\n",
    "              'axes.titlesize':20,\n",
    "              'lines.color':'#0055A7',\n",
    "              'lines.linewidth':3,\n",
    "              'text.color':'#677385'}\n",
    "mpl.rcParams.update(mpl_update)\n",
    "\n",
    "# Set seaborn style\n",
    "sns.set_style('whitegrid')"
   ]
  },
  {
   "cell_type": "markdown",
   "metadata": {},
   "source": [
    "### Import Data"
   ]
  },
  {
   "cell_type": "code",
   "execution_count": 3,
   "metadata": {
    "collapsed": true
   },
   "outputs": [],
   "source": [
    "from os import path\n",
    "\n",
    "directory = 'data'\n",
    "file_name = 'NYC_RealEstate_Data.json'\n",
    "\n",
    "data = pd.read_json(path.join(directory,file_name)).reset_index()"
   ]
  },
  {
   "cell_type": "code",
   "execution_count": 4,
   "metadata": {},
   "outputs": [
    {
     "data": {
      "text/html": [
       "<div>\n",
       "<style>\n",
       "    .dataframe thead tr:only-child th {\n",
       "        text-align: right;\n",
       "    }\n",
       "\n",
       "    .dataframe thead th {\n",
       "        text-align: left;\n",
       "    }\n",
       "\n",
       "    .dataframe tbody tr th {\n",
       "        vertical-align: top;\n",
       "    }\n",
       "</style>\n",
       "<table border=\"1\" class=\"dataframe\">\n",
       "  <thead>\n",
       "    <tr style=\"text-align: right;\">\n",
       "      <th></th>\n",
       "      <th>index</th>\n",
       "      <th>bathrooms</th>\n",
       "      <th>bedrooms</th>\n",
       "      <th>building_id</th>\n",
       "      <th>created</th>\n",
       "      <th>description</th>\n",
       "      <th>display_address</th>\n",
       "      <th>features</th>\n",
       "      <th>interest_level</th>\n",
       "      <th>latitude</th>\n",
       "      <th>listing_id</th>\n",
       "      <th>longitude</th>\n",
       "      <th>manager_id</th>\n",
       "      <th>photos</th>\n",
       "      <th>price</th>\n",
       "      <th>street_address</th>\n",
       "    </tr>\n",
       "  </thead>\n",
       "  <tbody>\n",
       "    <tr>\n",
       "      <th>0</th>\n",
       "      <td>0</td>\n",
       "      <td>1.5</td>\n",
       "      <td>3</td>\n",
       "      <td>53a5b119ba8f7b61d4e010512e0dfc85</td>\n",
       "      <td>1466754864000</td>\n",
       "      <td>A Brand New 3 Bedroom 1.5 bath ApartmentEnjoy ...</td>\n",
       "      <td>Metropolitan Avenue</td>\n",
       "      <td>[]</td>\n",
       "      <td>medium</td>\n",
       "      <td>40.7145</td>\n",
       "      <td>7211212</td>\n",
       "      <td>-73.9425</td>\n",
       "      <td>5ba989232d0489da1b5f2c45f6688adc</td>\n",
       "      <td>[https://photos.renthop.com/2/7211212_1ed4542e...</td>\n",
       "      <td>3000</td>\n",
       "      <td>792 Metropolitan Avenue</td>\n",
       "    </tr>\n",
       "    <tr>\n",
       "      <th>1</th>\n",
       "      <td>1</td>\n",
       "      <td>1.0</td>\n",
       "      <td>2</td>\n",
       "      <td>c5c8a357cba207596b04d1afd1e4f130</td>\n",
       "      <td>1465733967000</td>\n",
       "      <td></td>\n",
       "      <td>Columbus Avenue</td>\n",
       "      <td>[Doorman, Elevator, Fitness Center, Cats Allow...</td>\n",
       "      <td>low</td>\n",
       "      <td>40.7947</td>\n",
       "      <td>7150865</td>\n",
       "      <td>-73.9667</td>\n",
       "      <td>7533621a882f71e25173b27e3139d83d</td>\n",
       "      <td>[https://photos.renthop.com/2/7150865_be3306c5...</td>\n",
       "      <td>5465</td>\n",
       "      <td>808 Columbus Avenue</td>\n",
       "    </tr>\n",
       "    <tr>\n",
       "      <th>2</th>\n",
       "      <td>10</td>\n",
       "      <td>1.0</td>\n",
       "      <td>0</td>\n",
       "      <td>0</td>\n",
       "      <td>1460596230000</td>\n",
       "      <td>New to the market! Spacious studio located in ...</td>\n",
       "      <td>York Avenue</td>\n",
       "      <td>[]</td>\n",
       "      <td>low</td>\n",
       "      <td>40.7769</td>\n",
       "      <td>6869199</td>\n",
       "      <td>-73.9467</td>\n",
       "      <td>e32475a6134d6d18279946b7b20a0f12</td>\n",
       "      <td>[https://photos.renthop.com/2/6869199_06b2601f...</td>\n",
       "      <td>1950</td>\n",
       "      <td>1661 York Avenue</td>\n",
       "    </tr>\n",
       "    <tr>\n",
       "      <th>3</th>\n",
       "      <td>100</td>\n",
       "      <td>1.0</td>\n",
       "      <td>2</td>\n",
       "      <td>e3ea799fc85b5ed5a65cb662e6eebafa</td>\n",
       "      <td>1460523347000</td>\n",
       "      <td>Beautiful 2 Bed apartment in bustling ...</td>\n",
       "      <td>8518 3rd Avenue</td>\n",
       "      <td>[]</td>\n",
       "      <td>medium</td>\n",
       "      <td>40.6240</td>\n",
       "      <td>6866364</td>\n",
       "      <td>-74.0312</td>\n",
       "      <td>6f63020874d0bac3287ec5cdf202e270</td>\n",
       "      <td>[https://photos.renthop.com/2/6866364_50f3ac50...</td>\n",
       "      <td>2000</td>\n",
       "      <td>8518 3rd Avenue</td>\n",
       "    </tr>\n",
       "    <tr>\n",
       "      <th>4</th>\n",
       "      <td>1000</td>\n",
       "      <td>1.0</td>\n",
       "      <td>1</td>\n",
       "      <td>db572bebbed10ea38c6c47ab41619059</td>\n",
       "      <td>1460433932000</td>\n",
       "      <td>Amazing building in a Prime location! just ste...</td>\n",
       "      <td>W 57 St.</td>\n",
       "      <td>[Swimming Pool, Roof Deck, Doorman, Elevator, ...</td>\n",
       "      <td>medium</td>\n",
       "      <td>40.7670</td>\n",
       "      <td>6859853</td>\n",
       "      <td>-73.9841</td>\n",
       "      <td>2b14eec3be2c4d669ce5949cf863de6f</td>\n",
       "      <td>[https://photos.renthop.com/2/6859853_db2bbf20...</td>\n",
       "      <td>3275</td>\n",
       "      <td>322 W 57 St.</td>\n",
       "    </tr>\n",
       "  </tbody>\n",
       "</table>\n",
       "</div>"
      ],
      "text/plain": [
       "   index  bathrooms  bedrooms                       building_id  \\\n",
       "0      0        1.5         3  53a5b119ba8f7b61d4e010512e0dfc85   \n",
       "1      1        1.0         2  c5c8a357cba207596b04d1afd1e4f130   \n",
       "2     10        1.0         0                                 0   \n",
       "3    100        1.0         2  e3ea799fc85b5ed5a65cb662e6eebafa   \n",
       "4   1000        1.0         1  db572bebbed10ea38c6c47ab41619059   \n",
       "\n",
       "         created                                        description  \\\n",
       "0  1466754864000  A Brand New 3 Bedroom 1.5 bath ApartmentEnjoy ...   \n",
       "1  1465733967000                                                      \n",
       "2  1460596230000  New to the market! Spacious studio located in ...   \n",
       "3  1460523347000          Beautiful 2 Bed apartment in bustling ...   \n",
       "4  1460433932000  Amazing building in a Prime location! just ste...   \n",
       "\n",
       "       display_address                                           features  \\\n",
       "0  Metropolitan Avenue                                                 []   \n",
       "1      Columbus Avenue  [Doorman, Elevator, Fitness Center, Cats Allow...   \n",
       "2          York Avenue                                                 []   \n",
       "3      8518 3rd Avenue                                                 []   \n",
       "4             W 57 St.  [Swimming Pool, Roof Deck, Doorman, Elevator, ...   \n",
       "\n",
       "  interest_level  latitude  listing_id  longitude  \\\n",
       "0         medium   40.7145     7211212   -73.9425   \n",
       "1            low   40.7947     7150865   -73.9667   \n",
       "2            low   40.7769     6869199   -73.9467   \n",
       "3         medium   40.6240     6866364   -74.0312   \n",
       "4         medium   40.7670     6859853   -73.9841   \n",
       "\n",
       "                         manager_id  \\\n",
       "0  5ba989232d0489da1b5f2c45f6688adc   \n",
       "1  7533621a882f71e25173b27e3139d83d   \n",
       "2  e32475a6134d6d18279946b7b20a0f12   \n",
       "3  6f63020874d0bac3287ec5cdf202e270   \n",
       "4  2b14eec3be2c4d669ce5949cf863de6f   \n",
       "\n",
       "                                              photos  price  \\\n",
       "0  [https://photos.renthop.com/2/7211212_1ed4542e...   3000   \n",
       "1  [https://photos.renthop.com/2/7150865_be3306c5...   5465   \n",
       "2  [https://photos.renthop.com/2/6869199_06b2601f...   1950   \n",
       "3  [https://photos.renthop.com/2/6866364_50f3ac50...   2000   \n",
       "4  [https://photos.renthop.com/2/6859853_db2bbf20...   3275   \n",
       "\n",
       "            street_address  \n",
       "0  792 Metropolitan Avenue  \n",
       "1      808 Columbus Avenue  \n",
       "2         1661 York Avenue  \n",
       "3          8518 3rd Avenue  \n",
       "4             322 W 57 St.  "
      ]
     },
     "execution_count": 4,
     "metadata": {},
     "output_type": "execute_result"
    }
   ],
   "source": [
    "data.head()"
   ]
  },
  {
   "cell_type": "markdown",
   "metadata": {},
   "source": [
    "### Analysis of Price & Rooms"
   ]
  },
  {
   "cell_type": "markdown",
   "metadata": {},
   "source": [
    "Will calculate the price per room to see if this provides a more distinct relationship with interest level. One would expect this to more accurately reflect the 'value' of a given listing vs. the price itself."
   ]
  },
  {
   "cell_type": "code",
   "execution_count": 5,
   "metadata": {
    "collapsed": true
   },
   "outputs": [],
   "source": [
    "def price_per_room(price, n_bed=0, n_bath=0, bed_only=False, bath_only=False):\n",
    "    \n",
    "    # Studios etc. are 'upgraded' to half bedroom\n",
    "    if n_bed < 1:\n",
    "        n_bed = 0.5\n",
    "    \n",
    "    if bed_only:\n",
    "        n_rooms = n_bed\n",
    "    elif bath_only:\n",
    "        n_rooms = n_bath\n",
    "    else:\n",
    "        n_rooms = n_bed + n_bath/2\n",
    "    \n",
    "    try:\n",
    "        ppr = round(price / n_rooms)\n",
    "    except:\n",
    "        ppr = pd.np.NaN\n",
    "    \n",
    "    return ppr"
   ]
  },
  {
   "cell_type": "code",
   "execution_count": 6,
   "metadata": {},
   "outputs": [
    {
     "data": {
      "text/html": [
       "<div>\n",
       "<style>\n",
       "    .dataframe thead tr:only-child th {\n",
       "        text-align: right;\n",
       "    }\n",
       "\n",
       "    .dataframe thead th {\n",
       "        text-align: left;\n",
       "    }\n",
       "\n",
       "    .dataframe tbody tr th {\n",
       "        vertical-align: top;\n",
       "    }\n",
       "</style>\n",
       "<table border=\"1\" class=\"dataframe\">\n",
       "  <thead>\n",
       "    <tr style=\"text-align: right;\">\n",
       "      <th></th>\n",
       "      <th>bathrooms</th>\n",
       "      <th>bedrooms</th>\n",
       "      <th>interest_level</th>\n",
       "      <th>ppr</th>\n",
       "      <th>ppr_bath</th>\n",
       "      <th>ppr_bed</th>\n",
       "      <th>price</th>\n",
       "    </tr>\n",
       "  </thead>\n",
       "  <tbody>\n",
       "    <tr>\n",
       "      <th>0</th>\n",
       "      <td>1.5</td>\n",
       "      <td>3</td>\n",
       "      <td>medium</td>\n",
       "      <td>800</td>\n",
       "      <td>2000.0</td>\n",
       "      <td>1000</td>\n",
       "      <td>3000</td>\n",
       "    </tr>\n",
       "    <tr>\n",
       "      <th>1</th>\n",
       "      <td>1.0</td>\n",
       "      <td>2</td>\n",
       "      <td>low</td>\n",
       "      <td>2186</td>\n",
       "      <td>5465.0</td>\n",
       "      <td>2732</td>\n",
       "      <td>5465</td>\n",
       "    </tr>\n",
       "    <tr>\n",
       "      <th>2</th>\n",
       "      <td>1.0</td>\n",
       "      <td>0</td>\n",
       "      <td>low</td>\n",
       "      <td>1950</td>\n",
       "      <td>1950.0</td>\n",
       "      <td>3900</td>\n",
       "      <td>1950</td>\n",
       "    </tr>\n",
       "    <tr>\n",
       "      <th>3</th>\n",
       "      <td>1.0</td>\n",
       "      <td>2</td>\n",
       "      <td>medium</td>\n",
       "      <td>800</td>\n",
       "      <td>2000.0</td>\n",
       "      <td>1000</td>\n",
       "      <td>2000</td>\n",
       "    </tr>\n",
       "    <tr>\n",
       "      <th>4</th>\n",
       "      <td>1.0</td>\n",
       "      <td>1</td>\n",
       "      <td>medium</td>\n",
       "      <td>2183</td>\n",
       "      <td>3275.0</td>\n",
       "      <td>3275</td>\n",
       "      <td>3275</td>\n",
       "    </tr>\n",
       "  </tbody>\n",
       "</table>\n",
       "</div>"
      ],
      "text/plain": [
       "   bathrooms  bedrooms interest_level   ppr  ppr_bath  ppr_bed  price\n",
       "0        1.5         3         medium   800    2000.0     1000   3000\n",
       "1        1.0         2            low  2186    5465.0     2732   5465\n",
       "2        1.0         0            low  1950    1950.0     3900   1950\n",
       "3        1.0         2         medium   800    2000.0     1000   2000\n",
       "4        1.0         1         medium  2183    3275.0     3275   3275"
      ]
     },
     "execution_count": 6,
     "metadata": {},
     "output_type": "execute_result"
    }
   ],
   "source": [
    "ppr = data.apply(lambda x: pd.Series({'interest_level': x['interest_level'],\n",
    "                                      'price': x['price'],\n",
    "                                      'bedrooms': x['bedrooms'],\n",
    "                                      'bathrooms':x['bathrooms'], \n",
    "                                      'ppr': price_per_room(x['price'], x['bedrooms'], x['bathrooms']),\n",
    "                                      'ppr_bed': price_per_room(x['price'], x['bedrooms'], x['bathrooms'], bed_only=True),\n",
    "                                      'ppr_bath': price_per_room(x['price'], x['bedrooms'], x['bathrooms'], bath_only=True)}), axis=1)\n",
    "\n",
    "ppr.head()"
   ]
  },
  {
   "cell_type": "markdown",
   "metadata": {},
   "source": [
    "Will try out a parallel coordinates plot to see if any immediate patterns are apparent. Note that a sample of 1000 has been taken from each interest level to reduce processing time, and each interest level has been shown in seperate plots for a clearer picture."
   ]
  },
  {
   "cell_type": "code",
   "execution_count": 7,
   "metadata": {
    "collapsed": true
   },
   "outputs": [],
   "source": [
    "from pandas.plotting import parallel_coordinates"
   ]
  },
  {
   "cell_type": "code",
   "execution_count": 8,
   "metadata": {
    "collapsed": true
   },
   "outputs": [],
   "source": [
    "fig, axs = plt.subplots(1,3, sharey=True)\n",
    "\n",
    "ilvls = ['low', 'medium', 'high']\n",
    "\n",
    "cols = ['interest_level', 'ppr', 'ppr_bed', 'ppr_bath']\n",
    "\n",
    "colors = ['r', 'y', 'g']\n",
    "\n",
    "for ax, ilvl, color in zip(axs,ilvls,colors):\n",
    "    sample = ppr[ppr['interest_level'] == ilvl][cols].sample(1000)\n",
    "    parallel_coordinates(sample, 'interest_level', ax=ax, color=color, alpha=0.1, linewidth=1)\n",
    "    ax.set_ylim(0,10000)\n",
    "    ax.set_xticklabels(['PPR\\n(Total)','PPR\\n(Bed)', 'PPR\\n(Bath)'])\n",
    "    \n",
    "fig.set_size_inches(15,7)\n",
    "\n",
    "plt.suptitle('Parallel Plot: Price Per Room (PPR) per Interest Level')\n",
    "\n",
    "directory = 'figures'\n",
    "file_name = 'Price Analysis_Parallel Plot_PPR.png'\n",
    "fig.savefig(path.join(directory, file_name))\n",
    "\n",
    "plt.close()"
   ]
  },
  {
   "cell_type": "markdown",
   "metadata": {},
   "source": [
    "![](./figures/Price Analysis_Parallel Plot_PPR.png)"
   ]
  },
  {
   "cell_type": "markdown",
   "metadata": {},
   "source": [
    "Judging from the above plots, the low interest listings seem to reach higher prices per room (in line with flat price), but there seems to be no clear distinction in pattern between each interest level. One can, however, see that there are several common types of bed to bath ratios."
   ]
  },
  {
   "cell_type": "markdown",
   "metadata": {},
   "source": [
    "A quick look at the distribution of PPR (price per room) to see if there is any improvement over regular price in terms of it fitting a normal distribution:"
   ]
  },
  {
   "cell_type": "code",
   "execution_count": 9,
   "metadata": {
    "collapsed": true
   },
   "outputs": [],
   "source": [
    "b = pd.np.arange(0, 5000, 200)\n",
    "\n",
    "plt.figure(figsize=(12,7))\n",
    "ax = sns.distplot(ppr['ppr'], bins=b)\n",
    "\n",
    "ax.set_xlim(0,5000)\n",
    "ax.set_title('Distribution of Price Per Room')\n",
    "ax.set_xlabel('Price Per Room ($)')\n",
    "ax.set_ylabel('Density')\n",
    "\n",
    "directory = 'figures'\n",
    "file_name = 'Price Analysis_Distribution Plot_PPR.png'\n",
    "plt.savefig(path.join(directory, file_name))\n",
    "\n",
    "plt.close()"
   ]
  },
  {
   "cell_type": "markdown",
   "metadata": {},
   "source": [
    "![](./figures/Price Analysis_Distribution Plot_PPR.png)"
   ]
  },
  {
   "cell_type": "code",
   "execution_count": 10,
   "metadata": {},
   "outputs": [
    {
     "data": {
      "text/plain": [
       "(4.1659889437300555, 74.48828490557905)"
      ]
     },
     "execution_count": 10,
     "metadata": {},
     "output_type": "execute_result"
    }
   ],
   "source": [
    "st.skew(ppr['ppr']), st.kurtosis(ppr['ppr'])"
   ]
  },
  {
   "cell_type": "markdown",
   "metadata": {},
   "source": [
    "Distribution is still heavily skewed to the right, so application of normal statistics should be limited."
   ]
  },
  {
   "cell_type": "markdown",
   "metadata": {},
   "source": [
    "Converting interest level to an integer again:"
   ]
  },
  {
   "cell_type": "code",
   "execution_count": 11,
   "metadata": {
    "collapsed": true
   },
   "outputs": [],
   "source": [
    "def get_ilevel_int(ilevel):\n",
    "    try:\n",
    "        if ilevel == 'high':\n",
    "            ilevel_int = 1\n",
    "        elif ilevel == 'medium':\n",
    "            ilevel_int = 0\n",
    "        elif ilevel == 'low':\n",
    "            ilevel_int = -1\n",
    "        else:\n",
    "            ilevel_int = 0\n",
    "    except Exception as e:\n",
    "        print(e, ': ', ilevel)\n",
    "        ilevel_int = 0\n",
    "        return ilevel_int\n",
    "    \n",
    "    return ilevel_int"
   ]
  },
  {
   "cell_type": "code",
   "execution_count": 12,
   "metadata": {
    "collapsed": true
   },
   "outputs": [],
   "source": [
    "ppr['interest_level_int'] = ppr['interest_level'].apply(lambda x: get_ilevel_int(x))"
   ]
  },
  {
   "cell_type": "markdown",
   "metadata": {},
   "source": [
    "Boxplots for each PPR value across each interest level:"
   ]
  },
  {
   "cell_type": "code",
   "execution_count": 13,
   "metadata": {
    "collapsed": true
   },
   "outputs": [],
   "source": [
    "cols = ['ppr', 'ppr_bed', 'ppr_bath']\n",
    "labels = ['Price Per Room (Combined)', 'Price Per Bedroom', 'Price Per Bathroom']\n",
    "\n",
    "fig, axs = plt.subplots(len(cols))\n",
    "\n",
    "for ax, col, label in zip(axs,cols,labels):\n",
    "    ppr[['interest_level_int', col]].boxplot(by='interest_level_int', ax=ax, showfliers=False)\n",
    "    ax.set_xticklabels(['low','medium','high'])\n",
    "    ax.set_xlabel('Interest Level')\n",
    "    ax.set_ylabel('Price Per Room ($)')\n",
    "    ax.set_title(label)\n",
    "\n",
    "fig.suptitle('PPR Boxplots')\n",
    "fig.set_size_inches(15,15)\n",
    "fig.tight_layout(rect=[0, 0, 1, 0.97])\n",
    "\n",
    "directory = 'figures'\n",
    "file_name = 'Price Analysis_Boxplot_PPR.png'\n",
    "fig.savefig(path.join(directory, file_name))\n",
    "\n",
    "plt.close()"
   ]
  },
  {
   "cell_type": "markdown",
   "metadata": {},
   "source": [
    "![](./figures/Price Analysis_Boxplot_PPR.png)"
   ]
  },
  {
   "cell_type": "code",
   "execution_count": 14,
   "metadata": {},
   "outputs": [
    {
     "name": "stdout",
     "output_type": "stream",
     "text": [
      "Overall PPR Median = $1667.00\n"
     ]
    }
   ],
   "source": [
    "ppr_median = ppr['ppr'].median()\n",
    "print(\"Overall PPR Median = ${:.2f}\".format(ppr_median))"
   ]
  },
  {
   "cell_type": "code",
   "execution_count": 15,
   "metadata": {},
   "outputs": [
    {
     "name": "stdout",
     "output_type": "stream",
     "text": [
      "Median PPRs by Interest Level:\n",
      "low = $1818.00\n",
      "medium = $1399.00\n",
      "high = $1236.00\n"
     ]
    }
   ],
   "source": [
    "ilvl_ppr_medians = ppr.groupby('interest_level')['ppr'].median()[['low', 'medium', 'high']]\n",
    "\n",
    "print(\"Median PPRs by Interest Level:\")\n",
    "for i, p in ilvl_ppr_medians.items():\n",
    "    print(\"{} = ${:.2f}\".format(i, p))"
   ]
  },
  {
   "cell_type": "code",
   "execution_count": 16,
   "metadata": {},
   "outputs": [
    {
     "name": "stdout",
     "output_type": "stream",
     "text": [
      "Range in Median PPR across Interest Level = $582.00\n"
     ]
    }
   ],
   "source": [
    "ilvl_ppr_median_delta = ilvl_ppr_medians.max() - ilvl_ppr_medians.min()\n",
    "\n",
    "print('Range in Median PPR across Interest Level = ${:.2f}'.format(ilvl_ppr_median_delta))"
   ]
  },
  {
   "cell_type": "code",
   "execution_count": 17,
   "metadata": {},
   "outputs": [
    {
     "name": "stdout",
     "output_type": "stream",
     "text": [
      "Difference in PPR Medians per Interest Level and Overall PPR Median:\n",
      "low = +$151.00 (+9%)\n",
      "medium = -$268.00 (-16%)\n",
      "high = -$431.00 (-26%)\n"
     ]
    }
   ],
   "source": [
    "print('Difference in PPR Medians per Interest Level and Overall PPR Median:')\n",
    "for i, p in ilvl_ppr_medians.items():\n",
    "    delta = p - ppr_median\n",
    "    p_delta = 100 * (p/ppr_median - 1)\n",
    "    sign = '+' if delta >= 0 else '-'\n",
    "    print(\"{} = {}${:.2f} ({}{:.0f}%)\".format(i, sign, abs(delta), sign, abs(p_delta)))"
   ]
  },
  {
   "cell_type": "markdown",
   "metadata": {},
   "source": [
    "Comparing the above to those results found in the initial price analysis, the percentage deviations of each interest level are more significant with PPR than with regular price. This indicates a stronger relationship / indicator using PPR, which supports the idea that it may be a more accurate representation of a property's value and it's potential for high interest."
   ]
  },
  {
   "cell_type": "markdown",
   "metadata": {},
   "source": [
    "Repeaing for bedrooms: (should have made a function at this point...)"
   ]
  },
  {
   "cell_type": "code",
   "execution_count": 49,
   "metadata": {},
   "outputs": [
    {
     "name": "stdout",
     "output_type": "stream",
     "text": [
      "Overall PPR (Bedroom) Median = $2448.00\n"
     ]
    }
   ],
   "source": [
    "pprbed_median = ppr['ppr_bed'].median()\n",
    "print(\"Overall PPR (Bedroom) Median = ${:.2f}\".format(pprbed_median))"
   ]
  },
  {
   "cell_type": "code",
   "execution_count": 50,
   "metadata": {},
   "outputs": [
    {
     "name": "stdout",
     "output_type": "stream",
     "text": [
      "Median PPR (Bedroom) by Interest Level:\n",
      "low = $2700.00\n",
      "medium = $1880.00\n",
      "high = $1625.00\n"
     ]
    }
   ],
   "source": [
    "ilvl_pprbed_medians = ppr.groupby('interest_level')['ppr_bed'].median()[['low', 'medium', 'high']]\n",
    "\n",
    "print(\"Median PPR (Bedroom) by Interest Level:\")\n",
    "for i, p in ilvl_pprbed_medians.items():\n",
    "    print(\"{} = ${:.2f}\".format(i, p))"
   ]
  },
  {
   "cell_type": "code",
   "execution_count": 51,
   "metadata": {},
   "outputs": [
    {
     "name": "stdout",
     "output_type": "stream",
     "text": [
      "Range in Median PPR (Bedroom) across Interest Level = $1075.00\n"
     ]
    }
   ],
   "source": [
    "ilvl_pprbed_median_delta = ilvl_pprbed_medians.max() - ilvl_pprbed_medians.min()\n",
    "\n",
    "print('Range in Median PPR (Bedroom) across Interest Level = ${:.2f}'.format(ilvl_pprbed_median_delta))"
   ]
  },
  {
   "cell_type": "code",
   "execution_count": 52,
   "metadata": {
    "scrolled": true
   },
   "outputs": [
    {
     "name": "stdout",
     "output_type": "stream",
     "text": [
      "Difference in PPR (Bedroom) Medians per Interest Level and Overall PPR (Bedroom) Median:\n",
      "low = +$252.00 (+10%)\n",
      "medium = -$568.00 (-23%)\n",
      "high = -$823.00 (-34%)\n"
     ]
    }
   ],
   "source": [
    "print('Difference in PPR (Bedroom) Medians per Interest Level and Overall PPR (Bedroom) Median:')\n",
    "for i, p in ilvl_pprbed_medians.items():\n",
    "    delta = p - pprbed_median\n",
    "    p_delta = 100 * (p/pprbed_median - 1)\n",
    "    sign = '+' if delta >= 0 else '-'\n",
    "    print(\"{} = {}${:.2f} ({}{:.0f}%)\".format(i, sign, abs(delta), sign, abs(p_delta)))"
   ]
  },
  {
   "cell_type": "markdown",
   "metadata": {},
   "source": [
    "And bathrooms:"
   ]
  },
  {
   "cell_type": "code",
   "execution_count": 53,
   "metadata": {},
   "outputs": [
    {
     "name": "stdout",
     "output_type": "stream",
     "text": [
      "Overall PPR (Bathroom) Median = $2850.00\n"
     ]
    }
   ],
   "source": [
    "pprbath_median = ppr['ppr_bath'].median()\n",
    "print(\"Overall PPR (Bathroom) Median = ${:.2f}\".format(pprbath_median))"
   ]
  },
  {
   "cell_type": "code",
   "execution_count": 55,
   "metadata": {},
   "outputs": [
    {
     "name": "stdout",
     "output_type": "stream",
     "text": [
      "Median PPR (Bathroom) by Interest Level:\n",
      "low = $2995.00\n",
      "medium = $2650.00\n",
      "high = $2300.00\n"
     ]
    }
   ],
   "source": [
    "ilvl_pprbath_medians = ppr.groupby('interest_level')['ppr_bath'].median()[['low', 'medium', 'high']]\n",
    "\n",
    "print(\"Median PPR (Bathroom) by Interest Level:\")\n",
    "for i, p in ilvl_pprbath_medians.items():\n",
    "    print(\"{} = ${:.2f}\".format(i, p))"
   ]
  },
  {
   "cell_type": "code",
   "execution_count": 57,
   "metadata": {},
   "outputs": [
    {
     "name": "stdout",
     "output_type": "stream",
     "text": [
      "Range in Median PPR (Bathroom) across Interest Level = $695.00\n"
     ]
    }
   ],
   "source": [
    "ilvl_pprbath_median_delta = ilvl_pprbath_medians.max() - ilvl_pprbath_medians.min()\n",
    "\n",
    "print('Range in Median PPR (Bathroom) across Interest Level = ${:.2f}'.format(ilvl_pprbath_median_delta))"
   ]
  },
  {
   "cell_type": "code",
   "execution_count": 58,
   "metadata": {
    "scrolled": true
   },
   "outputs": [
    {
     "name": "stdout",
     "output_type": "stream",
     "text": [
      "Difference in PPR (Bathroom) Medians per Interest Level and Overall PPR (Bathroom) Median:\n",
      "low = +$145.00 (+5%)\n",
      "medium = -$200.00 (-7%)\n",
      "high = -$550.00 (-19%)\n"
     ]
    }
   ],
   "source": [
    "print('Difference in PPR (Bathroom) Medians per Interest Level and Overall PPR (Bathroom) Median:')\n",
    "for i, p in ilvl_pprbath_medians.items():\n",
    "    delta = p - pprbath_median\n",
    "    p_delta = 100 * (p/pprbath_median - 1)\n",
    "    sign = '+' if delta >= 0 else '-'\n",
    "    print(\"{} = {}${:.2f} ({}{:.0f}%)\".format(i, sign, abs(delta), sign, abs(p_delta)))"
   ]
  },
  {
   "cell_type": "markdown",
   "metadata": {},
   "source": [
    "Giving the interest levels different integer values (ranging 0 to 1 instead of -1 to 1) enables us to take a more useful mean, and in combination with categorizing prices may allow us to see a trend in mean interest level with changing price."
   ]
  },
  {
   "cell_type": "code",
   "execution_count": 18,
   "metadata": {
    "collapsed": true
   },
   "outputs": [],
   "source": [
    "# Get integer value for interest level, with optional weights provided\n",
    "def get_ilevel_int(ilevel, weights=[-1,0,1]):\n",
    "    try:\n",
    "        if ilevel == 'high':\n",
    "            ilevel_int = weights[2]\n",
    "        elif ilevel == 'medium':\n",
    "            ilevel_int = weights[1]\n",
    "        elif ilevel == 'low':\n",
    "            ilevel_int = weights[0]\n",
    "        else:\n",
    "            ilevel_int = 0\n",
    "    except Exception as e:\n",
    "        print(e, ': ', ilevel)\n",
    "        ilevel_int=0\n",
    "    \n",
    "    return ilevel_int"
   ]
  },
  {
   "cell_type": "code",
   "execution_count": 19,
   "metadata": {
    "collapsed": true
   },
   "outputs": [],
   "source": [
    "# Column for interest level integer value, with weights of 0, 0.5 and 1 for low, medium and high\n",
    "ppr['interest_level_int_v2'] = ppr['interest_level'].apply(lambda x: get_ilevel_int(x, [0,0.5,1]))"
   ]
  },
  {
   "cell_type": "code",
   "execution_count": 20,
   "metadata": {
    "collapsed": true
   },
   "outputs": [],
   "source": [
    "def get_int_bin(value, bins):\n",
    "    try:\n",
    "        lower = bins[0]\n",
    "\n",
    "        if value < lower:\n",
    "            return lower\n",
    "\n",
    "        for i, b in enumerate(bins):\n",
    "            upper = b\n",
    "            if value <= upper:\n",
    "                return upper\n",
    "            lower = b\n",
    "\n",
    "        return upper\n",
    "    except:\n",
    "        return pd.np.NaN"
   ]
  },
  {
   "cell_type": "code",
   "execution_count": 21,
   "metadata": {},
   "outputs": [
    {
     "data": {
      "text/html": [
       "<div>\n",
       "<style>\n",
       "    .dataframe thead tr:only-child th {\n",
       "        text-align: right;\n",
       "    }\n",
       "\n",
       "    .dataframe thead th {\n",
       "        text-align: left;\n",
       "    }\n",
       "\n",
       "    .dataframe tbody tr th {\n",
       "        vertical-align: top;\n",
       "    }\n",
       "</style>\n",
       "<table border=\"1\" class=\"dataframe\">\n",
       "  <thead>\n",
       "    <tr style=\"text-align: right;\">\n",
       "      <th></th>\n",
       "      <th>bathrooms</th>\n",
       "      <th>bedrooms</th>\n",
       "      <th>interest_level</th>\n",
       "      <th>ppr</th>\n",
       "      <th>ppr_bath</th>\n",
       "      <th>ppr_bed</th>\n",
       "      <th>price</th>\n",
       "      <th>interest_level_int</th>\n",
       "      <th>interest_level_int_v2</th>\n",
       "      <th>price_bin</th>\n",
       "    </tr>\n",
       "  </thead>\n",
       "  <tbody>\n",
       "    <tr>\n",
       "      <th>0</th>\n",
       "      <td>1.5</td>\n",
       "      <td>3</td>\n",
       "      <td>medium</td>\n",
       "      <td>800</td>\n",
       "      <td>2000.0</td>\n",
       "      <td>1000</td>\n",
       "      <td>3000</td>\n",
       "      <td>0</td>\n",
       "      <td>0.5</td>\n",
       "      <td>3000</td>\n",
       "    </tr>\n",
       "    <tr>\n",
       "      <th>1</th>\n",
       "      <td>1.0</td>\n",
       "      <td>2</td>\n",
       "      <td>low</td>\n",
       "      <td>2186</td>\n",
       "      <td>5465.0</td>\n",
       "      <td>2732</td>\n",
       "      <td>5465</td>\n",
       "      <td>-1</td>\n",
       "      <td>0.0</td>\n",
       "      <td>5500</td>\n",
       "    </tr>\n",
       "    <tr>\n",
       "      <th>2</th>\n",
       "      <td>1.0</td>\n",
       "      <td>0</td>\n",
       "      <td>low</td>\n",
       "      <td>1950</td>\n",
       "      <td>1950.0</td>\n",
       "      <td>3900</td>\n",
       "      <td>1950</td>\n",
       "      <td>-1</td>\n",
       "      <td>0.0</td>\n",
       "      <td>2000</td>\n",
       "    </tr>\n",
       "    <tr>\n",
       "      <th>3</th>\n",
       "      <td>1.0</td>\n",
       "      <td>2</td>\n",
       "      <td>medium</td>\n",
       "      <td>800</td>\n",
       "      <td>2000.0</td>\n",
       "      <td>1000</td>\n",
       "      <td>2000</td>\n",
       "      <td>0</td>\n",
       "      <td>0.5</td>\n",
       "      <td>2000</td>\n",
       "    </tr>\n",
       "    <tr>\n",
       "      <th>4</th>\n",
       "      <td>1.0</td>\n",
       "      <td>1</td>\n",
       "      <td>medium</td>\n",
       "      <td>2183</td>\n",
       "      <td>3275.0</td>\n",
       "      <td>3275</td>\n",
       "      <td>3275</td>\n",
       "      <td>0</td>\n",
       "      <td>0.5</td>\n",
       "      <td>3500</td>\n",
       "    </tr>\n",
       "  </tbody>\n",
       "</table>\n",
       "</div>"
      ],
      "text/plain": [
       "   bathrooms  bedrooms interest_level   ppr  ppr_bath  ppr_bed  price  \\\n",
       "0        1.5         3         medium   800    2000.0     1000   3000   \n",
       "1        1.0         2            low  2186    5465.0     2732   5465   \n",
       "2        1.0         0            low  1950    1950.0     3900   1950   \n",
       "3        1.0         2         medium   800    2000.0     1000   2000   \n",
       "4        1.0         1         medium  2183    3275.0     3275   3275   \n",
       "\n",
       "   interest_level_int  interest_level_int_v2  price_bin  \n",
       "0                   0                    0.5       3000  \n",
       "1                  -1                    0.0       5500  \n",
       "2                  -1                    0.0       2000  \n",
       "3                   0                    0.5       2000  \n",
       "4                   0                    0.5       3500  "
      ]
     },
     "execution_count": 21,
     "metadata": {},
     "output_type": "execute_result"
    }
   ],
   "source": [
    "price_bins = list(range(0,10000, 500))\n",
    "\n",
    "ppr['price_bin'] = ppr['price'].apply(lambda x: get_int_bin(x, price_bins))\n",
    "ppr.head()"
   ]
  },
  {
   "cell_type": "code",
   "execution_count": 22,
   "metadata": {
    "collapsed": true,
    "scrolled": false
   },
   "outputs": [],
   "source": [
    "fig, axs = plt.subplots(2,1, figsize=(15,10))\n",
    "\n",
    "ppr.groupby('price_bin')['interest_level_int_v2'].size().plot.bar(align='edge', width=1, edgecolor='k', ax=axs[0])\n",
    "axs[0].set_title('Count')\n",
    "axs[0].set_xlabel('Price')\n",
    "axs[0].set_ylabel('Count')\n",
    "\n",
    "ppr.groupby('price_bin')['interest_level_int_v2'].mean().plot.bar(align='edge', width=1, edgecolor='k', ax=axs[1])\n",
    "axs[1].set_title('Mean Interest Level')\n",
    "axs[1].set_xlabel('Price')\n",
    "axs[1].set_ylabel('Mean Interest Level (0-1)')\n",
    "\n",
    "fig.suptitle('Bar Charts: Price (Binned)')\n",
    "fig.tight_layout(rect=[0, 0.03, 1, 0.95])\n",
    "\n",
    "directory = 'figures'\n",
    "file_name = 'Price Analysis_Bar Chart_Price.png'\n",
    "fig.savefig(path.join(directory, file_name))\n",
    "\n",
    "#plt.show()\n",
    "plt.close()"
   ]
  },
  {
   "cell_type": "markdown",
   "metadata": {},
   "source": [
    "![](./figures/Price Analysis_Bar Chart_Price.png)"
   ]
  },
  {
   "cell_type": "markdown",
   "metadata": {},
   "source": [
    "One can see from the bar charts above that the lower price region of 1000-2500 shows a signficantly higher mean interest level, which rapidly decays past that point."
   ]
  },
  {
   "cell_type": "code",
   "execution_count": 23,
   "metadata": {},
   "outputs": [
    {
     "data": {
      "text/html": [
       "<div>\n",
       "<style>\n",
       "    .dataframe thead tr:only-child th {\n",
       "        text-align: right;\n",
       "    }\n",
       "\n",
       "    .dataframe thead th {\n",
       "        text-align: left;\n",
       "    }\n",
       "\n",
       "    .dataframe tbody tr th {\n",
       "        vertical-align: top;\n",
       "    }\n",
       "</style>\n",
       "<table border=\"1\" class=\"dataframe\">\n",
       "  <thead>\n",
       "    <tr style=\"text-align: right;\">\n",
       "      <th></th>\n",
       "      <th>bathrooms</th>\n",
       "      <th>bedrooms</th>\n",
       "      <th>interest_level</th>\n",
       "      <th>ppr</th>\n",
       "      <th>ppr_bath</th>\n",
       "      <th>ppr_bed</th>\n",
       "      <th>price</th>\n",
       "      <th>interest_level_int</th>\n",
       "      <th>interest_level_int_v2</th>\n",
       "      <th>price_bin</th>\n",
       "      <th>ppr_bin</th>\n",
       "    </tr>\n",
       "  </thead>\n",
       "  <tbody>\n",
       "    <tr>\n",
       "      <th>0</th>\n",
       "      <td>1.5</td>\n",
       "      <td>3</td>\n",
       "      <td>medium</td>\n",
       "      <td>800</td>\n",
       "      <td>2000.0</td>\n",
       "      <td>1000</td>\n",
       "      <td>3000</td>\n",
       "      <td>0</td>\n",
       "      <td>0.5</td>\n",
       "      <td>3000</td>\n",
       "      <td>800</td>\n",
       "    </tr>\n",
       "    <tr>\n",
       "      <th>1</th>\n",
       "      <td>1.0</td>\n",
       "      <td>2</td>\n",
       "      <td>low</td>\n",
       "      <td>2186</td>\n",
       "      <td>5465.0</td>\n",
       "      <td>2732</td>\n",
       "      <td>5465</td>\n",
       "      <td>-1</td>\n",
       "      <td>0.0</td>\n",
       "      <td>5500</td>\n",
       "      <td>2200</td>\n",
       "    </tr>\n",
       "    <tr>\n",
       "      <th>2</th>\n",
       "      <td>1.0</td>\n",
       "      <td>0</td>\n",
       "      <td>low</td>\n",
       "      <td>1950</td>\n",
       "      <td>1950.0</td>\n",
       "      <td>3900</td>\n",
       "      <td>1950</td>\n",
       "      <td>-1</td>\n",
       "      <td>0.0</td>\n",
       "      <td>2000</td>\n",
       "      <td>2000</td>\n",
       "    </tr>\n",
       "    <tr>\n",
       "      <th>3</th>\n",
       "      <td>1.0</td>\n",
       "      <td>2</td>\n",
       "      <td>medium</td>\n",
       "      <td>800</td>\n",
       "      <td>2000.0</td>\n",
       "      <td>1000</td>\n",
       "      <td>2000</td>\n",
       "      <td>0</td>\n",
       "      <td>0.5</td>\n",
       "      <td>2000</td>\n",
       "      <td>800</td>\n",
       "    </tr>\n",
       "    <tr>\n",
       "      <th>4</th>\n",
       "      <td>1.0</td>\n",
       "      <td>1</td>\n",
       "      <td>medium</td>\n",
       "      <td>2183</td>\n",
       "      <td>3275.0</td>\n",
       "      <td>3275</td>\n",
       "      <td>3275</td>\n",
       "      <td>0</td>\n",
       "      <td>0.5</td>\n",
       "      <td>3500</td>\n",
       "      <td>2200</td>\n",
       "    </tr>\n",
       "  </tbody>\n",
       "</table>\n",
       "</div>"
      ],
      "text/plain": [
       "   bathrooms  bedrooms interest_level   ppr  ppr_bath  ppr_bed  price  \\\n",
       "0        1.5         3         medium   800    2000.0     1000   3000   \n",
       "1        1.0         2            low  2186    5465.0     2732   5465   \n",
       "2        1.0         0            low  1950    1950.0     3900   1950   \n",
       "3        1.0         2         medium   800    2000.0     1000   2000   \n",
       "4        1.0         1         medium  2183    3275.0     3275   3275   \n",
       "\n",
       "   interest_level_int  interest_level_int_v2  price_bin  ppr_bin  \n",
       "0                   0                    0.5       3000      800  \n",
       "1                  -1                    0.0       5500     2200  \n",
       "2                  -1                    0.0       2000     2000  \n",
       "3                   0                    0.5       2000      800  \n",
       "4                   0                    0.5       3500     2200  "
      ]
     },
     "execution_count": 23,
     "metadata": {},
     "output_type": "execute_result"
    }
   ],
   "source": [
    "ppr_bins = list(range(0,5000, 200))\n",
    "\n",
    "ppr['ppr_bin'] = ppr['ppr'].apply(lambda x: get_int_bin(x, ppr_bins))\n",
    "ppr.head()"
   ]
  },
  {
   "cell_type": "code",
   "execution_count": 24,
   "metadata": {
    "collapsed": true
   },
   "outputs": [],
   "source": [
    "fig, axs = plt.subplots(2,1, figsize=(15,10))\n",
    "\n",
    "ppr.groupby('ppr_bin')['interest_level_int_v2'].size().plot.bar(align='edge', width=1, edgecolor='k', ax=axs[0])\n",
    "axs[0].set_title('Count')\n",
    "axs[0].set_xlabel('PPR')\n",
    "axs[0].set_ylabel('Count')\n",
    "\n",
    "ppr.groupby('ppr_bin')['interest_level_int_v2'].mean().plot.bar(align='edge', width=1, edgecolor='k', ax=axs[1])\n",
    "axs[1].set_title('Mean Interest Level')\n",
    "axs[1].set_xlabel('PPR')\n",
    "axs[1].set_ylabel('Mean Interest Level (0-1)')\n",
    "\n",
    "fig.suptitle('Bar Charts: PPR (Binned)')\n",
    "fig.tight_layout(rect=[0, 0.03, 1, 0.95])\n",
    "\n",
    "directory = 'figures'\n",
    "file_name = 'Price Analysis_Bar Chart_PPR.png'\n",
    "fig.savefig(path.join(directory, file_name))\n",
    "\n",
    "#plt.show()\n",
    "plt.close()"
   ]
  },
  {
   "cell_type": "markdown",
   "metadata": {},
   "source": [
    "![](./figures/Price Analysis_Bar Chart_PPR.png)"
   ]
  },
  {
   "cell_type": "markdown",
   "metadata": {},
   "source": [
    "The same trend is observed with PPR, although the lowest PPRs should be ignored due to the low counts in the PPR range of 200-800. For the range of 800+, however, the mean interest level gradually decrease with increasing PPR."
   ]
  },
  {
   "cell_type": "markdown",
   "metadata": {},
   "source": [
    "### Analysis of Rooms"
   ]
  },
  {
   "cell_type": "markdown",
   "metadata": {},
   "source": [
    "Following the above analysis of price and rooms, it may be worthwhile to investigate the impact of the number of rooms, bedrooms, and bathrooms on the interest level. Additionally, the ratio between the types of rooms, i.e. how many bathrooms per bedroom, are also a potential factor worth exploring."
   ]
  },
  {
   "cell_type": "code",
   "execution_count": 25,
   "metadata": {},
   "outputs": [
    {
     "data": {
      "text/html": [
       "<div>\n",
       "<style>\n",
       "    .dataframe thead tr:only-child th {\n",
       "        text-align: right;\n",
       "    }\n",
       "\n",
       "    .dataframe thead th {\n",
       "        text-align: left;\n",
       "    }\n",
       "\n",
       "    .dataframe tbody tr th {\n",
       "        vertical-align: top;\n",
       "    }\n",
       "</style>\n",
       "<table border=\"1\" class=\"dataframe\">\n",
       "  <thead>\n",
       "    <tr style=\"text-align: right;\">\n",
       "      <th></th>\n",
       "      <th>bathrooms</th>\n",
       "      <th>bedrooms</th>\n",
       "      <th>interest_level</th>\n",
       "      <th>price</th>\n",
       "      <th>interest_level_int</th>\n",
       "      <th>interest_level_int_v2</th>\n",
       "      <th>price_bin</th>\n",
       "      <th>ppr_bin</th>\n",
       "    </tr>\n",
       "  </thead>\n",
       "  <tbody>\n",
       "    <tr>\n",
       "      <th>0</th>\n",
       "      <td>1.5</td>\n",
       "      <td>3</td>\n",
       "      <td>medium</td>\n",
       "      <td>3000</td>\n",
       "      <td>0</td>\n",
       "      <td>0.5</td>\n",
       "      <td>3000</td>\n",
       "      <td>800</td>\n",
       "    </tr>\n",
       "    <tr>\n",
       "      <th>1</th>\n",
       "      <td>1.0</td>\n",
       "      <td>2</td>\n",
       "      <td>low</td>\n",
       "      <td>5465</td>\n",
       "      <td>-1</td>\n",
       "      <td>0.0</td>\n",
       "      <td>5500</td>\n",
       "      <td>2200</td>\n",
       "    </tr>\n",
       "    <tr>\n",
       "      <th>2</th>\n",
       "      <td>1.0</td>\n",
       "      <td>0</td>\n",
       "      <td>low</td>\n",
       "      <td>1950</td>\n",
       "      <td>-1</td>\n",
       "      <td>0.0</td>\n",
       "      <td>2000</td>\n",
       "      <td>2000</td>\n",
       "    </tr>\n",
       "    <tr>\n",
       "      <th>3</th>\n",
       "      <td>1.0</td>\n",
       "      <td>2</td>\n",
       "      <td>medium</td>\n",
       "      <td>2000</td>\n",
       "      <td>0</td>\n",
       "      <td>0.5</td>\n",
       "      <td>2000</td>\n",
       "      <td>800</td>\n",
       "    </tr>\n",
       "    <tr>\n",
       "      <th>4</th>\n",
       "      <td>1.0</td>\n",
       "      <td>1</td>\n",
       "      <td>medium</td>\n",
       "      <td>3275</td>\n",
       "      <td>0</td>\n",
       "      <td>0.5</td>\n",
       "      <td>3500</td>\n",
       "      <td>2200</td>\n",
       "    </tr>\n",
       "  </tbody>\n",
       "</table>\n",
       "</div>"
      ],
      "text/plain": [
       "   bathrooms  bedrooms interest_level  price  interest_level_int  \\\n",
       "0        1.5         3         medium   3000                   0   \n",
       "1        1.0         2            low   5465                  -1   \n",
       "2        1.0         0            low   1950                  -1   \n",
       "3        1.0         2         medium   2000                   0   \n",
       "4        1.0         1         medium   3275                   0   \n",
       "\n",
       "   interest_level_int_v2  price_bin  ppr_bin  \n",
       "0                    0.5       3000      800  \n",
       "1                    0.0       5500     2200  \n",
       "2                    0.0       2000     2000  \n",
       "3                    0.5       2000      800  \n",
       "4                    0.5       3500     2200  "
      ]
     },
     "execution_count": 25,
     "metadata": {},
     "output_type": "execute_result"
    }
   ],
   "source": [
    "# Set up new rooms dataframe\n",
    "rooms = ppr.drop(['ppr','ppr_bath','ppr_bed'], axis=1).copy()\n",
    "rooms.head()"
   ]
  },
  {
   "cell_type": "code",
   "execution_count": 26,
   "metadata": {
    "collapsed": true
   },
   "outputs": [],
   "source": [
    "def n_rooms(n_bed, n_bath, add=False):\n",
    "    '''\n",
    "    Returns the total number of rooms using the counts of bathrooms and bedrooms.\n",
    "    \n",
    "    Following assumptions are made:\n",
    "        - Bedrooms are worth 1 room\n",
    "        - Bathrooms are worth 0.5 rooms\n",
    "        - If add paremeter = True, an additional room is added to the total.\n",
    "          This assumes that for studios (n_bed = 0) we still want to count the 1 room,\n",
    "          and for regular apartments (not studios) there must be at least one other room (i.e. living area)\n",
    "    '''\n",
    "    if add:\n",
    "        # Pads count with additional room, which assumes if we have 1 bedroom specified (i.e. not a studio), there is at least one more room in the property.\n",
    "        n = n_bed + n_bath/2 + 1\n",
    "    else:\n",
    "        n = n_bed + n_bath/2\n",
    "    \n",
    "    return n"
   ]
  },
  {
   "cell_type": "code",
   "execution_count": 27,
   "metadata": {
    "collapsed": true
   },
   "outputs": [],
   "source": [
    "def bath_per_bed(n_bed, n_bath):\n",
    "    \n",
    "    # Account for studios which technically still have 1 bedroom\n",
    "    if n_bed == 0:\n",
    "        n_bed = 1\n",
    "    \n",
    "    r = n_bath / n_bed\n",
    "    \n",
    "    return r"
   ]
  },
  {
   "cell_type": "code",
   "execution_count": 28,
   "metadata": {},
   "outputs": [
    {
     "data": {
      "text/html": [
       "<div>\n",
       "<style>\n",
       "    .dataframe thead tr:only-child th {\n",
       "        text-align: right;\n",
       "    }\n",
       "\n",
       "    .dataframe thead th {\n",
       "        text-align: left;\n",
       "    }\n",
       "\n",
       "    .dataframe tbody tr th {\n",
       "        vertical-align: top;\n",
       "    }\n",
       "</style>\n",
       "<table border=\"1\" class=\"dataframe\">\n",
       "  <thead>\n",
       "    <tr style=\"text-align: right;\">\n",
       "      <th></th>\n",
       "      <th>bathrooms</th>\n",
       "      <th>bedrooms</th>\n",
       "      <th>interest_level</th>\n",
       "      <th>price</th>\n",
       "      <th>interest_level_int</th>\n",
       "      <th>interest_level_int_v2</th>\n",
       "      <th>price_bin</th>\n",
       "      <th>ppr_bin</th>\n",
       "      <th>n_rooms</th>\n",
       "      <th>bath_per_bed</th>\n",
       "    </tr>\n",
       "  </thead>\n",
       "  <tbody>\n",
       "    <tr>\n",
       "      <th>0</th>\n",
       "      <td>1.5</td>\n",
       "      <td>3</td>\n",
       "      <td>medium</td>\n",
       "      <td>3000</td>\n",
       "      <td>0</td>\n",
       "      <td>0.5</td>\n",
       "      <td>3000</td>\n",
       "      <td>800</td>\n",
       "      <td>4.75</td>\n",
       "      <td>0.5</td>\n",
       "    </tr>\n",
       "    <tr>\n",
       "      <th>1</th>\n",
       "      <td>1.0</td>\n",
       "      <td>2</td>\n",
       "      <td>low</td>\n",
       "      <td>5465</td>\n",
       "      <td>-1</td>\n",
       "      <td>0.0</td>\n",
       "      <td>5500</td>\n",
       "      <td>2200</td>\n",
       "      <td>3.50</td>\n",
       "      <td>0.5</td>\n",
       "    </tr>\n",
       "    <tr>\n",
       "      <th>2</th>\n",
       "      <td>1.0</td>\n",
       "      <td>0</td>\n",
       "      <td>low</td>\n",
       "      <td>1950</td>\n",
       "      <td>-1</td>\n",
       "      <td>0.0</td>\n",
       "      <td>2000</td>\n",
       "      <td>2000</td>\n",
       "      <td>1.50</td>\n",
       "      <td>1.0</td>\n",
       "    </tr>\n",
       "    <tr>\n",
       "      <th>3</th>\n",
       "      <td>1.0</td>\n",
       "      <td>2</td>\n",
       "      <td>medium</td>\n",
       "      <td>2000</td>\n",
       "      <td>0</td>\n",
       "      <td>0.5</td>\n",
       "      <td>2000</td>\n",
       "      <td>800</td>\n",
       "      <td>3.50</td>\n",
       "      <td>0.5</td>\n",
       "    </tr>\n",
       "    <tr>\n",
       "      <th>4</th>\n",
       "      <td>1.0</td>\n",
       "      <td>1</td>\n",
       "      <td>medium</td>\n",
       "      <td>3275</td>\n",
       "      <td>0</td>\n",
       "      <td>0.5</td>\n",
       "      <td>3500</td>\n",
       "      <td>2200</td>\n",
       "      <td>2.50</td>\n",
       "      <td>1.0</td>\n",
       "    </tr>\n",
       "  </tbody>\n",
       "</table>\n",
       "</div>"
      ],
      "text/plain": [
       "   bathrooms  bedrooms interest_level  price  interest_level_int  \\\n",
       "0        1.5         3         medium   3000                   0   \n",
       "1        1.0         2            low   5465                  -1   \n",
       "2        1.0         0            low   1950                  -1   \n",
       "3        1.0         2         medium   2000                   0   \n",
       "4        1.0         1         medium   3275                   0   \n",
       "\n",
       "   interest_level_int_v2  price_bin  ppr_bin  n_rooms  bath_per_bed  \n",
       "0                    0.5       3000      800     4.75           0.5  \n",
       "1                    0.0       5500     2200     3.50           0.5  \n",
       "2                    0.0       2000     2000     1.50           1.0  \n",
       "3                    0.5       2000      800     3.50           0.5  \n",
       "4                    0.5       3500     2200     2.50           1.0  "
      ]
     },
     "execution_count": 28,
     "metadata": {},
     "output_type": "execute_result"
    }
   ],
   "source": [
    "# Create new columns for number of rooms and bath to bed ratio\n",
    "rooms['n_rooms'] = rooms.apply(lambda x: n_rooms(x['bedrooms'], x['bathrooms'], True), axis=1)\n",
    "rooms['bath_per_bed'] = rooms.apply(lambda x: bath_per_bed(x['bedrooms'], x['bathrooms']), axis=1)\n",
    "\n",
    "rooms.head()"
   ]
  },
  {
   "cell_type": "markdown",
   "metadata": {},
   "source": [
    "Performing a parallel coordinates plot with 1000 samples (for performance reasons) to see if any immediate patterns / disctinctions emerge:"
   ]
  },
  {
   "cell_type": "code",
   "execution_count": 29,
   "metadata": {
    "collapsed": true,
    "scrolled": false
   },
   "outputs": [],
   "source": [
    "fig, axs = plt.subplots(1,3, sharey=True)\n",
    "\n",
    "ilvls = ['low', 'medium', 'high']\n",
    "\n",
    "cols = ['interest_level', 'bathrooms', 'bedrooms', 'n_rooms', 'bath_per_bed']\n",
    "\n",
    "colors = ['r', 'y', 'g']\n",
    "\n",
    "for ax, ilvl, color in zip(axs,ilvls,colors):\n",
    "    sample = rooms[rooms['interest_level'] == ilvl][cols].sample(1000)\n",
    "    parallel_coordinates(sample, 'interest_level', ax=ax, color=color, alpha=0.2, linewidth=1)\n",
    "    \n",
    "    ax.yaxis.grid(True)\n",
    "    \n",
    "    for tick in ax.get_xticklabels():\n",
    "        tick.set_rotation(45)\n",
    "    \n",
    "fig.set_size_inches(15,7)\n",
    "plt.suptitle('Parallel Plot: Room Counts & Ratios per Interest Level')\n",
    "\n",
    "directory = 'figures'\n",
    "file_name = 'Room Analysis_Parallel Plot_Rooms.png'\n",
    "fig.savefig(path.join(directory, file_name))\n",
    "\n",
    "plt.close()"
   ]
  },
  {
   "cell_type": "markdown",
   "metadata": {},
   "source": [
    "![](./figures/Price Analysis_Parallel Plot_Rooms.png)"
   ]
  },
  {
   "cell_type": "markdown",
   "metadata": {},
   "source": [
    "Alternative visualization with a heatmap of a bedrooms vs. bathrooms cross tabulation to see which may be more popular in each interest level category:"
   ]
  },
  {
   "cell_type": "code",
   "execution_count": 30,
   "metadata": {
    "collapsed": true,
    "scrolled": false
   },
   "outputs": [],
   "source": [
    "fig, axs = plt.subplots(1, 3, figsize=(15,4), sharey=True, sharex=True)\n",
    "\n",
    "bed_x_bath = {}\n",
    "\n",
    "for ilvl, ax in zip(['low', 'medium', 'high'], axs):\n",
    "    ilvl_subset = rooms[rooms['interest_level'] == ilvl]\n",
    "    bed_x_bath[ilvl] = pd.crosstab(ilvl_subset['bedrooms'], ilvl_subset['bathrooms'])\n",
    "    sns.heatmap(bed_x_bath[ilvl], cmap='GnBu', ax=ax)\n",
    "    ax.set_title('Interest Level = {}'.format(ilvl), fontsize=14)\n",
    "\n",
    "fig.suptitle('Heatmap: Bedrooms vs. Bathrooms per Interest Level')\n",
    "fig.tight_layout(rect=[0, 0.03, 1, 0.95])\n",
    "\n",
    "directory = 'figures'\n",
    "file_name = 'Room Analysis_Heatmap_Bed Bath Interest Level.png'\n",
    "fig.savefig(path.join(directory, file_name))\n",
    "\n",
    "plt.close()"
   ]
  },
  {
   "cell_type": "markdown",
   "metadata": {},
   "source": [
    "![](./figures/Room Analysis_Corr Plot_Bed Bath Interest Level.png)"
   ]
  },
  {
   "cell_type": "markdown",
   "metadata": {},
   "source": [
    "From above, we can see that high interest level strongly favors 2 bedroom - 1 bathroom apartments. However, we can see an abundance of 0-2 bedroom - 1 bathroom combinations across all interest levels. Due to proportion difference in high vs. low interest level properties, it may be worth trying a few more similar correspondence plots with percentages/weighted values vs. plain counts."
   ]
  },
  {
   "cell_type": "markdown",
   "metadata": {},
   "source": [
    "The following looks at the total count of each bedrooms - bathroom combination, compared with the percentage of high level interest properties in each:"
   ]
  },
  {
   "cell_type": "code",
   "execution_count": 71,
   "metadata": {},
   "outputs": [],
   "source": [
    "bed_x_bath = pd.crosstab(rooms['bedrooms'],rooms['bathrooms'])\n",
    "\n",
    "p_bed_x_bath = pd.crosstab(rooms[rooms['interest_level'] == 'high']['bedrooms'],\\\n",
    "                           rooms[rooms['interest_level'] == 'high']['bathrooms'])\n",
    "\n",
    "p_bed_x_bath.fillna(0, inplace=True)\n",
    "\n",
    "fig, axs = plt.subplots(1,2)\n",
    "fig.set_size_inches(15,5)\n",
    "\n",
    "sns.heatmap(bed_x_bath, cmap='GnBu', ax=axs[0])\n",
    "axs[0].set_title('Total Counts')\n",
    "\n",
    "sns.heatmap(p_bed_x_bath, cmap='GnBu', ax=axs[1])\n",
    "axs[1].set_title('High Interest Count')\n",
    "\n",
    "fig.suptitle('Heatmap: Bedrooms vs. Bathrooms')\n",
    "fig.tight_layout(rect=[0, 0.03, 1, 0.95])\n",
    "\n",
    "directory = 'figures'\n",
    "file_name = 'Room Analysis_Heatmap_Bed Bath High Interest Count.png'\n",
    "fig.savefig(path.join(directory, file_name))\n",
    "\n",
    "plt.close()"
   ]
  },
  {
   "cell_type": "markdown",
   "metadata": {},
   "source": [
    "![](./figures/Room Analysis_Corr Plot_Bed Bath High Interest Perc.png)"
   ]
  },
  {
   "cell_type": "code",
   "execution_count": 32,
   "metadata": {},
   "outputs": [
    {
     "data": {
      "text/html": [
       "<div>\n",
       "<style>\n",
       "    .dataframe thead tr:only-child th {\n",
       "        text-align: right;\n",
       "    }\n",
       "\n",
       "    .dataframe thead th {\n",
       "        text-align: left;\n",
       "    }\n",
       "\n",
       "    .dataframe tbody tr th {\n",
       "        vertical-align: top;\n",
       "    }\n",
       "</style>\n",
       "<table border=\"1\" class=\"dataframe\">\n",
       "  <thead>\n",
       "    <tr style=\"text-align: right;\">\n",
       "      <th></th>\n",
       "      <th>count</th>\n",
       "      <th>p</th>\n",
       "    </tr>\n",
       "    <tr>\n",
       "      <th>interest_level</th>\n",
       "      <th></th>\n",
       "      <th></th>\n",
       "    </tr>\n",
       "  </thead>\n",
       "  <tbody>\n",
       "    <tr>\n",
       "      <th>low</th>\n",
       "      <td>34228</td>\n",
       "      <td>0.694</td>\n",
       "    </tr>\n",
       "    <tr>\n",
       "      <th>medium</th>\n",
       "      <td>11225</td>\n",
       "      <td>0.228</td>\n",
       "    </tr>\n",
       "    <tr>\n",
       "      <th>high</th>\n",
       "      <td>3835</td>\n",
       "      <td>0.078</td>\n",
       "    </tr>\n",
       "  </tbody>\n",
       "</table>\n",
       "</div>"
      ],
      "text/plain": [
       "                count      p\n",
       "interest_level              \n",
       "low             34228  0.694\n",
       "medium          11225  0.228\n",
       "high             3835  0.078"
      ]
     },
     "execution_count": 32,
     "metadata": {},
     "output_type": "execute_result"
    }
   ],
   "source": [
    "p_ilvl = data.groupby('interest_level')['listing_id'].count().reset_index().set_index('interest_level')\n",
    "p_ilvl.rename(columns={'listing_id':'count'}, inplace=True)\n",
    "p_ilvl.sort_values('count', ascending=False, inplace=True)\n",
    "\n",
    "# Calculate fraction of total\n",
    "p_ilvl[['p']] = round(p_ilvl.divide(p_ilvl.sum()),3)\n",
    "\n",
    "p_ilvl"
   ]
  },
  {
   "cell_type": "markdown",
   "metadata": {},
   "source": [
    "Whilst there are several somewhat significant (i.e. > 10%) combnations in the high interest plot, one must not that with the instances of 1 bed - 3 bath and 3 bed - 4 bath, these are not the most common combinations when looking at the totals and so one should be wary in drawing conclusions from those.\n",
    "\n",
    "However, in the 0 bedroom - 1 bathroom, 2-4 bedroom - 1 bathroom, and the 3-4 bedroom - 2 bathroom range, there is a significant number of total listings, with signficant proportions being high interest relative to other combinations. Considering our overall percentage of high interest listings is about 7% of the total data set, the listings in these ranges comprise a significantly larger proportion with approx. 10-12% being high interest."
   ]
  },
  {
   "cell_type": "markdown",
   "metadata": {},
   "source": [
    "Alternative approach to above is to use the integer values assigned to interest level. This has the advantage of immediately showing where there may be a bias towards high interest."
   ]
  },
  {
   "cell_type": "code",
   "execution_count": 33,
   "metadata": {
    "collapsed": true
   },
   "outputs": [],
   "source": [
    "bed_x_bath = rooms.groupby(['bedrooms','bathrooms'])['interest_level_int'].sum().unstack()\n",
    "\n",
    "plt.figure(figsize=(9,5))\n",
    "\n",
    "ax = sns.heatmap(bed_x_bath, cmap='GnBu')\n",
    "\n",
    "ax.set_title('Heatmap: Bedrooms vs. Bathrooms - Interest Level Sum')\n",
    "\n",
    "plt.tight_layout()\n",
    "\n",
    "directory = 'figures'\n",
    "file_name = 'Room Analysis_Corr Plot_Bed Bath Interest Sum.png'\n",
    "plt.savefig(path.join(directory, file_name))\n",
    "\n",
    "plt.close()"
   ]
  },
  {
   "cell_type": "markdown",
   "metadata": {},
   "source": [
    "![](./figures/Room Analysis_Corr Plot_Bed Bath Interest Sum.png)"
   ]
  },
  {
   "cell_type": "markdown",
   "metadata": {},
   "source": [
    "Due to the overwhelming number of low interest listings, the above plot ranges into the negative for a sum. Those with the least negative have a higher proportion of high interest.\n",
    "\n",
    "To account for the rareness of high interest level, the values will be weighted (according to the inverse of their proportion) to give the occurance of a high interest listing more visibility."
   ]
  },
  {
   "cell_type": "code",
   "execution_count": 34,
   "metadata": {},
   "outputs": [
    {
     "data": {
      "text/html": [
       "<div>\n",
       "<style>\n",
       "    .dataframe thead tr:only-child th {\n",
       "        text-align: right;\n",
       "    }\n",
       "\n",
       "    .dataframe thead th {\n",
       "        text-align: left;\n",
       "    }\n",
       "\n",
       "    .dataframe tbody tr th {\n",
       "        vertical-align: top;\n",
       "    }\n",
       "</style>\n",
       "<table border=\"1\" class=\"dataframe\">\n",
       "  <thead>\n",
       "    <tr style=\"text-align: right;\">\n",
       "      <th>bathrooms</th>\n",
       "      <th>0.0</th>\n",
       "      <th>1.0</th>\n",
       "      <th>1.5</th>\n",
       "      <th>2.0</th>\n",
       "      <th>2.5</th>\n",
       "      <th>3.0</th>\n",
       "      <th>3.5</th>\n",
       "      <th>4.0</th>\n",
       "      <th>4.5</th>\n",
       "      <th>5.0</th>\n",
       "      <th>5.5</th>\n",
       "      <th>6.0</th>\n",
       "      <th>6.5</th>\n",
       "      <th>7.0</th>\n",
       "      <th>10.0</th>\n",
       "    </tr>\n",
       "    <tr>\n",
       "      <th>bedrooms</th>\n",
       "      <th></th>\n",
       "      <th></th>\n",
       "      <th></th>\n",
       "      <th></th>\n",
       "      <th></th>\n",
       "      <th></th>\n",
       "      <th></th>\n",
       "      <th></th>\n",
       "      <th></th>\n",
       "      <th></th>\n",
       "      <th></th>\n",
       "      <th></th>\n",
       "      <th></th>\n",
       "      <th></th>\n",
       "      <th></th>\n",
       "    </tr>\n",
       "  </thead>\n",
       "  <tbody>\n",
       "    <tr>\n",
       "      <th>0</th>\n",
       "      <td>-201.876894</td>\n",
       "      <td>1698.182221</td>\n",
       "      <td>-12.968300</td>\n",
       "      <td>-21.761620</td>\n",
       "      <td>NaN</td>\n",
       "      <td>NaN</td>\n",
       "      <td>NaN</td>\n",
       "      <td>-1.440922</td>\n",
       "      <td>NaN</td>\n",
       "      <td>NaN</td>\n",
       "      <td>NaN</td>\n",
       "      <td>NaN</td>\n",
       "      <td>NaN</td>\n",
       "      <td>NaN</td>\n",
       "      <td>NaN</td>\n",
       "    </tr>\n",
       "    <tr>\n",
       "      <th>1</th>\n",
       "      <td>-103.746398</td>\n",
       "      <td>-4272.186507</td>\n",
       "      <td>-220.461095</td>\n",
       "      <td>-173.797384</td>\n",
       "      <td>-2.881844</td>\n",
       "      <td>9.790882</td>\n",
       "      <td>NaN</td>\n",
       "      <td>NaN</td>\n",
       "      <td>-1.440922</td>\n",
       "      <td>NaN</td>\n",
       "      <td>NaN</td>\n",
       "      <td>NaN</td>\n",
       "      <td>NaN</td>\n",
       "      <td>NaN</td>\n",
       "      <td>NaN</td>\n",
       "    </tr>\n",
       "    <tr>\n",
       "      <th>2</th>\n",
       "      <td>-85.014409</td>\n",
       "      <td>6002.290697</td>\n",
       "      <td>-289.625360</td>\n",
       "      <td>-2814.749132</td>\n",
       "      <td>-125.360231</td>\n",
       "      <td>-51.873199</td>\n",
       "      <td>-1.440922</td>\n",
       "      <td>NaN</td>\n",
       "      <td>NaN</td>\n",
       "      <td>NaN</td>\n",
       "      <td>NaN</td>\n",
       "      <td>NaN</td>\n",
       "      <td>NaN</td>\n",
       "      <td>NaN</td>\n",
       "      <td>-1.440922</td>\n",
       "    </tr>\n",
       "    <tr>\n",
       "      <th>3</th>\n",
       "      <td>-30.259366</td>\n",
       "      <td>1978.829528</td>\n",
       "      <td>-265.129683</td>\n",
       "      <td>-78.105372</td>\n",
       "      <td>-204.610951</td>\n",
       "      <td>-587.194266</td>\n",
       "      <td>-47.550432</td>\n",
       "      <td>6.909037</td>\n",
       "      <td>NaN</td>\n",
       "      <td>NaN</td>\n",
       "      <td>NaN</td>\n",
       "      <td>NaN</td>\n",
       "      <td>NaN</td>\n",
       "      <td>NaN</td>\n",
       "      <td>NaN</td>\n",
       "    </tr>\n",
       "    <tr>\n",
       "      <th>4</th>\n",
       "      <td>-2.881844</td>\n",
       "      <td>67.464716</td>\n",
       "      <td>-74.927954</td>\n",
       "      <td>470.922929</td>\n",
       "      <td>-54.755043</td>\n",
       "      <td>-78.844307</td>\n",
       "      <td>-47.550432</td>\n",
       "      <td>-92.514594</td>\n",
       "      <td>-30.259366</td>\n",
       "      <td>-18.731988</td>\n",
       "      <td>-4.322767</td>\n",
       "      <td>NaN</td>\n",
       "      <td>NaN</td>\n",
       "      <td>NaN</td>\n",
       "      <td>NaN</td>\n",
       "    </tr>\n",
       "    <tr>\n",
       "      <th>5</th>\n",
       "      <td>NaN</td>\n",
       "      <td>-14.409222</td>\n",
       "      <td>-7.204611</td>\n",
       "      <td>-155.915170</td>\n",
       "      <td>-5.763689</td>\n",
       "      <td>-51.873199</td>\n",
       "      <td>-4.322767</td>\n",
       "      <td>-56.195965</td>\n",
       "      <td>-8.645533</td>\n",
       "      <td>-8.645533</td>\n",
       "      <td>-2.881844</td>\n",
       "      <td>-4.322767</td>\n",
       "      <td>NaN</td>\n",
       "      <td>-1.440922</td>\n",
       "      <td>NaN</td>\n",
       "    </tr>\n",
       "    <tr>\n",
       "      <th>6</th>\n",
       "      <td>NaN</td>\n",
       "      <td>-1.440922</td>\n",
       "      <td>-1.440922</td>\n",
       "      <td>-15.850144</td>\n",
       "      <td>-1.440922</td>\n",
       "      <td>-23.054755</td>\n",
       "      <td>NaN</td>\n",
       "      <td>-17.291066</td>\n",
       "      <td>NaN</td>\n",
       "      <td>NaN</td>\n",
       "      <td>NaN</td>\n",
       "      <td>-1.440922</td>\n",
       "      <td>NaN</td>\n",
       "      <td>NaN</td>\n",
       "      <td>NaN</td>\n",
       "    </tr>\n",
       "    <tr>\n",
       "      <th>7</th>\n",
       "      <td>NaN</td>\n",
       "      <td>NaN</td>\n",
       "      <td>NaN</td>\n",
       "      <td>NaN</td>\n",
       "      <td>NaN</td>\n",
       "      <td>0.000000</td>\n",
       "      <td>NaN</td>\n",
       "      <td>NaN</td>\n",
       "      <td>NaN</td>\n",
       "      <td>NaN</td>\n",
       "      <td>NaN</td>\n",
       "      <td>NaN</td>\n",
       "      <td>-1.440922</td>\n",
       "      <td>NaN</td>\n",
       "      <td>NaN</td>\n",
       "    </tr>\n",
       "    <tr>\n",
       "      <th>8</th>\n",
       "      <td>NaN</td>\n",
       "      <td>NaN</td>\n",
       "      <td>NaN</td>\n",
       "      <td>NaN</td>\n",
       "      <td>NaN</td>\n",
       "      <td>-1.440922</td>\n",
       "      <td>NaN</td>\n",
       "      <td>-1.440922</td>\n",
       "      <td>NaN</td>\n",
       "      <td>NaN</td>\n",
       "      <td>NaN</td>\n",
       "      <td>NaN</td>\n",
       "      <td>NaN</td>\n",
       "      <td>NaN</td>\n",
       "      <td>NaN</td>\n",
       "    </tr>\n",
       "  </tbody>\n",
       "</table>\n",
       "</div>"
      ],
      "text/plain": [
       "bathrooms        0.0          1.0         1.5          2.0         2.5   \\\n",
       "bedrooms                                                                  \n",
       "0         -201.876894  1698.182221  -12.968300   -21.761620         NaN   \n",
       "1         -103.746398 -4272.186507 -220.461095  -173.797384   -2.881844   \n",
       "2          -85.014409  6002.290697 -289.625360 -2814.749132 -125.360231   \n",
       "3          -30.259366  1978.829528 -265.129683   -78.105372 -204.610951   \n",
       "4           -2.881844    67.464716  -74.927954   470.922929  -54.755043   \n",
       "5                 NaN   -14.409222   -7.204611  -155.915170   -5.763689   \n",
       "6                 NaN    -1.440922   -1.440922   -15.850144   -1.440922   \n",
       "7                 NaN          NaN         NaN          NaN         NaN   \n",
       "8                 NaN          NaN         NaN          NaN         NaN   \n",
       "\n",
       "bathrooms        3.0        3.5        4.0        4.5        5.0       5.5   \\\n",
       "bedrooms                                                                      \n",
       "0                 NaN        NaN  -1.440922        NaN        NaN       NaN   \n",
       "1            9.790882        NaN        NaN  -1.440922        NaN       NaN   \n",
       "2          -51.873199  -1.440922        NaN        NaN        NaN       NaN   \n",
       "3         -587.194266 -47.550432   6.909037        NaN        NaN       NaN   \n",
       "4          -78.844307 -47.550432 -92.514594 -30.259366 -18.731988 -4.322767   \n",
       "5          -51.873199  -4.322767 -56.195965  -8.645533  -8.645533 -2.881844   \n",
       "6          -23.054755        NaN -17.291066        NaN        NaN       NaN   \n",
       "7            0.000000        NaN        NaN        NaN        NaN       NaN   \n",
       "8           -1.440922        NaN  -1.440922        NaN        NaN       NaN   \n",
       "\n",
       "bathrooms      6.0       6.5       7.0       10.0  \n",
       "bedrooms                                           \n",
       "0               NaN       NaN       NaN       NaN  \n",
       "1               NaN       NaN       NaN       NaN  \n",
       "2               NaN       NaN       NaN -1.440922  \n",
       "3               NaN       NaN       NaN       NaN  \n",
       "4               NaN       NaN       NaN       NaN  \n",
       "5         -4.322767       NaN -1.440922       NaN  \n",
       "6         -1.440922       NaN       NaN       NaN  \n",
       "7               NaN -1.440922       NaN       NaN  \n",
       "8               NaN       NaN       NaN       NaN  "
      ]
     },
     "execution_count": 34,
     "metadata": {},
     "output_type": "execute_result"
    }
   ],
   "source": [
    "rooms['interest_level_intw'] = rooms.apply(lambda x: x['interest_level_int'] / p_ilvl['p'][x['interest_level']], axis=1)\n",
    "\n",
    "bed_x_bath_w = rooms.groupby(['bedrooms','bathrooms'])['interest_level_intw'].sum().unstack()\n",
    "\n",
    "bed_x_bath_w"
   ]
  },
  {
   "cell_type": "code",
   "execution_count": 35,
   "metadata": {
    "collapsed": true,
    "scrolled": false
   },
   "outputs": [],
   "source": [
    "plt.figure(figsize=(9,5))\n",
    "\n",
    "ax = sns.heatmap(bed_x_bath_w, cmap='GnBu')\n",
    "\n",
    "ax.set_title('Heatmap: Bedrooms vs. Bathrooms - Interest Level Sum (Weighted)')\n",
    "\n",
    "plt.tight_layout()\n",
    "\n",
    "directory = 'figures'\n",
    "file_name = 'Room Analysis_Corr Plot_Bed Bath Interest Sum W.png'\n",
    "plt.savefig(path.join(directory, file_name))\n",
    "\n",
    "plt.close()"
   ]
  },
  {
   "cell_type": "markdown",
   "metadata": {},
   "source": [
    "![](./figures/Room Analysis_Corr Plot_Bed Bath Interest Sum W.png)"
   ]
  },
  {
   "cell_type": "markdown",
   "metadata": {},
   "source": [
    "The above figure provides a more intuitive picture, with the combination of 2-3 bedrooms & 1 bathrooms being highlighted as the most succesful types of apartments."
   ]
  },
  {
   "cell_type": "code",
   "execution_count": 78,
   "metadata": {},
   "outputs": [],
   "source": [
    "bedbath_mean_ilvl = rooms.drop(12089).groupby(['bedrooms','bathrooms'])['interest_level_int_v2'].mean().unstack().fillna(0)\n",
    "\n",
    "plt.figure(figsize=(9,5))\n",
    "\n",
    "ax = sns.heatmap(bedbath_mean_ilvl, cmap='GnBu')\n",
    "\n",
    "ax.set_title('Heatmap: Bedrooms vs. Bathrooms - Mean Interest Level')\n",
    "\n",
    "directory = 'figures'\n",
    "file_name = 'Room Analysis_Heatmap_Bed Bath Interest Mean.png'\n",
    "plt.savefig(path.join(directory, file_name))\n",
    "\n",
    "plt.close()"
   ]
  },
  {
   "cell_type": "markdown",
   "metadata": {},
   "source": [
    "![](./figures/Room Analysis_Heatmap_Bed Bath Interest Mean.png)"
   ]
  },
  {
   "cell_type": "code",
   "execution_count": 37,
   "metadata": {
    "scrolled": true
   },
   "outputs": [
    {
     "name": "stdout",
     "output_type": "stream",
     "text": [
      "Mean Interest Level = 0.19\n"
     ]
    }
   ],
   "source": [
    "mean_ilvl = rooms['interest_level_int_v2'].mean()\n",
    "print('Mean Interest Level = {:.2f}'.format(mean_ilvl))"
   ]
  },
  {
   "cell_type": "markdown",
   "metadata": {},
   "source": [
    "The key difference with the plot above is medium interest now has an impact on counteracting the low interest values. As a result, the most succesful areas are now in the 2-3 bedroom - 1 bathroom range, as well as the 3-4 bedrooms - 2 bathroom range, in which the overall mean interest level of 0.19 is exceeded. \n",
    "\n",
    "The question of which plot is of more use or is more accurate is really dependent on how much one thinks medium interest properties are valued. The sum of the (-1, 0, 1) values ignores medium interest, and prioritizes the balance of high vs. low interest, whereas the mean interest level gives weight to medium interest. Additionally, a different weight can be given to medium interest (vs. 0.5) depending on how much impact we want medium interest properties to have on the mean/sum.\n",
    "\n",
    "Note that a 7 bedrooms - 3 bathrooms outlier was dropped since it interfered with the color scheme with its much higher average of 0.5:"
   ]
  },
  {
   "cell_type": "code",
   "execution_count": 38,
   "metadata": {
    "scrolled": true
   },
   "outputs": [
    {
     "data": {
      "text/html": [
       "<div>\n",
       "<style>\n",
       "    .dataframe thead tr:only-child th {\n",
       "        text-align: right;\n",
       "    }\n",
       "\n",
       "    .dataframe thead th {\n",
       "        text-align: left;\n",
       "    }\n",
       "\n",
       "    .dataframe tbody tr th {\n",
       "        vertical-align: top;\n",
       "    }\n",
       "</style>\n",
       "<table border=\"1\" class=\"dataframe\">\n",
       "  <thead>\n",
       "    <tr style=\"text-align: right;\">\n",
       "      <th></th>\n",
       "      <th>bathrooms</th>\n",
       "      <th>bedrooms</th>\n",
       "      <th>interest_level</th>\n",
       "      <th>price</th>\n",
       "      <th>interest_level_int</th>\n",
       "      <th>interest_level_int_v2</th>\n",
       "      <th>price_bin</th>\n",
       "      <th>ppr_bin</th>\n",
       "      <th>n_rooms</th>\n",
       "      <th>bath_per_bed</th>\n",
       "      <th>interest_level_intw</th>\n",
       "    </tr>\n",
       "  </thead>\n",
       "  <tbody>\n",
       "    <tr>\n",
       "      <th>12089</th>\n",
       "      <td>3.0</td>\n",
       "      <td>7</td>\n",
       "      <td>medium</td>\n",
       "      <td>6923</td>\n",
       "      <td>0</td>\n",
       "      <td>0.5</td>\n",
       "      <td>7000</td>\n",
       "      <td>1000</td>\n",
       "      <td>9.5</td>\n",
       "      <td>0.428571</td>\n",
       "      <td>0.0</td>\n",
       "    </tr>\n",
       "  </tbody>\n",
       "</table>\n",
       "</div>"
      ],
      "text/plain": [
       "       bathrooms  bedrooms interest_level  price  interest_level_int  \\\n",
       "12089        3.0         7         medium   6923                   0   \n",
       "\n",
       "       interest_level_int_v2  price_bin  ppr_bin  n_rooms  bath_per_bed  \\\n",
       "12089                    0.5       7000     1000      9.5      0.428571   \n",
       "\n",
       "       interest_level_intw  \n",
       "12089                  0.0  "
      ]
     },
     "execution_count": 38,
     "metadata": {},
     "output_type": "execute_result"
    }
   ],
   "source": [
    "rooms[(rooms['bedrooms']==7) & (rooms['bathrooms']==3)]"
   ]
  },
  {
   "cell_type": "markdown",
   "metadata": {},
   "source": [
    "Alternative view utilizing different weights (ignores medium):"
   ]
  },
  {
   "cell_type": "code",
   "execution_count": null,
   "metadata": {
    "collapsed": true
   },
   "outputs": [],
   "source": [
    "rooms['interest_level_int_v3'] = rooms['interest_level'].apply(lambda x: get_ilevel_int(x, [0,0,1]))"
   ]
  },
  {
   "cell_type": "code",
   "execution_count": 79,
   "metadata": {
    "scrolled": true
   },
   "outputs": [
    {
     "data": {
      "image/png": "[encoded data removed]",
      "text/plain": [
       "<matplotlib.figure.Figure at 0x265ce6f73c8>"
      ]
     },
     "metadata": {},
     "output_type": "display_data"
    }
   ],
   "source": [
    "rooms['interest_level_int_v3'] = rooms['interest_level'].apply(lambda x: get_ilevel_int(x, [0,0,1]))\n",
    "\n",
    "bedbath_mean_ilvl = rooms.drop(12089).groupby(['bedrooms','bathrooms'])['interest_level_int_v3'].mean().unstack().fillna(0)\n",
    "\n",
    "plt.figure(figsize=(9,5))\n",
    "\n",
    "ax = sns.heatmap(bedbath_mean_ilvl, cmap='GnBu')\n",
    "\n",
    "ax.set_title('Heatmap: Bedrooms vs. Bathrooms - Mean Interest Level')\n",
    "\n",
    "directory = 'figures'\n",
    "file_name = 'Room Analysis_Heatmap_Bed Bath Interest Mean v2.png'\n",
    "plt.savefig(path.join(directory, file_name))\n",
    "\n",
    "plt.show()"
   ]
  },
  {
   "cell_type": "code",
   "execution_count": 81,
   "metadata": {
    "scrolled": true
   },
   "outputs": [
    {
     "name": "stdout",
     "output_type": "stream",
     "text": [
      "Mean Interest Level = 0.08\n"
     ]
    }
   ],
   "source": [
    "mean_ilvl = rooms['interest_level_int_v3'].mean()\n",
    "print('Mean Interest Level = {:.2f}'.format(mean_ilvl))"
   ]
  },
  {
   "cell_type": "markdown",
   "metadata": {},
   "source": [
    "Slightly different intensities since fewer positive additions withou the 0.5 from medium interest, but the same combinations are highlighted as being above average."
   ]
  }
 ],
 "metadata": {
  "kernelspec": {
   "display_name": "Python 3",
   "language": "python",
   "name": "python3"
  },
  "language_info": {
   "codemirror_mode": {
    "name": "ipython",
    "version": 3
   },
   "file_extension": ".py",
   "mimetype": "text/x-python",
   "name": "python",
   "nbconvert_exporter": "python",
   "pygments_lexer": "ipython3",
   "version": "3.6.2"
  }
 },
 "nbformat": 4,
 "nbformat_minor": 2
}

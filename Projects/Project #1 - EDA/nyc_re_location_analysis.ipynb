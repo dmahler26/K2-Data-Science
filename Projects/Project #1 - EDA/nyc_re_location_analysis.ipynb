{
 "cells": [
  {
   "cell_type": "markdown",
   "metadata": {},
   "source": [
    "## Setup"
   ]
  },
  {
   "cell_type": "code",
   "execution_count": 1,
   "metadata": {
    "collapsed": true
   },
   "outputs": [],
   "source": [
    "import pandas as pd\n",
    "\n",
    "import folium\n",
    "from folium import plugins\n",
    "\n",
    "import matplotlib.pyplot as plt\n",
    "%matplotlib inline\n",
    "\n",
    "import seaborn as sns"
   ]
  },
  {
   "cell_type": "code",
   "execution_count": 2,
   "metadata": {
    "collapsed": true
   },
   "outputs": [],
   "source": [
    "from os import path\n",
    "\n",
    "directory = 'data'\n",
    "file_name = 'NYC_RealEstate_Data.json'\n",
    "\n",
    "data = pd.read_json(path.join(directory,file_name)).reset_index()"
   ]
  },
  {
   "cell_type": "markdown",
   "metadata": {},
   "source": [
    "## Import"
   ]
  },
  {
   "cell_type": "code",
   "execution_count": 3,
   "metadata": {},
   "outputs": [
    {
     "data": {
      "text/html": [
       "<div>\n",
       "<style>\n",
       "    .dataframe thead tr:only-child th {\n",
       "        text-align: right;\n",
       "    }\n",
       "\n",
       "    .dataframe thead th {\n",
       "        text-align: left;\n",
       "    }\n",
       "\n",
       "    .dataframe tbody tr th {\n",
       "        vertical-align: top;\n",
       "    }\n",
       "</style>\n",
       "<table border=\"1\" class=\"dataframe\">\n",
       "  <thead>\n",
       "    <tr style=\"text-align: right;\">\n",
       "      <th></th>\n",
       "      <th>index</th>\n",
       "      <th>bathrooms</th>\n",
       "      <th>bedrooms</th>\n",
       "      <th>building_id</th>\n",
       "      <th>created</th>\n",
       "      <th>description</th>\n",
       "      <th>display_address</th>\n",
       "      <th>features</th>\n",
       "      <th>interest_level</th>\n",
       "      <th>latitude</th>\n",
       "      <th>listing_id</th>\n",
       "      <th>longitude</th>\n",
       "      <th>manager_id</th>\n",
       "      <th>photos</th>\n",
       "      <th>price</th>\n",
       "      <th>street_address</th>\n",
       "    </tr>\n",
       "  </thead>\n",
       "  <tbody>\n",
       "    <tr>\n",
       "      <th>0</th>\n",
       "      <td>0</td>\n",
       "      <td>1.5</td>\n",
       "      <td>3</td>\n",
       "      <td>53a5b119ba8f7b61d4e010512e0dfc85</td>\n",
       "      <td>1466754864000</td>\n",
       "      <td>A Brand New 3 Bedroom 1.5 bath ApartmentEnjoy ...</td>\n",
       "      <td>Metropolitan Avenue</td>\n",
       "      <td>[]</td>\n",
       "      <td>medium</td>\n",
       "      <td>40.7145</td>\n",
       "      <td>7211212</td>\n",
       "      <td>-73.9425</td>\n",
       "      <td>5ba989232d0489da1b5f2c45f6688adc</td>\n",
       "      <td>[https://photos.renthop.com/2/7211212_1ed4542e...</td>\n",
       "      <td>3000</td>\n",
       "      <td>792 Metropolitan Avenue</td>\n",
       "    </tr>\n",
       "    <tr>\n",
       "      <th>1</th>\n",
       "      <td>1</td>\n",
       "      <td>1.0</td>\n",
       "      <td>2</td>\n",
       "      <td>c5c8a357cba207596b04d1afd1e4f130</td>\n",
       "      <td>1465733967000</td>\n",
       "      <td></td>\n",
       "      <td>Columbus Avenue</td>\n",
       "      <td>[Doorman, Elevator, Fitness Center, Cats Allow...</td>\n",
       "      <td>low</td>\n",
       "      <td>40.7947</td>\n",
       "      <td>7150865</td>\n",
       "      <td>-73.9667</td>\n",
       "      <td>7533621a882f71e25173b27e3139d83d</td>\n",
       "      <td>[https://photos.renthop.com/2/7150865_be3306c5...</td>\n",
       "      <td>5465</td>\n",
       "      <td>808 Columbus Avenue</td>\n",
       "    </tr>\n",
       "    <tr>\n",
       "      <th>2</th>\n",
       "      <td>10</td>\n",
       "      <td>1.0</td>\n",
       "      <td>0</td>\n",
       "      <td>0</td>\n",
       "      <td>1460596230000</td>\n",
       "      <td>New to the market! Spacious studio located in ...</td>\n",
       "      <td>York Avenue</td>\n",
       "      <td>[]</td>\n",
       "      <td>low</td>\n",
       "      <td>40.7769</td>\n",
       "      <td>6869199</td>\n",
       "      <td>-73.9467</td>\n",
       "      <td>e32475a6134d6d18279946b7b20a0f12</td>\n",
       "      <td>[https://photos.renthop.com/2/6869199_06b2601f...</td>\n",
       "      <td>1950</td>\n",
       "      <td>1661 York Avenue</td>\n",
       "    </tr>\n",
       "    <tr>\n",
       "      <th>3</th>\n",
       "      <td>100</td>\n",
       "      <td>1.0</td>\n",
       "      <td>2</td>\n",
       "      <td>e3ea799fc85b5ed5a65cb662e6eebafa</td>\n",
       "      <td>1460523347000</td>\n",
       "      <td>Beautiful 2 Bed apartment in bustling ...</td>\n",
       "      <td>8518 3rd Avenue</td>\n",
       "      <td>[]</td>\n",
       "      <td>medium</td>\n",
       "      <td>40.6240</td>\n",
       "      <td>6866364</td>\n",
       "      <td>-74.0312</td>\n",
       "      <td>6f63020874d0bac3287ec5cdf202e270</td>\n",
       "      <td>[https://photos.renthop.com/2/6866364_50f3ac50...</td>\n",
       "      <td>2000</td>\n",
       "      <td>8518 3rd Avenue</td>\n",
       "    </tr>\n",
       "    <tr>\n",
       "      <th>4</th>\n",
       "      <td>1000</td>\n",
       "      <td>1.0</td>\n",
       "      <td>1</td>\n",
       "      <td>db572bebbed10ea38c6c47ab41619059</td>\n",
       "      <td>1460433932000</td>\n",
       "      <td>Amazing building in a Prime location! just ste...</td>\n",
       "      <td>W 57 St.</td>\n",
       "      <td>[Swimming Pool, Roof Deck, Doorman, Elevator, ...</td>\n",
       "      <td>medium</td>\n",
       "      <td>40.7670</td>\n",
       "      <td>6859853</td>\n",
       "      <td>-73.9841</td>\n",
       "      <td>2b14eec3be2c4d669ce5949cf863de6f</td>\n",
       "      <td>[https://photos.renthop.com/2/6859853_db2bbf20...</td>\n",
       "      <td>3275</td>\n",
       "      <td>322 W 57 St.</td>\n",
       "    </tr>\n",
       "  </tbody>\n",
       "</table>\n",
       "</div>"
      ],
      "text/plain": [
       "   index  bathrooms  bedrooms                       building_id  \\\n",
       "0      0        1.5         3  53a5b119ba8f7b61d4e010512e0dfc85   \n",
       "1      1        1.0         2  c5c8a357cba207596b04d1afd1e4f130   \n",
       "2     10        1.0         0                                 0   \n",
       "3    100        1.0         2  e3ea799fc85b5ed5a65cb662e6eebafa   \n",
       "4   1000        1.0         1  db572bebbed10ea38c6c47ab41619059   \n",
       "\n",
       "         created                                        description  \\\n",
       "0  1466754864000  A Brand New 3 Bedroom 1.5 bath ApartmentEnjoy ...   \n",
       "1  1465733967000                                                      \n",
       "2  1460596230000  New to the market! Spacious studio located in ...   \n",
       "3  1460523347000          Beautiful 2 Bed apartment in bustling ...   \n",
       "4  1460433932000  Amazing building in a Prime location! just ste...   \n",
       "\n",
       "       display_address                                           features  \\\n",
       "0  Metropolitan Avenue                                                 []   \n",
       "1      Columbus Avenue  [Doorman, Elevator, Fitness Center, Cats Allow...   \n",
       "2          York Avenue                                                 []   \n",
       "3      8518 3rd Avenue                                                 []   \n",
       "4             W 57 St.  [Swimming Pool, Roof Deck, Doorman, Elevator, ...   \n",
       "\n",
       "  interest_level  latitude  listing_id  longitude  \\\n",
       "0         medium   40.7145     7211212   -73.9425   \n",
       "1            low   40.7947     7150865   -73.9667   \n",
       "2            low   40.7769     6869199   -73.9467   \n",
       "3         medium   40.6240     6866364   -74.0312   \n",
       "4         medium   40.7670     6859853   -73.9841   \n",
       "\n",
       "                         manager_id  \\\n",
       "0  5ba989232d0489da1b5f2c45f6688adc   \n",
       "1  7533621a882f71e25173b27e3139d83d   \n",
       "2  e32475a6134d6d18279946b7b20a0f12   \n",
       "3  6f63020874d0bac3287ec5cdf202e270   \n",
       "4  2b14eec3be2c4d669ce5949cf863de6f   \n",
       "\n",
       "                                              photos  price  \\\n",
       "0  [https://photos.renthop.com/2/7211212_1ed4542e...   3000   \n",
       "1  [https://photos.renthop.com/2/7150865_be3306c5...   5465   \n",
       "2  [https://photos.renthop.com/2/6869199_06b2601f...   1950   \n",
       "3  [https://photos.renthop.com/2/6866364_50f3ac50...   2000   \n",
       "4  [https://photos.renthop.com/2/6859853_db2bbf20...   3275   \n",
       "\n",
       "            street_address  \n",
       "0  792 Metropolitan Avenue  \n",
       "1      808 Columbus Avenue  \n",
       "2         1661 York Avenue  \n",
       "3          8518 3rd Avenue  \n",
       "4             322 W 57 St.  "
      ]
     },
     "execution_count": 3,
     "metadata": {},
     "output_type": "execute_result"
    }
   ],
   "source": [
    "data.head()"
   ]
  },
  {
   "cell_type": "markdown",
   "metadata": {},
   "source": [
    "### Visualizing Interest Level throughout NYC"
   ]
  },
  {
   "cell_type": "code",
   "execution_count": 13,
   "metadata": {
    "collapsed": true
   },
   "outputs": [],
   "source": [
    "# Helper function to print progress for long loops\n",
    "def iter_progress(i, total, interval=10, display=False):\n",
    "    try:\n",
    "        pc = 100 * i / total\n",
    "        \n",
    "        done = (i == total-1)\n",
    "        \n",
    "        status = '{pc: <2.1f}%'.format(pc=pc)\n",
    "        width = len(str(total))\n",
    "        message = '{i: <{width}}/{total} --- {status}'.format(i=i, width=width,total=total, status=status)\n",
    "        \n",
    "        if display:\n",
    "            if i % interval == 0 or done:\n",
    "                end = '\\n' if done else '\\r'\n",
    "                print(message, end=end)\n",
    "            if done:\n",
    "                print('Done!')\n",
    "        \n",
    "        return pc, done, message\n",
    "        \n",
    "    except Exception as e:\n",
    "        print(e)\n",
    "        print('i = {}, total = {}'.format(i, total))\n",
    "    "
   ]
  },
  {
   "cell_type": "code",
   "execution_count": 7,
   "metadata": {
    "collapsed": true
   },
   "outputs": [],
   "source": [
    "def map_nyc_buroughs(m, fill_color='blue', fill_opacity=0):\n",
    "    # GeoJSON file retreived from https://www1.nyc.gov/site/planning/data-maps/open-data/districts-download-metadata.page\n",
    "    m.choropleth(geo_path='data/NYC_Buroughs.json', fill_color=fill_color, fill_opacity=fill_opacity)"
   ]
  },
  {
   "cell_type": "code",
   "execution_count": 12,
   "metadata": {},
   "outputs": [
    {
     "name": "stdout",
     "output_type": "stream",
     "text": [
      "49287/49288 --- 100.0%\n",
      "Done!\n"
     ]
    }
   ],
   "source": [
    "# Map of interest level\n",
    "import folium\n",
    "\n",
    "property_ilevel_marker_maps = {}\n",
    "for ilevel in ['low', 'medium', 'high', 'all']:\n",
    "    property_ilevel_marker_maps[ilevel] = folium.Map([40.75, -73.9], zoom_start=12, tiles='CartoDB positron')\n",
    "\n",
    "data_length = len(data)\n",
    "\n",
    "marker_colors = {'high': 'red',\n",
    "                 'medium': 'yellow',\n",
    "                 'low': 'grey'}\n",
    "\n",
    "for i, prop in data.iterrows():\n",
    "    \n",
    "    iter_progress(i, data_length, display=True)\n",
    "    \n",
    "    ilevel = prop['interest_level']\n",
    "    \n",
    "    marker_color = marker_colors[ilevel]\n",
    "\n",
    "    marker = folium.CircleMarker([prop['latitude'],prop['longitude']], weight=0, radius=3, color=marker_color,fill_color=marker_color, fill_opacity=0.1)\n",
    "    marker.add_to(property_ilevel_marker_maps[ilevel])\n",
    "    \n",
    "    # Folium did not allow adding the same object to two maps, so had to create a new marker for the second add_to\n",
    "    marker_all = folium.CircleMarker([prop['latitude'],prop['longitude']], weight=0, radius=3, color=marker_color,fill_color=marker_color, fill_opacity=0.1)\n",
    "    marker_all.add_to(property_ilevel_marker_maps['all'])"
   ]
  },
  {
   "cell_type": "code",
   "execution_count": null,
   "metadata": {
    "collapsed": true
   },
   "outputs": [],
   "source": [
    "for key, prop_map in property_ilevel_marker_maps.items():\n",
    "    directory = 'maps'\n",
    "    file_name = 'property_markers_ilevel_' + key + '.html'\n",
    "    prop_map.save(path.join(directory, file_name))"
   ]
  },
  {
   "cell_type": "markdown",
   "metadata": {},
   "source": [
    "[high interest map](./maps/property_markers_ilevel_high.html)<br>\n",
    "[medium interest map](./maps/property_markers_ilevel_medium.html)<br>\n",
    "[low interest map](./maps/property_markers_ilevel_low.html)<br>\n",
    "[combo interest map](./maps/property_markers_ilevel_all.html)"
   ]
  },
  {
   "cell_type": "code",
   "execution_count": 19,
   "metadata": {
    "collapsed": true
   },
   "outputs": [],
   "source": [
    "N = len(data)\n",
    "p_high = len(data[data['interest_level']=='high']) / N\n",
    "p_med = len(data[data['interest_level']=='medium']) / N\n",
    "p_low = len(data[data['interest_level']=='low']) / N"
   ]
  },
  {
   "cell_type": "code",
   "execution_count": 20,
   "metadata": {},
   "outputs": [
    {
     "data": {
      "text/plain": [
       "12.852151238591915"
      ]
     },
     "execution_count": 20,
     "metadata": {},
     "output_type": "execute_result"
    }
   ],
   "source": [
    "1/p_high"
   ]
  },
  {
   "cell_type": "code",
   "execution_count": 21,
   "metadata": {
    "collapsed": true
   },
   "outputs": [],
   "source": [
    "def get_ilevel_int(ilevel, w=[-1,0,1], p=[1,1,1]):\n",
    "    try:\n",
    "        if ilevel == 'high':\n",
    "            ilevel_int = int(w[2]/p[2])\n",
    "        elif ilevel == 'medium':\n",
    "            ilevel_int = int(w[1]/p[1])\n",
    "        elif ilevel == 'low':\n",
    "            ilevel_int = int(w[0]/p[0])\n",
    "        else:\n",
    "            ilevel_int = 0\n",
    "    except Exception as e:\n",
    "        print(e, ': ', ilevel)\n",
    "        ilevel_int=0\n",
    "    \n",
    "    return ilevel_int"
   ]
  },
  {
   "cell_type": "code",
   "execution_count": 22,
   "metadata": {},
   "outputs": [],
   "source": [
    "# Map 3 variants of interest level integer\n",
    "data['interest_level_int'] = data['interest_level'].apply(lambda x: get_ilevel_int(x))\n",
    "data['interest_level_int_w'] = data['interest_level'].apply(lambda x: get_ilevel_int(x, p=[p_low,p_med,p_high]))\n",
    "data['interest_level_int_w_v2'] = data['interest_level'].apply(lambda x: get_ilevel_int(x, w=[-1, 0.5, 1], p=[p_low,p_med,p_high]))"
   ]
  },
  {
   "cell_type": "code",
   "execution_count": 23,
   "metadata": {
    "collapsed": true
   },
   "outputs": [],
   "source": [
    "from folium import plugins\n",
    "\n",
    "hmap_ilvl = folium.Map([40.75, -73.9], zoom_start=12, tiles='CartoDB positron')\n",
    "\n",
    "hmap_ilvl.add_child(plugins.HeatMap(zip(data['latitude'], data['longitude'], data['interest_level_int']), radius=10))\n",
    "\n",
    "directory = 'maps'\n",
    "file_name = 'hmap_ilvl.html'\n",
    "hmap_ilvl.save(path.join(directory, file_name))"
   ]
  },
  {
   "cell_type": "code",
   "execution_count": 24,
   "metadata": {
    "collapsed": true
   },
   "outputs": [],
   "source": [
    "hmap_ilvl_w = folium.Map([40.75, -73.9], zoom_start=12, tiles='CartoDB positron')\n",
    "\n",
    "hmap_ilvl_w.add_child(plugins.HeatMap(zip(data['latitude'], data['longitude'], data['interest_level_int_w']), radius=10))\n",
    "\n",
    "directory = 'maps'\n",
    "file_name = 'hmap_weighted_ilvl.html'\n",
    "hmap_ilvl_w.save(path.join(directory, file_name))"
   ]
  },
  {
   "cell_type": "code",
   "execution_count": 25,
   "metadata": {
    "collapsed": true
   },
   "outputs": [],
   "source": [
    "hmap_ilvl_w_v2 = folium.Map([40.75, -73.9], zoom_start=12, tiles='CartoDB positron')\n",
    "\n",
    "hmap_ilvl_w_v2.add_child(plugins.HeatMap(zip(data['latitude'], data['longitude'], data['interest_level_int_w_v2']), radius=10))\n",
    "\n",
    "directory = 'maps'\n",
    "file_name = 'hmap_weighted_v2.html'\n",
    "hmap_ilvl_w_v2.save(path.join(directory, file_name))"
   ]
  },
  {
   "cell_type": "markdown",
   "metadata": {},
   "source": [
    "[heat map: interest level](./maps/hmap_ilvl.html)<br>\n",
    "[heat map: weighted interest level](./maps/hmap_weighted_ilvl.html)<br>\n",
    "[heat map: weighted interest level v2](./maps/hmap_weighted_v2.html)"
   ]
  },
  {
   "cell_type": "markdown",
   "metadata": {},
   "source": [
    "## Price"
   ]
  },
  {
   "cell_type": "code",
   "execution_count": null,
   "metadata": {
    "collapsed": true
   },
   "outputs": [],
   "source": [
    "# Just a mapping of price out of curiosity\n",
    "hmap_price = folium.Map([40.75, -73.9], zoom_start=12, tiles='CartoDB positron')\n",
    "\n",
    "hmap_price.add_child(plugins.HeatMap(zip(data['latitude'], data['longitude'], data['price'] / 1000), radius=7))\n",
    "\n",
    "directory = 'maps'\n",
    "file_name = 'hmap_price.html'\n",
    "hmap_price.save(path.join(directory, file_name))"
   ]
  },
  {
   "cell_type": "code",
   "execution_count": 26,
   "metadata": {
    "collapsed": true
   },
   "outputs": [],
   "source": [
    "hmap_price_inv = folium.Map([40.75, -73.9], zoom_start=12, tiles='CartoDB positron')\n",
    "\n",
    "hmap_price_inv.add_child(plugins.HeatMap(zip(data['latitude'], data['longitude'], 1000 * 1/data['price']), radius=7))\n",
    "\n",
    "directory = 'maps'\n",
    "file_name = 'hmap_price_inv.html'\n",
    "hmap_price_inv.save(path.join(directory, file_name))"
   ]
  },
  {
   "cell_type": "markdown",
   "metadata": {},
   "source": [
    "[heat map: rent price](./maps/hmap_price.html)<br>\n",
    "[heat map: rent price inverse](./maps/hmap_price_inv.html)"
   ]
  }
 ],
 "metadata": {
  "kernelspec": {
   "display_name": "Python 3",
   "language": "python",
   "name": "python3"
  },
  "language_info": {
   "codemirror_mode": {
    "name": "ipython",
    "version": 3
   },
   "file_extension": ".py",
   "mimetype": "text/x-python",
   "name": "python",
   "nbconvert_exporter": "python",
   "pygments_lexer": "ipython3",
   "version": "3.6.2"
  }
 },
 "nbformat": 4,
 "nbformat_minor": 2
}

{
 "cells": [
  {
   "cell_type": "markdown",
   "metadata": {},
   "source": [
    "### Setup:"
   ]
  },
  {
   "cell_type": "code",
   "execution_count": 1,
   "metadata": {
    "collapsed": true
   },
   "outputs": [],
   "source": [
    "from os import path\n",
    "\n",
    "import pandas as pd\n",
    "\n",
    "import matplotlib as mpl\n",
    "import matplotlib.pyplot as plt\n",
    "%matplotlib inline\n",
    "\n",
    "import seaborn as sns\n",
    "\n",
    "import scipy.stats as st"
   ]
  },
  {
   "cell_type": "code",
   "execution_count": 2,
   "metadata": {
    "collapsed": true
   },
   "outputs": [],
   "source": [
    "# Set matplotlib default styles\n",
    "mpl_update = {'font.size':16,\n",
    "              'xtick.labelsize':14,\n",
    "              'ytick.labelsize':14,\n",
    "              'figure.figsize':[14.0,7.0], \n",
    "              'axes.labelsize':16,\n",
    "              'axes.labelcolor':'#677385',\n",
    "              'axes.titlesize':20,\n",
    "              'lines.color':'#0055A7',\n",
    "              'lines.linewidth':3,\n",
    "              'text.color':'#677385'}\n",
    "mpl.rcParams.update(mpl_update)\n",
    "\n",
    "# Set seaborn style\n",
    "sns.set_style('whitegrid')"
   ]
  },
  {
   "cell_type": "markdown",
   "metadata": {},
   "source": [
    "### Import NYC RE Data:"
   ]
  },
  {
   "cell_type": "code",
   "execution_count": 3,
   "metadata": {
    "collapsed": true
   },
   "outputs": [],
   "source": [
    "directory = 'data'\n",
    "file_name = 'NYC_RealEstate_Data.json'\n",
    "\n",
    "data = pd.read_json(path.join(directory,file_name))"
   ]
  },
  {
   "cell_type": "code",
   "execution_count": 4,
   "metadata": {},
   "outputs": [
    {
     "data": {
      "text/html": [
       "<div>\n",
       "<style>\n",
       "    .dataframe thead tr:only-child th {\n",
       "        text-align: right;\n",
       "    }\n",
       "\n",
       "    .dataframe thead th {\n",
       "        text-align: left;\n",
       "    }\n",
       "\n",
       "    .dataframe tbody tr th {\n",
       "        vertical-align: top;\n",
       "    }\n",
       "</style>\n",
       "<table border=\"1\" class=\"dataframe\">\n",
       "  <thead>\n",
       "    <tr style=\"text-align: right;\">\n",
       "      <th></th>\n",
       "      <th>bathrooms</th>\n",
       "      <th>bedrooms</th>\n",
       "      <th>building_id</th>\n",
       "      <th>created</th>\n",
       "      <th>description</th>\n",
       "      <th>display_address</th>\n",
       "      <th>features</th>\n",
       "      <th>interest_level</th>\n",
       "      <th>latitude</th>\n",
       "      <th>listing_id</th>\n",
       "      <th>longitude</th>\n",
       "      <th>manager_id</th>\n",
       "      <th>photos</th>\n",
       "      <th>price</th>\n",
       "      <th>street_address</th>\n",
       "    </tr>\n",
       "  </thead>\n",
       "  <tbody>\n",
       "    <tr>\n",
       "      <th>0</th>\n",
       "      <td>1.5</td>\n",
       "      <td>3</td>\n",
       "      <td>53a5b119ba8f7b61d4e010512e0dfc85</td>\n",
       "      <td>1466754864000</td>\n",
       "      <td>A Brand New 3 Bedroom 1.5 bath ApartmentEnjoy ...</td>\n",
       "      <td>Metropolitan Avenue</td>\n",
       "      <td>[]</td>\n",
       "      <td>medium</td>\n",
       "      <td>40.7145</td>\n",
       "      <td>7211212</td>\n",
       "      <td>-73.9425</td>\n",
       "      <td>5ba989232d0489da1b5f2c45f6688adc</td>\n",
       "      <td>[https://photos.renthop.com/2/7211212_1ed4542e...</td>\n",
       "      <td>3000</td>\n",
       "      <td>792 Metropolitan Avenue</td>\n",
       "    </tr>\n",
       "    <tr>\n",
       "      <th>1</th>\n",
       "      <td>1.0</td>\n",
       "      <td>2</td>\n",
       "      <td>c5c8a357cba207596b04d1afd1e4f130</td>\n",
       "      <td>1465733967000</td>\n",
       "      <td></td>\n",
       "      <td>Columbus Avenue</td>\n",
       "      <td>[Doorman, Elevator, Fitness Center, Cats Allow...</td>\n",
       "      <td>low</td>\n",
       "      <td>40.7947</td>\n",
       "      <td>7150865</td>\n",
       "      <td>-73.9667</td>\n",
       "      <td>7533621a882f71e25173b27e3139d83d</td>\n",
       "      <td>[https://photos.renthop.com/2/7150865_be3306c5...</td>\n",
       "      <td>5465</td>\n",
       "      <td>808 Columbus Avenue</td>\n",
       "    </tr>\n",
       "    <tr>\n",
       "      <th>10</th>\n",
       "      <td>1.0</td>\n",
       "      <td>0</td>\n",
       "      <td>0</td>\n",
       "      <td>1460596230000</td>\n",
       "      <td>New to the market! Spacious studio located in ...</td>\n",
       "      <td>York Avenue</td>\n",
       "      <td>[]</td>\n",
       "      <td>low</td>\n",
       "      <td>40.7769</td>\n",
       "      <td>6869199</td>\n",
       "      <td>-73.9467</td>\n",
       "      <td>e32475a6134d6d18279946b7b20a0f12</td>\n",
       "      <td>[https://photos.renthop.com/2/6869199_06b2601f...</td>\n",
       "      <td>1950</td>\n",
       "      <td>1661 York Avenue</td>\n",
       "    </tr>\n",
       "    <tr>\n",
       "      <th>100</th>\n",
       "      <td>1.0</td>\n",
       "      <td>2</td>\n",
       "      <td>e3ea799fc85b5ed5a65cb662e6eebafa</td>\n",
       "      <td>1460523347000</td>\n",
       "      <td>Beautiful 2 Bed apartment in bustling ...</td>\n",
       "      <td>8518 3rd Avenue</td>\n",
       "      <td>[]</td>\n",
       "      <td>medium</td>\n",
       "      <td>40.6240</td>\n",
       "      <td>6866364</td>\n",
       "      <td>-74.0312</td>\n",
       "      <td>6f63020874d0bac3287ec5cdf202e270</td>\n",
       "      <td>[https://photos.renthop.com/2/6866364_50f3ac50...</td>\n",
       "      <td>2000</td>\n",
       "      <td>8518 3rd Avenue</td>\n",
       "    </tr>\n",
       "    <tr>\n",
       "      <th>1000</th>\n",
       "      <td>1.0</td>\n",
       "      <td>1</td>\n",
       "      <td>db572bebbed10ea38c6c47ab41619059</td>\n",
       "      <td>1460433932000</td>\n",
       "      <td>Amazing building in a Prime location! just ste...</td>\n",
       "      <td>W 57 St.</td>\n",
       "      <td>[Swimming Pool, Roof Deck, Doorman, Elevator, ...</td>\n",
       "      <td>medium</td>\n",
       "      <td>40.7670</td>\n",
       "      <td>6859853</td>\n",
       "      <td>-73.9841</td>\n",
       "      <td>2b14eec3be2c4d669ce5949cf863de6f</td>\n",
       "      <td>[https://photos.renthop.com/2/6859853_db2bbf20...</td>\n",
       "      <td>3275</td>\n",
       "      <td>322 W 57 St.</td>\n",
       "    </tr>\n",
       "  </tbody>\n",
       "</table>\n",
       "</div>"
      ],
      "text/plain": [
       "      bathrooms  bedrooms                       building_id        created  \\\n",
       "0           1.5         3  53a5b119ba8f7b61d4e010512e0dfc85  1466754864000   \n",
       "1           1.0         2  c5c8a357cba207596b04d1afd1e4f130  1465733967000   \n",
       "10          1.0         0                                 0  1460596230000   \n",
       "100         1.0         2  e3ea799fc85b5ed5a65cb662e6eebafa  1460523347000   \n",
       "1000        1.0         1  db572bebbed10ea38c6c47ab41619059  1460433932000   \n",
       "\n",
       "                                            description      display_address  \\\n",
       "0     A Brand New 3 Bedroom 1.5 bath ApartmentEnjoy ...  Metropolitan Avenue   \n",
       "1                                                            Columbus Avenue   \n",
       "10    New to the market! Spacious studio located in ...          York Avenue   \n",
       "100           Beautiful 2 Bed apartment in bustling ...      8518 3rd Avenue   \n",
       "1000  Amazing building in a Prime location! just ste...             W 57 St.   \n",
       "\n",
       "                                               features interest_level  \\\n",
       "0                                                    []         medium   \n",
       "1     [Doorman, Elevator, Fitness Center, Cats Allow...            low   \n",
       "10                                                   []            low   \n",
       "100                                                  []         medium   \n",
       "1000  [Swimming Pool, Roof Deck, Doorman, Elevator, ...         medium   \n",
       "\n",
       "      latitude  listing_id  longitude                        manager_id  \\\n",
       "0      40.7145     7211212   -73.9425  5ba989232d0489da1b5f2c45f6688adc   \n",
       "1      40.7947     7150865   -73.9667  7533621a882f71e25173b27e3139d83d   \n",
       "10     40.7769     6869199   -73.9467  e32475a6134d6d18279946b7b20a0f12   \n",
       "100    40.6240     6866364   -74.0312  6f63020874d0bac3287ec5cdf202e270   \n",
       "1000   40.7670     6859853   -73.9841  2b14eec3be2c4d669ce5949cf863de6f   \n",
       "\n",
       "                                                 photos  price  \\\n",
       "0     [https://photos.renthop.com/2/7211212_1ed4542e...   3000   \n",
       "1     [https://photos.renthop.com/2/7150865_be3306c5...   5465   \n",
       "10    [https://photos.renthop.com/2/6869199_06b2601f...   1950   \n",
       "100   [https://photos.renthop.com/2/6866364_50f3ac50...   2000   \n",
       "1000  [https://photos.renthop.com/2/6859853_db2bbf20...   3275   \n",
       "\n",
       "               street_address  \n",
       "0     792 Metropolitan Avenue  \n",
       "1         808 Columbus Avenue  \n",
       "10           1661 York Avenue  \n",
       "100           8518 3rd Avenue  \n",
       "1000             322 W 57 St.  "
      ]
     },
     "execution_count": 4,
     "metadata": {},
     "output_type": "execute_result"
    }
   ],
   "source": [
    "data.head()"
   ]
  },
  {
   "cell_type": "markdown",
   "metadata": {},
   "source": [
    "### High Level Analysis of Interest Level:"
   ]
  },
  {
   "cell_type": "code",
   "execution_count": 5,
   "metadata": {},
   "outputs": [
    {
     "data": {
      "text/html": [
       "<div>\n",
       "<style>\n",
       "    .dataframe thead tr:only-child th {\n",
       "        text-align: right;\n",
       "    }\n",
       "\n",
       "    .dataframe thead th {\n",
       "        text-align: left;\n",
       "    }\n",
       "\n",
       "    .dataframe tbody tr th {\n",
       "        vertical-align: top;\n",
       "    }\n",
       "</style>\n",
       "<table border=\"1\" class=\"dataframe\">\n",
       "  <thead>\n",
       "    <tr style=\"text-align: right;\">\n",
       "      <th></th>\n",
       "      <th>count</th>\n",
       "      <th>p</th>\n",
       "    </tr>\n",
       "    <tr>\n",
       "      <th>interest_level</th>\n",
       "      <th></th>\n",
       "      <th></th>\n",
       "    </tr>\n",
       "  </thead>\n",
       "  <tbody>\n",
       "    <tr>\n",
       "      <th>low</th>\n",
       "      <td>34228</td>\n",
       "      <td>0.694</td>\n",
       "    </tr>\n",
       "    <tr>\n",
       "      <th>medium</th>\n",
       "      <td>11225</td>\n",
       "      <td>0.228</td>\n",
       "    </tr>\n",
       "    <tr>\n",
       "      <th>high</th>\n",
       "      <td>3835</td>\n",
       "      <td>0.078</td>\n",
       "    </tr>\n",
       "  </tbody>\n",
       "</table>\n",
       "</div>"
      ],
      "text/plain": [
       "                count      p\n",
       "interest_level              \n",
       "low             34228  0.694\n",
       "medium          11225  0.228\n",
       "high             3835  0.078"
      ]
     },
     "execution_count": 5,
     "metadata": {},
     "output_type": "execute_result"
    }
   ],
   "source": [
    "p_ilvl = data.groupby('interest_level')['listing_id'].count().reset_index().set_index('interest_level')\n",
    "p_ilvl.rename(columns={'listing_id':'count'}, inplace=True)\n",
    "p_ilvl.sort_values('count', ascending=False, inplace=True)\n",
    "\n",
    "# Calculate fraction of total\n",
    "p_ilvl[['p']] = round(p_ilvl.divide(p_ilvl.sum()),3)\n",
    "\n",
    "p_ilvl"
   ]
  },
  {
   "cell_type": "code",
   "execution_count": 6,
   "metadata": {
    "collapsed": true
   },
   "outputs": [],
   "source": [
    "ax = data['interest_level'].value_counts().plot.bar(figsize=(10,5),rot=0)\n",
    "\n",
    "ax.set_xlabel('Interest Level')\n",
    "ax.set_ylabel('Count')\n",
    "ax.set_title('Number of Listings per Interest Level')\n",
    "ax.set_xticklabels(['Low', 'Medium', 'High'])\n",
    "\n",
    "directory = 'figures'\n",
    "file_name = 'MVP_BarChart_NumberOfListingsPerInterestLevel.png'\n",
    "plt.savefig(path.join(directory, file_name), bbox_inches='tight')\n",
    "\n",
    "#plt.show()\n",
    "plt.close()"
   ]
  },
  {
   "cell_type": "markdown",
   "metadata": {},
   "source": [
    "![](figures/MVP_BarChart_NumberOfListingsPerInterestLevel.png)"
   ]
  },
  {
   "cell_type": "markdown",
   "metadata": {},
   "source": [
    "From the table and bar chart above is evident that high interest properties are a rare occurance - only 7.8% of listings are high interest."
   ]
  },
  {
   "cell_type": "markdown",
   "metadata": {},
   "source": [
    "### High Level Analysis of Price"
   ]
  },
  {
   "cell_type": "markdown",
   "metadata": {},
   "source": [
    "Price is one more intuitive factors one would expect to have an impact on the interest level in a listing, so we will start with some basic analysis of the price data available and its basic statistics across each interest level."
   ]
  },
  {
   "cell_type": "markdown",
   "metadata": {},
   "source": [
    "##### Distribution of Price Data"
   ]
  },
  {
   "cell_type": "code",
   "execution_count": 7,
   "metadata": {
    "collapsed": true
   },
   "outputs": [],
   "source": [
    "fig, axs = plt.subplots(1,2, figsize=(15,5))\n",
    "\n",
    "data['price'].plot.kde(ax=axs[0])\n",
    "axs[0].set_xlabel('Price')\n",
    "price_max = data['price'].max()\n",
    "axs[0].set_xlim(0, price_max)\n",
    "axs[0].set_title('Full Range (0-{})'.format(price_max))\n",
    "\n",
    "data['price'].plot.kde(ax=axs[1])\n",
    "axs[1].set_xlabel('Price')\n",
    "axs[1].set_xlim(0,10000)\n",
    "axs[1].set_title('< 10000')\n",
    "\n",
    "fig.suptitle('Distirubtion of Listing Prices', size=24)\n",
    "\n",
    "fig.tight_layout()\n",
    "fig.subplots_adjust(top=0.8)\n",
    "\n",
    "directory = 'figures'\n",
    "file_name = 'MVP_KDE_Price.png'\n",
    "\n",
    "fig.savefig(path.join(directory, file_name))\n",
    "\n",
    "#plt.show()\n",
    "plt.close()"
   ]
  },
  {
   "cell_type": "markdown",
   "metadata": {},
   "source": [
    "![](figures/MVP_KDE_Price.png)"
   ]
  },
  {
   "cell_type": "code",
   "execution_count": 8,
   "metadata": {},
   "outputs": [
    {
     "name": "stdout",
     "output_type": "stream",
     "text": [
      "Mean Price = 3664.0422212303197\n"
     ]
    }
   ],
   "source": [
    "print('Mean Price = {}'.format(data['price'].mean()))"
   ]
  },
  {
   "cell_type": "code",
   "execution_count": 9,
   "metadata": {},
   "outputs": [
    {
     "name": "stdout",
     "output_type": "stream",
     "text": [
      "Skew = 8.703749824887856, Kurtosis = 194.16351576157203\n"
     ]
    }
   ],
   "source": [
    "print('Skew = {}, Kurtosis = {}'.format(st.skew(data['price']),st.kurtosis(data['price'])))"
   ]
  },
  {
   "cell_type": "code",
   "execution_count": 10,
   "metadata": {},
   "outputs": [
    {
     "name": "stdout",
     "output_type": "stream",
     "text": [
      "Skew = 1.4523326600473045, Kurtosis = 2.6457663279667623\n"
     ]
    }
   ],
   "source": [
    "price_mask = data['price'] <= 10000\n",
    "print('Skew = {}, Kurtosis = {}'.format(st.skew(data[price_mask]['price']),st.kurtosis(data[price_mask]['price'])))"
   ]
  },
  {
   "cell_type": "markdown",
   "metadata": {},
   "source": [
    "Price data is extemely skewed to the right. Reducing our samples to prices below 10000 minimizes this somewhat, but we still have a highly skewed distribution with a skew > 1. Consequently, any application of normal distribution statistics is likely to lead to biased results."
   ]
  },
  {
   "cell_type": "markdown",
   "metadata": {},
   "source": [
    "##### Converting Interest Level to Integer"
   ]
  },
  {
   "cell_type": "markdown",
   "metadata": {},
   "source": [
    "For the purpose of performing numerical analysis of interest level, the Low/Medium/High values will be converted to an integer equivalent."
   ]
  },
  {
   "cell_type": "code",
   "execution_count": 11,
   "metadata": {
    "collapsed": true
   },
   "outputs": [],
   "source": [
    "def get_ilevel_int(ilevel):\n",
    "    '''\n",
    "    Converts a string value interest level (high/medium/low) into an integer value of 1, 0 or -1.\n",
    "    '''\n",
    "    try:\n",
    "        if ilevel == 'high':\n",
    "            ilevel_int = 1\n",
    "        elif ilevel == 'medium':\n",
    "            ilevel_int = 0\n",
    "        elif ilevel == 'low':\n",
    "            ilevel_int = -1\n",
    "        else:\n",
    "            ilevel_int = 0\n",
    "    except Exception as e:\n",
    "        print(e, ': ', ilevel)\n",
    "        ilevel_int = 0\n",
    "        return ilevel_int\n",
    "    \n",
    "    return ilevel_int"
   ]
  },
  {
   "cell_type": "markdown",
   "metadata": {},
   "source": [
    "High, Medium and Low interest levels are assigned an integer value of 1, 0 and -1, respectively. The reasoning for these weights is to allow for a focus on concentrations of high interest properties, whilst enabling low interest properties to detract from results.\n",
    "\n",
    "If medium interest properties were also being considered, these could potentially be given something like half the weight of high interest (i.e. 0.5). However, we will simply proceed with calculations using the values above."
   ]
  },
  {
   "cell_type": "code",
   "execution_count": 12,
   "metadata": {},
   "outputs": [
    {
     "data": {
      "text/html": [
       "<div>\n",
       "<style>\n",
       "    .dataframe thead tr:only-child th {\n",
       "        text-align: right;\n",
       "    }\n",
       "\n",
       "    .dataframe thead th {\n",
       "        text-align: left;\n",
       "    }\n",
       "\n",
       "    .dataframe tbody tr th {\n",
       "        vertical-align: top;\n",
       "    }\n",
       "</style>\n",
       "<table border=\"1\" class=\"dataframe\">\n",
       "  <thead>\n",
       "    <tr style=\"text-align: right;\">\n",
       "      <th></th>\n",
       "      <th>price</th>\n",
       "      <th>interest_level</th>\n",
       "      <th>interest_level_int</th>\n",
       "    </tr>\n",
       "  </thead>\n",
       "  <tbody>\n",
       "    <tr>\n",
       "      <th>0</th>\n",
       "      <td>3000</td>\n",
       "      <td>medium</td>\n",
       "      <td>0</td>\n",
       "    </tr>\n",
       "    <tr>\n",
       "      <th>1</th>\n",
       "      <td>5465</td>\n",
       "      <td>low</td>\n",
       "      <td>-1</td>\n",
       "    </tr>\n",
       "    <tr>\n",
       "      <th>10</th>\n",
       "      <td>1950</td>\n",
       "      <td>low</td>\n",
       "      <td>-1</td>\n",
       "    </tr>\n",
       "    <tr>\n",
       "      <th>100</th>\n",
       "      <td>2000</td>\n",
       "      <td>medium</td>\n",
       "      <td>0</td>\n",
       "    </tr>\n",
       "    <tr>\n",
       "      <th>1000</th>\n",
       "      <td>3275</td>\n",
       "      <td>medium</td>\n",
       "      <td>0</td>\n",
       "    </tr>\n",
       "  </tbody>\n",
       "</table>\n",
       "</div>"
      ],
      "text/plain": [
       "      price interest_level  interest_level_int\n",
       "0      3000         medium                   0\n",
       "1      5465            low                  -1\n",
       "10     1950            low                  -1\n",
       "100    2000         medium                   0\n",
       "1000   3275         medium                   0"
      ]
     },
     "execution_count": 12,
     "metadata": {},
     "output_type": "execute_result"
    }
   ],
   "source": [
    "# Creating new column with integer values for interest level\n",
    "\n",
    "data_price_ilvl = data[['price', 'interest_level']].copy()\n",
    "data_price_ilvl['interest_level_int'] = data_price_ilvl['interest_level'].apply(lambda x: get_ilevel_int(x))\n",
    "data_price_ilvl.head()"
   ]
  },
  {
   "cell_type": "markdown",
   "metadata": {},
   "source": [
    "##### Boxplot of Price by Interest Level"
   ]
  },
  {
   "cell_type": "markdown",
   "metadata": {},
   "source": [
    "First step is to visualize the distribution of prices for each interest level. Boxplots are a convenient means of displaying & comparing the spread of price data for all interest levels:"
   ]
  },
  {
   "cell_type": "code",
   "execution_count": 14,
   "metadata": {
    "collapsed": true
   },
   "outputs": [],
   "source": [
    "ax = data_price_ilvl[['interest_level_int', 'price']].boxplot(by='interest_level_int', figsize=(15,7))\n",
    "\n",
    "ax.set_xticklabels(['low','medium','high'])\n",
    "ax.set_title('Boxplot: Price grouped by Interest Level')\n",
    "ax.set_xlabel('Interest Level')\n",
    "ax.set_ylabel('Price')\n",
    "\n",
    "plt.suptitle('')\n",
    "\n",
    "directory = 'figures'\n",
    "file_name = 'MVP_Boxplot_PriceByInterestLevel.png'\n",
    "plt.savefig(path.join(directory, file_name))\n",
    "\n",
    "#plt.show()\n",
    "plt.close()"
   ]
  },
  {
   "cell_type": "markdown",
   "metadata": {},
   "source": [
    "![](figures/MVP_Boxplot_PriceByInterestLevel.png)"
   ]
  },
  {
   "cell_type": "markdown",
   "metadata": {},
   "source": [
    "In the figure above it is difficult to distinguish some of the finer differences in median, IQR, etc. due to the large number of outliers above the IQR for low interest properties. The boxplot is repeated below, this time ignoring the outliers."
   ]
  },
  {
   "cell_type": "code",
   "execution_count": 15,
   "metadata": {
    "collapsed": true
   },
   "outputs": [],
   "source": [
    "# Plotting boxplot without outliers for a closer view.\n",
    "\n",
    "ax = data_price_ilvl[['interest_level_int', 'price']].boxplot(by='interest_level_int', figsize=(15,7), showfliers=False)\n",
    "\n",
    "ax.set_xticklabels(['low','medium','high'])\n",
    "ax.set_title('Boxplot: Price grouped by Interest Level')\n",
    "ax.set_xlabel('Interest Level')\n",
    "ax.set_ylabel('Price')\n",
    "\n",
    "plt.suptitle('')\n",
    "\n",
    "directory = 'figures'\n",
    "file_name = 'MVP_Boxplot_PriceByInterestLevelNoFliers.png'\n",
    "plt.savefig(path.join(directory, file_name))\n",
    "\n",
    "plt.close()"
   ]
  },
  {
   "cell_type": "markdown",
   "metadata": {},
   "source": [
    "![](figures/MVP_Boxplot_PriceByInterestLevelNoFliers.png)"
   ]
  },
  {
   "cell_type": "markdown",
   "metadata": {},
   "source": [
    "Whilst there does appear to be an inverse relationship between the median price and the interest level (lower price = higher interest level), at first glance the differences between each level appear to not be quite as profound as one might have anticipated. There is a lot of overlap between the three IQRs, and overall price ranges. As for the medians:"
   ]
  },
  {
   "cell_type": "code",
   "execution_count": 16,
   "metadata": {},
   "outputs": [
    {
     "name": "stdout",
     "output_type": "stream",
     "text": [
      "Overall Price Median = $3150.00\n"
     ]
    }
   ],
   "source": [
    "price_median = data['price'].median()\n",
    "print(\"Overall Price Median = ${:.2f}\".format(price_median))"
   ]
  },
  {
   "cell_type": "code",
   "execution_count": 17,
   "metadata": {},
   "outputs": [
    {
     "name": "stdout",
     "output_type": "stream",
     "text": [
      "Median Prices by Interest Level:\n",
      "low = $3300.00\n",
      "medium = $2895.00\n",
      "high = $2400.00\n"
     ]
    }
   ],
   "source": [
    "ilvl_price_medians = data.groupby('interest_level')['price'].median()[['low', 'medium', 'high']]\n",
    "\n",
    "print(\"Median Prices by Interest Level:\")\n",
    "for i, p in ilvl_price_medians.items():\n",
    "    print(\"{} = ${:.2f}\".format(i, p))"
   ]
  },
  {
   "cell_type": "code",
   "execution_count": 18,
   "metadata": {},
   "outputs": [
    {
     "name": "stdout",
     "output_type": "stream",
     "text": [
      "Range in Median Prices across Interest Level = $900.00\n"
     ]
    }
   ],
   "source": [
    "ilvl_price_median_delta = ilvl_price_medians.max() - ilvl_price_medians.min()\n",
    "\n",
    "print('Range in Median Prices across Interest Level = ${:.2f}'.format(ilvl_price_median_delta))"
   ]
  },
  {
   "cell_type": "code",
   "execution_count": 19,
   "metadata": {},
   "outputs": [
    {
     "name": "stdout",
     "output_type": "stream",
     "text": [
      "Difference in Price Medians and Overall Median per Interest Level:\n",
      "low = +$150.00 (+5%)\n",
      "medium = -$255.00 (-8%)\n",
      "high = -$750.00 (-24%)\n"
     ]
    }
   ],
   "source": [
    "print('Difference in Price Medians and Overall Median per Interest Level:')\n",
    "for i, p in ilvl_price_medians.items():\n",
    "    delta = p - price_median\n",
    "    p_delta = 100 * (p/price_median - 1)\n",
    "    sign = '+' if delta >= 0 else '-'\n",
    "    print(\"{} = {}${:.2f} ({}{:.0f}%)\".format(i, sign, abs(delta), sign, abs(p_delta)))"
   ]
  },
  {
   "cell_type": "markdown",
   "metadata": {},
   "source": [
    "\n",
    "There is a \\$900 difference between the high interest and low interest median prices. Comparing each median price to the overall median, it is evident that the high interest properties show the largest (negative) difference of \\$750, compared to low interest properties with a median price \\$150 more than the overall median. These differences may not appear to be as significant as one might expect, however it is improtant to consider these price differences within the context of monthly rental payments, in which even a difference of \\$500 per month adds up to an additonal \\$6000 per year."
   ]
  },
  {
   "cell_type": "markdown",
   "metadata": {},
   "source": [
    "##### Evaluating price by Standard Deviation bins"
   ]
  },
  {
   "cell_type": "markdown",
   "metadata": {},
   "source": [
    "Another possible view of prices across interest leve is with a bar chart splitting the properties into standard deviation bins. This should hopefully give some insight into how many properties are distributed in the standard deviations below and above the mean."
   ]
  },
  {
   "cell_type": "markdown",
   "metadata": {},
   "source": [
    "First, each listing is placed in the appropriate bin, using intervals of 0.5 the standard deviation:"
   ]
  },
  {
   "cell_type": "code",
   "execution_count": 20,
   "metadata": {},
   "outputs": [
    {
     "name": "stdout",
     "output_type": "stream",
     "text": [
      "Mean Price = $3664.04\n",
      "Price Std. = $2382.97\n"
     ]
    }
   ],
   "source": [
    "price_mean = data['price'].mean()\n",
    "price_std = data['price'].std()\n",
    "\n",
    "print('Mean Price = ${:.2f}'.format(price_mean))\n",
    "print('Price Std. = ${:.2f}'.format(price_std))"
   ]
  },
  {
   "cell_type": "code",
   "execution_count": 21,
   "metadata": {
    "collapsed": true
   },
   "outputs": [],
   "source": [
    "def get_price_sbin(price, mean, std):\n",
    "    '''\n",
    "    Returns the standard deviation bin for a given price according to the provided mean & standard deviation.\n",
    "    \n",
    "    Bins are rounded to the nearest 0.5 standard deviation.\n",
    "    '''\n",
    "    dev = (price-mean)/std\n",
    "    dev = round(2*dev)/2 # Round to nearest 0.5\n",
    "    \n",
    "    # Due to skew of price data, will simplify the higher prices as belonging to the 3+ std. bin\n",
    "    if dev > 3:\n",
    "        dev = 3\n",
    "    \n",
    "    return dev"
   ]
  },
  {
   "cell_type": "code",
   "execution_count": 22,
   "metadata": {
    "collapsed": true
   },
   "outputs": [],
   "source": [
    "# Set new price standard dev. column\n",
    "data['price_std_bin'] = data['price'].apply(lambda x: get_price_sbin(x, price_mean, price_std))"
   ]
  },
  {
   "cell_type": "code",
   "execution_count": 23,
   "metadata": {},
   "outputs": [
    {
     "data": {
      "text/html": [
       "<div>\n",
       "<style>\n",
       "    .dataframe thead tr:only-child th {\n",
       "        text-align: right;\n",
       "    }\n",
       "\n",
       "    .dataframe thead th {\n",
       "        text-align: left;\n",
       "    }\n",
       "\n",
       "    .dataframe tbody tr th {\n",
       "        vertical-align: top;\n",
       "    }\n",
       "</style>\n",
       "<table border=\"1\" class=\"dataframe\">\n",
       "  <thead>\n",
       "    <tr style=\"text-align: right;\">\n",
       "      <th></th>\n",
       "      <th>bathrooms</th>\n",
       "      <th>bedrooms</th>\n",
       "      <th>building_id</th>\n",
       "      <th>created</th>\n",
       "      <th>description</th>\n",
       "      <th>display_address</th>\n",
       "      <th>features</th>\n",
       "      <th>interest_level</th>\n",
       "      <th>latitude</th>\n",
       "      <th>listing_id</th>\n",
       "      <th>longitude</th>\n",
       "      <th>manager_id</th>\n",
       "      <th>photos</th>\n",
       "      <th>price</th>\n",
       "      <th>street_address</th>\n",
       "      <th>price_std_bin</th>\n",
       "    </tr>\n",
       "  </thead>\n",
       "  <tbody>\n",
       "    <tr>\n",
       "      <th>45674</th>\n",
       "      <td>6.0</td>\n",
       "      <td>6</td>\n",
       "      <td>d20bce0bc08b2731f726067a1e501162</td>\n",
       "      <td>1460773335000</td>\n",
       "      <td>MANSION IN THE SKY!!! This six-bedroom full-fl...</td>\n",
       "      <td>230 West 56th Street</td>\n",
       "      <td>[Doorman, Elevator, Furnished, Laundry in Unit...</td>\n",
       "      <td>low</td>\n",
       "      <td>40.7654</td>\n",
       "      <td>6881666</td>\n",
       "      <td>-73.9822</td>\n",
       "      <td>37ffeac28297e956deecd7b31940c6e7</td>\n",
       "      <td>[https://photos.renthop.com/2/6881666_bedcd181...</td>\n",
       "      <td>100000</td>\n",
       "      <td>230 West 56th Street</td>\n",
       "      <td>3.0</td>\n",
       "    </tr>\n",
       "  </tbody>\n",
       "</table>\n",
       "</div>"
      ],
      "text/plain": [
       "       bathrooms  bedrooms                       building_id        created  \\\n",
       "45674        6.0         6  d20bce0bc08b2731f726067a1e501162  1460773335000   \n",
       "\n",
       "                                             description  \\\n",
       "45674  MANSION IN THE SKY!!! This six-bedroom full-fl...   \n",
       "\n",
       "            display_address  \\\n",
       "45674  230 West 56th Street   \n",
       "\n",
       "                                                features interest_level  \\\n",
       "45674  [Doorman, Elevator, Furnished, Laundry in Unit...            low   \n",
       "\n",
       "       latitude  listing_id  longitude                        manager_id  \\\n",
       "45674   40.7654     6881666   -73.9822  37ffeac28297e956deecd7b31940c6e7   \n",
       "\n",
       "                                                  photos   price  \\\n",
       "45674  [https://photos.renthop.com/2/6881666_bedcd181...  100000   \n",
       "\n",
       "             street_address  price_std_bin  \n",
       "45674  230 West 56th Street            3.0  "
      ]
     },
     "execution_count": 23,
     "metadata": {},
     "output_type": "execute_result"
    }
   ],
   "source": [
    "data[data['price'] == 100000]"
   ]
  },
  {
   "cell_type": "code",
   "execution_count": 24,
   "metadata": {
    "collapsed": true,
    "scrolled": true
   },
   "outputs": [],
   "source": [
    "# Plot the bar charts for each interest level\n",
    "\n",
    "mask_high_ilvl = data['interest_level'] == 'high'\n",
    "mask_med_ilvl = data['interest_level'] == 'medium'\n",
    "mask_low_ilvl = data['interest_level'] == 'low'\n",
    "\n",
    "fig, axs = plt.subplots(1,3, figsize=(14,5))\n",
    "\n",
    "hbins = pd.np.arange(-3.25,3.5,0.5)\n",
    "\n",
    "data[mask_high_ilvl]['price_std_bin'].plot.hist(bins=hbins, ax=axs[0], xlim=(-3.25,3.25), title='High Interest',edgecolor='k')\n",
    "data[mask_med_ilvl]['price_std_bin'].plot.hist(bins=hbins, ax=axs[1], xlim=(-3.25,3.35), title='Medium Interest', edgecolor='k')\n",
    "data[mask_low_ilvl]['price_std_bin'].plot.hist(bins=hbins, ax=axs[2], xlim=(-3.25,3.25), title='Low Interest', edgecolor='k')\n",
    "\n",
    "\n",
    "for ax in axs:\n",
    "    ax.set_xlabel('# Std. Deviations from Mean Price')\n",
    "    ax.set_xticks(range(-3,4))\n",
    "    ax.grid(False)\n",
    "\n",
    "plt.tight_layout()\n",
    "\n",
    "directory = 'figures'\n",
    "file_name = 'MVP_Hist_StDevPriceperInterestLevel.png'\n",
    "plt.savefig(path.join(directory, file_name))\n",
    "\n",
    "plt.close()"
   ]
  },
  {
   "cell_type": "markdown",
   "metadata": {},
   "source": [
    "![](figures/MVP_Hist_StDevPriceperInterestLevel.png)"
   ]
  },
  {
   "cell_type": "code",
   "execution_count": 25,
   "metadata": {
    "collapsed": true
   },
   "outputs": [],
   "source": [
    "# Perform crosstab & heatmap for alternative visualization\n",
    "\n",
    "ilvl_x_pricebin = pd.crosstab(data['interest_level'], data['price_std_bin']).reindex(['low','medium','high'])\n",
    "\n",
    "# Convert to percentage/proportion to allow for useful comparison between interest levels\n",
    "p_ilvl_x_pricebin = ilvl_x_pricebin.divide(ilvl_x_pricebin.sum(axis=1), axis=0)\n",
    "\n",
    "plt.figure(figsize=(10,5))\n",
    "\n",
    "ax = sns.heatmap(p_ilvl_x_pricebin, cmap='GnBu')\n",
    "\n",
    "plt.xlabel('Price Standard Deviation')\n",
    "plt.ylabel('Interest Level')\n",
    "plt.suptitle('Heatmap: Price Standad Dev. from Mean, per Interest Level')\n",
    "\n",
    "directory = 'figures'\n",
    "file_name = 'MVP_Heatmap_StDevPricePerInterestLevel.png'\n",
    "plt.savefig(path.join(directory, file_name))\n",
    "\n",
    "plt.close()"
   ]
  },
  {
   "cell_type": "markdown",
   "metadata": {},
   "source": [
    "![](figures/MVP_Heatmap_StDevPricePerInterestLevel.png)"
   ]
  },
  {
   "cell_type": "markdown",
   "metadata": {},
   "source": [
    "From the two figures above, one can observe an increased bias towards the lower standard deviations for the the medium and high interest listings. However, we also observe the same trend, albeit with less intensity, for the low interest properties. With the earlier findings on the skew of price data, using standard deviation as a means of splitting data may not provide the clearest picture / distinctions between each interest level."
   ]
  },
  {
   "cell_type": "markdown",
   "metadata": {},
   "source": [
    "##### Evaluating Price by Quartile bins"
   ]
  },
  {
   "cell_type": "markdown",
   "metadata": {},
   "source": [
    "As an alternative to standard deviation, we will repeat the above analysis using quartiles as bins."
   ]
  },
  {
   "cell_type": "code",
   "execution_count": 26,
   "metadata": {
    "collapsed": true
   },
   "outputs": [],
   "source": [
    "def get_price_qbin(price, quartiles):\n",
    "    '''\n",
    "    Return which of the provided quartiles the price falls in.\n",
    "    '''\n",
    "    for i, q in enumerate(quartiles):\n",
    "        if price <= q:\n",
    "            return i+1"
   ]
  },
  {
   "cell_type": "code",
   "execution_count": 27,
   "metadata": {},
   "outputs": [
    {
     "data": {
      "text/html": [
       "<div>\n",
       "<style>\n",
       "    .dataframe thead tr:only-child th {\n",
       "        text-align: right;\n",
       "    }\n",
       "\n",
       "    .dataframe thead th {\n",
       "        text-align: left;\n",
       "    }\n",
       "\n",
       "    .dataframe tbody tr th {\n",
       "        vertical-align: top;\n",
       "    }\n",
       "</style>\n",
       "<table border=\"1\" class=\"dataframe\">\n",
       "  <thead>\n",
       "    <tr style=\"text-align: right;\">\n",
       "      <th></th>\n",
       "      <th>price</th>\n",
       "      <th>price_q_bin</th>\n",
       "    </tr>\n",
       "  </thead>\n",
       "  <tbody>\n",
       "    <tr>\n",
       "      <th>0</th>\n",
       "      <td>3000</td>\n",
       "      <td>2</td>\n",
       "    </tr>\n",
       "    <tr>\n",
       "      <th>1</th>\n",
       "      <td>5465</td>\n",
       "      <td>4</td>\n",
       "    </tr>\n",
       "    <tr>\n",
       "      <th>10</th>\n",
       "      <td>1950</td>\n",
       "      <td>1</td>\n",
       "    </tr>\n",
       "    <tr>\n",
       "      <th>100</th>\n",
       "      <td>2000</td>\n",
       "      <td>1</td>\n",
       "    </tr>\n",
       "    <tr>\n",
       "      <th>1000</th>\n",
       "      <td>3275</td>\n",
       "      <td>3</td>\n",
       "    </tr>\n",
       "  </tbody>\n",
       "</table>\n",
       "</div>"
      ],
      "text/plain": [
       "      price  price_q_bin\n",
       "0      3000            2\n",
       "1      5465            4\n",
       "10     1950            1\n",
       "100    2000            1\n",
       "1000   3275            3"
      ]
     },
     "execution_count": 27,
     "metadata": {},
     "output_type": "execute_result"
    }
   ],
   "source": [
    "# Set new quartile bin column using 4 quartiles (0-25, 25-50, 50-75, 75-100)\n",
    "\n",
    "quartiles = data['price'].quantile([0.25,0.5,0.75, 1])\n",
    "\n",
    "data['price_q_bin'] = data['price'].apply(lambda x: get_price_qbin(x, quartiles))\n",
    "\n",
    "data[['price','price_q_bin']].head()"
   ]
  },
  {
   "cell_type": "code",
   "execution_count": 29,
   "metadata": {
    "collapsed": true
   },
   "outputs": [],
   "source": [
    "# Heatmap of the prices across the four quartiles\n",
    "\n",
    "ilvl_x_pricebin = pd.crosstab(data['interest_level'], data['price_q_bin']).reindex(['low','medium','high'])\n",
    "\n",
    "# Convert to proportion of total in a given interest level to allow comparison across interest levels\n",
    "p_ilvl_x_pricebin = ilvl_x_pricebin.divide(ilvl_x_pricebin.sum(axis=1), axis=0)\n",
    "\n",
    "sns.heatmap(p_ilvl_x_pricebin, cmap='GnBu')\n",
    "\n",
    "plt.xlabel('Price Quartile')\n",
    "plt.ylabel('Interest Level')\n",
    "plt.suptitle('Heatmap: Price Quartile per Interest Level')\n",
    "\n",
    "directory = 'figures'\n",
    "file_name = 'MVP_Heatmap_PriceQuartileperInterestLevel.png'\n",
    "plt.savefig(path.join(directory, file_name))\n",
    "\n",
    "plt.close()"
   ]
  },
  {
   "cell_type": "markdown",
   "metadata": {},
   "source": [
    "![](figures/MVP_Heatmap_PriceQuartileperInterestLevel.png)"
   ]
  },
  {
   "cell_type": "markdown",
   "metadata": {},
   "source": [
    "The figure above provides a much more distinct picture of how price varies across interest level. The high and medium interest proeprties clearly favor prices in the 1st quartile, whereas the low interest properties have the majority of listing in the 4th quartile."
   ]
  },
  {
   "cell_type": "markdown",
   "metadata": {
    "collapsed": true
   },
   "source": [
    "### Next Steps:"
   ]
  },
  {
   "cell_type": "markdown",
   "metadata": {},
   "source": [
    "Following this initial analysis of price and interest level, there is a lot left to explore within the data for possible influencers on interest level. Some of the immediate possibilities are as follows:"
   ]
  },
  {
   "cell_type": "markdown",
   "metadata": {},
   "source": [
    "More in-depth analysis of price & interest level with respect to other factors:\n",
    "* Price per bedrooms\n",
    "* Price per bathroom\n",
    "* Price per total number of rooms"
   ]
  },
  {
   "cell_type": "markdown",
   "metadata": {},
   "source": [
    "Analysis of Features and other non-numerical attributes:\n",
    "* Frequency of various features across interest levels\n",
    "* Presence of photos, number of photos\n",
    "* Presence of description, length of description\n",
    "* Presence of features, number of features"
   ]
  },
  {
   "cell_type": "markdown",
   "metadata": {},
   "source": [
    "Analysis of Location:\n",
    "* Distribution of low, medium, high interest throughout the city. Areas of concentration.\n",
    "* Analysis of interest level by Burough\n",
    "* Analysis of interest level vs. surrounding listings (e.g. price, interest level, features of nearby listings)"
   ]
  }
 ],
 "metadata": {
  "kernelspec": {
   "display_name": "Python 3",
   "language": "python",
   "name": "python3"
  },
  "language_info": {
   "codemirror_mode": {
    "name": "ipython",
    "version": 3
   },
   "file_extension": ".py",
   "mimetype": "text/x-python",
   "name": "python",
   "nbconvert_exporter": "python",
   "pygments_lexer": "ipython3",
   "version": "3.6.2"
  },
  "widgets": {
   "state": {
    "9da8856c780f401781b1eb49fea703f9": {
     "views": [
      {
       "cell_index": 39
      }
     ]
    }
   },
   "version": "1.2.0"
  }
 },
 "nbformat": 4,
 "nbformat_minor": 2
}

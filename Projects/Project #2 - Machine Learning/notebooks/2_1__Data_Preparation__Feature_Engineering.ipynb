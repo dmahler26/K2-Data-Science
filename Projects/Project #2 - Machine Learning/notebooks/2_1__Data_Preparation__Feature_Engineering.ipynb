{
 "cells": [
  {
   "cell_type": "code",
   "execution_count": 1,
   "metadata": {
    "collapsed": true
   },
   "outputs": [],
   "source": [
    "import numpy as np\n",
    "import pandas as pd\n",
    "\n",
    "from os import path\n",
    "import pickle\n",
    "\n",
    "import re\n",
    "\n",
    "import matplotlib.pyplot as plt\n",
    "import seaborn as sns\n",
    "\n",
    "from sklearn.base import BaseEstimator, TransformerMixin\n",
    "from sklearn.pipeline import Pipeline, FeatureUnion\n",
    "\n",
    "from sklearn.model_selection import train_test_split\n",
    "from sklearn.preprocessing import StandardScaler, Normalizer\n",
    "\n",
    "from sklearn.metrics import f1_score, recall_score, precision_score\n",
    "from sklearn.model_selection import cross_val_score\n",
    "\n",
    "from sklearn.linear_model import LinearRegression, LogisticRegression\n",
    "\n",
    "from sklearn.feature_selection import SelectPercentile, SelectKBest, SelectFromModel, f_classif, f_regression\n",
    "\n",
    "from sklearn.decomposition import PCA\n",
    "from sklearn.discriminant_analysis import LinearDiscriminantAnalysis"
   ]
  },
  {
   "cell_type": "markdown",
   "metadata": {},
   "source": [
    "### Import Data"
   ]
  },
  {
   "cell_type": "markdown",
   "metadata": {},
   "source": [
    "Import the cleaned dataset produced in the data cleaning notebook:"
   ]
  },
  {
   "cell_type": "code",
   "execution_count": 2,
   "metadata": {
    "collapsed": true
   },
   "outputs": [],
   "source": [
    "f = 'loan_clean.p'\n",
    "d = ['..', 'data', 'interim']\n",
    "fp = path.join(*d, f)\n",
    "\n",
    "with open(fp, 'rb') as file:\n",
    "    data = pickle.load(file)"
   ]
  },
  {
   "cell_type": "code",
   "execution_count": 3,
   "metadata": {
    "scrolled": true
   },
   "outputs": [
    {
     "data": {
      "text/html": [
       "<div>\n",
       "<style>\n",
       "    .dataframe thead tr:only-child th {\n",
       "        text-align: right;\n",
       "    }\n",
       "\n",
       "    .dataframe thead th {\n",
       "        text-align: left;\n",
       "    }\n",
       "\n",
       "    .dataframe tbody tr th {\n",
       "        vertical-align: top;\n",
       "    }\n",
       "</style>\n",
       "<table border=\"1\" class=\"dataframe\">\n",
       "  <thead>\n",
       "    <tr style=\"text-align: right;\">\n",
       "      <th></th>\n",
       "      <th>loan_amnt</th>\n",
       "      <th>funded_amnt</th>\n",
       "      <th>funded_amnt_inv</th>\n",
       "      <th>term</th>\n",
       "      <th>int_rate</th>\n",
       "      <th>installment</th>\n",
       "      <th>grade</th>\n",
       "      <th>sub_grade</th>\n",
       "      <th>emp_length</th>\n",
       "      <th>home_ownership</th>\n",
       "      <th>...</th>\n",
       "      <th>acc_now_delinq</th>\n",
       "      <th>tot_coll_amt</th>\n",
       "      <th>tot_cur_bal</th>\n",
       "      <th>total_rev_hi_lim</th>\n",
       "      <th>had_delinq</th>\n",
       "      <th>had_major_derog</th>\n",
       "      <th>had_record</th>\n",
       "      <th>annual_inc_merged</th>\n",
       "      <th>dti_merged</th>\n",
       "      <th>verification_status_merged</th>\n",
       "    </tr>\n",
       "    <tr>\n",
       "      <th>id</th>\n",
       "      <th></th>\n",
       "      <th></th>\n",
       "      <th></th>\n",
       "      <th></th>\n",
       "      <th></th>\n",
       "      <th></th>\n",
       "      <th></th>\n",
       "      <th></th>\n",
       "      <th></th>\n",
       "      <th></th>\n",
       "      <th></th>\n",
       "      <th></th>\n",
       "      <th></th>\n",
       "      <th></th>\n",
       "      <th></th>\n",
       "      <th></th>\n",
       "      <th></th>\n",
       "      <th></th>\n",
       "      <th></th>\n",
       "      <th></th>\n",
       "      <th></th>\n",
       "    </tr>\n",
       "  </thead>\n",
       "  <tbody>\n",
       "    <tr>\n",
       "      <th>10139658</th>\n",
       "      <td>12000.0</td>\n",
       "      <td>12000.0</td>\n",
       "      <td>12000.0</td>\n",
       "      <td>36 months</td>\n",
       "      <td>13.53</td>\n",
       "      <td>407.40</td>\n",
       "      <td>B</td>\n",
       "      <td>B5</td>\n",
       "      <td>10+ years</td>\n",
       "      <td>RENT</td>\n",
       "      <td>...</td>\n",
       "      <td>0.0</td>\n",
       "      <td>15386.0</td>\n",
       "      <td>13605.0</td>\n",
       "      <td>8100.0</td>\n",
       "      <td>1</td>\n",
       "      <td>1</td>\n",
       "      <td>1</td>\n",
       "      <td>40000.0</td>\n",
       "      <td>16.94</td>\n",
       "      <td>Source Verified</td>\n",
       "    </tr>\n",
       "    <tr>\n",
       "      <th>10179520</th>\n",
       "      <td>3000.0</td>\n",
       "      <td>3000.0</td>\n",
       "      <td>3000.0</td>\n",
       "      <td>36 months</td>\n",
       "      <td>12.85</td>\n",
       "      <td>100.87</td>\n",
       "      <td>B</td>\n",
       "      <td>B4</td>\n",
       "      <td>10+ years</td>\n",
       "      <td>RENT</td>\n",
       "      <td>...</td>\n",
       "      <td>0.0</td>\n",
       "      <td>154.0</td>\n",
       "      <td>19530.0</td>\n",
       "      <td>5300.0</td>\n",
       "      <td>1</td>\n",
       "      <td>1</td>\n",
       "      <td>1</td>\n",
       "      <td>25000.0</td>\n",
       "      <td>24.68</td>\n",
       "      <td>Verified</td>\n",
       "    </tr>\n",
       "    <tr>\n",
       "      <th>10149577</th>\n",
       "      <td>28000.0</td>\n",
       "      <td>28000.0</td>\n",
       "      <td>28000.0</td>\n",
       "      <td>36 months</td>\n",
       "      <td>7.62</td>\n",
       "      <td>872.52</td>\n",
       "      <td>A</td>\n",
       "      <td>A3</td>\n",
       "      <td>5 years</td>\n",
       "      <td>MORTGAGE</td>\n",
       "      <td>...</td>\n",
       "      <td>0.0</td>\n",
       "      <td>0.0</td>\n",
       "      <td>799592.0</td>\n",
       "      <td>54200.0</td>\n",
       "      <td>0</td>\n",
       "      <td>0</td>\n",
       "      <td>0</td>\n",
       "      <td>325000.0</td>\n",
       "      <td>18.55</td>\n",
       "      <td>Source Verified</td>\n",
       "    </tr>\n",
       "    <tr>\n",
       "      <th>10127816</th>\n",
       "      <td>24000.0</td>\n",
       "      <td>24000.0</td>\n",
       "      <td>24000.0</td>\n",
       "      <td>36 months</td>\n",
       "      <td>13.53</td>\n",
       "      <td>814.80</td>\n",
       "      <td>B</td>\n",
       "      <td>B5</td>\n",
       "      <td>10+ years</td>\n",
       "      <td>MORTGAGE</td>\n",
       "      <td>...</td>\n",
       "      <td>0.0</td>\n",
       "      <td>539.0</td>\n",
       "      <td>199834.0</td>\n",
       "      <td>28200.0</td>\n",
       "      <td>0</td>\n",
       "      <td>0</td>\n",
       "      <td>0</td>\n",
       "      <td>100000.0</td>\n",
       "      <td>22.18</td>\n",
       "      <td>Verified</td>\n",
       "    </tr>\n",
       "    <tr>\n",
       "      <th>10148818</th>\n",
       "      <td>15000.0</td>\n",
       "      <td>15000.0</td>\n",
       "      <td>15000.0</td>\n",
       "      <td>36 months</td>\n",
       "      <td>14.47</td>\n",
       "      <td>516.10</td>\n",
       "      <td>C</td>\n",
       "      <td>C2</td>\n",
       "      <td>10+ years</td>\n",
       "      <td>RENT</td>\n",
       "      <td>...</td>\n",
       "      <td>0.0</td>\n",
       "      <td>0.0</td>\n",
       "      <td>13038.0</td>\n",
       "      <td>25800.0</td>\n",
       "      <td>0</td>\n",
       "      <td>0</td>\n",
       "      <td>0</td>\n",
       "      <td>98000.0</td>\n",
       "      <td>6.15</td>\n",
       "      <td>Not Verified</td>\n",
       "    </tr>\n",
       "  </tbody>\n",
       "</table>\n",
       "<p>5 rows × 51 columns</p>\n",
       "</div>"
      ],
      "text/plain": [
       "          loan_amnt  funded_amnt  funded_amnt_inv        term  int_rate  \\\n",
       "id                                                                        \n",
       "10139658    12000.0      12000.0          12000.0   36 months     13.53   \n",
       "10179520     3000.0       3000.0           3000.0   36 months     12.85   \n",
       "10149577    28000.0      28000.0          28000.0   36 months      7.62   \n",
       "10127816    24000.0      24000.0          24000.0   36 months     13.53   \n",
       "10148818    15000.0      15000.0          15000.0   36 months     14.47   \n",
       "\n",
       "          installment grade sub_grade emp_length home_ownership  \\\n",
       "id                                                                \n",
       "10139658       407.40     B        B5  10+ years           RENT   \n",
       "10179520       100.87     B        B4  10+ years           RENT   \n",
       "10149577       872.52     A        A3    5 years       MORTGAGE   \n",
       "10127816       814.80     B        B5  10+ years       MORTGAGE   \n",
       "10148818       516.10     C        C2  10+ years           RENT   \n",
       "\n",
       "                     ...              acc_now_delinq tot_coll_amt tot_cur_bal  \\\n",
       "id                   ...                                                        \n",
       "10139658             ...                         0.0      15386.0     13605.0   \n",
       "10179520             ...                         0.0        154.0     19530.0   \n",
       "10149577             ...                         0.0          0.0    799592.0   \n",
       "10127816             ...                         0.0        539.0    199834.0   \n",
       "10148818             ...                         0.0          0.0     13038.0   \n",
       "\n",
       "         total_rev_hi_lim had_delinq had_major_derog had_record  \\\n",
       "id                                                                \n",
       "10139658           8100.0          1               1          1   \n",
       "10179520           5300.0          1               1          1   \n",
       "10149577          54200.0          0               0          0   \n",
       "10127816          28200.0          0               0          0   \n",
       "10148818          25800.0          0               0          0   \n",
       "\n",
       "         annual_inc_merged  dti_merged  verification_status_merged  \n",
       "id                                                                  \n",
       "10139658           40000.0       16.94             Source Verified  \n",
       "10179520           25000.0       24.68                    Verified  \n",
       "10149577          325000.0       18.55             Source Verified  \n",
       "10127816          100000.0       22.18                    Verified  \n",
       "10148818           98000.0        6.15                Not Verified  \n",
       "\n",
       "[5 rows x 51 columns]"
      ]
     },
     "execution_count": 3,
     "metadata": {},
     "output_type": "execute_result"
    }
   ],
   "source": [
    "data.head()"
   ]
  },
  {
   "cell_type": "code",
   "execution_count": 4,
   "metadata": {},
   "outputs": [
    {
     "data": {
      "text/plain": [
       "(190273, 51)"
      ]
     },
     "execution_count": 4,
     "metadata": {},
     "output_type": "execute_result"
    }
   ],
   "source": [
    "data.shape"
   ]
  },
  {
   "cell_type": "code",
   "execution_count": 5,
   "metadata": {},
   "outputs": [
    {
     "data": {
      "text/plain": [
       "loan_amnt                     0\n",
       "funded_amnt                   0\n",
       "funded_amnt_inv               0\n",
       "term                          0\n",
       "int_rate                      0\n",
       "installment                   0\n",
       "grade                         0\n",
       "sub_grade                     0\n",
       "emp_length                    0\n",
       "home_ownership                0\n",
       "annual_inc                    0\n",
       "verification_status           0\n",
       "issue_d                       0\n",
       "loan_status                   0\n",
       "pymnt_plan                    0\n",
       "purpose                       0\n",
       "zip_code                      0\n",
       "addr_state                    0\n",
       "dti                           0\n",
       "delinq_2yrs                   0\n",
       "earliest_cr_line              0\n",
       "inq_last_6mths                0\n",
       "open_acc                      0\n",
       "pub_rec                       0\n",
       "revol_bal                     0\n",
       "revol_util                    0\n",
       "total_acc                     0\n",
       "initial_list_status           0\n",
       "out_prncp                     0\n",
       "out_prncp_inv                 0\n",
       "total_pymnt                   0\n",
       "total_pymnt_inv               0\n",
       "total_rec_prncp               0\n",
       "total_rec_int                 0\n",
       "total_rec_late_fee            0\n",
       "recoveries                    0\n",
       "collection_recovery_fee       0\n",
       "last_pymnt_amnt               0\n",
       "collections_12_mths_ex_med    0\n",
       "policy_code                   0\n",
       "application_type              0\n",
       "acc_now_delinq                0\n",
       "tot_coll_amt                  0\n",
       "tot_cur_bal                   0\n",
       "total_rev_hi_lim              0\n",
       "had_delinq                    0\n",
       "had_major_derog               0\n",
       "had_record                    0\n",
       "annual_inc_merged             0\n",
       "dti_merged                    0\n",
       "verification_status_merged    0\n",
       "dtype: int64"
      ]
     },
     "execution_count": 5,
     "metadata": {},
     "output_type": "execute_result"
    }
   ],
   "source": [
    "data.isnull().sum()"
   ]
  },
  {
   "cell_type": "markdown",
   "metadata": {},
   "source": [
    "### Data Preparation - Target Variables"
   ]
  },
  {
   "cell_type": "markdown",
   "metadata": {},
   "source": [
    "##### Default Loans"
   ]
  },
  {
   "cell_type": "markdown",
   "metadata": {},
   "source": [
    "For the purpose of classifying which loans of defaulted, the loan_status column will need to be converted into a binary status column."
   ]
  },
  {
   "cell_type": "code",
   "execution_count": 57,
   "metadata": {},
   "outputs": [
    {
     "data": {
      "text/plain": [
       "Fully Paid     153872\n",
       "Charged Off     35202\n",
       "Default          1199\n",
       "Name: loan_status, dtype: int64"
      ]
     },
     "execution_count": 57,
     "metadata": {},
     "output_type": "execute_result"
    }
   ],
   "source": [
    "data['loan_status'].value_counts()"
   ]
  },
  {
   "cell_type": "markdown",
   "metadata": {},
   "source": [
    "A very small proprotion of loans marked simply Default. Descriptions provided by LC imply that loans marked as both Default and Charged Off can to be treated as default, since charged off loans are simply a more severe case of defaulting. Additionally, any loans with a status of \"Does not meet the credit policy...\" will be simplified to their respective status."
   ]
  },
  {
   "cell_type": "code",
   "execution_count": 58,
   "metadata": {
    "collapsed": true
   },
   "outputs": [],
   "source": [
    "def default_status(loan_status):\n",
    "    \n",
    "    s = re.compile('Charged|Default')\n",
    "    \n",
    "    if re.search(s, loan_status):\n",
    "        default = 1\n",
    "    else:\n",
    "        default = 0\n",
    "        \n",
    "    return default"
   ]
  },
  {
   "cell_type": "code",
   "execution_count": 59,
   "metadata": {
    "collapsed": true
   },
   "outputs": [],
   "source": [
    "data['default'] = data['loan_status'].apply(default_status)"
   ]
  },
  {
   "cell_type": "code",
   "execution_count": 60,
   "metadata": {},
   "outputs": [
    {
     "data": {
      "text/plain": [
       "0    153872\n",
       "1     36401\n",
       "Name: default, dtype: int64"
      ]
     },
     "execution_count": 60,
     "metadata": {},
     "output_type": "execute_result"
    }
   ],
   "source": [
    "data['default'].value_counts()"
   ]
  },
  {
   "cell_type": "markdown",
   "metadata": {},
   "source": [
    "##### Loan Return"
   ]
  },
  {
   "cell_type": "markdown",
   "metadata": {},
   "source": [
    "As established during EDA, the percentage return on a loan is not only the most balanced metric for comparing loans of different magnitude, but also the more meaningful measurement for the business context."
   ]
  },
  {
   "cell_type": "code",
   "execution_count": 61,
   "metadata": {
    "collapsed": true
   },
   "outputs": [],
   "source": [
    "def loan_p_return(loan):\n",
    "    return (loan['total_pymnt'] - loan['funded_amnt']) / loan['funded_amnt']"
   ]
  },
  {
   "cell_type": "code",
   "execution_count": 62,
   "metadata": {
    "collapsed": true
   },
   "outputs": [],
   "source": [
    "data['loan_p_return'] = data[['total_pymnt', 'funded_amnt']].apply(loan_p_return, axis=1)"
   ]
  },
  {
   "cell_type": "markdown",
   "metadata": {},
   "source": [
    "### Feature Engineering"
   ]
  },
  {
   "cell_type": "markdown",
   "metadata": {},
   "source": [
    "##### Grade Values"
   ]
  },
  {
   "cell_type": "markdown",
   "metadata": {},
   "source": [
    "As mentioned earlier, grade values should be converted into a numerical scale. Although a categorical feature, since higher grades signify higher value. this should translate with little issue."
   ]
  },
  {
   "cell_type": "markdown",
   "metadata": {},
   "source": [
    "The most straightforward approach is to give incremeting values to each grade. For grades A through G we simply assign values of 0-6:"
   ]
  },
  {
   "cell_type": "code",
   "execution_count": 63,
   "metadata": {
    "collapsed": true
   },
   "outputs": [],
   "source": [
    "grade_map = {c: i for i, c in enumerate('ABCDEFG')}\n",
    "\n",
    "data['grade_value'] = data['grade'].map(grade_map)"
   ]
  },
  {
   "cell_type": "markdown",
   "metadata": {},
   "source": [
    "Subgrade is a little more difficult, since we need to quantify the 1-5 subgrade range for each letter grade value (e.g. A1, A2, etc.). If we take our previous 0-7 letter value assignment as the tens place for our scores, we can increment by the 1 through 5 values. For example, A1-A5 translates to 1-5, and G1-G5 to 61-65:"
   ]
  },
  {
   "cell_type": "code",
   "execution_count": 64,
   "metadata": {
    "collapsed": true
   },
   "outputs": [],
   "source": [
    "subgrade_map = {sg: grade_map[sg[0]]*10 + int(sg[1]) for sg in [c + str(i) for c in 'ABCDEFG' for i in range(1,6)]}\n",
    "\n",
    "data['subgrade_value'] = data['sub_grade'].map(subgrade_map)"
   ]
  },
  {
   "cell_type": "markdown",
   "metadata": {},
   "source": [
    "These score conversion are obviously fairly simplistic and assume a linear progression in value from one score to the next. An alternative approach would be to weigh scores according to their proportion of defaulted loans:"
   ]
  },
  {
   "cell_type": "code",
   "execution_count": 65,
   "metadata": {},
   "outputs": [
    {
     "data": {
      "text/plain": [
       "grade\n",
       "A    0.060720\n",
       "B    0.125616\n",
       "C    0.201092\n",
       "D    0.271114\n",
       "E    0.338269\n",
       "F    0.390544\n",
       "G    0.420849\n",
       "Name: default, dtype: float64"
      ]
     },
     "execution_count": 65,
     "metadata": {},
     "output_type": "execute_result"
    }
   ],
   "source": [
    "data.groupby('grade')['default'].mean()"
   ]
  },
  {
   "cell_type": "code",
   "execution_count": 66,
   "metadata": {
    "collapsed": true
   },
   "outputs": [],
   "source": [
    "grade_p_map = data.groupby('grade')['default'].mean()\n",
    "\n",
    "data['grade_p_value'] = data['grade'].map(grade_p_map)"
   ]
  },
  {
   "cell_type": "code",
   "execution_count": 67,
   "metadata": {},
   "outputs": [
    {
     "data": {
      "text/plain": [
       "sub_grade\n",
       "A1    0.029523\n",
       "A2    0.041678\n",
       "A3    0.049311\n",
       "A4    0.071349\n",
       "A5    0.081799\n",
       "B1    0.100133\n",
       "B2    0.107047\n",
       "B3    0.126975\n",
       "B4    0.138717\n",
       "B5    0.150429\n",
       "C1    0.167228\n",
       "C2    0.182722\n",
       "C3    0.206470\n",
       "C4    0.220445\n",
       "C5    0.235816\n",
       "D1    0.251399\n",
       "D2    0.263850\n",
       "D3    0.261624\n",
       "D4    0.294196\n",
       "D5    0.299425\n",
       "E1    0.299946\n",
       "E2    0.337000\n",
       "E3    0.346965\n",
       "E4    0.351322\n",
       "E5    0.375163\n",
       "F1    0.347039\n",
       "F2    0.373061\n",
       "F3    0.417305\n",
       "F4    0.418933\n",
       "F5    0.441542\n",
       "G1    0.429603\n",
       "G2    0.408629\n",
       "G3    0.434629\n",
       "G4    0.347059\n",
       "G5    0.477124\n",
       "Name: default, dtype: float64"
      ]
     },
     "execution_count": 67,
     "metadata": {},
     "output_type": "execute_result"
    }
   ],
   "source": [
    "data.groupby('sub_grade')['default'].mean()"
   ]
  },
  {
   "cell_type": "code",
   "execution_count": 68,
   "metadata": {
    "collapsed": true
   },
   "outputs": [],
   "source": [
    "subgrade_p_map = data.groupby('sub_grade')['default'].mean()\n",
    "\n",
    "data['subgrade_p_value'] = data['sub_grade'].map(subgrade_p_map)"
   ]
  },
  {
   "cell_type": "code",
   "execution_count": 69,
   "metadata": {
    "scrolled": true
   },
   "outputs": [
    {
     "data": {
      "text/html": [
       "<div>\n",
       "<style>\n",
       "    .dataframe thead tr:only-child th {\n",
       "        text-align: right;\n",
       "    }\n",
       "\n",
       "    .dataframe thead th {\n",
       "        text-align: left;\n",
       "    }\n",
       "\n",
       "    .dataframe tbody tr th {\n",
       "        vertical-align: top;\n",
       "    }\n",
       "</style>\n",
       "<table border=\"1\" class=\"dataframe\">\n",
       "  <thead>\n",
       "    <tr style=\"text-align: right;\">\n",
       "      <th></th>\n",
       "      <th>grade</th>\n",
       "      <th>sub_grade</th>\n",
       "      <th>grade_p_value</th>\n",
       "      <th>subgrade_p_value</th>\n",
       "    </tr>\n",
       "    <tr>\n",
       "      <th>id</th>\n",
       "      <th></th>\n",
       "      <th></th>\n",
       "      <th></th>\n",
       "      <th></th>\n",
       "    </tr>\n",
       "  </thead>\n",
       "  <tbody>\n",
       "    <tr>\n",
       "      <th>10139658</th>\n",
       "      <td>B</td>\n",
       "      <td>B5</td>\n",
       "      <td>0.125616</td>\n",
       "      <td>0.150429</td>\n",
       "    </tr>\n",
       "    <tr>\n",
       "      <th>10179520</th>\n",
       "      <td>B</td>\n",
       "      <td>B4</td>\n",
       "      <td>0.125616</td>\n",
       "      <td>0.138717</td>\n",
       "    </tr>\n",
       "    <tr>\n",
       "      <th>10149577</th>\n",
       "      <td>A</td>\n",
       "      <td>A3</td>\n",
       "      <td>0.060720</td>\n",
       "      <td>0.049311</td>\n",
       "    </tr>\n",
       "    <tr>\n",
       "      <th>10127816</th>\n",
       "      <td>B</td>\n",
       "      <td>B5</td>\n",
       "      <td>0.125616</td>\n",
       "      <td>0.150429</td>\n",
       "    </tr>\n",
       "    <tr>\n",
       "      <th>10148818</th>\n",
       "      <td>C</td>\n",
       "      <td>C2</td>\n",
       "      <td>0.201092</td>\n",
       "      <td>0.182722</td>\n",
       "    </tr>\n",
       "    <tr>\n",
       "      <th>10149488</th>\n",
       "      <td>B</td>\n",
       "      <td>B2</td>\n",
       "      <td>0.125616</td>\n",
       "      <td>0.107047</td>\n",
       "    </tr>\n",
       "    <tr>\n",
       "      <th>10129506</th>\n",
       "      <td>B</td>\n",
       "      <td>B5</td>\n",
       "      <td>0.125616</td>\n",
       "      <td>0.150429</td>\n",
       "    </tr>\n",
       "    <tr>\n",
       "      <th>10079457</th>\n",
       "      <td>B</td>\n",
       "      <td>B3</td>\n",
       "      <td>0.125616</td>\n",
       "      <td>0.126975</td>\n",
       "    </tr>\n",
       "    <tr>\n",
       "      <th>10089642</th>\n",
       "      <td>B</td>\n",
       "      <td>B2</td>\n",
       "      <td>0.125616</td>\n",
       "      <td>0.107047</td>\n",
       "    </tr>\n",
       "    <tr>\n",
       "      <th>10109669</th>\n",
       "      <td>C</td>\n",
       "      <td>C1</td>\n",
       "      <td>0.201092</td>\n",
       "      <td>0.167228</td>\n",
       "    </tr>\n",
       "  </tbody>\n",
       "</table>\n",
       "</div>"
      ],
      "text/plain": [
       "         grade sub_grade  grade_p_value  subgrade_p_value\n",
       "id                                                       \n",
       "10139658     B        B5       0.125616          0.150429\n",
       "10179520     B        B4       0.125616          0.138717\n",
       "10149577     A        A3       0.060720          0.049311\n",
       "10127816     B        B5       0.125616          0.150429\n",
       "10148818     C        C2       0.201092          0.182722\n",
       "10149488     B        B2       0.125616          0.107047\n",
       "10129506     B        B5       0.125616          0.150429\n",
       "10079457     B        B3       0.125616          0.126975\n",
       "10089642     B        B2       0.125616          0.107047\n",
       "10109669     C        C1       0.201092          0.167228"
      ]
     },
     "execution_count": 69,
     "metadata": {},
     "output_type": "execute_result"
    }
   ],
   "source": [
    "data[['grade', 'sub_grade', 'grade_p_value', 'subgrade_p_value']].head(10)"
   ]
  },
  {
   "cell_type": "markdown",
   "metadata": {},
   "source": [
    "##### Simplified Application Type"
   ]
  },
  {
   "cell_type": "markdown",
   "metadata": {},
   "source": [
    "There are only two types of applications: JOINT and INDIVIDUAL. Consequently this information can be simplified into a single binary value to indicate if it is joint or not"
   ]
  },
  {
   "cell_type": "code",
   "execution_count": 70,
   "metadata": {
    "scrolled": true
   },
   "outputs": [
    {
     "data": {
      "text/plain": [
       "INDIVIDUAL    190272\n",
       "JOINT              1\n",
       "Name: application_type, dtype: int64"
      ]
     },
     "execution_count": 70,
     "metadata": {},
     "output_type": "execute_result"
    }
   ],
   "source": [
    "data['application_type'].value_counts()"
   ]
  },
  {
   "cell_type": "markdown",
   "metadata": {},
   "source": [
    "Turns out that during our data cleaning process we have actually lost all but 1 of the JOINT type records. We will drop this column and all of our 'merged' column which sought to combine values from joint applications with the regular values:"
   ]
  },
  {
   "cell_type": "code",
   "execution_count": 71,
   "metadata": {
    "collapsed": true,
    "scrolled": true
   },
   "outputs": [],
   "source": [
    "data.drop(['application_type', 'dti_merged', 'annual_inc_merged', 'verification_status_merged'], axis=1, inplace=True)"
   ]
  },
  {
   "cell_type": "markdown",
   "metadata": {},
   "source": [
    "Moving forward we should revert to using the original annual_income and dti columns."
   ]
  },
  {
   "cell_type": "markdown",
   "metadata": {},
   "source": [
    "##### Simplified Verification Status"
   ]
  },
  {
   "cell_type": "markdown",
   "metadata": {},
   "source": [
    "Verification status is currently split into 3 values:"
   ]
  },
  {
   "cell_type": "code",
   "execution_count": 72,
   "metadata": {},
   "outputs": [
    {
     "data": {
      "text/plain": [
       "Verified           72663\n",
       "Not Verified       59787\n",
       "Source Verified    57823\n",
       "Name: verification_status, dtype: int64"
      ]
     },
     "execution_count": 72,
     "metadata": {},
     "output_type": "execute_result"
    }
   ],
   "source": [
    "data['verification_status'].value_counts()"
   ]
  },
  {
   "cell_type": "markdown",
   "metadata": {},
   "source": [
    "Distinguishing between verified and source verified serves little purpose, so for the sake of simplicity it would be better to reduce it to a binary feature:"
   ]
  },
  {
   "cell_type": "code",
   "execution_count": 73,
   "metadata": {
    "collapsed": true
   },
   "outputs": [],
   "source": [
    "data['verified'] = (data['verification_status'] != 'Not Verified').astype(int)"
   ]
  },
  {
   "cell_type": "markdown",
   "metadata": {},
   "source": [
    "##### Simplified Home Ownership"
   ]
  },
  {
   "cell_type": "markdown",
   "metadata": {},
   "source": [
    "Home ownership has a few small categories:"
   ]
  },
  {
   "cell_type": "code",
   "execution_count": 74,
   "metadata": {},
   "outputs": [
    {
     "data": {
      "text/plain": [
       "MORTGAGE    97383\n",
       "RENT        75705\n",
       "OWN         17102\n",
       "OTHER          42\n",
       "NONE           40\n",
       "ANY             1\n",
       "Name: home_ownership, dtype: int64"
      ]
     },
     "execution_count": 74,
     "metadata": {},
     "output_type": "execute_result"
    }
   ],
   "source": [
    "data['home_ownership'].value_counts()"
   ]
  },
  {
   "cell_type": "markdown",
   "metadata": {},
   "source": [
    "The category 'ANY' should be merged into a singular 'OTHER':"
   ]
  },
  {
   "cell_type": "code",
   "execution_count": 75,
   "metadata": {
    "collapsed": true
   },
   "outputs": [],
   "source": [
    "data['home_ownership'] = data['home_ownership'].apply(lambda x: x if x != 'ANY' else 'OTHER')"
   ]
  },
  {
   "cell_type": "code",
   "execution_count": 76,
   "metadata": {},
   "outputs": [
    {
     "data": {
      "text/plain": [
       "MORTGAGE    97383\n",
       "RENT        75705\n",
       "OWN         17102\n",
       "OTHER          43\n",
       "NONE           40\n",
       "Name: home_ownership, dtype: int64"
      ]
     },
     "execution_count": 76,
     "metadata": {},
     "output_type": "execute_result"
    }
   ],
   "source": [
    "data['home_ownership'].value_counts()"
   ]
  },
  {
   "cell_type": "markdown",
   "metadata": {},
   "source": [
    "##### Simplified Term"
   ]
  },
  {
   "cell_type": "markdown",
   "metadata": {},
   "source": [
    "Term only has two values, and subsequently can be compressed into a single binary feature versus creating two OHE columns:"
   ]
  },
  {
   "cell_type": "code",
   "execution_count": 77,
   "metadata": {},
   "outputs": [
    {
     "data": {
      "text/plain": [
       " 36 months    145579\n",
       " 60 months     44694\n",
       "Name: term, dtype: int64"
      ]
     },
     "execution_count": 77,
     "metadata": {},
     "output_type": "execute_result"
    }
   ],
   "source": [
    "data['term'].value_counts()"
   ]
  },
  {
   "cell_type": "code",
   "execution_count": 78,
   "metadata": {
    "collapsed": true
   },
   "outputs": [],
   "source": [
    "data['term_bin'] = data['term'].str.contains('60').astype(int)"
   ]
  },
  {
   "cell_type": "code",
   "execution_count": 79,
   "metadata": {},
   "outputs": [
    {
     "data": {
      "text/plain": [
       "0    145579\n",
       "1     44694\n",
       "Name: term_bin, dtype: int64"
      ]
     },
     "execution_count": 79,
     "metadata": {},
     "output_type": "execute_result"
    }
   ],
   "source": [
    "data['term_bin'].value_counts()"
   ]
  },
  {
   "cell_type": "markdown",
   "metadata": {},
   "source": [
    "##### Converting Employment Length"
   ]
  },
  {
   "cell_type": "code",
   "execution_count": 80,
   "metadata": {},
   "outputs": [
    {
     "data": {
      "text/plain": [
       "10+ years    62042\n",
       "2 years      16959\n",
       "3 years      14581\n",
       "< 1 year     14278\n",
       "5 years      12677\n",
       "1 year       11993\n",
       "7 years      11055\n",
       "4 years      10901\n",
       "6 years      10839\n",
       "8 years       9412\n",
       "n/a           8036\n",
       "9 years       7500\n",
       "Name: emp_length, dtype: int64"
      ]
     },
     "execution_count": 80,
     "metadata": {},
     "output_type": "execute_result"
    }
   ],
   "source": [
    "data['emp_length'].value_counts()"
   ]
  },
  {
   "cell_type": "markdown",
   "metadata": {},
   "source": [
    "Because employment length corresponds to an actual scale in number of years, this categorical feature can be easily converted to a numerical value. The only issues that arise are with the greather than / less than values, for which the following assumptions will be made:\n",
    "- < 1 year: following the linear progression of values (1-10) this will simply be assigned 0.\n",
    "- 10+ years: this will simply remain as 10 since there is not other information available to represent this otherwise.\n",
    "\n",
    "Additonally, 'n/a' is assumed to correspond to unemployement and will subsequently be assigned a value of -1 to fall in line with our scale."
   ]
  },
  {
   "cell_type": "code",
   "execution_count": 87,
   "metadata": {
    "collapsed": true
   },
   "outputs": [],
   "source": [
    "def emp_length_val(emp_length):\n",
    "    s = re.search('[0-9]{1,2}', emp_length)\n",
    "    if s:\n",
    "        if emp_length[0] == '<':\n",
    "            val = 0\n",
    "        else:\n",
    "            val = int(s.group(0))\n",
    "    else:\n",
    "        val = -1\n",
    "    return val"
   ]
  },
  {
   "cell_type": "code",
   "execution_count": 92,
   "metadata": {
    "collapsed": true
   },
   "outputs": [],
   "source": [
    "data['emp_length_val'] = data['emp_length'].apply(emp_length_val)"
   ]
  },
  {
   "cell_type": "code",
   "execution_count": 93,
   "metadata": {},
   "outputs": [
    {
     "data": {
      "text/plain": [
       " 10    62042\n",
       " 2     16959\n",
       " 3     14581\n",
       " 0     14278\n",
       " 5     12677\n",
       " 1     11993\n",
       " 7     11055\n",
       " 4     10901\n",
       " 6     10839\n",
       " 8      9412\n",
       "-1      8036\n",
       " 9      7500\n",
       "Name: emp_length_val, dtype: int64"
      ]
     },
     "execution_count": 93,
     "metadata": {},
     "output_type": "execute_result"
    }
   ],
   "source": [
    "data['emp_length_val'].value_counts()"
   ]
  },
  {
   "cell_type": "markdown",
   "metadata": {},
   "source": [
    "##### Annual Income Ratios"
   ]
  },
  {
   "cell_type": "markdown",
   "metadata": {},
   "source": [
    "One potentially useful measure which has yet to be captured is how the loan and installment amounts compare to the annual income. During EDA it was established that there seems to be some correlation between larger ratios of loan amounts, balances, etc. to income and default rates, so perhaps these will prove useful for modeling."
   ]
  },
  {
   "cell_type": "code",
   "execution_count": 179,
   "metadata": {
    "collapsed": true
   },
   "outputs": [],
   "source": [
    "# LTI = Loan to Income (akin to DTI)\n",
    "data['lti'] = data['funded_amnt'] / data['annual_inc']"
   ]
  },
  {
   "cell_type": "markdown",
   "metadata": {},
   "source": [
    "Along similar lines, the magnitude of the monthly payment amount relative to annual income may also be of use:"
   ]
  },
  {
   "cell_type": "code",
   "execution_count": 180,
   "metadata": {
    "collapsed": true
   },
   "outputs": [],
   "source": [
    "# ITI = installment to income\n",
    "data['iti'] = data['installment'] / data['annual_inc']"
   ]
  },
  {
   "cell_type": "markdown",
   "metadata": {},
   "source": [
    "Comparing the balances to income:"
   ]
  },
  {
   "cell_type": "code",
   "execution_count": 181,
   "metadata": {
    "collapsed": true
   },
   "outputs": [],
   "source": [
    "# RBTI = revol balance to income\n",
    "data['rbti'] = data['revol_bal'] / data['annual_inc']"
   ]
  },
  {
   "cell_type": "code",
   "execution_count": 182,
   "metadata": {
    "collapsed": true
   },
   "outputs": [],
   "source": [
    "# TBTI = total balance to income\n",
    "data['tbti'] = data['tot_cur_bal'] / data['annual_inc']"
   ]
  },
  {
   "cell_type": "markdown",
   "metadata": {},
   "source": [
    "##### Relative Interest Rates"
   ]
  },
  {
   "cell_type": "markdown",
   "metadata": {},
   "source": [
    "During EDA it was found that interest rates were generally constant for a given loan subgrade and issue date (month & year). The variation of interest rates over time may correlate with the overall economic cirumstances at the times, and subsequently may prove of use for capturing some of the risk expected for a loan."
   ]
  },
  {
   "cell_type": "code",
   "execution_count": 98,
   "metadata": {
    "collapsed": true
   },
   "outputs": [],
   "source": [
    "subgrade_int_rate_mean = data.groupby('sub_grade')['int_rate'].mean()\n",
    "subgrade_int_rate_std = data.groupby('sub_grade')['int_rate'].std()"
   ]
  },
  {
   "cell_type": "code",
   "execution_count": 99,
   "metadata": {
    "collapsed": true
   },
   "outputs": [],
   "source": [
    "# Number of standard deviations from the mean for a given subgrade\n",
    "data['int_rate_delta'] = data[['int_rate','sub_grade']].apply(lambda x: (x['int_rate'] - subgrade_int_rate_mean[x['sub_grade']]) / subgrade_int_rate_std[x['sub_grade']], axis=1)"
   ]
  },
  {
   "cell_type": "code",
   "execution_count": 100,
   "metadata": {},
   "outputs": [
    {
     "data": {
      "text/plain": [
       "id\n",
       "10139658    0.505176\n",
       "10179520    0.505656\n",
       "10149577    0.631236\n",
       "10127816    0.505176\n",
       "10148818    0.273110\n",
       "Name: int_rate_delta, dtype: float64"
      ]
     },
     "execution_count": 100,
     "metadata": {},
     "output_type": "execute_result"
    }
   ],
   "source": [
    "data['int_rate_delta'].head()"
   ]
  },
  {
   "cell_type": "markdown",
   "metadata": {},
   "source": [
    "This approach may, however, unfairly punish older loans due to what seems to be a decreasing of interest rates over the years. A better alternative may be to take a more granular approach comparing loans in a given year with the means of said year. The problem with this, however, is that in predicting future loans issued past 2016, supplemental interest rate means and standrard deviations would need to be provided, which may not be feasible. Consequently, feature selection will simply have to do in terms of deciding if this new but simplistic calculation is of use or not."
   ]
  },
  {
   "cell_type": "markdown",
   "metadata": {},
   "source": [
    "##### Earliest Credit Date"
   ]
  },
  {
   "cell_type": "markdown",
   "metadata": {},
   "source": [
    "Earliest credit date is one of the few date we can use for analysis due it being a static timestamp (versus things like last payment date). However, in its default datetime format it is not of much use for modeling. We can, however, convert this datetime into a relative time delta from the issue date to capture the age of a persons credit history relative to when the loan was requested."
   ]
  },
  {
   "cell_type": "code",
   "execution_count": 101,
   "metadata": {
    "collapsed": true
   },
   "outputs": [],
   "source": [
    "# Day difference between credit history start and issue date\n",
    "data['earliest_cr_line_td'] = [(issue_d.date() - cr.date()).days for issue_d, cr in zip(data['issue_d'], data['earliest_cr_line'])]"
   ]
  },
  {
   "cell_type": "code",
   "execution_count": 102,
   "metadata": {},
   "outputs": [
    {
     "data": {
      "text/html": [
       "<div>\n",
       "<style>\n",
       "    .dataframe thead tr:only-child th {\n",
       "        text-align: right;\n",
       "    }\n",
       "\n",
       "    .dataframe thead th {\n",
       "        text-align: left;\n",
       "    }\n",
       "\n",
       "    .dataframe tbody tr th {\n",
       "        vertical-align: top;\n",
       "    }\n",
       "</style>\n",
       "<table border=\"1\" class=\"dataframe\">\n",
       "  <thead>\n",
       "    <tr style=\"text-align: right;\">\n",
       "      <th></th>\n",
       "      <th>issue_d</th>\n",
       "      <th>earliest_cr_line</th>\n",
       "      <th>earliest_cr_line_td</th>\n",
       "    </tr>\n",
       "    <tr>\n",
       "      <th>id</th>\n",
       "      <th></th>\n",
       "      <th></th>\n",
       "      <th></th>\n",
       "    </tr>\n",
       "  </thead>\n",
       "  <tbody>\n",
       "    <tr>\n",
       "      <th>10139658</th>\n",
       "      <td>2013-12-01</td>\n",
       "      <td>1998-10-01</td>\n",
       "      <td>5540</td>\n",
       "    </tr>\n",
       "    <tr>\n",
       "      <th>10179520</th>\n",
       "      <td>2013-12-01</td>\n",
       "      <td>1991-05-01</td>\n",
       "      <td>8250</td>\n",
       "    </tr>\n",
       "    <tr>\n",
       "      <th>10149577</th>\n",
       "      <td>2013-12-01</td>\n",
       "      <td>1994-11-01</td>\n",
       "      <td>6970</td>\n",
       "    </tr>\n",
       "    <tr>\n",
       "      <th>10127816</th>\n",
       "      <td>2013-12-01</td>\n",
       "      <td>1989-01-01</td>\n",
       "      <td>9100</td>\n",
       "    </tr>\n",
       "    <tr>\n",
       "      <th>10148818</th>\n",
       "      <td>2013-12-01</td>\n",
       "      <td>1992-07-01</td>\n",
       "      <td>7823</td>\n",
       "    </tr>\n",
       "    <tr>\n",
       "      <th>10149488</th>\n",
       "      <td>2013-12-01</td>\n",
       "      <td>1995-08-01</td>\n",
       "      <td>6697</td>\n",
       "    </tr>\n",
       "    <tr>\n",
       "      <th>10129506</th>\n",
       "      <td>2013-12-01</td>\n",
       "      <td>1998-06-01</td>\n",
       "      <td>5662</td>\n",
       "    </tr>\n",
       "    <tr>\n",
       "      <th>10079457</th>\n",
       "      <td>2013-12-01</td>\n",
       "      <td>2001-07-01</td>\n",
       "      <td>4536</td>\n",
       "    </tr>\n",
       "    <tr>\n",
       "      <th>10089642</th>\n",
       "      <td>2013-12-01</td>\n",
       "      <td>1978-11-01</td>\n",
       "      <td>12814</td>\n",
       "    </tr>\n",
       "    <tr>\n",
       "      <th>10109669</th>\n",
       "      <td>2013-12-01</td>\n",
       "      <td>2001-12-01</td>\n",
       "      <td>4383</td>\n",
       "    </tr>\n",
       "  </tbody>\n",
       "</table>\n",
       "</div>"
      ],
      "text/plain": [
       "            issue_d earliest_cr_line  earliest_cr_line_td\n",
       "id                                                       \n",
       "10139658 2013-12-01       1998-10-01                 5540\n",
       "10179520 2013-12-01       1991-05-01                 8250\n",
       "10149577 2013-12-01       1994-11-01                 6970\n",
       "10127816 2013-12-01       1989-01-01                 9100\n",
       "10148818 2013-12-01       1992-07-01                 7823\n",
       "10149488 2013-12-01       1995-08-01                 6697\n",
       "10129506 2013-12-01       1998-06-01                 5662\n",
       "10079457 2013-12-01       2001-07-01                 4536\n",
       "10089642 2013-12-01       1978-11-01                12814\n",
       "10109669 2013-12-01       2001-12-01                 4383"
      ]
     },
     "execution_count": 102,
     "metadata": {},
     "output_type": "execute_result"
    }
   ],
   "source": [
    "data[['issue_d', 'earliest_cr_line','earliest_cr_line_td']].head(10)"
   ]
  },
  {
   "cell_type": "code",
   "execution_count": 103,
   "metadata": {},
   "outputs": [
    {
     "data": {
      "text/html": [
       "<div>\n",
       "<style>\n",
       "    .dataframe thead tr:only-child th {\n",
       "        text-align: right;\n",
       "    }\n",
       "\n",
       "    .dataframe thead th {\n",
       "        text-align: left;\n",
       "    }\n",
       "\n",
       "    .dataframe tbody tr th {\n",
       "        vertical-align: top;\n",
       "    }\n",
       "</style>\n",
       "<table border=\"1\" class=\"dataframe\">\n",
       "  <thead>\n",
       "    <tr style=\"text-align: right;\">\n",
       "      <th></th>\n",
       "      <th>loan_amnt</th>\n",
       "      <th>funded_amnt</th>\n",
       "      <th>funded_amnt_inv</th>\n",
       "      <th>term</th>\n",
       "      <th>int_rate</th>\n",
       "      <th>installment</th>\n",
       "      <th>grade</th>\n",
       "      <th>sub_grade</th>\n",
       "      <th>emp_length</th>\n",
       "      <th>home_ownership</th>\n",
       "      <th>...</th>\n",
       "      <th>subgrade_p_value</th>\n",
       "      <th>verified</th>\n",
       "      <th>term_bin</th>\n",
       "      <th>emp_length_val</th>\n",
       "      <th>lti</th>\n",
       "      <th>iti</th>\n",
       "      <th>rbti</th>\n",
       "      <th>tbti</th>\n",
       "      <th>int_rate_delta</th>\n",
       "      <th>earliest_cr_line_td</th>\n",
       "    </tr>\n",
       "    <tr>\n",
       "      <th>id</th>\n",
       "      <th></th>\n",
       "      <th></th>\n",
       "      <th></th>\n",
       "      <th></th>\n",
       "      <th></th>\n",
       "      <th></th>\n",
       "      <th></th>\n",
       "      <th></th>\n",
       "      <th></th>\n",
       "      <th></th>\n",
       "      <th></th>\n",
       "      <th></th>\n",
       "      <th></th>\n",
       "      <th></th>\n",
       "      <th></th>\n",
       "      <th></th>\n",
       "      <th></th>\n",
       "      <th></th>\n",
       "      <th></th>\n",
       "      <th></th>\n",
       "      <th></th>\n",
       "    </tr>\n",
       "  </thead>\n",
       "  <tbody>\n",
       "  </tbody>\n",
       "</table>\n",
       "<p>0 rows × 62 columns</p>\n",
       "</div>"
      ],
      "text/plain": [
       "Empty DataFrame\n",
       "Columns: [loan_amnt, funded_amnt, funded_amnt_inv, term, int_rate, installment, grade, sub_grade, emp_length, home_ownership, annual_inc, verification_status, issue_d, loan_status, pymnt_plan, purpose, zip_code, addr_state, dti, delinq_2yrs, earliest_cr_line, inq_last_6mths, open_acc, pub_rec, revol_bal, revol_util, total_acc, initial_list_status, out_prncp, out_prncp_inv, total_pymnt, total_pymnt_inv, total_rec_prncp, total_rec_int, total_rec_late_fee, recoveries, collection_recovery_fee, last_pymnt_amnt, collections_12_mths_ex_med, policy_code, acc_now_delinq, tot_coll_amt, tot_cur_bal, total_rev_hi_lim, had_delinq, had_major_derog, had_record, default, loan_p_return, grade_value, subgrade_value, grade_p_value, subgrade_p_value, verified, term_bin, emp_length_val, lti, iti, rbti, tbti, int_rate_delta, earliest_cr_line_td]\n",
       "Index: []\n",
       "\n",
       "[0 rows x 62 columns]"
      ]
     },
     "execution_count": 103,
     "metadata": {},
     "output_type": "execute_result"
    }
   ],
   "source": [
    "data[data['earliest_cr_line_td'] <= 0]"
   ]
  },
  {
   "cell_type": "markdown",
   "metadata": {},
   "source": [
    "As one would hope, there are no instances with a credit history which starts past the time of a loan being issued. As for the distribution of our new feature:"
   ]
  },
  {
   "cell_type": "code",
   "execution_count": 104,
   "metadata": {
    "scrolled": true
   },
   "outputs": [
    {
     "data": {
      "image/png": "[encoded data removed]",
      "text/plain": [
       "<matplotlib.figure.Figure at 0x24d00627940>"
      ]
     },
     "metadata": {},
     "output_type": "display_data"
    }
   ],
   "source": [
    "sns.distplot(data['earliest_cr_line_td'], bins=30)\n",
    "plt.show()"
   ]
  },
  {
   "cell_type": "code",
   "execution_count": 105,
   "metadata": {},
   "outputs": [
    {
     "data": {
      "image/png": "[encoded data removed]",
      "text/plain": [
       "<matplotlib.figure.Figure at 0x24d00627278>"
      ]
     },
     "metadata": {},
     "output_type": "display_data"
    }
   ],
   "source": [
    "sns.boxplot(data['earliest_cr_line_td'])\n",
    "plt.show()"
   ]
  },
  {
   "cell_type": "markdown",
   "metadata": {},
   "source": [
    "At first glance a relatively clean distribution, albeit with a similar right skew & high outliers we have observed with many of our other feautures like income. Scaling these features to balance out the higher values may prove beneficial."
   ]
  },
  {
   "cell_type": "markdown",
   "metadata": {},
   "source": [
    "##### Scaling Features (log, sqrt)"
   ]
  },
  {
   "cell_type": "markdown",
   "metadata": {},
   "source": [
    "Some features have a number of records with signficantly higher values which may yield undesirable results. This was already somewhat addressed during initial data cleaning with removing the most extreme values, but for the sake of preserving data there are still a considerable number of values outside the expected range (i.e. Tukey ranges [Q1 - 1.5\\*IQR, Q3 + 1.5\\*IQR]). Consequently, scaling such features via log or square root may prove beneficial by minimizng the impact of more extreme values which remain.\n",
    "\n",
    "The main features to consider are those already addressed during data cleaning:\n",
    "- Annual Income\n",
    "- Revolving Balance & Utilization\n",
    "- Total Balance and Total Collection\n",
    "- Total Revolving Limit\n",
    "\n",
    "We will create a log (zero values remain zero) and square root equivelent for each of these and let feature selection procedures determine the usefulness:"
   ]
  },
  {
   "cell_type": "code",
   "execution_count": 137,
   "metadata": {
    "collapsed": true
   },
   "outputs": [],
   "source": [
    "# Annual Income\n",
    "data['annual_inc_log'] = data['annual_inc'].apply(lambda x: np.log10(x) if x >= 1 else 0)\n",
    "data['annual_inc_sqrt'] = np.sqrt(data['annual_inc'])"
   ]
  },
  {
   "cell_type": "code",
   "execution_count": 138,
   "metadata": {
    "collapsed": true
   },
   "outputs": [],
   "source": [
    "# Revolving balance\n",
    "data['revol_bal_log'] = data['revol_bal'].apply(lambda x: np.log10(x) if x >= 1 else 0)\n",
    "data['revol_bal_sqrt'] = np.sqrt(data['revol_bal'])"
   ]
  },
  {
   "cell_type": "code",
   "execution_count": 139,
   "metadata": {
    "collapsed": true
   },
   "outputs": [],
   "source": [
    "# Revolving utilization\n",
    "data['revol_util_log'] = data['revol_util'].apply(lambda x: np.log10(x) if x >= 1 else 0)\n",
    "data['revol_util_sqrt'] = np.sqrt(data['revol_util'])"
   ]
  },
  {
   "cell_type": "code",
   "execution_count": 140,
   "metadata": {
    "collapsed": true
   },
   "outputs": [],
   "source": [
    "# Total balance\n",
    "data['tot_bal_log'] = data['tot_cur_bal'].apply(lambda x: np.log10(x) if x >= 1 else 0)\n",
    "data['tot_bal_sqrt'] = np.sqrt(data['tot_cur_bal'])"
   ]
  },
  {
   "cell_type": "code",
   "execution_count": 141,
   "metadata": {
    "collapsed": true
   },
   "outputs": [],
   "source": [
    "# Total Collections\n",
    "data['tot_coll_log'] = data['tot_coll_amt'].apply(lambda x: np.log10(x) if x >= 1 else 0)\n",
    "data['tot_coll_sqrt'] = np.sqrt(data['tot_coll_amt'])"
   ]
  },
  {
   "cell_type": "code",
   "execution_count": 142,
   "metadata": {
    "collapsed": true
   },
   "outputs": [],
   "source": [
    "# Total Rev Lim\n",
    "data['rev_lim_log'] = data['total_rev_hi_lim'].apply(lambda x: np.log10(x) if x >= 1 else 0)\n",
    "data['rev_lim_sqrt'] = np.sqrt(data['total_rev_hi_lim'])"
   ]
  },
  {
   "cell_type": "markdown",
   "metadata": {},
   "source": [
    "\n",
    "Additionally, we just created the earliest credit date feature, which shows a similar distribution and consequently may also benefit from various scaling."
   ]
  },
  {
   "cell_type": "code",
   "execution_count": 143,
   "metadata": {
    "collapsed": true
   },
   "outputs": [],
   "source": [
    "data['cr_line_td_log'] = data['earliest_cr_line_td'].apply(lambda x: np.log10(x) if x >= 1 else 0)\n",
    "data['cr_line_td_sqrt'] = np.sqrt(data['earliest_cr_line_td'])"
   ]
  },
  {
   "cell_type": "markdown",
   "metadata": {},
   "source": [
    "Finally, whilst loan amount does have hard cap at 35,000 it may still be worthwhile peforming this same process to help balance comparisons between loans at either end of the spectrum:"
   ]
  },
  {
   "cell_type": "code",
   "execution_count": 144,
   "metadata": {
    "collapsed": true
   },
   "outputs": [],
   "source": [
    "# Loan amount (using funded amount)\n",
    "data['funded_amnt_log'] = data['funded_amnt'].apply(lambda x: np.log10(x) if x >= 1 else 0)\n",
    "data['funded_amnt_sqrt'] = np.sqrt(data['funded_amnt'])"
   ]
  },
  {
   "cell_type": "markdown",
   "metadata": {},
   "source": [
    "##### Quantile Features"
   ]
  },
  {
   "cell_type": "markdown",
   "metadata": {},
   "source": [
    "Another approach to handling features with a large range of values is by splitting records into quantile bins. This was already explored in EDA, in which splitting into 10th percentile bins proved to show much smoother trends for things like income. We could technically repeat this binning for all the features addressed in the log/sqrt scaling above, but this would likely prove excessive since we already expect to have to eliminate a number of them for being redundant or of little importance.\n",
    "\n",
    "Consequently, we will limit this quantile to what we deem the most significant features: income & loan amount.  "
   ]
  },
  {
   "cell_type": "code",
   "execution_count": 114,
   "metadata": {
    "collapsed": true
   },
   "outputs": [],
   "source": [
    "def get_qbin(val, quartiles):\n",
    "    '''\n",
    "    Return which of the provided quartiles the value falls in.\n",
    "    '''\n",
    "    for i, q in enumerate(quartiles):\n",
    "        if val <= q:\n",
    "            return i+1\n",
    "    return len(quartiles) # If value exceeds last quartile, bin with last quartile"
   ]
  },
  {
   "cell_type": "code",
   "execution_count": 115,
   "metadata": {
    "collapsed": true
   },
   "outputs": [],
   "source": [
    "# Annual income, 10th percentiles\n",
    "q = 0.1\n",
    "q_range = np.arange(q, 1+q, q)\n",
    "quantiles = data['annual_inc'].quantile(q_range)\n",
    "data['annual_inc_q10'] = data['annual_inc'].apply(lambda x: get_qbin(x, quantiles))"
   ]
  },
  {
   "cell_type": "code",
   "execution_count": 116,
   "metadata": {
    "collapsed": true
   },
   "outputs": [],
   "source": [
    "# Funded amount, 10th percentiles\n",
    "q = 0.1\n",
    "q_range = np.arange(q, 1+q, q)\n",
    "quantiles = data['funded_amnt'].quantile(q_range)\n",
    "data['funded_amnt_q10'] = data['funded_amnt'].apply(lambda x: get_qbin(x, quantiles))"
   ]
  },
  {
   "cell_type": "markdown",
   "metadata": {},
   "source": [
    "### Feature Selection"
   ]
  },
  {
   "cell_type": "markdown",
   "metadata": {},
   "source": [
    "##### Evaluate duplicated features"
   ]
  },
  {
   "cell_type": "markdown",
   "metadata": {},
   "source": [
    "We have created a number of new features which are simply different scalings and representations of the same value. For the purposes of modeling, only one of these should be used or else our results will be unfairly influenced by these duplicated indicators. We will select the best feature for each set using Select K Best and F-Test scoring:"
   ]
  },
  {
   "cell_type": "code",
   "execution_count": 153,
   "metadata": {
    "collapsed": true
   },
   "outputs": [],
   "source": [
    "def get_k_best(X, y, k=1, attribute_names=None, score_func=f_classif):\n",
    "    attr = X.columns if attribute_names is None else attribute_names\n",
    "    select_best = Pipeline([('df_select', DataFrame_Selector(attribute_names=attr)),\n",
    "                            ('sc', StandardScaler()),\n",
    "                            ('select_best', SelectKBest(k=k, score_func=score_func))])\n",
    "    select_best.fit(X,y)\n",
    "    scores = select_best.named_steps['select_best'].scores_\n",
    "    return [attr[i] for i in np.argsort(scores)][::-1][:k], {attr[i]: scores[i] for i in np.argsort(scores)}"
   ]
  },
  {
   "cell_type": "code",
   "execution_count": 118,
   "metadata": {
    "collapsed": true
   },
   "outputs": [],
   "source": [
    "feature_sets = [['annual_inc', 'annual_inc_log', 'annual_inc_sqrt', 'annual_inc_q10'],\n",
    "                ['revol_bal', 'revol_bal_log', 'revol_bal_sqrt'],\n",
    "                ['revol_util', 'revol_util_log', 'revol_util_sqrt'],\n",
    "                ['tot_cur_bal', 'tot_bal_log', 'tot_bal_sqrt'],\n",
    "                ['tot_coll_amt', 'tot_coll_log', 'tot_coll_sqrt'],\n",
    "                ['total_rev_hi_lim', 'rev_lim_log', 'rev_lim_sqrt'],\n",
    "                ['funded_amnt', 'funded_amnt_log', 'funded_amnt_sqrt', 'funded_amnt_q10'],\n",
    "                ['earliest_cr_line_td', 'cr_line_td_log', 'cr_line_td_sqrt']]"
   ]
  },
  {
   "cell_type": "code",
   "execution_count": 157,
   "metadata": {},
   "outputs": [
    {
     "name": "stdout",
     "output_type": "stream",
     "text": [
      "Best annual_inc feature: ['annual_inc_q10']\n",
      "Best revol_bal feature: ['revol_bal_log']\n",
      "Best revol_util feature: ['revol_util']\n",
      "Best tot_cur_bal feature: ['tot_cur_bal']\n",
      "Best tot_coll_amt feature: ['tot_coll_amt']\n",
      "Best total_rev_hi_lim feature: ['rev_lim_sqrt']\n",
      "Best funded_amnt feature: ['funded_amnt_q10']\n",
      "Best earliest_cr_line_td feature: ['cr_line_td_log']\n"
     ]
    }
   ],
   "source": [
    "# Summary for classification\n",
    "best_c_features = []\n",
    "for cols in feature_sets:\n",
    "    best_c_features.append(get_k_best(data, data['default'], attribute_names=cols, k=1)[0])\n",
    "    print('Best {} feature: {}'.format(cols[0], best_c_features[-1]))"
   ]
  },
  {
   "cell_type": "code",
   "execution_count": 159,
   "metadata": {
    "scrolled": true
   },
   "outputs": [
    {
     "name": "stdout",
     "output_type": "stream",
     "text": [
      "Best annual_inc feature: ['annual_inc_q10']\n",
      "Best revol_bal feature: ['revol_bal_log']\n",
      "Best revol_util feature: ['revol_util']\n",
      "Best tot_cur_bal feature: ['tot_cur_bal']\n",
      "Best tot_coll_amt feature: ['tot_coll_log']\n",
      "Best total_rev_hi_lim feature: ['rev_lim_log']\n",
      "Best funded_amnt feature: ['funded_amnt_q10']\n",
      "Best earliest_cr_line_td feature: ['cr_line_td_log']\n"
     ]
    }
   ],
   "source": [
    "# Summary for regression\n",
    "best_r_features = []\n",
    "for cols in feature_sets:\n",
    "    best_r_features.append(get_k_best(data, data['loan_p_return'], attribute_names=cols, k=1, score_func=f_regression)[0])\n",
    "    print('Best {} feature: {}'.format(cols[0], best_r_features[-1]))"
   ]
  },
  {
   "cell_type": "markdown",
   "metadata": {},
   "source": [
    "Only distinction between our classification and regression problems are with tot_coll_amt and total_rev_hi_lim. We will see how significant the differenece in scores are:"
   ]
  },
  {
   "cell_type": "code",
   "execution_count": 169,
   "metadata": {
    "collapsed": true
   },
   "outputs": [],
   "source": [
    "drop_cols = ['annual_inc_log', 'annual_inc_sqrt',\n",
    "             'revol_bal_sqrt',\n",
    "             'revol_util_log', 'revol_util_sqrt',\n",
    "             'tot_bal_log', 'tot_bal_sqrt',\n",
    "             'tot_coll_sqrt',\n",
    "             'funded_amnt_log', 'funded_amnt_sqrt',\n",
    "             'cr_line_td_sqrt']"
   ]
  },
  {
   "cell_type": "code",
   "execution_count": 170,
   "metadata": {
    "collapsed": true
   },
   "outputs": [],
   "source": [
    "data.drop(drop_cols, axis=1, inplace=True)"
   ]
  },
  {
   "cell_type": "markdown",
   "metadata": {},
   "source": [
    "Similarly, the various values for grade and subgrade should also be explored:"
   ]
  },
  {
   "cell_type": "code",
   "execution_count": 174,
   "metadata": {},
   "outputs": [
    {
     "data": {
      "text/plain": [
       "['subgrade_p_value']"
      ]
     },
     "execution_count": 174,
     "metadata": {},
     "output_type": "execute_result"
    }
   ],
   "source": [
    "# Best grade feature for classification\n",
    "get_k_best(data, data['default'], attribute_names=['grade_value', 'subgrade_value', 'grade_p_value', 'subgrade_p_value'])[0]"
   ]
  },
  {
   "cell_type": "code",
   "execution_count": 175,
   "metadata": {
    "scrolled": true
   },
   "outputs": [
    {
     "data": {
      "text/plain": [
       "['subgrade_p_value']"
      ]
     },
     "execution_count": 175,
     "metadata": {},
     "output_type": "execute_result"
    }
   ],
   "source": [
    "# Best grade feature for regression\n",
    "get_k_best(data, data['loan_p_return'], attribute_names=['grade_value', 'subgrade_value', 'grade_p_value', 'subgrade_p_value'], score_func=f_regression)[0]"
   ]
  },
  {
   "cell_type": "markdown",
   "metadata": {},
   "source": [
    "The subgrade_p_value turns out to the strongest indicator or both the classification and regression problems."
   ]
  },
  {
   "cell_type": "markdown",
   "metadata": {},
   "source": [
    "Note that without further analysis, this approach does make a rather broad assumption that the best F-test scoring translates directly to all types of models. The alternative and more in-depth approach would be to evaluate the change in model performance with the use of each of these feature variations. However, this would be an extremely time consuming process given the number of feature variations and subsequent permutations possible."
   ]
  },
  {
   "cell_type": "markdown",
   "metadata": {},
   "source": [
    "##### Eliminating Highly Correlated Features"
   ]
  },
  {
   "cell_type": "markdown",
   "metadata": {},
   "source": [
    "We have already addressed a number of correlated features above, but to ensure we have not missed anything concerning we will take a look at a correlation heatmap between our remaining columns."
   ]
  },
  {
   "cell_type": "code",
   "execution_count": 125,
   "metadata": {
    "collapsed": true
   },
   "outputs": [],
   "source": [
    "# Ignore future / unused values, deprecated columns, and target variables\n",
    "ignore_cols = ['out_prncp', 'out_prncp_inv', 'total_pymnt', 'total_pymnt_inv', 'total_rec_prncp', 'total_rec_late_fee',\n",
    "               'total_rec_int','recoveries', 'last_pymnt_amnt', 'loan_p_return', 'default', 'funded_amnt_inv', 'loan_amnt',\n",
    "               'annual_inc', 'revol_bal', 'total_rev_hi_lim', 'funded_amnt', 'earliest_cr_line_td', 'collection_recovery_fee']"
   ]
  },
  {
   "cell_type": "code",
   "execution_count": 126,
   "metadata": {},
   "outputs": [
    {
     "data": {
      "image/png": "[encoded data removed]",
      "text/plain": [
       "<matplotlib.figure.Figure at 0x24d00ee4f60>"
      ]
     },
     "metadata": {},
     "output_type": "display_data"
    }
   ],
   "source": [
    "plt.figure(figsize=(15,12))\n",
    "sns.heatmap(data.drop(ignore_cols, axis=1).corr(), cmap=plt.get_cmap('RdBu',10), vmin=-1, vmax=1)\n",
    "plt.show()"
   ]
  },
  {
   "cell_type": "markdown",
   "metadata": {},
   "source": [
    "The following notable observations can be made (focusing on correlations exceeding a magnitude of 0.8):"
   ]
  },
  {
   "cell_type": "markdown",
   "metadata": {},
   "source": [
    "int_rate obviously has a high correlation with all variations of grade values. We had already indentified this connection during EDA and have consequently ignored it in favor of grades. The new int_rate_delta, however, should provide a reasonable substitute to at least gain some information from the interest rate attribute to supplement grade values."
   ]
  },
  {
   "cell_type": "markdown",
   "metadata": {},
   "source": [
    "pub_rec and had_record are highly correlated, as one might expect. Only one of these should be used in modeling:"
   ]
  },
  {
   "cell_type": "code",
   "execution_count": 127,
   "metadata": {
    "collapsed": true
   },
   "outputs": [],
   "source": [
    "cols = ['pub_rec', 'had_record']"
   ]
  },
  {
   "cell_type": "code",
   "execution_count": 128,
   "metadata": {},
   "outputs": [
    {
     "data": {
      "text/plain": [
       "['had_record']"
      ]
     },
     "execution_count": 128,
     "metadata": {},
     "output_type": "execute_result"
    }
   ],
   "source": [
    "# Classification\n",
    "get_k_best(data, data['default'], attribute_names=cols, k=1)"
   ]
  },
  {
   "cell_type": "code",
   "execution_count": 129,
   "metadata": {},
   "outputs": [
    {
     "data": {
      "text/plain": [
       "['pub_rec']"
      ]
     },
     "execution_count": 129,
     "metadata": {},
     "output_type": "execute_result"
    }
   ],
   "source": [
    "# Regression\n",
    "get_k_best(data, data['loan_p_return'], attribute_names=cols, k=1, score_func=f_regression)"
   ]
  },
  {
   "cell_type": "markdown",
   "metadata": {},
   "source": [
    "Classification favors had_record, whereas regression favors pub_rec."
   ]
  },
  {
   "cell_type": "markdown",
   "metadata": {},
   "source": [
    "Finally, installment is highly correlated with funded_amnt_q10. The new feature 'iti' (installment to income ratio) would make a suitable replacement, but this is also highly correlated with 'lti' (loan to income). Dropping something as fundamental as the funded amount is out of the question, so one of the other 2 ratios should be selected:"
   ]
  },
  {
   "cell_type": "code",
   "execution_count": 183,
   "metadata": {
    "collapsed": true
   },
   "outputs": [],
   "source": [
    "cols = ['iti', 'lti']"
   ]
  },
  {
   "cell_type": "code",
   "execution_count": 184,
   "metadata": {},
   "outputs": [
    {
     "data": {
      "text/plain": [
       "(['lti'], {'iti': 4093.6354278227818, 'lti': 4744.0691401074901})"
      ]
     },
     "execution_count": 184,
     "metadata": {},
     "output_type": "execute_result"
    }
   ],
   "source": [
    "# Classification\n",
    "get_k_best(data, data['default'], attribute_names=cols, k=1)"
   ]
  },
  {
   "cell_type": "code",
   "execution_count": 185,
   "metadata": {},
   "outputs": [
    {
     "data": {
      "text/plain": [
       "(['lti'], {'iti': 1768.6488811874399, 'lti': 2797.2739547520964})"
      ]
     },
     "execution_count": 185,
     "metadata": {},
     "output_type": "execute_result"
    }
   ],
   "source": [
    "# Regression\n",
    "get_k_best(data, data['loan_p_return'], attribute_names=cols, k=1, score_func=f_regression)"
   ]
  },
  {
   "cell_type": "code",
   "execution_count": 186,
   "metadata": {
    "collapsed": true
   },
   "outputs": [],
   "source": [
    "data.drop('iti', axis=1, inplace=True)"
   ]
  },
  {
   "cell_type": "markdown",
   "metadata": {},
   "source": [
    "Loan to income (LTI) is favorable for both classification and regression."
   ]
  },
  {
   "cell_type": "markdown",
   "metadata": {},
   "source": [
    "All other highly correlated items have been addressed, and those in 0.8 magnitude range are being left to be handled by individual model feature selection and regularization processes."
   ]
  },
  {
   "cell_type": "markdown",
   "metadata": {},
   "source": [
    "### PCA"
   ]
  },
  {
   "cell_type": "markdown",
   "metadata": {},
   "source": [
    "We will explore the feasibility of PCA by exploring whether or not we can capture an acceptable amount of variance with a reduced set of dimensions/components."
   ]
  },
  {
   "cell_type": "code",
   "execution_count": 188,
   "metadata": {
    "collapsed": true
   },
   "outputs": [],
   "source": [
    "class DataFrame_Selector(BaseEstimator, TransformerMixin):\n",
    "    '''\n",
    "    Selects the provided list of attributte (column) names from a pandas dataframe and converts to numpy array.\n",
    "    '''\n",
    "    def __init__(self, attribute_names):\n",
    "        self.attribute_names = attribute_names\n",
    "    def fit(self, X, y=None):\n",
    "        return self\n",
    "    def transform(self, X):\n",
    "        return X[self.attribute_names].values\n",
    "    def get_feature_names(self):\n",
    "        return self.attribute_names"
   ]
  },
  {
   "cell_type": "code",
   "execution_count": 189,
   "metadata": {
    "collapsed": true
   },
   "outputs": [],
   "source": [
    "class DataFrame_DummyEncoder(BaseEstimator, TransformerMixin):\n",
    "    '''\n",
    "    Performs OHE on pandas dataframe via pandas.get_dummies(),\n",
    "    using the provided list of attribute (column) names.\n",
    "    \n",
    "    List of valid pandas.get_dummies() column names can be provided\n",
    "    to ensure consistency between datasets with different sets of values (recommended)\n",
    "    '''\n",
    "    def __init__(self, attribute_names):\n",
    "        self.attribute_names = attribute_names\n",
    "    \n",
    "    def fit(self, X, y=None):\n",
    "        # Get set of valid dummy columns when fitting\n",
    "        self.valid_dummy_cols = pd.get_dummies(X[self.attribute_names]).columns\n",
    "        return self\n",
    "    \n",
    "    def transform(self, X):\n",
    "        zero_data = np.zeros(shape=(len(X),len(self.valid_dummy_cols)))\n",
    "        self.dummies = pd.DataFrame(zero_data, columns=self.valid_dummy_cols)\n",
    "        d = pd.get_dummies(X[self.attribute_names])\n",
    "\n",
    "        for col in d.columns:\n",
    "            if col in self.dummies.columns:\n",
    "                self.dummies[col] = d[col].values\n",
    "        \n",
    "        return self.dummies.values\n",
    "    \n",
    "    def get_feature_names(self):\n",
    "        return self.dummies.columns.tolist()"
   ]
  },
  {
   "cell_type": "code",
   "execution_count": 190,
   "metadata": {
    "collapsed": true
   },
   "outputs": [],
   "source": [
    "num_attr = ['annual_inc_q10', 'funded_amnt_q10', 'int_rate_delta', 'dti', 'delinq_2yrs', 'inq_last_6mths',\n",
    "            'open_acc', 'revol_bal_log', 'revol_util', 'total_acc', 'collections_12_mths_ex_med',\n",
    "            'acc_now_delinq', 'rev_lim_sqrt', 'tot_cur_bal', 'tot_coll_amt', 'subgrade_p_value', 'cr_line_td_log',\n",
    "            'lti', 'rbti', 'tbti', 'emp_length_val']\n",
    "\n",
    "bin_attr = ['had_delinq', 'had_major_derog', 'had_record', 'verified', 'term_bin']\n",
    "\n",
    "cat_attr = ['purpose', 'home_ownership']"
   ]
  },
  {
   "cell_type": "code",
   "execution_count": 191,
   "metadata": {
    "collapsed": true
   },
   "outputs": [],
   "source": [
    "num_prep = Pipeline([('select', DataFrame_Selector(num_attr)), # Select num columns\n",
    "                     ('sc', StandardScaler())]) # Scale data\n",
    "\n",
    "bin_prep = Pipeline([('select', DataFrame_Selector(bin_attr))]) # Select binary columns\n",
    "\n",
    "cat_prep = Pipeline([('encode', DataFrame_DummyEncoder(cat_attr))]) # Select & encode categrocial columns\n",
    "\n",
    "feature_prep = FeatureUnion([('num', num_prep),\n",
    "                             ('bin', bin_prep),\n",
    "                             ('cat', cat_prep)])"
   ]
  },
  {
   "cell_type": "code",
   "execution_count": 192,
   "metadata": {
    "collapsed": true
   },
   "outputs": [],
   "source": [
    "X = feature_prep.fit_transform(data)"
   ]
  },
  {
   "cell_type": "code",
   "execution_count": 193,
   "metadata": {},
   "outputs": [
    {
     "data": {
      "text/plain": [
       "(190273, 44)"
      ]
     },
     "execution_count": 193,
     "metadata": {},
     "output_type": "execute_result"
    }
   ],
   "source": [
    "X.shape"
   ]
  },
  {
   "cell_type": "code",
   "execution_count": 194,
   "metadata": {
    "collapsed": true
   },
   "outputs": [],
   "source": [
    "def plot_pca_var(X, p=0.9):\n",
    "\n",
    "    pca = PCA()\n",
    "    pca.fit(X)\n",
    "\n",
    "    plt.figure(figsize=(10,5))\n",
    "\n",
    "    n = len(pca.explained_variance_ratio_)\n",
    "    exp_var = pca.explained_variance_ratio_\n",
    "    exp_var_cumsum = np.cumsum(exp_var)\n",
    "\n",
    "    x = next(i for i, n in enumerate(exp_var_cumsum) if n >= p) + 1\n",
    "\n",
    "    plt.bar(np.arange(1, n+1, 1), exp_var, align='center', label='Explained Variance Ratio')\n",
    "    plt.step(np.arange(1, n+1, 1), exp_var_cumsum, where='mid', label='Cumulative Explained Variance Ratio')\n",
    "    \n",
    "    plt.hlines(p, 0, n, label='{}% Explained Variance Ratio'.format(p*100), lw=1, color='r', linestyle='dashed')\n",
    "    plt.plot([x, x], [0, p], linestyle='--',color='k', markeredgewidth=3, ms=8, lw=1)\n",
    "    plt.plot([x], [p], marker='x', color='k', markeredgewidth=2, ms=8, lw=.5)\n",
    "    plt.annotate(x, (x+.5, p-0.05))\n",
    "    \n",
    "    plt.xlabel('Principal Components')\n",
    "    plt.ylabel('Explained Variance Ratio')\n",
    "    plt.legend(bbox_to_anchor=(1,1))\n",
    "    plt.xlim(0, n)\n",
    "    plt.title('Principal Component Analysis')\n",
    "        \n",
    "    plt.show()\n",
    "    return pca"
   ]
  },
  {
   "cell_type": "code",
   "execution_count": 195,
   "metadata": {},
   "outputs": [
    {
     "data": {
      "image/png": "[encoded data removed]",
      "text/plain": [
       "<matplotlib.figure.Figure at 0x24d00fb61d0>"
      ]
     },
     "metadata": {},
     "output_type": "display_data"
    }
   ],
   "source": [
    "pca = plot_pca_var(X, 0.95)"
   ]
  },
  {
   "cell_type": "code",
   "execution_count": 196,
   "metadata": {},
   "outputs": [
    {
     "name": "stdout",
     "output_type": "stream",
     "text": [
      "90.0% Variance Explained: 17 components; 27 (61%) reduction\n",
      "95.0% Variance Explained: 21 components; 23 (52%) reduction\n",
      "99.0% Variance Explained: 29 components; 15 (34%) reduction\n",
      "99.9% Variance Explained: 35 components; 9 (20%) reduction\n"
     ]
    }
   ],
   "source": [
    "l = len(pca.explained_variance_ratio_)\n",
    "for p in [0.9, 0.95, 0.99, 0.999]:\n",
    "    n = np.argmax(np.cumsum(pca.explained_variance_ratio_) > p) + 1\n",
    "    print('{}% Variance Explained: {} components; {} ({:.0f}%) reduction'.format(p*100, n, l-n, 100*(l-n)/l ))"
   ]
  },
  {
   "cell_type": "markdown",
   "metadata": {},
   "source": [
    "Even accounting for 99.9% of variance allows us to reduce dimensionality by 9 (20%). Not only may this prove useful for potential noise reduction, but models that may struggle with the size of the dataset and number of dimensions could also see vast improvements in computation times with potentially minimal impact to performance. Given these results, the impact of PCA should be explored in the context of each model."
   ]
  },
  {
   "cell_type": "markdown",
   "metadata": {},
   "source": [
    "### Summarizing Data Preparation"
   ]
  },
  {
   "cell_type": "markdown",
   "metadata": {},
   "source": [
    "With the fundamentals of data cleaning and preperation complete, it would be wise to create functions to automate the various steps taken to get our raw dataset to its current state. This will allow quickly converting our raw data to a cleaned version, and any future changes/additions should be simple to implement."
   ]
  },
  {
   "cell_type": "markdown",
   "metadata": {},
   "source": [
    "##### Cleaning"
   ]
  },
  {
   "cell_type": "markdown",
   "metadata": {},
   "source": [
    "The following function carries out the various cleaning steps found in the previous cleaning notebook."
   ]
  },
  {
   "cell_type": "code",
   "execution_count": 197,
   "metadata": {
    "collapsed": true
   },
   "outputs": [],
   "source": [
    "def clean_loan_data(loan_data):\n",
    "    data = loan_data.copy()\n",
    "    \n",
    "    # Calculate replacement features\n",
    "    data['had_delinq'] = data[['mths_since_last_delinq', 'delinq_2yrs']].apply(lambda x: 1 if x['mths_since_last_delinq'] > 0 or x['delinq_2yrs'] > 0 else 0, axis=1)\n",
    "    data['had_major_derog'] = data['mths_since_last_major_derog'].apply(lambda x: 1 if x > 0 else 0)\n",
    "    data['had_record'] = data['mths_since_last_record'].apply(lambda x: 1 if x > 0 else 0)\n",
    "    \n",
    "    # Set index\n",
    "    data.set_index('id', drop=True, inplace=True)\n",
    "    \n",
    "    # Drop columns\n",
    "    drop_cols = ['open_acc_6m', 'open_il_6m', 'open_il_12m', 'open_il_24m',\n",
    "                 'mths_since_rcnt_il', 'total_bal_il', 'il_util', 'open_rv_12m',\n",
    "                 'open_rv_24m', 'max_bal_bc', 'all_util', 'inq_fi', 'total_cu_tl',\n",
    "                 'inq_last_12m', 'mths_since_last_delinq', 'mths_since_last_major_derog',\n",
    "                 'mths_since_last_record', 'annual_inc_joint', 'dti_joint', 'verification_status_joint',\n",
    "                 'last_pymnt_d', 'next_pymnt_d', 'last_credit_pull_d', 'url', 'emp_title',\n",
    "                 'desc', 'title', 'member_id', 'policy_code']\n",
    "    data.drop(drop_cols, axis=1, inplace=True)\n",
    "    \n",
    "    # Remove current loans\n",
    "    current_loan_mask = data['loan_status'].str.contains('Current|Issued|Grace|Late')\n",
    "    data = data[~current_loan_mask].copy()\n",
    "    \n",
    "    # Drop remaining NA records\n",
    "    data.dropna(inplace=True)\n",
    "    \n",
    "    # Remove outliers\n",
    "    income_outliers = data['annual_inc'] > 1000000\n",
    "    revol_bal_outliers = data['revol_bal'] > 500000\n",
    "    revol_util_outliers = data['revol_util'] > 200\n",
    "    tot_coll_outliers = data['tot_coll_amt'] > 100000\n",
    "    rev_lim_outliers = data['total_rev_hi_lim'] > 500000\n",
    "    tot_bal_outliers = data['tot_cur_bal'] > 2000000\n",
    "    outliers = income_outliers | revol_bal_outliers | revol_util_outliers | rev_lim_outliers | tot_coll_outliers | tot_bal_outliers\n",
    "    data = data[~outliers].copy()\n",
    "    \n",
    "    # Fix values\n",
    "    data['home_ownership'] = data['home_ownership'].apply(lambda x: x if x != 'ANY' else 'OTHER')\n",
    "    \n",
    "    return data"
   ]
  },
  {
   "cell_type": "markdown",
   "metadata": {},
   "source": [
    "Repeating our data cleaning with this new function using the raw data:"
   ]
  },
  {
   "cell_type": "code",
   "execution_count": 198,
   "metadata": {
    "collapsed": true
   },
   "outputs": [],
   "source": [
    "# Open pickle file with raw data\n",
    "\n",
    "f = 'loan.p'\n",
    "d = '../data/raw'\n",
    "fp = path.join(d,f)\n",
    "\n",
    "with open(fp, 'rb') as file:\n",
    "    data_raw = pickle.load(file)"
   ]
  },
  {
   "cell_type": "code",
   "execution_count": 199,
   "metadata": {
    "collapsed": true
   },
   "outputs": [],
   "source": [
    "data_clean = clean_loan_data(data_raw)"
   ]
  },
  {
   "cell_type": "code",
   "execution_count": 200,
   "metadata": {},
   "outputs": [
    {
     "data": {
      "text/plain": [
       "(190273, 47)"
      ]
     },
     "execution_count": 200,
     "metadata": {},
     "output_type": "execute_result"
    }
   ],
   "source": [
    "data_clean.shape"
   ]
  },
  {
   "cell_type": "markdown",
   "metadata": {},
   "source": [
    "Saving this data to the final processed data folder:"
   ]
  },
  {
   "cell_type": "code",
   "execution_count": 201,
   "metadata": {
    "collapsed": true
   },
   "outputs": [],
   "source": [
    "f = 'loan_clean.p'\n",
    "d = '../data/processed'\n",
    "fp = path.join(d,f)\n",
    "\n",
    "with open(fp, 'wb') as file:\n",
    "    pickle.dump(data_clean, file)"
   ]
  },
  {
   "cell_type": "markdown",
   "metadata": {},
   "source": [
    "##### Train / Test Split"
   ]
  },
  {
   "cell_type": "markdown",
   "metadata": {},
   "source": [
    "Up until this point, analysis has been conducted on the dataset as a whole. However, as a best practice for actual modelling we need to split the data into training and testing sets."
   ]
  },
  {
   "cell_type": "code",
   "execution_count": 202,
   "metadata": {
    "collapsed": true
   },
   "outputs": [],
   "source": [
    "# Open pickle file with raw data\n",
    "\n",
    "f = 'loan_clean.p'\n",
    "d = '../data/processed'\n",
    "fp = path.join(d,f)\n",
    "\n",
    "with open(fp, 'rb') as file:\n",
    "    data_clean = pickle.load(file)"
   ]
  },
  {
   "cell_type": "code",
   "execution_count": 203,
   "metadata": {
    "collapsed": true
   },
   "outputs": [],
   "source": [
    "train, test = train_test_split(data_clean, test_size=0.2, random_state=42)"
   ]
  },
  {
   "cell_type": "code",
   "execution_count": 204,
   "metadata": {
    "collapsed": true
   },
   "outputs": [],
   "source": [
    "# Save train and test to processed data folder\n",
    "\n",
    "for t, data in zip(['train', 'test'], [train, test]):\n",
    "    f = 'loan_' + t + '.p'\n",
    "    d = '../data/processed'\n",
    "    fp = path.join(d,f)\n",
    "\n",
    "    with open(fp, 'wb') as file:\n",
    "        pickle.dump(data, file)"
   ]
  },
  {
   "cell_type": "markdown",
   "metadata": {},
   "source": [
    "The test set should be left alone until the testing of finalized model versions. Continuously checking model performance versus the test set during various model tunings risks overfitting to the specific characteristics of the test set."
   ]
  },
  {
   "cell_type": "markdown",
   "metadata": {},
   "source": [
    "##### Train Set Reference Stats"
   ]
  },
  {
   "cell_type": "markdown",
   "metadata": {},
   "source": [
    "With the official training set available, we need to re-gather the various dataset statistics used in calculating some of the new features:\n",
    "- Grade & Subgrade Default Rates: used in calculating the grade & subgrade p values\n",
    "- Interest Rate Means & Standard Devs by Subgrade: used in calculating the deviation of interest rates from its subgrade mean interest rate.\n",
    "- Income 10th Quantiles: used in splitting income into 10 quantile bins\n",
    "- Funded Amount 10th Quantiles: used in splitting funded amount into 10 quantile bins"
   ]
  },
  {
   "cell_type": "markdown",
   "metadata": {},
   "source": [
    "The following function takes in a dataset (in this case the training set) and returns a dictionary with each set of values/statistics:"
   ]
  },
  {
   "cell_type": "code",
   "execution_count": 205,
   "metadata": {
    "collapsed": true
   },
   "outputs": [],
   "source": [
    "def reference_stats(reference_data):\n",
    "    d = {}\n",
    "    data = reference_data.copy()\n",
    "    default = data['loan_status'].str.contains('Charged Off|Default').astype(int)\n",
    "    d['grade_p_map'] = default.groupby(data['grade']).mean()\n",
    "    d['subgrade_p_map'] = default.groupby(data['sub_grade']).mean()\n",
    "    \n",
    "    d['subgrade_int_rate_mean'] = data.groupby('sub_grade')['int_rate'].mean()\n",
    "    d['subgrade_int_rate_std'] = data.groupby('sub_grade')['int_rate'].std()\n",
    "    \n",
    "    d['annual_inc_q10'] = data['annual_inc'].quantile(np.arange(0.1, 1.1, 0.1))\n",
    "    d['funded_amnt_q10'] = data['funded_amnt'].quantile(np.arange(0.1, 1.1, 0.1))\n",
    "    return d"
   ]
  },
  {
   "cell_type": "code",
   "execution_count": 206,
   "metadata": {
    "collapsed": true
   },
   "outputs": [],
   "source": [
    "train_ref_stats = reference_stats(train)"
   ]
  },
  {
   "cell_type": "code",
   "execution_count": 207,
   "metadata": {},
   "outputs": [
    {
     "data": {
      "text/plain": [
       "grade\n",
       "A    0.061755\n",
       "B    0.125900\n",
       "C    0.201399\n",
       "D    0.273806\n",
       "E    0.340716\n",
       "F    0.391545\n",
       "G    0.419823\n",
       "Name: loan_status, dtype: float64"
      ]
     },
     "execution_count": 207,
     "metadata": {},
     "output_type": "execute_result"
    }
   ],
   "source": [
    "train_ref_stats['grade_p_map']"
   ]
  },
  {
   "cell_type": "markdown",
   "metadata": {},
   "source": [
    "These reference values should remain static with the the training dataset for consistent feature engineering and value mapping between the training, test, and any possible future datasets. If at any point a new or expanded training set is used, then these values should obviously be updated to reflect said data."
   ]
  },
  {
   "cell_type": "markdown",
   "metadata": {},
   "source": [
    "Finally, due to potential differences in categorical values between train and test sets, we need to define the set of OHE variables based off the training set:"
   ]
  },
  {
   "cell_type": "code",
   "execution_count": 208,
   "metadata": {
    "collapsed": true
   },
   "outputs": [],
   "source": [
    "cat_attr = ['emp_length', 'purpose', 'home_ownership', 'term']"
   ]
  },
  {
   "cell_type": "code",
   "execution_count": 209,
   "metadata": {
    "collapsed": true
   },
   "outputs": [],
   "source": [
    "valid_dummy_cols = pd.get_dummies(train[cat_attr]).columns"
   ]
  },
  {
   "cell_type": "code",
   "execution_count": 210,
   "metadata": {},
   "outputs": [
    {
     "data": {
      "text/plain": [
       "Index(['emp_length_1 year', 'emp_length_10+ years', 'emp_length_2 years',\n",
       "       'emp_length_3 years', 'emp_length_4 years', 'emp_length_5 years',\n",
       "       'emp_length_6 years', 'emp_length_7 years', 'emp_length_8 years',\n",
       "       'emp_length_9 years', 'emp_length_< 1 year', 'emp_length_n/a',\n",
       "       'purpose_car', 'purpose_credit_card', 'purpose_debt_consolidation',\n",
       "       'purpose_home_improvement', 'purpose_house', 'purpose_major_purchase',\n",
       "       'purpose_medical', 'purpose_moving', 'purpose_other',\n",
       "       'purpose_renewable_energy', 'purpose_small_business',\n",
       "       'purpose_vacation', 'purpose_wedding', 'home_ownership_MORTGAGE',\n",
       "       'home_ownership_NONE', 'home_ownership_OTHER', 'home_ownership_OWN',\n",
       "       'home_ownership_RENT', 'term_ 36 months', 'term_ 60 months'],\n",
       "      dtype='object')"
      ]
     },
     "execution_count": 210,
     "metadata": {},
     "output_type": "execute_result"
    }
   ],
   "source": [
    "valid_dummy_cols"
   ]
  },
  {
   "cell_type": "markdown",
   "metadata": {},
   "source": [
    "##### Target Variables"
   ]
  },
  {
   "cell_type": "markdown",
   "metadata": {},
   "source": [
    "To ensure consistency in upcoming analysis and modelling, we will also store files for the two target variables since these are not explicitly captured in the original data:"
   ]
  },
  {
   "cell_type": "code",
   "execution_count": 211,
   "metadata": {
    "collapsed": true
   },
   "outputs": [],
   "source": [
    "def default_status(loan_status, harsh=False):\n",
    "    \n",
    "    if harsh:\n",
    "        # Harsher classification of default loans which assumes all late loans will default\n",
    "        s = re.compile('Charged|Default|Late')\n",
    "    else:\n",
    "        s = re.compile('Charged|Default')\n",
    "    \n",
    "    if re.search(s, loan_status):\n",
    "        default = 1\n",
    "    else:\n",
    "        default = 0\n",
    "        \n",
    "    return default"
   ]
  },
  {
   "cell_type": "code",
   "execution_count": 212,
   "metadata": {
    "collapsed": true
   },
   "outputs": [],
   "source": [
    "def loan_p_return(loan):\n",
    "    return (loan['total_pymnt'] - loan['funded_amnt']) / loan['funded_amnt']"
   ]
  },
  {
   "cell_type": "code",
   "execution_count": 213,
   "metadata": {
    "collapsed": true
   },
   "outputs": [],
   "source": [
    "train_target = pd.DataFrame()\n",
    "train_target['default'] = train['loan_status'].apply(default_status)\n",
    "train_target['loan_p_return'] = train[['total_pymnt', 'funded_amnt']].apply(loan_p_return, axis=1)"
   ]
  },
  {
   "cell_type": "code",
   "execution_count": 214,
   "metadata": {
    "collapsed": true
   },
   "outputs": [],
   "source": [
    "test_target = pd.DataFrame()\n",
    "test_target['default'] = test['loan_status'].apply(default_status)\n",
    "test_target['loan_p_return'] = test[['total_pymnt', 'funded_amnt']].apply(loan_p_return, axis=1)"
   ]
  },
  {
   "cell_type": "code",
   "execution_count": 215,
   "metadata": {
    "collapsed": true
   },
   "outputs": [],
   "source": [
    "# Save train and test targets to processed data folder\n",
    "\n",
    "for t, data in zip(['train', 'test'], [train_target, test_target]):\n",
    "    f = 'loan_' + t + '_target.p'\n",
    "    d = '../data/processed'\n",
    "    fp = path.join(d,f)\n",
    "\n",
    "    with open(fp, 'wb') as file:\n",
    "        pickle.dump(data, file)"
   ]
  },
  {
   "cell_type": "markdown",
   "metadata": {},
   "source": [
    "##### Automating Feature Engineering"
   ]
  },
  {
   "cell_type": "markdown",
   "metadata": {},
   "source": [
    "With the static references in place, we can proceed with automating the creation of our new features. These processes will be captured in custom transformers for convenient use in pipelines:"
   ]
  },
  {
   "cell_type": "code",
   "execution_count": 219,
   "metadata": {
    "collapsed": true
   },
   "outputs": [],
   "source": [
    "class CustomNumAttributes(BaseEstimator, TransformerMixin):\n",
    "    def __init__(self):\n",
    "        pass\n",
    "    def fit(self, data, y=None):\n",
    "        ### Get reference stats \n",
    "        self.ref_dict = reference_stats(data)\n",
    "        return self\n",
    "    def transform(self, data, y=None):\n",
    "        X = data.copy()\n",
    "        # Note: following assumes that X is still be a pandas DataFrame vs. numpy array. \n",
    "        self.custom_attr_names = []\n",
    "        ###\n",
    "        grade_map = {grade: i for i, grade in enumerate('ABCDEFG')}\n",
    "        X['grade_value'] = X['grade'].map(grade_map)\n",
    "        self.custom_attr_names.append('grade_value')\n",
    "        ###\n",
    "        subgrade_map = {sg: grade_map[sg[0]]*10 + int(sg[1]) for sg in [c + str(i) for c in 'ABCDEFG' for i in range(1,6)]}\n",
    "        X['subgrade_value'] = X['sub_grade'].map(subgrade_map)\n",
    "        self.custom_attr_names.append('subgrade_value')\n",
    "        ###\n",
    "        X['lti'] = X['funded_amnt'] / X['annual_inc']\n",
    "        X['iti'] = X['installment'] / X['annual_inc']\n",
    "        X['rbti'] = X['revol_bal'] / X['annual_inc']\n",
    "        X['tbti'] = X['tot_cur_bal'] / X['annual_inc']\n",
    "        self.custom_attr_names.append(['lti', 'iti', 'rbti', 'tbti'])\n",
    "        ###\n",
    "        X['revol_bal_log'] = X['revol_bal'].apply(lambda x: np.log10(x) if x >= 1 else 0)\n",
    "        X['tot_coll_log'] = X['tot_coll_amt'].apply(lambda x: np.log10(x) if x >= 1 else 0)\n",
    "        X['rev_lim_log'] = X['total_rev_hi_lim'].apply(lambda x: np.log10(x) if x >= 1 else 0)\n",
    "        X['rev_lim_sqrt'] = np.sqrt(X['total_rev_hi_lim'])\n",
    "        self.custom_attr_names.append(['revol_bal_log', 'tot_coll_log', 'rev_lim_log', 'rev_lim_sqrt'])\n",
    "        ###\n",
    "        X['earliest_cr_line_td'] = [(issue_d.date() - cr.date()).days for issue_d, cr in zip(X['issue_d'], X['earliest_cr_line'])]\n",
    "        X['cr_line_td_log'] = X['earliest_cr_line_td'].apply(lambda x: np.log10(x) if x >= 1 else 0)\n",
    "        self.custom_attr_names.append(['earliest_cr_line_td', 'cr_line_td_log'])\n",
    "        ###\n",
    "        X['emp_length_val'] = data['emp_length'].apply(emp_length_val)\n",
    "        self.custom_attr_names.append(['emp_length_val'])\n",
    "        ###\n",
    "        ref_dict = self.ref_dict\n",
    "        if ref_dict is not None:\n",
    "            ###\n",
    "            if 'grade_p_map' in ref_dict:\n",
    "                X['grade_p_value'] = X['grade'].map(ref_dict['grade_p_map'])\n",
    "                self.custom_attr_names.append('grade_p_value')\n",
    "            ###\n",
    "            if 'subgrade_p_map' in ref_dict:\n",
    "                X['subgrade_p_value'] = X['sub_grade'].map(ref_dict['subgrade_p_map'])\n",
    "                self.custom_attr_names.append('subgrade_p_value')\n",
    "            ###\n",
    "            if ('subgrade_int_rate_mean' in ref_dict) and ('subgrade_int_rate_std' in ref_dict):\n",
    "                X['int_rate_delta'] = X[['int_rate','sub_grade']].apply(lambda x:\n",
    "                                                                        (x['int_rate'] - \n",
    "                                                                         ref_dict['subgrade_int_rate_mean'][x['sub_grade']]) /\n",
    "                                                                         ref_dict['subgrade_int_rate_std'][x['sub_grade']], axis=1)\n",
    "                self.custom_attr_names.append('int_rate_delta')\n",
    "            ###\n",
    "            if 'annual_inc_q10' in ref_dict:\n",
    "                X['annual_inc_q10'] = X['annual_inc'].apply(lambda x: len(ref_dict['annual_inc_q10'])\n",
    "                                                            if x >max(ref_dict['annual_inc_q10'])\n",
    "                                                            else np.argmax(x <= ref_dict['annual_inc_q10'])+1)\n",
    "                self.custom_attr_names.append('annual_inq_q10')\n",
    "            ##\n",
    "            if 'funded_amnt_q10' in ref_dict:\n",
    "                X['funded_amnt_q10'] = X['funded_amnt'].apply(lambda x: len(ref_dict['funded_amnt_q10'])\n",
    "                                                              if x > max(ref_dict['funded_amnt_q10'])\n",
    "                                                              else np.argmax(x <= ref_dict['funded_amnt_q10'])+1)\n",
    "                self.custom_attr_names.append('funded_amnt_q10')\n",
    "            ###\n",
    "        return X\n",
    "    def get_feature_names(self):\n",
    "        return self.custom_attr_names"
   ]
  },
  {
   "cell_type": "code",
   "execution_count": 220,
   "metadata": {
    "collapsed": true
   },
   "outputs": [],
   "source": [
    "class CustomBinAttributes(BaseEstimator, TransformerMixin):\n",
    "    def __init__(self):\n",
    "        pass\n",
    "    def fit(self, data, y=None):\n",
    "        return self\n",
    "    def transform(self, data, y=None):\n",
    "        X = data.copy()        \n",
    "        # Note: following assumes that X is still be a pandas DataFrame vs. numpy array. \n",
    "        self.custom_attr_names = []\n",
    "        ###\n",
    "        X['verified'] = (X['verification_status'] != 'Not Verified').astype(int)\n",
    "        self.custom_attr_names.append('verified')\n",
    "        ###\n",
    "        X['term_bin'] = X['term'].str.contains('60').astype(int)\n",
    "        self.custom_attr_names.append('term_bin')\n",
    "        ###\n",
    "        return X\n",
    "    def get_feature_names(self):\n",
    "        return self.feature_names"
   ]
  },
  {
   "cell_type": "markdown",
   "metadata": {},
   "source": [
    "Test whether it works as expected:"
   ]
  },
  {
   "cell_type": "code",
   "execution_count": 221,
   "metadata": {
    "collapsed": true
   },
   "outputs": [],
   "source": [
    "num_attr = ['funded_amnt_q10', 'int_rate_delta', 'annual_inc_q10', 'dti', 'delinq_2yrs', 'inq_last_6mths',\n",
    "            'open_acc', 'pub_rec', 'revol_bal_log', 'revol_util', 'total_acc', 'collections_12_mths_ex_med',\n",
    "            'acc_now_delinq', 'rev_lim_log', 'tot_cur_bal', 'tot_coll_amt', 'subgrade_p_value',\n",
    "            'lti', 'rbti', 'tbti', 'cr_line_td_log', 'emp_length_val']\n",
    "\n",
    "bin_attr = ['had_delinq', 'had_major_derog', 'had_record', 'verified', 'term_bin']\n",
    "\n",
    "cat_attr = ['purpose', 'home_ownership']"
   ]
  },
  {
   "cell_type": "code",
   "execution_count": 222,
   "metadata": {
    "collapsed": true
   },
   "outputs": [],
   "source": [
    "num_prep = Pipeline([('custom', CustomNumAttributes()),\n",
    "                     ('select', DataFrame_Selector(num_attr)), # Select num columns\n",
    "                     ('sc', StandardScaler())]) # Scale data\n",
    "\n",
    "bin_prep = Pipeline([('custom', CustomBinAttributes()),\n",
    "                     ('select', DataFrame_Selector(bin_attr))]) # Select binary columns\n",
    "\n",
    "cat_prep = Pipeline([('encode', DataFrame_DummyEncoder(cat_attr))]) # Select & encode categrocial columns\n",
    "\n",
    "feature_prep = FeatureUnion([('num', num_prep),\n",
    "                             ('bin', bin_prep),\n",
    "                             ('cat', cat_prep)])"
   ]
  },
  {
   "cell_type": "code",
   "execution_count": 223,
   "metadata": {
    "collapsed": true
   },
   "outputs": [],
   "source": [
    "X_train = feature_prep.fit_transform(train)"
   ]
  },
  {
   "cell_type": "code",
   "execution_count": 224,
   "metadata": {},
   "outputs": [
    {
     "data": {
      "text/plain": [
       "(152218, 45)"
      ]
     },
     "execution_count": 224,
     "metadata": {},
     "output_type": "execute_result"
    }
   ],
   "source": [
    "X_train.shape"
   ]
  },
  {
   "cell_type": "code",
   "execution_count": 225,
   "metadata": {
    "collapsed": true
   },
   "outputs": [],
   "source": [
    "X_test = feature_prep.transform(test)"
   ]
  },
  {
   "cell_type": "code",
   "execution_count": 226,
   "metadata": {},
   "outputs": [
    {
     "data": {
      "text/plain": [
       "(38055, 45)"
      ]
     },
     "execution_count": 226,
     "metadata": {},
     "output_type": "execute_result"
    }
   ],
   "source": [
    "X_test.shape"
   ]
  },
  {
   "cell_type": "code",
   "execution_count": 227,
   "metadata": {
    "collapsed": true
   },
   "outputs": [],
   "source": [
    "def get_feature_prep_columns(feature_union):\n",
    "    num_cols = feature_union.transformer_list[0][1].named_steps['select'].get_feature_names()\n",
    "    bin_cols = feature_union.transformer_list[1][1].named_steps['select'].get_feature_names()\n",
    "    cat_cols = feature_union.transformer_list[2][1].named_steps['encode'].get_feature_names()\n",
    "    cols = num_cols + bin_cols + cat_cols\n",
    "    return cols                        "
   ]
  },
  {
   "cell_type": "code",
   "execution_count": 228,
   "metadata": {},
   "outputs": [
    {
     "data": {
      "text/plain": [
       "['home_ownership_MORTGAGE',\n",
       " 'home_ownership_NONE',\n",
       " 'home_ownership_OTHER',\n",
       " 'home_ownership_OWN',\n",
       " 'home_ownership_RENT']"
      ]
     },
     "execution_count": 228,
     "metadata": {},
     "output_type": "execute_result"
    }
   ],
   "source": [
    "get_feature_prep_columns(feature_prep)[40:45]"
   ]
  },
  {
   "cell_type": "code",
   "execution_count": 229,
   "metadata": {},
   "outputs": [
    {
     "data": {
      "text/plain": [
       "array([77794,    35,    34, 13707, 60648])"
      ]
     },
     "execution_count": 229,
     "metadata": {},
     "output_type": "execute_result"
    }
   ],
   "source": [
    "X_train[:,40:45].sum(axis=0).astype(int)"
   ]
  },
  {
   "cell_type": "code",
   "execution_count": 230,
   "metadata": {},
   "outputs": [
    {
     "data": {
      "text/plain": [
       "MORTGAGE    77794\n",
       "RENT        60648\n",
       "OWN         13707\n",
       "NONE           35\n",
       "OTHER          34\n",
       "Name: home_ownership, dtype: int64"
      ]
     },
     "execution_count": 230,
     "metadata": {},
     "output_type": "execute_result"
    }
   ],
   "source": [
    "train['home_ownership'].value_counts()"
   ]
  },
  {
   "cell_type": "markdown",
   "metadata": {},
   "source": [
    "Values seem to match up!"
   ]
  }
 ],
 "metadata": {
  "kernelspec": {
   "display_name": "Python 3",
   "language": "python",
   "name": "python3"
  },
  "language_info": {
   "codemirror_mode": {
    "name": "ipython",
    "version": 3
   },
   "file_extension": ".py",
   "mimetype": "text/x-python",
   "name": "python",
   "nbconvert_exporter": "python",
   "pygments_lexer": "ipython3",
   "version": "3.6.4"
  }
 },
 "nbformat": 4,
 "nbformat_minor": 2
}

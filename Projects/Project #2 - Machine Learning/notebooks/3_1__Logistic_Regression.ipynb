{
 "cells": [
  {
   "cell_type": "code",
   "execution_count": 1,
   "metadata": {
    "collapsed": true
   },
   "outputs": [],
   "source": [
    "import pandas as pd\n",
    "import numpy as np\n",
    "pd.set_option('display.max_columns', None, 'display.max_rows', 100) \n",
    "\n",
    "from os import path\n",
    "import pickle\n",
    "\n",
    "import sys\n",
    "sys.path.append('..')\n",
    "import src.functions.my_functions as my_func\n",
    "\n",
    "import matplotlib.pyplot as plt\n",
    "import matplotlib.colors as colors\n",
    "import seaborn as sns\n",
    "7\n",
    "from sklearn.pipeline import Pipeline, FeatureUnion\n",
    "\n",
    "from sklearn.preprocessing import StandardScaler, Normalizer\n",
    "from sklearn.model_selection import train_test_split, GridSearchCV, cross_val_score, RandomizedSearchCV\n",
    "from sklearn.metrics.scorer import make_scorer\n",
    "\n",
    "from sklearn.metrics import f1_score, recall_score, precision_score, fbeta_score\n",
    "\n",
    "from sklearn.linear_model import LogisticRegression\n",
    "\n",
    "from sklearn.feature_selection import SelectFromModel, SelectKBest, SelectPercentile, RFECV, RFE, f_classif\n",
    "from sklearn.decomposition import PCA\n",
    "from sklearn.preprocessing import PolynomialFeatures\n",
    "\n",
    "from sklearn.tree import DecisionTreeClassifier"
   ]
  },
  {
   "cell_type": "code",
   "execution_count": 2,
   "metadata": {},
   "outputs": [
    {
     "data": {
      "text/plain": [
       "<module 'src.functions.my_functions' from '..\\\\src\\\\functions\\\\my_functions.py'>"
      ]
     },
     "execution_count": 2,
     "metadata": {},
     "output_type": "execute_result"
    }
   ],
   "source": [
    "from imp import reload\n",
    "reload(my_func)"
   ]
  },
  {
   "cell_type": "markdown",
   "metadata": {},
   "source": [
    "### Import"
   ]
  },
  {
   "cell_type": "code",
   "execution_count": 3,
   "metadata": {
    "collapsed": true
   },
   "outputs": [],
   "source": [
    "data = {}\n",
    "\n",
    "ds = ['train', 'train_target', 'test', 'test_target']\n",
    "d = ['..', 'data', 'processed']\n",
    "\n",
    "for s in ds:    \n",
    "    fn = 'loan_'+s+'.p'\n",
    "    fp = path.join(*d, fn)\n",
    "\n",
    "    with open(fp, 'rb') as file:\n",
    "        data[s] = pickle.load(file)"
   ]
  },
  {
   "cell_type": "code",
   "execution_count": 4,
   "metadata": {},
   "outputs": [
    {
     "data": {
      "text/plain": [
       "((152218, 47), (152218, 2))"
      ]
     },
     "execution_count": 4,
     "metadata": {},
     "output_type": "execute_result"
    }
   ],
   "source": [
    "data['train'].shape, data['train_target'].shape"
   ]
  },
  {
   "cell_type": "code",
   "execution_count": 5,
   "metadata": {},
   "outputs": [
    {
     "data": {
      "text/plain": [
       "((38055, 47), (38055, 2))"
      ]
     },
     "execution_count": 5,
     "metadata": {},
     "output_type": "execute_result"
    }
   ],
   "source": [
    "data['test'].shape, data['test_target'].shape"
   ]
  },
  {
   "cell_type": "markdown",
   "metadata": {},
   "source": [
    "### Data Preparation"
   ]
  },
  {
   "cell_type": "code",
   "execution_count": 6,
   "metadata": {
    "collapsed": true
   },
   "outputs": [],
   "source": [
    "# Columns identified thus far as best for classification (during data prep, select K best)\n",
    "num_attr = ['funded_amnt_q10', 'int_rate_delta', 'annual_inc_q10', 'dti', 'delinq_2yrs', 'inq_last_6mths',\n",
    "            'open_acc', 'revol_bal_log', 'revol_util', 'total_acc', 'collections_12_mths_ex_med',\n",
    "            'acc_now_delinq', 'rev_lim_sqrt', 'tot_cur_bal', 'tot_coll_amt', 'subgrade_p_value',\n",
    "            'lti', 'rbti', 'tbti', 'cr_line_td_log', 'emp_length_val']\n",
    "\n",
    "bin_attr = ['had_delinq', 'had_major_derog', 'had_record', 'verified', 'term_bin']\n",
    "\n",
    "cat_attr = ['purpose', 'home_ownership']"
   ]
  },
  {
   "cell_type": "code",
   "execution_count": 7,
   "metadata": {
    "collapsed": true
   },
   "outputs": [],
   "source": [
    "num_prep = Pipeline([('custom', my_func.CustomNumAttributes()), # Create custom num attr\n",
    "                     ('select', my_func.DataFrame_Selector(num_attr)), # Select num columns\n",
    "                     ('sc', StandardScaler())]) # Scale data\n",
    "\n",
    "bin_prep = Pipeline([('custom', my_func.CustomBinAttributes()), # Create custom bin attr\n",
    "                     ('select', my_func.DataFrame_Selector(bin_attr))]) # Select binary columns\n",
    "\n",
    "cat_prep = Pipeline([('encode', my_func.DataFrame_DummyEncoder(cat_attr))]) # Select & encode categrocial columns\n",
    "\n",
    "feature_prep = FeatureUnion([('num', num_prep),\n",
    "                             ('bin', bin_prep),\n",
    "                             ('cat', cat_prep)])"
   ]
  },
  {
   "cell_type": "code",
   "execution_count": 8,
   "metadata": {
    "collapsed": true
   },
   "outputs": [],
   "source": [
    "X_train_full = feature_prep.fit_transform(data['train'])"
   ]
  },
  {
   "cell_type": "code",
   "execution_count": 9,
   "metadata": {
    "collapsed": true
   },
   "outputs": [],
   "source": [
    "X_test = feature_prep.transform(data['test'])"
   ]
  },
  {
   "cell_type": "code",
   "execution_count": 10,
   "metadata": {},
   "outputs": [
    {
     "data": {
      "text/plain": [
       "((152218, 44), (38055, 44))"
      ]
     },
     "execution_count": 10,
     "metadata": {},
     "output_type": "execute_result"
    }
   ],
   "source": [
    "X_train_full.shape, X_test.shape"
   ]
  },
  {
   "cell_type": "code",
   "execution_count": 11,
   "metadata": {},
   "outputs": [
    {
     "data": {
      "text/plain": [
       "((152218,), (38055,))"
      ]
     },
     "execution_count": 11,
     "metadata": {},
     "output_type": "execute_result"
    }
   ],
   "source": [
    "y_train_full = data['train_target']['default']\n",
    "y_test = data['test_target']['default']\n",
    "\n",
    "y_train_full.shape, y_test.shape"
   ]
  },
  {
   "cell_type": "code",
   "execution_count": 12,
   "metadata": {
    "collapsed": true
   },
   "outputs": [],
   "source": [
    "def get_feature_prep_columns(feature_union):\n",
    "    num_cols = feature_union.transformer_list[0][1].named_steps['select'].get_feature_names()\n",
    "    bin_cols = feature_union.transformer_list[1][1].named_steps['select'].get_feature_names()\n",
    "    cat_cols = feature_union.transformer_list[2][1].named_steps['encode'].get_feature_names()\n",
    "    cols = num_cols + bin_cols + cat_cols\n",
    "    return cols"
   ]
  },
  {
   "cell_type": "code",
   "execution_count": 13,
   "metadata": {
    "scrolled": true
   },
   "outputs": [
    {
     "data": {
      "text/plain": [
       "44"
      ]
     },
     "execution_count": 13,
     "metadata": {},
     "output_type": "execute_result"
    }
   ],
   "source": [
    "feature_names = np.array(get_feature_prep_columns(feature_prep))\n",
    "len(feature_names)"
   ]
  },
  {
   "cell_type": "code",
   "execution_count": 14,
   "metadata": {
    "collapsed": true
   },
   "outputs": [],
   "source": [
    "X_train, X_val, y_train, y_val = train_test_split(X_train_full, y_train_full, test_size=0.2, random_state=42)"
   ]
  },
  {
   "cell_type": "markdown",
   "metadata": {},
   "source": [
    "### Scoring"
   ]
  },
  {
   "cell_type": "markdown",
   "metadata": {},
   "source": [
    "F2 scoring has been established as our best indicator for model performance. Recall is of higher priority due to the risks associated with failing to identify default loans versus falsely identifying healthy loans as default. Additionally, the proportion of non-default loans greatly outweights that of default, so even if we are only incorrectly identifying a small proportion of non-default loans this will have signficant effect on precision. Consequently, recall is weighed approx. twice as much as precision."
   ]
  },
  {
   "cell_type": "code",
   "execution_count": 15,
   "metadata": {
    "collapsed": true
   },
   "outputs": [],
   "source": [
    "f2_score = make_scorer(fbeta_score, beta=2)"
   ]
  },
  {
   "cell_type": "markdown",
   "metadata": {},
   "source": [
    "### Basic Model"
   ]
  },
  {
   "cell_type": "code",
   "execution_count": 164,
   "metadata": {
    "collapsed": true
   },
   "outputs": [],
   "source": [
    "lr_basic = LogisticRegression(class_weight='balanced')"
   ]
  },
  {
   "cell_type": "code",
   "execution_count": 165,
   "metadata": {},
   "outputs": [
    {
     "name": "stdout",
     "output_type": "stream",
     "text": [
      "Time: 1.92s \n"
     ]
    }
   ],
   "source": [
    "my_func.run_time(reset=True)\n",
    "lr_basic.fit(X_train, y_train)\n",
    "my_func.run_time()"
   ]
  },
  {
   "cell_type": "code",
   "execution_count": 166,
   "metadata": {},
   "outputs": [
    {
     "name": "stdout",
     "output_type": "stream",
     "text": [
      "Mean f2 score = 0.534 (+/- 0.005)\n"
     ]
    }
   ],
   "source": [
    "lr_basic_cvs = cross_val_score(lr_basic, X_train, y_train, scoring=f2_score)\n",
    "my_func.print_cvs(lr_basic_cvs, 'f2')"
   ]
  },
  {
   "cell_type": "code",
   "execution_count": 167,
   "metadata": {},
   "outputs": [
    {
     "name": "stdout",
     "output_type": "stream",
     "text": [
      "Confusion Matrix:\n",
      "                 Predicted Negative  Predicted Positive\n",
      "Actual Negative               64171               34143\n",
      "Actual Positive                8167               15293\n",
      "--------------------\n",
      "Accuracy Scores:\n",
      "                    Score\n",
      "Rate                     \n",
      "F2               0.533690\n",
      "Recall           0.651876\n",
      "Precision (pos)  0.309349\n",
      "Precision (neg)  0.887099\n",
      "Specificity      0.652715\n"
     ]
    }
   ],
   "source": [
    "my_func.classifier_summary(y_train, lr_basic.predict(X_train));"
   ]
  },
  {
   "cell_type": "code",
   "execution_count": 168,
   "metadata": {},
   "outputs": [
    {
     "name": "stdout",
     "output_type": "stream",
     "text": [
      "Confusion Matrix:\n",
      "                 Predicted Negative  Predicted Positive\n",
      "Actual Negative               16135                8495\n",
      "Actual Positive                2021                3793\n",
      "--------------------\n",
      "Accuracy Scores:\n",
      "                    Score\n",
      "Rate                     \n",
      "F2               0.533564\n",
      "Recall           0.652391\n",
      "Precision (pos)  0.308675\n",
      "Precision (neg)  0.888687\n",
      "Specificity      0.655095\n"
     ]
    }
   ],
   "source": [
    "my_func.classifier_summary(y_val, lr_basic.predict(X_val));"
   ]
  },
  {
   "cell_type": "markdown",
   "metadata": {},
   "source": [
    "### Sample Size"
   ]
  },
  {
   "cell_type": "markdown",
   "metadata": {},
   "source": [
    "We will see if there is any noteworthy change in model performance with various training sizes:"
   ]
  },
  {
   "cell_type": "code",
   "execution_count": 183,
   "metadata": {},
   "outputs": [
    {
     "data": {
      "image/png": "[encoded data removed]",
      "text/plain": [
       "<matplotlib.figure.Figure at 0x2440319cc88>"
      ]
     },
     "metadata": {},
     "output_type": "display_data"
    }
   ],
   "source": [
    "my_func.plot_learning_curve(lr_basic, X_train, y_train, scoring=['f2', 'recall', 'precision'], train_sizes=np.arange(0.1,1.1,0.1), n_jobs=4)"
   ]
  },
  {
   "cell_type": "markdown",
   "metadata": {},
   "source": [
    "The learning curves seem to stabalize around 30,000 samples, after which they remain relatively constant. Based off these results there is little reason to tweak training sizes."
   ]
  },
  {
   "cell_type": "markdown",
   "metadata": {},
   "source": [
    "### Feature Selection"
   ]
  },
  {
   "cell_type": "code",
   "execution_count": 35,
   "metadata": {},
   "outputs": [
    {
     "data": {
      "text/plain": [
       "<matplotlib.figure.Figure at 0x2880580d748>"
      ]
     },
     "metadata": {},
     "output_type": "display_data"
    },
    {
     "data": {
      "image/png": "[encoded data removed]",
      "text/plain": [
       "<matplotlib.figure.Figure at 0x2880580dc18>"
      ]
     },
     "metadata": {},
     "output_type": "display_data"
    }
   ],
   "source": [
    "RFE_scores = my_func.plot_RFE(LogisticRegression(class_weight='balanced'), X_train, y_train, f_score=True, beta=2, n_jobs=4)"
   ]
  },
  {
   "cell_type": "code",
   "execution_count": 43,
   "metadata": {},
   "outputs": [
    {
     "data": {
      "text/plain": [
       "1"
      ]
     },
     "execution_count": 43,
     "metadata": {},
     "output_type": "execute_result"
    }
   ],
   "source": [
    "RFE_scores['recall'].n_features_"
   ]
  },
  {
   "cell_type": "code",
   "execution_count": 37,
   "metadata": {},
   "outputs": [
    {
     "data": {
      "text/plain": [
       "array(['subgrade_p_value'],\n",
       "      dtype='<U26')"
      ]
     },
     "execution_count": 37,
     "metadata": {},
     "output_type": "execute_result"
    }
   ],
   "source": [
    "np.array(get_feature_prep_columns(feature_prep))[RFE_scores['recall'].get_support()]"
   ]
  },
  {
   "cell_type": "code",
   "execution_count": 38,
   "metadata": {},
   "outputs": [
    {
     "name": "stdout",
     "output_type": "stream",
     "text": [
      "Recall = 0.863555\n",
      "Precision = 0.223353\n"
     ]
    }
   ],
   "source": [
    "print('Recall = {:.6f}'.format(RFE_scores['recall'].grid_scores_[0]))\n",
    "print('Precision = {:.6f}'.format(RFE_scores['precision'].grid_scores_[0]))"
   ]
  },
  {
   "cell_type": "markdown",
   "metadata": {},
   "source": [
    "Subgrade value on its own may yield the highest recall, but is comes at an unacceptable precision. Additionally, if we look at how these predictions work it becomes evident that all loans below a certain grade are simply dismissed as default loans. This is obviously an unnacceptable approach from both a business standpoint and ensuring that our model is flexible in identifying default and non-default loans across all grades. Consequently, we will seek the next highest score from our RFE results:"
   ]
  },
  {
   "cell_type": "code",
   "execution_count": 25,
   "metadata": {},
   "outputs": [
    {
     "data": {
      "text/plain": [
       "28"
      ]
     },
     "execution_count": 25,
     "metadata": {},
     "output_type": "execute_result"
    }
   ],
   "source": [
    "# Index = n_features since we start at [1:]\n",
    "np.argmax(RFE_scores['F2'][1:])"
   ]
  },
  {
   "cell_type": "code",
   "execution_count": 63,
   "metadata": {
    "collapsed": true
   },
   "outputs": [],
   "source": [
    "lr_rfe = Pipeline([('rfe', RFE(estimator=LogisticRegression(class_weight='balanced'), n_features_to_select=28)),\n",
    "                   ('lr', LogisticRegression(class_weight='balanced'))])\n",
    "\n",
    "lr_rfe.fit(X_train, y_train);"
   ]
  },
  {
   "cell_type": "code",
   "execution_count": 59,
   "metadata": {},
   "outputs": [
    {
     "data": {
      "text/plain": [
       "array(['int_rate_delta', 'annual_inc_q10', 'dti', 'delinq_2yrs',\n",
       "       'inq_last_6mths', 'open_acc', 'revol_util', 'total_acc',\n",
       "       'rev_lim_sqrt', 'subgrade_p_value', 'lti', 'rbti', 'had_record',\n",
       "       'verified', 'term_bin', 'purpose_car', 'purpose_credit_card',\n",
       "       'purpose_debt_consolidation', 'purpose_house', 'purpose_medical',\n",
       "       'purpose_renewable_energy', 'purpose_small_business',\n",
       "       'purpose_wedding', 'home_ownership_MORTGAGE', 'home_ownership_NONE',\n",
       "       'home_ownership_OTHER', 'home_ownership_OWN', 'home_ownership_RENT'],\n",
       "      dtype='<U26')"
      ]
     },
     "execution_count": 59,
     "metadata": {},
     "output_type": "execute_result"
    }
   ],
   "source": [
    "feature_names[lr_rfe.named_steps['rfe'].get_support()]"
   ]
  },
  {
   "cell_type": "code",
   "execution_count": 64,
   "metadata": {},
   "outputs": [
    {
     "name": "stdout",
     "output_type": "stream",
     "text": [
      "Mean f2 score = 0.533 (+/- 0.004)\n"
     ]
    }
   ],
   "source": [
    "lr_rfe_cvs = cross_val_score(lr_rfe, X_train, y_train, scoring=f2_score)\n",
    "my_func.print_cvs(lr_rfe_cvs, 'f2')"
   ]
  },
  {
   "cell_type": "markdown",
   "metadata": {},
   "source": [
    "Our mean F2 cross validiation score is 0.001 less than our original model utilizing all features. As for the full train vs. validation scores:"
   ]
  },
  {
   "cell_type": "code",
   "execution_count": 65,
   "metadata": {},
   "outputs": [
    {
     "name": "stdout",
     "output_type": "stream",
     "text": [
      "Confusion Matrix:\n",
      "                 Predicted Negative  Predicted Positive\n",
      "Actual Negative               64118               34196\n",
      "Actual Positive                8173               15287\n",
      "--------------------\n",
      "Accuracy Scores:\n",
      "                    Score\n",
      "Rate                     \n",
      "F2               0.533306\n",
      "Recall           0.651620\n",
      "Precision (pos)  0.308934\n",
      "Precision (neg)  0.886943\n",
      "Specificity      0.652176\n"
     ]
    }
   ],
   "source": [
    "my_func.classifier_summary(y_train, lr_rfe.predict(X_train));"
   ]
  },
  {
   "cell_type": "code",
   "execution_count": 66,
   "metadata": {},
   "outputs": [
    {
     "name": "stdout",
     "output_type": "stream",
     "text": [
      "Confusion Matrix:\n",
      "                 Predicted Negative  Predicted Positive\n",
      "Actual Negative               16114                8516\n",
      "Actual Positive                2020                3794\n",
      "--------------------\n",
      "Accuracy Scores:\n",
      "                    Score\n",
      "Rate                     \n",
      "F2               0.533375\n",
      "Recall           0.652563\n",
      "Precision (pos)  0.308205\n",
      "Precision (neg)  0.888607\n",
      "Specificity      0.654243\n"
     ]
    }
   ],
   "source": [
    "my_func.classifier_summary(y_val, lr_rfe.predict(X_val));"
   ]
  },
  {
   "cell_type": "markdown",
   "metadata": {},
   "source": [
    "Reducing our features to 27 resulted in losses on the magnitude of 0.001 for recall and precision. Whilst we had hoped that a reduced feature set may improve results with reduced noise, we at least see that our model has a much more flexible approach to identifying default loans:"
   ]
  },
  {
   "cell_type": "code",
   "execution_count": 67,
   "metadata": {},
   "outputs": [
    {
     "data": {
      "text/plain": [
       "sub_grade\n",
       "A1    0.000000\n",
       "A2    0.002740\n",
       "A3    0.002314\n",
       "A4    0.008973\n",
       "A5    0.016080\n",
       "B1    0.032026\n",
       "B2    0.052143\n",
       "B3    0.111243\n",
       "B4    0.156015\n",
       "B5    0.192928\n",
       "C1    0.268779\n",
       "C2    0.348198\n",
       "C3    0.451470\n",
       "C4    0.541718\n",
       "C5    0.616384\n",
       "D1    0.709615\n",
       "D2    0.752557\n",
       "D3    0.750940\n",
       "D4    0.847211\n",
       "D5    0.863566\n",
       "E1    0.885312\n",
       "E2    0.942379\n",
       "E3    0.959135\n",
       "E4    0.965328\n",
       "E5    0.980011\n",
       "F1    0.966137\n",
       "F2    0.983842\n",
       "F3    0.998117\n",
       "F4    0.996212\n",
       "F5    0.996909\n",
       "G1    1.000000\n",
       "G2    0.996711\n",
       "G3    1.000000\n",
       "G4    0.969925\n",
       "G5    1.000000\n",
       "Name: pred, dtype: float64"
      ]
     },
     "execution_count": 67,
     "metadata": {},
     "output_type": "execute_result"
    }
   ],
   "source": [
    "pd.DataFrame({'sub_grade': data['train']['sub_grade'], 'pred': lr_rfe.predict(X_train_full)}).groupby('sub_grade')['pred'].mean()"
   ]
  },
  {
   "cell_type": "markdown",
   "metadata": {},
   "source": [
    "### Parameter Tuning"
   ]
  },
  {
   "cell_type": "markdown",
   "metadata": {},
   "source": [
    "Due to the limited set of paramters for Logistic Regression, we simply will take a basic grid search approach for indentifying ideal parameter values. The RFE process will be extracted and performed prior to grid search to avoid refitting RFE for every parameter combination:"
   ]
  },
  {
   "cell_type": "code",
   "execution_count": 228,
   "metadata": {
    "collapsed": true
   },
   "outputs": [],
   "source": [
    "rfe = RFE(estimator=LogisticRegression(class_weight='balanced'), n_features_to_select=28)\n",
    "X_train_rfe = rfe.fit_transform(X_train, y_train)\n",
    "X_val_rfe = rfe.transform(X_val)"
   ]
  },
  {
   "cell_type": "markdown",
   "metadata": {},
   "source": [
    "We can already see some improvements in fit time for the base model with our reduced feature set:"
   ]
  },
  {
   "cell_type": "code",
   "execution_count": 236,
   "metadata": {},
   "outputs": [
    {
     "name": "stdout",
     "output_type": "stream",
     "text": [
      "Time: 1.34s \n"
     ]
    }
   ],
   "source": [
    "lr = LogisticRegression(class_weight='balanced')\n",
    "\n",
    "my_func.run_time(reset=True)\n",
    "lr.fit(X_train_rfe, y_train)\n",
    "my_func.run_time()"
   ]
  },
  {
   "cell_type": "markdown",
   "metadata": {},
   "source": [
    "Taking a look at model performance versus the C parameter on its own (w/ default L2 penalty):"
   ]
  },
  {
   "cell_type": "code",
   "execution_count": 83,
   "metadata": {},
   "outputs": [
    {
     "name": "stdout",
     "output_type": "stream",
     "text": [
      "Time: 12.33s \n"
     ]
    }
   ],
   "source": [
    "scoring={'F2': f2_score,\n",
    "         'recall':'recall',\n",
    "         'precision':'precision'}\n",
    "\n",
    "param_grid = {'C': np.logspace(-9,3,13)}\n",
    "\n",
    "lr_c_gs = GridSearchCV(estimator=LogisticRegression(class_weight='balanced', penalty='l2'),\n",
    "                  param_grid = param_grid,\n",
    "                  scoring=scoring,\n",
    "                  cv=3,\n",
    "                  refit=False,\n",
    "                  n_jobs=4)\n",
    "\n",
    "my_func.run_time(reset=True)\n",
    "lr_c_gs.fit(X_train_rfe, y_train);\n",
    "my_func.run_time()"
   ]
  },
  {
   "cell_type": "code",
   "execution_count": 84,
   "metadata": {},
   "outputs": [
    {
     "data": {
      "image/png": "[encoded data removed]",
      "text/plain": [
       "<matplotlib.figure.Figure at 0x288057a9a20>"
      ]
     },
     "metadata": {},
     "output_type": "display_data"
    }
   ],
   "source": [
    "my_func.plot_gs_param(lr_c_gs, set_xscale='log', ylim=(0.25, 0.8), figsize=(12,8))"
   ]
  },
  {
   "cell_type": "markdown",
   "metadata": {},
   "source": [
    "C values below 1e-2 are where we start seeing improvements to recall (and F2) scores."
   ]
  },
  {
   "cell_type": "code",
   "execution_count": 85,
   "metadata": {},
   "outputs": [
    {
     "name": "stdout",
     "output_type": "stream",
     "text": [
      "Time: 36.67s \n"
     ]
    }
   ],
   "source": [
    "scoring={'F2': f2_score,\n",
    "         'recall':'recall',\n",
    "         'precision':'precision'}\n",
    "\n",
    "param_grid = {'C': np.logspace(-9,3,13),\n",
    "              'penalty': ['l1','l2']}\n",
    "\n",
    "lr_gs = GridSearchCV(estimator=LogisticRegression(class_weight='balanced'),\n",
    "                  param_grid = param_grid,\n",
    "                  scoring=scoring,\n",
    "                  cv=3,\n",
    "                  refit=False,\n",
    "                  n_jobs=4)\n",
    "\n",
    "my_func.run_time(reset=True)\n",
    "lr_gs.fit(X_train_rfe, y_train)\n",
    "my_func.run_time()"
   ]
  },
  {
   "cell_type": "code",
   "execution_count": 226,
   "metadata": {},
   "outputs": [
    {
     "data": {
      "image/png": "[encoded data removed]",
      "text/plain": [
       "<matplotlib.figure.Figure at 0x2880bfe8898>"
      ]
     },
     "metadata": {},
     "output_type": "display_data"
    }
   ],
   "source": [
    "my_func.plot_gs_param_dual(lr_gs, scoring='F2', power_scale=10, cmap='GnBu', swap_axes=True, figsize=(12,5), cbar=False)"
   ]
  },
  {
   "cell_type": "markdown",
   "metadata": {},
   "source": [
    "L2 penalty clearly performs better than L1, again with lower C values in the 1e-6 to 1e-9 range performing best. Our optimal parameters are as follows:"
   ]
  },
  {
   "cell_type": "code",
   "execution_count": 218,
   "metadata": {},
   "outputs": [
    {
     "name": "stdout",
     "output_type": "stream",
     "text": [
      "--------------------\n",
      "Best F2:\n",
      "Params: {'C': 1e-08, 'penalty': 'l2'}\n",
      "F2 = 0.5599001563244634\n",
      "Recall = 0.7511935110855013\n",
      "Precision = 0.2773717129399583\n",
      "--------------------\n",
      "Best Recall:\n",
      "Params: {'C': 1.0000000000000001e-09, 'penalty': 'l2'}\n",
      "F2 = 0.5598859520292723\n",
      "Recall = 0.7511935110855013\n",
      "Precision = 0.2773543200374286\n",
      "--------------------\n",
      "Best Precision:\n",
      "Params: {'C': 10.0, 'penalty': 'l2'}\n",
      "F2 = 0.5330910193088749\n",
      "Recall = 0.6512787156720699\n",
      "Precision = 0.3088824298843297\n",
      "--------------------\n"
     ]
    }
   ],
   "source": [
    "my_func.gs_score_summary(lr_gs)"
   ]
  },
  {
   "cell_type": "markdown",
   "metadata": {},
   "source": [
    "Our best F2 result is with C = 1e-8 and L2 penalty.\n",
    "\n",
    "Note that these optimizations are all with balanced class weights, as it was already established that no balancing yields unacceptable recall scores."
   ]
  },
  {
   "cell_type": "markdown",
   "metadata": {
    "collapsed": true
   },
   "source": [
    "Testing this model on the full training validation sets:"
   ]
  },
  {
   "cell_type": "code",
   "execution_count": 233,
   "metadata": {},
   "outputs": [
    {
     "name": "stdout",
     "output_type": "stream",
     "text": [
      "Time: 128ms \n"
     ]
    }
   ],
   "source": [
    "lr_best = LogisticRegression(C=1e-8, class_weight='balanced', penalty='l2')\n",
    "\n",
    "my_func.run_time(reset=True)\n",
    "lr_best.fit(X_train_rfe, y_train)\n",
    "my_func.run_time()"
   ]
  },
  {
   "cell_type": "markdown",
   "metadata": {},
   "source": [
    "Fit time has been drastically improved with the addition of regularization."
   ]
  },
  {
   "cell_type": "code",
   "execution_count": 229,
   "metadata": {
    "collapsed": true
   },
   "outputs": [],
   "source": [
    "y_train_pred = lr_best.predict(X_train_rfe)\n",
    "y_val_pred = lr_best.predict(X_val_rfe)"
   ]
  },
  {
   "cell_type": "code",
   "execution_count": 232,
   "metadata": {},
   "outputs": [
    {
     "name": "stdout",
     "output_type": "stream",
     "text": [
      "Mean f2 score = 0.560 (+/- 0.002)\n"
     ]
    }
   ],
   "source": [
    "lr_best_cvs = cross_val_score(lr_best, X_train_rfe, y_train, scoring=f2_score)\n",
    "my_func.print_cvs(lr_best_cvs, 'f2')"
   ]
  },
  {
   "cell_type": "code",
   "execution_count": 230,
   "metadata": {},
   "outputs": [
    {
     "name": "stdout",
     "output_type": "stream",
     "text": [
      "Confusion Matrix:\n",
      "                 Predicted Negative  Predicted Positive\n",
      "Actual Negative               52437               45877\n",
      "Actual Positive                5833               17627\n",
      "--------------------\n",
      "Accuracy Scores:\n",
      "                    Score\n",
      "Rate                     \n",
      "F2               0.560142\n",
      "Recall           0.751364\n",
      "Precision (pos)  0.277573\n",
      "Precision (neg)  0.899897\n",
      "Specificity      0.533362\n"
     ]
    }
   ],
   "source": [
    "lr_train_summary = my_func.classifier_summary(y_train, y_train_pred)"
   ]
  },
  {
   "cell_type": "code",
   "execution_count": 231,
   "metadata": {},
   "outputs": [
    {
     "name": "stdout",
     "output_type": "stream",
     "text": [
      "Confusion Matrix:\n",
      "                 Predicted Negative  Predicted Positive\n",
      "Actual Negative               13178               11452\n",
      "Actual Positive                1462                4352\n",
      "--------------------\n",
      "Accuracy Scores:\n",
      "                    Score\n",
      "Rate                     \n",
      "F2               0.557092\n",
      "Recall           0.748538\n",
      "Precision (pos)  0.275373\n",
      "Precision (neg)  0.900137\n",
      "Specificity      0.535039\n"
     ]
    }
   ],
   "source": [
    "lr_val_summary = my_func.classifier_summary(y_val, y_val_pred)"
   ]
  },
  {
   "cell_type": "markdown",
   "metadata": {},
   "source": [
    "We have managed to boost our recall to 0.74-0.75 whilst still maintaining a precision above 0.25 and specificity above 0.5, still statisfying our initial goal criteria. It is worth noting that our regularization parameter C is rather extreme with a value of 1e-8, so if we sought to improve precision/specificity for a sligtly reduced recall (i.e. 0.7), choosing a higher value  with more of a compromised recall & precision score (i.e. around the 1e-4 range based off the initial C plot) would be an alternative option."
   ]
  },
  {
   "cell_type": "markdown",
   "metadata": {},
   "source": [
    "### PCA"
   ]
  },
  {
   "cell_type": "markdown",
   "metadata": {},
   "source": [
    "As determined during data preparation, reducing dimensionality via PCA can still retain over 99% of variance whilst signficantly reducing the number of components. Whilst we have already reduced the number of features used via RFE for the optimized model above, we will try this alternative approach with PCA to see if any improvements can be made. We will attempt to find the optimal amount of dimensionality reduction by performing grid search with various variance thresholds:"
   ]
  },
  {
   "cell_type": "code",
   "execution_count": 238,
   "metadata": {},
   "outputs": [
    {
     "name": "stdout",
     "output_type": "stream",
     "text": [
      "Time: 2min 29s \n"
     ]
    }
   ],
   "source": [
    "pca_pipe = Pipeline([('pca', PCA()),\n",
    "                     ('estimator', LogisticRegression(class_weight='balanced', penalty='l2'))])\n",
    "\n",
    "scoring = {'F2': f2_score}\n",
    "\n",
    "param_grid = {'estimator__C': np.logspace(-9,3,13),\n",
    "              'pca__n_components': [0.1, 0.2, 0.3, 0.4, 0.5, 0.6, 0.7, 0.8, 0.9, 0.95, 0.99, 0.999, None]}\n",
    "\n",
    "lr_pca_gs = GridSearchCV(estimator=pca_pipe,\n",
    "                  param_grid = param_grid,\n",
    "                  scoring=scoring,\n",
    "                  cv=3,\n",
    "                  refit=False,\n",
    "                  n_jobs=4)\n",
    "\n",
    "my_func.run_time(reset=True)\n",
    "lr_pca_gs.fit(X_train, y_train);\n",
    "my_func.run_time()"
   ]
  },
  {
   "cell_type": "code",
   "execution_count": 244,
   "metadata": {},
   "outputs": [
    {
     "data": {
      "image/png": "[encoded data removed]",
      "text/plain": [
       "<matplotlib.figure.Figure at 0x28808906160>"
      ]
     },
     "metadata": {},
     "output_type": "display_data"
    }
   ],
   "source": [
    "plot_gs_param_dual(lr_pca_gs, scoring='F2', power_scale=10, cbar=False)"
   ]
  },
  {
   "cell_type": "markdown",
   "metadata": {},
   "source": [
    "Based off the heatmap above, C = 1e-6 with a PCA n_components >= 0.99 (nan = 100%) shows the most promise. Performing a full grid search in these ranges, whilst also checking L1 penalty again for safe measure:"
   ]
  },
  {
   "cell_type": "code",
   "execution_count": 248,
   "metadata": {},
   "outputs": [
    {
     "name": "stdout",
     "output_type": "stream",
     "text": [
      "Time: 2min 21s \n"
     ]
    }
   ],
   "source": [
    "pca_pipe = Pipeline([('pca', PCA()),\n",
    "                     ('estimator', LogisticRegression())])\n",
    "\n",
    "scoring = {'F2': f2_score,\n",
    "           'recall': 'recall',\n",
    "           'precision': 'precision',\n",
    "           'specificity': make_scorer(my_func.binary_specificity)}\n",
    "\n",
    "param_grid = {'estimator__C': np.logspace(-12,-4, 9),\n",
    "              'estimator__class_weight': ['balanced'],\n",
    "              'estimator__penalty': ['l1','l2'],\n",
    "              'pca__n_components': [None, 0.95, 0.96, 0.97, 0.98, 0.99, 0.999, 0.9999]}\n",
    "\n",
    "pca_gs = GridSearchCV(estimator=pca_pipe,\n",
    "                  param_grid = param_grid,\n",
    "                  scoring=scoring,\n",
    "                  cv=3,\n",
    "                  refit=False,\n",
    "                  n_jobs=4)\n",
    "\n",
    "my_func.run_time(reset=True)\n",
    "pca_gs.fit(X_train, y_train);\n",
    "my_func.run_time()"
   ]
  },
  {
   "cell_type": "code",
   "execution_count": 249,
   "metadata": {},
   "outputs": [
    {
     "name": "stdout",
     "output_type": "stream",
     "text": [
      "--------------------\n",
      "Best F2:\n",
      "Params: {'estimator__C': 9.9999999999999995e-07, 'estimator__class_weight': 'balanced', 'estimator__penalty': 'l2', 'pca__n_components': 0.999}\n",
      "F2 = 0.5523177896392625\n",
      "Recall = 0.7260017067800371\n",
      "Precision = 0.28223961920132634\n",
      "Specificity = 0.5594218598089986\n",
      "--------------------\n",
      "Best Recall:\n",
      "Params: {'estimator__C': 1e-08, 'estimator__class_weight': 'balanced', 'estimator__penalty': 'l2', 'pca__n_components': 0.99}\n",
      "F2 = 0.5518580507903212\n",
      "Recall = 0.7264705903355329\n",
      "Precision = 0.28135773697841326\n",
      "Specificity = 0.5572146454497865\n",
      "--------------------\n",
      "Best Precision:\n",
      "Params: {'estimator__C': 0.0001, 'estimator__class_weight': 'balanced', 'estimator__penalty': 'l2', 'pca__n_components': None}\n",
      "F2 = 0.5425537231582839\n",
      "Recall = 0.681287252722613\n",
      "Precision = 0.29900717988929204\n",
      "Specificity = 0.6188538830570468\n",
      "--------------------\n",
      "Best Specificity:\n",
      "Params: {'estimator__C': 9.9999999999999998e-13, 'estimator__class_weight': 'balanced', 'estimator__penalty': 'l1', 'pca__n_components': None}\n",
      "F2 = 0.0\n",
      "Recall = 0.0\n",
      "Precision = 0.0\n",
      "Specificity = 1.0\n",
      "--------------------\n"
     ]
    }
   ],
   "source": [
    "my_func.gs_score_summary(pca_gs)"
   ]
  },
  {
   "cell_type": "markdown",
   "metadata": {},
   "source": [
    "Selecting a number of components accounting for 99.9% of variance yields our best F2 and recall scores."
   ]
  },
  {
   "cell_type": "code",
   "execution_count": 251,
   "metadata": {
    "collapsed": true
   },
   "outputs": [],
   "source": [
    "lr_pca = Pipeline([('pca', PCA(n_components=0.999)),\n",
    "                   ('estimator', LogisticRegression(class_weight='balanced', C=1e-6, penalty='l2'))])\n",
    "\n",
    "lr_pca.fit(X_train, y_train);"
   ]
  },
  {
   "cell_type": "code",
   "execution_count": 252,
   "metadata": {},
   "outputs": [
    {
     "data": {
      "text/plain": [
       "(36, 44)"
      ]
     },
     "execution_count": 252,
     "metadata": {},
     "output_type": "execute_result"
    }
   ],
   "source": [
    "lr_pca.named_steps['pca'].n_components_, lr_pca.named_steps['pca'].n_features_"
   ]
  },
  {
   "cell_type": "markdown",
   "metadata": {},
   "source": [
    "We can see even with 99.9% of variance accounted for, we have still managed to reduce the number of features/components from 44 to 36."
   ]
  },
  {
   "cell_type": "code",
   "execution_count": 253,
   "metadata": {},
   "outputs": [
    {
     "name": "stdout",
     "output_type": "stream",
     "text": [
      "Mean f2 score = 0.552 (+/- 0.001)\n"
     ]
    }
   ],
   "source": [
    "pca_cvs = cross_val_score(lr_pca, X_train, y_train, scoring=f2_score)\n",
    "\n",
    "my_func.print_cvs(pca_cvs, 'f2')"
   ]
  },
  {
   "cell_type": "code",
   "execution_count": 254,
   "metadata": {},
   "outputs": [
    {
     "name": "stdout",
     "output_type": "stream",
     "text": [
      "Confusion Matrix:\n",
      "                 Predicted Negative  Predicted Positive\n",
      "Actual Negative               55089               43225\n",
      "Actual Positive                6438               17022\n",
      "--------------------\n",
      "Accuracy Scores:\n",
      "                    Score\n",
      "Rate                     \n",
      "F2               0.552350\n",
      "Recall           0.725575\n",
      "Precision (pos)  0.282537\n",
      "Precision (neg)  0.895363\n",
      "Specificity      0.560337\n"
     ]
    }
   ],
   "source": [
    "my_func.classifier_summary(y_train, lr_pca.predict(X_train));"
   ]
  },
  {
   "cell_type": "code",
   "execution_count": 255,
   "metadata": {},
   "outputs": [
    {
     "name": "stdout",
     "output_type": "stream",
     "text": [
      "Confusion Matrix:\n",
      "                 Predicted Negative  Predicted Positive\n",
      "Actual Negative               13785               10845\n",
      "Actual Positive                1588                4226\n",
      "--------------------\n",
      "Accuracy Scores:\n",
      "                    Score\n",
      "Rate                     \n",
      "F2               0.551308\n",
      "Recall           0.726866\n",
      "Precision (pos)  0.280406\n",
      "Precision (neg)  0.896702\n",
      "Specificity      0.559683\n"
     ]
    }
   ],
   "source": [
    "my_func.classifier_summary(y_val, lr_pca.predict(X_val));"
   ]
  },
  {
   "cell_type": "markdown",
   "metadata": {},
   "source": [
    "Compared to our first approach with RFE, our recall is not quite as high with 0.72 versus 0.75. However, we can see this approach does slightly benefit precision and specificity over RFE with increases on the magnitude of 0.01-0.02.\n",
    "\n",
    "Perhaps PCA can show improvements in tandem with our RFE feature set:"
   ]
  },
  {
   "cell_type": "code",
   "execution_count": 256,
   "metadata": {},
   "outputs": [
    {
     "name": "stdout",
     "output_type": "stream",
     "text": [
      "Time: 2min 276ms \n"
     ]
    }
   ],
   "source": [
    "pca_pipe = Pipeline([('pca', PCA()),\n",
    "                     ('estimator', LogisticRegression())])\n",
    "\n",
    "scoring = {'F2': f2_score,\n",
    "           'recall': 'recall',\n",
    "           'precision': 'precision',\n",
    "           'specificity': make_scorer(my_func.binary_specificity)}\n",
    "\n",
    "param_grid = {'estimator__C': np.logspace(-12,-4, 9),\n",
    "              'estimator__class_weight': ['balanced'],\n",
    "              'estimator__penalty': ['l1','l2'],\n",
    "              'pca__n_components': [None, 0.9, 0.95, 0.96, 0.97, 0.98, 0.99, 0.999, 0.9999]}\n",
    "\n",
    "rfe_pca_gs = GridSearchCV(estimator=pca_pipe,\n",
    "                  param_grid = param_grid,\n",
    "                  scoring=scoring,\n",
    "                  cv=3,\n",
    "                  refit=False,\n",
    "                  n_jobs=4)\n",
    "\n",
    "my_func.run_time(reset=True)\n",
    "rfe_pca_gs.fit(X_train_rfe, y_train);\n",
    "my_func.run_time()"
   ]
  },
  {
   "cell_type": "code",
   "execution_count": 257,
   "metadata": {
    "scrolled": false
   },
   "outputs": [
    {
     "name": "stdout",
     "output_type": "stream",
     "text": [
      "--------------------\n",
      "Best F2:\n",
      "Params: {'estimator__C': 1e-08, 'estimator__class_weight': 'balanced', 'estimator__penalty': 'l2', 'pca__n_components': None}\n",
      "F2 = 0.5552485329646331\n",
      "Recall = 0.7293265191646577\n",
      "Precision = 0.2840604893671982\n",
      "Specificity = 0.5613442745432273\n",
      "--------------------\n",
      "Best Recall:\n",
      "Params: {'estimator__C': 1e-08, 'estimator__class_weight': 'balanced', 'estimator__penalty': 'l2', 'pca__n_components': None}\n",
      "F2 = 0.5552485329646331\n",
      "Recall = 0.7293265191646577\n",
      "Precision = 0.2840604893671982\n",
      "Specificity = 0.5613442745432273\n",
      "--------------------\n",
      "Best Precision:\n",
      "Params: {'estimator__C': 0.0001, 'estimator__class_weight': 'balanced', 'estimator__penalty': 'l2', 'pca__n_components': None}\n",
      "F2 = 0.5433252148226483\n",
      "Recall = 0.681756158330616\n",
      "Precision = 0.2998182853084457\n",
      "Specificity = 0.6200642892514274\n",
      "--------------------\n",
      "Best Specificity:\n",
      "Params: {'estimator__C': 9.9999999999999998e-13, 'estimator__class_weight': 'balanced', 'estimator__penalty': 'l1', 'pca__n_components': None}\n",
      "F2 = 0.0\n",
      "Recall = 0.0\n",
      "Precision = 0.0\n",
      "Specificity = 1.0\n",
      "--------------------\n"
     ]
    }
   ],
   "source": [
    "my_func.gs_score_summary(rfe_pca_gs)"
   ]
  },
  {
   "cell_type": "markdown",
   "metadata": {},
   "source": [
    "PCA is not able to enhance our results beyond the feature reduction acheived via RFE, since our best PCA results occur when all features are selected."
   ]
  },
  {
   "cell_type": "markdown",
   "metadata": {},
   "source": [
    "### Decision Threshold & PR Curve"
   ]
  },
  {
   "cell_type": "code",
   "execution_count": 259,
   "metadata": {},
   "outputs": [
    {
     "name": "stderr",
     "output_type": "stream",
     "text": [
      "..\\src\\functions\\my_functions.py:337: RuntimeWarning: invalid value encountered in true_divide\n",
      "  f_scores = (1 + beta**2) * (precisions * recalls) / ((beta**2 * precisions) + recalls)\n"
     ]
    },
    {
     "data": {
      "image/png": "[encoded data removed]",
      "text/plain": [
       "<matplotlib.figure.Figure at 0x2887a857208>"
      ]
     },
     "metadata": {},
     "output_type": "display_data"
    }
   ],
   "source": [
    "precisions, recalls, thresholds = my_func.plot_pr_curve(lr_best, X_train, y_train, f_score=True, beta=2, label='Logistic Regression')"
   ]
  },
  {
   "cell_type": "markdown",
   "metadata": {},
   "source": [
    "By modifying the threshold we can potentially acheive a recall score of 0.9, however this would push our precision below the target minimum of 0.25. A slightly higher threshold (i.e. closer to 0) may provide a better balance:"
   ]
  },
  {
   "cell_type": "code",
   "execution_count": 260,
   "metadata": {},
   "outputs": [
    {
     "name": "stdout",
     "output_type": "stream",
     "text": [
      "Threshold for Recall = 0.9: -0.00017265042534989153\n"
     ]
    }
   ],
   "source": [
    "# Get threshold value for desired recall\n",
    "desired_recall = 0.9\n",
    "i = len(recalls) - np.argmax(recalls[::-1] >= desired_recall) - 1\n",
    "t = thresholds[i]\n",
    "print('Threshold for Recall = {}: {}'.format(desired_recall, t))"
   ]
  },
  {
   "cell_type": "code",
   "execution_count": 275,
   "metadata": {
    "collapsed": true
   },
   "outputs": [],
   "source": [
    "t_custom = -0.00003"
   ]
  },
  {
   "cell_type": "code",
   "execution_count": 276,
   "metadata": {
    "collapsed": true
   },
   "outputs": [],
   "source": [
    "# Filter results based off new threshold\n",
    "y_train_pred_t = lr_best.decision_function(X_train_rfe) > t_custom\n",
    "y_val_pred_t = lr_best.decision_function(X_val_rfe) > t_custom"
   ]
  },
  {
   "cell_type": "code",
   "execution_count": 277,
   "metadata": {
    "scrolled": true
   },
   "outputs": [
    {
     "name": "stdout",
     "output_type": "stream",
     "text": [
      "Confusion Matrix:\n",
      "                 Predicted Negative  Predicted Positive\n",
      "Actual Negative               49431               48883\n",
      "Actual Positive                5262               18198\n",
      "--------------------\n",
      "Accuracy Scores:\n",
      "                    Score\n",
      "Rate                     \n",
      "F2               0.565433\n",
      "Recall           0.775703\n",
      "Precision (pos)  0.271284\n",
      "Precision (neg)  0.903790\n",
      "Specificity      0.502787\n"
     ]
    }
   ],
   "source": [
    "my_func.classifier_summary(y_train, y_train_pred_t);"
   ]
  },
  {
   "cell_type": "code",
   "execution_count": 278,
   "metadata": {},
   "outputs": [
    {
     "name": "stdout",
     "output_type": "stream",
     "text": [
      "Confusion Matrix:\n",
      "                 Predicted Negative  Predicted Positive\n",
      "Actual Negative               12395               12235\n",
      "Actual Positive                1315                4499\n",
      "--------------------\n",
      "Accuracy Scores:\n",
      "                    Score\n",
      "Rate                     \n",
      "F2               0.562516\n",
      "Recall           0.773822\n",
      "Precision (pos)  0.268854\n",
      "Precision (neg)  0.904085\n",
      "Specificity      0.503248\n"
     ]
    }
   ],
   "source": [
    "my_func.classifier_summary(y_val, y_val_pred_t);"
   ]
  },
  {
   "cell_type": "markdown",
   "metadata": {},
   "source": [
    "With a threshold of -0.00003, we are able to push recall to 0.77, but it results in specificity coming very close to our minimum of 0.5 meaning practically half of our non-default loans are being discarded as false positives."
   ]
  },
  {
   "cell_type": "markdown",
   "metadata": {},
   "source": [
    "### Polynomial Features"
   ]
  },
  {
   "cell_type": "markdown",
   "metadata": {},
   "source": [
    "Polynomial feature prep:"
   ]
  },
  {
   "cell_type": "code",
   "execution_count": 7,
   "metadata": {
    "collapsed": true
   },
   "outputs": [],
   "source": [
    "# Columns identified thus far as best for classification (during data prep, select K best)\n",
    "num_attr = ['funded_amnt_q10', 'int_rate_delta', 'annual_inc_q10', 'dti', 'delinq_2yrs', 'inq_last_6mths',\n",
    "            'open_acc', 'revol_bal_log', 'revol_util', 'total_acc', 'collections_12_mths_ex_med',\n",
    "            'acc_now_delinq', 'rev_lim_sqrt', 'tot_cur_bal', 'tot_coll_amt', 'subgrade_p_value',\n",
    "            'lti', 'rbti', 'tbti', 'cr_line_td_log', 'emp_length_val']\n",
    "\n",
    "bin_attr = ['had_delinq', 'had_major_derog', 'had_record', 'verified', 'term_bin']\n",
    "\n",
    "cat_attr = ['purpose', 'home_ownership']"
   ]
  },
  {
   "cell_type": "code",
   "execution_count": 8,
   "metadata": {
    "collapsed": true
   },
   "outputs": [],
   "source": [
    "num_prep = Pipeline([('custom', my_func.CustomNumAttributes()), # Create custom num attr\n",
    "                     ('select', my_func.DataFrame_Selector(num_attr)), # Select num columns\n",
    "                     ('p_quadratic', PolynomialFeatures(degree=2)),\n",
    "                     ('sc', StandardScaler())]) # Scale data\n",
    "\n",
    "bin_prep = Pipeline([('custom', my_func.CustomBinAttributes()), # Create custom bin attr\n",
    "                     ('select', my_func.DataFrame_Selector(bin_attr))]) # Select binary columns\n",
    "\n",
    "cat_prep = Pipeline([('encode', my_func.DataFrame_DummyEncoder(cat_attr))]) # Select & encode categrocial columns\n",
    "\n",
    "quadratic_prep = FeatureUnion([('num', num_prep),\n",
    "                             ('bin', bin_prep),\n",
    "                             ('cat', cat_prep)])"
   ]
  },
  {
   "cell_type": "code",
   "execution_count": 9,
   "metadata": {
    "collapsed": true
   },
   "outputs": [],
   "source": [
    "X_train_quad_full = quadratic_prep.fit_transform(data['train'])"
   ]
  },
  {
   "cell_type": "code",
   "execution_count": 10,
   "metadata": {
    "collapsed": true
   },
   "outputs": [],
   "source": [
    "X_test_quad = quadratic_prep.transform(data['test'])"
   ]
  },
  {
   "cell_type": "code",
   "execution_count": 11,
   "metadata": {},
   "outputs": [
    {
     "data": {
      "text/plain": [
       "((152218, 276), (38055, 276))"
      ]
     },
     "execution_count": 11,
     "metadata": {},
     "output_type": "execute_result"
    }
   ],
   "source": [
    "X_train_quad_full.shape, X_test_quad.shape"
   ]
  },
  {
   "cell_type": "code",
   "execution_count": 12,
   "metadata": {
    "collapsed": true
   },
   "outputs": [],
   "source": [
    "X_train_quad, X_val_quad, y_train, y_val = train_test_split(X_train_quad_full, y_train_full, test_size=0.2, random_state=42)"
   ]
  },
  {
   "cell_type": "markdown",
   "metadata": {},
   "source": [
    "##### Base Model"
   ]
  },
  {
   "cell_type": "code",
   "execution_count": 23,
   "metadata": {},
   "outputs": [
    {
     "name": "stdout",
     "output_type": "stream",
     "text": [
      "Time: 3min 4s \n"
     ]
    }
   ],
   "source": [
    "my_func.run_time(reset=True)\n",
    "lr_quad_basic = LogisticRegression(class_weight='balanced').fit(X_train_quad, y_train)\n",
    "my_func.run_time()"
   ]
  },
  {
   "cell_type": "code",
   "execution_count": 130,
   "metadata": {},
   "outputs": [
    {
     "name": "stdout",
     "output_type": "stream",
     "text": [
      "Confusion Matrix:\n",
      "                 Predicted Negative  Predicted Positive\n",
      "Actual Negative               63036               35278\n",
      "Actual Positive                7537               15923\n",
      "--------------------\n",
      "Accuracy Scores:\n",
      "                    Score\n",
      "Rate                     \n",
      "F2               0.548914\n",
      "Recall           0.678730\n",
      "Precision (pos)  0.310990\n",
      "Precision (neg)  0.893203\n",
      "Specificity      0.641170\n"
     ]
    }
   ],
   "source": [
    "my_func.classifier_summary(y_train, lr_quad_basic.predict(X_train_quad));"
   ]
  },
  {
   "cell_type": "code",
   "execution_count": 131,
   "metadata": {},
   "outputs": [
    {
     "name": "stdout",
     "output_type": "stream",
     "text": [
      "Confusion Matrix:\n",
      "                 Predicted Negative  Predicted Positive\n",
      "Actual Negative               15826                8804\n",
      "Actual Positive                1863                3951\n",
      "--------------------\n",
      "Accuracy Scores:\n",
      "                    Score\n",
      "Rate                     \n",
      "F2               0.548582\n",
      "Recall           0.679567\n",
      "Precision (pos)  0.309761\n",
      "Precision (neg)  0.894680\n",
      "Specificity      0.642550\n"
     ]
    }
   ],
   "source": [
    "my_func.classifier_summary(y_val, lr_quad_basic.predict(X_val_quad));"
   ]
  },
  {
   "cell_type": "markdown",
   "metadata": {},
   "source": [
    "For an untuned model, we are actually seeing slightly better results in recall with quadratic features than our regular set. Given the number of features, however, fit times have increased drastically. One would hope that feature selection would aid in computation times, as well as model performance by eliminating redundant polynomial features."
   ]
  },
  {
   "cell_type": "markdown",
   "metadata": {},
   "source": [
    "##### Feature Selection"
   ]
  },
  {
   "cell_type": "markdown",
   "metadata": {},
   "source": [
    "The amount of time to process through RFE with cross validation etc. is likely to be a very time consuming process. A better comprimise may be to select coefficients past a certain value threshold using SelectFromModel:"
   ]
  },
  {
   "cell_type": "code",
   "execution_count": 123,
   "metadata": {},
   "outputs": [
    {
     "name": "stdout",
     "output_type": "stream",
     "text": [
      "Complete                                                                                            \n"
     ]
    },
    {
     "data": {
      "text/plain": [
       "<matplotlib.figure.Figure at 0x24402e05978>"
      ]
     },
     "metadata": {},
     "output_type": "display_data"
    },
    {
     "data": {
      "image/png": "[encoded data removed]",
      "text/plain": [
       "<matplotlib.figure.Figure at 0x24402c1a5c0>"
      ]
     },
     "metadata": {},
     "output_type": "display_data"
    }
   ],
   "source": [
    "my_func.sfm_scores = plot_sfm(estimator=lr_quad_basic, X=X_train_quad, y=y_train, p_range=np.arange(0.0, 5.1, 0.1), scoring='f2', cv=3, p_ref='median', prefit=True, figsize=(12,8), verbose=True);"
   ]
  },
  {
   "cell_type": "code",
   "execution_count": 125,
   "metadata": {},
   "outputs": [
    {
     "data": {
      "text/plain": [
       "Pipeline(memory=None,\n",
       "     steps=[('select', SelectFromModel(estimator=LogisticRegression(C=1.0, class_weight='balanced', dual=False,\n",
       "          fit_intercept=True, intercept_scaling=1, max_iter=100,\n",
       "          multi_class='ovr', n_jobs=1, penalty='l2', random_state=None,\n",
       "          solver='liblinear', tol=0.0001, verbose=0, war...ty='l2', random_state=None,\n",
       "          solver='liblinear', tol=0.0001, verbose=0, warm_start=False))])"
      ]
     },
     "execution_count": 125,
     "metadata": {},
     "output_type": "execute_result"
    }
   ],
   "source": [
    "lr_quad_sfm = Pipeline([('select', SelectFromModel(LogisticRegression(class_weight='balanced'), threshold='1.4*median')),\n",
    "                        ('estimator', LogisticRegression(class_weight='balanced'))])\n",
    "\n",
    "lr_quad_sfm.fit(X_train_quad, y_train)"
   ]
  },
  {
   "cell_type": "code",
   "execution_count": 126,
   "metadata": {},
   "outputs": [
    {
     "name": "stdout",
     "output_type": "stream",
     "text": [
      "Mean f2 score = 0.544 (+/- 0.004)\n"
     ]
    }
   ],
   "source": [
    "sfm_cvs = cross_val_scores_val_score(lr_quad_sfm, X_train_quad, y_train, scoring=f2_score, cv=3)\n",
    "my_func.print_cvs(sfm_cvs, 'f2')"
   ]
  },
  {
   "cell_type": "code",
   "execution_count": 133,
   "metadata": {},
   "outputs": [
    {
     "name": "stdout",
     "output_type": "stream",
     "text": [
      "Confusion Matrix:\n",
      "                 Predicted Negative  Predicted Positive\n",
      "Actual Negative               62725               35589\n",
      "Actual Positive                7506               15954\n",
      "--------------------\n",
      "Accuracy Scores:\n",
      "                    Score\n",
      "Rate                     \n",
      "F2               0.548689\n",
      "Recall           0.680051\n",
      "Precision (pos)  0.309528\n",
      "Precision (neg)  0.893124\n",
      "Specificity      0.638007\n"
     ]
    }
   ],
   "source": [
    "my_func.classifier_summary(y_train, lr_quad_sfm.predict(X_train_quad));"
   ]
  },
  {
   "cell_type": "code",
   "execution_count": 132,
   "metadata": {},
   "outputs": [
    {
     "name": "stdout",
     "output_type": "stream",
     "text": [
      "Confusion Matrix:\n",
      "                 Predicted Negative  Predicted Positive\n",
      "Actual Negative               15765                8865\n",
      "Actual Positive                1845                3969\n",
      "--------------------\n",
      "Accuracy Scores:\n",
      "                    Score\n",
      "Rate                     \n",
      "F2               0.549875\n",
      "Recall           0.682663\n",
      "Precision (pos)  0.309257\n",
      "Precision (neg)  0.895230\n",
      "Specificity      0.640073\n"
     ]
    }
   ],
   "source": [
    "my_func.classifier_summary(y_val, lr_quad_sfm.predict(X_val_quad));"
   ]
  },
  {
   "cell_type": "markdown",
   "metadata": {},
   "source": [
    "Whilst the number of features has been decreased signficantly, we have only managed to achieve a recall score about 0.01 higher than our default model. We will also explore PCA to see if it performs any better:"
   ]
  },
  {
   "cell_type": "code",
   "execution_count": 332,
   "metadata": {},
   "outputs": [
    {
     "data": {
      "image/png": "[encoded data removed]",
      "text/plain": [
       "<matplotlib.figure.Figure at 0x288089d6780>"
      ]
     },
     "metadata": {},
     "output_type": "display_data"
    }
   ],
   "source": [
    "my_func.plot_pca_var(X_train_quad, p=0.999);"
   ]
  },
  {
   "cell_type": "markdown",
   "metadata": {},
   "source": [
    "As we can see above, we can already capture 99.9% of variance with just 186 of the 276 features. We will explore a range of % variance captured versus model performance via grid search:"
   ]
  },
  {
   "cell_type": "code",
   "execution_count": 337,
   "metadata": {},
   "outputs": [
    {
     "name": "stdout",
     "output_type": "stream",
     "text": [
      "Time: 3min 53s \n"
     ]
    }
   ],
   "source": [
    "pca_pipe = Pipeline([('pca', PCA()),\n",
    "                     ('estimator', LogisticRegression(class_weight='balanced'))])\n",
    "\n",
    "scoring = {'F2': f2_score,\n",
    "           'recall': 'recall',\n",
    "           'precision': 'precision'}\n",
    "\n",
    "param_grid = {'pca__n_components': [None, 0.8, 0.9, 0.95, 0.99, 0.999, 0.9999]}\n",
    "\n",
    "quad_pca_gs = GridSearchCV(estimator=pca_pipe,\n",
    "                  param_grid = param_grid,\n",
    "                  scoring=scoring,\n",
    "                  cv=3,\n",
    "                  refit=False,\n",
    "                  n_jobs=4)\n",
    "\n",
    "my_func.run_time(reset=True)\n",
    "quad_pca_gs.fit(X_train_quad, y_train);\n",
    "my_func.run_time()"
   ]
  },
  {
   "cell_type": "code",
   "execution_count": 338,
   "metadata": {},
   "outputs": [
    {
     "data": {
      "image/png": "[encoded data removed]",
      "text/plain": [
       "<matplotlib.figure.Figure at 0x2880f9aa630>"
      ]
     },
     "metadata": {},
     "output_type": "display_data"
    }
   ],
   "source": [
    "my_func.plot_gs_param(quad_pca_gs, ylim=(0.25,0.7))"
   ]
  },
  {
   "cell_type": "code",
   "execution_count": 339,
   "metadata": {},
   "outputs": [
    {
     "name": "stdout",
     "output_type": "stream",
     "text": [
      "--------------------\n",
      "Best F2:\n",
      "Params: {'pca__n_components': None}\n",
      "F2 = 0.5439685990388861\n",
      "Recall = 0.6726768292880143\n",
      "Precision = 0.3081380509238862\n",
      "--------------------\n",
      "Best Recall:\n",
      "Params: {'pca__n_components': 0.999}\n",
      "F2 = 0.5436278488095333\n",
      "Recall = 0.6735293298553939\n",
      "Precision = 0.3068844862853637\n",
      "--------------------\n",
      "Best Precision:\n",
      "Params: {'pca__n_components': 0.95}\n",
      "F2 = 0.5293150116872055\n",
      "Recall = 0.6428814832743075\n",
      "Precision = 0.3101685428619712\n",
      "--------------------\n"
     ]
    }
   ],
   "source": [
    "my_func.gs_score_summary(quad_pca_gs)"
   ]
  },
  {
   "cell_type": "markdown",
   "metadata": {},
   "source": [
    "Unfortunately, our best F2 score is achieved using all features (100% variance). Our best recall, however, utilizes 99.9% so considering the necessity of dimensionality reduction from a computational standpoint we should not have much issue deferring to this value. However, our scores achieved via PCA are still slightly less than the set of features used via the SelectFromModel approach, so we will proceed with optimizing our models in tandem feature selection instead of PCA."
   ]
  },
  {
   "cell_type": "markdown",
   "metadata": {},
   "source": [
    "##### Parameter Tuning:"
   ]
  },
  {
   "cell_type": "markdown",
   "metadata": {},
   "source": [
    "We will start with a basic grid search on a selec few values to establish which may be worth exploring in detail. Note that the SelectFromModel process has been extracted from the pipeline approach to avoid refitting with every grid search iteration."
   ]
  },
  {
   "cell_type": "code",
   "execution_count": 135,
   "metadata": {
    "collapsed": true
   },
   "outputs": [],
   "source": [
    "sfm = SelectFromModel(estimator=lr_quad_basic, prefit=True, threshold='1.4*median')\n",
    "X_train_quad_sfm = sfm.transform(X_train_quad)\n",
    "X_val_quad_sfm = sfm.transform(X_val_quad)"
   ]
  },
  {
   "cell_type": "code",
   "execution_count": 138,
   "metadata": {},
   "outputs": [
    {
     "name": "stdout",
     "output_type": "stream",
     "text": [
      "Fitting 3 folds for each of 26 candidates, totalling 78 fits\n"
     ]
    },
    {
     "name": "stderr",
     "output_type": "stream",
     "text": [
      "[Parallel(n_jobs=4)]: Done  24 tasks      | elapsed:   25.8s\n"
     ]
    },
    {
     "name": "stdout",
     "output_type": "stream",
     "text": [
      "Time: 33min 51s \n"
     ]
    },
    {
     "name": "stderr",
     "output_type": "stream",
     "text": [
      "[Parallel(n_jobs=4)]: Done  78 out of  78 | elapsed: 33.8min finished\n"
     ]
    }
   ],
   "source": [
    "scoring={'F2': f2_score,\n",
    "         'recall':'recall',\n",
    "         'precision':'precision',\n",
    "         'specificity': make_scorer(my_func.binary_specificity)}\n",
    "\n",
    "param_grid = {'C': np.logspace(-9, 3, 13),\n",
    "              'penalty': ['l1','l2']}\n",
    "\n",
    "lr_quad_gs = GridSearchCV(estimator=LogisticRegression(class_weight='balanced'),\n",
    "                  param_grid = param_grid,\n",
    "                  scoring=scoring,\n",
    "                  cv=3,\n",
    "                  refit=False,\n",
    "                  n_jobs=4,\n",
    "                  verbose=3)\n",
    "\n",
    "my_func.run_time(reset=True)\n",
    "lr_quad_gs.fit(X_train_quad_sfm, y_train)\n",
    "my_func.run_time()"
   ]
  },
  {
   "cell_type": "code",
   "execution_count": 139,
   "metadata": {},
   "outputs": [
    {
     "name": "stdout",
     "output_type": "stream",
     "text": [
      "--------------------\n",
      "Best F2:\n",
      "Params: {'C': 1.0000000000000001e-05, 'penalty': 'l2'}\n",
      "F2 = 0.5480662448466245\n",
      "Recall = 0.7048167148930493\n",
      "Precision = 0.29004971980185307\n",
      "Specificity = 0.5883190679145126\n",
      "--------------------\n",
      "Best Recall:\n",
      "Params: {'C': 1.0000000000000001e-05, 'penalty': 'l2'}\n",
      "F2 = 0.5480662448466245\n",
      "Recall = 0.7048167148930493\n",
      "Precision = 0.29004971980185307\n",
      "Specificity = 0.5883190679145126\n",
      "--------------------\n",
      "Best Precision:\n",
      "Params: {'C': 1.0, 'penalty': 'l1'}\n",
      "F2 = 0.5468011336679379\n",
      "Recall = 0.677323054148734\n",
      "Precision = 0.30878727201106004\n",
      "Specificity = 0.6382000548106805\n",
      "--------------------\n",
      "Best Specificity:\n",
      "Params: {'C': 1.0000000000000001e-09, 'penalty': 'l1'}\n",
      "F2 = 0.0\n",
      "Recall = 0.0\n",
      "Precision = 0.0\n",
      "Specificity = 1.0\n",
      "--------------------\n"
     ]
    }
   ],
   "source": [
    "my_func.gs_score_summary(lr_quad_gs)"
   ]
  },
  {
   "cell_type": "markdown",
   "metadata": {
    "collapsed": true
   },
   "source": [
    "Our best F2 & recall scores do not quite reach the same heights as our non-polynomial approach, but we do at least see some improvements over the non-regularized model. We will score this best polynomial with the same procedure for good measure:"
   ]
  },
  {
   "cell_type": "code",
   "execution_count": 140,
   "metadata": {
    "collapsed": true
   },
   "outputs": [],
   "source": [
    "lr_quad_best = LogisticRegression(class_weight='balanced', C=1e-5, penalty='l2')"
   ]
  },
  {
   "cell_type": "code",
   "execution_count": 141,
   "metadata": {},
   "outputs": [
    {
     "name": "stdout",
     "output_type": "stream",
     "text": [
      "Mean f2 score = 0.548 (+/- 0.001)\n"
     ]
    }
   ],
   "source": [
    "lr_quad_cvs = cross_val_score(lr_quad_best, X_train_quad_sfm, y_train, cv=3, scoring=f2_score)\n",
    "my_func.print_cvs(lr_quad_cvs, 'f2')"
   ]
  },
  {
   "cell_type": "code",
   "execution_count": 143,
   "metadata": {},
   "outputs": [
    {
     "data": {
      "text/plain": [
       "LogisticRegression(C=1e-05, class_weight='balanced', dual=False,\n",
       "          fit_intercept=True, intercept_scaling=1, max_iter=100,\n",
       "          multi_class='ovr', n_jobs=1, penalty='l2', random_state=None,\n",
       "          solver='liblinear', tol=0.0001, verbose=0, warm_start=False)"
      ]
     },
     "execution_count": 143,
     "metadata": {},
     "output_type": "execute_result"
    }
   ],
   "source": [
    "lr_quad_best.fit(X_train_quad_sfm, y_train)"
   ]
  },
  {
   "cell_type": "code",
   "execution_count": 144,
   "metadata": {},
   "outputs": [
    {
     "name": "stdout",
     "output_type": "stream",
     "text": [
      "Confusion Matrix:\n",
      "                 Predicted Negative  Predicted Positive\n",
      "Actual Negative               58348               39966\n",
      "Actual Positive                6997               16463\n",
      "--------------------\n",
      "Accuracy Scores:\n",
      "                    Score\n",
      "Rate                     \n",
      "F2               0.547784\n",
      "Recall           0.701748\n",
      "Precision (pos)  0.291747\n",
      "Precision (neg)  0.892922\n",
      "Specificity      0.593486\n"
     ]
    }
   ],
   "source": [
    "my_func.classifier_summary(y_train, lr_quad_best.predict(X_train_quad_sfm));"
   ]
  },
  {
   "cell_type": "code",
   "execution_count": 146,
   "metadata": {},
   "outputs": [
    {
     "name": "stdout",
     "output_type": "stream",
     "text": [
      "Confusion Matrix:\n",
      "                 Predicted Negative  Predicted Positive\n",
      "Actual Negative               14667                9963\n",
      "Actual Positive                1736                4078\n",
      "--------------------\n",
      "Accuracy Scores:\n",
      "                    Score\n",
      "Rate                     \n",
      "F2               0.546693\n",
      "Recall           0.701410\n",
      "Precision (pos)  0.290435\n",
      "Precision (neg)  0.894166\n",
      "Specificity      0.595493\n"
     ]
    }
   ],
   "source": [
    "my_func.classifier_summary(y_val, lr_quad_best.predict(X_val_quad_sfm));"
   ]
  },
  {
   "cell_type": "markdown",
   "metadata": {},
   "source": [
    "Based off the results above, there seems to be little justification in taking a polynomial features approach. We could explore additional degrees of polynomial features, but even quadratic features bloated our computation times, and given the lackluster scores from these polynomial features it is unlikely we will gain much from higher degrees."
   ]
  },
  {
   "cell_type": "markdown",
   "metadata": {},
   "source": [
    "### Test Performance"
   ]
  },
  {
   "cell_type": "markdown",
   "metadata": {},
   "source": [
    "##### OneR Baseline"
   ]
  },
  {
   "cell_type": "code",
   "execution_count": 194,
   "metadata": {
    "collapsed": true
   },
   "outputs": [],
   "source": [
    "oner = DecisionTreeClassifier(class_weight='balanced', max_depth=1)\n",
    "oner.fit(X_train_full, y_train_full);"
   ]
  },
  {
   "cell_type": "code",
   "execution_count": 196,
   "metadata": {},
   "outputs": [
    {
     "name": "stdout",
     "output_type": "stream",
     "text": [
      "Confusion Matrix:\n",
      "                 Predicted Negative  Predicted Positive\n",
      "Actual Negative               73026               49918\n",
      "Actual Positive               10013               19261\n",
      "--------------------\n",
      "Accuracy Scores:\n",
      "                    Score\n",
      "Rate                     \n",
      "F2               0.517004\n",
      "Recall           0.657956\n",
      "Precision (pos)  0.278423\n",
      "Precision (neg)  0.879418\n",
      "Specificity      0.593978\n"
     ]
    }
   ],
   "source": [
    "my_func.classifier_summary(y_train_full, oner.predict(X_train_full));"
   ]
  },
  {
   "cell_type": "code",
   "execution_count": 198,
   "metadata": {},
   "outputs": [
    {
     "name": "stdout",
     "output_type": "stream",
     "text": [
      "Confusion Matrix:\n",
      "                 Predicted Negative  Predicted Positive\n",
      "Actual Negative               18329               12599\n",
      "Actual Positive                2451                4676\n",
      "--------------------\n",
      "Accuracy Scores:\n",
      "                    Score\n",
      "Rate                     \n",
      "F2               0.510670\n",
      "Recall           0.656097\n",
      "Precision (pos)  0.270680\n",
      "Precision (neg)  0.882050\n",
      "Specificity      0.592635\n"
     ]
    }
   ],
   "source": [
    "my_func.classifier_summary(y_test, oner.predict(X_test));"
   ]
  },
  {
   "cell_type": "markdown",
   "metadata": {},
   "source": [
    "##### Basic LR Model"
   ]
  },
  {
   "cell_type": "code",
   "execution_count": 173,
   "metadata": {
    "collapsed": true
   },
   "outputs": [],
   "source": [
    "lr_basic = LogisticRegression(class_weight='balanced')\n",
    "lr_basic.fit(X_train_full, y_train_full);"
   ]
  },
  {
   "cell_type": "code",
   "execution_count": 174,
   "metadata": {},
   "outputs": [
    {
     "name": "stdout",
     "output_type": "stream",
     "text": [
      "Confusion Matrix:\n",
      "                 Predicted Negative  Predicted Positive\n",
      "Actual Negative               80202               42742\n",
      "Actual Positive               10157               19117\n",
      "--------------------\n",
      "Accuracy Scores:\n",
      "                    Score\n",
      "Rate                     \n",
      "F2               0.534129\n",
      "Recall           0.653037\n",
      "Precision (pos)  0.309042\n",
      "Precision (neg)  0.887593\n",
      "Specificity      0.652346\n"
     ]
    }
   ],
   "source": [
    "my_func.classifier_summary(y_train_full, lr_basic.predict(X_train_full));"
   ]
  },
  {
   "cell_type": "code",
   "execution_count": 175,
   "metadata": {},
   "outputs": [
    {
     "name": "stdout",
     "output_type": "stream",
     "text": [
      "Confusion Matrix:\n",
      "                 Predicted Negative  Predicted Positive\n",
      "Actual Negative               20078               10850\n",
      "Actual Positive                2504                4623\n",
      "--------------------\n",
      "Accuracy Scores:\n",
      "                    Score\n",
      "Rate                     \n",
      "F2               0.525568\n",
      "Recall           0.648660\n",
      "Precision (pos)  0.298779\n",
      "Precision (neg)  0.889115\n",
      "Specificity      0.649185\n"
     ]
    }
   ],
   "source": [
    "my_func.classifier_summary(y_test, lr_basic.predict(X_test));"
   ]
  },
  {
   "cell_type": "markdown",
   "metadata": {},
   "source": [
    "##### Tuned Model (RFE)"
   ]
  },
  {
   "cell_type": "code",
   "execution_count": 184,
   "metadata": {
    "collapsed": true
   },
   "outputs": [],
   "source": [
    "lr_rfe = Pipeline([('rfe', RFE(estimator=LogisticRegression(class_weight='balanced'), n_features_to_select=28)),\n",
    "                   ('lr', LogisticRegression(class_weight='balanced', C=1e-8, penalty='l2'))])\n",
    "\n",
    "lr_rfe.fit(X_train_full, y_train_full);"
   ]
  },
  {
   "cell_type": "code",
   "execution_count": 185,
   "metadata": {},
   "outputs": [
    {
     "name": "stdout",
     "output_type": "stream",
     "text": [
      "Confusion Matrix:\n",
      "                 Predicted Negative  Predicted Positive\n",
      "Actual Negative               64300               58644\n",
      "Actual Positive                7037               22237\n",
      "--------------------\n",
      "Accuracy Scores:\n",
      "                    Score\n",
      "Rate                     \n",
      "F2               0.561606\n",
      "Recall           0.759616\n",
      "Precision (pos)  0.274935\n",
      "Precision (neg)  0.901356\n",
      "Specificity      0.523002\n"
     ]
    }
   ],
   "source": [
    "my_func.classifier_summary(y_train_full, lr_rfe.predict(X_train_full));"
   ]
  },
  {
   "cell_type": "code",
   "execution_count": 186,
   "metadata": {},
   "outputs": [
    {
     "name": "stdout",
     "output_type": "stream",
     "text": [
      "Confusion Matrix:\n",
      "                 Predicted Negative  Predicted Positive\n",
      "Actual Negative               16104               14824\n",
      "Actual Positive                1710                5417\n",
      "--------------------\n",
      "Accuracy Scores:\n",
      "                    Score\n",
      "Rate                     \n",
      "F2               0.555601\n",
      "Recall           0.760067\n",
      "Precision (pos)  0.267625\n",
      "Precision (neg)  0.904008\n",
      "Specificity      0.520693\n"
     ]
    }
   ],
   "source": [
    "my_func.classifier_summary(y_test, lr_rfe.predict(X_test));"
   ]
  },
  {
   "cell_type": "markdown",
   "metadata": {},
   "source": [
    "##### Tuned Model (PCA)"
   ]
  },
  {
   "cell_type": "code",
   "execution_count": 181,
   "metadata": {
    "collapsed": true
   },
   "outputs": [],
   "source": [
    "lr_pca = Pipeline([('pca', PCA(n_components=0.999)),\n",
    "                   ('estimator', LogisticRegression(class_weight='balanced', C=1e-6, penalty='l2'))])\n",
    "\n",
    "lr_pca.fit(X_train_full, y_train_full);"
   ]
  },
  {
   "cell_type": "code",
   "execution_count": 182,
   "metadata": {},
   "outputs": [
    {
     "name": "stdout",
     "output_type": "stream",
     "text": [
      "Confusion Matrix:\n",
      "                 Predicted Negative  Predicted Positive\n",
      "Actual Negative               68853               54091\n",
      "Actual Positive                8008               21266\n",
      "--------------------\n",
      "Accuracy Scores:\n",
      "                    Score\n",
      "Rate                     \n",
      "F2               0.552499\n",
      "Recall           0.726447\n",
      "Precision (pos)  0.282203\n",
      "Precision (neg)  0.895812\n",
      "Specificity      0.560035\n"
     ]
    }
   ],
   "source": [
    "my_func.classifier_summary(y_train_full, lr_pca.predict(X_train_full));"
   ]
  },
  {
   "cell_type": "code",
   "execution_count": 188,
   "metadata": {},
   "outputs": [
    {
     "name": "stdout",
     "output_type": "stream",
     "text": [
      "Confusion Matrix:\n",
      "                 Predicted Negative  Predicted Positive\n",
      "Actual Negative               17208               13720\n",
      "Actual Positive                1980                5147\n",
      "--------------------\n",
      "Accuracy Scores:\n",
      "                    Score\n",
      "Rate                     \n",
      "F2               0.543219\n",
      "Recall           0.722183\n",
      "Precision (pos)  0.272804\n",
      "Precision (neg)  0.896811\n",
      "Specificity      0.556389\n"
     ]
    }
   ],
   "source": [
    "my_func.classifier_summary(y_test, lr_pca.predict(X_test));"
   ]
  },
  {
   "cell_type": "markdown",
   "metadata": {},
   "source": [
    "##### Polynomial (Quadratic) Model"
   ]
  },
  {
   "cell_type": "code",
   "execution_count": 190,
   "metadata": {},
   "outputs": [
    {
     "data": {
      "text/plain": [
       "Pipeline(memory=None,\n",
       "     steps=[('select', SelectFromModel(estimator=LogisticRegression(C=1.0, class_weight='balanced', dual=False,\n",
       "          fit_intercept=True, intercept_scaling=1, max_iter=100,\n",
       "          multi_class='ovr', n_jobs=1, penalty='l2', random_state=None,\n",
       "          solver='liblinear', tol=0.0001, verbose=0, war...ty='l2', random_state=None,\n",
       "          solver='liblinear', tol=0.0001, verbose=0, warm_start=False))])"
      ]
     },
     "execution_count": 190,
     "metadata": {},
     "output_type": "execute_result"
    }
   ],
   "source": [
    "lr_quad = Pipeline([('select', SelectFromModel(estimator=LogisticRegression(class_weight='balanced'), threshold='1.4*median')),\n",
    "                    ('estimator', LogisticRegression(class_weight='balanced', C=1e-5, penalty='l2'))])\n",
    "\n",
    "# Note the use of polynomial feature sets, which were transformed earlier\n",
    "lr_quad.fit(X_train_quad_full, y_train_full)"
   ]
  },
  {
   "cell_type": "code",
   "execution_count": 191,
   "metadata": {},
   "outputs": [
    {
     "name": "stdout",
     "output_type": "stream",
     "text": [
      "Confusion Matrix:\n",
      "                 Predicted Negative  Predicted Positive\n",
      "Actual Negative               73041               49903\n",
      "Actual Positive                8705               20569\n",
      "--------------------\n",
      "Accuracy Scores:\n",
      "                    Score\n",
      "Rate                     \n",
      "F2               0.548308\n",
      "Recall           0.702637\n",
      "Precision (pos)  0.291875\n",
      "Precision (neg)  0.893512\n",
      "Specificity      0.594100\n"
     ]
    }
   ],
   "source": [
    "my_func.classifier_summaryfier_summary(y_train_full, lr_quad.predict(X_train_quad_full));"
   ]
  },
  {
   "cell_type": "code",
   "execution_count": 192,
   "metadata": {},
   "outputs": [
    {
     "name": "stdout",
     "output_type": "stream",
     "text": [
      "Confusion Matrix:\n",
      "                 Predicted Negative  Predicted Positive\n",
      "Actual Negative               18307               12621\n",
      "Actual Positive                2119                5008\n",
      "--------------------\n",
      "Accuracy Scores:\n",
      "                    Score\n",
      "Rate                     \n",
      "F2               0.542731\n",
      "Recall           0.702680\n",
      "Precision (pos)  0.284077\n",
      "Precision (neg)  0.896260\n",
      "Specificity      0.591923\n"
     ]
    }
   ],
   "source": [
    "my_func.classifier_summary(y_test, lr_quad.predict(X_test_quaduad));"
   ]
  },
  {
   "cell_type": "markdown",
   "metadata": {},
   "source": [
    "##### Ranking"
   ]
  },
  {
   "cell_type": "markdown",
   "metadata": {},
   "source": [
    "1. Tuned Model (RFE)\n",
    "2. Tuned Model (PCA)\n",
    "3. Quadratic Model\n",
    "4. Basic LR Model\n",
    "5. OneR Baseline"
   ]
  }
 ],
 "metadata": {
  "kernelspec": {
   "display_name": "Python 3",
   "language": "python",
   "name": "python3"
  },
  "language_info": {
   "codemirror_mode": {
    "name": "ipython",
    "version": 3
   },
   "file_extension": ".py",
   "mimetype": "text/x-python",
   "name": "python",
   "nbconvert_exporter": "python",
   "pygments_lexer": "ipython3",
   "version": "3.6.2"
  }
 },
 "nbformat": 4,
 "nbformat_minor": 2
}

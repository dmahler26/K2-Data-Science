{
 "cells": [
  {
   "cell_type": "markdown",
   "metadata": {},
   "source": [
    "### Setup"
   ]
  },
  {
   "cell_type": "code",
   "execution_count": 1,
   "metadata": {
    "collapsed": true
   },
   "outputs": [],
   "source": [
    "import pandas as pd\n",
    "import numpy as np\n",
    "pd.set_option('display.max_columns', None, 'display.max_rows', 100) \n",
    "\n",
    "from os import path\n",
    "import pickle\n",
    "\n",
    "import missingno as msno\n",
    "import matplotlib.pyplot as plt\n",
    "import matplotlib.colors as colors\n",
    "import seaborn as sns\n",
    "\n",
    "from sklearn.base import BaseEstimator, TransformerMixin\n",
    "from sklearn.pipeline import Pipeline, FeatureUnion\n",
    "\n",
    "from sklearn.preprocessing import StandardScaler, LabelBinarizer, OneHotEncoder, LabelEncoder, Normalizer\n",
    "from sklearn.model_selection import train_test_split, GridSearchCV, cross_val_score, RandomizedSearchCV, cross_val_predict, learning_curve\n",
    "from sklearn.metrics.scorer import make_scorer\n",
    "\n",
    "from sklearn.metrics import confusion_matrix, f1_score, recall_score, precision_score, precision_recall_curve\n",
    "\n",
    "from sklearn.linear_model import LogisticRegression\n",
    "\n",
    "from sklearn.svm import LinearSVC\n",
    "from sklearn.svm import SVC\n",
    "from sklearn.linear_model import SGDClassifier\n",
    "\n",
    "from sklearn.neighbors import KNeighborsClassifier\n",
    "from sklearn.naive_bayes import GaussianNB\n",
    "\n",
    "from sklearn.tree import DecisionTreeClassifier\n",
    "from sklearn.ensemble import RandomForestClassifier"
   ]
  },
  {
   "cell_type": "markdown",
   "metadata": {},
   "source": [
    "### Import"
   ]
  },
  {
   "cell_type": "code",
   "execution_count": 7,
   "metadata": {
    "collapsed": true
   },
   "outputs": [],
   "source": [
    "# Load full data set\n",
    "f = 'loan_clean.p'\n",
    "d = ['..', 'data', 'interim']\n",
    "fp = path.join(*d, f)\n",
    "\n",
    "with open(fp, 'rb') as file:\n",
    "    data = pickle.load(file)"
   ]
  },
  {
   "cell_type": "code",
   "execution_count": 8,
   "metadata": {
    "collapsed": true
   },
   "outputs": [],
   "source": [
    "# Load train set\n",
    "f = 'loan_train.p'\n",
    "d = ['..', 'data', 'interim']\n",
    "fp = path.join(*d, f)\n",
    "\n",
    "with open(fp, 'rb') as file:\n",
    "    train = pickle.load(file)"
   ]
  },
  {
   "cell_type": "code",
   "execution_count": 9,
   "metadata": {
    "collapsed": true
   },
   "outputs": [],
   "source": [
    "# Load test set\n",
    "f = 'loan_test.p'\n",
    "d = ['..', 'data', 'interim']\n",
    "fp = path.join(*d, f)\n",
    "\n",
    "with open(fp, 'rb') as file:\n",
    "    test = pickle.load(file)"
   ]
  },
  {
   "cell_type": "code",
   "execution_count": 10,
   "metadata": {},
   "outputs": [
    {
     "data": {
      "text/plain": [
       "(163306, 40827)"
      ]
     },
     "execution_count": 10,
     "metadata": {},
     "output_type": "execute_result"
    }
   ],
   "source": [
    "train.shape[0], test.shape[0]"
   ]
  },
  {
   "cell_type": "markdown",
   "metadata": {},
   "source": [
    "### Data Preperation"
   ]
  },
  {
   "cell_type": "code",
   "execution_count": 2,
   "metadata": {
    "collapsed": true
   },
   "outputs": [],
   "source": [
    "# Class for selecting attributes from a dataframe, for use in pipelines\n",
    "\n",
    "class DataFrame_Selector(BaseEstimator, TransformerMixin):\n",
    "    def __init__(self, attribute_names):\n",
    "        self.attribute_names = attribute_names\n",
    "    def fit(self, X, y=None):\n",
    "        return self\n",
    "    def transform(self, X):\n",
    "        return X[self.attribute_names].values\n",
    "    def get_feature_names(self):\n",
    "        return self.attribute_names"
   ]
  },
  {
   "cell_type": "code",
   "execution_count": 3,
   "metadata": {
    "collapsed": true
   },
   "outputs": [],
   "source": [
    "# Converts categorical columns into OHE columns\n",
    "class DataFrame_DummyEncoder(BaseEstimator, TransformerMixin):\n",
    "    \n",
    "    def __init__(self, attribute_names, valid_dummy_cols=None):\n",
    "        self.attribute_names = attribute_names\n",
    "        # In case categorical values differ between datasets\n",
    "        self.valid_dummy_cols = valid_dummy_cols\n",
    "    \n",
    "    def fit(self, X, y=None):\n",
    "        return self\n",
    "    \n",
    "    def transform(self, X):\n",
    "        if self.valid_dummy_cols is not None:\n",
    "            zero_data = np.zeros(shape=(len(X),len(self.valid_dummy_cols)))\n",
    "            self.dummies = pd.DataFrame(zero_data, columns=valid_dummy_cols)\n",
    "            d = pd.get_dummies(X[self.attribute_names])\n",
    "\n",
    "            for col in d.columns:\n",
    "                if col in self.dummies.columns:\n",
    "                    self.dummies[col] = d[col].values\n",
    "        else:\n",
    "            self.dummies = pd.get_dummies(X[self.attribute_names])\n",
    "        return self.dummies.values\n",
    "    \n",
    "    def get_feature_names(self):\n",
    "        return self.dummies.columns.tolist()"
   ]
  },
  {
   "cell_type": "code",
   "execution_count": 4,
   "metadata": {
    "collapsed": true
   },
   "outputs": [],
   "source": [
    "# Creates custom numerical attributes (just grade and subgrade for the time being)\n",
    "class CustomNumAttributes(BaseEstimator, TransformerMixin):\n",
    "    def __init__(self):\n",
    "        pass\n",
    "    def fit(self, X, y=None):\n",
    "        return self\n",
    "    def transform(self, X, y=None):\n",
    "        grade_map = {grade: i for i, grade in enumerate('ABCDEFG')}\n",
    "        subgrade_map = {sg: grade_map[sg[0]]*10 + int(sg[1]) for sg in [c + str(i) for c in 'ABCDEFG' for i in range(1,6)]}\n",
    "        # Note: following assumes that X is still be a pandas DataFrame vs. numpy array.\n",
    "        X['grade_vals'] = X['grade'].map(grade_map)\n",
    "        X['subgrade_vals'] = X['sub_grade'].map(subgrade_map)\n",
    "        return X\n",
    "    def get_feature_names(self):\n",
    "        return X.columns.tolist()"
   ]
  },
  {
   "cell_type": "code",
   "execution_count": 14,
   "metadata": {
    "collapsed": true
   },
   "outputs": [],
   "source": [
    "# Default set of columns without any feature selection\n",
    "num_attr = ['funded_amnt', 'installment', 'annual_inc_merged', 'dti_merged', 'delinq_2yrs', 'inq_last_6mths',\n",
    "            'open_acc', 'pub_rec', 'revol_bal', 'revol_util', 'total_acc', 'collection_recovery_fee', 'collections_12_mths_ex_med',\n",
    "            'acc_now_delinq', 'total_rev_hi_lim', 'tot_cur_bal', 'tot_coll_amt', 'grade_vals', 'subgrade_vals']\n",
    "\n",
    "bin_attr = ['had_delinq', 'had_major_derog', 'had_record']\n",
    "\n",
    "cat_attr = ['emp_length', 'purpose', 'home_ownership', 'verification_status_merged', 'application_type', 'term']"
   ]
  },
  {
   "cell_type": "code",
   "execution_count": 15,
   "metadata": {
    "collapsed": true
   },
   "outputs": [],
   "source": [
    "# Get list of valid dummy columns from full data set\n",
    "valid_dummy_cols = pd.get_dummies(data[cat_attr]).columns"
   ]
  },
  {
   "cell_type": "code",
   "execution_count": 16,
   "metadata": {
    "collapsed": true
   },
   "outputs": [],
   "source": [
    "num_prep = Pipeline([('add_custom', CustomNumAttributes()),\n",
    "                     ('select', DataFrame_Selector(num_attr)),\n",
    "                     ('sc', StandardScaler())])\n",
    "\n",
    "bin_prep = Pipeline([('select', DataFrame_Selector(bin_attr))])\n",
    "\n",
    "cat_prep = Pipeline([('encode', DataFrame_DummyEncoder(cat_attr, valid_dummy_cols))])\n",
    "\n",
    "feature_prep = FeatureUnion([('num', num_prep),\n",
    "                             ('bin', bin_prep),\n",
    "                             ('cat', cat_prep)])"
   ]
  },
  {
   "cell_type": "markdown",
   "metadata": {},
   "source": [
    "### Feature Selection"
   ]
  },
  {
   "cell_type": "markdown",
   "metadata": {},
   "source": [
    "For the purpose of this MVP analysis and setting some basic benchmarks for comparison with more in-depth models, feature selection will be limited to the standard attributes, with the sole exception being the grade conversion conducted during EDA:"
   ]
  },
  {
   "cell_type": "code",
   "execution_count": 46,
   "metadata": {
    "collapsed": true
   },
   "outputs": [],
   "source": [
    "# Create mapping functions to return numeric value for a grade...\n",
    "\n",
    "def grade_val(grade, grade_map=None):\n",
    "    if grade_map is None:\n",
    "        # A = 0, B = 1, ..., G = 6\n",
    "        grade_map = {c: i for i, c in enumerate('ABCDEFG')}\n",
    "    \n",
    "    try:\n",
    "        val = grade_map[grade]\n",
    "    except:\n",
    "        val = np.NaN\n",
    "    \n",
    "    return val\n",
    "\n",
    "def subgrade_val(subgrade, subgrade_map=None):\n",
    "    if subgrade_map is None:\n",
    "        # A1 = 1, A2 = 2, ..., G4 = 64, G5 = 65\n",
    "        subgrade_map = {sg: grade_dict[sg[0]]*10 + int(sg[1]) for sg in [c + str(i) for c in 'ABCDEFG' for i in range(1,6)]}\n",
    "    \n",
    "    try:\n",
    "        val = subgrade_map[subgrade]\n",
    "    except:\n",
    "        val = np.NaN\n",
    "        \n",
    "    return val"
   ]
  },
  {
   "cell_type": "code",
   "execution_count": 47,
   "metadata": {
    "collapsed": true
   },
   "outputs": [],
   "source": [
    "grade_map = {c: i for i, c in enumerate('ABCDEFG')}\n",
    "subgrade_map = {sg: grade_map[sg[0]]*10 + int(sg[1]) for sg in [c + str(i) for c in 'ABCDEFG' for i in range(1,6)]}\n",
    "\n",
    "train['grade_value'] = train['grade'].apply(lambda x: grade_val(x, grade_map))\n",
    "train['subgrade_value'] = train['sub_grade'].apply(lambda x: subgrade_val(x, subgrade_map))"
   ]
  },
  {
   "cell_type": "markdown",
   "metadata": {},
   "source": [
    "Taking a quick look at the correlation matrix for problematic attributes:"
   ]
  },
  {
   "cell_type": "code",
   "execution_count": 48,
   "metadata": {
    "collapsed": true
   },
   "outputs": [],
   "source": [
    "# Columns which capture future-known values we would not have access to at the time a loan is issued\n",
    "ignore_cols = ['out_prncp', 'out_prncp_inv', 'total_pymnt', 'total_pymnt_inv', 'total_rec_prncp', 'total_rec_late_fee',\n",
    "               'total_rec_int','recoveries', 'last_pymnt_amnt', 'loan_p_return']"
   ]
  },
  {
   "cell_type": "code",
   "execution_count": 49,
   "metadata": {},
   "outputs": [
    {
     "data": {
      "image/png": "[encoded data removed]",
      "text/plain": [
       "<matplotlib.figure.Figure at 0x21d5439a160>"
      ]
     },
     "metadata": {},
     "output_type": "display_data"
    }
   ],
   "source": [
    "plt.figure(figsize=(15,12))\n",
    "sns.heatmap(train.drop(ignore_cols, axis=1).corr(), cmap='RdBu', vmin=-1, vmax=1)\n",
    "plt.show()"
   ]
  },
  {
   "cell_type": "markdown",
   "metadata": {},
   "source": [
    "Taking the correlations above into account and the conclusions reached during EDA, basic feature selection will involve the following:\n",
    "\n",
    "- Ignore features that are directly correlated. For example, between grades and interest rates only one should be selected.\n",
    "- Ignore features that capture future information. For example, payment dates, total payment, total received late fees, etc.\n",
    "- Ignore features that are redundant. For example, selecting only one from loan amount, funded amount and funded amount invested, which essentially capture the same value.\n",
    "\n",
    "This leaves us with the following columns:"
   ]
  },
  {
   "cell_type": "code",
   "execution_count": 5,
   "metadata": {
    "collapsed": true
   },
   "outputs": [],
   "source": [
    "# Numerical\n",
    "num_attr = ['funded_amnt', 'installment', 'annual_inc_merged', 'dti_merged', 'delinq_2yrs', 'inq_last_6mths',\n",
    "            'open_acc', 'pub_rec', 'revol_bal', 'revol_util', 'total_acc', 'collection_recovery_fee', 'collections_12_mths_ex_med',\n",
    "            'acc_now_delinq', 'total_rev_hi_lim', 'tot_cur_bal', 'tot_coll_amt', 'subgrade_vals']\n",
    "# Binary\n",
    "bin_attr = ['had_delinq', 'had_major_derog', 'had_record']\n",
    "\n",
    "# Categorical\n",
    "cat_attr = ['emp_length', 'purpose', 'home_ownership', 'verification_status_merged', 'application_type', 'term']"
   ]
  },
  {
   "cell_type": "markdown",
   "metadata": {},
   "source": [
    "Note that subgrade was selected over regular grade in the list of numerical attributes due to it being more specific."
   ]
  },
  {
   "cell_type": "code",
   "execution_count": 6,
   "metadata": {
    "collapsed": true
   },
   "outputs": [],
   "source": [
    "# Load full train set\n",
    "f = 'loan_clean_v2.p'\n",
    "d = ['..', 'data', 'interim']\n",
    "fp = path.join(*d, f)\n",
    "\n",
    "with open(fp, 'rb') as file:\n",
    "    data = pickle.load(file)"
   ]
  },
  {
   "cell_type": "code",
   "execution_count": 7,
   "metadata": {
    "collapsed": true
   },
   "outputs": [],
   "source": [
    "# Get list of valid dummy columns from full data set\n",
    "valid_dummy_cols = pd.get_dummies(data[cat_attr]).columns"
   ]
  },
  {
   "cell_type": "code",
   "execution_count": 8,
   "metadata": {
    "collapsed": true
   },
   "outputs": [],
   "source": [
    "num_prep = Pipeline([('add_custom', CustomNumAttributes()),\n",
    "                     ('select', DataFrame_Selector(num_attr)),\n",
    "                     ('sc', StandardScaler())])\n",
    "\n",
    "bin_prep = Pipeline([('select', DataFrame_Selector(bin_attr))])\n",
    "\n",
    "cat_prep = Pipeline([('encode', DataFrame_DummyEncoder(cat_attr, valid_dummy_cols))])\n",
    "\n",
    "feature_prep = FeatureUnion([('num', num_prep),\n",
    "                             ('bin', bin_prep),\n",
    "                             ('cat', cat_prep)])"
   ]
  },
  {
   "cell_type": "code",
   "execution_count": 9,
   "metadata": {
    "collapsed": true
   },
   "outputs": [],
   "source": [
    "# Load full train set\n",
    "f = 'loan_default_train.p'\n",
    "d = ['..', 'data', 'interim']\n",
    "fp = path.join(*d, f)\n",
    "\n",
    "with open(fp, 'rb') as file:\n",
    "    train = pickle.load(file)"
   ]
  },
  {
   "cell_type": "code",
   "execution_count": 10,
   "metadata": {
    "collapsed": true
   },
   "outputs": [],
   "source": [
    "# Load full train set\n",
    "f = 'loan_default_test.p'\n",
    "d = ['..', 'data', 'interim']\n",
    "fp = path.join(*d, f)\n",
    "\n",
    "with open(fp, 'rb') as file:\n",
    "    test = pickle.load(file)"
   ]
  },
  {
   "cell_type": "code",
   "execution_count": 11,
   "metadata": {
    "collapsed": true
   },
   "outputs": [],
   "source": [
    "X_train = feature_prep.fit_transform(train)\n",
    "y_train = train['default']\n",
    "\n",
    "X_test = feature_prep.fit_transform(test)\n",
    "y_test = test['default']"
   ]
  },
  {
   "cell_type": "markdown",
   "metadata": {},
   "source": [
    "### Modeling"
   ]
  },
  {
   "cell_type": "markdown",
   "metadata": {},
   "source": [
    "##### Setup"
   ]
  },
  {
   "cell_type": "code",
   "execution_count": 57,
   "metadata": {
    "collapsed": true
   },
   "outputs": [],
   "source": [
    "# Initialize dict for models\n",
    "models = {}"
   ]
  },
  {
   "cell_type": "code",
   "execution_count": 19,
   "metadata": {
    "collapsed": true
   },
   "outputs": [],
   "source": [
    "# Function to plot PR curve\n",
    "def plot_pr_curve(model, X, y, label=None, cv=3, n_jobs=1):\n",
    "    if hasattr(model, 'decision_function'):\n",
    "        y_scores = cross_val_predict(model, X, y, cv=cv, method='decision_function', n_jobs=n_jobs)[:,1]\n",
    "    else:\n",
    "        y_scores = cross_val_predict(model, X, y, cv=cv, method='predict_proba', n_jobs=n_jobs)[:,1]\n",
    "    \n",
    "    precisions, recalls, thresholds = precision_recall_curve(y, y_scores)\n",
    "    \n",
    "    fig, axs = plt.subplots(1,2,figsize=(15,7))\n",
    "\n",
    "    axs[0].plot(thresholds, precisions[:-1], 'b--', label='Precision')\n",
    "    axs[0].plot(thresholds, recalls[:-1], 'g-', label='Recall')\n",
    "    x_min = max(thresholds[(len(recalls) - np.argmax(recalls[::-1][:-1]) -1)]*1.1, min(thresholds))\n",
    "    x_max = min(thresholds[np.argmax(precisions[:-1])]*1.1, max(thresholds))\n",
    "    axs[0].set_xlim(x_min, x_max)\n",
    "    axs[0].set_xlabel('Decision Threshold')\n",
    "    axs[0].set_ylabel('Precision / Recall')\n",
    "    axs[0].legend()\n",
    "\n",
    "    axs[1].plot(recalls[:-1], precisions[:-1], 'r-')\n",
    "    axs[1].set_xlabel('Recall')\n",
    "    axs[1].set_ylabel('Precision')\n",
    "\n",
    "    plt.suptitle('Precision/Recall Curve{}'.format(': ' + str(label) if label is not None else ''))\n",
    "\n",
    "    plt.show()\n",
    "    \n",
    "    return precisions, recalls, thresholds"
   ]
  },
  {
   "cell_type": "code",
   "execution_count": 20,
   "metadata": {
    "collapsed": true
   },
   "outputs": [],
   "source": [
    "def plot_learning_curve(estimator, X, y, scoring=None, train_sizes=[0.1, 0.325, 0.55 , 0.775, 1.], cv=None, random_state=None, n_jobs=1, figsize=(10,5), xlim=None, ylim=None, title=None, subplots=False):\n",
    "    \n",
    "    scoring = list(scoring)\n",
    "    \n",
    "    colors = plt.rcParams['axes.prop_cycle'].by_key()['color']\n",
    "    \n",
    "    if subplots:\n",
    "            fig, axs = plt.subplots(len(scoring),1, figsize=figsize)\n",
    "    else:\n",
    "        axs = [plt.figure(figsize=figsize).gca()] * len(scoring)\n",
    "          \n",
    "    for i, (score, ax) in enumerate(zip(scoring, axs)):\n",
    "        try:\n",
    "            lc = learning_curve(estimator=estimator, X=X, y=y, train_sizes=train_sizes, scoring=score, cv=cv, random_state=random_state, n_jobs=n_jobs)\n",
    "            ax.plot(lc[0], np.mean(lc[1], axis=1), label='Train ({})'.format(score.title()), ls='--', alpha=0.5, color=colors[i], lw=2)\n",
    "            ax.plot(lc[0], np.mean(lc[2], axis=1), label='Validate ({})'.format(score.title()), color=colors[i], lw=2)\n",
    "            \n",
    "            if xlim is not None:\n",
    "                ax.xlim(xlim)\n",
    "            if ylim is not None:\n",
    "                ax.ylim(ylim)\n",
    "            \n",
    "            ax.set_xlabel('Samples')\n",
    "            ax.set_ylabel('Score')\n",
    "            ax.legend(bbox_to_anchor=(1,1))\n",
    "            ax.set_title('Learning Curve: {}'.format(score.title() if subplots else ', '.join(scoring).title()))\n",
    "            \n",
    "        except Exception as e:\n",
    "            print(e)\n",
    "    \n",
    "    if title is not None:\n",
    "        plt.suptitle(title)\n",
    "    \n",
    "    plt.tight_layout()\n",
    "    plt.show()   "
   ]
  },
  {
   "cell_type": "code",
   "execution_count": 1,
   "metadata": {
    "collapsed": true
   },
   "outputs": [],
   "source": [
    "def classifier_summary(y_actual, y_pred, print_results=True): \n",
    "    \n",
    "    f1 = f1_score(y_actual, y_pred)\n",
    "    recall = recall_score(y_actual, y_pred)\n",
    "    precision = precision_score(y_actual, y_pred)\n",
    "    \n",
    "    conf_mat = confusion_matrix(y_actual, y_pred)\n",
    "    \n",
    "    specificity = conf_mat[0,0] / (conf_mat[0,:].sum())\n",
    "    fallout = 1 - specificity\n",
    "    precision_neg = conf_mat[0,0] / (conf_mat[:,0].sum())\n",
    "    \n",
    "    df_cmat = pd.DataFrame(conf_mat).rename(index={0:'Actual Negative', 1:'Actual Positive'},\n",
    "                                  columns={0:'Predicted Negative', 1:'Predicted Positive'})\n",
    "    \n",
    "    df_scores = pd.DataFrame([{'Rate': 'f1', 'Score': f1},\n",
    "                              {'Rate': 'Recall', 'Score': recall},\n",
    "                              {'Rate': 'Precision (pos)', 'Score': precision},\n",
    "                              {'Rate': 'Precision (neg)', 'Score': precision_neg},\n",
    "                              {'Rate': 'Specificity', 'Score': specificity},\n",
    "                              {'Rate': 'Fallout', 'Score': fallout}]).set_index('Rate')\n",
    "    \n",
    "    if print_results:\n",
    "        print('Confusion Matrix:')\n",
    "        print(df_cmat)\n",
    "        print(20*'-')\n",
    "        print('Accuracy Scores:')\n",
    "        print(df_scores)\n",
    "   \n",
    "    return df_cmat, df_scores"
   ]
  },
  {
   "cell_type": "code",
   "execution_count": 2,
   "metadata": {
    "collapsed": true
   },
   "outputs": [],
   "source": [
    "def plot_gs_param(gs, set_xscale=False, set_ylim=False, val_label=True, figsize=(12,12)):\n",
    "    \n",
    "    if len(gs.param_grid) > 1:\n",
    "        print('Error: grid search contains more than one parameter. Function only compatible with single parameter grid searches.')\n",
    "        return None\n",
    "    \n",
    "    param = list(logreg_C_gs.param_grid.keys())[0]\n",
    "    \n",
    "    plt.figure(figsize=figsize)\n",
    "    plt.title(\"GridSearchCV Scores for Parameter {}\".format(param), fontsize=16)\n",
    "\n",
    "    plt.xlabel(param)\n",
    "    plt.ylabel(\"Score\")\n",
    "    plt.grid()\n",
    "\n",
    "    ax = plt.axes()\n",
    "    if set_xscale:\n",
    "        ax.set_xscale(set_xscale)\n",
    "    if set_ylim:\n",
    "        ax.set_ylim(set_ylim)\n",
    "    \n",
    "    results = gs.cv_results_\n",
    "\n",
    "    # Get the regular numpy array from the MaskedArray\n",
    "    X_axis = np.array(results['param_' + param].data, dtype=float)\n",
    "    \n",
    "    colors = plt.rcParams['axes.prop_cycle'].by_key()['color']\n",
    "    \n",
    "    for i, scorer in enumerate(sorted(scoring)):\n",
    "        for sample, style in (('train', '--'), ('test', '-')):\n",
    "            sample_score_mean = results['mean_%s_%s' % (sample, scorer)]\n",
    "            sample_score_std = results['std_%s_%s' % (sample, scorer)]\n",
    "            ax.fill_between(X_axis, sample_score_mean - sample_score_std,\n",
    "                            sample_score_mean + sample_score_std,\n",
    "                            alpha=0.1 if sample == 'test' else 0, color=colors[i])\n",
    "            ax.plot(X_axis, sample_score_mean, style, color=colors[i],\n",
    "                    alpha=1 if sample == 'test' else 0.7,\n",
    "                    label=\"%s (%s)\" % (scorer, 'val' if (val_label and sample=='test') else sample))\n",
    "\n",
    "        best_index = np.nonzero(results['rank_test_%s' % scorer] == 1)[0][0]\n",
    "        best_score = results['mean_test_%s' % scorer][best_index]\n",
    "\n",
    "        # Plot a dotted vertical line at the best score for that scorer marked by x\n",
    "        ax.plot([X_axis[best_index], ] * 2, [0, best_score],\n",
    "                linestyle='-.', color=colors[i], marker='x', markeredgewidth=3, ms=8)\n",
    "\n",
    "        # Annotate the best score for that scorer\n",
    "        ax.annotate(\"%0.2f\" % best_score,\n",
    "                    (X_axis[best_index], best_score + 0.005))\n",
    "    \n",
    "    plt.legend(bbox_to_anchor=(1,1))\n",
    "    plt.grid('off')\n",
    "    plt.show()"
   ]
  },
  {
   "cell_type": "markdown",
   "metadata": {},
   "source": [
    "##### Measuring Accuracy"
   ]
  },
  {
   "cell_type": "markdown",
   "metadata": {},
   "source": [
    "The business problem at hand for this classification problem is to identify loans that will default. In terms of measuring the performance of our models, the question arises as to which method of scoring / accuracy we value most. In the context of investing in loans, the risks and consequences of failing to identify a default loan greatly outweight those of accidentally discarding some quality loans as default. Consequently, whilst we will use f1 scoring as a reference, maximizing recall (proportion of defaulted loans correctly identified) should be the priority."
   ]
  },
  {
   "cell_type": "markdown",
   "metadata": {},
   "source": [
    "##### Logistic Regression\n"
   ]
  },
  {
   "cell_type": "markdown",
   "metadata": {},
   "source": [
    "Basic model, no tuning:"
   ]
  },
  {
   "cell_type": "code",
   "execution_count": 61,
   "metadata": {},
   "outputs": [
    {
     "name": "stdout",
     "output_type": "stream",
     "text": [
      "5.67 s ± 0 ns per loop (mean ± std. dev. of 1 run, 1 loop each)\n"
     ]
    }
   ],
   "source": [
    "logreg = LogisticRegression()\n",
    "\n",
    "logreg_timeit = %timeit -n1 -r1 -o \\\n",
    "logreg.fit(X_train, y_train)"
   ]
  },
  {
   "cell_type": "markdown",
   "metadata": {},
   "source": [
    "Not a bad fit time with 10 seconds. Let's see how the base model performs with cross validation scores (f1 and recall):"
   ]
  },
  {
   "cell_type": "code",
   "execution_count": 62,
   "metadata": {
    "collapsed": true
   },
   "outputs": [],
   "source": [
    "logreg_f1_cvs = cross_val_score(estimator=logreg,\n",
    "                             X=X_train,\n",
    "                             y=y_train,\n",
    "                             cv=5,\n",
    "                             scoring='f1',\n",
    "                             n_jobs=4)"
   ]
  },
  {
   "cell_type": "code",
   "execution_count": 63,
   "metadata": {
    "collapsed": true
   },
   "outputs": [],
   "source": [
    "logreg_recall_cvs = cross_val_score(estimator=logreg,\n",
    "                                     X=X_train,\n",
    "                                     y=y_train,\n",
    "                                     cv=5,\n",
    "                                     scoring='recall',\n",
    "                                     n_jobs=4)"
   ]
  },
  {
   "cell_type": "code",
   "execution_count": 66,
   "metadata": {},
   "outputs": [
    {
     "name": "stdout",
     "output_type": "stream",
     "text": [
      "CV mean train f1 score = 0.587\n",
      "CV mean train recall score = 0.417\n"
     ]
    }
   ],
   "source": [
    "# Test scoring on harsh set\n",
    "print('CV mean train f1 score = {:.3f}'.format(logreg_f1_cvs.mean()))\n",
    "print('CV mean train recall score = {:.3f}'.format(logreg_recall_cvs.mean()))"
   ]
  },
  {
   "cell_type": "markdown",
   "metadata": {},
   "source": [
    "A quick look at the learning curves for f1, recall and precision:"
   ]
  },
  {
   "cell_type": "code",
   "execution_count": 306,
   "metadata": {},
   "outputs": [
    {
     "data": {
      "image/png": "[encoded data removed]",
      "text/plain": [
       "<matplotlib.figure.Figure at 0x21d003089b0>"
      ]
     },
     "metadata": {},
     "output_type": "display_data"
    }
   ],
   "source": [
    "plot_learning_curve(LogisticRegression(), X_train, y_train, scoring=['f1', 'recall','precision'], train_sizes=np.arange(0.1,1.1,0.1), subplots=True, figsize=(10,15), n_jobs=4)"
   ]
  },
  {
   "cell_type": "markdown",
   "metadata": {},
   "source": [
    "All train and validation scores appear to converge when using our full set of data, with minimal signs of overfitting."
   ]
  },
  {
   "cell_type": "code",
   "execution_count": 135,
   "metadata": {
    "collapsed": true
   },
   "outputs": [],
   "source": [
    "y_train_pred = logreg.predict(X_train)\n",
    "y_test_pred = logreg.predict(X_test)"
   ]
  },
  {
   "cell_type": "code",
   "execution_count": 136,
   "metadata": {},
   "outputs": [
    {
     "name": "stdout",
     "output_type": "stream",
     "text": [
      "Confusion Matrix:\n",
      "                 Predicted Negative  Predicted Positive\n",
      "Actual Negative              123119                  78\n",
      "Actual Positive               16863               12214\n",
      "--------------------\n",
      "Accuracy Scores:\n",
      "                    Score\n",
      "Rate                     \n",
      "f1               0.590490\n",
      "Recall           0.420057\n",
      "Precision (pos)  0.993654\n",
      "Precision (neg)  0.879535\n",
      "Specificity      0.999367\n",
      "Fallout          0.000633\n"
     ]
    }
   ],
   "source": [
    "logreg_train_summary = classifier_summary(y_train, y_train_pred)"
   ]
  },
  {
   "cell_type": "code",
   "execution_count": 137,
   "metadata": {},
   "outputs": [
    {
     "name": "stdout",
     "output_type": "stream",
     "text": [
      "Confusion Matrix:\n",
      "                 Predicted Negative  Predicted Positive\n",
      "Actual Negative               30734                   6\n",
      "Actual Positive                4213                3116\n",
      "--------------------\n",
      "Accuracy Scores:\n",
      "                    Score\n",
      "Rate                     \n",
      "f1               0.596307\n",
      "Recall           0.425160\n",
      "Precision (pos)  0.998078\n",
      "Precision (neg)  0.879446\n",
      "Specificity      0.999805\n",
      "Fallout          0.000195\n"
     ]
    }
   ],
   "source": [
    "logreg_test_summary = classifier_summary(y_test, y_test_pred)"
   ]
  },
  {
   "cell_type": "markdown",
   "metadata": {},
   "source": [
    "The models are very precise as there are hardly any false positives. However, recall is in need of improvement since we are only identifying 42% of the actual defaulted loans."
   ]
  },
  {
   "cell_type": "code",
   "execution_count": 138,
   "metadata": {
    "collapsed": true
   },
   "outputs": [],
   "source": [
    "# Add model to list\n",
    "model = {'model_name': 'LogReg (Basic)',\n",
    "         'model_type':'LogisticRegression',\n",
    "         'model': logreg,\n",
    "         'model_time': logreg_timeit.timings[0],\n",
    "         'f1_cvs': logreg_f1_cvs,\n",
    "         'recall_cvs': logreg_recall_cvs,\n",
    "         'train_summary': logreg_train_summary,\n",
    "         'test_summary': logreg_test_summary}\n",
    "\n",
    "models['LogReg (Basic)'] = model"
   ]
  },
  {
   "cell_type": "markdown",
   "metadata": {},
   "source": [
    "Will attempt to do some basic improvements via hyperparameter tuning with a focus on recall:"
   ]
  },
  {
   "cell_type": "code",
   "execution_count": 78,
   "metadata": {},
   "outputs": [
    {
     "name": "stdout",
     "output_type": "stream",
     "text": [
      "3min 49s ± 0 ns per loop (mean ± std. dev. of 1 run, 1 loop each)\n"
     ]
    }
   ],
   "source": [
    "scoring=['f1','recall', 'precision']\n",
    "\n",
    "param_grid = {'C': [0.001, 0.01, 0.1, 1, 10, 100, 1000],\n",
    "              'class_weight': ['balanced', None]}\n",
    "\n",
    "logreg_gs = GridSearchCV(estimator=LogisticRegression(),\n",
    "                  param_grid = param_grid,\n",
    "                  scoring=scoring,\n",
    "                  cv=3,\n",
    "                  refit=False,\n",
    "                  n_jobs=4)\n",
    "\n",
    "t = %timeit -n1 -r1 -o \\\n",
    "logreg_gs.fit(X_train, y_train);"
   ]
  },
  {
   "cell_type": "code",
   "execution_count": 79,
   "metadata": {
    "collapsed": true
   },
   "outputs": [],
   "source": [
    "def gs_score_summary(gs):\n",
    "    scores = gs.scoring\n",
    "    print('-'*20)\n",
    "    for score in scoring:\n",
    "        i = np.argmin(gs.cv_results_['rank_test_' + str(score)])\n",
    "        print('Best {}:'.format(score.title()))\n",
    "        print('Params: {}'.format(gs.cv_results_['params'][i]))\n",
    "\n",
    "        for s in scores:\n",
    "            print('{} = {}'.format(s.title(), gs.cv_results_['mean_test_'+str(s)][i]))\n",
    "        print('-'*20)"
   ]
  },
  {
   "cell_type": "code",
   "execution_count": 80,
   "metadata": {},
   "outputs": [
    {
     "name": "stdout",
     "output_type": "stream",
     "text": [
      "--------------------\n",
      "Best F1:\n",
      "Params: {'C': 1000, 'class_weight': None}\n",
      "F1 = 0.6147445805141531\n",
      "Recall = 0.44492224654698764\n",
      "Precision = 0.9943123314648451\n",
      "--------------------\n",
      "Best Recall:\n",
      "Params: {'C': 0.1, 'class_weight': 'balanced'}\n",
      "F1 = 0.5558481049810471\n",
      "Recall = 0.6380988746732669\n",
      "Precision = 0.4923855075520958\n",
      "--------------------\n",
      "Best Precision:\n",
      "Params: {'C': 1000, 'class_weight': None}\n",
      "F1 = 0.6147445805141531\n",
      "Recall = 0.44492224654698764\n",
      "Precision = 0.9943123314648451\n",
      "--------------------\n"
     ]
    }
   ],
   "source": [
    "gs_score_summary(logreg_gs)"
   ]
  },
  {
   "cell_type": "markdown",
   "metadata": {},
   "source": [
    "Whilst improving recall is our priority, it seems that if we focus solely on maximizing recall score we get a signficantly different set of parameters than the models optimized for f1 and precision. Conversely, the parameters for maximizing f1 seem to do little for improving recall.\n",
    "\n",
    "We will plot and compare the scores for the values of C for both balanced and non-balanced class weights for additiona insight."
   ]
  },
  {
   "cell_type": "code",
   "execution_count": 173,
   "metadata": {},
   "outputs": [
    {
     "name": "stdout",
     "output_type": "stream",
     "text": [
      "2min 15s ± 0 ns per loop (mean ± std. dev. of 1 run, 1 loop each)\n"
     ]
    }
   ],
   "source": [
    "scoring=['f1','recall', 'precision']\n",
    "\n",
    "param_grid = {'C': [0.001, 0.01, 0.1, 1, 10, 100, 1000]}\n",
    "\n",
    "logreg_C_bal_gs = GridSearchCV(estimator=LogisticRegression(class_weight='balanced'),\n",
    "                  param_grid = param_grid,\n",
    "                  scoring=scoring,\n",
    "                  cv=3,\n",
    "                  refit=False,\n",
    "                  n_jobs=4)\n",
    "\n",
    "t = %timeit -n1 -r1 -o \\\n",
    "logreg_C_gs.fit(X_train, y_train);"
   ]
  },
  {
   "cell_type": "code",
   "execution_count": 193,
   "metadata": {},
   "outputs": [
    {
     "data": {
      "image/png": "[encoded data removed]",
      "text/plain": [
       "<matplotlib.figure.Figure at 0x21d0e459978>"
      ]
     },
     "metadata": {},
     "output_type": "display_data"
    }
   ],
   "source": [
    "# Balanced weights C plot\n",
    "plot_gs_param(logreg_C_bal_gs, set_xscale='log', set_ylim=(0.3,0.7), figsize=(12,7))"
   ]
  },
  {
   "cell_type": "code",
   "execution_count": 206,
   "metadata": {},
   "outputs": [
    {
     "name": "stdout",
     "output_type": "stream",
     "text": [
      "2min ± 0 ns per loop (mean ± std. dev. of 1 run, 1 loop each)\n"
     ]
    }
   ],
   "source": [
    "scoring=['f1','recall', 'precision']\n",
    "\n",
    "param_grid = {'C': [0.001, 0.01, 0.1, 1, 10, 100, 1000]}\n",
    "\n",
    "logreg_C_gs = GridSearchCV(estimator=LogisticRegression(class_weight=None),\n",
    "                  param_grid = param_grid,\n",
    "                  scoring=scoring,\n",
    "                  cv=3,\n",
    "                  refit=False,\n",
    "                  n_jobs=4)\n",
    "\n",
    "t = %timeit -n1 -r1 -o \\\n",
    "logreg_C_gs.fit(X_train, y_train);"
   ]
  },
  {
   "cell_type": "code",
   "execution_count": 210,
   "metadata": {},
   "outputs": [
    {
     "data": {
      "image/png": "[encoded data removed]",
      "text/plain": [
       "<matplotlib.figure.Figure at 0x21d0d146c50>"
      ]
     },
     "metadata": {},
     "output_type": "display_data"
    }
   ],
   "source": [
    "plot_gs_param(logreg_C_gs, set_xscale='log', set_ylim=(0,1), figsize=(12,7))"
   ]
  },
  {
   "cell_type": "markdown",
   "metadata": {},
   "source": [
    "The balanced class weights has a major impact on our recall, which is expected since our default loans are somewhat of a rare occurance. The non-balanced models are able to achieve such high precision due to the fraction of predicted default loans being relatively small, with the benefit of high certainty. Whilst this certainty is nice, it lets too many default loans slip by. For the sake of a standalone model we should focus on the balanced weights models in the hopes of improving recall. The non-balanced models, however, could still be of use in ensemble methods."
   ]
  },
  {
   "cell_type": "markdown",
   "metadata": {},
   "source": [
    "Taking our best result for recall:"
   ]
  },
  {
   "cell_type": "code",
   "execution_count": 232,
   "metadata": {
    "collapsed": true
   },
   "outputs": [],
   "source": [
    "logreg_best = LogisticRegression(C=0.1, class_weight='balanced')"
   ]
  },
  {
   "cell_type": "code",
   "execution_count": 233,
   "metadata": {
    "collapsed": true
   },
   "outputs": [],
   "source": [
    "logreg_best_f1_cvs = cross_val_score(estimator=logreg_best,\n",
    "                             X=X_train,\n",
    "                             y=y_train,\n",
    "                             cv=5,\n",
    "                             scoring='f1',\n",
    "                             n_jobs=4)"
   ]
  },
  {
   "cell_type": "code",
   "execution_count": 234,
   "metadata": {
    "collapsed": true
   },
   "outputs": [],
   "source": [
    "logreg_best_r_cvs = cross_val_score(estimator=logreg_best,\n",
    "                                     X=X_train,\n",
    "                                     y=y_train,\n",
    "                                     cv=5,\n",
    "                                     scoring='recall',\n",
    "                                     n_jobs=4)"
   ]
  },
  {
   "cell_type": "code",
   "execution_count": 235,
   "metadata": {},
   "outputs": [
    {
     "name": "stdout",
     "output_type": "stream",
     "text": [
      "CV mean train f1 score = 0.559\n",
      "CV mean train recall score = 0.637\n"
     ]
    }
   ],
   "source": [
    "# Test scoring on harsh set\n",
    "print('CV mean train f1 score = {:.3f}'.format(logreg_best_f1_cvs.mean()))\n",
    "print('CV mean train recall score = {:.3f}'.format(logreg_best_r_cvs.mean()))"
   ]
  },
  {
   "cell_type": "markdown",
   "metadata": {},
   "source": [
    "Repeat generic scoring for tuned model:"
   ]
  },
  {
   "cell_type": "code",
   "execution_count": 236,
   "metadata": {},
   "outputs": [
    {
     "name": "stdout",
     "output_type": "stream",
     "text": [
      "3.64 s ± 0 ns per loop (mean ± std. dev. of 1 run, 1 loop each)\n"
     ]
    }
   ],
   "source": [
    "logreg_best_time = %timeit -n1 -r1 -o \\\n",
    "logreg_best.fit(X_train, y_train)"
   ]
  },
  {
   "cell_type": "code",
   "execution_count": 237,
   "metadata": {
    "collapsed": true
   },
   "outputs": [],
   "source": [
    "y_train_pred = logreg_best.predict(X_train)\n",
    "y_test_pred = logreg_best.predict(X_test)"
   ]
  },
  {
   "cell_type": "code",
   "execution_count": 238,
   "metadata": {
    "scrolled": true
   },
   "outputs": [
    {
     "name": "stdout",
     "output_type": "stream",
     "text": [
      "Confusion Matrix:\n",
      "                 Predicted Negative  Predicted Positive\n",
      "Actual Negative              104831               18366\n",
      "Actual Positive               10564               18513\n",
      "--------------------\n",
      "Accuracy Scores:\n",
      "                    Score\n",
      "Rate                     \n",
      "f1               0.561374\n",
      "Recall           0.636689\n",
      "Precision (pos)  0.501993\n",
      "Precision (neg)  0.908454\n",
      "Specificity      0.850922\n",
      "Fallout          0.149078\n"
     ]
    }
   ],
   "source": [
    "logreg_best_train_summary = classifier_summary(y_train, y_train_pred)"
   ]
  },
  {
   "cell_type": "code",
   "execution_count": 239,
   "metadata": {
    "scrolled": true
   },
   "outputs": [
    {
     "name": "stdout",
     "output_type": "stream",
     "text": [
      "Confusion Matrix:\n",
      "                 Predicted Negative  Predicted Positive\n",
      "Actual Negative               26775                3965\n",
      "Actual Positive                2791                4538\n",
      "--------------------\n",
      "Accuracy Scores:\n",
      "                    Score\n",
      "Rate                     \n",
      "f1               0.573269\n",
      "Recall           0.619184\n",
      "Precision (pos)  0.533694\n",
      "Precision (neg)  0.905601\n",
      "Specificity      0.871015\n",
      "Fallout          0.128985\n"
     ]
    }
   ],
   "source": [
    "logreg_best_test_summary = classifier_summary(y_test, y_test_pred)"
   ]
  },
  {
   "cell_type": "markdown",
   "metadata": {},
   "source": [
    "Recall appears to have been increased to 0.62 for out test set - an improvement of approx. 0.19 over the basic logistic regression. Specificity and positive precision have obviously suffered as a result, but we are still able retain 87% of the actual negatives with a 90% certainty of said loans not being a default."
   ]
  },
  {
   "cell_type": "code",
   "execution_count": 241,
   "metadata": {
    "collapsed": true
   },
   "outputs": [],
   "source": [
    "# Add model to list\n",
    "model = {'model_name': 'LogReg (Recall Tuned)',\n",
    "         'model_type':'LogisticRegression',\n",
    "         'model': logreg_best,\n",
    "         'model_time': logreg_best_time.timings[0],\n",
    "         'f1_cvs': logreg_best_f1_cvs,\n",
    "         'recall_cvs': logreg_best_r_cvs,\n",
    "         'train_summary': logreg_best_train_summary,\n",
    "         'test_summary': logreg_best_test_summary}\n",
    "\n",
    "models['LogReg (Recall Tuned)'] = model"
   ]
  },
  {
   "cell_type": "markdown",
   "metadata": {},
   "source": [
    "Taking a look at decision threshold for possible improvements to recall:"
   ]
  },
  {
   "cell_type": "code",
   "execution_count": 242,
   "metadata": {},
   "outputs": [
    {
     "data": {
      "image/png": "[encoded data removed]",
      "text/plain": [
       "<matplotlib.figure.Figure at 0x21d01f26278>"
      ]
     },
     "metadata": {},
     "output_type": "display_data"
    }
   ],
   "source": [
    "precisions, recalls, thresholds = plot_pr_curve(logreg_best, X_train, y_train, label='Logistic Regression')"
   ]
  },
  {
   "cell_type": "markdown",
   "metadata": {},
   "source": [
    "We can potentially push recall even higher if we tweak the decision threshold values, for example attempting for a recall of 0.8:"
   ]
  },
  {
   "cell_type": "code",
   "execution_count": 245,
   "metadata": {},
   "outputs": [
    {
     "name": "stdout",
     "output_type": "stream",
     "text": [
      "Threshold for Recall = 0.8: -0.464\n"
     ]
    }
   ],
   "source": [
    "# Get threshold value for desired recall\n",
    "desired_recall = 0.8\n",
    "i = len(recalls) - np.argmax(recalls[::-1] > desired_recall) - 1\n",
    "t = thresholds[i]\n",
    "print('Threshold for Recall = {}: {:.3f}'.format(desired_recall, t))"
   ]
  },
  {
   "cell_type": "code",
   "execution_count": 248,
   "metadata": {
    "collapsed": true
   },
   "outputs": [],
   "source": [
    "# Filter results based off new threshold\n",
    "y_train_pred_t = logreg_best.decision_function(X_train) >= t\n",
    "y_test_pred_t = logreg_best.decision_function(X_test) >= t"
   ]
  },
  {
   "cell_type": "code",
   "execution_count": 249,
   "metadata": {},
   "outputs": [
    {
     "name": "stdout",
     "output_type": "stream",
     "text": [
      "Confusion Matrix:\n",
      "                 Predicted Negative  Predicted Positive\n",
      "Actual Negative               79951               43246\n",
      "Actual Positive                5919               23158\n",
      "--------------------\n",
      "Accuracy Scores:\n",
      "                    Score\n",
      "Rate                     \n",
      "f1               0.485081\n",
      "Recall           0.796437\n",
      "Precision (pos)  0.348744\n",
      "Precision (neg)  0.931070\n",
      "Specificity      0.648969\n",
      "Fallout          0.351031\n"
     ]
    }
   ],
   "source": [
    "classifier_summary(y_train, y_train_pred_t);"
   ]
  },
  {
   "cell_type": "code",
   "execution_count": 251,
   "metadata": {},
   "outputs": [
    {
     "name": "stdout",
     "output_type": "stream",
     "text": [
      "Confusion Matrix:\n",
      "                 Predicted Negative  Predicted Positive\n",
      "Actual Negative               21057                9683\n",
      "Actual Positive                1672                5657\n",
      "--------------------\n",
      "Accuracy Scores:\n",
      "                    Score\n",
      "Rate                     \n",
      "f1               0.499096\n",
      "Recall           0.771865\n",
      "Precision (pos)  0.368774\n",
      "Precision (neg)  0.926438\n",
      "Specificity      0.685003\n",
      "Fallout          0.314997\n"
     ]
    }
   ],
   "source": [
    "classifier_summary(y_test, y_test_pred_t);"
   ]
  },
  {
   "cell_type": "markdown",
   "metadata": {},
   "source": [
    "Whilst the boosted recall of attainted via this new threshold is a great improvement, it has resulted in a drastically reduced positive precision of 0.34-0.36 and specificity of 0.64-0.68. In other words, only about a third of the actually non-defaulted loans remain, which from a business standpoint is likely too many potential good investments to be discarding."
   ]
  },
  {
   "cell_type": "markdown",
   "metadata": {},
   "source": [
    "##### Naive Bayes Classifier"
   ]
  },
  {
   "cell_type": "code",
   "execution_count": 263,
   "metadata": {
    "collapsed": true
   },
   "outputs": [],
   "source": [
    "gnb = GaussianNB()"
   ]
  },
  {
   "cell_type": "code",
   "execution_count": 268,
   "metadata": {
    "scrolled": true
   },
   "outputs": [
    {
     "name": "stdout",
     "output_type": "stream",
     "text": [
      "187 ms ± 0 ns per loop (mean ± std. dev. of 1 run, 1 loop each)\n"
     ]
    }
   ],
   "source": [
    "gnb_time = %timeit -n1 -r1 -o \\\n",
    "gnb.fit(X_train, y_train)"
   ]
  },
  {
   "cell_type": "code",
   "execution_count": 269,
   "metadata": {
    "collapsed": true
   },
   "outputs": [],
   "source": [
    "gnb_f1_cvs = cross_val_score(estimator=gnb, X=X_train, y=y_train, cv=5, scoring='f1', n_jobs=4)"
   ]
  },
  {
   "cell_type": "code",
   "execution_count": 270,
   "metadata": {
    "collapsed": true
   },
   "outputs": [],
   "source": [
    "gnb_r_cvs = cross_val_score(estimator=gnb, X=X_train, y=y_train, cv=5, scoring='recall', n_jobs=4)"
   ]
  },
  {
   "cell_type": "code",
   "execution_count": 271,
   "metadata": {},
   "outputs": [
    {
     "name": "stdout",
     "output_type": "stream",
     "text": [
      "CV mean train f1 score = 0.446\n",
      "CV mean train recall score = 0.793\n"
     ]
    }
   ],
   "source": [
    "# Test scoring on harsh set\n",
    "print('CV mean train f1 score = {:.3f}'.format(gnb_f1_cvs.mean()))\n",
    "print('CV mean train recall score = {:.3f}'.format(gnb_r_cvs.mean()))"
   ]
  },
  {
   "cell_type": "code",
   "execution_count": 272,
   "metadata": {
    "collapsed": true
   },
   "outputs": [],
   "source": [
    "y_test_pred = gnb.predict(X_test)\n",
    "y_train_pred = gnb.predict(X_train)"
   ]
  },
  {
   "cell_type": "code",
   "execution_count": 273,
   "metadata": {
    "scrolled": true
   },
   "outputs": [
    {
     "name": "stdout",
     "output_type": "stream",
     "text": [
      "Confusion Matrix:\n",
      "                 Predicted Negative  Predicted Positive\n",
      "Actual Negative               22526              100671\n",
      "Actual Positive                1162               27915\n",
      "--------------------\n",
      "Accuracy Scores:\n",
      "                    Score\n",
      "Rate                     \n",
      "f1               0.354110\n",
      "Recall           0.960037\n",
      "Precision (pos)  0.217092\n",
      "Precision (neg)  0.950946\n",
      "Specificity      0.182845\n",
      "Fallout          0.817155\n"
     ]
    }
   ],
   "source": [
    "gnb_train_summary = classifier_summary(y_train, y_train_pred)"
   ]
  },
  {
   "cell_type": "code",
   "execution_count": 274,
   "metadata": {
    "scrolled": true
   },
   "outputs": [
    {
     "name": "stdout",
     "output_type": "stream",
     "text": [
      "Confusion Matrix:\n",
      "                 Predicted Negative  Predicted Positive\n",
      "Actual Negative                  75               30665\n",
      "Actual Positive                   6                7323\n",
      "--------------------\n",
      "Accuracy Scores:\n",
      "                    Score\n",
      "Rate                     \n",
      "f1               0.323190\n",
      "Recall           0.999181\n",
      "Precision (pos)  0.192771\n",
      "Precision (neg)  0.925926\n",
      "Specificity      0.002440\n",
      "Fallout          0.997560\n"
     ]
    }
   ],
   "source": [
    "gnb_test_summary = classifier_summary(y_test, y_test_pred)"
   ]
  },
  {
   "cell_type": "markdown",
   "metadata": {},
   "source": [
    "The naive bayes classifier appears to strongly favor our recall score. However, observing the confusion matrix and scores one can note that specificity (number of accurately predicted negatives) suffers greatly. As mentioned earlier, from an investing standpoint, whilst it is important to identify as many default loans as possible, the model is useless if it comes at the cost of removing almost all loans from consideration. Perhaps the size of the training set is causing some these issues:"
   ]
  },
  {
   "cell_type": "code",
   "execution_count": 307,
   "metadata": {},
   "outputs": [
    {
     "data": {
      "image/png": "[encoded data removed]",
      "text/plain": [
       "<matplotlib.figure.Figure at 0x21d0c716dd8>"
      ]
     },
     "metadata": {},
     "output_type": "display_data"
    }
   ],
   "source": [
    "plot_learning_curve(gnb, X_train, y_train, scoring=['f1', 'recall','precision'], train_sizes=np.arange(0.1,1.01,0.1), subplots=False, figsize=(12,12), n_jobs=4)"
   ]
  },
  {
   "cell_type": "markdown",
   "metadata": {},
   "source": [
    "It would appear that in terms of precision and f1 scores, once we start utilizing 60,0000+ records for modelling the definition of a default loans becomes blurred. This would explain the high recall and large number of predicted positives (default loans). Consequently, modelling off of smaller batches of data may prove more balanced in terms of an acceptable recall and precision combination."
   ]
  },
  {
   "cell_type": "code",
   "execution_count": 275,
   "metadata": {
    "collapsed": true
   },
   "outputs": [],
   "source": [
    "# Add model to dict\n",
    "model = {'model_name': 'Naive Bayes (Basic)',\n",
    "         'model_type':'GassianNB',\n",
    "         'model': gnb,\n",
    "         'model_time': gnb_time.timings[0],\n",
    "         'f1_cvs': gnb_f1_cvs,\n",
    "         'recall_cvs': gnb_r_cvs,\n",
    "         'train_summary': gnb_train_summary,\n",
    "         'test_summary': gnb_test_summary}\n",
    "\n",
    "models['Naive Bayes (Basic)'] = model"
   ]
  },
  {
   "cell_type": "markdown",
   "metadata": {},
   "source": [
    "Although nothing can be done in the way of parameter tuning, we will see what additional improvements can be made by modifying the decision boundary:"
   ]
  },
  {
   "cell_type": "code",
   "execution_count": 276,
   "metadata": {},
   "outputs": [
    {
     "data": {
      "image/png": "[encoded data removed]",
      "text/plain": [
       "<matplotlib.figure.Figure at 0x21d01e9f518>"
      ]
     },
     "metadata": {},
     "output_type": "display_data"
    }
   ],
   "source": [
    "precisions, recalls, thresholds = plot_pr_curve(gnb, X_train, y_train)"
   ]
  },
  {
   "cell_type": "markdown",
   "metadata": {},
   "source": [
    "We will reduce recall in hopes of acheiving a better balance in scores:"
   ]
  },
  {
   "cell_type": "code",
   "execution_count": 277,
   "metadata": {},
   "outputs": [
    {
     "data": {
      "text/plain": [
       "0.86140530810699245"
      ]
     },
     "execution_count": 277,
     "metadata": {},
     "output_type": "execute_result"
    }
   ],
   "source": [
    "# Get threshold value for desired recall\n",
    "desired_recall = 0.7\n",
    "i = len(recalls) - np.argmax(recalls[::-1] > desired_recall) - 1\n",
    "t = thresholds[i]\n",
    "t"
   ]
  },
  {
   "cell_type": "code",
   "execution_count": 278,
   "metadata": {
    "collapsed": true
   },
   "outputs": [],
   "source": [
    "y_train_pred_t = gnb.predict_proba(X_train)[:,1] >= t "
   ]
  },
  {
   "cell_type": "code",
   "execution_count": 279,
   "metadata": {},
   "outputs": [
    {
     "name": "stdout",
     "output_type": "stream",
     "text": [
      "Confusion Matrix:\n",
      "                 Predicted Negative  Predicted Positive\n",
      "Actual Negative               56062               67135\n",
      "Actual Positive                3691               25386\n",
      "--------------------\n",
      "Accuracy Scores:\n",
      "                    Score\n",
      "Rate                     \n",
      "f1               0.417540\n",
      "Recall           0.873061\n",
      "Precision (pos)  0.274381\n",
      "Precision (neg)  0.938229\n",
      "Specificity      0.455060\n",
      "Fallout          0.544940\n"
     ]
    }
   ],
   "source": [
    "cmat, scores = classifier_summary(y_train, y_train_pred_t)"
   ]
  },
  {
   "cell_type": "markdown",
   "metadata": {},
   "source": [
    "Significantly increasing the threshold to acheive an approximate recall of 0.7, we can acheive signficiant improvements in all other scores. If this model were to be ultimately be used, some fine tuning of this threshold would be required."
   ]
  },
  {
   "cell_type": "markdown",
   "metadata": {},
   "source": [
    "##### KNN"
   ]
  },
  {
   "cell_type": "markdown",
   "metadata": {},
   "source": [
    "KNN will likely take a while to compute due to the $O(kn \\times mn)$ complexity, but we will still give it a try and see how it performs."
   ]
  },
  {
   "cell_type": "code",
   "execution_count": 16,
   "metadata": {
    "collapsed": true
   },
   "outputs": [],
   "source": [
    "knn = Pipeline([('norm', Normalizer()),\n",
    "                ('estimator', KNeighborsClassifier())])"
   ]
  },
  {
   "cell_type": "code",
   "execution_count": 17,
   "metadata": {},
   "outputs": [
    {
     "name": "stdout",
     "output_type": "stream",
     "text": [
      "1.39 s ± 0 ns per loop (mean ± std. dev. of 1 run, 1 loop each)\n"
     ]
    }
   ],
   "source": [
    "knn_time = %timeit -n1 -r1 -o \\\n",
    "knn.fit(X_train, y_train)"
   ]
  },
  {
   "cell_type": "markdown",
   "metadata": {},
   "source": [
    "Significantly longer than most of what we have seen so far - as expected. Cross validation scores will take a while to process but still worthwhile:"
   ]
  },
  {
   "cell_type": "code",
   "execution_count": 297,
   "metadata": {
    "collapsed": true
   },
   "outputs": [],
   "source": [
    "knn_f1_cvs = cross_val_score(estimator=knn, X=X_train, y=y_train, cv=3, scoring='f1', n_jobs=4)"
   ]
  },
  {
   "cell_type": "code",
   "execution_count": 299,
   "metadata": {
    "collapsed": true
   },
   "outputs": [],
   "source": [
    "knn_r_cvs = cross_val_score(estimator=knn, X=X_train, y=y_train, cv=3, scoring='recall', n_jobs=4)"
   ]
  },
  {
   "cell_type": "code",
   "execution_count": 300,
   "metadata": {},
   "outputs": [
    {
     "name": "stdout",
     "output_type": "stream",
     "text": [
      "CV mean train f1 score = 0.344\n",
      "CV mean train recall score = 0.247\n"
     ]
    }
   ],
   "source": [
    "print('CV mean train f1 score = {:.3f}'.format(knn_f1_cvs.mean()))\n",
    "print('CV mean train recall score = {:.3f}'.format(knn_r_cvs.mean()))"
   ]
  },
  {
   "cell_type": "markdown",
   "metadata": {},
   "source": [
    "Already looking to be significantly worse than the other models tested until now, but this could also be a result of the fold sample sizes not providing sufficient information. Predictions using KNN are also likely to take some time due to its nature of having to process the entire set each time:"
   ]
  },
  {
   "cell_type": "code",
   "execution_count": 285,
   "metadata": {
    "scrolled": true
   },
   "outputs": [
    {
     "name": "stdout",
     "output_type": "stream",
     "text": [
      "6min 44s ± 0 ns per loop (mean ± std. dev. of 1 run, 1 loop each)\n"
     ]
    }
   ],
   "source": [
    "%timeit -n1 -r1 \\\n",
    "y_train_pred = knn.predict(X_train)"
   ]
  },
  {
   "cell_type": "code",
   "execution_count": 288,
   "metadata": {},
   "outputs": [
    {
     "name": "stdout",
     "output_type": "stream",
     "text": [
      "1min 51s ± 0 ns per loop (mean ± std. dev. of 1 run, 1 loop each)\n"
     ]
    }
   ],
   "source": [
    "%timeit -n1 -r1 \\\n",
    "y_test_pred = knn.predict(X_test)"
   ]
  },
  {
   "cell_type": "markdown",
   "metadata": {},
   "source": [
    "Due to the nature of KNN these predictions took signficantly longer for predictions than our other models thus far."
   ]
  },
  {
   "cell_type": "code",
   "execution_count": 301,
   "metadata": {},
   "outputs": [
    {
     "name": "stdout",
     "output_type": "stream",
     "text": [
      "Confusion Matrix:\n",
      "                 Predicted Negative  Predicted Positive\n",
      "Actual Negative               22526              100671\n",
      "Actual Positive                1162               27915\n",
      "--------------------\n",
      "Accuracy Scores:\n",
      "                    Score\n",
      "Rate                     \n",
      "f1               0.354110\n",
      "Recall           0.960037\n",
      "Precision (pos)  0.217092\n",
      "Precision (neg)  0.950946\n",
      "Specificity      0.182845\n",
      "Fallout          0.817155\n"
     ]
    }
   ],
   "source": [
    "knn_train_summary = classifier_summary(y_train, y_train_pred)"
   ]
  },
  {
   "cell_type": "code",
   "execution_count": 302,
   "metadata": {},
   "outputs": [
    {
     "name": "stdout",
     "output_type": "stream",
     "text": [
      "Confusion Matrix:\n",
      "                 Predicted Negative  Predicted Positive\n",
      "Actual Negative                  75               30665\n",
      "Actual Positive                   6                7323\n",
      "--------------------\n",
      "Accuracy Scores:\n",
      "                    Score\n",
      "Rate                     \n",
      "f1               0.323190\n",
      "Recall           0.999181\n",
      "Precision (pos)  0.192771\n",
      "Precision (neg)  0.925926\n",
      "Specificity      0.002440\n",
      "Fallout          0.997560\n"
     ]
    }
   ],
   "source": [
    "knn_test_summary = classifier_summary(y_test, y_test_pred)"
   ]
  },
  {
   "cell_type": "markdown",
   "metadata": {},
   "source": [
    "We appear to be getting very similar results to our Naive Bayes classifier, and are probably seeing the same issues arising as a result of the large training set size:"
   ]
  },
  {
   "cell_type": "code",
   "execution_count": null,
   "metadata": {
    "collapsed": true
   },
   "outputs": [],
   "source": [
    "plot_learning_curve(knn, X_train, y_train, scoring=['f1', 'recall','precision'], train_sizes=[0.3,0.5,0.7], cv=3, subplots=False, figsize=(12,12), n_jobs=4)"
   ]
  },
  {
   "cell_type": "markdown",
   "metadata": {},
   "source": [
    "##### Support Vector Classifier"
   ]
  },
  {
   "cell_type": "markdown",
   "metadata": {},
   "source": [
    "Support Vector Classifiers are likely to be computationally expensive due to the number of features, but we will still give it a try and see how it performs."
   ]
  },
  {
   "cell_type": "code",
   "execution_count": 146,
   "metadata": {
    "collapsed": true
   },
   "outputs": [],
   "source": [
    "lin_svc = LinearSVC()"
   ]
  },
  {
   "cell_type": "code",
   "execution_count": 147,
   "metadata": {},
   "outputs": [
    {
     "name": "stdout",
     "output_type": "stream",
     "text": [
      "30.3 s ± 0 ns per loop (mean ± std. dev. of 1 run, 1 loop each)\n"
     ]
    }
   ],
   "source": [
    "lin_svc_time = %timeit -n1 -r1 -o \\\n",
    "lin_svc.fit(X_train, y_train)"
   ]
  },
  {
   "cell_type": "markdown",
   "metadata": {},
   "source": [
    "Somewhat slower due to large number of training instances n (160k) and features m (59). (complexity $O(m\\times n)$)"
   ]
  },
  {
   "cell_type": "code",
   "execution_count": 52,
   "metadata": {
    "collapsed": true
   },
   "outputs": [],
   "source": [
    "lin_svc_f1_cvs = cross_val_score(estimator=LinearSVC(), X=X_train, y=y_train, cv=5, scoring='f1', n_jobs=4)"
   ]
  },
  {
   "cell_type": "code",
   "execution_count": 53,
   "metadata": {
    "collapsed": true
   },
   "outputs": [],
   "source": [
    "lin_svc_r_cvs = cross_val_score(estimator=LinearSVC(), X=X_train, y=y_train, cv=5, scoring='recall', n_jobs=4)"
   ]
  },
  {
   "cell_type": "code",
   "execution_count": 55,
   "metadata": {
    "scrolled": true
   },
   "outputs": [
    {
     "name": "stdout",
     "output_type": "stream",
     "text": [
      "CV mean train f1 score = 0.606\n",
      "CV mean train recall score = 0.434\n"
     ]
    }
   ],
   "source": [
    "print('CV mean train f1 score = {:.3f}'.format(lin_svc_f1_cvs.mean()))\n",
    "print('CV mean train recall score = {:.3f}'.format(lin_svc_r_cvs.mean()))"
   ]
  },
  {
   "cell_type": "markdown",
   "metadata": {},
   "source": [
    "Comparable results to our base logistic regression model, with slight improvements to both f1 and recall scores."
   ]
  },
  {
   "cell_type": "code",
   "execution_count": 148,
   "metadata": {
    "collapsed": true
   },
   "outputs": [],
   "source": [
    "y_train_pred = lin_svc.predict(X_train)\n",
    "y_test_pred = lin_svc.predict(X_test)"
   ]
  },
  {
   "cell_type": "code",
   "execution_count": 149,
   "metadata": {},
   "outputs": [
    {
     "name": "stdout",
     "output_type": "stream",
     "text": [
      "Confusion Matrix:\n",
      "                 Predicted Negative  Predicted Positive\n",
      "Actual Negative              123197                   0\n",
      "Actual Positive               16403               12674\n",
      "--------------------\n",
      "Accuracy Scores:\n",
      "                Score\n",
      "Rate                 \n",
      "f1           0.607123\n",
      "Recall       0.435877\n",
      "Precision    1.000000\n",
      "Specificity  1.000000\n",
      "Fallout      0.000000\n"
     ]
    }
   ],
   "source": [
    "lin_svc_train_summary = classifier_summary(y_train, y_train_pred)"
   ]
  },
  {
   "cell_type": "code",
   "execution_count": 150,
   "metadata": {},
   "outputs": [
    {
     "name": "stdout",
     "output_type": "stream",
     "text": [
      "Confusion Matrix:\n",
      "                 Predicted Negative  Predicted Positive\n",
      "Actual Negative               30740                   0\n",
      "Actual Positive                4109                3220\n",
      "--------------------\n",
      "Accuracy Scores:\n",
      "                Score\n",
      "Rate                 \n",
      "f1           0.610484\n",
      "Recall       0.439351\n",
      "Precision    1.000000\n",
      "Specificity  1.000000\n",
      "Fallout      0.000000\n"
     ]
    }
   ],
   "source": [
    "lin_svc_test_summary = classifier_summary(y_test, y_test_pred)"
   ]
  },
  {
   "cell_type": "markdown",
   "metadata": {},
   "source": [
    "The base model clearly favors precision and specificity - in fact in both train and test predictions there is not a single false positive. Recall on the other hand is still in the low 0.4 range, so we will see what improvements can be made via parameter tuning."
   ]
  },
  {
   "cell_type": "code",
   "execution_count": 443,
   "metadata": {
    "collapsed": true
   },
   "outputs": [],
   "source": [
    "# Add model to list\n",
    "model = {'model_name': 'Linear SVC (Basic)',\n",
    "         'model_type':'LinearSVC',\n",
    "         'model': lin_svc,\n",
    "         'train_score': train_score,\n",
    "         'test_score': test_score}\n",
    "\n",
    "models.append(model)"
   ]
  },
  {
   "cell_type": "markdown",
   "metadata": {},
   "source": [
    "Will see if grid search is feasible for hyperparameter tuning based off recall score:"
   ]
  },
  {
   "cell_type": "code",
   "execution_count": 132,
   "metadata": {
    "scrolled": true
   },
   "outputs": [
    {
     "data": {
      "text/plain": [
       "GridSearchCV(cv=3, error_score='raise',\n",
       "       estimator=LinearSVC(C=1.0, class_weight=None, dual=False, fit_intercept=True,\n",
       "     intercept_scaling=1, loss='squared_hinge', max_iter=1000,\n",
       "     multi_class='ovr', penalty='l2', random_state=None, tol=0.0001,\n",
       "     verbose=0),\n",
       "       fit_params=None, iid=True, n_jobs=4,\n",
       "       param_grid={'C': [0.001, 0.01, 0.1, 1, 10, 100, 1000], 'penalty': ['l1', 'l2'], 'class_weight': ['balanced', None]},\n",
       "       pre_dispatch='2*n_jobs', refit='recall', return_train_score=True,\n",
       "       scoring=['f1', 'recall'], verbose=0)"
      ]
     },
     "execution_count": 132,
     "metadata": {},
     "output_type": "execute_result"
    }
   ],
   "source": [
    "param_grid = {'C': [.001, .01, .1, 1, 10, 100, 1000],\n",
    "              'penalty': ['l1', 'l2'],\n",
    "              'class_weight': ['balanced', None]}\n",
    "\n",
    "lsvc_gs = GridSearchCV(estimator=LinearSVC(dual=False),\n",
    "                       param_grid=param_grid,\n",
    "                       scoring=['f1', 'recall'],\n",
    "                       refit='recall',\n",
    "                       cv=3,\n",
    "                       n_jobs=4)\n",
    "\n",
    "lsvc_gs.fit(X_train, y_train)"
   ]
  },
  {
   "cell_type": "code",
   "execution_count": 133,
   "metadata": {},
   "outputs": [
    {
     "data": {
      "text/plain": [
       "0.6272999631246251"
      ]
     },
     "execution_count": 133,
     "metadata": {},
     "output_type": "execute_result"
    }
   ],
   "source": [
    "lsvc_gs.best_score_"
   ]
  },
  {
   "cell_type": "code",
   "execution_count": 134,
   "metadata": {},
   "outputs": [
    {
     "data": {
      "text/plain": [
       "{'C': 0.01, 'class_weight': 'balanced', 'penalty': 'l2'}"
      ]
     },
     "execution_count": 134,
     "metadata": {},
     "output_type": "execute_result"
    }
   ],
   "source": [
    "lsvc_gs.best_params_"
   ]
  },
  {
   "cell_type": "code",
   "execution_count": 135,
   "metadata": {
    "collapsed": true
   },
   "outputs": [],
   "source": [
    "lsvc_best = lsvc_gs.best_estimator_"
   ]
  },
  {
   "cell_type": "code",
   "execution_count": 136,
   "metadata": {
    "collapsed": true
   },
   "outputs": [],
   "source": [
    "y_train_pred = lsvc_best.predict(X_train)\n",
    "y_test_pred = lsvc_best.predict(X_test)"
   ]
  },
  {
   "cell_type": "code",
   "execution_count": 137,
   "metadata": {},
   "outputs": [
    {
     "name": "stdout",
     "output_type": "stream",
     "text": [
      "Confusion Matrix:\n",
      "                 Predicted Negative  Predicted Positive\n",
      "Actual Negative              105423               17774\n",
      "Actual Positive               10887               18190\n",
      "--------------------\n",
      "Accuracy Scores:\n",
      "                Score\n",
      "Rate                 \n",
      "f1           0.559339\n",
      "Recall       0.625580\n",
      "Precision    0.505784\n",
      "Specificity  0.855727\n",
      "Fallout      0.144273\n"
     ]
    }
   ],
   "source": [
    "lsvc_train_summary = classifier_summary(y_train, y_train_pred);"
   ]
  },
  {
   "cell_type": "code",
   "execution_count": 138,
   "metadata": {},
   "outputs": [
    {
     "name": "stdout",
     "output_type": "stream",
     "text": [
      "Confusion Matrix:\n",
      "                 Predicted Negative  Predicted Positive\n",
      "Actual Negative               26967                3773\n",
      "Actual Positive                2868                4461\n",
      "--------------------\n",
      "Accuracy Scores:\n",
      "                Score\n",
      "Rate                 \n",
      "f1           0.573283\n",
      "Recall       0.608678\n",
      "Precision    0.541778\n",
      "Specificity  0.877261\n",
      "Fallout      0.122739\n"
     ]
    }
   ],
   "source": [
    "lsvc_test_summary = classifier_summary(y_test, y_test_pred);"
   ]
  },
  {
   "cell_type": "markdown",
   "metadata": {},
   "source": [
    "The optimized linear SVC seems to acheive similar results to logistic regression with a recall of 0.6, but we have obviously lost our perfect precision."
   ]
  },
  {
   "cell_type": "code",
   "execution_count": 440,
   "metadata": {
    "collapsed": true
   },
   "outputs": [],
   "source": [
    "# Add model to list\n",
    "model = {'model_name': 'Linear SVC (Tuned)',\n",
    "         'model_type':'LinearSVC',\n",
    "         'model': lsvc_best,\n",
    "         'train_score': train_scores.iloc[0,0],\n",
    "         'test_score': test_scores.iloc[0,0]}\n",
    "\n",
    "models.append(model)"
   ]
  },
  {
   "cell_type": "markdown",
   "metadata": {},
   "source": [
    "Exploring this tradeoff further may lead to a better model for our purposes (i.e. higher recall vs. precision), with adjustmenets to the decision threshold:"
   ]
  },
  {
   "cell_type": "code",
   "execution_count": 151,
   "metadata": {},
   "outputs": [
    {
     "data": {
      "image/png": "[encoded data removed]",
      "text/plain": [
       "<matplotlib.figure.Figure at 0x1bdc20d5b70>"
      ]
     },
     "metadata": {},
     "output_type": "display_data"
    }
   ],
   "source": [
    "precisions, recalls, thresholds = plot_pr_curve(lsvc_best, X_train, y_train)"
   ]
  },
  {
   "cell_type": "code",
   "execution_count": 158,
   "metadata": {
    "collapsed": true
   },
   "outputs": [],
   "source": [
    "# Filter off new threshold\n",
    "y_train_pred_t = lsvc_best.decision_function(X_train) > -.5"
   ]
  },
  {
   "cell_type": "code",
   "execution_count": 159,
   "metadata": {},
   "outputs": [
    {
     "name": "stdout",
     "output_type": "stream",
     "text": [
      "Confusion Matrix:\n",
      "                 Predicted Negative  Predicted Positive\n",
      "Actual Negative               32138               91059\n",
      "Actual Positive                1353               27724\n",
      "--------------------\n",
      "Accuracy Scores:\n",
      "                Score\n",
      "Rate                 \n",
      "f1           0.375003\n",
      "Recall       0.953468\n",
      "Precision    0.233400\n",
      "Specificity  0.260867\n",
      "Fallout      0.739133\n"
     ]
    }
   ],
   "source": [
    "classifier_summary(y_train, y_train_pred_t);"
   ]
  },
  {
   "cell_type": "markdown",
   "metadata": {},
   "source": [
    "Reducing the threshold greatly improves recall, but again at at a considerable cost to precision and specificity, with only a little over 25% of the non-defaulted loans remaining."
   ]
  },
  {
   "cell_type": "markdown",
   "metadata": {},
   "source": [
    "##### Support Vector Classifier - Polynomial"
   ]
  },
  {
   "cell_type": "code",
   "execution_count": 17,
   "metadata": {
    "collapsed": true
   },
   "outputs": [],
   "source": [
    "psvc = SVC(kernel='poly', degree=2)"
   ]
  },
  {
   "cell_type": "code",
   "execution_count": null,
   "metadata": {
    "collapsed": true
   },
   "outputs": [],
   "source": [
    "psvc_time = %timeit -n1 -r1 -o \\\n",
    "psvc.fit(X_train, y_train)"
   ]
  },
  {
   "cell_type": "markdown",
   "metadata": {},
   "source": [
    "##### Support Vector Classifier  - RBF"
   ]
  },
  {
   "cell_type": "code",
   "execution_count": 160,
   "metadata": {
    "collapsed": true
   },
   "outputs": [],
   "source": [
    "rsvc = SVC(kernel='rbf')"
   ]
  },
  {
   "cell_type": "code",
   "execution_count": null,
   "metadata": {
    "collapsed": true
   },
   "outputs": [],
   "source": [
    "rsvc_time = %timeit -n1 -r1 -o \\\n",
    "rsvc.fit(X_train, y_train)"
   ]
  },
  {
   "cell_type": "markdown",
   "metadata": {},
   "source": [
    "##### Decision Tree Classifier"
   ]
  },
  {
   "cell_type": "code",
   "execution_count": 51,
   "metadata": {
    "collapsed": true
   },
   "outputs": [],
   "source": [
    "dtc = DecisionTreeClassifier()"
   ]
  },
  {
   "cell_type": "code",
   "execution_count": 61,
   "metadata": {
    "scrolled": true
   },
   "outputs": [
    {
     "data": {
      "text/plain": [
       "DecisionTreeClassifier(class_weight=None, criterion='gini', max_depth=None,\n",
       "            max_features=None, max_leaf_nodes=None,\n",
       "            min_impurity_decrease=0.0, min_impurity_split=None,\n",
       "            min_samples_leaf=1, min_samples_split=2,\n",
       "            min_weight_fraction_leaf=0.0, presort=False, random_state=None,\n",
       "            splitter='best')"
      ]
     },
     "execution_count": 61,
     "metadata": {},
     "output_type": "execute_result"
    }
   ],
   "source": [
    "dtc.fit(X_train, y_train)"
   ]
  },
  {
   "cell_type": "code",
   "execution_count": 54,
   "metadata": {
    "collapsed": true
   },
   "outputs": [],
   "source": [
    "y_train_pred = dtc.predict(X_train)\n",
    "y_test_pred = dtc.predict(X_test)"
   ]
  },
  {
   "cell_type": "code",
   "execution_count": 55,
   "metadata": {
    "scrolled": true
   },
   "outputs": [
    {
     "name": "stdout",
     "output_type": "stream",
     "text": [
      "Confusion Matrix:\n",
      "                 Predicted Negative  Predicted Positive\n",
      "Actual Negative              167722                   0\n",
      "Actual Positive                   0               37806\n",
      "--------------------\n",
      "Accuracy Scores:\n",
      "             Score\n",
      "Rate              \n",
      "f1             1.0\n",
      "Recall         1.0\n",
      "Precision      1.0\n",
      "Specificity    1.0\n",
      "Fallout        0.0\n"
     ]
    }
   ],
   "source": [
    "train_cmat, train_scores = classifier_summary(y_train, y_train_pred)"
   ]
  },
  {
   "cell_type": "code",
   "execution_count": 56,
   "metadata": {},
   "outputs": [
    {
     "name": "stdout",
     "output_type": "stream",
     "text": [
      "Confusion Matrix:\n",
      "                 Predicted Negative  Predicted Positive\n",
      "Actual Negative               37437                4526\n",
      "Actual Positive                3950                5469\n",
      "--------------------\n",
      "Accuracy Scores:\n",
      "                Score\n",
      "Rate                 \n",
      "f1           0.563408\n",
      "Recall       0.580635\n",
      "Precision    0.547174\n",
      "Specificity  0.904559\n",
      "Fallout      0.095441\n"
     ]
    }
   ],
   "source": [
    "test_cmat, test_scores = classifier_summary(y_test, y_test_pred)"
   ]
  },
  {
   "cell_type": "markdown",
   "metadata": {},
   "source": [
    "Here we have a classic example of overfitting. The decision tree clearly needs to be constrained with some of its parameters to limit the depth and number of splits/leaves in the tree."
   ]
  },
  {
   "cell_type": "code",
   "execution_count": null,
   "metadata": {
    "collapsed": true
   },
   "outputs": [],
   "source": [
    "# Add model to list\n",
    "model = {'model_name': 'Decision Tree (Basic)',\n",
    "         'model_type':'DecisionTreeClassifier',\n",
    "         'model': dtc,\n",
    "         'train_score': train_scores.iloc[0,0],\n",
    "         'test_score': test_scores.iloc[0,0]}\n",
    "\n",
    "models.append(model)"
   ]
  },
  {
   "cell_type": "markdown",
   "metadata": {},
   "source": [
    "Due to the variety of parameter values, randomized search will be done in place of grid search:"
   ]
  },
  {
   "cell_type": "code",
   "execution_count": 69,
   "metadata": {
    "scrolled": false
   },
   "outputs": [
    {
     "data": {
      "text/plain": [
       "RandomizedSearchCV(cv=3, error_score='raise',\n",
       "          estimator=DecisionTreeClassifier(class_weight=None, criterion='gini', max_depth=None,\n",
       "            max_features=None, max_leaf_nodes=None,\n",
       "            min_impurity_decrease=0.0, min_impurity_split=None,\n",
       "            min_samples_leaf=1, min_samples_split=2,\n",
       "            min_weight_fraction_leaf=0.0, presort=False, random_state=None,\n",
       "            splitter='best'),\n",
       "          fit_params=None, iid=True, n_iter=100, n_jobs=-1,\n",
       "          param_distributions={'criterion': ['gini', 'entropy'], 'max_depth': array([10, 15, 20, 25, 30, 35, 40, 45, 50, 55, 60, 65, 70, 75, 80, 85, 90,\n",
       "       95]), 'min_samples_split': array([  2,   3,   4,   5,  10,  15,  20,  25,  30,  35,  40,  45,  50,\n",
       "        55,  60,  65,  70,  75,  80,  85,  90,  95,..., 0.1, 0.2, 0.30000000000000004, 0.4, 0.5, 0.6,\n",
       "       0.7000000000000001, 0.8, 0.9], dtype=object)},\n",
       "          pre_dispatch='2*n_jobs', random_state=None, refit=True,\n",
       "          return_train_score=True, scoring='f1', verbose=0)"
      ]
     },
     "execution_count": 69,
     "metadata": {},
     "output_type": "execute_result"
    }
   ],
   "source": [
    "param_grid = {'criterion': ['gini', 'entropy'],\n",
    "              'max_depth': np.arange(10,100,5),\n",
    "              'min_samples_split': np.append(np.array([2,3,4]), np.arange(5,101,5)),\n",
    "              'min_samples_leaf': np.append(np.array([2,3,4]), np.arange(5,101,5)),\n",
    "              'max_features': np.append(np.array(['sqrt', 'log2', None]), np.arange(0.1,1,0.1)).astype('object')}\n",
    "\n",
    "dtc_rs = RandomizedSearchCV(estimator=dtc,\n",
    "                  param_distributions = param_grid,\n",
    "                  n_iter=100,\n",
    "                  scoring='f1',\n",
    "                  cv=3,\n",
    "                  n_jobs=-1)\n",
    "\n",
    "dtc_rs.fit(X_train, y_train)"
   ]
  },
  {
   "cell_type": "code",
   "execution_count": 70,
   "metadata": {},
   "outputs": [
    {
     "data": {
      "text/plain": [
       "{'criterion': 'entropy',\n",
       " 'max_depth': 55,\n",
       " 'max_features': 0.7000000000000001,\n",
       " 'min_samples_leaf': 80,\n",
       " 'min_samples_split': 20}"
      ]
     },
     "execution_count": 70,
     "metadata": {},
     "output_type": "execute_result"
    }
   ],
   "source": [
    "dtc_rs.best_params_"
   ]
  },
  {
   "cell_type": "code",
   "execution_count": 71,
   "metadata": {},
   "outputs": [
    {
     "data": {
      "text/plain": [
       "0.66669749055934557"
      ]
     },
     "execution_count": 71,
     "metadata": {},
     "output_type": "execute_result"
    }
   ],
   "source": [
    "dtc_rs.best_score_"
   ]
  },
  {
   "cell_type": "code",
   "execution_count": 72,
   "metadata": {
    "collapsed": true
   },
   "outputs": [],
   "source": [
    "dtc_best = DecisionTreeClassifier(criterion='entropy',\n",
    "                                  max_depth=55,\n",
    "                                  max_features=0.7,\n",
    "                                  min_samples_leaf=80,\n",
    "                                  min_samples_split=20)"
   ]
  },
  {
   "cell_type": "code",
   "execution_count": 73,
   "metadata": {},
   "outputs": [
    {
     "data": {
      "text/plain": [
       "DecisionTreeClassifier(class_weight=None, criterion='entropy', max_depth=55,\n",
       "            max_features=0.7, max_leaf_nodes=None,\n",
       "            min_impurity_decrease=0.0, min_impurity_split=None,\n",
       "            min_samples_leaf=80, min_samples_split=20,\n",
       "            min_weight_fraction_leaf=0.0, presort=False, random_state=None,\n",
       "            splitter='best')"
      ]
     },
     "execution_count": 73,
     "metadata": {},
     "output_type": "execute_result"
    }
   ],
   "source": [
    "dtc_best.fit(X_train, y_train)"
   ]
  },
  {
   "cell_type": "code",
   "execution_count": 75,
   "metadata": {
    "collapsed": true
   },
   "outputs": [],
   "source": [
    "y_train_pred = dtc_best.predict(X_train)\n",
    "y_test_pred = dtc_best.predict(X_test)"
   ]
  },
  {
   "cell_type": "code",
   "execution_count": 76,
   "metadata": {
    "scrolled": true
   },
   "outputs": [
    {
     "name": "stdout",
     "output_type": "stream",
     "text": [
      "Confusion Matrix:\n",
      "                 Predicted Negative  Predicted Positive\n",
      "Actual Negative              167589                 133\n",
      "Actual Positive               18804               19002\n",
      "--------------------\n",
      "Accuracy Scores:\n",
      "                Score\n",
      "Rate                 \n",
      "f1           0.667428\n",
      "Recall       0.502619\n",
      "Precision    0.993049\n",
      "Specificity  0.899116\n",
      "Fallout      0.100884\n"
     ]
    }
   ],
   "source": [
    "train_cmat, train_scores = classifier_summary(y_train, y_train_pred)"
   ]
  },
  {
   "cell_type": "code",
   "execution_count": 77,
   "metadata": {},
   "outputs": [
    {
     "name": "stdout",
     "output_type": "stream",
     "text": [
      "Confusion Matrix:\n",
      "                 Predicted Negative  Predicted Positive\n",
      "Actual Negative               41921                  42\n",
      "Actual Positive                4733                4686\n",
      "--------------------\n",
      "Accuracy Scores:\n",
      "                Score\n",
      "Rate                 \n",
      "f1           0.662473\n",
      "Recall       0.497505\n",
      "Precision    0.991117\n",
      "Specificity  0.898551\n",
      "Fallout      0.101449\n"
     ]
    }
   ],
   "source": [
    "test_cmat, test_scores = classifier_summary(y_test, y_test_pred)"
   ]
  },
  {
   "cell_type": "markdown",
   "metadata": {},
   "source": [
    "Although our parameter tuning improved overall f1 scores, it actually wound up hurting our recall, specificity, and fallout in order to acheive higher precision, which is the score we are least concerned with. We will try optimizing parameters with respect to the recall score:"
   ]
  },
  {
   "cell_type": "code",
   "execution_count": 79,
   "metadata": {},
   "outputs": [
    {
     "data": {
      "text/plain": [
       "RandomizedSearchCV(cv=3, error_score='raise',\n",
       "          estimator=DecisionTreeClassifier(class_weight=None, criterion='gini', max_depth=None,\n",
       "            max_features=None, max_leaf_nodes=None,\n",
       "            min_impurity_decrease=0.0, min_impurity_split=None,\n",
       "            min_samples_leaf=1, min_samples_split=2,\n",
       "            min_weight_fraction_leaf=0.0, presort=False, random_state=None,\n",
       "            splitter='best'),\n",
       "          fit_params=None, iid=True, n_iter=100, n_jobs=-1,\n",
       "          param_distributions={'criterion': ['gini', 'entropy'], 'max_depth': array([10, 15, 20, 25, 30, 35, 40, 45, 50, 55, 60, 65, 70, 75, 80, 85, 90,\n",
       "       95]), 'min_samples_split': array([  2,   3,   4,   5,  10,  15,  20,  25,  30,  35,  40,  45,  50,\n",
       "        55,  60,  65,  70,  75,  80,  85,  90,  95,..., 0.1, 0.2, 0.30000000000000004, 0.4, 0.5, 0.6,\n",
       "       0.7000000000000001, 0.8, 0.9], dtype=object)},\n",
       "          pre_dispatch='2*n_jobs', random_state=None, refit=True,\n",
       "          return_train_score=True, scoring='recall', verbose=0)"
      ]
     },
     "execution_count": 79,
     "metadata": {},
     "output_type": "execute_result"
    }
   ],
   "source": [
    "param_grid = {'criterion': ['gini', 'entropy'],\n",
    "              'max_depth': np.arange(10,100,5),\n",
    "              'min_samples_split': np.append(np.array([2,3,4]), np.arange(5,101,5)),\n",
    "              'min_samples_leaf': np.append(np.array([2,3,4]), np.arange(5,101,5)),\n",
    "              'max_features': np.append(np.array(['sqrt', 'log2', None]), np.arange(0.1,1,0.1)).astype('object')}\n",
    "\n",
    "dtc_rs_2 = RandomizedSearchCV(estimator=dtc,\n",
    "                  param_distributions = param_grid,\n",
    "                  n_iter=100,\n",
    "                  scoring='recall',\n",
    "                  cv=3,\n",
    "                  n_jobs=-1)\n",
    "\n",
    "dtc_rs_2.fit(X_train, y_train)"
   ]
  },
  {
   "cell_type": "code",
   "execution_count": 80,
   "metadata": {},
   "outputs": [
    {
     "data": {
      "text/plain": [
       "{'criterion': 'entropy',\n",
       " 'max_depth': 60,\n",
       " 'max_features': 0.8,\n",
       " 'min_samples_leaf': 5,\n",
       " 'min_samples_split': 15}"
      ]
     },
     "execution_count": 80,
     "metadata": {},
     "output_type": "execute_result"
    }
   ],
   "source": [
    "dtc_rs_2.best_params_"
   ]
  },
  {
   "cell_type": "code",
   "execution_count": 81,
   "metadata": {},
   "outputs": [
    {
     "data": {
      "text/plain": [
       "0.56800507971723146"
      ]
     },
     "execution_count": 81,
     "metadata": {},
     "output_type": "execute_result"
    }
   ],
   "source": [
    "dtc_rs_2.best_score_"
   ]
  },
  {
   "cell_type": "code",
   "execution_count": 102,
   "metadata": {
    "collapsed": true
   },
   "outputs": [],
   "source": [
    "dtc_best = dtc_rs_2.best_estimator_"
   ]
  },
  {
   "cell_type": "code",
   "execution_count": 103,
   "metadata": {},
   "outputs": [
    {
     "data": {
      "text/plain": [
       "DecisionTreeClassifier(class_weight=None, criterion='entropy', max_depth=60,\n",
       "            max_features=0.8, max_leaf_nodes=None,\n",
       "            min_impurity_decrease=0.0, min_impurity_split=None,\n",
       "            min_samples_leaf=5, min_samples_split=15,\n",
       "            min_weight_fraction_leaf=0.0, presort=False, random_state=None,\n",
       "            splitter='best')"
      ]
     },
     "execution_count": 103,
     "metadata": {},
     "output_type": "execute_result"
    }
   ],
   "source": [
    "dtc_best.fit(X_train, y_train)"
   ]
  },
  {
   "cell_type": "code",
   "execution_count": 104,
   "metadata": {
    "collapsed": true
   },
   "outputs": [],
   "source": [
    "y_train_pred = dtc_best.predict(X_train)\n",
    "y_test_pred = dtc_best.predict(X_test)"
   ]
  },
  {
   "cell_type": "code",
   "execution_count": 105,
   "metadata": {},
   "outputs": [
    {
     "name": "stdout",
     "output_type": "stream",
     "text": [
      "Confusion Matrix:\n",
      "                 Predicted Negative  Predicted Positive\n",
      "Actual Negative              163673                4049\n",
      "Actual Positive                8725               29081\n",
      "--------------------\n",
      "Accuracy Scores:\n",
      "                Score\n",
      "Rate                 \n",
      "f1           0.819922\n",
      "Recall       0.769217\n",
      "Precision    0.877784\n",
      "Specificity  0.949390\n",
      "Fallout      0.050610\n"
     ]
    }
   ],
   "source": [
    "train_cmat, train_scores = classifier_summary(y_train, y_train_pred)"
   ]
  },
  {
   "cell_type": "code",
   "execution_count": 106,
   "metadata": {},
   "outputs": [
    {
     "name": "stdout",
     "output_type": "stream",
     "text": [
      "Confusion Matrix:\n",
      "                 Predicted Negative  Predicted Positive\n",
      "Actual Negative               38937                3026\n",
      "Actual Positive                4130                5289\n",
      "--------------------\n",
      "Accuracy Scores:\n",
      "                Score\n",
      "Rate                 \n",
      "f1           0.596481\n",
      "Recall       0.561525\n",
      "Precision    0.636079\n",
      "Specificity  0.904103\n",
      "Fallout      0.095897\n"
     ]
    }
   ],
   "source": [
    "test_cmat, test_scores = classifier_summary(y_test, y_test_pred)"
   ]
  },
  {
   "cell_type": "markdown",
   "metadata": {},
   "source": [
    "Whilst there is some improvement in recall, it seems that this model still suffers from overfitting when trying to maximize recall. Acheiving a better balance between overfitting and recall will likely require more extensive parameter tweaking and feature optimization beyond the scope of this MVP. For the sake of this analysis, perhaps a random forest classifier will provide a more immediate improvement."
   ]
  },
  {
   "cell_type": "markdown",
   "metadata": {},
   "source": [
    "##### Random Forest Classifier"
   ]
  },
  {
   "cell_type": "code",
   "execution_count": 107,
   "metadata": {
    "collapsed": true
   },
   "outputs": [],
   "source": [
    "rfc = RandomForestClassifier(n_estimators=20,\n",
    "                             criterion='entropy',\n",
    "                             max_features=0.8,\n",
    "                             max_depth=60,\n",
    "                             min_samples_split=5,\n",
    "                             min_samples_leaf=15,\n",
    "                             n_jobs=-1)"
   ]
  },
  {
   "cell_type": "code",
   "execution_count": 108,
   "metadata": {},
   "outputs": [
    {
     "data": {
      "text/plain": [
       "RandomForestClassifier(bootstrap=True, class_weight=None, criterion='entropy',\n",
       "            max_depth=60, max_features=0.8, max_leaf_nodes=None,\n",
       "            min_impurity_decrease=0.0, min_impurity_split=None,\n",
       "            min_samples_leaf=15, min_samples_split=5,\n",
       "            min_weight_fraction_leaf=0.0, n_estimators=20, n_jobs=-1,\n",
       "            oob_score=False, random_state=None, verbose=0,\n",
       "            warm_start=False)"
      ]
     },
     "execution_count": 108,
     "metadata": {},
     "output_type": "execute_result"
    }
   ],
   "source": [
    "rfc.fit(X_train, y_train)"
   ]
  },
  {
   "cell_type": "code",
   "execution_count": 109,
   "metadata": {
    "collapsed": true
   },
   "outputs": [],
   "source": [
    "y_train_pred = rfc.predict(X_train)\n",
    "y_test_pred = rfc.predict(X_test)"
   ]
  },
  {
   "cell_type": "code",
   "execution_count": 110,
   "metadata": {},
   "outputs": [
    {
     "name": "stdout",
     "output_type": "stream",
     "text": [
      "Confusion Matrix:\n",
      "                 Predicted Negative  Predicted Positive\n",
      "Actual Negative              167710                  12\n",
      "Actual Positive               18456               19350\n",
      "--------------------\n",
      "Accuracy Scores:\n",
      "                Score\n",
      "Rate                 \n",
      "f1           0.676952\n",
      "Recall       0.511824\n",
      "Precision    0.999380\n",
      "Specificity  0.900863\n",
      "Fallout      0.099137\n"
     ]
    }
   ],
   "source": [
    "train_cmat, train_scores = classifier_summary(y_train, y_train_pred)"
   ]
  },
  {
   "cell_type": "code",
   "execution_count": 111,
   "metadata": {},
   "outputs": [
    {
     "name": "stdout",
     "output_type": "stream",
     "text": [
      "Confusion Matrix:\n",
      "                 Predicted Negative  Predicted Positive\n",
      "Actual Negative               41934                  29\n",
      "Actual Positive                4749                4670\n",
      "--------------------\n",
      "Accuracy Scores:\n",
      "                Score\n",
      "Rate                 \n",
      "f1           0.661567\n",
      "Recall       0.495806\n",
      "Precision    0.993828\n",
      "Specificity  0.898271\n",
      "Fallout      0.101729\n"
     ]
    }
   ],
   "source": [
    "test_cmat, test_scores = classifier_summary(y_test, y_test_pred)"
   ]
  },
  {
   "cell_type": "code",
   "execution_count": 112,
   "metadata": {},
   "outputs": [
    {
     "data": {
      "text/plain": [
       "RandomizedSearchCV(cv=3, error_score='raise',\n",
       "          estimator=RandomForestClassifier(bootstrap=True, class_weight=None, criterion='entropy',\n",
       "            max_depth=60, max_features=0.8, max_leaf_nodes=None,\n",
       "            min_impurity_decrease=0.0, min_impurity_split=None,\n",
       "            min_samples_leaf=15, min_samples_split=5,\n",
       "            min_weight_fraction_leaf=0.0, n_estimators=20, n_jobs=-1,\n",
       "            oob_score=False, random_state=None, verbose=0,\n",
       "            warm_start=False),\n",
       "          fit_params=None, iid=True, n_iter=50, n_jobs=-1,\n",
       "          param_distributions={'bootstrap': [True, False], 'criterion': ['gini', 'entropy'], 'class_weight': ['balanced', None], 'max_features': array([ 0.5 ,  0.51,  0.52,  0.53,  0.54,  0.55,  0.56,  0.57,  0.58,\n",
       "        0.59,  0.6 ,  0.61,  0.62,  0.63,  0.64,  0.65,  0.66,  0.67,\n",
       "        0.68,  0.69,  0.7... 90,  95, 100]), 'min_samples_leaf': array([ 50,  55,  60,  65,  70,  75,  80,  85,  90,  95, 100])},\n",
       "          pre_dispatch='2*n_jobs', random_state=None, refit=True,\n",
       "          return_train_score=True, scoring='recall', verbose=0)"
      ]
     },
     "execution_count": 112,
     "metadata": {},
     "output_type": "execute_result"
    }
   ],
   "source": [
    "param_grid = {'bootstrap': [True, False],\n",
    "              'criterion': ['gini', 'entropy'],\n",
    "              'class_weight': ['balanced', None],\n",
    "              'max_features': np.arange(.5,.91,0.1),\n",
    "              'max_depth': np.arange(20,60,5),\n",
    "              'min_samples_split': np.arange(20,101,5),\n",
    "              'min_samples_leaf': np.arange(50,101,5)}\n",
    "\n",
    "rfc_rs = RandomizedSearchCV(estimator=rfc,\n",
    "                  param_distributions = param_grid,\n",
    "                  n_iter=50,\n",
    "                  scoring='recall',\n",
    "                  cv=3,\n",
    "                  n_jobs=-1)\n",
    "\n",
    "rfc_rs.fit(X_train, y_train)"
   ]
  },
  {
   "cell_type": "code",
   "execution_count": 113,
   "metadata": {},
   "outputs": [
    {
     "data": {
      "text/plain": [
       "{'bootstrap': False,\n",
       " 'class_weight': 'balanced',\n",
       " 'criterion': 'entropy',\n",
       " 'max_depth': 27,\n",
       " 'max_features': 0.96000000000000041,\n",
       " 'min_samples_leaf': 90,\n",
       " 'min_samples_split': 40}"
      ]
     },
     "execution_count": 113,
     "metadata": {},
     "output_type": "execute_result"
    }
   ],
   "source": [
    "rfc_rs.best_params_"
   ]
  },
  {
   "cell_type": "code",
   "execution_count": 114,
   "metadata": {},
   "outputs": [
    {
     "data": {
      "text/plain": [
       "0.65225099106591289"
      ]
     },
     "execution_count": 114,
     "metadata": {},
     "output_type": "execute_result"
    }
   ],
   "source": [
    "rfc_rs.best_score_"
   ]
  },
  {
   "cell_type": "code",
   "execution_count": 131,
   "metadata": {
    "collapsed": true
   },
   "outputs": [],
   "source": [
    "rfc_best = RandomForestClassifier(n_estimators=20,\n",
    "                                  bootstrap=False,\n",
    "                                  class_weight='balanced',\n",
    "                                  criterion='entropy',\n",
    "                                  max_depth=25,\n",
    "                                  max_features=0.9,\n",
    "                                  min_samples_leaf=90,\n",
    "                                  min_samples_split=40,\n",
    "                                  n_jobs=-1)"
   ]
  },
  {
   "cell_type": "code",
   "execution_count": 132,
   "metadata": {},
   "outputs": [
    {
     "data": {
      "text/plain": [
       "RandomForestClassifier(bootstrap=False, class_weight='balanced',\n",
       "            criterion='entropy', max_depth=25, max_features=0.9,\n",
       "            max_leaf_nodes=None, min_impurity_decrease=0.0,\n",
       "            min_impurity_split=None, min_samples_leaf=90,\n",
       "            min_samples_split=40, min_weight_fraction_leaf=0.0,\n",
       "            n_estimators=20, n_jobs=-1, oob_score=False, random_state=None,\n",
       "            verbose=0, warm_start=False)"
      ]
     },
     "execution_count": 132,
     "metadata": {},
     "output_type": "execute_result"
    }
   ],
   "source": [
    "rfc_best.fit(X_train, y_train)"
   ]
  },
  {
   "cell_type": "code",
   "execution_count": 133,
   "metadata": {
    "collapsed": true
   },
   "outputs": [],
   "source": [
    "y_train_pred = rfc_best.predict(X_train)\n",
    "y_test_pred = rfc_best.predict(X_test)"
   ]
  },
  {
   "cell_type": "code",
   "execution_count": 134,
   "metadata": {},
   "outputs": [
    {
     "name": "stdout",
     "output_type": "stream",
     "text": [
      "Confusion Matrix:\n",
      "                 Predicted Negative  Predicted Positive\n",
      "Actual Negative              152386               15336\n",
      "Actual Positive               10557               27249\n",
      "--------------------\n",
      "Accuracy Scores:\n",
      "                Score\n",
      "Rate                 \n",
      "f1           0.677912\n",
      "Recall       0.720759\n",
      "Precision    0.639873\n",
      "Specificity  0.935210\n",
      "Fallout      0.064790\n"
     ]
    }
   ],
   "source": [
    "train_cmat, train_scores = classifier_summary(y_train, y_train_pred)"
   ]
  },
  {
   "cell_type": "code",
   "execution_count": 135,
   "metadata": {},
   "outputs": [
    {
     "name": "stdout",
     "output_type": "stream",
     "text": [
      "Confusion Matrix:\n",
      "                 Predicted Negative  Predicted Positive\n",
      "Actual Negative               37587                4376\n",
      "Actual Positive                3375                6044\n",
      "--------------------\n",
      "Accuracy Scores:\n",
      "                Score\n",
      "Rate                 \n",
      "f1           0.609305\n",
      "Recall       0.641682\n",
      "Precision    0.580038\n",
      "Specificity  0.917607\n",
      "Fallout      0.082393\n"
     ]
    }
   ],
   "source": [
    "test_cmat, test_scores = classifier_summary(y_test, y_test_pred)"
   ]
  }
 ],
 "metadata": {
  "kernelspec": {
   "display_name": "Python 3",
   "language": "python",
   "name": "python3"
  },
  "language_info": {
   "codemirror_mode": {
    "name": "ipython",
    "version": 3
   },
   "file_extension": ".py",
   "mimetype": "text/x-python",
   "name": "python",
   "nbconvert_exporter": "python",
   "pygments_lexer": "ipython3",
   "version": "3.6.2"
  }
 },
 "nbformat": 4,
 "nbformat_minor": 2
}

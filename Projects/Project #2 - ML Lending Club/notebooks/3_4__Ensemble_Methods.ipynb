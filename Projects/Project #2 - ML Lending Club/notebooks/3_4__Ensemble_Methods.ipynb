{
 "cells": [
  {
   "cell_type": "code",
   "execution_count": 1,
   "metadata": {
    "collapsed": true
   },
   "outputs": [],
   "source": [
    "import pandas as pd\n",
    "import numpy as np\n",
    "pd.set_option('display.max_columns', None, 'display.max_rows', 100) \n",
    "\n",
    "from os import path\n",
    "import pickle\n",
    "\n",
    "import sys\n",
    "sys.path.append('..')\n",
    "import src.functions.my_functions as my_func\n",
    "\n",
    "import matplotlib.pyplot as plt\n",
    "import matplotlib.colors as colors\n",
    "import seaborn as sns\n",
    "\n",
    "from sklearn.pipeline import Pipeline, FeatureUnion\n",
    "\n",
    "from sklearn.preprocessing import StandardScaler, Normalizer\n",
    "from sklearn.model_selection import train_test_split, GridSearchCV, cross_val_score, RandomizedSearchCV\n",
    "from sklearn.metrics.scorer import make_scorer\n",
    "\n",
    "from sklearn.metrics import f1_score, recall_score, precision_score, fbeta_score\n",
    "\n",
    "from sklearn.linear_model import LogisticRegression\n",
    "from sklearn.svm import LinearSVC, SVC\n",
    "from sklearn.tree import DecisionTreeClassifier\n",
    "from sklearn.neighbors import KNeighborsClassifier\n",
    "from sklearn.naive_bayes import GaussianNB\n",
    "from sklearn.ensemble import RandomForestClassifier, BaggingClassifier, VotingClassifier, AdaBoostClassifier\n",
    "from mlxtend.classifier import StackingClassifier\n",
    "\n",
    "from sklearn.feature_selection import SelectFromModel, SelectKBest, SelectPercentile, RFECV, RFE, f_classif\n",
    "\n",
    "from itertools import product"
   ]
  },
  {
   "cell_type": "code",
   "execution_count": 2,
   "metadata": {},
   "outputs": [
    {
     "data": {
      "text/plain": [
       "<module 'src.functions.my_functions' from '..\\\\src\\\\functions\\\\my_functions.py'>"
      ]
     },
     "execution_count": 2,
     "metadata": {},
     "output_type": "execute_result"
    }
   ],
   "source": [
    "from imp import reload\n",
    "reload(my_func)"
   ]
  },
  {
   "cell_type": "markdown",
   "metadata": {},
   "source": [
    "### Data Import"
   ]
  },
  {
   "cell_type": "code",
   "execution_count": 3,
   "metadata": {
    "collapsed": true
   },
   "outputs": [],
   "source": [
    "data = {}\n",
    "\n",
    "ds = ['train', 'train_target', 'test', 'test_target']\n",
    "d = ['..', 'data', 'processed']\n",
    "\n",
    "for s in ds:    \n",
    "    fn = 'loan_'+s+'.p'\n",
    "    fp = path.join(*d, fn)\n",
    "\n",
    "    with open(fp, 'rb') as file:\n",
    "        data[s] = pickle.load(file)"
   ]
  },
  {
   "cell_type": "code",
   "execution_count": 4,
   "metadata": {},
   "outputs": [
    {
     "data": {
      "text/plain": [
       "((152218, 47), (152218, 2))"
      ]
     },
     "execution_count": 4,
     "metadata": {},
     "output_type": "execute_result"
    }
   ],
   "source": [
    "data['train'].shape, data['train_target'].shape"
   ]
  },
  {
   "cell_type": "code",
   "execution_count": 5,
   "metadata": {},
   "outputs": [
    {
     "data": {
      "text/plain": [
       "((38055, 47), (38055, 2))"
      ]
     },
     "execution_count": 5,
     "metadata": {},
     "output_type": "execute_result"
    }
   ],
   "source": [
    "data['test'].shape, data['test_target'].shape"
   ]
  },
  {
   "cell_type": "markdown",
   "metadata": {},
   "source": [
    "### Data Prep"
   ]
  },
  {
   "cell_type": "code",
   "execution_count": 6,
   "metadata": {
    "collapsed": true
   },
   "outputs": [],
   "source": [
    "# Columns identified thus far as best for classification (during data prep, select K best)\n",
    "num_attr = ['funded_amnt_q10', 'int_rate_delta', 'annual_inc_q10', 'dti', 'delinq_2yrs', 'inq_last_6mths',\n",
    "            'open_acc', 'revol_bal_log', 'revol_util', 'total_acc', 'collections_12_mths_ex_med',\n",
    "            'acc_now_delinq', 'rev_lim_sqrt', 'tot_cur_bal', 'tot_coll_amt', 'subgrade_p_value',\n",
    "            'lti', 'rbti', 'tbti', 'cr_line_td_log', 'emp_length_val']\n",
    "\n",
    "bin_attr = ['had_delinq', 'had_major_derog', 'had_record', 'verified', 'term_bin']\n",
    "\n",
    "cat_attr = ['purpose', 'home_ownership']"
   ]
  },
  {
   "cell_type": "code",
   "execution_count": 7,
   "metadata": {
    "collapsed": true
   },
   "outputs": [],
   "source": [
    "num_prep = Pipeline([('custom', my_func.CustomNumAttributes()), # Create custom num attr\n",
    "                     ('select', my_func.DataFrame_Selector(num_attr)), # Select num columns\n",
    "                     ('sc', StandardScaler())]) # Scale data\n",
    "\n",
    "bin_prep = Pipeline([('custom', my_func.CustomBinAttributes()), # Create custom bin attr\n",
    "                     ('select', my_func.DataFrame_Selector(bin_attr))]) # Select binary columns\n",
    "\n",
    "cat_prep = Pipeline([('encode', my_func.DataFrame_DummyEncoder(cat_attr))]) # Select & encode categrocial columns\n",
    "\n",
    "feature_prep = FeatureUnion([('num', num_prep),\n",
    "                             ('bin', bin_prep),\n",
    "                             ('cat', cat_prep)])"
   ]
  },
  {
   "cell_type": "code",
   "execution_count": 8,
   "metadata": {
    "collapsed": true
   },
   "outputs": [],
   "source": [
    "X_train_full = feature_prep.fit_transform(data['train'])\n",
    "X_test = feature_prep.transform(data['test'])\n",
    "\n",
    "y_train_full = data['train_target']['default']\n",
    "y_test = data['test_target']['default']"
   ]
  },
  {
   "cell_type": "code",
   "execution_count": 9,
   "metadata": {
    "collapsed": true
   },
   "outputs": [],
   "source": [
    "X_train, X_val, y_train, y_val = train_test_split(X_train_full, y_train_full, test_size=0.2, random_state=42)"
   ]
  },
  {
   "cell_type": "markdown",
   "metadata": {},
   "source": [
    "### Scoring"
   ]
  },
  {
   "cell_type": "code",
   "execution_count": 10,
   "metadata": {
    "collapsed": true
   },
   "outputs": [],
   "source": [
    "f2_score = make_scorer(fbeta_score, beta=2)"
   ]
  },
  {
   "cell_type": "markdown",
   "metadata": {},
   "source": [
    "### Bagging/Pasting"
   ]
  },
  {
   "cell_type": "markdown",
   "metadata": {},
   "source": [
    "##### Logistic Regression"
   ]
  },
  {
   "cell_type": "code",
   "execution_count": 17,
   "metadata": {},
   "outputs": [
    {
     "name": "stdout",
     "output_type": "stream",
     "text": [
      "Fitting 3 folds for each of 180 candidates, totalling 540 fits\n"
     ]
    },
    {
     "name": "stderr",
     "output_type": "stream",
     "text": [
      "[Parallel(n_jobs=4)]: Done  33 tasks      | elapsed:   22.2s\n",
      "[Parallel(n_jobs=4)]: Done 154 tasks      | elapsed:  2.4min\n",
      "[Parallel(n_jobs=4)]: Done 357 tasks      | elapsed:  5.5min\n"
     ]
    },
    {
     "name": "stdout",
     "output_type": "stream",
     "text": [
      "Time: 8min 45s \n"
     ]
    },
    {
     "name": "stderr",
     "output_type": "stream",
     "text": [
      "[Parallel(n_jobs=4)]: Done 540 out of 540 | elapsed:  8.7min finished\n"
     ]
    }
   ],
   "source": [
    "scoring={'F2': f2_score,\n",
    "         'recall':'recall',\n",
    "         'precision':'precision',\n",
    "         'specificity': make_scorer(my_func.binary_specificity)}\n",
    "\n",
    "n = [10]\n",
    "ms = np.arange(0.1,0.51,0.1)\n",
    "mf = np.arange(0.1,0.91,0.1)\n",
    "\n",
    "lr_best = LogisticRegression(class_weight='balanced',\n",
    "                             C=1e-8)\n",
    "\n",
    "param_grid = {'n_estimators': n,\n",
    "              'max_samples': ms,\n",
    "              'max_features': mf,\n",
    "              'bootstrap': [True, False],\n",
    "              'bootstrap_features': [True, False]}\n",
    "              \n",
    "              \n",
    "bag_lr_gs = GridSearchCV(estimator=BaggingClassifier(lr_best),\n",
    "                              param_grid = param_grid,\n",
    "                              scoring=scoring,\n",
    "                              cv=3,\n",
    "                              refit=False,\n",
    "                              n_jobs=4,\n",
    "                              verbose=2)\n",
    "\n",
    "my_func.run_time(reset=True)\n",
    "bag_lr_gs.fit(X_train, y_train)\n",
    "my_func.run_time()"
   ]
  },
  {
   "cell_type": "code",
   "execution_count": 18,
   "metadata": {},
   "outputs": [
    {
     "name": "stdout",
     "output_type": "stream",
     "text": [
      "--------------------\n",
      "Best F2:\n",
      "Params: {'bootstrap': False, 'bootstrap_features': False, 'max_features': 0.5, 'max_samples': 0.10000000000000001, 'n_estimators': 10}\n",
      "F2 = 0.5594344980806638\n",
      "Recall = 0.7494031184429233\n",
      "Precision = 0.27779000973640877\n",
      "Specificity = 0.5351119794907921\n",
      "--------------------\n",
      "Best Recall:\n",
      "Params: {'bootstrap': False, 'bootstrap_features': True, 'max_features': 0.30000000000000004, 'max_samples': 0.10000000000000001, 'n_estimators': 10}\n",
      "F2 = 0.557482587232081\n",
      "Recall = 0.7656861372942044\n",
      "Precision = 0.2674615387694146\n",
      "Specificity = 0.4987692009146497\n",
      "--------------------\n",
      "Best Precision:\n",
      "Params: {'bootstrap': True, 'bootstrap_features': False, 'max_features': 0.20000000000000001, 'max_samples': 0.5, 'n_estimators': 10}\n",
      "F2 = 0.5500494241284213\n",
      "Recall = 0.724253997289936\n",
      "Precision = 0.2803979318137403\n",
      "Specificity = 0.5562991781027611\n",
      "--------------------\n",
      "Best Specificity:\n",
      "Params: {'bootstrap': False, 'bootstrap_features': True, 'max_features': 0.10000000000000001, 'max_samples': 0.20000000000000001, 'n_estimators': 10}\n",
      "F2 = 0.525022714728165\n",
      "Recall = 0.6831625233646312\n",
      "Precision = 0.2728945770338818\n",
      "Specificity = 0.5652297569307653\n",
      "--------------------\n"
     ]
    }
   ],
   "source": [
    "my_func.gs_score_summary(bag_lr_gs);"
   ]
  },
  {
   "cell_type": "markdown",
   "metadata": {},
   "source": [
    "At first glance, performance seems comparable to our best logistic regresion with RFE (whereas this used the full feature set with random feature selection). Let us see if we can further improve performance with different numbers of estimators and random states:"
   ]
  },
  {
   "cell_type": "code",
   "execution_count": 19,
   "metadata": {},
   "outputs": [
    {
     "name": "stdout",
     "output_type": "stream",
     "text": [
      "Fitting 3 folds for each of 400 candidates, totalling 1200 fits\n"
     ]
    },
    {
     "name": "stderr",
     "output_type": "stream",
     "text": [
      "[Parallel(n_jobs=4)]: Done  33 tasks      | elapsed:   35.9s\n",
      "[Parallel(n_jobs=4)]: Done 154 tasks      | elapsed:  2.4min\n",
      "[Parallel(n_jobs=4)]: Done 357 tasks      | elapsed:  6.2min\n",
      "[Parallel(n_jobs=4)]: Done 640 tasks      | elapsed: 15.8min\n",
      "[Parallel(n_jobs=4)]: Done 1005 tasks      | elapsed: 48.1min\n"
     ]
    },
    {
     "name": "stdout",
     "output_type": "stream",
     "text": [
      "Time: 73min 57s \n"
     ]
    },
    {
     "name": "stderr",
     "output_type": "stream",
     "text": [
      "[Parallel(n_jobs=4)]: Done 1200 out of 1200 | elapsed: 73.9min finished\n"
     ]
    }
   ],
   "source": [
    "scoring={'F2': f2_score,\n",
    "         'recall':'recall',\n",
    "         'precision':'precision',\n",
    "         'specificity': make_scorer(my_func.binary_specificity)}\n",
    "\n",
    "n = [10,20,50,100]\n",
    "rs = np.random.choice(1000,100,replace=False)\n",
    "\n",
    "lr_bag_best = BaggingClassifier(base_estimator=LogisticRegression(class_weight='balanced', C=1e-8),\n",
    "                                max_samples=0.1, max_features=0.5, bootstrap_features=False, bootstrap=False)\n",
    "\n",
    "param_grid = {'n_estimators': n,\n",
    "              'random_state': rs}\n",
    "              \n",
    "              \n",
    "bag_lr_gs_rs = GridSearchCV(estimator=lr_bag_best,\n",
    "                              param_grid = param_grid,\n",
    "                              scoring=scoring,\n",
    "                              cv=3,\n",
    "                              refit=False,\n",
    "                              n_jobs=4,\n",
    "                              verbose=2)\n",
    "\n",
    "my_func.run_time(reset=True)\n",
    "bag_lr_gs_rs.fit(X_train, y_train)\n",
    "my_func.run_time()"
   ]
  },
  {
   "cell_type": "code",
   "execution_count": 20,
   "metadata": {},
   "outputs": [
    {
     "name": "stdout",
     "output_type": "stream",
     "text": [
      "--------------------\n",
      "Best F2:\n",
      "Params: {'n_estimators': 10, 'random_state': 240}\n",
      "F2 = 0.5620017680329654\n",
      "Recall = 0.7611678369267089\n",
      "Precision = 0.274618484809216\n",
      "Specificity = 0.5202412543417095\n",
      "--------------------\n",
      "Best Recall:\n",
      "Params: {'n_estimators': 10, 'random_state': 811}\n",
      "F2 = 0.5594788310698856\n",
      "Recall = 0.7656436830677532\n",
      "Precision = 0.2693680107876574\n",
      "Specificity = 0.5044246093782223\n",
      "--------------------\n",
      "Best Precision:\n",
      "Params: {'n_estimators': 10, 'random_state': 691}\n",
      "F2 = 0.5539260782651078\n",
      "Recall = 0.7255754801240334\n",
      "Precision = 0.28462847274855735\n",
      "Specificity = 0.564792414055423\n",
      "--------------------\n",
      "Best Specificity:\n",
      "Params: {'n_estimators': 10, 'random_state': 691}\n",
      "F2 = 0.5539260782651078\n",
      "Recall = 0.7255754801240334\n",
      "Precision = 0.28462847274855735\n",
      "Specificity = 0.564792414055423\n",
      "--------------------\n"
     ]
    }
   ],
   "source": [
    "my_func.gs_score_summary(bag_lr_gs_rs);"
   ]
  },
  {
   "cell_type": "code",
   "execution_count": 21,
   "metadata": {},
   "outputs": [
    {
     "data": {
      "text/plain": [
       "BaggingClassifier(base_estimator=LogisticRegression(C=1e-08, class_weight='balanced', dual=False,\n",
       "          fit_intercept=True, intercept_scaling=1, max_iter=100,\n",
       "          multi_class='ovr', n_jobs=1, penalty='l2', random_state=None,\n",
       "          solver='liblinear', tol=0.0001, verbose=0, warm_start=False),\n",
       "         bootstrap=True, bootstrap_features=False, max_features=0.5,\n",
       "         max_samples=0.1, n_estimators=100, n_jobs=1, oob_score=False,\n",
       "         random_state=240, verbose=0, warm_start=False)"
      ]
     },
     "execution_count": 21,
     "metadata": {},
     "output_type": "execute_result"
    }
   ],
   "source": [
    "lr_bag = BaggingClassifier(base_estimator=LogisticRegression(class_weight='balanced', C=1e-8),\n",
    "                           n_estimators=100, max_samples=0.1, max_features=0.5,\n",
    "                           random_state=240)\n",
    "lr_bag.fit(X_train, y_train)"
   ]
  },
  {
   "cell_type": "code",
   "execution_count": 22,
   "metadata": {},
   "outputs": [
    {
     "name": "stdout",
     "output_type": "stream",
     "text": [
      "Mean recall score = 0.751 (+/- 0.003)\n"
     ]
    }
   ],
   "source": [
    "my_func.print_cvs(cross_val_score(lr_bag, X_train, y_train, cv=5, scoring='recall'), 'recall')"
   ]
  },
  {
   "cell_type": "code",
   "execution_count": 23,
   "metadata": {},
   "outputs": [
    {
     "name": "stdout",
     "output_type": "stream",
     "text": [
      "Confusion Matrix:\n",
      "                 Predicted Negative  Predicted Positive\n",
      "Actual Negative               52190               46124\n",
      "Actual Positive                5866               17594\n",
      "--------------------\n",
      "Accuracy Scores:\n",
      "                    Score\n",
      "Rate                     \n",
      "F2               0.558334\n",
      "Recall           0.749957\n",
      "Precision (pos)  0.276123\n",
      "Precision (neg)  0.898960\n",
      "Specificity      0.530850\n"
     ]
    }
   ],
   "source": [
    "my_func.classifier_summary(y_train, lr_bag.predict(X_train));"
   ]
  },
  {
   "cell_type": "code",
   "execution_count": 25,
   "metadata": {},
   "outputs": [
    {
     "name": "stdout",
     "output_type": "stream",
     "text": [
      "Confusion Matrix:\n",
      "                 Predicted Negative  Predicted Positive\n",
      "Actual Negative               13083               11547\n",
      "Actual Positive                1454                4360\n",
      "--------------------\n",
      "Accuracy Scores:\n",
      "                    Score\n",
      "Rate                     \n",
      "F2               0.556648\n",
      "Recall           0.749914\n",
      "Precision (pos)  0.274093\n",
      "Precision (neg)  0.899979\n",
      "Specificity      0.531181\n"
     ]
    }
   ],
   "source": [
    "my_func.classifier_summary(y_val, lr_bag.predict(X_val));"
   ]
  },
  {
   "cell_type": "markdown",
   "metadata": {},
   "source": [
    "Our bagging classifier with logisitic regression appears to perform just slightly better than our basic logistic regression model. Perhaps reducing the feature set via RFE can yield better results:"
   ]
  },
  {
   "cell_type": "code",
   "execution_count": 16,
   "metadata": {
    "collapsed": true
   },
   "outputs": [],
   "source": [
    "rfe = RFE(estimator=LogisticRegression(class_weight='balanced'), n_features_to_select=28)\n",
    "X_train_rfe = rfe.fit_transform(X_train, y_train)\n",
    "X_val_rfe = rfe.transform(X_val)"
   ]
  },
  {
   "cell_type": "code",
   "execution_count": 28,
   "metadata": {},
   "outputs": [
    {
     "name": "stdout",
     "output_type": "stream",
     "text": [
      "Fitting 3 folds for each of 200 candidates, totalling 600 fits\n"
     ]
    },
    {
     "name": "stderr",
     "output_type": "stream",
     "text": [
      "[Parallel(n_jobs=4)]: Done  33 tasks      | elapsed:   19.2s\n",
      "[Parallel(n_jobs=4)]: Done 154 tasks      | elapsed:  2.0min\n",
      "[Parallel(n_jobs=4)]: Done 357 tasks      | elapsed:  4.2min\n"
     ]
    },
    {
     "name": "stdout",
     "output_type": "stream",
     "text": [
      "Time: 7min 30s \n"
     ]
    },
    {
     "name": "stderr",
     "output_type": "stream",
     "text": [
      "[Parallel(n_jobs=4)]: Done 600 out of 600 | elapsed:  7.5min finished\n"
     ]
    }
   ],
   "source": [
    "scoring={'F2': f2_score,\n",
    "         'recall':'recall',\n",
    "         'precision':'precision',\n",
    "         'specificity': make_scorer(my_func.binary_specificity)}\n",
    "\n",
    "n = [10]\n",
    "ms = np.arange(0.1,.51,0.1)\n",
    "mf = np.arange(0.1,1.01,0.1)\n",
    "\n",
    "lr_best = LogisticRegression(class_weight='balanced',\n",
    "                             C=1e-8)\n",
    "\n",
    "param_grid = {'n_estimators': n,\n",
    "              'max_samples': ms,\n",
    "              'max_features': mf,\n",
    "              'bootstrap': [True, False],\n",
    "              'bootstrap_features': [True, False]}\n",
    "              \n",
    "              \n",
    "bag_lr_gs = GridSearchCV(estimator=BaggingClassifier(lr_best),\n",
    "                              param_grid = param_grid,\n",
    "                              scoring=scoring,\n",
    "                              cv=3,\n",
    "                              refit=False,\n",
    "                              n_jobs=4,\n",
    "                              verbose=2)\n",
    "\n",
    "my_func.run_time(reset=True)\n",
    "bag_lr_gs.fit(X_train_rfe, y_train)\n",
    "my_func.run_time()"
   ]
  },
  {
   "cell_type": "code",
   "execution_count": 29,
   "metadata": {},
   "outputs": [
    {
     "name": "stdout",
     "output_type": "stream",
     "text": [
      "--------------------\n",
      "Best F2:\n",
      "Params: {'bootstrap': True, 'bootstrap_features': True, 'max_features': 0.80000000000000004, 'max_samples': 0.20000000000000001, 'n_estimators': 10}\n",
      "F2 = 0.5631514820400069\n",
      "Recall = 0.7639812516725777\n",
      "Precision = 0.27451060763794466\n",
      "Specificity = 0.5181866302909446\n",
      "--------------------\n",
      "Best Recall:\n",
      "Params: {'bootstrap': False, 'bootstrap_features': True, 'max_features': 0.30000000000000004, 'max_samples': 0.5, 'n_estimators': 10}\n",
      "F2 = 0.5610257708124288\n",
      "Recall = 0.7652600702563471\n",
      "Precision = 0.2714166762710959\n",
      "Specificity = 0.5096629432461715\n",
      "--------------------\n",
      "Best Precision:\n",
      "Params: {'bootstrap': True, 'bootstrap_features': False, 'max_features': 0.5, 'max_samples': 0.40000000000000002, 'n_estimators': 10}\n",
      "F2 = 0.5573478328519754\n",
      "Recall = 0.7400256930609413\n",
      "Precision = 0.2806180777273003\n",
      "Specificity = 0.5469719929706734\n",
      "--------------------\n",
      "Best Specificity:\n",
      "Params: {'bootstrap': True, 'bootstrap_features': False, 'max_features': 0.10000000000000001, 'max_samples': 0.10000000000000001, 'n_estimators': 10}\n",
      "F2 = 0.5090942423913063\n",
      "Recall = 0.6551577789672597\n",
      "Precision = 0.26968241938159365\n",
      "Specificity = 0.574648603100275\n",
      "--------------------\n"
     ]
    }
   ],
   "source": [
    "my_func.gs_score_summary(bag_lr_gs);"
   ]
  },
  {
   "cell_type": "code",
   "execution_count": 21,
   "metadata": {},
   "outputs": [
    {
     "name": "stdout",
     "output_type": "stream",
     "text": [
      "Fitting 3 folds for each of 100 candidates, totalling 300 fits\n"
     ]
    },
    {
     "name": "stderr",
     "output_type": "stream",
     "text": [
      "[Parallel(n_jobs=4)]: Done  33 tasks      | elapsed:   38.1s\n",
      "[Parallel(n_jobs=4)]: Done 154 tasks      | elapsed:  2.6min\n"
     ]
    },
    {
     "name": "stdout",
     "output_type": "stream",
     "text": [
      "Time: 4min 58s \n"
     ]
    },
    {
     "name": "stderr",
     "output_type": "stream",
     "text": [
      "[Parallel(n_jobs=4)]: Done 300 out of 300 | elapsed:  5.0min finished\n"
     ]
    }
   ],
   "source": [
    "scoring={'F2': f2_score,\n",
    "         'recall':'recall',\n",
    "         'precision':'precision',\n",
    "         'specificity': make_scorer(my_func.binary_specificity)}\n",
    "\n",
    "n = [10]\n",
    "rs = np.random.choice(1000,100,replace=False)\n",
    "\n",
    "lr_bag_best = BaggingClassifier(base_estimator=LogisticRegression(class_weight='balanced', C=1e-8),\n",
    "                                max_samples=0.2, max_features=0.8, bootstrap_features=True, bootstrap=True)\n",
    "\n",
    "param_grid = {'n_estimators': n,\n",
    "              'random_state': rs}\n",
    "              \n",
    "              \n",
    "bag_lr_gs_rs = GridSearchCV(estimator=lr_bag_best,\n",
    "                              param_grid = param_grid,\n",
    "                              scoring=scoring,\n",
    "                              cv=3,\n",
    "                              refit=False,\n",
    "                              n_jobs=4,\n",
    "                              verbose=2)\n",
    "\n",
    "my_func.run_time(reset=True)\n",
    "bag_lr_gs_rs.fit(X_train_rfe, y_train)\n",
    "my_func.run_time()"
   ]
  },
  {
   "cell_type": "code",
   "execution_count": 22,
   "metadata": {},
   "outputs": [
    {
     "name": "stdout",
     "output_type": "stream",
     "text": [
      "--------------------\n",
      "Best F2:\n",
      "Params: {'n_estimators': 10, 'random_state': 912}\n",
      "F2 = 0.5643143143418878\n",
      "Recall = 0.7645353692179848\n",
      "Precision = 0.27561135941914283\n",
      "Specificity = 0.5204752235569098\n",
      "--------------------\n",
      "Best Recall:\n",
      "Params: {'n_estimators': 10, 'random_state': 981}\n",
      "F2 = 0.5640853358115085\n",
      "Recall = 0.7709718449551656\n",
      "Precision = 0.27206298534193146\n",
      "Specificity = 0.5077608518621809\n",
      "--------------------\n",
      "Best Precision:\n",
      "Params: {'n_estimators': 10, 'random_state': 600}\n",
      "F2 = 0.5544857778811442\n",
      "Recall = 0.7259164811910807\n",
      "Precision = 0.2851517186899203\n",
      "Specificity = 0.5657180147649826\n",
      "--------------------\n",
      "Best Specificity:\n",
      "Params: {'n_estimators': 10, 'random_state': 600}\n",
      "F2 = 0.5544857778811442\n",
      "Recall = 0.7259164811910807\n",
      "Precision = 0.2851517186899203\n",
      "Specificity = 0.5657180147649826\n",
      "--------------------\n"
     ]
    }
   ],
   "source": [
    "my_func.gs_score_summary(bag_lr_gs_rs);"
   ]
  },
  {
   "cell_type": "code",
   "execution_count": 23,
   "metadata": {},
   "outputs": [
    {
     "data": {
      "text/plain": [
       "BaggingClassifier(base_estimator=LogisticRegression(C=1e-08, class_weight='balanced', dual=False,\n",
       "          fit_intercept=True, intercept_scaling=1, max_iter=100,\n",
       "          multi_class='ovr', n_jobs=1, penalty='l2', random_state=None,\n",
       "          solver='liblinear', tol=0.0001, verbose=0, warm_start=False),\n",
       "         bootstrap=True, bootstrap_features=True, max_features=0.8,\n",
       "         max_samples=0.2, n_estimators=10, n_jobs=1, oob_score=False,\n",
       "         random_state=912, verbose=0, warm_start=False)"
      ]
     },
     "execution_count": 23,
     "metadata": {},
     "output_type": "execute_result"
    }
   ],
   "source": [
    "lr_bag_best = BaggingClassifier(base_estimator=LogisticRegression(class_weight='balanced', C=1e-8),\n",
    "                                max_samples=0.2, max_features=0.8, bootstrap_features=True, bootstrap=True,\n",
    "                                n_estimators=10, random_state=912)\n",
    "\n",
    "lr_bag_best.fit(X_train_rfe, y_train)"
   ]
  },
  {
   "cell_type": "code",
   "execution_count": 33,
   "metadata": {},
   "outputs": [
    {
     "name": "stdout",
     "output_type": "stream",
     "text": [
      "Mean CV score = 0.760 (+/- 0.006)\n"
     ]
    }
   ],
   "source": [
    "my_func.print_cvs(cross_val_score(lr_bag_best, X_train, y_train, cv=5, scoring='recall'))"
   ]
  },
  {
   "cell_type": "code",
   "execution_count": 24,
   "metadata": {},
   "outputs": [
    {
     "name": "stdout",
     "output_type": "stream",
     "text": [
      "Confusion Matrix:\n",
      "                 Predicted Negative  Predicted Positive\n",
      "Actual Negative               51714               46600\n",
      "Actual Positive                5599               17861\n",
      "--------------------\n",
      "Accuracy Scores:\n",
      "                    Score\n",
      "Rate                     \n",
      "F2               0.564147\n",
      "Recall           0.761338\n",
      "Precision (pos)  0.277082\n",
      "Precision (neg)  0.902308\n",
      "Specificity      0.526009\n"
     ]
    }
   ],
   "source": [
    "my_func.classifier_summary(y_train, lr_bag_best.predict(X_train_rfe));"
   ]
  },
  {
   "cell_type": "code",
   "execution_count": 25,
   "metadata": {},
   "outputs": [
    {
     "name": "stdout",
     "output_type": "stream",
     "text": [
      "Confusion Matrix:\n",
      "                 Predicted Negative  Predicted Positive\n",
      "Actual Negative               12977               11653\n",
      "Actual Positive                1382                4432\n",
      "--------------------\n",
      "Accuracy Scores:\n",
      "                    Score\n",
      "Rate                     \n",
      "F2               0.563280\n",
      "Recall           0.762298\n",
      "Precision (pos)  0.275536\n",
      "Precision (neg)  0.903754\n",
      "Specificity      0.526878\n"
     ]
    }
   ],
   "source": [
    "my_func.classifier_summary(y_val, lr_bag_best.predict(X_val_rfe));"
   ]
  },
  {
   "cell_type": "markdown",
   "metadata": {},
   "source": [
    "This bagging classifier is able to achieve slightly better results in recall/F2 than the individual logistic regression model which scored in the 0.74 recall range."
   ]
  },
  {
   "cell_type": "markdown",
   "metadata": {},
   "source": [
    "##### Linear SVC"
   ]
  },
  {
   "cell_type": "code",
   "execution_count": 16,
   "metadata": {},
   "outputs": [
    {
     "name": "stdout",
     "output_type": "stream",
     "text": [
      "Time: 4min 58s \n"
     ]
    }
   ],
   "source": [
    "svc_rfe = RFE(estimator=LinearSVC(class_weight='balanced', dual=False), n_features_to_select=31)\n",
    "\n",
    "my_func.run_time(reset=True)\n",
    "svc_rfe.fit(X_train, y_train)\n",
    "my_func.run_time()"
   ]
  },
  {
   "cell_type": "code",
   "execution_count": 17,
   "metadata": {
    "collapsed": true
   },
   "outputs": [],
   "source": [
    "X_train_rfe = svc_rfe.transform(X_train)\n",
    "X_val_rfe = svc_rfe.transform(X_val)"
   ]
  },
  {
   "cell_type": "code",
   "execution_count": 43,
   "metadata": {},
   "outputs": [
    {
     "name": "stdout",
     "output_type": "stream",
     "text": [
      "Fitting 3 folds for each of 180 candidates, totalling 540 fits\n"
     ]
    },
    {
     "name": "stderr",
     "output_type": "stream",
     "text": [
      "[Parallel(n_jobs=4)]: Done  33 tasks      | elapsed:  1.5min\n",
      "[Parallel(n_jobs=4)]: Done 154 tasks      | elapsed:  5.9min\n",
      "[Parallel(n_jobs=4)]: Done 357 tasks      | elapsed: 12.9min\n"
     ]
    },
    {
     "name": "stdout",
     "output_type": "stream",
     "text": [
      "Time: 19min 21s \n"
     ]
    },
    {
     "name": "stderr",
     "output_type": "stream",
     "text": [
      "[Parallel(n_jobs=4)]: Done 540 out of 540 | elapsed: 19.3min finished\n"
     ]
    }
   ],
   "source": [
    "scoring={'F2': f2_score,\n",
    "         'recall':'recall',\n",
    "         'precision':'precision',\n",
    "         'specificity': make_scorer(my_func.binary_specificity)}\n",
    "\n",
    "n = [10]\n",
    "ms = np.arange(0.1,0.51,0.1)\n",
    "mf = np.arange(0.1,0.91,0.1)\n",
    "\n",
    "lsvc_best = LinearSVC(class_weight='balanced',\n",
    "                             dual=False,\n",
    "                             C=1e-7)\n",
    "\n",
    "param_grid = {'n_estimators': n,\n",
    "              'max_samples': ms,\n",
    "              'max_features': mf,\n",
    "              'bootstrap': [True, False],\n",
    "              'bootstrap_features': [True, False]}\n",
    "              \n",
    "              \n",
    "bag_lsvc_gs = GridSearchCV(estimator=BaggingClassifier(lsvc_best),\n",
    "                              param_grid = param_grid,\n",
    "                              scoring=scoring,\n",
    "                              cv=3,\n",
    "                              refit=False,\n",
    "                              n_jobs=4,\n",
    "                              verbose=2)\n",
    "\n",
    "my_func.run_time(reset=True)\n",
    "bag_lsvc_gs.fit(X_train_rfe, y_train)\n",
    "my_func.run_time()"
   ]
  },
  {
   "cell_type": "code",
   "execution_count": 44,
   "metadata": {},
   "outputs": [
    {
     "name": "stdout",
     "output_type": "stream",
     "text": [
      "--------------------\n",
      "Best F2:\n",
      "Params: {'bootstrap': False, 'bootstrap_features': False, 'max_features': 0.80000000000000004, 'max_samples': 0.20000000000000001, 'n_estimators': 10}\n",
      "F2 = 0.5592059894837366\n",
      "Recall = 0.7416453509933731\n",
      "Precision = 0.28186230223931485\n",
      "Specificity = 0.5490977904537727\n",
      "--------------------\n",
      "Best Recall:\n",
      "Params: {'bootstrap': False, 'bootstrap_features': False, 'max_features': 0.90000000000000002, 'max_samples': 0.40000000000000002, 'n_estimators': 10}\n",
      "F2 = 0.5590838657712465\n",
      "Recall = 0.7446291213562906\n",
      "Precision = 0.2800350213979244\n",
      "Specificity = 0.5430864350629773\n",
      "--------------------\n",
      "Best Precision:\n",
      "Params: {'bootstrap': False, 'bootstrap_features': False, 'max_features': 0.30000000000000004, 'max_samples': 0.20000000000000001, 'n_estimators': 10}\n",
      "F2 = 0.5407294410959187\n",
      "Recall = 0.6916881759119666\n",
      "Precision = 0.2891902118148557\n",
      "Specificity = 0.5934760763915768\n",
      "--------------------\n",
      "Best Specificity:\n",
      "Params: {'bootstrap': True, 'bootstrap_features': False, 'max_features': 0.10000000000000001, 'max_samples': 0.40000000000000002, 'n_estimators': 10}\n",
      "F2 = 0.38761231912158894\n",
      "Recall = 0.4553703147296004\n",
      "Precision = 0.27719081633582277\n",
      "Specificity = 0.7060030806190857\n",
      "--------------------\n"
     ]
    }
   ],
   "source": [
    "my_func.gs_score_summary(bag_lsvc_gs);"
   ]
  },
  {
   "cell_type": "code",
   "execution_count": 18,
   "metadata": {},
   "outputs": [
    {
     "name": "stdout",
     "output_type": "stream",
     "text": [
      "Fitting 3 folds for each of 100 candidates, totalling 300 fits\n"
     ]
    },
    {
     "name": "stderr",
     "output_type": "stream",
     "text": [
      "[Parallel(n_jobs=4)]: Done  33 tasks      | elapsed:  1.4min\n",
      "[Parallel(n_jobs=4)]: Done 154 tasks      | elapsed:  6.1min\n"
     ]
    },
    {
     "name": "stdout",
     "output_type": "stream",
     "text": [
      "Time: 11min 50s \n"
     ]
    },
    {
     "name": "stderr",
     "output_type": "stream",
     "text": [
      "[Parallel(n_jobs=4)]: Done 300 out of 300 | elapsed: 11.8min finished\n"
     ]
    }
   ],
   "source": [
    "scoring={'F2': f2_score,\n",
    "         'recall':'recall',\n",
    "         'precision':'precision',\n",
    "         'specificity': make_scorer(my_func.binary_specificity)}\n",
    "\n",
    "n = [10]\n",
    "rs = np.random.choice(1000,100,replace=False)\n",
    "\n",
    "lsvc_best = LinearSVC(class_weight='balanced', dual=False, C=1e-7)\n",
    "\n",
    "lsvc_bag_best = BaggingClassifier(base_estimator=lsvc_best,\n",
    "                                max_samples=0.2, max_features=0.8, bootstrap_features=False, bootstrap=False)\n",
    "\n",
    "param_grid = {'n_estimators': n,\n",
    "              'random_state': rs}\n",
    "              \n",
    "              \n",
    "bag_lsvc_gs_rs = GridSearchCV(estimator=lsvc_bag_best,\n",
    "                              param_grid = param_grid,\n",
    "                              scoring=scoring,\n",
    "                              cv=3,\n",
    "                              refit=False,\n",
    "                              n_jobs=4,\n",
    "                              verbose=2)\n",
    "\n",
    "my_func.run_time(reset=True)\n",
    "bag_lsvc_gs_rs.fit(X_train_rfe, y_train)\n",
    "my_func.run_time()"
   ]
  },
  {
   "cell_type": "code",
   "execution_count": 19,
   "metadata": {},
   "outputs": [
    {
     "name": "stdout",
     "output_type": "stream",
     "text": [
      "--------------------\n",
      "Best F2:\n",
      "Params: {'n_estimators': 10, 'random_state': 521}\n",
      "F2 = 0.5599233896500295\n",
      "Recall = 0.7497015991259982\n",
      "Precision = 0.27821638078034466\n",
      "Specificity = 0.5358748535994515\n",
      "--------------------\n",
      "Best Recall:\n",
      "Params: {'n_estimators': 10, 'random_state': 521}\n",
      "F2 = 0.5599233896500295\n",
      "Recall = 0.7497015991259982\n",
      "Precision = 0.27821638078034466\n",
      "Specificity = 0.5358748535994515\n",
      "--------------------\n",
      "Best Precision:\n",
      "Params: {'n_estimators': 10, 'random_state': 892}\n",
      "F2 = 0.5554190019646637\n",
      "Recall = 0.7275788632306451\n",
      "Precision = 0.28534587052767163\n",
      "Specificity = 0.565168746758098\n",
      "--------------------\n",
      "Best Specificity:\n",
      "Params: {'n_estimators': 10, 'random_state': 797}\n",
      "F2 = 0.5482968582517055\n",
      "Recall = 0.7166666789180595\n",
      "Precision = 0.2826672142401392\n",
      "Specificity = 0.5660129816558485\n",
      "--------------------\n"
     ]
    }
   ],
   "source": [
    "my_func.gs_score_summary(bag_lsvc_gs_rs);"
   ]
  },
  {
   "cell_type": "code",
   "execution_count": 20,
   "metadata": {},
   "outputs": [
    {
     "data": {
      "text/plain": [
       "BaggingClassifier(base_estimator=LinearSVC(C=1e-07, class_weight='balanced', dual=False, fit_intercept=True,\n",
       "     intercept_scaling=1, loss='squared_hinge', max_iter=1000,\n",
       "     multi_class='ovr', penalty='l2', random_state=None, tol=0.0001,\n",
       "     verbose=0),\n",
       "         bootstrap=False, bootstrap_features=False, max_features=0.8,\n",
       "         max_samples=0.2, n_estimators=10, n_jobs=1, oob_score=False,\n",
       "         random_state=521, verbose=0, warm_start=False)"
      ]
     },
     "execution_count": 20,
     "metadata": {},
     "output_type": "execute_result"
    }
   ],
   "source": [
    "lsvc_best = LinearSVC(class_weight='balanced', dual=False, C=1e-7)\n",
    "lsvc_bag = BaggingClassifier(base_estimator=lsvc_best, n_estimators=10, max_samples=0.2, max_features=0.8,\n",
    "                             bootstrap_features=False, bootstrap=False,\n",
    "                             random_state=521)\n",
    "\n",
    "lsvc_bag.fit(X_train_rfe, y_train)"
   ]
  },
  {
   "cell_type": "code",
   "execution_count": 21,
   "metadata": {},
   "outputs": [
    {
     "name": "stdout",
     "output_type": "stream",
     "text": [
      "Mean CV score = 0.749 (+/- 0.003)\n"
     ]
    }
   ],
   "source": [
    "my_func.print_cvs(cross_val_score(lsvc_bag, X_train_rfe, y_train, cv=5, scoring='recall'))"
   ]
  },
  {
   "cell_type": "code",
   "execution_count": 22,
   "metadata": {},
   "outputs": [
    {
     "name": "stdout",
     "output_type": "stream",
     "text": [
      "Confusion Matrix:\n",
      "                 Predicted Negative  Predicted Positive\n",
      "Actual Negative               52897               45417\n",
      "Actual Positive                5893               17567\n",
      "--------------------\n",
      "Accuracy Scores:\n",
      "                    Score\n",
      "Rate                     \n",
      "F2               0.560086\n",
      "Recall           0.748806\n",
      "Precision (pos)  0.278912\n",
      "Precision (neg)  0.899762\n",
      "Specificity      0.538041\n"
     ]
    }
   ],
   "source": [
    "my_func.classifier_summary(y_train, lsvc_bag.predict(X_train_rfe));"
   ]
  },
  {
   "cell_type": "code",
   "execution_count": 23,
   "metadata": {},
   "outputs": [
    {
     "name": "stdout",
     "output_type": "stream",
     "text": [
      "Confusion Matrix:\n",
      "                 Predicted Negative  Predicted Positive\n",
      "Actual Negative               13314               11316\n",
      "Actual Positive                1460                4354\n",
      "--------------------\n",
      "Accuracy Scores:\n",
      "                    Score\n",
      "Rate                     \n",
      "F2               0.559266\n",
      "Recall           0.748882\n",
      "Precision (pos)  0.277856\n",
      "Precision (neg)  0.901178\n",
      "Specificity      0.540560\n"
     ]
    }
   ],
   "source": [
    "my_func.classifier_summary(y_val, lsvc_bag.predict(X_val_rfe));"
   ]
  },
  {
   "cell_type": "markdown",
   "metadata": {},
   "source": [
    "This baggig classifier shows an improvement in recall on the magnitude of 0.001 over the singular linear SVC model. This slight increase, however, does not seem to have come at the expense of specificity or precision which also see similar improvement. Consequently, whilst these improvements are very minimal this bagging classifier does provide a slightly more robust solution."
   ]
  },
  {
   "cell_type": "markdown",
   "metadata": {},
   "source": [
    "##### Decision Tree Classifier"
   ]
  },
  {
   "cell_type": "markdown",
   "metadata": {},
   "source": [
    "Bagging our decision tree classifier is essentially constructing a rough random forest model, however we gain the added ability to reduce the number of samples used in each tree. Using what we had seen in previous grid searches for random forest as the best performing parameters and value ranges, we will repeat said process with a bagging classifier of 10 random forest classifiers. Note, however, that the process of feature selection has been moved from the random forest classifier up to the bagging classifier."
   ]
  },
  {
   "cell_type": "code",
   "execution_count": 28,
   "metadata": {},
   "outputs": [
    {
     "name": "stdout",
     "output_type": "stream",
     "text": [
      "Fitting 3 folds for each of 640 candidates, totalling 1920 fits\n"
     ]
    },
    {
     "name": "stderr",
     "output_type": "stream",
     "text": [
      "[Parallel(n_jobs=4)]: Done  33 tasks      | elapsed:   22.9s\n",
      "[Parallel(n_jobs=4)]: Done 154 tasks      | elapsed:  1.9min\n",
      "[Parallel(n_jobs=4)]: Done 357 tasks      | elapsed:  4.5min\n",
      "[Parallel(n_jobs=4)]: Done 640 tasks      | elapsed:  8.5min\n",
      "[Parallel(n_jobs=4)]: Done 1005 tasks      | elapsed: 14.1min\n",
      "[Parallel(n_jobs=4)]: Done 1450 tasks      | elapsed: 21.8min\n"
     ]
    },
    {
     "name": "stdout",
     "output_type": "stream",
     "text": [
      "Time: 30min 49s \n"
     ]
    },
    {
     "name": "stderr",
     "output_type": "stream",
     "text": [
      "[Parallel(n_jobs=4)]: Done 1920 out of 1920 | elapsed: 30.8min finished\n"
     ]
    }
   ],
   "source": [
    "scoring={'F2': f2_score,\n",
    "         'recall':'recall',\n",
    "         'precision':'precision',\n",
    "         'specificity': make_scorer(my_func.binary_specificity)}\n",
    "\n",
    "n = [10, 15, 20]\n",
    "ms = np.arange(0.2,0.51,0.1)\n",
    "mf = np.arange(0.2,0.91,0.1)\n",
    "md = np.arange(1,11,1)\n",
    "\n",
    "dtc_bag = BaggingClassifier(base_estimator=DecisionTreeClassifier(class_weight='balanced'))\n",
    "\n",
    "param_grid = {'base_estimator__max_depth': md,\n",
    "              'n_estimators': n,\n",
    "              'max_samples': ms,\n",
    "              'max_features': mf,\n",
    "              'bootstrap_features': [True, False]}\n",
    "              \n",
    "              \n",
    "dtc_bag_gs = GridSearchCV(estimator=dtc_bag,\n",
    "                              param_grid = param_grid,\n",
    "                              scoring=scoring,\n",
    "                              cv=3,\n",
    "                              refit=False,\n",
    "                              n_jobs=4,\n",
    "                              verbose=2)\n",
    "\n",
    "my_func.run_time(reset=True)\n",
    "dtc_bag_gs.fit(X_train, y_train)\n",
    "my_func.run_time()"
   ]
  },
  {
   "cell_type": "code",
   "execution_count": 29,
   "metadata": {},
   "outputs": [
    {
     "name": "stdout",
     "output_type": "stream",
     "text": [
      "--------------------\n",
      "Best F2:\n",
      "Params: {'base_estimator__max_depth': 5, 'bootstrap_features': True, 'max_features': 0.90000000000000013, 'max_samples': 0.40000000000000008, 'n_estimators': 10}\n",
      "F2 = 0.53678209149419\n",
      "Recall = 0.663938590572608\n",
      "Precision = 0.3039521928054217\n",
      "Specificity = 0.6371829059552738\n",
      "--------------------\n",
      "Best Recall:\n",
      "Params: {'base_estimator__max_depth': 1, 'bootstrap_features': False, 'max_features': 0.90000000000000013, 'max_samples': 0.40000000000000008, 'n_estimators': 10}\n",
      "F2 = 0.5345618793721649\n",
      "Recall = 0.7043904787859713\n",
      "Precision = 0.2723405391468542\n",
      "Specificity = 0.5503896015056183\n",
      "--------------------\n",
      "Best Precision:\n",
      "Params: {'base_estimator__max_depth': 10, 'bootstrap_features': False, 'max_features': 0.90000000000000013, 'max_samples': 0.20000000000000001, 'n_estimators': 10}\n",
      "F2 = 0.4560456917741673\n",
      "Recall = 0.504092054809343\n",
      "Precision = 0.33032007452125606\n",
      "Specificity = 0.7561283226879555\n",
      "--------------------\n",
      "Best Specificity:\n",
      "Params: {'base_estimator__max_depth': 10, 'bootstrap_features': True, 'max_features': 0.70000000000000018, 'max_samples': 0.20000000000000001, 'n_estimators': 10}\n",
      "F2 = 0.4197890094651247\n",
      "Recall = 0.45417740851286414\n",
      "Precision = 0.32258798525540455\n",
      "Specificity = 0.7724128924487508\n",
      "--------------------\n"
     ]
    }
   ],
   "source": [
    "my_func.gs_score_summary(dtc_bag_gs);"
   ]
  },
  {
   "cell_type": "code",
   "execution_count": 60,
   "metadata": {},
   "outputs": [
    {
     "name": "stdout",
     "output_type": "stream",
     "text": [
      "Fitting 3 folds for each of 400 candidates, totalling 1200 fits\n"
     ]
    },
    {
     "name": "stderr",
     "output_type": "stream",
     "text": [
      "[Parallel(n_jobs=4)]: Done  33 tasks      | elapsed:   36.0s\n",
      "[Parallel(n_jobs=4)]: Done 154 tasks      | elapsed:  2.4min\n",
      "[Parallel(n_jobs=4)]: Done 357 tasks      | elapsed:  6.3min\n",
      "[Parallel(n_jobs=4)]: Done 640 tasks      | elapsed: 16.0min\n",
      "[Parallel(n_jobs=4)]: Done 1005 tasks      | elapsed: 49.0min\n"
     ]
    },
    {
     "name": "stdout",
     "output_type": "stream",
     "text": [
      "Time: 75min 29s \n"
     ]
    },
    {
     "name": "stderr",
     "output_type": "stream",
     "text": [
      "[Parallel(n_jobs=4)]: Done 1200 out of 1200 | elapsed: 75.5min finished\n"
     ]
    }
   ],
   "source": [
    "scoring={'F2': f2_score,\n",
    "         'recall':'recall',\n",
    "         'precision':'precision',\n",
    "         'specificity': make_scorer(my_func.binary_specificity)}\n",
    "\n",
    "n = [10,20,50,100]\n",
    "rs = np.random.choice(1000,100,replace=False)\n",
    "\n",
    "dtc_best = DecisionTreeClassifier(class_weight='balanced', max_depth=1)\n",
    "\n",
    "dtc_bag_best = BaggingClassifier(base_estimator=dtc_best,\n",
    "                                 bootstrap=False, bootstrap_features=False, \n",
    "                                 max_features=0.7, max_samples=0.2)\n",
    "\n",
    "param_grid = {'n_estimators': n,\n",
    "              'random_state': rs}\n",
    "              \n",
    "              \n",
    "bag_dtc_gs_rs = GridSearchCV(estimator=dtc_bag_best,\n",
    "                              param_grid = param_grid,\n",
    "                              scoring=scoring,\n",
    "                              cv=3,\n",
    "                              refit=False,\n",
    "                              n_jobs=4,\n",
    "                              verbose=2)\n",
    "\n",
    "my_func.run_time(reset=True)\n",
    "bag_dtc_gs_rs.fit(X_train, y_train)\n",
    "my_func.run_time()"
   ]
  },
  {
   "cell_type": "code",
   "execution_count": 61,
   "metadata": {},
   "outputs": [
    {
     "name": "stdout",
     "output_type": "stream",
     "text": [
      "--------------------\n",
      "Best F2:\n",
      "Params: {'n_estimators': 10, 'random_state': 321}\n",
      "F2 = 0.5388335922760672\n",
      "Recall = 0.7209717577952568\n",
      "Precision = 0.2680661195492892\n",
      "Specificity = 0.5302500091793592\n",
      "--------------------\n",
      "Best Recall:\n",
      "Params: {'n_estimators': 10, 'random_state': 321}\n",
      "F2 = 0.5388335922760672\n",
      "Recall = 0.7209717577952568\n",
      "Precision = 0.2680661195492892\n",
      "Specificity = 0.5302500091793592\n",
      "--------------------\n",
      "Best Precision:\n",
      "Params: {'n_estimators': 20, 'random_state': 90}\n",
      "F2 = 0.45287796804654684\n",
      "Recall = 0.5168797008856748\n",
      "Precision = 0.3029689797666358\n",
      "Specificity = 0.7161950304089691\n",
      "--------------------\n",
      "Best Specificity:\n",
      "Params: {'n_estimators': 20, 'random_state': 90}\n",
      "F2 = 0.45287796804654684\n",
      "Recall = 0.5168797008856748\n",
      "Precision = 0.3029689797666358\n",
      "Specificity = 0.7161950304089691\n",
      "--------------------\n"
     ]
    }
   ],
   "source": [
    "my_func.gs_score_summary(bag_dtc_gs_rs);"
   ]
  },
  {
   "cell_type": "code",
   "execution_count": 66,
   "metadata": {
    "collapsed": true
   },
   "outputs": [],
   "source": [
    "dtc_bag_best = BaggingClassifier(base_estimator=DecisionTreeClassifier(class_weight='balanced', max_depth=1),\n",
    "                            bootstrap=False, bootstrap_features=False, \n",
    "                            max_features=0.7, max_samples=0.2,\n",
    "                            random_state=321)\n",
    "\n",
    "dtc_bag_best.fit(X_train, y_train);"
   ]
  },
  {
   "cell_type": "code",
   "execution_count": 67,
   "metadata": {},
   "outputs": [
    {
     "name": "stdout",
     "output_type": "stream",
     "text": [
      "Mean f2 score = 0.526 (+/- 0.007)\n",
      "Mean recall score = 0.679 (+/- 0.020)\n"
     ]
    }
   ],
   "source": [
    "my_func.print_cvs(cross_val_score(dtc_bag_best, X_train, y_train, cv=5, scoring=f2_score), 'f2')\n",
    "my_func.print_cvs(cross_val_score(dtc_bag_best, X_train, y_train, cv=5, scoring='recall'), 'recall')"
   ]
  },
  {
   "cell_type": "code",
   "execution_count": 68,
   "metadata": {},
   "outputs": [
    {
     "name": "stdout",
     "output_type": "stream",
     "text": [
      "Confusion Matrix:\n",
      "                 Predicted Negative  Predicted Positive\n",
      "Actual Negative               58462               39852\n",
      "Actual Positive                7996               15464\n",
      "--------------------\n",
      "Accuracy Scores:\n",
      "                    Score\n",
      "Rate                     \n",
      "F2               0.518383\n",
      "Recall           0.659165\n",
      "Precision (pos)  0.279557\n",
      "Precision (neg)  0.879683\n",
      "Specificity      0.594646\n"
     ]
    }
   ],
   "source": [
    "my_func.classifier_summary(y_train, dtc_bag_best.predict(X_train));"
   ]
  },
  {
   "cell_type": "code",
   "execution_count": 69,
   "metadata": {},
   "outputs": [
    {
     "name": "stdout",
     "output_type": "stream",
     "text": [
      "Confusion Matrix:\n",
      "                 Predicted Negative  Predicted Positive\n",
      "Actual Negative               14564               10066\n",
      "Actual Positive                2017                3797\n",
      "--------------------\n",
      "Accuracy Scores:\n",
      "                    Score\n",
      "Rate                     \n",
      "F2               0.511463\n",
      "Recall           0.653079\n",
      "Precision (pos)  0.273895\n",
      "Precision (neg)  0.878355\n",
      "Specificity      0.591311\n"
     ]
    }
   ],
   "source": [
    "my_func.classifier_summary(y_val, dtc_bag_best.predict(X_val));"
   ]
  },
  {
   "cell_type": "markdown",
   "metadata": {},
   "source": [
    "Unfortunately this baggig classifier performs singificantly worse than our singular optimized decision tree."
   ]
  },
  {
   "cell_type": "markdown",
   "metadata": {},
   "source": [
    "##### Random Forest"
   ]
  },
  {
   "cell_type": "markdown",
   "metadata": {},
   "source": [
    "Rather surprisingly, our random forest classifier model fared signficantly worse than our individual decision tree. Perhaps bagging a number of random forest classifiers which are fit on varying subsamples can yield improvements."
   ]
  },
  {
   "cell_type": "code",
   "execution_count": 15,
   "metadata": {},
   "outputs": [
    {
     "name": "stdout",
     "output_type": "stream",
     "text": [
      "Fitting 3 folds for each of 750 candidates, totalling 2250 fits\n"
     ]
    },
    {
     "name": "stderr",
     "output_type": "stream",
     "text": [
      "[Parallel(n_jobs=4)]: Done  33 tasks      | elapsed:   54.7s\n",
      "[Parallel(n_jobs=4)]: Done 154 tasks      | elapsed:  3.5min\n",
      "[Parallel(n_jobs=4)]: Done 357 tasks      | elapsed:  7.7min\n",
      "[Parallel(n_jobs=4)]: Done 640 tasks      | elapsed: 13.5min\n",
      "[Parallel(n_jobs=4)]: Done 1005 tasks      | elapsed: 21.1min\n",
      "[Parallel(n_jobs=4)]: Done 1450 tasks      | elapsed: 30.3min\n",
      "[Parallel(n_jobs=4)]: Done 1977 tasks      | elapsed: 41.2min\n"
     ]
    },
    {
     "name": "stdout",
     "output_type": "stream",
     "text": [
      "Time: 47min 5s \n"
     ]
    },
    {
     "name": "stderr",
     "output_type": "stream",
     "text": [
      "[Parallel(n_jobs=4)]: Done 2250 out of 2250 | elapsed: 47.1min finished\n"
     ]
    }
   ],
   "source": [
    "scoring={'F2': f2_score,\n",
    "         'recall':'recall',\n",
    "         'precision':'precision',\n",
    "         'specificity': make_scorer(my_func.binary_specificity)}\n",
    "\n",
    "n = [10]\n",
    "ms = np.arange(0.1,0.51,0.1)\n",
    "mf = np.arange(0.1,0.51,0.1)\n",
    "md = np.arange(1,6,1)\n",
    "msl = np.arange(0.05,0.11,0.01)\n",
    "\n",
    "rfc_bag = BaggingClassifier(base_estimator=RandomForestClassifier(class_weight='balanced'))\n",
    "\n",
    "param_grid = {'base_estimator__max_depth': md,\n",
    "              'base_estimator__min_samples_leaf': msl,\n",
    "              'n_estimators': n,\n",
    "              'max_samples': ms,\n",
    "              'max_features': mf}\n",
    "              \n",
    "              \n",
    "rfc_bag_gs = GridSearchCV(estimator=rfc_bag,\n",
    "                              param_grid = param_grid,\n",
    "                              scoring=scoring,\n",
    "                              cv=3,\n",
    "                              refit=False,\n",
    "                              n_jobs=4,\n",
    "                              verbose=2)\n",
    "\n",
    "my_func.run_time(reset=True)\n",
    "rfc_bag_gs.fit(X_train, y_train)\n",
    "my_func.run_time()"
   ]
  },
  {
   "cell_type": "code",
   "execution_count": 17,
   "metadata": {},
   "outputs": [
    {
     "name": "stdout",
     "output_type": "stream",
     "text": [
      "--------------------\n",
      "Best F2:\n",
      "Params: {'base_estimator__max_depth': 1, 'base_estimator__min_samples_leaf': 0.050000000000000003, 'max_features': 0.10000000000000001, 'max_samples': 0.10000000000000001, 'n_estimators': 10}\n",
      "F2 = 0.5440277532818429\n",
      "Recall = 1.0\n",
      "Precision = 0.19265196183093272\n",
      "Specificity = 0.0\n",
      "--------------------\n",
      "Best Recall:\n",
      "Params: {'base_estimator__max_depth': 1, 'base_estimator__min_samples_leaf': 0.050000000000000003, 'max_features': 0.10000000000000001, 'max_samples': 0.10000000000000001, 'n_estimators': 10}\n",
      "F2 = 0.5440277532818429\n",
      "Recall = 1.0\n",
      "Precision = 0.19265196183093272\n",
      "Specificity = 0.0\n",
      "--------------------\n",
      "Best Precision:\n",
      "Params: {'base_estimator__max_depth': 5, 'base_estimator__min_samples_leaf': 0.050000000000000003, 'max_features': 0.5, 'max_samples': 0.30000000000000004, 'n_estimators': 10}\n",
      "F2 = 0.5100696036621141\n",
      "Recall = 0.6218243738757685\n",
      "Precision = 0.29682392905454735\n",
      "Specificity = 0.6484834380012143\n",
      "--------------------\n",
      "Best Specificity:\n",
      "Params: {'base_estimator__max_depth': 1, 'base_estimator__min_samples_leaf': 0.060000000000000005, 'max_features': 0.10000000000000001, 'max_samples': 0.20000000000000001, 'n_estimators': 10}\n",
      "F2 = 0.0\n",
      "Recall = 0.0\n",
      "Precision = 0.0\n",
      "Specificity = 1.0\n",
      "--------------------\n"
     ]
    }
   ],
   "source": [
    "rfc_gs_summary = my_func.gs_score_summary(rfc_bag_gs);"
   ]
  },
  {
   "cell_type": "code",
   "execution_count": 18,
   "metadata": {
    "scrolled": true
   },
   "outputs": [
    {
     "data": {
      "text/html": [
       "<div>\n",
       "<style>\n",
       "    .dataframe thead tr:only-child th {\n",
       "        text-align: right;\n",
       "    }\n",
       "\n",
       "    .dataframe thead th {\n",
       "        text-align: left;\n",
       "    }\n",
       "\n",
       "    .dataframe tbody tr th {\n",
       "        vertical-align: top;\n",
       "    }\n",
       "</style>\n",
       "<table border=\"1\" class=\"dataframe\">\n",
       "  <thead>\n",
       "    <tr style=\"text-align: right;\">\n",
       "      <th></th>\n",
       "      <th>F2</th>\n",
       "      <th>precision</th>\n",
       "      <th>recall</th>\n",
       "      <th>specificity</th>\n",
       "      <th>base_estimator__max_depth</th>\n",
       "      <th>base_estimator__min_samples_leaf</th>\n",
       "      <th>max_features</th>\n",
       "      <th>max_samples</th>\n",
       "      <th>n_estimators</th>\n",
       "    </tr>\n",
       "  </thead>\n",
       "  <tbody>\n",
       "    <tr>\n",
       "      <th>7</th>\n",
       "      <td>0.531220</td>\n",
       "      <td>0.284090</td>\n",
       "      <td>0.679326</td>\n",
       "      <td>0.591208</td>\n",
       "      <td>1</td>\n",
       "      <td>0.05</td>\n",
       "      <td>0.2</td>\n",
       "      <td>0.3</td>\n",
       "      <td>10</td>\n",
       "    </tr>\n",
       "    <tr>\n",
       "      <th>624</th>\n",
       "      <td>0.530213</td>\n",
       "      <td>0.286292</td>\n",
       "      <td>0.673785</td>\n",
       "      <td>0.599162</td>\n",
       "      <td>5</td>\n",
       "      <td>0.05</td>\n",
       "      <td>0.5</td>\n",
       "      <td>0.5</td>\n",
       "      <td>10</td>\n",
       "    </tr>\n",
       "    <tr>\n",
       "      <th>49</th>\n",
       "      <td>0.530193</td>\n",
       "      <td>0.286227</td>\n",
       "      <td>0.673785</td>\n",
       "      <td>0.599030</td>\n",
       "      <td>1</td>\n",
       "      <td>0.06</td>\n",
       "      <td>0.5</td>\n",
       "      <td>0.5</td>\n",
       "      <td>10</td>\n",
       "    </tr>\n",
       "    <tr>\n",
       "      <th>619</th>\n",
       "      <td>0.529682</td>\n",
       "      <td>0.291104</td>\n",
       "      <td>0.666624</td>\n",
       "      <td>0.612425</td>\n",
       "      <td>5</td>\n",
       "      <td>0.05</td>\n",
       "      <td>0.4</td>\n",
       "      <td>0.5</td>\n",
       "      <td>10</td>\n",
       "    </tr>\n",
       "    <tr>\n",
       "      <th>439</th>\n",
       "      <td>0.529238</td>\n",
       "      <td>0.283078</td>\n",
       "      <td>0.676257</td>\n",
       "      <td>0.591289</td>\n",
       "      <td>3</td>\n",
       "      <td>0.10</td>\n",
       "      <td>0.3</td>\n",
       "      <td>0.5</td>\n",
       "      <td>10</td>\n",
       "    </tr>\n",
       "    <tr>\n",
       "      <th>322</th>\n",
       "      <td>0.529226</td>\n",
       "      <td>0.286958</td>\n",
       "      <td>0.670887</td>\n",
       "      <td>0.602142</td>\n",
       "      <td>3</td>\n",
       "      <td>0.05</td>\n",
       "      <td>0.5</td>\n",
       "      <td>0.3</td>\n",
       "      <td>10</td>\n",
       "    </tr>\n",
       "    <tr>\n",
       "      <th>512</th>\n",
       "      <td>0.529041</td>\n",
       "      <td>0.282727</td>\n",
       "      <td>0.676556</td>\n",
       "      <td>0.590231</td>\n",
       "      <td>4</td>\n",
       "      <td>0.07</td>\n",
       "      <td>0.3</td>\n",
       "      <td>0.3</td>\n",
       "      <td>10</td>\n",
       "    </tr>\n",
       "    <tr>\n",
       "      <th>468</th>\n",
       "      <td>0.528292</td>\n",
       "      <td>0.289226</td>\n",
       "      <td>0.666113</td>\n",
       "      <td>0.609272</td>\n",
       "      <td>4</td>\n",
       "      <td>0.05</td>\n",
       "      <td>0.4</td>\n",
       "      <td>0.4</td>\n",
       "      <td>10</td>\n",
       "    </tr>\n",
       "    <tr>\n",
       "      <th>604</th>\n",
       "      <td>0.528053</td>\n",
       "      <td>0.287137</td>\n",
       "      <td>0.668286</td>\n",
       "      <td>0.604034</td>\n",
       "      <td>5</td>\n",
       "      <td>0.05</td>\n",
       "      <td>0.1</td>\n",
       "      <td>0.5</td>\n",
       "      <td>10</td>\n",
       "    </tr>\n",
       "    <tr>\n",
       "      <th>369</th>\n",
       "      <td>0.527554</td>\n",
       "      <td>0.287073</td>\n",
       "      <td>0.667349</td>\n",
       "      <td>0.604471</td>\n",
       "      <td>3</td>\n",
       "      <td>0.07</td>\n",
       "      <td>0.4</td>\n",
       "      <td>0.5</td>\n",
       "      <td>10</td>\n",
       "    </tr>\n",
       "  </tbody>\n",
       "</table>\n",
       "</div>"
      ],
      "text/plain": [
       "           F2  precision    recall  specificity  base_estimator__max_depth  \\\n",
       "7    0.531220   0.284090  0.679326     0.591208                          1   \n",
       "624  0.530213   0.286292  0.673785     0.599162                          5   \n",
       "49   0.530193   0.286227  0.673785     0.599030                          1   \n",
       "619  0.529682   0.291104  0.666624     0.612425                          5   \n",
       "439  0.529238   0.283078  0.676257     0.591289                          3   \n",
       "322  0.529226   0.286958  0.670887     0.602142                          3   \n",
       "512  0.529041   0.282727  0.676556     0.590231                          4   \n",
       "468  0.528292   0.289226  0.666113     0.609272                          4   \n",
       "604  0.528053   0.287137  0.668286     0.604034                          5   \n",
       "369  0.527554   0.287073  0.667349     0.604471                          3   \n",
       "\n",
       "     base_estimator__min_samples_leaf  max_features  max_samples  n_estimators  \n",
       "7                                0.05           0.2          0.3            10  \n",
       "624                              0.05           0.5          0.5            10  \n",
       "49                               0.06           0.5          0.5            10  \n",
       "619                              0.05           0.4          0.5            10  \n",
       "439                              0.10           0.3          0.5            10  \n",
       "322                              0.05           0.5          0.3            10  \n",
       "512                              0.07           0.3          0.3            10  \n",
       "468                              0.05           0.4          0.4            10  \n",
       "604                              0.05           0.1          0.5            10  \n",
       "369                              0.07           0.4          0.5            10  "
      ]
     },
     "execution_count": 18,
     "metadata": {},
     "output_type": "execute_result"
    }
   ],
   "source": [
    "rfc_gs_summary[rfc_gs_summary['specificity'] > 0.5].sort_values('F2', ascending=False)[:10]"
   ]
  },
  {
   "cell_type": "markdown",
   "metadata": {},
   "source": [
    "We will proceed with the 2nd highest model with a max depth of 5 to avoid overlap and redundancy with our previous decision tree bagging classifier."
   ]
  },
  {
   "cell_type": "markdown",
   "metadata": {},
   "source": [
    "Repeating our grid search on the random state to ensure reporucible results:"
   ]
  },
  {
   "cell_type": "code",
   "execution_count": 20,
   "metadata": {},
   "outputs": [
    {
     "name": "stdout",
     "output_type": "stream",
     "text": [
      "Fitting 3 folds for each of 100 candidates, totalling 300 fits\n"
     ]
    },
    {
     "name": "stderr",
     "output_type": "stream",
     "text": [
      "[Parallel(n_jobs=4)]: Done  33 tasks      | elapsed:   46.4s\n",
      "[Parallel(n_jobs=4)]: Done 154 tasks      | elapsed:  3.2min\n"
     ]
    },
    {
     "name": "stdout",
     "output_type": "stream",
     "text": [
      "Time: 6min 8s \n"
     ]
    },
    {
     "name": "stderr",
     "output_type": "stream",
     "text": [
      "[Parallel(n_jobs=4)]: Done 300 out of 300 | elapsed:  6.1min finished\n"
     ]
    }
   ],
   "source": [
    "scoring={'F2': f2_score,\n",
    "         'recall':'recall',\n",
    "         'precision':'precision',\n",
    "         'specificity': make_scorer(my_func.binary_specificity)}\n",
    "\n",
    "n = [10]\n",
    "rs = np.random.choice(1000,100,replace=False)\n",
    "\n",
    "rfc_bag_test = BaggingClassifier(base_estimator=RandomForestClassifier(class_weight='balanced', max_depth=5, min_samples_leaf=0.05),\n",
    "                                 max_features=0.2, max_samples=0.3)\n",
    "\n",
    "param_grid = {'n_estimators': n,\n",
    "              'random_state': rs}\n",
    "              \n",
    "              \n",
    "rfc_bag_gs_rs = GridSearchCV(estimator=rfc_bag_test,\n",
    "                              param_grid = param_grid,\n",
    "                              scoring=scoring,\n",
    "                              cv=3,\n",
    "                              refit=False,\n",
    "                              n_jobs=4,\n",
    "                              verbose=2)\n",
    "\n",
    "my_func.run_time(reset=True)\n",
    "rfc_bag_gs_rs.fit(X_train, y_train)\n",
    "my_func.run_time()"
   ]
  },
  {
   "cell_type": "code",
   "execution_count": 21,
   "metadata": {},
   "outputs": [
    {
     "name": "stdout",
     "output_type": "stream",
     "text": [
      "--------------------\n",
      "Best F2:\n",
      "Params: {'n_estimators': 10, 'random_state': 748}\n",
      "F2 = 0.5317842051103716\n",
      "Recall = 0.6888743600204933\n",
      "Precision = 0.27863735765936076\n",
      "Specificity = 0.5739466750648292\n",
      "--------------------\n",
      "Best Recall:\n",
      "Params: {'n_estimators': 10, 'random_state': 653}\n",
      "F2 = 0.5282411968708435\n",
      "Recall = 0.6909633751122629\n",
      "Precision = 0.2721392481442231\n",
      "Specificity = 0.558882784002206\n",
      "--------------------\n",
      "Best Precision:\n",
      "Params: {'n_estimators': 10, 'random_state': 340}\n",
      "F2 = 0.5021351468833133\n",
      "Recall = 0.6067347327448268\n",
      "Precision = 0.2973531546797534\n",
      "Specificity = 0.6578004925213042\n",
      "--------------------\n",
      "Best Specificity:\n",
      "Params: {'n_estimators': 10, 'random_state': 577}\n",
      "F2 = 0.4716140517934157\n",
      "Recall = 0.553751240663546\n",
      "Precision = 0.2966131389379102\n",
      "Specificity = 0.6863417545965096\n",
      "--------------------\n"
     ]
    }
   ],
   "source": [
    "rfc_gs_rs_summary = my_func.gs_score_summary(rfc_bag_gs_rs)"
   ]
  },
  {
   "cell_type": "code",
   "execution_count": 23,
   "metadata": {
    "collapsed": true
   },
   "outputs": [],
   "source": [
    "rfc_bag_best = BaggingClassifier(base_estimator=RandomForestClassifier(class_weight='balanced', max_depth=5, min_samples_leaf=0.05),\n",
    "                                 max_features=0.2, max_samples=0.3,\n",
    "                                 n_estimators=10, random_state=748)\n",
    "\n",
    "rfc_bag_best.fit(X_train, y_train);"
   ]
  },
  {
   "cell_type": "code",
   "execution_count": 24,
   "metadata": {},
   "outputs": [
    {
     "name": "stdout",
     "output_type": "stream",
     "text": [
      "Mean f2 score = 0.526 (+/- 0.013)\n",
      "Mean recall score = 0.674 (+/- 0.033)\n"
     ]
    }
   ],
   "source": [
    "my_func.print_cvs(cross_val_score(rfc_bag_best, X_train, y_train, cv=5, scoring=f2_score), 'f2')\n",
    "my_func.print_cvs(cross_val_score(rfc_bag_best, X_train, y_train, cv=5, scoring='recall'), 'recall')"
   ]
  },
  {
   "cell_type": "code",
   "execution_count": 25,
   "metadata": {},
   "outputs": [
    {
     "name": "stdout",
     "output_type": "stream",
     "text": [
      "Confusion Matrix:\n",
      "                 Predicted Negative  Predicted Positive\n",
      "Actual Negative               53822               44492\n",
      "Actual Positive                6685               16775\n",
      "--------------------\n",
      "Accuracy Scores:\n",
      "                    Score\n",
      "Rate                     \n",
      "F2               0.540756\n",
      "Recall           0.715047\n",
      "Precision (pos)  0.273802\n",
      "Precision (neg)  0.889517\n",
      "Specificity      0.547450\n"
     ]
    }
   ],
   "source": [
    "my_func.classifier_summary(y_train, rfc_bag_best.predict(X_train));"
   ]
  },
  {
   "cell_type": "code",
   "execution_count": 26,
   "metadata": {},
   "outputs": [
    {
     "name": "stdout",
     "output_type": "stream",
     "text": [
      "Confusion Matrix:\n",
      "                 Predicted Negative  Predicted Positive\n",
      "Actual Negative               13545               11085\n",
      "Actual Positive                1707                4107\n",
      "--------------------\n",
      "Accuracy Scores:\n",
      "                    Score\n",
      "Rate                     \n",
      "F2               0.534098\n",
      "Recall           0.706398\n",
      "Precision (pos)  0.270340\n",
      "Precision (neg)  0.888080\n",
      "Specificity      0.549939\n"
     ]
    }
   ],
   "source": [
    "my_func.classifier_summary(y_val, rfc_bag_best.predict(X_val));"
   ]
  },
  {
   "cell_type": "markdown",
   "metadata": {},
   "source": [
    "While these results are not awful, we are unfortunately unable to exceed the performance of our singular random forest classifier. It is very possible that we simply have not explored the optimal hyperparameter combinations for both the bagging classifier and the base random forest estimators. The number of estimators has been kept at 10 throughout our optimization, and the random forest parameters tuning was constrained to be somewhat basic, but exploring all of these possible combination in-depth would come at an unreasonable time cost considering this reduced set of tuning already took 47 minutes to complete."
   ]
  },
  {
   "cell_type": "markdown",
   "metadata": {
    "collapsed": true
   },
   "source": [
    "##### Gaussian Naive Bayes"
   ]
  },
  {
   "cell_type": "markdown",
   "metadata": {},
   "source": [
    "Gaussian Naive Bayes has not been explored yet, as it was established during the MVP analysis that this model performed very poorly in comporison with other benchmarks and models. However, it is possible that in conjunction with bagging and smaller sample sizes that these results reach more acceptable levels. Whilst it is unlikely it will ever be at a level to perform reliable individually, perhaps it can be incorporated in an ensemble with other models to yield optimal performance."
   ]
  },
  {
   "cell_type": "markdown",
   "metadata": {},
   "source": [
    "First we will take a look at the basic Gaussian NB model performance:"
   ]
  },
  {
   "cell_type": "code",
   "execution_count": 28,
   "metadata": {
    "collapsed": true
   },
   "outputs": [],
   "source": [
    "gnb_basic = GaussianNB()\n",
    "gnb_basic.fit(X_train, y_train);"
   ]
  },
  {
   "cell_type": "code",
   "execution_count": 34,
   "metadata": {},
   "outputs": [
    {
     "name": "stdout",
     "output_type": "stream",
     "text": [
      "Mean f2 score = 0.410 (+/- 0.030)\n",
      "Mean recall score = 0.438 (+/- 0.046)\n"
     ]
    }
   ],
   "source": [
    "my_func.print_cvs(cross_val_score(gnb_basic, X_train, y_train, cv=5, scoring=f2_score), 'f2')\n",
    "my_func.print_cvs(cross_val_score(gnb_basic, X_train, y_train, cv=5, scoring='recall'), 'recall')"
   ]
  },
  {
   "cell_type": "code",
   "execution_count": 36,
   "metadata": {},
   "outputs": [
    {
     "name": "stdout",
     "output_type": "stream",
     "text": [
      "Confusion Matrix:\n",
      "                 Predicted Negative  Predicted Positive\n",
      "Actual Negative               78143               20171\n",
      "Actual Positive               13335               10125\n",
      "--------------------\n",
      "Accuracy Scores:\n",
      "                    Score\n",
      "Rate                     \n",
      "F2               0.407819\n",
      "Recall           0.431586\n",
      "Precision (pos)  0.334203\n",
      "Precision (neg)  0.854227\n",
      "Specificity      0.794831\n"
     ]
    }
   ],
   "source": [
    "my_func.classifier_summary(y_train, gnb_basic.predict(X_train));"
   ]
  },
  {
   "cell_type": "code",
   "execution_count": 37,
   "metadata": {},
   "outputs": [
    {
     "name": "stdout",
     "output_type": "stream",
     "text": [
      "Confusion Matrix:\n",
      "                 Predicted Negative  Predicted Positive\n",
      "Actual Negative               19676                4954\n",
      "Actual Positive                3362                2452\n",
      "--------------------\n",
      "Accuracy Scores:\n",
      "                    Score\n",
      "Rate                     \n",
      "F2               0.399843\n",
      "Recall           0.421741\n",
      "Precision (pos)  0.331083\n",
      "Precision (neg)  0.854067\n",
      "Specificity      0.798863\n"
     ]
    }
   ],
   "source": [
    "my_func.classifier_summary(y_val, gnb_basic.predict(X_val));"
   ]
  },
  {
   "cell_type": "markdown",
   "metadata": {},
   "source": [
    "Next we will see if there is any immediate potential in reducing the number of features via Select K Best:"
   ]
  },
  {
   "cell_type": "code",
   "execution_count": 34,
   "metadata": {},
   "outputs": [
    {
     "name": "stdout",
     "output_type": "stream",
     "text": [
      "Fitting 3 folds for each of 40 candidates, totalling 120 fits\n",
      "Done 3 tasks | elapsed: 3.04s \n",
      "Done 33 tasks | elapsed: 32.18s \n",
      "Done 63 tasks | elapsed: 1min 3s \n",
      "Done 93 tasks | elapsed: 1min 33s \n",
      "Done 120 out of 120 | elapsed: 2min 1s  finished\n"
     ]
    },
    {
     "data": {
      "text/plain": [
       "<matplotlib.figure.Figure at 0x24d01dbf6d8>"
      ]
     },
     "metadata": {},
     "output_type": "display_data"
    },
    {
     "data": {
      "image/png": "[encoded data removed]",
      "text/plain": [
       "<matplotlib.figure.Figure at 0x24d01dbfa90>"
      ]
     },
     "metadata": {},
     "output_type": "display_data"
    }
   ],
   "source": [
    "gnb_skb_results = my_func.plot_skb(GaussianNB(), X_train, y_train, k_range=np.arange(1,41,1), scoring='f2', n_jobs=3, verbose=9)"
   ]
  },
  {
   "cell_type": "markdown",
   "metadata": {},
   "source": [
    "Does not seem to be much benefit achievable through SelectKBest feature selection. We will proceed with the grid search using a bagging classifier:"
   ]
  },
  {
   "cell_type": "code",
   "execution_count": 17,
   "metadata": {},
   "outputs": [
    {
     "name": "stdout",
     "output_type": "stream",
     "text": [
      "Fitting 3 folds for each of 100 candidates, totalling 300 fits\n"
     ]
    },
    {
     "name": "stderr",
     "output_type": "stream",
     "text": [
      "[Parallel(n_jobs=4)]: Done  33 tasks      | elapsed:  1.1min\n",
      "[Parallel(n_jobs=4)]: Done 154 tasks      | elapsed:  8.3min\n"
     ]
    },
    {
     "name": "stdout",
     "output_type": "stream",
     "text": [
      "Time: 25min 40s \n"
     ]
    },
    {
     "name": "stderr",
     "output_type": "stream",
     "text": [
      "[Parallel(n_jobs=4)]: Done 300 out of 300 | elapsed: 25.7min finished\n"
     ]
    }
   ],
   "source": [
    "scoring={'F2': f2_score,\n",
    "         'recall':'recall',\n",
    "         'precision': 'precision',\n",
    "         'specificity': make_scorer(my_func.binary_specificity)}\n",
    "\n",
    "gnb_test = GaussianNB()\n",
    "\n",
    "gnb_bag_test = BaggingClassifier(base_estimator=gnb_test)\n",
    "\n",
    "n = [10,20,50,100]\n",
    "ms = np.arange(0.1,0.51,0.1)\n",
    "mf = np.arange(0.1,.51,0.1)\n",
    "\n",
    "param_grid = {'n_estimators': n,\n",
    "              'max_samples': ms,\n",
    "              'max_features': mf}\n",
    "              \n",
    "gnb_bag_gs = GridSearchCV(estimator=gnb_bag_test,\n",
    "                              param_grid = param_grid,\n",
    "                              scoring=scoring,\n",
    "                              cv=3,\n",
    "                              refit=False,\n",
    "                              n_jobs=4,\n",
    "                              verbose=2)\n",
    "\n",
    "my_func.run_time(reset=True)\n",
    "gnb_bag_gs.fit(X_train, y_train)\n",
    "my_func.run_time()"
   ]
  },
  {
   "cell_type": "code",
   "execution_count": 18,
   "metadata": {},
   "outputs": [
    {
     "name": "stdout",
     "output_type": "stream",
     "text": [
      "--------------------\n",
      "Best F2:\n",
      "Params: {'max_features': 0.5, 'max_samples': 0.20000000000000001, 'n_estimators': 50}\n",
      "F2 = 0.5510003394562453\n",
      "Recall = 0.9574171076713027\n",
      "Precision = 0.20536898343726204\n",
      "Specificity = 0.10795019583451829\n",
      "--------------------\n",
      "Best Recall:\n",
      "Params: {'max_features': 0.30000000000000004, 'max_samples': 0.20000000000000001, 'n_estimators': 20}\n",
      "F2 = 0.546014864433759\n",
      "Recall = 0.9874254893041771\n",
      "Precision = 0.19587196876445004\n",
      "Specificity = 0.032375909867361975\n",
      "--------------------\n",
      "Best Precision:\n",
      "Params: {'max_features': 0.10000000000000001, 'max_samples': 0.20000000000000001, 'n_estimators': 50}\n",
      "F2 = 0.00010656139573189167\n",
      "Recall = 8.525184194090289e-05\n",
      "Precision = 0.6666694039778607\n",
      "Specificity = 1.0\n",
      "--------------------\n",
      "Best Specificity:\n",
      "Params: {'max_features': 0.10000000000000001, 'max_samples': 0.10000000000000001, 'n_estimators': 100}\n",
      "F2 = 0.0\n",
      "Recall = 0.0\n",
      "Precision = 0.0\n",
      "Specificity = 1.0\n",
      "--------------------\n"
     ]
    }
   ],
   "source": [
    "gnb_gs_summary = my_func.gs_score_summary(gnb_bag_gs);"
   ]
  },
  {
   "cell_type": "markdown",
   "metadata": {},
   "source": [
    "The best results for F2 and recall unfortunately come at an unacceptable cost to precision and specificity. We will explore the grid search results with a specificity over 0.5:"
   ]
  },
  {
   "cell_type": "code",
   "execution_count": 19,
   "metadata": {},
   "outputs": [
    {
     "data": {
      "text/html": [
       "<div>\n",
       "<style>\n",
       "    .dataframe thead tr:only-child th {\n",
       "        text-align: right;\n",
       "    }\n",
       "\n",
       "    .dataframe thead th {\n",
       "        text-align: left;\n",
       "    }\n",
       "\n",
       "    .dataframe tbody tr th {\n",
       "        vertical-align: top;\n",
       "    }\n",
       "</style>\n",
       "<table border=\"1\" class=\"dataframe\">\n",
       "  <thead>\n",
       "    <tr style=\"text-align: right;\">\n",
       "      <th></th>\n",
       "      <th>F2</th>\n",
       "      <th>precision</th>\n",
       "      <th>recall</th>\n",
       "      <th>specificity</th>\n",
       "      <th>max_features</th>\n",
       "      <th>max_samples</th>\n",
       "      <th>n_estimators</th>\n",
       "    </tr>\n",
       "  </thead>\n",
       "  <tbody>\n",
       "    <tr>\n",
       "      <th>46</th>\n",
       "      <td>0.504645</td>\n",
       "      <td>0.287719</td>\n",
       "      <td>0.641391</td>\n",
       "      <td>0.606048</td>\n",
       "      <td>0.3</td>\n",
       "      <td>0.2</td>\n",
       "      <td>50</td>\n",
       "    </tr>\n",
       "    <tr>\n",
       "      <th>42</th>\n",
       "      <td>0.500690</td>\n",
       "      <td>0.288401</td>\n",
       "      <td>0.638748</td>\n",
       "      <td>0.605957</td>\n",
       "      <td>0.3</td>\n",
       "      <td>0.1</td>\n",
       "      <td>50</td>\n",
       "    </tr>\n",
       "    <tr>\n",
       "      <th>43</th>\n",
       "      <td>0.487782</td>\n",
       "      <td>0.297715</td>\n",
       "      <td>0.603623</td>\n",
       "      <td>0.639746</td>\n",
       "      <td>0.3</td>\n",
       "      <td>0.1</td>\n",
       "      <td>100</td>\n",
       "    </tr>\n",
       "    <tr>\n",
       "      <th>41</th>\n",
       "      <td>0.487508</td>\n",
       "      <td>0.277554</td>\n",
       "      <td>0.667777</td>\n",
       "      <td>0.512013</td>\n",
       "      <td>0.3</td>\n",
       "      <td>0.1</td>\n",
       "      <td>20</td>\n",
       "    </tr>\n",
       "    <tr>\n",
       "      <th>74</th>\n",
       "      <td>0.485914</td>\n",
       "      <td>0.302557</td>\n",
       "      <td>0.572975</td>\n",
       "      <td>0.684704</td>\n",
       "      <td>0.4</td>\n",
       "      <td>0.4</td>\n",
       "      <td>50</td>\n",
       "    </tr>\n",
       "    <tr>\n",
       "      <th>89</th>\n",
       "      <td>0.475716</td>\n",
       "      <td>0.306993</td>\n",
       "      <td>0.551876</td>\n",
       "      <td>0.702311</td>\n",
       "      <td>0.5</td>\n",
       "      <td>0.3</td>\n",
       "      <td>20</td>\n",
       "    </tr>\n",
       "    <tr>\n",
       "      <th>69</th>\n",
       "      <td>0.450914</td>\n",
       "      <td>0.296524</td>\n",
       "      <td>0.574598</td>\n",
       "      <td>0.621998</td>\n",
       "      <td>0.4</td>\n",
       "      <td>0.3</td>\n",
       "      <td>20</td>\n",
       "    </tr>\n",
       "    <tr>\n",
       "      <th>71</th>\n",
       "      <td>0.449124</td>\n",
       "      <td>0.307544</td>\n",
       "      <td>0.544034</td>\n",
       "      <td>0.683514</td>\n",
       "      <td>0.4</td>\n",
       "      <td>0.3</td>\n",
       "      <td>100</td>\n",
       "    </tr>\n",
       "    <tr>\n",
       "      <th>49</th>\n",
       "      <td>0.446966</td>\n",
       "      <td>0.297594</td>\n",
       "      <td>0.596462</td>\n",
       "      <td>0.590292</td>\n",
       "      <td>0.3</td>\n",
       "      <td>0.3</td>\n",
       "      <td>20</td>\n",
       "    </tr>\n",
       "    <tr>\n",
       "      <th>75</th>\n",
       "      <td>0.431746</td>\n",
       "      <td>0.302884</td>\n",
       "      <td>0.541516</td>\n",
       "      <td>0.650680</td>\n",
       "      <td>0.4</td>\n",
       "      <td>0.4</td>\n",
       "      <td>100</td>\n",
       "    </tr>\n",
       "  </tbody>\n",
       "</table>\n",
       "</div>"
      ],
      "text/plain": [
       "          F2  precision    recall  specificity  max_features  max_samples  \\\n",
       "46  0.504645   0.287719  0.641391     0.606048           0.3          0.2   \n",
       "42  0.500690   0.288401  0.638748     0.605957           0.3          0.1   \n",
       "43  0.487782   0.297715  0.603623     0.639746           0.3          0.1   \n",
       "41  0.487508   0.277554  0.667777     0.512013           0.3          0.1   \n",
       "74  0.485914   0.302557  0.572975     0.684704           0.4          0.4   \n",
       "89  0.475716   0.306993  0.551876     0.702311           0.5          0.3   \n",
       "69  0.450914   0.296524  0.574598     0.621998           0.4          0.3   \n",
       "71  0.449124   0.307544  0.544034     0.683514           0.4          0.3   \n",
       "49  0.446966   0.297594  0.596462     0.590292           0.3          0.3   \n",
       "75  0.431746   0.302884  0.541516     0.650680           0.4          0.4   \n",
       "\n",
       "    n_estimators  \n",
       "46            50  \n",
       "42            50  \n",
       "43           100  \n",
       "41            20  \n",
       "74            50  \n",
       "89            20  \n",
       "69            20  \n",
       "71           100  \n",
       "49            20  \n",
       "75           100  "
      ]
     },
     "execution_count": 19,
     "metadata": {},
     "output_type": "execute_result"
    }
   ],
   "source": [
    "gnb_gs_summary[gnb_gs_summary['specificity'] > 0.5].sort_values('F2', ascending=False)[:10]"
   ]
  },
  {
   "cell_type": "markdown",
   "metadata": {},
   "source": [
    "Since we are working with random selections of features and samples, we will also try to contrain our random state for reproducible results:"
   ]
  },
  {
   "cell_type": "code",
   "execution_count": 11,
   "metadata": {},
   "outputs": [
    {
     "name": "stdout",
     "output_type": "stream",
     "text": [
      "Fitting 3 folds for each of 100 candidates, totalling 300 fits\n"
     ]
    },
    {
     "name": "stderr",
     "output_type": "stream",
     "text": [
      "[Parallel(n_jobs=4)]: Done  33 tasks      | elapsed:  3.5min\n",
      "[Parallel(n_jobs=4)]: Done 154 tasks      | elapsed: 14.5min\n"
     ]
    },
    {
     "name": "stdout",
     "output_type": "stream",
     "text": [
      "Time: 27min 50s \n"
     ]
    },
    {
     "name": "stderr",
     "output_type": "stream",
     "text": [
      "[Parallel(n_jobs=4)]: Done 300 out of 300 | elapsed: 27.8min finished\n"
     ]
    }
   ],
   "source": [
    "scoring={'F2': f2_score,\n",
    "         'recall':'recall',\n",
    "         'precision': 'precision',\n",
    "         'specificity': make_scorer(my_func.binary_specificity)}\n",
    "\n",
    "gnb_bag_test = BaggingClassifier(base_estimator=GaussianNB(),\n",
    "                             max_features=0.3, max_samples=0.2,\n",
    "                             n_estimators=50)\n",
    "\n",
    "rs = np.random.choice(1000,100,replace=False)\n",
    "\n",
    "param_grid = {'random_state': rs}\n",
    "              \n",
    "gnb_bag_gs = GridSearchCV(estimator=gnb_bag_test,\n",
    "                              param_grid = param_grid,\n",
    "                              scoring=scoring,\n",
    "                              cv=3,\n",
    "                              refit=False,\n",
    "                              n_jobs=4,\n",
    "                              verbose=2)\n",
    "\n",
    "my_func.run_time(reset=True)\n",
    "gnb_bag_gs.fit(X_train, y_train)\n",
    "my_func.run_time()"
   ]
  },
  {
   "cell_type": "code",
   "execution_count": 12,
   "metadata": {},
   "outputs": [
    {
     "name": "stdout",
     "output_type": "stream",
     "text": [
      "--------------------\n",
      "Best F2:\n",
      "Params: {'random_state': 475}\n",
      "F2 = 0.5575548512891193\n",
      "Recall = 0.8846553835819378\n",
      "Precision = 0.228668375884531\n",
      "Specificity = 0.27144692409855553\n",
      "--------------------\n",
      "Best Recall:\n",
      "Params: {'random_state': 684}\n",
      "F2 = 0.5517213336235701\n",
      "Recall = 0.9456950607886808\n",
      "Precision = 0.20863756225424387\n",
      "Specificity = 0.1330127407209551\n",
      "--------------------\n",
      "Best Precision:\n",
      "Params: {'random_state': 301}\n",
      "F2 = 0.15585431243158449\n",
      "Recall = 0.13699969739759837\n",
      "Precision = 0.4026915309085073\n",
      "Specificity = 0.9500580389871074\n",
      "--------------------\n",
      "Best Specificity:\n",
      "Params: {'random_state': 301}\n",
      "F2 = 0.15585431243158449\n",
      "Recall = 0.13699969739759837\n",
      "Precision = 0.4026915309085073\n",
      "Specificity = 0.9500580389871074\n",
      "--------------------\n"
     ]
    }
   ],
   "source": [
    "my_func.gs_score_summary(gnb_bag_gs);"
   ]
  },
  {
   "cell_type": "code",
   "execution_count": 13,
   "metadata": {},
   "outputs": [
    {
     "name": "stdout",
     "output_type": "stream",
     "text": [
      "--------------------\n",
      "Best F2:\n",
      "Params: {'random_state': 475}\n",
      "F2 = 0.5575548512891193\n",
      "Recall = 0.8846553835819378\n",
      "Precision = 0.228668375884531\n",
      "Specificity = 0.27144692409855553\n",
      "--------------------\n",
      "Best Recall:\n",
      "Params: {'random_state': 684}\n",
      "F2 = 0.5517213336235701\n",
      "Recall = 0.9456950607886808\n",
      "Precision = 0.20863756225424387\n",
      "Specificity = 0.1330127407209551\n",
      "--------------------\n",
      "Best Precision:\n",
      "Params: {'random_state': 301}\n",
      "F2 = 0.15585431243158449\n",
      "Recall = 0.13699969739759837\n",
      "Precision = 0.4026915309085073\n",
      "Specificity = 0.9500580389871074\n",
      "--------------------\n",
      "Best Specificity:\n",
      "Params: {'random_state': 301}\n",
      "F2 = 0.15585431243158449\n",
      "Recall = 0.13699969739759837\n",
      "Precision = 0.4026915309085073\n",
      "Specificity = 0.9500580389871074\n",
      "--------------------\n"
     ]
    }
   ],
   "source": [
    "gnb_bag_gs_summary = my_func.gs_score_summary(gnb_bag_gs);"
   ]
  },
  {
   "cell_type": "code",
   "execution_count": 14,
   "metadata": {},
   "outputs": [
    {
     "data": {
      "text/html": [
       "<div>\n",
       "<style>\n",
       "    .dataframe thead tr:only-child th {\n",
       "        text-align: right;\n",
       "    }\n",
       "\n",
       "    .dataframe thead th {\n",
       "        text-align: left;\n",
       "    }\n",
       "\n",
       "    .dataframe tbody tr th {\n",
       "        vertical-align: top;\n",
       "    }\n",
       "</style>\n",
       "<table border=\"1\" class=\"dataframe\">\n",
       "  <thead>\n",
       "    <tr style=\"text-align: right;\">\n",
       "      <th></th>\n",
       "      <th>F2</th>\n",
       "      <th>precision</th>\n",
       "      <th>recall</th>\n",
       "      <th>specificity</th>\n",
       "      <th>random_state</th>\n",
       "    </tr>\n",
       "  </thead>\n",
       "  <tbody>\n",
       "    <tr>\n",
       "      <th>64</th>\n",
       "      <td>0.536014</td>\n",
       "      <td>0.274005</td>\n",
       "      <td>0.715687</td>\n",
       "      <td>0.536679</td>\n",
       "      <td>540</td>\n",
       "    </tr>\n",
       "    <tr>\n",
       "      <th>0</th>\n",
       "      <td>0.535088</td>\n",
       "      <td>0.269339</td>\n",
       "      <td>0.728687</td>\n",
       "      <td>0.510609</td>\n",
       "      <td>807</td>\n",
       "    </tr>\n",
       "    <tr>\n",
       "      <th>52</th>\n",
       "      <td>0.523996</td>\n",
       "      <td>0.280850</td>\n",
       "      <td>0.678516</td>\n",
       "      <td>0.576530</td>\n",
       "      <td>619</td>\n",
       "    </tr>\n",
       "    <tr>\n",
       "      <th>14</th>\n",
       "      <td>0.520328</td>\n",
       "      <td>0.280751</td>\n",
       "      <td>0.675575</td>\n",
       "      <td>0.573326</td>\n",
       "      <td>997</td>\n",
       "    </tr>\n",
       "    <tr>\n",
       "      <th>13</th>\n",
       "      <td>0.517219</td>\n",
       "      <td>0.279672</td>\n",
       "      <td>0.670291</td>\n",
       "      <td>0.576449</td>\n",
       "      <td>507</td>\n",
       "    </tr>\n",
       "    <tr>\n",
       "      <th>12</th>\n",
       "      <td>0.515228</td>\n",
       "      <td>0.287085</td>\n",
       "      <td>0.647997</td>\n",
       "      <td>0.611358</td>\n",
       "      <td>41</td>\n",
       "    </tr>\n",
       "    <tr>\n",
       "      <th>33</th>\n",
       "      <td>0.513171</td>\n",
       "      <td>0.275006</td>\n",
       "      <td>0.676770</td>\n",
       "      <td>0.556828</td>\n",
       "      <td>144</td>\n",
       "    </tr>\n",
       "    <tr>\n",
       "      <th>40</th>\n",
       "      <td>0.512225</td>\n",
       "      <td>0.284429</td>\n",
       "      <td>0.654474</td>\n",
       "      <td>0.598328</td>\n",
       "      <td>39</td>\n",
       "    </tr>\n",
       "    <tr>\n",
       "      <th>61</th>\n",
       "      <td>0.511497</td>\n",
       "      <td>0.273003</td>\n",
       "      <td>0.691519</td>\n",
       "      <td>0.531308</td>\n",
       "      <td>363</td>\n",
       "    </tr>\n",
       "    <tr>\n",
       "      <th>55</th>\n",
       "      <td>0.502922</td>\n",
       "      <td>0.281908</td>\n",
       "      <td>0.669691</td>\n",
       "      <td>0.562371</td>\n",
       "      <td>792</td>\n",
       "    </tr>\n",
       "  </tbody>\n",
       "</table>\n",
       "</div>"
      ],
      "text/plain": [
       "          F2  precision    recall  specificity  random_state\n",
       "64  0.536014   0.274005  0.715687     0.536679           540\n",
       "0   0.535088   0.269339  0.728687     0.510609           807\n",
       "52  0.523996   0.280850  0.678516     0.576530           619\n",
       "14  0.520328   0.280751  0.675575     0.573326           997\n",
       "13  0.517219   0.279672  0.670291     0.576449           507\n",
       "12  0.515228   0.287085  0.647997     0.611358            41\n",
       "33  0.513171   0.275006  0.676770     0.556828           144\n",
       "40  0.512225   0.284429  0.654474     0.598328            39\n",
       "61  0.511497   0.273003  0.691519     0.531308           363\n",
       "55  0.502922   0.281908  0.669691     0.562371           792"
      ]
     },
     "execution_count": 14,
     "metadata": {},
     "output_type": "execute_result"
    }
   ],
   "source": [
    "gnb_bag_gs_summary[gnb_bag_gs_summary['specificity'] > 0.5].sort_values('F2', ascending=False)[:10]"
   ]
  },
  {
   "cell_type": "code",
   "execution_count": 45,
   "metadata": {},
   "outputs": [
    {
     "name": "stdout",
     "output_type": "stream",
     "text": [
      "Time: 3.50s \n"
     ]
    }
   ],
   "source": [
    "gnb_best = BaggingClassifier(base_estimator=GaussianNB(),\n",
    "                             max_features=0.3, max_samples=0.2,\n",
    "                             n_estimators=50, random_state=540)\n",
    "\n",
    "my_func.run_time(reset=True)\n",
    "gnb_best.fit(X_train, y_train)\n",
    "my_func.run_time()"
   ]
  },
  {
   "cell_type": "code",
   "execution_count": 28,
   "metadata": {},
   "outputs": [
    {
     "name": "stdout",
     "output_type": "stream",
     "text": [
      "Mean f2 score = 0.506 (+/- 0.037)\n",
      "Mean recall score = 0.663 (+/- 0.158)\n"
     ]
    }
   ],
   "source": [
    "my_func.print_cvs(cross_val_score(gnb_best, X_train, y_train, cv=5, scoring=f2_score), 'f2')\n",
    "my_func.print_cvs(cross_val_score(gnb_best, X_train, y_train, cv=5, scoring='recall'), 'recall')"
   ]
  },
  {
   "cell_type": "code",
   "execution_count": 46,
   "metadata": {},
   "outputs": [
    {
     "name": "stdout",
     "output_type": "stream",
     "text": [
      "Confusion Matrix:\n",
      "                 Predicted Negative  Predicted Positive\n",
      "Actual Negative               90757                7557\n",
      "Actual Positive               18847                4613\n",
      "--------------------\n",
      "Accuracy Scores:\n",
      "                    Score\n",
      "Rate                     \n",
      "F2               0.217574\n",
      "Recall           0.196633\n",
      "Precision (pos)  0.379047\n",
      "Precision (neg)  0.828045\n",
      "Specificity      0.923134\n"
     ]
    }
   ],
   "source": [
    "my_func.classifier_summary(y_train, gnb_best.predict(X_train));"
   ]
  },
  {
   "cell_type": "code",
   "execution_count": 47,
   "metadata": {
    "scrolled": true
   },
   "outputs": [
    {
     "name": "stdout",
     "output_type": "stream",
     "text": [
      "Confusion Matrix:\n",
      "                 Predicted Negative  Predicted Positive\n",
      "Actual Negative               22816                1814\n",
      "Actual Positive                4723                1091\n",
      "--------------------\n",
      "Accuracy Scores:\n",
      "                    Score\n",
      "Rate                     \n",
      "F2               0.208516\n",
      "Recall           0.187650\n",
      "Precision (pos)  0.375559\n",
      "Precision (neg)  0.828498\n",
      "Specificity      0.926350\n"
     ]
    }
   ],
   "source": [
    "my_func.classifier_summary(y_val, gnb_best.predict(X_val));"
   ]
  },
  {
   "cell_type": "markdown",
   "metadata": {},
   "source": [
    "It would seem our model has been severely overfitted, likely as a result of the random state being optimized for the specific size of the folds in our cross validation versus our full training/validation set. Consequently, it may be best to discard to the random state parameter:"
   ]
  },
  {
   "cell_type": "code",
   "execution_count": 55,
   "metadata": {},
   "outputs": [
    {
     "name": "stdout",
     "output_type": "stream",
     "text": [
      "Time: 3.49s \n"
     ]
    }
   ],
   "source": [
    "gnb_best = BaggingClassifier(base_estimator=GaussianNB(),\n",
    "                             max_features=0.3, max_samples=0.2,\n",
    "                             n_estimators=50)\n",
    "\n",
    "my_func.run_time(reset=True)\n",
    "gnb_best.fit(X_train, y_train)\n",
    "my_func.run_time()"
   ]
  },
  {
   "cell_type": "code",
   "execution_count": 49,
   "metadata": {},
   "outputs": [
    {
     "name": "stdout",
     "output_type": "stream",
     "text": [
      "Mean f2 score = 0.459 (+/- 0.074)\n",
      "Mean recall score = 0.558 (+/- 0.370)\n"
     ]
    }
   ],
   "source": [
    "my_func.print_cvs(cross_val_score(gnb_best, X_train, y_train, cv=5, scoring=f2_score), 'f2')\n",
    "my_func.print_cvs(cross_val_score(gnb_best, X_train, y_train, cv=5, scoring='recall'), 'recall')"
   ]
  },
  {
   "cell_type": "code",
   "execution_count": 56,
   "metadata": {},
   "outputs": [
    {
     "name": "stdout",
     "output_type": "stream",
     "text": [
      "Confusion Matrix:\n",
      "                 Predicted Negative  Predicted Positive\n",
      "Actual Negative               78506               19808\n",
      "Actual Positive               13429               10031\n",
      "--------------------\n",
      "Accuracy Scores:\n",
      "                    Score\n",
      "Rate                     \n",
      "F2               0.405526\n",
      "Recall           0.427579\n",
      "Precision (pos)  0.336171\n",
      "Precision (neg)  0.853929\n",
      "Specificity      0.798523\n"
     ]
    }
   ],
   "source": [
    "my_func.classifier_summary(y_train, gnb_best.predict(X_train));"
   ]
  },
  {
   "cell_type": "code",
   "execution_count": 57,
   "metadata": {
    "scrolled": true
   },
   "outputs": [
    {
     "name": "stdout",
     "output_type": "stream",
     "text": [
      "Confusion Matrix:\n",
      "                 Predicted Negative  Predicted Positive\n",
      "Actual Negative               19822                4808\n",
      "Actual Positive                3439                2375\n",
      "--------------------\n",
      "Accuracy Scores:\n",
      "                    Score\n",
      "Rate                     \n",
      "F2               0.390125\n",
      "Recall           0.408497\n",
      "Precision (pos)  0.330642\n",
      "Precision (neg)  0.852156\n",
      "Specificity      0.804791\n"
     ]
    }
   ],
   "source": [
    "my_func.classifier_summary(y_val, gnb_best.predict(X_val));"
   ]
  },
  {
   "cell_type": "markdown",
   "metadata": {},
   "source": [
    "Whilst we see some signficiant improvements in F2/recall over our previously fixed random state model, it is important to note the huge variance of 0.37 in our cross validation scores. Depending on the configuration of th efit, we could potentially see recall in range of 0.2 to 0.8. As seen earlier, fixing random state for consistency simply results in overfitting the specific sample size, which then falls apart when we use the full training set. Consequently, this model is of little use individually compared to the performance of other classifiers. However, as mentioned earlier it may still be of use in ultimate ensemble classifiers."
   ]
  },
  {
   "cell_type": "markdown",
   "metadata": {},
   "source": [
    "### Ensembles"
   ]
  },
  {
   "cell_type": "markdown",
   "metadata": {},
   "source": [
    "##### Hard Voting Classifier"
   ]
  },
  {
   "cell_type": "code",
   "execution_count": 11,
   "metadata": {
    "collapsed": true
   },
   "outputs": [],
   "source": [
    "lr_best = Pipeline([('rfe', RFE(estimator=LogisticRegression(class_weight='balanced'), n_features_to_select=28)),\n",
    "                    ('estimator', LogisticRegression(class_weight='balanced', C=1e-8))])\n",
    "\n",
    "lr_bag_best = Pipeline([('rfe', RFE(estimator=LogisticRegression(class_weight='balanced'), n_features_to_select=28)),\n",
    "                    ('estimator', BaggingClassifier(base_estimator=LogisticRegression(class_weight='balanced', C=1e-8),\n",
    "                                                   max_samples=0.2, max_features=0.8, bootstrap_features=True, bootstrap=True,\n",
    "                                                   n_estimators=10, random_state=998))])"
   ]
  },
  {
   "cell_type": "code",
   "execution_count": 12,
   "metadata": {
    "collapsed": true
   },
   "outputs": [],
   "source": [
    "lsvc_best = Pipeline([('rfe', RFE(estimator=LinearSVC(class_weight='balanced', dual=False), n_features_to_select=31)),\n",
    "                      ('estimator', LinearSVC(class_weight='balanced', dual=False, C=1e-7, ))])\n",
    "\n",
    "lsvc_bag_best = BaggingClassifier(base_estimator=LinearSVC(class_weight='balanced', dual=False, C=1e-7),\n",
    "                             n_estimators=10, max_samples=0.2, max_features=0.8,\n",
    "                             bootstrap_features=False, bootstrap=False,\n",
    "                             random_state=521)"
   ]
  },
  {
   "cell_type": "code",
   "execution_count": 13,
   "metadata": {
    "collapsed": true
   },
   "outputs": [],
   "source": [
    "dtc_best = DecisionTreeClassifier(class_weight='balanced', max_depth=4, max_features=0.4, random_state=356)\n",
    "\n",
    "\n",
    "dtc_bag_best = BaggingClassifier(base_estimator=DecisionTreeClassifier(class_weight='balanced', max_depth=1),\n",
    "                            bootstrap=False, bootstrap_features=False, \n",
    "                            max_features=0.7, max_samples=0.2,\n",
    "                            random_state=321)"
   ]
  },
  {
   "cell_type": "code",
   "execution_count": 14,
   "metadata": {
    "collapsed": true
   },
   "outputs": [],
   "source": [
    "rfc_best = RandomForestClassifier(class_weight='balanced', max_features=0.5, min_samples_leaf=.095,\n",
    "                                  n_estimators=10, random_state=808)\n",
    "\n",
    "\n",
    "rfc_bag_best = BaggingClassifier(base_estimator=RandomForestClassifier(class_weight='balanced', max_depth=5, min_samples_leaf=0.05),\n",
    "                                 max_features=0.2, max_samples=0.3,\n",
    "                                 n_estimators=10, random_state=748)"
   ]
  },
  {
   "cell_type": "code",
   "execution_count": 15,
   "metadata": {
    "collapsed": true
   },
   "outputs": [],
   "source": [
    "gnb_bag_best = BaggingClassifier(base_estimator=GaussianNB(),\n",
    "                                 max_features=0.5, max_samples=0.2,\n",
    "                                 n_estimators=50)"
   ]
  },
  {
   "cell_type": "code",
   "execution_count": 16,
   "metadata": {
    "collapsed": true
   },
   "outputs": [],
   "source": [
    "best_estimators = [('lr', lr_best), ('lr_bag', lr_bag_best),\n",
    "                   ('lsvc', lsvc_best), ('lsvc_bag', lsvc_bag_best),\n",
    "                   ('dtc', dtc_best), ('dtc_bag_best', dtc_bag_best),\n",
    "                   ('rfc', rfc_best), ('rfc_bag', rfc_bag_best),\n",
    "                   ('gnb', gnb_bag_best)]"
   ]
  },
  {
   "cell_type": "code",
   "execution_count": 21,
   "metadata": {},
   "outputs": [
    {
     "name": "stdout",
     "output_type": "stream",
     "text": [
      "Time: 46.58s \n"
     ]
    }
   ],
   "source": [
    "vc_hard = VotingClassifier(estimators=best_estimators, voting='hard', n_jobs=4)\n",
    "\n",
    "my_func.run_time(reset=True)\n",
    "vc_hard.fit(X_train, y_train)\n",
    "my_func.run_time()"
   ]
  },
  {
   "cell_type": "code",
   "execution_count": 77,
   "metadata": {},
   "outputs": [
    {
     "name": "stdout",
     "output_type": "stream",
     "text": [
      "Mean f2 score = 0.560 (+/- 0.005)\n",
      "Mean recall score = 0.741 (+/- 0.023)\n"
     ]
    }
   ],
   "source": [
    "my_func.print_cvs(cross_val_score(vc_hard, X_train, y_train, cv=5, scoring=f2_score), 'f2')\n",
    "my_func.print_cvs(cross_val_score(vc_hard, X_train, y_train, cv=5, scoring='recall'), 'recall')"
   ]
  },
  {
   "cell_type": "code",
   "execution_count": 75,
   "metadata": {},
   "outputs": [
    {
     "name": "stdout",
     "output_type": "stream",
     "text": [
      "Confusion Matrix:\n",
      "                 Predicted Negative  Predicted Positive\n",
      "Actual Negative               55288               43026\n",
      "Actual Positive                6344               17116\n",
      "--------------------\n",
      "Accuracy Scores:\n",
      "                    Score\n",
      "Rate                     \n",
      "F2               0.555779\n",
      "Recall           0.729582\n",
      "Precision (pos)  0.284593\n",
      "Precision (neg)  0.897066\n",
      "Specificity      0.562361\n"
     ]
    }
   ],
   "source": [
    "my_func.classifier_summary(y_train, vc_hard.predict(X_train));"
   ]
  },
  {
   "cell_type": "code",
   "execution_count": 76,
   "metadata": {
    "scrolled": true
   },
   "outputs": [
    {
     "name": "stdout",
     "output_type": "stream",
     "text": [
      "Confusion Matrix:\n",
      "                 Predicted Negative  Predicted Positive\n",
      "Actual Negative               13887               10743\n",
      "Actual Positive                1622                4192\n",
      "--------------------\n",
      "Accuracy Scores:\n",
      "                    Score\n",
      "Rate                     \n",
      "F2               0.548820\n",
      "Recall           0.721018\n",
      "Precision (pos)  0.280683\n",
      "Precision (neg)  0.895416\n",
      "Specificity      0.563825\n"
     ]
    }
   ],
   "source": [
    "my_func.classifier_summary(y_val, vc_hard.predict(X_val));"
   ]
  },
  {
   "cell_type": "markdown",
   "metadata": {},
   "source": [
    "We will explore the possible benefits of exluding certain models from the ensemble (weight of 0) before moving on to intermediate weights:"
   ]
  },
  {
   "cell_type": "code",
   "execution_count": 17,
   "metadata": {},
   "outputs": [
    {
     "data": {
      "text/plain": [
       "511"
      ]
     },
     "execution_count": 17,
     "metadata": {},
     "output_type": "execute_result"
    }
   ],
   "source": [
    "weights = [0, 1]\n",
    "weight_combos = list(product(weights, repeat=len(best_estimators)))[1:]\n",
    "\n",
    "len(weight_combos)"
   ]
  },
  {
   "cell_type": "markdown",
   "metadata": {},
   "source": [
    "Rather than fit every model each time, even when some are weighted as 0, we will pass different lists into the voting classifier so avoid as many unnecessary fits as possible. This is still likely to take a long time to run due to the number of combinations and models still being fit, so we will run this overnight:"
   ]
  },
  {
   "cell_type": "code",
   "execution_count": 18,
   "metadata": {
    "collapsed": true
   },
   "outputs": [],
   "source": [
    "estimator_combo_list = [list(pd.Series(best_estimators)[pd.Series(weight_combos[i]) == 1]) for i in range(len(weight_combos))]"
   ]
  },
  {
   "cell_type": "code",
   "execution_count": 19,
   "metadata": {
    "scrolled": true
   },
   "outputs": [
    {
     "name": "stdout",
     "output_type": "stream",
     "text": [
      "Fitting 3 folds for each of 511 candidates, totalling 1533 fits\n"
     ]
    },
    {
     "name": "stderr",
     "output_type": "stream",
     "text": [
      "[Parallel(n_jobs=4)]: Done  24 tasks      | elapsed:  2.5min\n",
      "[Parallel(n_jobs=4)]: Done 120 tasks      | elapsed: 13.6min\n",
      "[Parallel(n_jobs=4)]: Done 280 tasks      | elapsed: 43.0min\n",
      "[Parallel(n_jobs=4)]: Done 504 tasks      | elapsed: 97.1min\n",
      "[Parallel(n_jobs=4)]: Done 792 tasks      | elapsed: 188.8min\n",
      "[Parallel(n_jobs=4)]: Done 1144 tasks      | elapsed: 292.6min\n"
     ]
    },
    {
     "name": "stdout",
     "output_type": "stream",
     "text": [
      "Time: 450min 60s \n"
     ]
    },
    {
     "name": "stderr",
     "output_type": "stream",
     "text": [
      "[Parallel(n_jobs=4)]: Done 1533 out of 1533 | elapsed: 451.0min finished\n"
     ]
    }
   ],
   "source": [
    "scoring={'F2': f2_score,\n",
    "         'recall':'recall',\n",
    "         'precision':'precision',\n",
    "         'specificity': make_scorer(my_func.binary_specificity)}\n",
    "\n",
    "vc_hard_test = VotingClassifier(estimators=best_estimators, voting='hard')\n",
    "\n",
    "param_grid = {'estimators': estimator_combo_list}\n",
    "\n",
    "vc_hard_gs = GridSearchCV(estimator=vc_hard_test,\n",
    "                          param_grid=param_grid,\n",
    "                          cv=3,\n",
    "                          scoring=scoring,\n",
    "                          refit=False,\n",
    "                          n_jobs=4,\n",
    "                          verbose=3)\n",
    "\n",
    "my_func.run_time(reset=True)\n",
    "vc_hard_gs.fit(X_train, y_train)\n",
    "my_func.run_time()"
   ]
  },
  {
   "cell_type": "code",
   "execution_count": 20,
   "metadata": {},
   "outputs": [
    {
     "name": "stdout",
     "output_type": "stream",
     "text": [
      "--------------------\n",
      "Best F2:\n",
      "Params: {'estimators': [('lr_bag', Pipeline(memory=None,\n",
      "     steps=[('rfe', RFE(estimator=LogisticRegression(C=1.0, class_weight='balanced', dual=False,\n",
      "          fit_intercept=True, intercept_scaling=1, max_iter=100,\n",
      "          multi_class='ovr', n_jobs=1, penalty='l2', random_state=None,\n",
      "          solver='liblinear', tol=0.0001, verbose=0, warm_start=False),..._estimators=10, n_jobs=1, oob_score=False,\n",
      "         random_state=998, verbose=0, warm_start=False))])), ('dtc', DecisionTreeClassifier(class_weight='balanced', criterion='gini', max_depth=4,\n",
      "            max_features=0.4, max_leaf_nodes=None,\n",
      "            min_impurity_decrease=0.0, min_impurity_split=None,\n",
      "            min_samples_leaf=1, min_samples_split=2,\n",
      "            min_weight_fraction_leaf=0.0, presort=False, random_state=356,\n",
      "            splitter='best')), ('gnb', BaggingClassifier(base_estimator=GaussianNB(priors=None), bootstrap=True,\n",
      "         bootstrap_features=False, max_features=0.5, max_samples=0.2,\n",
      "         n_estimators=50, n_jobs=1, oob_score=False, random_state=None,\n",
      "         verbose=0, warm_start=False))]}\n",
      "F2 = 0.574037890604848\n",
      "Recall = 0.8303494719600691\n",
      "Precision = 0.256947983787618\n",
      "Specificity = 0.4268567948593862\n",
      "--------------------\n",
      "Best Recall:\n",
      "Params: {'estimators': [('gnb', BaggingClassifier(base_estimator=GaussianNB(priors=None), bootstrap=True,\n",
      "         bootstrap_features=False, max_features=0.5, max_samples=0.2,\n",
      "         n_estimators=50, n_jobs=1, oob_score=False, random_state=None,\n",
      "         verbose=0, warm_start=False))]}\n",
      "F2 = 0.5478245976335325\n",
      "Recall = 0.9175611737596001\n",
      "Precision = 0.211726959328173\n",
      "Specificity = 0.17378975761342347\n",
      "--------------------\n",
      "Best Precision:\n",
      "Params: {'estimators': [('lr', Pipeline(memory=None,\n",
      "     steps=[('rfe', RFE(estimator=LogisticRegression(C=1.0, class_weight='balanced', dual=False,\n",
      "          fit_intercept=True, intercept_scaling=1, max_iter=100,\n",
      "          multi_class='ovr', n_jobs=1, penalty='l2', random_state=None,\n",
      "          solver='liblinear', tol=0.0001, verbose=0, warm_start=False),...ty='l2', random_state=None,\n",
      "          solver='liblinear', tol=0.0001, verbose=0, warm_start=False))])), ('dtc_bag_best', BaggingClassifier(base_estimator=DecisionTreeClassifier(class_weight='balanced', criterion='gini', max_depth=1,\n",
      "            max_features=None, max_leaf_nodes=None,\n",
      "            min_impurity_decrease=0.0, min_impurity_split=None,\n",
      "            min_samples_leaf=1, min_samples_split=2,\n",
      "            min_weight_fraction_leaf=0.0, presort=False, random_state=None,\n",
      "            splitter='best'),\n",
      "         bootstrap=False, bootstrap_features=False, max_features=0.7,\n",
      "         max_samples=0.2, n_estimators=10, n_jobs=1, oob_score=False,\n",
      "         random_state=321, verbose=0, warm_start=False))]}\n",
      "F2 = 0.5208713581102988\n",
      "Recall = 0.6349955781572983\n",
      "Precision = 0.3031345609955867\n",
      "Specificity = 0.6516772613890304\n",
      "--------------------\n",
      "Best Specificity:\n",
      "Params: {'estimators': [('lr_bag', Pipeline(memory=None,\n",
      "     steps=[('rfe', RFE(estimator=LogisticRegression(C=1.0, class_weight='balanced', dual=False,\n",
      "          fit_intercept=True, intercept_scaling=1, max_iter=100,\n",
      "          multi_class='ovr', n_jobs=1, penalty='l2', random_state=None,\n",
      "          solver='liblinear', tol=0.0001, verbose=0, warm_start=False),..._estimators=10, n_jobs=1, oob_score=False,\n",
      "         random_state=998, verbose=0, warm_start=False))])), ('rfc_bag', BaggingClassifier(base_estimator=RandomForestClassifier(bootstrap=True, class_weight='balanced',\n",
      "            criterion='gini', max_depth=5, max_features='auto',\n",
      "            max_leaf_nodes=None, min_impurity_decrease=0.0,\n",
      "            min_impurity_split=None, min_samples_leaf=0.05,\n",
      "            min_samples_split=2, min_weight_fraction_leaf=0.0,\n",
      "            n_estimators=10, n_jobs=1, oob_score=False, random_state=None,\n",
      "            verbose=0, warm_start=False),\n",
      "         bootstrap=True, bootstrap_features=False, max_features=0.2,\n",
      "         max_samples=0.3, n_estimators=10, n_jobs=1, oob_score=False,\n",
      "         random_state=748, verbose=0, warm_start=False))]}\n",
      "F2 = 0.5143808696011031\n",
      "Recall = 0.6261293214880427\n",
      "Precision = 0.3007524952175314\n",
      "Specificity = 0.6521552867218202\n",
      "--------------------\n"
     ]
    }
   ],
   "source": [
    "gs_summary = my_func.gs_score_summary(vc_hard_gs);"
   ]
  },
  {
   "cell_type": "code",
   "execution_count": 22,
   "metadata": {},
   "outputs": [
    {
     "data": {
      "text/html": [
       "<div>\n",
       "<style>\n",
       "    .dataframe thead tr:only-child th {\n",
       "        text-align: right;\n",
       "    }\n",
       "\n",
       "    .dataframe thead th {\n",
       "        text-align: left;\n",
       "    }\n",
       "\n",
       "    .dataframe tbody tr th {\n",
       "        vertical-align: top;\n",
       "    }\n",
       "</style>\n",
       "<table border=\"1\" class=\"dataframe\">\n",
       "  <thead>\n",
       "    <tr style=\"text-align: right;\">\n",
       "      <th></th>\n",
       "      <th>F2</th>\n",
       "      <th>precision</th>\n",
       "      <th>recall</th>\n",
       "      <th>specificity</th>\n",
       "      <th>estimators</th>\n",
       "    </tr>\n",
       "  </thead>\n",
       "  <tbody>\n",
       "    <tr>\n",
       "      <th>378</th>\n",
       "      <td>0.566349</td>\n",
       "      <td>0.271771</td>\n",
       "      <td>0.776897</td>\n",
       "      <td>0.503204</td>\n",
       "      <td>[(lr, Pipeline(memory=None,\\n     steps=[('rfe...</td>\n",
       "    </tr>\n",
       "    <tr>\n",
       "      <th>210</th>\n",
       "      <td>0.566066</td>\n",
       "      <td>0.272458</td>\n",
       "      <td>0.775149</td>\n",
       "      <td>0.505747</td>\n",
       "      <td>[(lr_bag, Pipeline(memory=None,\\n     steps=[(...</td>\n",
       "    </tr>\n",
       "    <tr>\n",
       "      <th>326</th>\n",
       "      <td>0.566021</td>\n",
       "      <td>0.271690</td>\n",
       "      <td>0.776939</td>\n",
       "      <td>0.502502</td>\n",
       "      <td>[(lr, Pipeline(memory=None,\\n     steps=[('rfe...</td>\n",
       "    </tr>\n",
       "    <tr>\n",
       "      <th>470</th>\n",
       "      <td>0.565298</td>\n",
       "      <td>0.272886</td>\n",
       "      <td>0.772677</td>\n",
       "      <td>0.508107</td>\n",
       "      <td>[(lr, Pipeline(memory=None,\\n     steps=[('rfe...</td>\n",
       "    </tr>\n",
       "    <tr>\n",
       "      <th>432</th>\n",
       "      <td>0.564981</td>\n",
       "      <td>0.272705</td>\n",
       "      <td>0.771824</td>\n",
       "      <td>0.508808</td>\n",
       "      <td>[(lr, Pipeline(memory=None,\\n     steps=[('rfe...</td>\n",
       "    </tr>\n",
       "    <tr>\n",
       "      <th>114</th>\n",
       "      <td>0.564409</td>\n",
       "      <td>0.272557</td>\n",
       "      <td>0.771057</td>\n",
       "      <td>0.508595</td>\n",
       "      <td>[(lsvc, Pipeline(memory=None,\\n     steps=[('r...</td>\n",
       "    </tr>\n",
       "    <tr>\n",
       "      <th>424</th>\n",
       "      <td>0.564359</td>\n",
       "      <td>0.272865</td>\n",
       "      <td>0.770034</td>\n",
       "      <td>0.510344</td>\n",
       "      <td>[(lr, Pipeline(memory=None,\\n     steps=[('rfe...</td>\n",
       "    </tr>\n",
       "    <tr>\n",
       "      <th>232</th>\n",
       "      <td>0.564268</td>\n",
       "      <td>0.273024</td>\n",
       "      <td>0.769480</td>\n",
       "      <td>0.511087</td>\n",
       "      <td>[(lr_bag, Pipeline(memory=None,\\n     steps=[(...</td>\n",
       "    </tr>\n",
       "    <tr>\n",
       "      <th>500</th>\n",
       "      <td>0.564256</td>\n",
       "      <td>0.274246</td>\n",
       "      <td>0.767050</td>\n",
       "      <td>0.515623</td>\n",
       "      <td>[(lr, Pipeline(memory=None,\\n     steps=[('rfe...</td>\n",
       "    </tr>\n",
       "    <tr>\n",
       "      <th>504</th>\n",
       "      <td>0.564243</td>\n",
       "      <td>0.274668</td>\n",
       "      <td>0.766198</td>\n",
       "      <td>0.517200</td>\n",
       "      <td>[(lr, Pipeline(memory=None,\\n     steps=[('rfe...</td>\n",
       "    </tr>\n",
       "  </tbody>\n",
       "</table>\n",
       "</div>"
      ],
      "text/plain": [
       "           F2  precision    recall  specificity  \\\n",
       "378  0.566349   0.271771  0.776897     0.503204   \n",
       "210  0.566066   0.272458  0.775149     0.505747   \n",
       "326  0.566021   0.271690  0.776939     0.502502   \n",
       "470  0.565298   0.272886  0.772677     0.508107   \n",
       "432  0.564981   0.272705  0.771824     0.508808   \n",
       "114  0.564409   0.272557  0.771057     0.508595   \n",
       "424  0.564359   0.272865  0.770034     0.510344   \n",
       "232  0.564268   0.273024  0.769480     0.511087   \n",
       "500  0.564256   0.274246  0.767050     0.515623   \n",
       "504  0.564243   0.274668  0.766198     0.517200   \n",
       "\n",
       "                                            estimators  \n",
       "378  [(lr, Pipeline(memory=None,\\n     steps=[('rfe...  \n",
       "210  [(lr_bag, Pipeline(memory=None,\\n     steps=[(...  \n",
       "326  [(lr, Pipeline(memory=None,\\n     steps=[('rfe...  \n",
       "470  [(lr, Pipeline(memory=None,\\n     steps=[('rfe...  \n",
       "432  [(lr, Pipeline(memory=None,\\n     steps=[('rfe...  \n",
       "114  [(lsvc, Pipeline(memory=None,\\n     steps=[('r...  \n",
       "424  [(lr, Pipeline(memory=None,\\n     steps=[('rfe...  \n",
       "232  [(lr_bag, Pipeline(memory=None,\\n     steps=[(...  \n",
       "500  [(lr, Pipeline(memory=None,\\n     steps=[('rfe...  \n",
       "504  [(lr, Pipeline(memory=None,\\n     steps=[('rfe...  "
      ]
     },
     "execution_count": 22,
     "metadata": {},
     "output_type": "execute_result"
    }
   ],
   "source": [
    "gs_summary[gs_summary['specificity'] >= 0.5].sort_values('F2', ascending=False)[:10]"
   ]
  },
  {
   "cell_type": "code",
   "execution_count": 25,
   "metadata": {},
   "outputs": [
    {
     "data": {
      "text/plain": [
       "[('lr', Pipeline(memory=None,\n",
       "       steps=[('rfe', RFE(estimator=LogisticRegression(C=1.0, class_weight='balanced', dual=False,\n",
       "            fit_intercept=True, intercept_scaling=1, max_iter=100,\n",
       "            multi_class='ovr', n_jobs=1, penalty='l2', random_state=None,\n",
       "            solver='liblinear', tol=0.0001, verbose=0, warm_start=False),...ty='l2', random_state=None,\n",
       "            solver='liblinear', tol=0.0001, verbose=0, warm_start=False))])),\n",
       " ('lsvc', Pipeline(memory=None,\n",
       "       steps=[('rfe', RFE(estimator=LinearSVC(C=1.0, class_weight='balanced', dual=False, fit_intercept=True,\n",
       "       intercept_scaling=1, loss='squared_hinge', max_iter=1000,\n",
       "       multi_class='ovr', penalty='l2', random_state=None, tol=0.0001,\n",
       "       verbose=0),\n",
       "    n_features_to_select=31, step=1, verbose=0)), ...ax_iter=1000,\n",
       "       multi_class='ovr', penalty='l2', random_state=None, tol=0.0001,\n",
       "       verbose=0))])),\n",
       " ('lsvc_bag',\n",
       "  BaggingClassifier(base_estimator=LinearSVC(C=1e-07, class_weight='balanced', dual=False, fit_intercept=True,\n",
       "       intercept_scaling=1, loss='squared_hinge', max_iter=1000,\n",
       "       multi_class='ovr', penalty='l2', random_state=None, tol=0.0001,\n",
       "       verbose=0),\n",
       "           bootstrap=False, bootstrap_features=False, max_features=0.8,\n",
       "           max_samples=0.2, n_estimators=10, n_jobs=1, oob_score=False,\n",
       "           random_state=521, verbose=0, warm_start=False)),\n",
       " ('dtc',\n",
       "  DecisionTreeClassifier(class_weight='balanced', criterion='gini', max_depth=4,\n",
       "              max_features=0.4, max_leaf_nodes=None,\n",
       "              min_impurity_decrease=0.0, min_impurity_split=None,\n",
       "              min_samples_leaf=1, min_samples_split=2,\n",
       "              min_weight_fraction_leaf=0.0, presort=False, random_state=356,\n",
       "              splitter='best')),\n",
       " ('dtc_bag_best',\n",
       "  BaggingClassifier(base_estimator=DecisionTreeClassifier(class_weight='balanced', criterion='gini', max_depth=1,\n",
       "              max_features=None, max_leaf_nodes=None,\n",
       "              min_impurity_decrease=0.0, min_impurity_split=None,\n",
       "              min_samples_leaf=1, min_samples_split=2,\n",
       "              min_weight_fraction_leaf=0.0, presort=False, random_state=None,\n",
       "              splitter='best'),\n",
       "           bootstrap=False, bootstrap_features=False, max_features=0.7,\n",
       "           max_samples=0.2, n_estimators=10, n_jobs=1, oob_score=False,\n",
       "           random_state=321, verbose=0, warm_start=False)),\n",
       " ('rfc_bag',\n",
       "  BaggingClassifier(base_estimator=RandomForestClassifier(bootstrap=True, class_weight='balanced',\n",
       "              criterion='gini', max_depth=5, max_features='auto',\n",
       "              max_leaf_nodes=None, min_impurity_decrease=0.0,\n",
       "              min_impurity_split=None, min_samples_leaf=0.05,\n",
       "              min_samples_split=2, min_weight_fraction_leaf=0.0,\n",
       "              n_estimators=10, n_jobs=1, oob_score=False, random_state=None,\n",
       "              verbose=0, warm_start=False),\n",
       "           bootstrap=True, bootstrap_features=False, max_features=0.2,\n",
       "           max_samples=0.3, n_estimators=10, n_jobs=1, oob_score=False,\n",
       "           random_state=748, verbose=0, warm_start=False)),\n",
       " ('gnb',\n",
       "  BaggingClassifier(base_estimator=GaussianNB(priors=None), bootstrap=True,\n",
       "           bootstrap_features=False, max_features=0.5, max_samples=0.2,\n",
       "           n_estimators=50, n_jobs=1, oob_score=False, random_state=None,\n",
       "           verbose=0, warm_start=False))]"
      ]
     },
     "execution_count": 25,
     "metadata": {},
     "output_type": "execute_result"
    }
   ],
   "source": [
    "gs_summary.loc[378]['estimators']"
   ]
  },
  {
   "cell_type": "code",
   "execution_count": 26,
   "metadata": {
    "collapsed": true
   },
   "outputs": [],
   "source": [
    "best_estimators = [('lr', lr_best),\n",
    "                   ('lsvc', lsvc_best), ('lsvc_bag', lsvc_bag_best),\n",
    "                   ('dtc', dtc_best), ('dtc_bag_best', dtc_bag_best),\n",
    "                   ('rfc_bag', rfc_bag_best),\n",
    "                   ('gnb', gnb_bag_best)]"
   ]
  },
  {
   "cell_type": "code",
   "execution_count": 27,
   "metadata": {},
   "outputs": [
    {
     "name": "stdout",
     "output_type": "stream",
     "text": [
      "Time: 37.00s \n"
     ]
    }
   ],
   "source": [
    "vc_hard = VotingClassifier(estimators=best_estimators, voting='hard', n_jobs=4)\n",
    "\n",
    "my_func.run_time(reset=True)\n",
    "vc_hard.fit(X_train, y_train)\n",
    "my_func.run_time()"
   ]
  },
  {
   "cell_type": "code",
   "execution_count": 28,
   "metadata": {},
   "outputs": [
    {
     "name": "stdout",
     "output_type": "stream",
     "text": [
      "Mean f2 score = 0.565 (+/- 0.003)\n",
      "Mean recall score = 0.776 (+/- 0.004)\n"
     ]
    }
   ],
   "source": [
    "my_func.print_cvs(cross_val_score(vc_hard, X_train, y_train, cv=5, scoring=f2_score), 'f2')\n",
    "my_func.print_cvs(cross_val_score(vc_hard, X_train, y_train, cv=5, scoring='recall'), 'recall')"
   ]
  },
  {
   "cell_type": "code",
   "execution_count": 29,
   "metadata": {},
   "outputs": [
    {
     "name": "stdout",
     "output_type": "stream",
     "text": [
      "Confusion Matrix:\n",
      "                 Predicted Negative  Predicted Positive\n",
      "Actual Negative               51609               46705\n",
      "Actual Positive                5616               17844\n",
      "--------------------\n",
      "Accuracy Scores:\n",
      "                    Score\n",
      "Rate                     \n",
      "F2               0.563297\n",
      "Recall           0.760614\n",
      "Precision (pos)  0.276441\n",
      "Precision (neg)  0.901861\n",
      "Specificity      0.524940\n"
     ]
    }
   ],
   "source": [
    "my_func.classifier_summary(y_train, vc_hard.predict(X_train));"
   ]
  },
  {
   "cell_type": "code",
   "execution_count": 30,
   "metadata": {
    "scrolled": true
   },
   "outputs": [
    {
     "name": "stdout",
     "output_type": "stream",
     "text": [
      "Confusion Matrix:\n",
      "                 Predicted Negative  Predicted Positive\n",
      "Actual Negative               12977               11653\n",
      "Actual Positive                1409                4405\n",
      "--------------------\n",
      "Accuracy Scores:\n",
      "                    Score\n",
      "Rate                     \n",
      "F2               0.560233\n",
      "Recall           0.757654\n",
      "Precision (pos)  0.274318\n",
      "Precision (neg)  0.902058\n",
      "Specificity      0.526878\n"
     ]
    }
   ],
   "source": [
    "my_func.classifier_summary(y_val, vc_hard.predict(X_val));"
   ]
  },
  {
   "cell_type": "markdown",
   "metadata": {},
   "source": [
    "Next we will see if further tweaking the weights of our remaining base estimators can yield any additional improvements:"
   ]
  },
  {
   "cell_type": "code",
   "execution_count": 32,
   "metadata": {},
   "outputs": [
    {
     "data": {
      "text/plain": [
       "127"
      ]
     },
     "execution_count": 32,
     "metadata": {},
     "output_type": "execute_result"
    }
   ],
   "source": [
    "weights = [0.5, 1]\n",
    "weight_combos = list(product(weights, repeat=len(best_estimators)))[1:]\n",
    "\n",
    "len(weight_combos)"
   ]
  },
  {
   "cell_type": "code",
   "execution_count": 33,
   "metadata": {},
   "outputs": [
    {
     "name": "stdout",
     "output_type": "stream",
     "text": [
      "Fitting 3 folds for each of 127 candidates, totalling 381 fits\n"
     ]
    },
    {
     "name": "stderr",
     "output_type": "stream",
     "text": [
      "[Parallel(n_jobs=4)]: Done  33 tasks      | elapsed: 16.5min\n",
      "[Parallel(n_jobs=4)]: Done 154 tasks      | elapsed: 70.3min\n",
      "[Parallel(n_jobs=4)]: Done 357 tasks      | elapsed: 204.5min\n"
     ]
    },
    {
     "name": "stdout",
     "output_type": "stream",
     "text": [
      "Time: 214min 58s \n"
     ]
    },
    {
     "name": "stderr",
     "output_type": "stream",
     "text": [
      "[Parallel(n_jobs=4)]: Done 381 out of 381 | elapsed: 215.0min finished\n"
     ]
    }
   ],
   "source": [
    "scoring={'F2': f2_score,\n",
    "         'recall':'recall',\n",
    "         'precision':'precision',\n",
    "         'specificity': make_scorer(my_func.binary_specificity)}\n",
    "\n",
    "param_grid = {'weights': weight_combos}\n",
    "\n",
    "vc_hard_gs_2 = GridSearchCV(estimator=vc_hard,\n",
    "                          param_grid=param_grid,\n",
    "                          cv=3,\n",
    "                          scoring=scoring,\n",
    "                          refit=False,\n",
    "                          n_jobs=4,\n",
    "                          verbose=2)\n",
    "\n",
    "my_func.run_time(reset=True)\n",
    "vc_hard_gs_2.fit(X_train, y_train)\n",
    "my_func.run_time()"
   ]
  },
  {
   "cell_type": "code",
   "execution_count": 40,
   "metadata": {},
   "outputs": [
    {
     "name": "stdout",
     "output_type": "stream",
     "text": [
      "--------------------\n",
      "Best F2:\n",
      "Params: {'weights': (0.5, 1, 0.5, 1, 1, 0.5, 1)}\n",
      "F2 = 0.5708101459008253\n",
      "Recall = 0.802642812350765\n",
      "Precision = 0.26485968825442713\n",
      "Specificity = 0.46831582728346566\n",
      "--------------------\n",
      "Best Recall:\n",
      "Params: {'weights': (0.5, 0.5, 0.5, 1, 0.5, 0.5, 1)}\n",
      "F2 = 0.5706436085295054\n",
      "Recall = 0.8040067956165665\n",
      "Precision = 0.26407406129180405\n",
      "Specificity = 0.4653050549230843\n",
      "--------------------\n",
      "Best Precision:\n",
      "Params: {'weights': (0.5, 0.5, 0.5, 0.5, 1, 0.5, 0.5)}\n",
      "F2 = 0.5536680596799513\n",
      "Recall = 0.7276212271468294\n",
      "Precision = 0.28325133314029527\n",
      "Specificity = 0.5605304988098141\n",
      "--------------------\n",
      "Best Specificity:\n",
      "Params: {'weights': (0.5, 0.5, 0.5, 0.5, 1, 0.5, 0.5)}\n",
      "F2 = 0.5536680596799513\n",
      "Recall = 0.7276212271468294\n",
      "Precision = 0.28325133314029527\n",
      "Specificity = 0.5605304988098141\n",
      "--------------------\n"
     ]
    }
   ],
   "source": [
    "gs_summary_2 = my_func.gs_score_summary(vc_hard_gs_2);"
   ]
  },
  {
   "cell_type": "code",
   "execution_count": 41,
   "metadata": {},
   "outputs": [
    {
     "data": {
      "text/html": [
       "<div>\n",
       "<style>\n",
       "    .dataframe thead tr:only-child th {\n",
       "        text-align: right;\n",
       "    }\n",
       "\n",
       "    .dataframe thead th {\n",
       "        text-align: left;\n",
       "    }\n",
       "\n",
       "    .dataframe tbody tr th {\n",
       "        vertical-align: top;\n",
       "    }\n",
       "</style>\n",
       "<table border=\"1\" class=\"dataframe\">\n",
       "  <thead>\n",
       "    <tr style=\"text-align: right;\">\n",
       "      <th></th>\n",
       "      <th>F2</th>\n",
       "      <th>precision</th>\n",
       "      <th>recall</th>\n",
       "      <th>specificity</th>\n",
       "      <th>weights</th>\n",
       "    </tr>\n",
       "  </thead>\n",
       "  <tbody>\n",
       "    <tr>\n",
       "      <th>67</th>\n",
       "      <td>0.567430</td>\n",
       "      <td>0.271567</td>\n",
       "      <td>0.779838</td>\n",
       "      <td>0.500865</td>\n",
       "      <td>(1, 0.5, 0.5, 0.5, 1, 0.5, 0.5)</td>\n",
       "    </tr>\n",
       "    <tr>\n",
       "      <th>64</th>\n",
       "      <td>0.567308</td>\n",
       "      <td>0.271553</td>\n",
       "      <td>0.779838</td>\n",
       "      <td>0.500509</td>\n",
       "      <td>(1, 0.5, 0.5, 0.5, 0.5, 0.5, 1)</td>\n",
       "    </tr>\n",
       "    <tr>\n",
       "      <th>39</th>\n",
       "      <td>0.567092</td>\n",
       "      <td>0.271541</td>\n",
       "      <td>0.779113</td>\n",
       "      <td>0.501251</td>\n",
       "      <td>(0.5, 1, 0.5, 1, 0.5, 0.5, 0.5)</td>\n",
       "    </tr>\n",
       "    <tr>\n",
       "      <th>107</th>\n",
       "      <td>0.566959</td>\n",
       "      <td>0.271243</td>\n",
       "      <td>0.779412</td>\n",
       "      <td>0.500305</td>\n",
       "      <td>(1, 1, 0.5, 1, 1, 0.5, 0.5)</td>\n",
       "    </tr>\n",
       "    <tr>\n",
       "      <th>92</th>\n",
       "      <td>0.566866</td>\n",
       "      <td>0.271262</td>\n",
       "      <td>0.779156</td>\n",
       "      <td>0.500519</td>\n",
       "      <td>(1, 0.5, 1, 1, 1, 0.5, 1)</td>\n",
       "    </tr>\n",
       "  </tbody>\n",
       "</table>\n",
       "</div>"
      ],
      "text/plain": [
       "           F2  precision    recall  specificity  \\\n",
       "67   0.567430   0.271567  0.779838     0.500865   \n",
       "64   0.567308   0.271553  0.779838     0.500509   \n",
       "39   0.567092   0.271541  0.779113     0.501251   \n",
       "107  0.566959   0.271243  0.779412     0.500305   \n",
       "92   0.566866   0.271262  0.779156     0.500519   \n",
       "\n",
       "                             weights  \n",
       "67   (1, 0.5, 0.5, 0.5, 1, 0.5, 0.5)  \n",
       "64   (1, 0.5, 0.5, 0.5, 0.5, 0.5, 1)  \n",
       "39   (0.5, 1, 0.5, 1, 0.5, 0.5, 0.5)  \n",
       "107      (1, 1, 0.5, 1, 1, 0.5, 0.5)  \n",
       "92         (1, 0.5, 1, 1, 1, 0.5, 1)  "
      ]
     },
     "execution_count": 41,
     "metadata": {},
     "output_type": "execute_result"
    }
   ],
   "source": [
    "gs_summary_2[gs_summary_2['specificity'] >= 0.5].sort_values('F2', ascending=False)[:5]"
   ]
  },
  {
   "cell_type": "code",
   "execution_count": 42,
   "metadata": {},
   "outputs": [
    {
     "name": "stdout",
     "output_type": "stream",
     "text": [
      "Time: 37.44s \n"
     ]
    }
   ],
   "source": [
    "vc_hard = VotingClassifier(estimators=best_estimators, voting='hard', weights=(1, 0.5, 0.5, 0.5, 1, 0.5, 0.5), n_jobs=4)\n",
    "\n",
    "my_func.run_time(reset=True)\n",
    "vc_hard.fit(X_train, y_train)\n",
    "my_func.run_time()"
   ]
  },
  {
   "cell_type": "code",
   "execution_count": 43,
   "metadata": {},
   "outputs": [
    {
     "name": "stdout",
     "output_type": "stream",
     "text": [
      "Mean recall score = 0.776 (+/- 0.007)\n"
     ]
    }
   ],
   "source": [
    "my_func.print_cvs(cross_val_score(vc_hard, X_train, y_train, cv=5, scoring='recall'), 'recall')"
   ]
  },
  {
   "cell_type": "code",
   "execution_count": 44,
   "metadata": {},
   "outputs": [
    {
     "name": "stdout",
     "output_type": "stream",
     "text": [
      "Confusion Matrix:\n",
      "                 Predicted Negative  Predicted Positive\n",
      "Actual Negative               50530               47784\n",
      "Actual Positive                5427               18033\n",
      "--------------------\n",
      "Accuracy Scores:\n",
      "                    Score\n",
      "Rate                     \n",
      "F2               0.564742\n",
      "Recall           0.768670\n",
      "Precision (pos)  0.273987\n",
      "Precision (neg)  0.903015\n",
      "Specificity      0.513965\n"
     ]
    }
   ],
   "source": [
    "my_func.classifier_summary(y_train, vc_hard.predict(X_train));"
   ]
  },
  {
   "cell_type": "code",
   "execution_count": 45,
   "metadata": {},
   "outputs": [
    {
     "name": "stdout",
     "output_type": "stream",
     "text": [
      "Confusion Matrix:\n",
      "                 Predicted Negative  Predicted Positive\n",
      "Actual Negative               12705               11925\n",
      "Actual Positive                1363                4451\n",
      "--------------------\n",
      "Accuracy Scores:\n",
      "                    Score\n",
      "Rate                     \n",
      "F2               0.561541\n",
      "Recall           0.765566\n",
      "Precision (pos)  0.271800\n",
      "Precision (neg)  0.903113\n",
      "Specificity      0.515834\n"
     ]
    }
   ],
   "source": [
    "my_func.classifier_summary(y_val, vc_hard.predict(X_val));"
   ]
  },
  {
   "cell_type": "markdown",
   "metadata": {},
   "source": [
    "This achieves slightly better performance than our previous ensemble with uniform weights."
   ]
  },
  {
   "cell_type": "markdown",
   "metadata": {},
   "source": [
    "##### Soft Voting Classifier"
   ]
  },
  {
   "cell_type": "markdown",
   "metadata": {},
   "source": [
    "In order to proceed with a soft voting classifier, we need the SVC to return class probabilities. This is only possible with the regular SVC model, but this is less efficient than LinearSVC. We will see how runtimes look for fitting the linear SVC model on its own:"
   ]
  },
  {
   "cell_type": "code",
   "execution_count": 21,
   "metadata": {},
   "outputs": [
    {
     "name": "stdout",
     "output_type": "stream",
     "text": [
      "Time: 19min 35s \n"
     ]
    }
   ],
   "source": [
    "svc_best = Pipeline([('rfe', RFE(estimator=LinearSVC(class_weight='balanced', dual=False), n_features_to_select=31)),\n",
    "                      ('estimator', SVC(kernel='linear', class_weight='balanced', C=1e-7, cache_size=2000))])\n",
    "\n",
    "my_func.run_time(reset=True)\n",
    "svc_best.fit(X_train, y_train)\n",
    "my_func.run_time()"
   ]
  },
  {
   "cell_type": "markdown",
   "metadata": {},
   "source": [
    "Fitting the soft classifier with the Linear SVC included will inevitably take a while to process due to the time it takes the SVC model to fit and produce, especially since the above fit does not even take into consideration the time needed for returning the probabilities. We will start with a soft voting classifier which excludes the linear SVC model:"
   ]
  },
  {
   "cell_type": "code",
   "execution_count": 46,
   "metadata": {},
   "outputs": [
    {
     "name": "stdout",
     "output_type": "stream",
     "text": [
      "Time: 41.54s \n"
     ]
    }
   ],
   "source": [
    "best_estimators = [('lr', lr_best), ('lr_bag', lr_bag_best),\n",
    "                   ('dtc', dtc_best), ('dtc_bag_best', dtc_bag_best),\n",
    "                   ('rfc', rfc_best), ('rfc_bag', rfc_bag_best),\n",
    "                   ('gnb', gnb_bag_best)]\n",
    "\n",
    "vc_soft = VotingClassifier(estimators=best_estimators, voting='soft', n_jobs=4)\n",
    "\n",
    "my_func.run_time(reset=True)\n",
    "vc_soft.fit(X_train, y_train)\n",
    "my_func.run_time()"
   ]
  },
  {
   "cell_type": "code",
   "execution_count": 47,
   "metadata": {},
   "outputs": [
    {
     "name": "stdout",
     "output_type": "stream",
     "text": [
      "Mean recall score = 0.755 (+/- 0.020)\n"
     ]
    }
   ],
   "source": [
    "my_func.print_cvs(cross_val_score(vc_soft, X_train, y_train, cv=5, scoring='recall'), 'recall')"
   ]
  },
  {
   "cell_type": "code",
   "execution_count": 48,
   "metadata": {},
   "outputs": [
    {
     "name": "stdout",
     "output_type": "stream",
     "text": [
      "Confusion Matrix:\n",
      "                 Predicted Negative  Predicted Positive\n",
      "Actual Negative               58496               39818\n",
      "Actual Positive                7312               16148\n",
      "--------------------\n",
      "Accuracy Scores:\n",
      "                    Score\n",
      "Rate                     \n",
      "F2               0.538964\n",
      "Recall           0.688321\n",
      "Precision (pos)  0.288532\n",
      "Precision (neg)  0.888889\n",
      "Specificity      0.594992\n"
     ]
    }
   ],
   "source": [
    "my_func.classifier_summary(y_train, vc_soft.predict(X_train));"
   ]
  },
  {
   "cell_type": "code",
   "execution_count": 49,
   "metadata": {},
   "outputs": [
    {
     "name": "stdout",
     "output_type": "stream",
     "text": [
      "Confusion Matrix:\n",
      "                 Predicted Negative  Predicted Positive\n",
      "Actual Negative               14675                9955\n",
      "Actual Positive                1843                3971\n",
      "--------------------\n",
      "Accuracy Scores:\n",
      "                    Score\n",
      "Rate                     \n",
      "F2               0.533995\n",
      "Recall           0.683007\n",
      "Precision (pos)  0.285150\n",
      "Precision (neg)  0.888425\n",
      "Specificity      0.595818\n"
     ]
    }
   ],
   "source": [
    "my_func.classifier_summary(y_val, vc_soft.predict(X_val));"
   ]
  },
  {
   "cell_type": "markdown",
   "metadata": {},
   "source": [
    "At first glance, the soft voting classifier seems to perform significantly worse than our hard voting classifier. We will see if we can improve this by adjusting weights:"
   ]
  },
  {
   "cell_type": "code",
   "execution_count": 51,
   "metadata": {},
   "outputs": [
    {
     "data": {
      "text/plain": [
       "127"
      ]
     },
     "execution_count": 51,
     "metadata": {},
     "output_type": "execute_result"
    }
   ],
   "source": [
    "weights = [0, 1]\n",
    "weight_combos = list(product(weights, repeat=len(best_estimators)))[1:]\n",
    "\n",
    "len(weight_combos)"
   ]
  },
  {
   "cell_type": "code",
   "execution_count": 52,
   "metadata": {
    "collapsed": true
   },
   "outputs": [],
   "source": [
    "estimator_combo_list = [list(pd.Series(best_estimators)[pd.Series(weight_combos[i]) == 1]) for i in range(len(weight_combos))]"
   ]
  },
  {
   "cell_type": "code",
   "execution_count": 53,
   "metadata": {
    "scrolled": true
   },
   "outputs": [
    {
     "name": "stdout",
     "output_type": "stream",
     "text": [
      "Fitting 3 folds for each of 127 candidates, totalling 381 fits\n"
     ]
    },
    {
     "name": "stderr",
     "output_type": "stream",
     "text": [
      "[Parallel(n_jobs=4)]: Done  24 tasks      | elapsed:  2.5min\n",
      "[Parallel(n_jobs=4)]: Done 120 tasks      | elapsed: 16.1min\n",
      "[Parallel(n_jobs=4)]: Done 280 tasks      | elapsed: 52.3min\n"
     ]
    },
    {
     "name": "stdout",
     "output_type": "stream",
     "text": [
      "Time: 88min 36s \n"
     ]
    },
    {
     "name": "stderr",
     "output_type": "stream",
     "text": [
      "[Parallel(n_jobs=4)]: Done 381 out of 381 | elapsed: 88.6min finished\n"
     ]
    }
   ],
   "source": [
    "scoring={'F2': f2_score,\n",
    "         'recall':'recall',\n",
    "         'precision':'precision',\n",
    "         'specificity': make_scorer(my_func.binary_specificity)}\n",
    "\n",
    "vc_soft_test = VotingClassifier(estimators=best_estimators, voting='soft')\n",
    "\n",
    "param_grid = {'estimators': estimator_combo_list}\n",
    "\n",
    "vc_soft_gs = GridSearchCV(estimator=vc_soft_test,\n",
    "                          param_grid=param_grid,\n",
    "                          cv=3,\n",
    "                          scoring=scoring,\n",
    "                          refit=False,\n",
    "                          n_jobs=4,\n",
    "                          verbose=3)\n",
    "\n",
    "my_func.run_time(reset=True)\n",
    "vc_soft_gs.fit(X_train, y_train)\n",
    "my_func.run_time()"
   ]
  },
  {
   "cell_type": "code",
   "execution_count": 55,
   "metadata": {},
   "outputs": [
    {
     "name": "stdout",
     "output_type": "stream",
     "text": [
      "--------------------\n",
      "Best F2:\n",
      "Params: {'estimators': [('lr', Pipeline(memory=None,\n",
      "     steps=[('rfe', RFE(estimator=LogisticRegression(C=1.0, class_weight='balanced', dual=False,\n",
      "          fit_intercept=True, intercept_scaling=1, max_iter=100,\n",
      "          multi_class='ovr', n_jobs=1, penalty='l2', random_state=None,\n",
      "          solver='liblinear', tol=0.0001, verbose=0, warm_start=False),...ty='l2', random_state=None,\n",
      "          solver='liblinear', tol=0.0001, verbose=0, warm_start=False))])), ('lr_bag', Pipeline(memory=None,\n",
      "     steps=[('rfe', RFE(estimator=LogisticRegression(C=1.0, class_weight='balanced', dual=False,\n",
      "          fit_intercept=True, intercept_scaling=1, max_iter=100,\n",
      "          multi_class='ovr', n_jobs=1, penalty='l2', random_state=None,\n",
      "          solver='liblinear', tol=0.0001, verbose=0, warm_start=False),..._estimators=10, n_jobs=1, oob_score=False,\n",
      "         random_state=998, verbose=0, warm_start=False))])), ('rfc', RandomForestClassifier(bootstrap=True, class_weight='balanced',\n",
      "            criterion='gini', max_depth=None, max_features=0.5,\n",
      "            max_leaf_nodes=None, min_impurity_decrease=0.0,\n",
      "            min_impurity_split=None, min_samples_leaf=0.095,\n",
      "            min_samples_split=2, min_weight_fraction_leaf=0.0,\n",
      "            n_estimators=10, n_jobs=1, oob_score=False, random_state=808,\n",
      "            verbose=0, warm_start=False)), ('gnb', BaggingClassifier(base_estimator=GaussianNB(priors=None), bootstrap=True,\n",
      "         bootstrap_features=False, max_features=0.5, max_samples=0.2,\n",
      "         n_estimators=50, n_jobs=1, oob_score=False, random_state=None,\n",
      "         verbose=0, warm_start=False))]}\n",
      "F2 = 0.5701519054741526\n",
      "Recall = 0.8838024724178792\n",
      "Precision = 0.23603529573229148\n",
      "Specificity = 0.31587578500503677\n",
      "--------------------\n",
      "Best Recall:\n",
      "Params: {'estimators': [('lr_bag', Pipeline(memory=None,\n",
      "     steps=[('rfe', RFE(estimator=LogisticRegression(C=1.0, class_weight='balanced', dual=False,\n",
      "          fit_intercept=True, intercept_scaling=1, max_iter=100,\n",
      "          multi_class='ovr', n_jobs=1, penalty='l2', random_state=None,\n",
      "          solver='liblinear', tol=0.0001, verbose=0, warm_start=False),..._estimators=10, n_jobs=1, oob_score=False,\n",
      "         random_state=998, verbose=0, warm_start=False))])), ('rfc_bag', BaggingClassifier(base_estimator=RandomForestClassifier(bootstrap=True, class_weight='balanced',\n",
      "            criterion='gini', max_depth=5, max_features='auto',\n",
      "            max_leaf_nodes=None, min_impurity_decrease=0.0,\n",
      "            min_impurity_split=None, min_samples_leaf=0.05,\n",
      "            min_samples_split=2, min_weight_fraction_leaf=0.0,\n",
      "            n_estimators=10, n_jobs=1, oob_score=False, random_state=None,\n",
      "            verbose=0, warm_start=False),\n",
      "         bootstrap=True, bootstrap_features=False, max_features=0.2,\n",
      "         max_samples=0.3, n_estimators=10, n_jobs=1, oob_score=False,\n",
      "         random_state=748, verbose=0, warm_start=False)), ('gnb', BaggingClassifier(base_estimator=GaussianNB(priors=None), bootstrap=True,\n",
      "         bootstrap_features=False, max_features=0.5, max_samples=0.2,\n",
      "         n_estimators=50, n_jobs=1, oob_score=False, random_state=None,\n",
      "         verbose=0, warm_start=False))]}\n",
      "F2 = 0.5460657814931679\n",
      "Recall = 0.9796675517352865\n",
      "Precision = 0.19712223931099918\n",
      "Specificity = 0.047745005225408296\n",
      "--------------------\n",
      "Best Precision:\n",
      "Params: {'estimators': [('dtc', DecisionTreeClassifier(class_weight='balanced', criterion='gini', max_depth=4,\n",
      "            max_features=0.4, max_leaf_nodes=None,\n",
      "            min_impurity_decrease=0.0, min_impurity_split=None,\n",
      "            min_samples_leaf=1, min_samples_split=2,\n",
      "            min_weight_fraction_leaf=0.0, presort=False, random_state=356,\n",
      "            splitter='best')), ('dtc_bag_best', BaggingClassifier(base_estimator=DecisionTreeClassifier(class_weight='balanced', criterion='gini', max_depth=1,\n",
      "            max_features=None, max_leaf_nodes=None,\n",
      "            min_impurity_decrease=0.0, min_impurity_split=None,\n",
      "            min_samples_leaf=1, min_samples_split=2,\n",
      "            min_weight_fraction_leaf=0.0, presort=False, random_state=None,\n",
      "            splitter='best'),\n",
      "         bootstrap=False, bootstrap_features=False, max_features=0.7,\n",
      "         max_samples=0.2, n_estimators=10, n_jobs=1, oob_score=False,\n",
      "         random_state=321, verbose=0, warm_start=False))]}\n",
      "F2 = 0.5366917025075159\n",
      "Recall = 0.6919437949222695\n",
      "Precision = 0.28303156781574595\n",
      "Specificity = 0.5813923172287825\n",
      "--------------------\n",
      "Best Specificity:\n",
      "Params: {'estimators': [('dtc', DecisionTreeClassifier(class_weight='balanced', criterion='gini', max_depth=4,\n",
      "            max_features=0.4, max_leaf_nodes=None,\n",
      "            min_impurity_decrease=0.0, min_impurity_split=None,\n",
      "            min_samples_leaf=1, min_samples_split=2,\n",
      "            min_weight_fraction_leaf=0.0, presort=False, random_state=356,\n",
      "            splitter='best')), ('dtc_bag_best', BaggingClassifier(base_estimator=DecisionTreeClassifier(class_weight='balanced', criterion='gini', max_depth=1,\n",
      "            max_features=None, max_leaf_nodes=None,\n",
      "            min_impurity_decrease=0.0, min_impurity_split=None,\n",
      "            min_samples_leaf=1, min_samples_split=2,\n",
      "            min_weight_fraction_leaf=0.0, presort=False, random_state=None,\n",
      "            splitter='best'),\n",
      "         bootstrap=False, bootstrap_features=False, max_features=0.7,\n",
      "         max_samples=0.2, n_estimators=10, n_jobs=1, oob_score=False,\n",
      "         random_state=321, verbose=0, warm_start=False))]}\n",
      "F2 = 0.5366917025075159\n",
      "Recall = 0.6919437949222695\n",
      "Precision = 0.28303156781574595\n",
      "Specificity = 0.5813923172287825\n",
      "--------------------\n"
     ]
    }
   ],
   "source": [
    "vc_soft_gs_summary = my_func.gs_score_summary(vc_soft_gs);"
   ]
  },
  {
   "cell_type": "code",
   "execution_count": 57,
   "metadata": {},
   "outputs": [
    {
     "data": {
      "text/html": [
       "<div>\n",
       "<style>\n",
       "    .dataframe thead tr:only-child th {\n",
       "        text-align: right;\n",
       "    }\n",
       "\n",
       "    .dataframe thead th {\n",
       "        text-align: left;\n",
       "    }\n",
       "\n",
       "    .dataframe tbody tr th {\n",
       "        vertical-align: top;\n",
       "    }\n",
       "</style>\n",
       "<table border=\"1\" class=\"dataframe\">\n",
       "  <thead>\n",
       "    <tr style=\"text-align: right;\">\n",
       "      <th></th>\n",
       "      <th>F2</th>\n",
       "      <th>precision</th>\n",
       "      <th>recall</th>\n",
       "      <th>specificity</th>\n",
       "      <th>estimators</th>\n",
       "    </tr>\n",
       "  </thead>\n",
       "  <tbody>\n",
       "    <tr>\n",
       "      <th>122</th>\n",
       "      <td>0.560162</td>\n",
       "      <td>0.269750</td>\n",
       "      <td>0.766453</td>\n",
       "      <td>0.504882</td>\n",
       "      <td>[(lr, Pipeline(memory=None,\\n     steps=[('rfe...</td>\n",
       "    </tr>\n",
       "    <tr>\n",
       "      <th>30</th>\n",
       "      <td>0.559535</td>\n",
       "      <td>0.269915</td>\n",
       "      <td>0.764791</td>\n",
       "      <td>0.506144</td>\n",
       "      <td>[(dtc, DecisionTreeClassifier(class_weight='ba...</td>\n",
       "    </tr>\n",
       "    <tr>\n",
       "      <th>60</th>\n",
       "      <td>0.559266</td>\n",
       "      <td>0.270934</td>\n",
       "      <td>0.762020</td>\n",
       "      <td>0.510680</td>\n",
       "      <td>[(lr_bag, Pipeline(memory=None,\\n     steps=[(...</td>\n",
       "    </tr>\n",
       "    <tr>\n",
       "      <th>95</th>\n",
       "      <td>0.558711</td>\n",
       "      <td>0.277600</td>\n",
       "      <td>0.748124</td>\n",
       "      <td>0.535427</td>\n",
       "      <td>[(lr, Pipeline(memory=None,\\n     steps=[('rfe...</td>\n",
       "    </tr>\n",
       "    <tr>\n",
       "      <th>63</th>\n",
       "      <td>0.558602</td>\n",
       "      <td>0.278218</td>\n",
       "      <td>0.746760</td>\n",
       "      <td>0.537706</td>\n",
       "      <td>[(lr, Pipeline(memory=None,\\n     steps=[('rfe...</td>\n",
       "    </tr>\n",
       "  </tbody>\n",
       "</table>\n",
       "</div>"
      ],
      "text/plain": [
       "           F2  precision    recall  specificity  \\\n",
       "122  0.560162   0.269750  0.766453     0.504882   \n",
       "30   0.559535   0.269915  0.764791     0.506144   \n",
       "60   0.559266   0.270934  0.762020     0.510680   \n",
       "95   0.558711   0.277600  0.748124     0.535427   \n",
       "63   0.558602   0.278218  0.746760     0.537706   \n",
       "\n",
       "                                            estimators  \n",
       "122  [(lr, Pipeline(memory=None,\\n     steps=[('rfe...  \n",
       "30   [(dtc, DecisionTreeClassifier(class_weight='ba...  \n",
       "60   [(lr_bag, Pipeline(memory=None,\\n     steps=[(...  \n",
       "95   [(lr, Pipeline(memory=None,\\n     steps=[('rfe...  \n",
       "63   [(lr, Pipeline(memory=None,\\n     steps=[('rfe...  "
      ]
     },
     "execution_count": 57,
     "metadata": {},
     "output_type": "execute_result"
    }
   ],
   "source": [
    "vc_soft_gs_summary[vc_soft_gs_summary['specificity'] >= 0.5].sort_values('F2', ascending=False)[:5]"
   ]
  },
  {
   "cell_type": "code",
   "execution_count": 58,
   "metadata": {
    "scrolled": true
   },
   "outputs": [
    {
     "data": {
      "text/plain": [
       "[('lr', Pipeline(memory=None,\n",
       "       steps=[('rfe', RFE(estimator=LogisticRegression(C=1.0, class_weight='balanced', dual=False,\n",
       "            fit_intercept=True, intercept_scaling=1, max_iter=100,\n",
       "            multi_class='ovr', n_jobs=1, penalty='l2', random_state=None,\n",
       "            solver='liblinear', tol=0.0001, verbose=0, warm_start=False),...ty='l2', random_state=None,\n",
       "            solver='liblinear', tol=0.0001, verbose=0, warm_start=False))])),\n",
       " ('lr_bag', Pipeline(memory=None,\n",
       "       steps=[('rfe', RFE(estimator=LogisticRegression(C=1.0, class_weight='balanced', dual=False,\n",
       "            fit_intercept=True, intercept_scaling=1, max_iter=100,\n",
       "            multi_class='ovr', n_jobs=1, penalty='l2', random_state=None,\n",
       "            solver='liblinear', tol=0.0001, verbose=0, warm_start=False),..._estimators=10, n_jobs=1, oob_score=False,\n",
       "           random_state=998, verbose=0, warm_start=False))])),\n",
       " ('dtc',\n",
       "  DecisionTreeClassifier(class_weight='balanced', criterion='gini', max_depth=4,\n",
       "              max_features=0.4, max_leaf_nodes=None,\n",
       "              min_impurity_decrease=0.0, min_impurity_split=None,\n",
       "              min_samples_leaf=1, min_samples_split=2,\n",
       "              min_weight_fraction_leaf=0.0, presort=False, random_state=356,\n",
       "              splitter='best')),\n",
       " ('dtc_bag_best',\n",
       "  BaggingClassifier(base_estimator=DecisionTreeClassifier(class_weight='balanced', criterion='gini', max_depth=1,\n",
       "              max_features=None, max_leaf_nodes=None,\n",
       "              min_impurity_decrease=0.0, min_impurity_split=None,\n",
       "              min_samples_leaf=1, min_samples_split=2,\n",
       "              min_weight_fraction_leaf=0.0, presort=False, random_state=None,\n",
       "              splitter='best'),\n",
       "           bootstrap=False, bootstrap_features=False, max_features=0.7,\n",
       "           max_samples=0.2, n_estimators=10, n_jobs=1, oob_score=False,\n",
       "           random_state=321, verbose=0, warm_start=False)),\n",
       " ('rfc_bag',\n",
       "  BaggingClassifier(base_estimator=RandomForestClassifier(bootstrap=True, class_weight='balanced',\n",
       "              criterion='gini', max_depth=5, max_features='auto',\n",
       "              max_leaf_nodes=None, min_impurity_decrease=0.0,\n",
       "              min_impurity_split=None, min_samples_leaf=0.05,\n",
       "              min_samples_split=2, min_weight_fraction_leaf=0.0,\n",
       "              n_estimators=10, n_jobs=1, oob_score=False, random_state=None,\n",
       "              verbose=0, warm_start=False),\n",
       "           bootstrap=True, bootstrap_features=False, max_features=0.2,\n",
       "           max_samples=0.3, n_estimators=10, n_jobs=1, oob_score=False,\n",
       "           random_state=748, verbose=0, warm_start=False)),\n",
       " ('gnb',\n",
       "  BaggingClassifier(base_estimator=GaussianNB(priors=None), bootstrap=True,\n",
       "           bootstrap_features=False, max_features=0.5, max_samples=0.2,\n",
       "           n_estimators=50, n_jobs=1, oob_score=False, random_state=None,\n",
       "           verbose=0, warm_start=False))]"
      ]
     },
     "execution_count": 58,
     "metadata": {},
     "output_type": "execute_result"
    }
   ],
   "source": [
    "vc_soft_gs_summary.iloc[122]['estimators']"
   ]
  },
  {
   "cell_type": "code",
   "execution_count": 17,
   "metadata": {
    "collapsed": true
   },
   "outputs": [],
   "source": [
    "best_estimators = [('lr', lr_best), ('lr_bag', lr_bag_best),\n",
    "                   ('dtc', dtc_best), ('dtc_bag_best', dtc_bag_best),\n",
    "                   ('rfc_bag', rfc_bag_best),\n",
    "                   ('gnb', gnb_bag_best)]"
   ]
  },
  {
   "cell_type": "code",
   "execution_count": 59,
   "metadata": {},
   "outputs": [
    {
     "name": "stdout",
     "output_type": "stream",
     "text": [
      "Time: 38.74s \n"
     ]
    }
   ],
   "source": [
    "vc_soft = VotingClassifier(estimators=best_estimators, voting='soft', n_jobs=4)\n",
    "\n",
    "my_func.run_time(reset=True)\n",
    "vc_soft.fit(X_train, y_train)\n",
    "my_func.run_time()"
   ]
  },
  {
   "cell_type": "code",
   "execution_count": 60,
   "metadata": {
    "scrolled": true
   },
   "outputs": [
    {
     "name": "stdout",
     "output_type": "stream",
     "text": [
      "Mean recall score = 0.745 (+/- 0.062)\n"
     ]
    }
   ],
   "source": [
    "my_func.print_cvs(cross_val_score(vc_soft, X_train, y_train, cv=5, scoring='recall'), 'recall')"
   ]
  },
  {
   "cell_type": "code",
   "execution_count": 61,
   "metadata": {},
   "outputs": [
    {
     "name": "stdout",
     "output_type": "stream",
     "text": [
      "Confusion Matrix:\n",
      "                 Predicted Negative  Predicted Positive\n",
      "Actual Negative               54213               44101\n",
      "Actual Positive                6307               17153\n",
      "--------------------\n",
      "Accuracy Scores:\n",
      "                    Score\n",
      "Rate                     \n",
      "F2               0.552987\n",
      "Recall           0.731159\n",
      "Precision (pos)  0.280031\n",
      "Precision (neg)  0.895787\n",
      "Specificity      0.551427\n"
     ]
    }
   ],
   "source": [
    "my_func.classifier_summary(y_train, vc_soft.predict(X_train));"
   ]
  },
  {
   "cell_type": "code",
   "execution_count": 62,
   "metadata": {},
   "outputs": [
    {
     "name": "stdout",
     "output_type": "stream",
     "text": [
      "Confusion Matrix:\n",
      "                 Predicted Negative  Predicted Positive\n",
      "Actual Negative               13590               11040\n",
      "Actual Positive                1603                4211\n",
      "--------------------\n",
      "Accuracy Scores:\n",
      "                    Score\n",
      "Rate                     \n",
      "F2               0.546784\n",
      "Recall           0.724286\n",
      "Precision (pos)  0.276113\n",
      "Precision (neg)  0.894491\n",
      "Specificity      0.551766\n"
     ]
    }
   ],
   "source": [
    "my_func.classifier_summary(y_val, vc_soft.predict(X_val));"
   ]
  },
  {
   "cell_type": "markdown",
   "metadata": {},
   "source": [
    "A significant improvement over the previous soft voting classifier, but it still lags behind that of our hard voting classifier. Perhaps improvements can be made in changing the weights of the remaining estimators:"
   ]
  },
  {
   "cell_type": "code",
   "execution_count": 20,
   "metadata": {},
   "outputs": [
    {
     "name": "stdout",
     "output_type": "stream",
     "text": [
      "Fitting 3 folds for each of 63 candidates, totalling 189 fits\n"
     ]
    },
    {
     "name": "stderr",
     "output_type": "stream",
     "text": [
      "[Parallel(n_jobs=4)]: Done  33 tasks      | elapsed: 14.9min\n",
      "[Parallel(n_jobs=4)]: Done 154 tasks      | elapsed: 66.8min\n"
     ]
    },
    {
     "name": "stdout",
     "output_type": "stream",
     "text": [
      "Time: 81min 42s \n"
     ]
    },
    {
     "name": "stderr",
     "output_type": "stream",
     "text": [
      "[Parallel(n_jobs=4)]: Done 189 out of 189 | elapsed: 81.7min finished\n"
     ]
    }
   ],
   "source": [
    "scoring={'F2': f2_score,\n",
    "         'recall':'recall',\n",
    "         'precision':'precision',\n",
    "         'specificity': make_scorer(my_func.binary_specificity)}\n",
    "\n",
    "vc_soft = VotingClassifier(estimators=best_estimators, voting='soft')\n",
    "\n",
    "weights = [0.5, 1]\n",
    "weight_combos = list(product(weights, repeat=len(best_estimators)))[1:]\n",
    "\n",
    "param_grid = {'weights': weight_combos}\n",
    "\n",
    "vc_soft_gs = GridSearchCV(estimator=vc_soft,\n",
    "                          param_grid=param_grid,\n",
    "                          cv=3,\n",
    "                          scoring=scoring,\n",
    "                          refit=False,\n",
    "                          n_jobs=4,\n",
    "                          verbose=2)\n",
    "\n",
    "my_func.run_time(reset=True)\n",
    "vc_soft_gs.fit(X_train, y_train)\n",
    "my_func.run_time()"
   ]
  },
  {
   "cell_type": "markdown",
   "metadata": {},
   "source": [
    "Let us evaluate the performance of our best combination:"
   ]
  },
  {
   "cell_type": "code",
   "execution_count": 21,
   "metadata": {},
   "outputs": [
    {
     "name": "stdout",
     "output_type": "stream",
     "text": [
      "--------------------\n",
      "Best F2:\n",
      "Params: {'weights': (0.5, 0.5, 0.5, 0.5, 1, 1)}\n",
      "F2 = 0.5705391428126331\n",
      "Recall = 0.8693523613425516\n",
      "Precision = 0.2412568505870144\n",
      "Specificity = 0.34390842762745616\n",
      "--------------------\n",
      "Best Recall:\n",
      "Params: {'weights': (0.5, 0.5, 0.5, 0.5, 0.5, 1)}\n",
      "F2 = 0.5682590403641337\n",
      "Recall = 0.893861478836083\n",
      "Precision = 0.23253861665127348\n",
      "Specificity = 0.2907519023929422\n",
      "--------------------\n",
      "Best Precision:\n",
      "Params: {'weights': (1, 0.5, 1, 1, 0.5, 0.5)}\n",
      "F2 = 0.5462261157784691\n",
      "Recall = 0.7187125645566141\n",
      "Precision = 0.2790179322966122\n",
      "Specificity = 0.5563907377889018\n",
      "--------------------\n",
      "Best Specificity:\n",
      "Params: {'weights': (1, 0.5, 1, 1, 0.5, 0.5)}\n",
      "F2 = 0.5462261157784691\n",
      "Recall = 0.7187125645566141\n",
      "Precision = 0.2790179322966122\n",
      "Specificity = 0.5563907377889018\n",
      "--------------------\n"
     ]
    }
   ],
   "source": [
    "vc_soft_gs_summary = my_func.gs_score_summary(vc_soft_gs)"
   ]
  },
  {
   "cell_type": "code",
   "execution_count": 22,
   "metadata": {},
   "outputs": [
    {
     "data": {
      "text/html": [
       "<div>\n",
       "<style>\n",
       "    .dataframe thead tr:only-child th {\n",
       "        text-align: right;\n",
       "    }\n",
       "\n",
       "    .dataframe thead th {\n",
       "        text-align: left;\n",
       "    }\n",
       "\n",
       "    .dataframe tbody tr th {\n",
       "        vertical-align: top;\n",
       "    }\n",
       "</style>\n",
       "<table border=\"1\" class=\"dataframe\">\n",
       "  <thead>\n",
       "    <tr style=\"text-align: right;\">\n",
       "      <th></th>\n",
       "      <th>F2</th>\n",
       "      <th>precision</th>\n",
       "      <th>recall</th>\n",
       "      <th>specificity</th>\n",
       "      <th>weights</th>\n",
       "    </tr>\n",
       "  </thead>\n",
       "  <tbody>\n",
       "    <tr>\n",
       "      <th>41</th>\n",
       "      <td>0.560171</td>\n",
       "      <td>0.271404</td>\n",
       "      <td>0.763299</td>\n",
       "      <td>0.510924</td>\n",
       "      <td>(1, 0.5, 1, 0.5, 1, 0.5)</td>\n",
       "    </tr>\n",
       "    <tr>\n",
       "      <th>60</th>\n",
       "      <td>0.559832</td>\n",
       "      <td>0.270206</td>\n",
       "      <td>0.764791</td>\n",
       "      <td>0.507059</td>\n",
       "      <td>(1, 1, 1, 1, 0.5, 1)</td>\n",
       "    </tr>\n",
       "    <tr>\n",
       "      <th>39</th>\n",
       "      <td>0.559209</td>\n",
       "      <td>0.271568</td>\n",
       "      <td>0.760656</td>\n",
       "      <td>0.513152</td>\n",
       "      <td>(1, 0.5, 1, 0.5, 0.5, 0.5)</td>\n",
       "    </tr>\n",
       "    <tr>\n",
       "      <th>28</th>\n",
       "      <td>0.559095</td>\n",
       "      <td>0.270868</td>\n",
       "      <td>0.762106</td>\n",
       "      <td>0.509968</td>\n",
       "      <td>(0.5, 1, 1, 1, 0.5, 1)</td>\n",
       "    </tr>\n",
       "    <tr>\n",
       "      <th>44</th>\n",
       "      <td>0.558757</td>\n",
       "      <td>0.269573</td>\n",
       "      <td>0.767008</td>\n",
       "      <td>0.500631</td>\n",
       "      <td>(1, 0.5, 1, 1, 0.5, 1)</td>\n",
       "    </tr>\n",
       "  </tbody>\n",
       "</table>\n",
       "</div>"
      ],
      "text/plain": [
       "          F2  precision    recall  specificity                     weights\n",
       "41  0.560171   0.271404  0.763299     0.510924    (1, 0.5, 1, 0.5, 1, 0.5)\n",
       "60  0.559832   0.270206  0.764791     0.507059        (1, 1, 1, 1, 0.5, 1)\n",
       "39  0.559209   0.271568  0.760656     0.513152  (1, 0.5, 1, 0.5, 0.5, 0.5)\n",
       "28  0.559095   0.270868  0.762106     0.509968      (0.5, 1, 1, 1, 0.5, 1)\n",
       "44  0.558757   0.269573  0.767008     0.500631      (1, 0.5, 1, 1, 0.5, 1)"
      ]
     },
     "execution_count": 22,
     "metadata": {},
     "output_type": "execute_result"
    }
   ],
   "source": [
    "vc_soft_gs_summary[vc_soft_gs_summary['specificity'] >= 0.5].sort_values('F2', ascending=False)[:5]"
   ]
  },
  {
   "cell_type": "code",
   "execution_count": 24,
   "metadata": {
    "scrolled": true
   },
   "outputs": [
    {
     "data": {
      "text/plain": [
       "(1, 0.5, 1, 0.5, 1, 0.5)"
      ]
     },
     "execution_count": 24,
     "metadata": {},
     "output_type": "execute_result"
    }
   ],
   "source": [
    "vc_soft_gs_summary.iloc[41]['weights']"
   ]
  },
  {
   "cell_type": "code",
   "execution_count": 32,
   "metadata": {},
   "outputs": [
    {
     "name": "stdout",
     "output_type": "stream",
     "text": [
      "Time: 38.27s \n"
     ]
    }
   ],
   "source": [
    "best_estimators = [('lr', lr_best), ('lr_bag', lr_bag_best),\n",
    "                   ('dtc', dtc_best), ('dtc_bag_best', dtc_bag_best),\n",
    "                   ('rfc_bag', rfc_bag_best),\n",
    "                   ('gnb', gnb_bag_best)]\n",
    "\n",
    "w = (1, 0.5, 1, 0.5, 1, 0.5)\n",
    "\n",
    "vc_soft = VotingClassifier(estimators=best_estimators, voting='soft', weights=w, n_jobs=4)\n",
    "\n",
    "my_func.run_time(reset=True)\n",
    "vc_soft.fit(X_train, y_train)\n",
    "my_func.run_time()"
   ]
  },
  {
   "cell_type": "code",
   "execution_count": 26,
   "metadata": {
    "scrolled": true
   },
   "outputs": [
    {
     "name": "stdout",
     "output_type": "stream",
     "text": [
      "Mean recall score = 0.758 (+/- 0.006)\n"
     ]
    }
   ],
   "source": [
    "my_func.print_cvs(cross_val_score(vc_soft, X_train, y_train, cv=5, scoring='recall'), 'recall')"
   ]
  },
  {
   "cell_type": "code",
   "execution_count": 33,
   "metadata": {},
   "outputs": [
    {
     "name": "stdout",
     "output_type": "stream",
     "text": [
      "Confusion Matrix:\n",
      "                 Predicted Negative  Predicted Positive\n",
      "Actual Negative               52499               45815\n",
      "Actual Positive                5967               17493\n",
      "--------------------\n",
      "Accuracy Scores:\n",
      "                    Score\n",
      "Rate                     \n",
      "F2               0.556577\n",
      "Recall           0.745652\n",
      "Precision (pos)  0.276316\n",
      "Precision (neg)  0.897941\n",
      "Specificity      0.533993\n"
     ]
    }
   ],
   "source": [
    "my_func.classifier_summary(y_train, vc_soft.predict(X_train));"
   ]
  },
  {
   "cell_type": "code",
   "execution_count": 34,
   "metadata": {},
   "outputs": [
    {
     "name": "stdout",
     "output_type": "stream",
     "text": [
      "Confusion Matrix:\n",
      "                 Predicted Negative  Predicted Positive\n",
      "Actual Negative               13166               11464\n",
      "Actual Positive                1512                4302\n",
      "--------------------\n",
      "Accuracy Scores:\n",
      "                    Score\n",
      "Rate                     \n",
      "F2               0.551228\n",
      "Recall           0.739938\n",
      "Precision (pos)  0.272866\n",
      "Precision (neg)  0.896989\n",
      "Specificity      0.534551\n"
     ]
    }
   ],
   "source": [
    "my_func.classifier_summary(y_val, vc_soft.predict(X_val));"
   ]
  },
  {
   "cell_type": "markdown",
   "metadata": {},
   "source": [
    "The soft voting classifier does not seem to able to outperform the results from the hard voting classifier."
   ]
  },
  {
   "cell_type": "markdown",
   "metadata": {},
   "source": [
    "##### Randomized Voting Classifier"
   ]
  },
  {
   "cell_type": "code",
   "execution_count": 11,
   "metadata": {
    "collapsed": true
   },
   "outputs": [],
   "source": [
    "lr = Pipeline([('rfe', RFE(estimator=LogisticRegression(class_weight='balanced'))),\n",
    "               ('estimator', LogisticRegression(class_weight='balanced'))])\n",
    "\n",
    "lr_bag = Pipeline([('rfe', RFE(estimator=LogisticRegression(class_weight='balanced'))),\n",
    "                   ('estimator', BaggingClassifier(base_estimator=LogisticRegression(class_weight='balanced')))])"
   ]
  },
  {
   "cell_type": "code",
   "execution_count": 12,
   "metadata": {
    "collapsed": true
   },
   "outputs": [],
   "source": [
    "lsvc = Pipeline([('rfe', RFE(estimator=LinearSVC(class_weight='balanced', dual=False))),\n",
    "                 ('estimator', LinearSVC(class_weight='balanced', dual=False))])\n",
    "\n",
    "lsvc_bag = Pipeline([('rfe', RFE(estimator=LinearSVC(class_weight='balanced', dual=False))),\n",
    "                     ('estimator', BaggingClassifier(base_estimator=LinearSVC(class_weight='balanced', dual=False)))])"
   ]
  },
  {
   "cell_type": "code",
   "execution_count": 13,
   "metadata": {
    "collapsed": true
   },
   "outputs": [],
   "source": [
    "dtc = DecisionTreeClassifier(class_weight='balanced')\n",
    "\n",
    "dtc_bag = BaggingClassifier(base_estimator=DecisionTreeClassifier(class_weight='balanced'))"
   ]
  },
  {
   "cell_type": "code",
   "execution_count": 14,
   "metadata": {
    "collapsed": true
   },
   "outputs": [],
   "source": [
    "rfc = RandomForestClassifier(class_weight='balanced')\n",
    "\n",
    "rfc_bag = BaggingClassifier(base_estimator=RandomForestClassifier(class_weight='balanced'))"
   ]
  },
  {
   "cell_type": "code",
   "execution_count": 15,
   "metadata": {
    "collapsed": true
   },
   "outputs": [],
   "source": [
    "gnb_bag = BaggingClassifier(base_estimator=GaussianNB())"
   ]
  },
  {
   "cell_type": "code",
   "execution_count": 16,
   "metadata": {
    "collapsed": true
   },
   "outputs": [],
   "source": [
    "bagging_params = {'max_features': np.arange(0.1,0.51,0.1),\n",
    "                  'max_samples': np.arange(0.1,0.31,0.1),\n",
    "                  'bootstrap': [True,False],\n",
    "                  'bootstrap_features': [True,False],\n",
    "                  'n_estimators': np.arange(10,31,1)}\n",
    "\n",
    "tree_params =  [\n",
    "                {'max_depth': np.arange(1,11),'max_features': np.arange(0.1,0.91,0.1)},\n",
    "                {'max_depth': np.arange(1,11),'max_features': np.arange(0.1,0.91,0.1),'min_impurity_decrease': np.arange(0.01,0.21, 0.01)},\n",
    "                {'max_depth': np.arange(1,11),'max_features': np.arange(0.1,0.91,0.1),'min_samples_split': np.arange(0.01,0.21, 0.01)},\n",
    "                {'max_depth': np.arange(1,11),'max_features': np.arange(0.1,0.91,0.1),'min_samples_leaf': np.arange(0.01,0.21, 0.01)}\n",
    "               ]\n",
    "\n",
    "tree_bagging_params = [{**bagging_params, **{'base_estimator__'+key : item for key,item in t.items()}} for t in tree_params]"
   ]
  },
  {
   "cell_type": "code",
   "execution_count": 28,
   "metadata": {},
   "outputs": [],
   "source": [
    "models = {}\n",
    "\n",
    "models['lr'] = (lr, {'rfe__n_features_to_select': np.arange(10,41,1),\n",
    "                     'estimator__C': np.logspace(-9,0,10)})\n",
    "\n",
    "models['lr_bag'] = (lr_bag, {**{'rfe__n_features_to_select': np.arange(10,41,1),'estimator__base_estimator__C': np.logspace(-9,0,10)},\n",
    "                             **{'estimator__'+key: item for key,item in bagging_params.items()}})\n",
    "\n",
    "models['lsvc'] = (lsvc, {'rfe__n_features_to_select': np.arange(10,41,1),\n",
    "                         'estimator__C': np.logspace(-9,0,10)})\n",
    "\n",
    "models['lsvc_bag'] = (lsvc_bag, {**{'rfe__n_features_to_select': np.arange(10,41,1),'estimator__base_estimator__C': np.logspace(-9,0,10)},\n",
    "                                 **{'estimator__'+key : item for key,item in bagging_params.items()}})\n",
    "\n",
    "models['dtc'] = (dtc, tree_params)\n",
    "\n",
    "models['dtc_bag'] = (dtc_bag, tree_bagging_params)\n",
    "\n",
    "models['rfc'] = (rfc, tree_params)\n",
    "\n",
    "models['rfc_bag'] = (rfc_bag, tree_bagging_params)\n",
    "\n",
    "models['gnb_bag'] = (gnb_bag, bagging_params)"
   ]
  },
  {
   "cell_type": "code",
   "execution_count": 29,
   "metadata": {
    "collapsed": true
   },
   "outputs": [],
   "source": [
    "import random\n",
    "from collections import Counter"
   ]
  },
  {
   "cell_type": "code",
   "execution_count": 30,
   "metadata": {
    "collapsed": true
   },
   "outputs": [],
   "source": [
    "def ensemble_randomizer(estimator_dict, n_estimators, random_state=None):\n",
    "    if random_state is not None:\n",
    "        random.seed(random_state)\n",
    "    estimators = []\n",
    "    estimator_counts = Counter()\n",
    "    for i in range(n_estimators):\n",
    "        key = random.choice(list(estimator_dict.keys()))\n",
    "        estimator_counts[key] += 1\n",
    "        estimator = clone(estimator_dict[key][0])\n",
    "        if type(estimator_dict[key][1]) is list:\n",
    "            param_dict = random.choice(estimator_dict[key][1])\n",
    "        else:\n",
    "            param_dict = estimator_dict[key][1]\n",
    "            \n",
    "        for param_name, param_values in param_dict.items():\n",
    "            estimator.set_params(**{param_name: random.choice(list(param_values))})\n",
    "        estimators.append((key + '_' + str(estimator_counts[key]), estimator))\n",
    "    \n",
    "    return estimators\n",
    "            "
   ]
  },
  {
   "cell_type": "code",
   "execution_count": 31,
   "metadata": {
    "collapsed": true
   },
   "outputs": [],
   "source": [
    "from sklearn.base import clone"
   ]
  },
  {
   "cell_type": "code",
   "execution_count": 32,
   "metadata": {
    "collapsed": true
   },
   "outputs": [],
   "source": [
    "vch_models = models.copy()"
   ]
  },
  {
   "cell_type": "code",
   "execution_count": 33,
   "metadata": {},
   "outputs": [
    {
     "name": "stdout",
     "output_type": "stream",
     "text": [
      "Fitting 3 folds for each of 10 candidates, totalling 30 fits\n"
     ]
    },
    {
     "ename": "KeyboardInterrupt",
     "evalue": "",
     "output_type": "error",
     "traceback": [
      "\u001b[1;31m------------------------------------------------------------------------\u001b[0m",
      "\u001b[1;31mKeyboardInterrupt\u001b[0m                      Traceback (most recent call last)",
      "\u001b[1;32m<ipython-input-33-c7f4337163f4>\u001b[0m in \u001b[0;36m<module>\u001b[1;34m()\u001b[0m\n\u001b[0;32m     18\u001b[0m                               verbose=3)\n\u001b[0;32m     19\u001b[0m \u001b[1;33m\u001b[0m\u001b[0m\n\u001b[1;32m---> 20\u001b[1;33m \u001b[0mrand_vc_hard_gs\u001b[0m\u001b[1;33m.\u001b[0m\u001b[0mfit\u001b[0m\u001b[1;33m(\u001b[0m\u001b[0mX_train\u001b[0m\u001b[1;33m,\u001b[0m \u001b[0my_train\u001b[0m\u001b[1;33m)\u001b[0m\u001b[1;33m\u001b[0m\u001b[0m\n\u001b[0m",
      "\u001b[1;32m~\\Anaconda3\\lib\\site-packages\\sklearn\\model_selection\\_search.py\u001b[0m in \u001b[0;36mfit\u001b[1;34m(self, X, y, groups, **fit_params)\u001b[0m\n\u001b[0;32m    636\u001b[0m                                   error_score=self.error_score)\n\u001b[0;32m    637\u001b[0m           for parameters, (train, test) in product(candidate_params,\n\u001b[1;32m--> 638\u001b[1;33m                                                    cv.split(X, y, groups)))\n\u001b[0m\u001b[0;32m    639\u001b[0m \u001b[1;33m\u001b[0m\u001b[0m\n\u001b[0;32m    640\u001b[0m         \u001b[1;31m# if one choose to see train score, \"out\" will contain train score info\u001b[0m\u001b[1;33m\u001b[0m\u001b[1;33m\u001b[0m\u001b[0m\n",
      "\u001b[1;32m~\\Anaconda3\\lib\\site-packages\\sklearn\\externals\\joblib\\parallel.py\u001b[0m in \u001b[0;36m__call__\u001b[1;34m(self, iterable)\u001b[0m\n\u001b[0;32m    787\u001b[0m                 \u001b[1;31m# consumption.\u001b[0m\u001b[1;33m\u001b[0m\u001b[1;33m\u001b[0m\u001b[0m\n\u001b[0;32m    788\u001b[0m                 \u001b[0mself\u001b[0m\u001b[1;33m.\u001b[0m\u001b[0m_iterating\u001b[0m \u001b[1;33m=\u001b[0m \u001b[1;32mFalse\u001b[0m\u001b[1;33m\u001b[0m\u001b[0m\n\u001b[1;32m--> 789\u001b[1;33m             \u001b[0mself\u001b[0m\u001b[1;33m.\u001b[0m\u001b[0mretrieve\u001b[0m\u001b[1;33m(\u001b[0m\u001b[1;33m)\u001b[0m\u001b[1;33m\u001b[0m\u001b[0m\n\u001b[0m\u001b[0;32m    790\u001b[0m             \u001b[1;31m# Make sure that we get a last message telling us we are done\u001b[0m\u001b[1;33m\u001b[0m\u001b[1;33m\u001b[0m\u001b[0m\n\u001b[0;32m    791\u001b[0m             \u001b[0melapsed_time\u001b[0m \u001b[1;33m=\u001b[0m \u001b[0mtime\u001b[0m\u001b[1;33m.\u001b[0m\u001b[0mtime\u001b[0m\u001b[1;33m(\u001b[0m\u001b[1;33m)\u001b[0m \u001b[1;33m-\u001b[0m \u001b[0mself\u001b[0m\u001b[1;33m.\u001b[0m\u001b[0m_start_time\u001b[0m\u001b[1;33m\u001b[0m\u001b[0m\n",
      "\u001b[1;32m~\\Anaconda3\\lib\\site-packages\\sklearn\\externals\\joblib\\parallel.py\u001b[0m in \u001b[0;36mretrieve\u001b[1;34m(self)\u001b[0m\n\u001b[0;32m    697\u001b[0m             \u001b[1;32mtry\u001b[0m\u001b[1;33m:\u001b[0m\u001b[1;33m\u001b[0m\u001b[0m\n\u001b[0;32m    698\u001b[0m                 \u001b[1;32mif\u001b[0m \u001b[0mgetattr\u001b[0m\u001b[1;33m(\u001b[0m\u001b[0mself\u001b[0m\u001b[1;33m.\u001b[0m\u001b[0m_backend\u001b[0m\u001b[1;33m,\u001b[0m \u001b[1;34m'supports_timeout'\u001b[0m\u001b[1;33m,\u001b[0m \u001b[1;32mFalse\u001b[0m\u001b[1;33m)\u001b[0m\u001b[1;33m:\u001b[0m\u001b[1;33m\u001b[0m\u001b[0m\n\u001b[1;32m--> 699\u001b[1;33m                     \u001b[0mself\u001b[0m\u001b[1;33m.\u001b[0m\u001b[0m_output\u001b[0m\u001b[1;33m.\u001b[0m\u001b[0mextend\u001b[0m\u001b[1;33m(\u001b[0m\u001b[0mjob\u001b[0m\u001b[1;33m.\u001b[0m\u001b[0mget\u001b[0m\u001b[1;33m(\u001b[0m\u001b[0mtimeout\u001b[0m\u001b[1;33m=\u001b[0m\u001b[0mself\u001b[0m\u001b[1;33m.\u001b[0m\u001b[0mtimeout\u001b[0m\u001b[1;33m)\u001b[0m\u001b[1;33m)\u001b[0m\u001b[1;33m\u001b[0m\u001b[0m\n\u001b[0m\u001b[0;32m    700\u001b[0m                 \u001b[1;32melse\u001b[0m\u001b[1;33m:\u001b[0m\u001b[1;33m\u001b[0m\u001b[0m\n\u001b[0;32m    701\u001b[0m                     \u001b[0mself\u001b[0m\u001b[1;33m.\u001b[0m\u001b[0m_output\u001b[0m\u001b[1;33m.\u001b[0m\u001b[0mextend\u001b[0m\u001b[1;33m(\u001b[0m\u001b[0mjob\u001b[0m\u001b[1;33m.\u001b[0m\u001b[0mget\u001b[0m\u001b[1;33m(\u001b[0m\u001b[1;33m)\u001b[0m\u001b[1;33m)\u001b[0m\u001b[1;33m\u001b[0m\u001b[0m\n",
      "\u001b[1;32m~\\Anaconda3\\lib\\multiprocessing\\pool.py\u001b[0m in \u001b[0;36mget\u001b[1;34m(self, timeout)\u001b[0m\n\u001b[0;32m    636\u001b[0m \u001b[1;33m\u001b[0m\u001b[0m\n\u001b[0;32m    637\u001b[0m     \u001b[1;32mdef\u001b[0m \u001b[0mget\u001b[0m\u001b[1;33m(\u001b[0m\u001b[0mself\u001b[0m\u001b[1;33m,\u001b[0m \u001b[0mtimeout\u001b[0m\u001b[1;33m=\u001b[0m\u001b[1;32mNone\u001b[0m\u001b[1;33m)\u001b[0m\u001b[1;33m:\u001b[0m\u001b[1;33m\u001b[0m\u001b[0m\n\u001b[1;32m--> 638\u001b[1;33m         \u001b[0mself\u001b[0m\u001b[1;33m.\u001b[0m\u001b[0mwait\u001b[0m\u001b[1;33m(\u001b[0m\u001b[0mtimeout\u001b[0m\u001b[1;33m)\u001b[0m\u001b[1;33m\u001b[0m\u001b[0m\n\u001b[0m\u001b[0;32m    639\u001b[0m         \u001b[1;32mif\u001b[0m \u001b[1;32mnot\u001b[0m \u001b[0mself\u001b[0m\u001b[1;33m.\u001b[0m\u001b[0mready\u001b[0m\u001b[1;33m(\u001b[0m\u001b[1;33m)\u001b[0m\u001b[1;33m:\u001b[0m\u001b[1;33m\u001b[0m\u001b[0m\n\u001b[0;32m    640\u001b[0m             \u001b[1;32mraise\u001b[0m \u001b[0mTimeoutError\u001b[0m\u001b[1;33m\u001b[0m\u001b[0m\n",
      "\u001b[1;32m~\\Anaconda3\\lib\\multiprocessing\\pool.py\u001b[0m in \u001b[0;36mwait\u001b[1;34m(self, timeout)\u001b[0m\n\u001b[0;32m    633\u001b[0m \u001b[1;33m\u001b[0m\u001b[0m\n\u001b[0;32m    634\u001b[0m     \u001b[1;32mdef\u001b[0m \u001b[0mwait\u001b[0m\u001b[1;33m(\u001b[0m\u001b[0mself\u001b[0m\u001b[1;33m,\u001b[0m \u001b[0mtimeout\u001b[0m\u001b[1;33m=\u001b[0m\u001b[1;32mNone\u001b[0m\u001b[1;33m)\u001b[0m\u001b[1;33m:\u001b[0m\u001b[1;33m\u001b[0m\u001b[0m\n\u001b[1;32m--> 635\u001b[1;33m         \u001b[0mself\u001b[0m\u001b[1;33m.\u001b[0m\u001b[0m_event\u001b[0m\u001b[1;33m.\u001b[0m\u001b[0mwait\u001b[0m\u001b[1;33m(\u001b[0m\u001b[0mtimeout\u001b[0m\u001b[1;33m)\u001b[0m\u001b[1;33m\u001b[0m\u001b[0m\n\u001b[0m\u001b[0;32m    636\u001b[0m \u001b[1;33m\u001b[0m\u001b[0m\n\u001b[0;32m    637\u001b[0m     \u001b[1;32mdef\u001b[0m \u001b[0mget\u001b[0m\u001b[1;33m(\u001b[0m\u001b[0mself\u001b[0m\u001b[1;33m,\u001b[0m \u001b[0mtimeout\u001b[0m\u001b[1;33m=\u001b[0m\u001b[1;32mNone\u001b[0m\u001b[1;33m)\u001b[0m\u001b[1;33m:\u001b[0m\u001b[1;33m\u001b[0m\u001b[0m\n",
      "\u001b[1;32m~\\Anaconda3\\lib\\threading.py\u001b[0m in \u001b[0;36mwait\u001b[1;34m(self, timeout)\u001b[0m\n\u001b[0;32m    549\u001b[0m             \u001b[0msignaled\u001b[0m \u001b[1;33m=\u001b[0m \u001b[0mself\u001b[0m\u001b[1;33m.\u001b[0m\u001b[0m_flag\u001b[0m\u001b[1;33m\u001b[0m\u001b[0m\n\u001b[0;32m    550\u001b[0m             \u001b[1;32mif\u001b[0m \u001b[1;32mnot\u001b[0m \u001b[0msignaled\u001b[0m\u001b[1;33m:\u001b[0m\u001b[1;33m\u001b[0m\u001b[0m\n\u001b[1;32m--> 551\u001b[1;33m                 \u001b[0msignaled\u001b[0m \u001b[1;33m=\u001b[0m \u001b[0mself\u001b[0m\u001b[1;33m.\u001b[0m\u001b[0m_cond\u001b[0m\u001b[1;33m.\u001b[0m\u001b[0mwait\u001b[0m\u001b[1;33m(\u001b[0m\u001b[0mtimeout\u001b[0m\u001b[1;33m)\u001b[0m\u001b[1;33m\u001b[0m\u001b[0m\n\u001b[0m\u001b[0;32m    552\u001b[0m             \u001b[1;32mreturn\u001b[0m \u001b[0msignaled\u001b[0m\u001b[1;33m\u001b[0m\u001b[0m\n\u001b[0;32m    553\u001b[0m \u001b[1;33m\u001b[0m\u001b[0m\n",
      "\u001b[1;32m~\\Anaconda3\\lib\\threading.py\u001b[0m in \u001b[0;36mwait\u001b[1;34m(self, timeout)\u001b[0m\n\u001b[0;32m    293\u001b[0m         \u001b[1;32mtry\u001b[0m\u001b[1;33m:\u001b[0m    \u001b[1;31m# restore state no matter what (e.g., KeyboardInterrupt)\u001b[0m\u001b[1;33m\u001b[0m\u001b[0m\n\u001b[0;32m    294\u001b[0m             \u001b[1;32mif\u001b[0m \u001b[0mtimeout\u001b[0m \u001b[1;32mis\u001b[0m \u001b[1;32mNone\u001b[0m\u001b[1;33m:\u001b[0m\u001b[1;33m\u001b[0m\u001b[0m\n\u001b[1;32m--> 295\u001b[1;33m                 \u001b[0mwaiter\u001b[0m\u001b[1;33m.\u001b[0m\u001b[0macquire\u001b[0m\u001b[1;33m(\u001b[0m\u001b[1;33m)\u001b[0m\u001b[1;33m\u001b[0m\u001b[0m\n\u001b[0m\u001b[0;32m    296\u001b[0m                 \u001b[0mgotit\u001b[0m \u001b[1;33m=\u001b[0m \u001b[1;32mTrue\u001b[0m\u001b[1;33m\u001b[0m\u001b[0m\n\u001b[0;32m    297\u001b[0m             \u001b[1;32melse\u001b[0m\u001b[1;33m:\u001b[0m\u001b[1;33m\u001b[0m\u001b[0m\n",
      "\u001b[1;31mKeyboardInterrupt\u001b[0m: "
     ]
    }
   ],
   "source": [
    "scoring={'F2': f2_score,\n",
    "         'recall':'recall',\n",
    "         'precision': 'precision',\n",
    "         'specificity': make_scorer(my_func.binary_specificity)}\n",
    "\n",
    "vch_seeds = np.random.choice(1000,10,replace=False)\n",
    "vch_estimators = [ensemble_randomizer(vch_models, 100, rs) for rs in vch_seeds]\n",
    "param_grid = {'estimators': vch_estimators}\n",
    "\n",
    "vc_hard_test = VotingClassifier(estimators=(),voting='hard')\n",
    "\n",
    "rand_vc_hard_gs = GridSearchCV(estimator=vc_hard_test,\n",
    "                              param_grid = param_grid,\n",
    "                              scoring=scoring,\n",
    "                              cv=3,\n",
    "                              refit=False,\n",
    "                              n_jobs=4,\n",
    "                              verbose=3)\n",
    "\n",
    "rand_vc_hard_gs.fit(X_train, y_train)"
   ]
  },
  {
   "cell_type": "code",
   "execution_count": 22,
   "metadata": {
    "collapsed": true
   },
   "outputs": [],
   "source": [
    "vcs_models = models.copy()\n",
    "\n",
    "try:\n",
    "    del vcs_models['lsvc'], vcs_models['lsvc_bag'] \n",
    "except:\n",
    "    pass"
   ]
  },
  {
   "cell_type": "code",
   "execution_count": null,
   "metadata": {
    "collapsed": true
   },
   "outputs": [],
   "source": [
    "scoring={'F2': f2_score,\n",
    "         'recall':'recall',\n",
    "         'precision': 'precision',\n",
    "         'specificity': make_scorer(my_func.binary_specificity)}\n",
    "n = 100\n",
    "vcs_seeds = np.random.choice(1000,i,replace=False)\n",
    "vcs_estimators = [ensemble_randomizer(vcs_models, n, rs) for rs in vcs_seeds]\n",
    "param_grid = {'estimators': vcs_estimators}\n",
    "\n",
    "vc_soft_test = VotingClassifier(estimators=(),voting='soft')\n",
    "\n",
    "rand_vc_soft_gs = GridSearchCV(estimator=vc_soft_test,\n",
    "                              param_grid = param_grid,\n",
    "                              scoring=scoring,\n",
    "                              cv=3,\n",
    "                              refit=False,\n",
    "                              n_jobs=4,\n",
    "                              verbose=3)\n",
    "\n",
    "rand_vc_soft_gs.fit(X_train, y_train)"
   ]
  },
  {
   "cell_type": "code",
   "execution_count": null,
   "metadata": {
    "collapsed": true
   },
   "outputs": [],
   "source": []
  }
 ],
 "metadata": {
  "kernelspec": {
   "display_name": "Python 3",
   "language": "python",
   "name": "python3"
  },
  "language_info": {
   "codemirror_mode": {
    "name": "ipython",
    "version": 3
   },
   "file_extension": ".py",
   "mimetype": "text/x-python",
   "name": "python",
   "nbconvert_exporter": "python",
   "pygments_lexer": "ipython3",
   "version": "3.6.2"
  }
 },
 "nbformat": 4,
 "nbformat_minor": 2
}

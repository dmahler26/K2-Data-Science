{
 "cells": [
  {
   "cell_type": "code",
   "execution_count": 71,
   "metadata": {
    "collapsed": true
   },
   "outputs": [],
   "source": [
    "import pandas as pd\n",
    "import numpy as np\n",
    "import itertools\n",
    "from os import path\n",
    "import pickle\n",
    "import sys\n",
    "sys.path.append('..')\n",
    "import src.functions.my_functions as my_func\n",
    "\n",
    "import matplotlib.pyplot as plt\n",
    "import matplotlib.colors as colors\n",
    "import seaborn as sns\n",
    "\n",
    "from sklearn.pipeline import Pipeline, FeatureUnion\n",
    "\n",
    "from sklearn.preprocessing import StandardScaler\n",
    "from sklearn.model_selection import train_test_split, cross_val_score, StratifiedKFold\n",
    "\n",
    "from sklearn.metrics.scorer import make_scorer\n",
    "from sklearn.metrics import f1_score, recall_score, precision_score, fbeta_score, confusion_matrix\n",
    "\n",
    "from sklearn.linear_model import LogisticRegression\n",
    "from sklearn.svm import LinearSVC\n",
    "from sklearn.tree import DecisionTreeClassifier\n",
    "from sklearn.naive_bayes import GaussianNB\n",
    "from sklearn.ensemble import RandomForestClassifier, BaggingClassifier, VotingClassifier\n",
    "\n",
    "from sklearn.feature_selection import RFE, f_classif"
   ]
  },
  {
   "cell_type": "code",
   "execution_count": 2,
   "metadata": {},
   "outputs": [
    {
     "data": {
      "text/plain": [
       "<module 'src.functions.my_functions' from '..\\\\src\\\\functions\\\\my_functions.py'>"
      ]
     },
     "execution_count": 2,
     "metadata": {},
     "output_type": "execute_result"
    }
   ],
   "source": [
    "from imp import reload\n",
    "reload(my_func)"
   ]
  },
  {
   "cell_type": "markdown",
   "metadata": {},
   "source": [
    "### Data Import"
   ]
  },
  {
   "cell_type": "code",
   "execution_count": 3,
   "metadata": {
    "collapsed": true
   },
   "outputs": [],
   "source": [
    "data = {}\n",
    "\n",
    "ds = ['train', 'train_target', 'test', 'test_target']\n",
    "d = ['..', 'data', 'processed']\n",
    "\n",
    "for s in ds:    \n",
    "    fn = 'loan_'+s+'.p'\n",
    "    fp = path.join(*d, fn)\n",
    "\n",
    "    with open(fp, 'rb') as file:\n",
    "        data[s] = pickle.load(file)"
   ]
  },
  {
   "cell_type": "markdown",
   "metadata": {},
   "source": [
    "### Data Prep"
   ]
  },
  {
   "cell_type": "code",
   "execution_count": 4,
   "metadata": {
    "collapsed": true
   },
   "outputs": [],
   "source": [
    "# Columns identified thus far as best for classification (during data prep, select K best)\n",
    "num_attr = ['funded_amnt_q10', 'int_rate_delta', 'annual_inc_q10', 'dti', 'delinq_2yrs', 'inq_last_6mths',\n",
    "            'open_acc', 'revol_bal_log', 'revol_util', 'total_acc', 'collections_12_mths_ex_med',\n",
    "            'acc_now_delinq', 'rev_lim_sqrt', 'tot_cur_bal', 'tot_coll_amt', 'subgrade_p_value',\n",
    "            'lti', 'rbti', 'tbti', 'cr_line_td_log', 'emp_length_val']\n",
    "\n",
    "bin_attr = ['had_delinq', 'had_major_derog', 'had_record', 'verified', 'term_bin']\n",
    "\n",
    "cat_attr = ['purpose', 'home_ownership']"
   ]
  },
  {
   "cell_type": "code",
   "execution_count": 5,
   "metadata": {
    "collapsed": true
   },
   "outputs": [],
   "source": [
    "num_prep = Pipeline([('custom', my_func.CustomNumAttributes()), # Create custom num attr\n",
    "                     ('select', my_func.DataFrame_Selector(num_attr)), # Select num columns\n",
    "                     ('sc', StandardScaler())]) # Scale data\n",
    "\n",
    "bin_prep = Pipeline([('custom', my_func.CustomBinAttributes()), # Create custom bin attr\n",
    "                     ('select', my_func.DataFrame_Selector(bin_attr))]) # Select binary columns\n",
    "\n",
    "cat_prep = Pipeline([('encode', my_func.DataFrame_DummyEncoder(cat_attr))]) # Select & encode categrocial columns\n",
    "\n",
    "feature_prep = FeatureUnion([('num', num_prep),\n",
    "                             ('bin', bin_prep),\n",
    "                             ('cat', cat_prep)])"
   ]
  },
  {
   "cell_type": "code",
   "execution_count": 6,
   "metadata": {
    "collapsed": true
   },
   "outputs": [],
   "source": [
    "X_train = feature_prep.fit_transform(data['train'])\n",
    "X_test = feature_prep.transform(data['test'])"
   ]
  },
  {
   "cell_type": "code",
   "execution_count": 7,
   "metadata": {
    "collapsed": true
   },
   "outputs": [],
   "source": [
    "y_train = data['train_target']['default'].values\n",
    "y_test = data['test_target']['default'].values"
   ]
  },
  {
   "cell_type": "markdown",
   "metadata": {},
   "source": [
    "### Scoring"
   ]
  },
  {
   "cell_type": "code",
   "execution_count": 8,
   "metadata": {
    "collapsed": true
   },
   "outputs": [],
   "source": [
    "f2_score = make_scorer(fbeta_score, beta=2)"
   ]
  },
  {
   "cell_type": "markdown",
   "metadata": {},
   "source": [
    "### Final Models"
   ]
  },
  {
   "cell_type": "code",
   "execution_count": 9,
   "metadata": {
    "collapsed": true
   },
   "outputs": [],
   "source": [
    "models = {}"
   ]
  },
  {
   "cell_type": "code",
   "execution_count": 10,
   "metadata": {
    "collapsed": true
   },
   "outputs": [],
   "source": [
    "# Logistic Regression\n",
    "lr = Pipeline([('rfe', RFE(estimator=LogisticRegression(class_weight='balanced'), n_features_to_select=28)),\n",
    "                    ('estimator', LogisticRegression(class_weight='balanced', C=1e-8))])\n",
    "\n",
    "models['lr'] = lr\n",
    "\n",
    "# Bagged Logistic Regression\n",
    "lr_bag = Pipeline([('rfe', RFE(estimator=LogisticRegression(class_weight='balanced'), n_features_to_select=28)),\n",
    "                    ('estimator', BaggingClassifier(base_estimator=LogisticRegression(class_weight='balanced', C=1e-8),\n",
    "                                                   max_samples=0.2, max_features=0.8, bootstrap_features=True, bootstrap=True,\n",
    "                                                   n_estimators=10, random_state=998))])\n",
    "\n",
    "models['lr_bag'] = lr_bag"
   ]
  },
  {
   "cell_type": "code",
   "execution_count": 11,
   "metadata": {
    "collapsed": true
   },
   "outputs": [],
   "source": [
    "# Linear SVC\n",
    "lsvc = Pipeline([('rfe', RFE(estimator=LinearSVC(class_weight='balanced', dual=False), n_features_to_select=31)),\n",
    "                      ('estimator', LinearSVC(class_weight='balanced', dual=False, C=1e-7, ))])\n",
    "\n",
    "models['lsvc'] = lsvc\n",
    "\n",
    "# Bagged Linear SVC\n",
    "lsvc_bag = BaggingClassifier(base_estimator=LinearSVC(class_weight='balanced', dual=False, C=1e-7),\n",
    "                             n_estimators=10, max_samples=0.2, max_features=0.8,\n",
    "                             bootstrap_features=False, bootstrap=False,\n",
    "                             random_state=521)\n",
    "\n",
    "models['lsvc_bag'] = lsvc_bag"
   ]
  },
  {
   "cell_type": "code",
   "execution_count": 12,
   "metadata": {
    "collapsed": true
   },
   "outputs": [],
   "source": [
    "# Decision Tree\n",
    "dtc = DecisionTreeClassifier(class_weight='balanced', max_depth=4, max_features=0.4, random_state=356)\n",
    "\n",
    "models['dtc'] = dtc\n",
    "\n",
    "# Bagged Decision Tree\n",
    "dtc_bag = BaggingClassifier(base_estimator=DecisionTreeClassifier(class_weight='balanced', max_depth=1),\n",
    "                            bootstrap=False, bootstrap_features=False, \n",
    "                            max_features=0.7, max_samples=0.2,\n",
    "                            n_estimators=10, random_state=321)\n",
    "\n",
    "models['dtc_bag'] = dtc_bag"
   ]
  },
  {
   "cell_type": "code",
   "execution_count": 13,
   "metadata": {
    "collapsed": true
   },
   "outputs": [],
   "source": [
    "# Random Forest\n",
    "rfc = RandomForestClassifier(class_weight='balanced', max_features=0.5, min_samples_leaf=.095,\n",
    "                                  n_estimators=10, random_state=808)\n",
    "\n",
    "models['rfc'] = rfc\n",
    "\n",
    "# Bagged Random Forest\n",
    "rfc_bag = BaggingClassifier(base_estimator=RandomForestClassifier(class_weight='balanced', max_depth=5, min_samples_leaf=0.05),\n",
    "                                 max_features=0.2, max_samples=0.3,\n",
    "                                 n_estimators=10, random_state=748)\n",
    "\n",
    "models['rfc_bag'] = rfc_bag"
   ]
  },
  {
   "cell_type": "code",
   "execution_count": 14,
   "metadata": {
    "collapsed": true
   },
   "outputs": [],
   "source": [
    "# Bagged Gaussian Naive Bayes\n",
    "gnb_bag = BaggingClassifier(base_estimator=GaussianNB(),\n",
    "                                 max_features=0.5, max_samples=0.2,\n",
    "                                 n_estimators=50)\n",
    "\n",
    "models['gnb_bag'] = gnb_bag"
   ]
  },
  {
   "cell_type": "code",
   "execution_count": 15,
   "metadata": {
    "collapsed": true
   },
   "outputs": [],
   "source": [
    "# Hard Voting Classifier\n",
    "vc_hard_estimators = [('lr', lr),\n",
    "                   ('lsvc', lsvc), ('lsvc_bag', lsvc_bag),\n",
    "                   ('dtc', dtc), ('dtc_bag_best', dtc_bag),\n",
    "                   ('rfc_bag', rfc_bag),\n",
    "                   ('gnb', gnb_bag)]\n",
    "\n",
    "vc_hard_w = (1, 0.5, 0.5, 0.5, 1, 0.5, 0.5)\n",
    "\n",
    "vc_hard = VotingClassifier(estimators=vc_hard_estimators, voting='hard', weights=vc_hard_w, n_jobs=4)\n",
    "\n",
    "models['vc_hard'] = vc_hard"
   ]
  },
  {
   "cell_type": "code",
   "execution_count": 16,
   "metadata": {
    "collapsed": true
   },
   "outputs": [],
   "source": [
    "# Soft Voting Classifier\n",
    "vc_soft_estimators = [('lr', lr), ('lr_bag', lr_bag),\n",
    "                   ('dtc', dtc), ('dtc_bag_best', dtc_bag),\n",
    "                   ('rfc_bag', rfc_bag),\n",
    "                   ('gnb', gnb_bag)]\n",
    "\n",
    "vc_soft_w = (1, 0.5, 1, 0.5, 1, 0.5)\n",
    "\n",
    "vc_soft = VotingClassifier(estimators=vc_soft_estimators, voting='soft', weights=vc_soft_w, n_jobs=4)\n",
    "\n",
    "models['vc_soft'] = vc_soft"
   ]
  },
  {
   "cell_type": "code",
   "execution_count": 17,
   "metadata": {
    "collapsed": true
   },
   "outputs": [],
   "source": [
    "df_models = pd.DataFrame()"
   ]
  },
  {
   "cell_type": "code",
   "execution_count": 18,
   "metadata": {
    "collapsed": true
   },
   "outputs": [],
   "source": [
    "df_models['label'] = models\n",
    "df_models['estimator'] = df_models['label'].apply(lambda x: models[x])"
   ]
  },
  {
   "cell_type": "markdown",
   "metadata": {},
   "source": [
    "### Cross-Validation Performance"
   ]
  },
  {
   "cell_type": "code",
   "execution_count": 25,
   "metadata": {},
   "outputs": [
    {
     "name": "stdout",
     "output_type": "stream",
     "text": [
      "Model 'dtc' completed...                                                                                                     \n",
      "Model 'dtc_bag' completed...                                                                                                     \n",
      "Model 'gnb_bag' completed...                                                                                                     \n",
      "Model 'lr' completed...                                                                                                     \n",
      "Model 'lr_bag' completed...                                                                                                     \n",
      "Model 'lsvc' completed...                                                                                                     \n",
      "Model 'lsvc_bag' completed...                                                                                                     \n",
      "Model 'rfc' completed...                                                                                                     \n",
      "Model 'rfc_bag' completed...                                                                                                     \n",
      "Model 'vc_hard' completed...                                                                                                     \n",
      "Model 'vc_soft' completed...                                                                                                     \n",
      "Completed 11/11 [ 13min 56s ]                                                                                                    \n"
     ]
    }
   ],
   "source": [
    "my_func.run_time(reset=True)\n",
    "model_scores = {}\n",
    "n=5\n",
    "l = len(df_models)\n",
    "for m, model in enumerate(df_models.iterrows()):\n",
    "    est = model[1]['estimator']\n",
    "    skf = StratifiedKFold(n_splits=n)\n",
    "    scores = {}\n",
    "    scores['recall'] = []\n",
    "    scores['precision']= []\n",
    "    scores['specificity'] = []\n",
    "    scores['f2'] = []\n",
    "    for i, (i_train, i_val) in enumerate(skf.split(X_train, y_train)):\n",
    "        print('\\rProcessing model: \\'{}\\' ({}/{})... Fold {}/{}... Fitting... [ {}]{}'.format(model[0], m+1, l, i+1,n,my_func.run_time(print_time=False, return_time=True),' '*20), end='')\n",
    "        est.fit(X_train[i_train], y_train[i_train])\n",
    "        print('\\rProcessing model: \\'{}\\' ({}/{})... Fold {}/{}... Predicting... [ {}]{}'.format(model[0], m+1, l, i+1,n,my_func.run_time(print_time=False, return_time=True),' '*20), end='')\n",
    "        pred = est.predict(X_train[i_val])\n",
    "        print('\\rProcessing model: \\'{}\\' ({}/{})... Fold {}/{}... Scoring... [ {}]{}'.format(model[0], m+1, l, i+1,n,my_func.run_time(print_time=False, return_time=True),' '*20), end='')\n",
    "        scores['recall'].append(recall_score(y_train[i_val], pred))\n",
    "        scores['precision'].append(precision_score(y_train[i_val], pred))\n",
    "        scores['specificity'].append(my_func.binary_specificity(y_train[i_val], pred))\n",
    "        scores['f2'].append(fbeta_score(y_train[i_val], pred, beta=2))\n",
    "    print((\"\\rModel '{}' completed... {}\".format(model[0],' '*100)))\n",
    "    score_summary = {}\n",
    "    for score_label, score_list in scores.items():\n",
    "        score_summary[score_label + '_mean'] = np.mean(score_list)\n",
    "        score_summary[score_label + '_std'] = np.std(score_list)\n",
    "    \n",
    "    scores = {**scores, **score_summary}\n",
    "    model_scores[model[0]] = scores\n",
    "print('Completed {}/{} [ {}]{}'.format(l,l,my_func.run_time(return_time=True, print_time=False), ' '*100))"
   ]
  },
  {
   "cell_type": "code",
   "execution_count": 26,
   "metadata": {
    "collapsed": true
   },
   "outputs": [],
   "source": [
    "df_models['cv_recall'] = df_models.apply(lambda x: model_scores[x['label']]['recall_mean'], axis=1)\n",
    "df_models['cv_precision'] = df_models.apply(lambda x: model_scores[x['label']]['precision_mean'], axis=1)\n",
    "df_models['cv_specificity'] = df_models.apply(lambda x: model_scores[x['label']]['specificity_mean'], axis=1)\n",
    "df_models['cv_f2'] = df_models.apply(lambda x: model_scores[x['label']]['f2_mean'], axis=1)"
   ]
  },
  {
   "cell_type": "code",
   "execution_count": 27,
   "metadata": {},
   "outputs": [
    {
     "data": {
      "text/html": [
       "<div>\n",
       "<style>\n",
       "    .dataframe thead tr:only-child th {\n",
       "        text-align: right;\n",
       "    }\n",
       "\n",
       "    .dataframe thead th {\n",
       "        text-align: left;\n",
       "    }\n",
       "\n",
       "    .dataframe tbody tr th {\n",
       "        vertical-align: top;\n",
       "    }\n",
       "</style>\n",
       "<table border=\"1\" class=\"dataframe\">\n",
       "  <thead>\n",
       "    <tr style=\"text-align: right;\">\n",
       "      <th></th>\n",
       "      <th>label</th>\n",
       "      <th>estimator</th>\n",
       "      <th>cv_recall</th>\n",
       "      <th>cv_precision</th>\n",
       "      <th>cv_specificity</th>\n",
       "      <th>cv_f2</th>\n",
       "    </tr>\n",
       "  </thead>\n",
       "  <tbody>\n",
       "    <tr>\n",
       "      <th>dtc</th>\n",
       "      <td>lr</td>\n",
       "      <td>Pipeline(memory=None,\\n     steps=[('rfe', RFE...</td>\n",
       "      <td>0.736626</td>\n",
       "      <td>0.279647</td>\n",
       "      <td>0.548176</td>\n",
       "      <td>0.555178</td>\n",
       "    </tr>\n",
       "    <tr>\n",
       "      <th>dtc_bag</th>\n",
       "      <td>lr_bag</td>\n",
       "      <td>Pipeline(memory=None,\\n     steps=[('rfe', RFE...</td>\n",
       "      <td>0.726242</td>\n",
       "      <td>0.274840</td>\n",
       "      <td>0.543451</td>\n",
       "      <td>0.546517</td>\n",
       "    </tr>\n",
       "    <tr>\n",
       "      <th>gnb_bag</th>\n",
       "      <td>lsvc</td>\n",
       "      <td>Pipeline(memory=None,\\n     steps=[('rfe', RFE...</td>\n",
       "      <td>0.688119</td>\n",
       "      <td>0.274789</td>\n",
       "      <td>0.566876</td>\n",
       "      <td>0.528628</td>\n",
       "    </tr>\n",
       "    <tr>\n",
       "      <th>lr</th>\n",
       "      <td>lsvc_bag</td>\n",
       "      <td>(LinearSVC(C=1e-07, class_weight='balanced', d...</td>\n",
       "      <td>0.716643</td>\n",
       "      <td>0.275415</td>\n",
       "      <td>0.549852</td>\n",
       "      <td>0.542141</td>\n",
       "    </tr>\n",
       "    <tr>\n",
       "      <th>lr_bag</th>\n",
       "      <td>dtc</td>\n",
       "      <td>DecisionTreeClassifier(class_weight='balanced'...</td>\n",
       "      <td>0.760743</td>\n",
       "      <td>0.274584</td>\n",
       "      <td>0.521416</td>\n",
       "      <td>0.561798</td>\n",
       "    </tr>\n",
       "    <tr>\n",
       "      <th>lsvc</th>\n",
       "      <td>dtc_bag</td>\n",
       "      <td>(DecisionTreeClassifier(class_weight='balanced...</td>\n",
       "      <td>0.754219</td>\n",
       "      <td>0.270317</td>\n",
       "      <td>0.515210</td>\n",
       "      <td>0.555363</td>\n",
       "    </tr>\n",
       "    <tr>\n",
       "      <th>lsvc_bag</th>\n",
       "      <td>rfc</td>\n",
       "      <td>(DecisionTreeClassifier(class_weight=None, cri...</td>\n",
       "      <td>0.667896</td>\n",
       "      <td>0.280434</td>\n",
       "      <td>0.591847</td>\n",
       "      <td>0.523273</td>\n",
       "    </tr>\n",
       "    <tr>\n",
       "      <th>rfc</th>\n",
       "      <td>rfc_bag</td>\n",
       "      <td>((DecisionTreeClassifier(class_weight=None, cr...</td>\n",
       "      <td>0.743762</td>\n",
       "      <td>0.257966</td>\n",
       "      <td>0.454347</td>\n",
       "      <td>0.525353</td>\n",
       "    </tr>\n",
       "    <tr>\n",
       "      <th>rfc_bag</th>\n",
       "      <td>gnb_bag</td>\n",
       "      <td>(GaussianNB(priors=None), GaussianNB(priors=No...</td>\n",
       "      <td>0.753467</td>\n",
       "      <td>0.276962</td>\n",
       "      <td>0.531551</td>\n",
       "      <td>0.560544</td>\n",
       "    </tr>\n",
       "    <tr>\n",
       "      <th>vc_hard</th>\n",
       "      <td>vc_hard</td>\n",
       "      <td>VotingClassifier(estimators=[('lr', Pipeline(m...</td>\n",
       "      <td>0.748788</td>\n",
       "      <td>0.278402</td>\n",
       "      <td>0.537643</td>\n",
       "      <td>0.559490</td>\n",
       "    </tr>\n",
       "    <tr>\n",
       "      <th>vc_soft</th>\n",
       "      <td>vc_soft</td>\n",
       "      <td>VotingClassifier(estimators=[('lr', Pipeline(m...</td>\n",
       "      <td>0.720982</td>\n",
       "      <td>0.278568</td>\n",
       "      <td>0.554781</td>\n",
       "      <td>0.546903</td>\n",
       "    </tr>\n",
       "  </tbody>\n",
       "</table>\n",
       "</div>"
      ],
      "text/plain": [
       "             label                                          estimator  \\\n",
       "dtc             lr  Pipeline(memory=None,\\n     steps=[('rfe', RFE...   \n",
       "dtc_bag     lr_bag  Pipeline(memory=None,\\n     steps=[('rfe', RFE...   \n",
       "gnb_bag       lsvc  Pipeline(memory=None,\\n     steps=[('rfe', RFE...   \n",
       "lr        lsvc_bag  (LinearSVC(C=1e-07, class_weight='balanced', d...   \n",
       "lr_bag         dtc  DecisionTreeClassifier(class_weight='balanced'...   \n",
       "lsvc       dtc_bag  (DecisionTreeClassifier(class_weight='balanced...   \n",
       "lsvc_bag       rfc  (DecisionTreeClassifier(class_weight=None, cri...   \n",
       "rfc        rfc_bag  ((DecisionTreeClassifier(class_weight=None, cr...   \n",
       "rfc_bag    gnb_bag  (GaussianNB(priors=None), GaussianNB(priors=No...   \n",
       "vc_hard    vc_hard  VotingClassifier(estimators=[('lr', Pipeline(m...   \n",
       "vc_soft    vc_soft  VotingClassifier(estimators=[('lr', Pipeline(m...   \n",
       "\n",
       "          cv_recall  cv_precision  cv_specificity     cv_f2  \n",
       "dtc        0.736626      0.279647        0.548176  0.555178  \n",
       "dtc_bag    0.726242      0.274840        0.543451  0.546517  \n",
       "gnb_bag    0.688119      0.274789        0.566876  0.528628  \n",
       "lr         0.716643      0.275415        0.549852  0.542141  \n",
       "lr_bag     0.760743      0.274584        0.521416  0.561798  \n",
       "lsvc       0.754219      0.270317        0.515210  0.555363  \n",
       "lsvc_bag   0.667896      0.280434        0.591847  0.523273  \n",
       "rfc        0.743762      0.257966        0.454347  0.525353  \n",
       "rfc_bag    0.753467      0.276962        0.531551  0.560544  \n",
       "vc_hard    0.748788      0.278402        0.537643  0.559490  \n",
       "vc_soft    0.720982      0.278568        0.554781  0.546903  "
      ]
     },
     "execution_count": 27,
     "metadata": {},
     "output_type": "execute_result"
    }
   ],
   "source": [
    "df_models"
   ]
  },
  {
   "cell_type": "code",
   "execution_count": 106,
   "metadata": {},
   "outputs": [
    {
     "data": {
      "image/png": "[encoded data removed]",
      "text/plain": [
       "<matplotlib.figure.Figure at 0x1c986bf04a8>"
      ]
     },
     "metadata": {},
     "output_type": "display_data"
    }
   ],
   "source": [
    "plt.figure(figsize=(10,5))\n",
    "ax = sns.barplot(data=df_models.sort_values('cv_recall', ascending=False), x='label', y='cv_recall', palette='GnBu', edgecolor='k')\n",
    "ax.set_xticklabels(ax.get_xticklabels(), rotation=50)\n",
    "ax.set_ylim(0.4,0.8)\n",
    "ax.hlines(0.5, -1,11, colors='r', linestyles='dashed')\n",
    "ax.set_title('CV Recall Scores (5 folds)')\n",
    "ax.set_xlabel('Model')\n",
    "ax.set_ylabel('Mean Recall Score')\n",
    "\n",
    "my_func.saveplot(plt, 'Eval_BarChart_ValRecall')\n",
    "\n",
    "plt.show()"
   ]
  },
  {
   "cell_type": "code",
   "execution_count": 107,
   "metadata": {},
   "outputs": [
    {
     "data": {
      "image/png": "[encoded data removed]",
      "text/plain": [
       "<matplotlib.figure.Figure at 0x1c986850438>"
      ]
     },
     "metadata": {},
     "output_type": "display_data"
    }
   ],
   "source": [
    "plt.figure(figsize=(10,5))\n",
    "ax = sns.barplot(data=df_models.sort_values('cv_recall', ascending=False), x='label', y='cv_precision', palette='GnBu', edgecolor='k')\n",
    "ax.set_xticklabels(ax.get_xticklabels(), rotation=50)\n",
    "ax.set_ylim(0.20,0.30)\n",
    "ax.hlines(0.25, -1,11, colors='r', linestyles='dashed')\n",
    "ax.set_title('CV Precision Scores (5 folds)')\n",
    "ax.set_xlabel('Model')\n",
    "ax.set_ylabel('Mean Precision Score')\n",
    "\n",
    "my_func.saveplot(plt, 'Eval_BarChart_ValPrecision')\n",
    "plt.show()"
   ]
  },
  {
   "cell_type": "code",
   "execution_count": 108,
   "metadata": {},
   "outputs": [
    {
     "data": {
      "image/png": "[encoded data removed]",
      "text/plain": [
       "<matplotlib.figure.Figure at 0x1c986e306a0>"
      ]
     },
     "metadata": {},
     "output_type": "display_data"
    }
   ],
   "source": [
    "plt.figure(figsize=(10,5))\n",
    "ax = sns.barplot(data=df_models.sort_values('cv_recall', ascending=False), x='label', y='cv_specificity', palette='GnBu', edgecolor='k')\n",
    "ax.set_xticklabels(ax.get_xticklabels(), rotation=50)\n",
    "ax.set_ylim(0.40,0.60)\n",
    "ax.hlines(0.5, -1,11, colors='r', linestyles='dashed')\n",
    "ax.set_title('CV Specificity Scores (5 folds)')\n",
    "ax.set_xlabel('Model')\n",
    "ax.set_ylabel('Mean Specificity Score')\n",
    "\n",
    "my_func.saveplot(plt, 'Eval_BarChart_ValSpecificity')\n",
    "plt.show()"
   ]
  },
  {
   "cell_type": "code",
   "execution_count": 109,
   "metadata": {},
   "outputs": [
    {
     "data": {
      "image/png": "[encoded data removed]",
      "text/plain": [
       "<matplotlib.figure.Figure at 0x1c984959e48>"
      ]
     },
     "metadata": {},
     "output_type": "display_data"
    }
   ],
   "source": [
    "plt.figure(figsize=(10,5))\n",
    "ax = sns.barplot(data=df_models.sort_values('cv_recall', ascending=False), x='label', y='cv_f2', palette='GnBu', edgecolor='k')\n",
    "ax.set_xticklabels(ax.get_xticklabels(), rotation=50)\n",
    "ax.set_ylim(0.4,0.6)\n",
    "ax.hlines(0.5, -1,11, colors='r', linestyles='dashed')\n",
    "ax.set_title('CV F2 Scores (5 folds)')\n",
    "ax.set_xlabel('Model')\n",
    "ax.set_ylabel('Mean F2 Score')\n",
    "\n",
    "my_func.saveplot(plt, 'Eval_BarChart_ValF2')\n",
    "plt.show()"
   ]
  },
  {
   "cell_type": "markdown",
   "metadata": {},
   "source": [
    "### Test Performance"
   ]
  },
  {
   "cell_type": "code",
   "execution_count": 46,
   "metadata": {},
   "outputs": [
    {
     "name": "stdout",
     "output_type": "stream",
     "text": [
      "Model 'dtc' completed...                                                                                 \n",
      "Model 'dtc_bag' completed...                                                                                 \n",
      "Model 'gnb_bag' completed...                                                                                 \n",
      "Model 'lr' completed...                                                                                 \n",
      "Model 'lr_bag' completed...                                                                                 \n",
      "Model 'lsvc' completed...                                                                                 \n",
      "Model 'lsvc_bag' completed...                                                                                 \n",
      "Model 'rfc' completed...                                                                                 \n",
      "Model 'rfc_bag' completed...                                                                                 \n",
      "Model 'vc_hard' completed...                                                                                 \n",
      "Model 'vc_soft' completed...                                                                                 \n",
      "Completed 11/11 [ 3min 37s ]                                                                                \n"
     ]
    }
   ],
   "source": [
    "my_func.run_time(reset=True)\n",
    "\n",
    "test_scores = {}\n",
    "l = len(df_models)\n",
    "for m, model in enumerate(df_models.iterrows()):\n",
    "    est = model[1]['estimator']\n",
    "    scores = {}\n",
    "    print('\\rProcessing model: \\'{}\\' ({}/{})... Fitting... [ {}]{}'.format(model[0], m+1, l, my_func.run_time(print_time=False, return_time=True),' '*20), end='')\n",
    "    est.fit(X_train, y_train)\n",
    "    print('\\rProcessing model: \\'{}\\' ({}/{})... Predicting... [ {}]{}'.format(model[0], m+1, l, my_func.run_time(print_time=False, return_time=True),' '*20), end='')\n",
    "    pred = est.predict(X_test)\n",
    "    print('\\rProcessing model: \\'{}\\' ({}/{})... Scoring... [ {}]{}'.format(model[0], m+1, l, my_func.run_time(print_time=False, return_time=True),' '*20), end='')\n",
    "    scores['recall'] = recall_score(y_test, pred)\n",
    "    scores['precision'] = precision_score(y_test, pred)\n",
    "    scores['specificity'] = my_func.binary_specificity(y_test, pred)\n",
    "    scores['f2'] = fbeta_score(y_test, pred, beta=2)\n",
    "    \n",
    "    test_scores[model[0]] = scores\n",
    "    print((\"\\rModel '{}' completed... {}\".format(model[0],' '*80)))\n",
    "print('Completed {}/{} [ {}]{}'.format(l,l,my_func.run_time(return_time=True, print_time=False), ' '*80))"
   ]
  },
  {
   "cell_type": "code",
   "execution_count": 50,
   "metadata": {
    "collapsed": true
   },
   "outputs": [],
   "source": [
    "df_models['test_recall'] = df_models.apply(lambda x: test_scores[x['label']]['recall'], axis=1)\n",
    "df_models['test_precision'] = df_models.apply(lambda x: test_scores[x['label']]['precision'], axis=1)\n",
    "df_models['test_specificity'] = df_models.apply(lambda x: test_scores[x['label']]['specificity'], axis=1)\n",
    "df_models['test_f2'] = df_models.apply(lambda x: test_scores[x['label']]['f2'], axis=1)"
   ]
  },
  {
   "cell_type": "code",
   "execution_count": 51,
   "metadata": {},
   "outputs": [
    {
     "data": {
      "text/html": [
       "<div>\n",
       "<style>\n",
       "    .dataframe thead tr:only-child th {\n",
       "        text-align: right;\n",
       "    }\n",
       "\n",
       "    .dataframe thead th {\n",
       "        text-align: left;\n",
       "    }\n",
       "\n",
       "    .dataframe tbody tr th {\n",
       "        vertical-align: top;\n",
       "    }\n",
       "</style>\n",
       "<table border=\"1\" class=\"dataframe\">\n",
       "  <thead>\n",
       "    <tr style=\"text-align: right;\">\n",
       "      <th></th>\n",
       "      <th>label</th>\n",
       "      <th>estimator</th>\n",
       "      <th>cv_recall</th>\n",
       "      <th>cv_precision</th>\n",
       "      <th>cv_specificity</th>\n",
       "      <th>cv_f2</th>\n",
       "      <th>test_recall</th>\n",
       "      <th>test_precision</th>\n",
       "      <th>test_specificity</th>\n",
       "      <th>test_f2</th>\n",
       "    </tr>\n",
       "  </thead>\n",
       "  <tbody>\n",
       "    <tr>\n",
       "      <th>dtc</th>\n",
       "      <td>lr</td>\n",
       "      <td>Pipeline(memory=None,\\n     steps=[('rfe', RFE...</td>\n",
       "      <td>0.736626</td>\n",
       "      <td>0.279647</td>\n",
       "      <td>0.548176</td>\n",
       "      <td>0.555178</td>\n",
       "      <td>0.735653</td>\n",
       "      <td>0.272704</td>\n",
       "      <td>0.547885</td>\n",
       "      <td>0.549189</td>\n",
       "    </tr>\n",
       "    <tr>\n",
       "      <th>dtc_bag</th>\n",
       "      <td>lr_bag</td>\n",
       "      <td>Pipeline(memory=None,\\n     steps=[('rfe', RFE...</td>\n",
       "      <td>0.726242</td>\n",
       "      <td>0.274840</td>\n",
       "      <td>0.543451</td>\n",
       "      <td>0.546517</td>\n",
       "      <td>0.737477</td>\n",
       "      <td>0.269317</td>\n",
       "      <td>0.538929</td>\n",
       "      <td>0.547226</td>\n",
       "    </tr>\n",
       "    <tr>\n",
       "      <th>gnb_bag</th>\n",
       "      <td>lsvc</td>\n",
       "      <td>Pipeline(memory=None,\\n     steps=[('rfe', RFE...</td>\n",
       "      <td>0.688119</td>\n",
       "      <td>0.274789</td>\n",
       "      <td>0.566876</td>\n",
       "      <td>0.528628</td>\n",
       "      <td>0.681212</td>\n",
       "      <td>0.269363</td>\n",
       "      <td>0.574205</td>\n",
       "      <td>0.521684</td>\n",
       "    </tr>\n",
       "    <tr>\n",
       "      <th>lr</th>\n",
       "      <td>lsvc_bag</td>\n",
       "      <td>(LinearSVC(C=1e-07, class_weight='balanced', d...</td>\n",
       "      <td>0.716643</td>\n",
       "      <td>0.275415</td>\n",
       "      <td>0.549852</td>\n",
       "      <td>0.542141</td>\n",
       "      <td>0.752070</td>\n",
       "      <td>0.259376</td>\n",
       "      <td>0.505141</td>\n",
       "      <td>0.545015</td>\n",
       "    </tr>\n",
       "    <tr>\n",
       "      <th>lr_bag</th>\n",
       "      <td>dtc</td>\n",
       "      <td>DecisionTreeClassifier(class_weight='balanced'...</td>\n",
       "      <td>0.760743</td>\n",
       "      <td>0.274584</td>\n",
       "      <td>0.521416</td>\n",
       "      <td>0.561798</td>\n",
       "      <td>0.760067</td>\n",
       "      <td>0.267625</td>\n",
       "      <td>0.520693</td>\n",
       "      <td>0.555601</td>\n",
       "    </tr>\n",
       "    <tr>\n",
       "      <th>lsvc</th>\n",
       "      <td>dtc_bag</td>\n",
       "      <td>(DecisionTreeClassifier(class_weight='balanced...</td>\n",
       "      <td>0.754219</td>\n",
       "      <td>0.270317</td>\n",
       "      <td>0.515210</td>\n",
       "      <td>0.555363</td>\n",
       "      <td>0.745054</td>\n",
       "      <td>0.264219</td>\n",
       "      <td>0.521890</td>\n",
       "      <td>0.546240</td>\n",
       "    </tr>\n",
       "    <tr>\n",
       "      <th>lsvc_bag</th>\n",
       "      <td>rfc</td>\n",
       "      <td>(DecisionTreeClassifier(class_weight=None, cri...</td>\n",
       "      <td>0.667896</td>\n",
       "      <td>0.280434</td>\n",
       "      <td>0.591847</td>\n",
       "      <td>0.523273</td>\n",
       "      <td>0.645012</td>\n",
       "      <td>0.275881</td>\n",
       "      <td>0.609868</td>\n",
       "      <td>0.508844</td>\n",
       "    </tr>\n",
       "    <tr>\n",
       "      <th>rfc</th>\n",
       "      <td>rfc_bag</td>\n",
       "      <td>((DecisionTreeClassifier(class_weight=None, cr...</td>\n",
       "      <td>0.743762</td>\n",
       "      <td>0.257966</td>\n",
       "      <td>0.454347</td>\n",
       "      <td>0.525353</td>\n",
       "      <td>0.577803</td>\n",
       "      <td>0.291808</td>\n",
       "      <td>0.676862</td>\n",
       "      <td>0.483107</td>\n",
       "    </tr>\n",
       "    <tr>\n",
       "      <th>rfc_bag</th>\n",
       "      <td>gnb_bag</td>\n",
       "      <td>(GaussianNB(priors=None), GaussianNB(priors=No...</td>\n",
       "      <td>0.753467</td>\n",
       "      <td>0.276962</td>\n",
       "      <td>0.531551</td>\n",
       "      <td>0.560544</td>\n",
       "      <td>0.753894</td>\n",
       "      <td>0.269067</td>\n",
       "      <td>0.528065</td>\n",
       "      <td>0.554180</td>\n",
       "    </tr>\n",
       "    <tr>\n",
       "      <th>vc_hard</th>\n",
       "      <td>vc_hard</td>\n",
       "      <td>VotingClassifier(estimators=[('lr', Pipeline(m...</td>\n",
       "      <td>0.748788</td>\n",
       "      <td>0.278402</td>\n",
       "      <td>0.537643</td>\n",
       "      <td>0.559490</td>\n",
       "      <td>0.728638</td>\n",
       "      <td>0.276857</td>\n",
       "      <td>0.561433</td>\n",
       "      <td>0.549349</td>\n",
       "    </tr>\n",
       "    <tr>\n",
       "      <th>vc_soft</th>\n",
       "      <td>vc_soft</td>\n",
       "      <td>VotingClassifier(estimators=[('lr', Pipeline(m...</td>\n",
       "      <td>0.720982</td>\n",
       "      <td>0.278568</td>\n",
       "      <td>0.554781</td>\n",
       "      <td>0.546903</td>\n",
       "      <td>0.710818</td>\n",
       "      <td>0.275911</td>\n",
       "      <td>0.570131</td>\n",
       "      <td>0.540443</td>\n",
       "    </tr>\n",
       "  </tbody>\n",
       "</table>\n",
       "</div>"
      ],
      "text/plain": [
       "             label                                          estimator  \\\n",
       "dtc             lr  Pipeline(memory=None,\\n     steps=[('rfe', RFE...   \n",
       "dtc_bag     lr_bag  Pipeline(memory=None,\\n     steps=[('rfe', RFE...   \n",
       "gnb_bag       lsvc  Pipeline(memory=None,\\n     steps=[('rfe', RFE...   \n",
       "lr        lsvc_bag  (LinearSVC(C=1e-07, class_weight='balanced', d...   \n",
       "lr_bag         dtc  DecisionTreeClassifier(class_weight='balanced'...   \n",
       "lsvc       dtc_bag  (DecisionTreeClassifier(class_weight='balanced...   \n",
       "lsvc_bag       rfc  (DecisionTreeClassifier(class_weight=None, cri...   \n",
       "rfc        rfc_bag  ((DecisionTreeClassifier(class_weight=None, cr...   \n",
       "rfc_bag    gnb_bag  (GaussianNB(priors=None), GaussianNB(priors=No...   \n",
       "vc_hard    vc_hard  VotingClassifier(estimators=[('lr', Pipeline(m...   \n",
       "vc_soft    vc_soft  VotingClassifier(estimators=[('lr', Pipeline(m...   \n",
       "\n",
       "          cv_recall  cv_precision  cv_specificity     cv_f2  test_recall  \\\n",
       "dtc        0.736626      0.279647        0.548176  0.555178     0.735653   \n",
       "dtc_bag    0.726242      0.274840        0.543451  0.546517     0.737477   \n",
       "gnb_bag    0.688119      0.274789        0.566876  0.528628     0.681212   \n",
       "lr         0.716643      0.275415        0.549852  0.542141     0.752070   \n",
       "lr_bag     0.760743      0.274584        0.521416  0.561798     0.760067   \n",
       "lsvc       0.754219      0.270317        0.515210  0.555363     0.745054   \n",
       "lsvc_bag   0.667896      0.280434        0.591847  0.523273     0.645012   \n",
       "rfc        0.743762      0.257966        0.454347  0.525353     0.577803   \n",
       "rfc_bag    0.753467      0.276962        0.531551  0.560544     0.753894   \n",
       "vc_hard    0.748788      0.278402        0.537643  0.559490     0.728638   \n",
       "vc_soft    0.720982      0.278568        0.554781  0.546903     0.710818   \n",
       "\n",
       "          test_precision  test_specificity   test_f2  \n",
       "dtc             0.272704          0.547885  0.549189  \n",
       "dtc_bag         0.269317          0.538929  0.547226  \n",
       "gnb_bag         0.269363          0.574205  0.521684  \n",
       "lr              0.259376          0.505141  0.545015  \n",
       "lr_bag          0.267625          0.520693  0.555601  \n",
       "lsvc            0.264219          0.521890  0.546240  \n",
       "lsvc_bag        0.275881          0.609868  0.508844  \n",
       "rfc             0.291808          0.676862  0.483107  \n",
       "rfc_bag         0.269067          0.528065  0.554180  \n",
       "vc_hard         0.276857          0.561433  0.549349  \n",
       "vc_soft         0.275911          0.570131  0.540443  "
      ]
     },
     "execution_count": 51,
     "metadata": {},
     "output_type": "execute_result"
    }
   ],
   "source": [
    "df_models"
   ]
  },
  {
   "cell_type": "code",
   "execution_count": 114,
   "metadata": {},
   "outputs": [
    {
     "data": {
      "image/png": "[encoded data removed]",
      "text/plain": [
       "<matplotlib.figure.Figure at 0x1c986d97ba8>"
      ]
     },
     "metadata": {},
     "output_type": "display_data"
    }
   ],
   "source": [
    "plt.figure(figsize=(10,5))\n",
    "ax = sns.barplot(data=df_models.sort_values('test_recall', ascending=False), x='label', y='test_recall', palette='GnBu', edgecolor='k')\n",
    "ax.set_xticklabels(ax.get_xticklabels(), rotation=50)\n",
    "ax.set_ylim(0.4,0.8)\n",
    "ax.hlines(0.5, -1,11, colors='r', linestyles='dashed')\n",
    "ax.set_title('Test Recall Scores')\n",
    "ax.set_xlabel('Model')\n",
    "ax.set_ylabel('Recall Score')\n",
    "\n",
    "my_func.saveplot(plt, 'Eval_BarChart_TestRecall')\n",
    "plt.show()"
   ]
  },
  {
   "cell_type": "code",
   "execution_count": 115,
   "metadata": {},
   "outputs": [
    {
     "data": {
      "image/png": "[encoded data removed]",
      "text/plain": [
       "<matplotlib.figure.Figure at 0x1c9873a2240>"
      ]
     },
     "metadata": {},
     "output_type": "display_data"
    }
   ],
   "source": [
    "plt.figure(figsize=(10,5))\n",
    "ax = sns.barplot(data=df_models.sort_values('test_recall', ascending=False), x='label', y='test_precision', palette='GnBu', edgecolor='k')\n",
    "ax.set_xticklabels(ax.get_xticklabels(), rotation=50)\n",
    "ax.set_ylim(0.20,0.35)\n",
    "ax.hlines(0.25, -1,11, colors='r', linestyles='dashed')\n",
    "ax.set_title('Test Precision Scores')\n",
    "ax.set_xlabel('Model')\n",
    "ax.set_ylabel('Precision Score')\n",
    "\n",
    "my_func.saveplot(plt, 'Eval_BarChart_TestPrecision')\n",
    "plt.show()"
   ]
  },
  {
   "cell_type": "code",
   "execution_count": 116,
   "metadata": {},
   "outputs": [
    {
     "data": {
      "image/png": "[encoded data removed]",
      "text/plain": [
       "<matplotlib.figure.Figure at 0x1c987318b70>"
      ]
     },
     "metadata": {},
     "output_type": "display_data"
    }
   ],
   "source": [
    "plt.figure(figsize=(10,5))\n",
    "ax = sns.barplot(data=df_models.sort_values('test_recall', ascending=False), x='label', y='test_specificity', palette='GnBu', edgecolor='k')\n",
    "ax.set_xticklabels(ax.get_xticklabels(), rotation=50)\n",
    "ax.set_ylim(0.40,0.7)\n",
    "ax.hlines(0.5, -1,11, colors='r', linestyles='dashed')\n",
    "ax.set_title('Test Specificity Scores')\n",
    "ax.set_xlabel('Model')\n",
    "ax.set_ylabel('Specifcity Score')\n",
    "\n",
    "my_func.saveplot(plt, 'Eval_BarChart_TestSpecificity')\n",
    "plt.show()"
   ]
  },
  {
   "cell_type": "code",
   "execution_count": 117,
   "metadata": {},
   "outputs": [
    {
     "data": {
      "image/png": "[encoded data removed]",
      "text/plain": [
       "<matplotlib.figure.Figure at 0x1c986f676d8>"
      ]
     },
     "metadata": {},
     "output_type": "display_data"
    }
   ],
   "source": [
    "plt.figure(figsize=(10,5))\n",
    "ax = sns.barplot(data=df_models.sort_values('test_recall', ascending=False), x='label', y='test_f2', palette='GnBu', edgecolor='k')\n",
    "ax.set_xticklabels(ax.get_xticklabels(), rotation=50)\n",
    "ax.set_ylim(0.40,0.6)\n",
    "ax.hlines(0.5, -1,11, colors='r', linestyles='dashed')\n",
    "ax.set_title('Test F2 Scores')\n",
    "ax.set_xlabel('Model')\n",
    "ax.set_ylabel('F2 Score')\n",
    "\n",
    "my_func.saveplot(plt, 'Eval_BarChart_TestF2')\n",
    "plt.show()"
   ]
  },
  {
   "cell_type": "code",
   "execution_count": 61,
   "metadata": {
    "collapsed": true
   },
   "outputs": [],
   "source": [
    "def plot_confusion_matrix(cm, classes,\n",
    "                          normalize=False,\n",
    "                          title='Confusion matrix',\n",
    "                          cmap=plt.cm.Blues):\n",
    "    \"\"\"\n",
    "    This function prints and plots the confusion matrix.\n",
    "    Normalization can be applied by setting `normalize=True`.\n",
    "    \"\"\"\n",
    "    if normalize:\n",
    "        cm = cm.astype('float') / cm.sum(axis=1)[:, np.newaxis]\n",
    "        print(\"Normalized confusion matrix\")\n",
    "    else:\n",
    "        print('Confusion matrix, without normalization')\n",
    "\n",
    "    print(cm)\n",
    "\n",
    "    plt.imshow(cm, interpolation='nearest', cmap=cmap)\n",
    "    plt.title(title)\n",
    "    plt.colorbar()\n",
    "    tick_marks = np.arange(len(classes))\n",
    "    plt.xticks(tick_marks, classes, rotation=45)\n",
    "    plt.yticks(tick_marks, classes)\n",
    "\n",
    "    fmt = '.2f' if normalize else 'd'\n",
    "    thresh = cm.max() / 2.\n",
    "    for i, j in itertools.product(range(cm.shape[0]), range(cm.shape[1])):\n",
    "        plt.text(j, i, format(cm[i, j], fmt),\n",
    "                 horizontalalignment=\"center\",\n",
    "                 color=\"white\" if cm[i, j] > thresh else \"black\")\n",
    "\n",
    "    plt.tight_layout()\n",
    "    plt.ylabel('True label')\n",
    "    plt.xlabel('Predicted label')"
   ]
  },
  {
   "cell_type": "code",
   "execution_count": 65,
   "metadata": {
    "collapsed": true
   },
   "outputs": [],
   "source": [
    "best_model = df_models.loc['dtc']['estimator']"
   ]
  },
  {
   "cell_type": "code",
   "execution_count": 66,
   "metadata": {},
   "outputs": [
    {
     "data": {
      "text/plain": [
       "Pipeline(memory=None,\n",
       "     steps=[('rfe', RFE(estimator=LogisticRegression(C=1.0, class_weight='balanced', dual=False,\n",
       "          fit_intercept=True, intercept_scaling=1, max_iter=100,\n",
       "          multi_class='ovr', n_jobs=1, penalty='l2', random_state=None,\n",
       "          solver='liblinear', tol=0.0001, verbose=0, warm_start=False),...ty='l2', random_state=None,\n",
       "          solver='liblinear', tol=0.0001, verbose=0, warm_start=False))])"
      ]
     },
     "execution_count": 66,
     "metadata": {},
     "output_type": "execute_result"
    }
   ],
   "source": [
    "best_model.fit(X_train, y_train)"
   ]
  },
  {
   "cell_type": "code",
   "execution_count": 67,
   "metadata": {
    "collapsed": true
   },
   "outputs": [],
   "source": [
    "test_pred = best_model.predict(X_test)"
   ]
  },
  {
   "cell_type": "code",
   "execution_count": 123,
   "metadata": {},
   "outputs": [
    {
     "name": "stdout",
     "output_type": "stream",
     "text": [
      "Normalized confusion matrix\n",
      "[[ 0.52069322  0.47930678]\n",
      " [ 0.23993265  0.76006735]]\n"
     ]
    },
    {
     "data": {
      "image/png": "[encoded data removed]",
      "text/plain": [
       "<matplotlib.figure.Figure at 0x1c9871e10f0>"
      ]
     },
     "metadata": {},
     "output_type": "display_data"
    }
   ],
   "source": [
    "conf_mat = confusion_matrix(y_pred=test_pred, y_true=y_test)\n",
    "\n",
    "plt.figure(figsize=(7,7))\n",
    "plot_confusion_matrix(cm=conf_mat, classes=['non-default', 'default'], normalize=True, title='Confusion Matrix: Decision Tree Classifier');\n",
    "\n",
    "my_func.saveplot(plt, 'Eval_ConfMat_DTC_Norm')\n",
    "plt.show()"
   ]
  },
  {
   "cell_type": "code",
   "execution_count": 124,
   "metadata": {},
   "outputs": [
    {
     "name": "stdout",
     "output_type": "stream",
     "text": [
      "Confusion matrix, without normalization\n",
      "[[16104 14824]\n",
      " [ 1710  5417]]\n"
     ]
    },
    {
     "data": {
      "image/png": "[encoded data removed]",
      "text/plain": [
       "<matplotlib.figure.Figure at 0x1c9871c16d8>"
      ]
     },
     "metadata": {},
     "output_type": "display_data"
    }
   ],
   "source": [
    "plt.figure(figsize=(7,7))\n",
    "plot_confusion_matrix(cm=conf_mat, classes=['non-default', 'default'], normalize=False, title='Confusion Matrix: Decision Tree Classifier');\n",
    "\n",
    "my_func.saveplot(plt, 'Eval_ConfMat_DTC_Nom')\n",
    "plt.show()"
   ]
  },
  {
   "cell_type": "markdown",
   "metadata": {},
   "source": [
    "### Saving Models"
   ]
  },
  {
   "cell_type": "code",
   "execution_count": 93,
   "metadata": {
    "collapsed": true
   },
   "outputs": [],
   "source": [
    "f = 'models_dataframe.p'\n",
    "d = ['..','models']\n",
    "fp = path.join(*d,f)\n",
    "\n",
    "with open(fp, 'wb') as file:\n",
    "    pickle.dump(df_models, file)"
   ]
  },
  {
   "cell_type": "code",
   "execution_count": 94,
   "metadata": {
    "collapsed": true
   },
   "outputs": [],
   "source": [
    "f = 'best_model_dtc.p'\n",
    "d = ['..','models']\n",
    "fp = path.join(*d,f)\n",
    "\n",
    "with open(fp, 'wb') as file:\n",
    "    pickle.dump(best_model, file)"
   ]
  }
 ],
 "metadata": {
  "kernelspec": {
   "display_name": "Python 3",
   "language": "python",
   "name": "python3"
  },
  "language_info": {
   "codemirror_mode": {
    "name": "ipython",
    "version": 3
   },
   "file_extension": ".py",
   "mimetype": "text/x-python",
   "name": "python",
   "nbconvert_exporter": "python",
   "pygments_lexer": "ipython3",
   "version": "3.6.2"
  }
 },
 "nbformat": 4,
 "nbformat_minor": 2
}

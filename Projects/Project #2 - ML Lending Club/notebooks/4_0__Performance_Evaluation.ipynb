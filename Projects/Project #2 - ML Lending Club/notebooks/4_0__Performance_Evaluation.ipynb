{
 "cells": [
  {
   "cell_type": "code",
   "execution_count": 2,
   "metadata": {
    "collapsed": true
   },
   "outputs": [],
   "source": [
    "import pandas as pd\n",
    "import numpy as np\n",
    "\n",
    "from os import path\n",
    "import pickle\n",
    "import sys\n",
    "sys.path.append('..')\n",
    "import src.functions.my_functions as my_func\n",
    "\n",
    "import matplotlib.pyplot as plt\n",
    "import matplotlib.colors as colors\n",
    "import seaborn as sns\n",
    "\n",
    "from sklearn.pipeline import Pipeline, FeatureUnion\n",
    "\n",
    "from sklearn.preprocessing import StandardScaler\n",
    "from sklearn.model_selection import train_test_split, cross_val_score\n",
    "\n",
    "from sklearn.metrics.scorer import make_scorer\n",
    "from sklearn.metrics import f1_score, recall_score, precision_score, fbeta_score\n",
    "\n",
    "from sklearn.linear_model import LogisticRegression\n",
    "from sklearn.svm import LinearSVC\n",
    "from sklearn.tree import DecisionTreeClassifier\n",
    "from sklearn.naive_bayes import GaussianNB\n",
    "from sklearn.ensemble import RandomForestClassifier, BaggingClassifier, VotingClassifier\n",
    "\n",
    "from sklearn.feature_selection import RFE, f_classif"
   ]
  },
  {
   "cell_type": "code",
   "execution_count": 3,
   "metadata": {},
   "outputs": [
    {
     "data": {
      "text/plain": [
       "<module 'src.functions.my_functions' from '..\\\\src\\\\functions\\\\my_functions.py'>"
      ]
     },
     "execution_count": 3,
     "metadata": {},
     "output_type": "execute_result"
    }
   ],
   "source": [
    "from imp import reload\n",
    "reload(my_func)"
   ]
  },
  {
   "cell_type": "markdown",
   "metadata": {},
   "source": [
    "### Data Import"
   ]
  },
  {
   "cell_type": "code",
   "execution_count": 5,
   "metadata": {
    "collapsed": true
   },
   "outputs": [],
   "source": [
    "data = {}\n",
    "\n",
    "ds = ['train', 'train_target', 'test', 'test_target']\n",
    "d = ['..', 'data', 'processed']\n",
    "\n",
    "for s in ds:    \n",
    "    fn = 'loan_'+s+'.p'\n",
    "    fp = path.join(*d, fn)\n",
    "\n",
    "    with open(fp, 'rb') as file:\n",
    "        data[s] = pickle.load(file)"
   ]
  },
  {
   "cell_type": "markdown",
   "metadata": {},
   "source": [
    "### Data Prep"
   ]
  },
  {
   "cell_type": "code",
   "execution_count": 7,
   "metadata": {
    "collapsed": true
   },
   "outputs": [],
   "source": [
    "# Columns identified thus far as best for classification (during data prep, select K best)\n",
    "num_attr = ['funded_amnt_q10', 'int_rate_delta', 'annual_inc_q10', 'dti', 'delinq_2yrs', 'inq_last_6mths',\n",
    "            'open_acc', 'revol_bal_log', 'revol_util', 'total_acc', 'collections_12_mths_ex_med',\n",
    "            'acc_now_delinq', 'rev_lim_sqrt', 'tot_cur_bal', 'tot_coll_amt', 'subgrade_p_value',\n",
    "            'lti', 'rbti', 'tbti', 'cr_line_td_log', 'emp_length_val']\n",
    "\n",
    "bin_attr = ['had_delinq', 'had_major_derog', 'had_record', 'verified', 'term_bin']\n",
    "\n",
    "cat_attr = ['purpose', 'home_ownership']"
   ]
  },
  {
   "cell_type": "code",
   "execution_count": 8,
   "metadata": {
    "collapsed": true
   },
   "outputs": [],
   "source": [
    "num_prep = Pipeline([('custom', my_func.CustomNumAttributes()), # Create custom num attr\n",
    "                     ('select', my_func.DataFrame_Selector(num_attr)), # Select num columns\n",
    "                     ('sc', StandardScaler())]) # Scale data\n",
    "\n",
    "bin_prep = Pipeline([('custom', my_func.CustomBinAttributes()), # Create custom bin attr\n",
    "                     ('select', my_func.DataFrame_Selector(bin_attr))]) # Select binary columns\n",
    "\n",
    "cat_prep = Pipeline([('encode', my_func.DataFrame_DummyEncoder(cat_attr))]) # Select & encode categrocial columns\n",
    "\n",
    "feature_prep = FeatureUnion([('num', num_prep),\n",
    "                             ('bin', bin_prep),\n",
    "                             ('cat', cat_prep)])"
   ]
  },
  {
   "cell_type": "code",
   "execution_count": 9,
   "metadata": {
    "collapsed": true
   },
   "outputs": [],
   "source": [
    "X_train = feature_prep.fit_transform(data['train'])\n",
    "X_test = feature_prep.transform(data['test'])\n",
    "\n",
    "y_train = data['train_target']['default']\n",
    "y_test = data['test_target']['default']"
   ]
  },
  {
   "cell_type": "markdown",
   "metadata": {},
   "source": [
    "### Scoring"
   ]
  },
  {
   "cell_type": "code",
   "execution_count": 11,
   "metadata": {
    "collapsed": true
   },
   "outputs": [],
   "source": [
    "f2_score = make_scorer(fbeta_score, beta=2)"
   ]
  },
  {
   "cell_type": "markdown",
   "metadata": {},
   "source": [
    "### Final Models"
   ]
  },
  {
   "cell_type": "code",
   "execution_count": 15,
   "metadata": {
    "collapsed": true
   },
   "outputs": [],
   "source": [
    "models = {}"
   ]
  },
  {
   "cell_type": "code",
   "execution_count": 25,
   "metadata": {},
   "outputs": [],
   "source": [
    "# Logistic Regression\n",
    "lr = Pipeline([('rfe', RFE(estimator=LogisticRegression(class_weight='balanced'), n_features_to_select=28)),\n",
    "                    ('estimator', LogisticRegression(class_weight='balanced', C=1e-8))])\n",
    "\n",
    "models['lr'] = lr\n",
    "\n",
    "# Bagged Logistic Regression\n",
    "lr_bag = Pipeline([('rfe', RFE(estimator=LogisticRegression(class_weight='balanced'), n_features_to_select=28)),\n",
    "                    ('estimator', BaggingClassifier(base_estimator=LogisticRegression(class_weight='balanced', C=1e-8),\n",
    "                                                   max_samples=0.2, max_features=0.8, bootstrap_features=True, bootstrap=True,\n",
    "                                                   n_estimators=10, random_state=998))])\n",
    "\n",
    "models['lr_bag'] = lr_bag"
   ]
  },
  {
   "cell_type": "code",
   "execution_count": 26,
   "metadata": {
    "collapsed": true
   },
   "outputs": [],
   "source": [
    "# Linear SVC\n",
    "lsvc = Pipeline([('rfe', RFE(estimator=LinearSVC(class_weight='balanced', dual=False), n_features_to_select=31)),\n",
    "                      ('estimator', LinearSVC(class_weight='balanced', dual=False, C=1e-7, ))])\n",
    "\n",
    "models['lsvc'] = lsvc\n",
    "\n",
    "# Bagged Linear SVC\n",
    "lsvc_bag = BaggingClassifier(base_estimator=LinearSVC(class_weight='balanced', dual=False, C=1e-7),\n",
    "                             n_estimators=10, max_samples=0.2, max_features=0.8,\n",
    "                             bootstrap_features=False, bootstrap=False,\n",
    "                             random_state=521)\n",
    "\n",
    "models['lsvc_bag'] = lsvc_bag"
   ]
  },
  {
   "cell_type": "code",
   "execution_count": 27,
   "metadata": {
    "collapsed": true
   },
   "outputs": [],
   "source": [
    "# Decision Tree\n",
    "dtc = DecisionTreeClassifier(class_weight='balanced', max_depth=4, max_features=0.4, random_state=356)\n",
    "\n",
    "models['dtc'] = dtc\n",
    "\n",
    "# Bagged Decision Tree\n",
    "dtc_bag = BaggingClassifier(base_estimator=DecisionTreeClassifier(class_weight='balanced', max_depth=1),\n",
    "                            bootstrap=False, bootstrap_features=False, \n",
    "                            max_features=0.7, max_samples=0.2,\n",
    "                            n_estimators=10, random_state=321)\n",
    "\n",
    "models['dtc_bag'] = dtc_bag"
   ]
  },
  {
   "cell_type": "code",
   "execution_count": 28,
   "metadata": {
    "collapsed": true
   },
   "outputs": [],
   "source": [
    "# Random Forest\n",
    "rfc = RandomForestClassifier(class_weight='balanced', max_features=0.5, min_samples_leaf=.095,\n",
    "                                  n_estimators=10, random_state=808)\n",
    "\n",
    "models['rfc'] = rfc\n",
    "\n",
    "# Bagged Random Forest\n",
    "rfc_bag = BaggingClassifier(base_estimator=RandomForestClassifier(class_weight='balanced', max_depth=5, min_samples_leaf=0.05),\n",
    "                                 max_features=0.2, max_samples=0.3,\n",
    "                                 n_estimators=10, random_state=748)\n",
    "\n",
    "models['rfc_bag'] = rfc_bag"
   ]
  },
  {
   "cell_type": "code",
   "execution_count": 29,
   "metadata": {
    "collapsed": true
   },
   "outputs": [],
   "source": [
    "# Bagged Gaussian Naive Bayes\n",
    "gnb_bag = BaggingClassifier(base_estimator=GaussianNB(),\n",
    "                                 max_features=0.5, max_samples=0.2,\n",
    "                                 n_estimators=50)\n",
    "\n",
    "models['gnb_bag'] = gnb_bag"
   ]
  },
  {
   "cell_type": "code",
   "execution_count": 30,
   "metadata": {
    "collapsed": true
   },
   "outputs": [],
   "source": [
    "# Hard Voting Classifier\n",
    "vc_hard_estimators = [('lr', lr),\n",
    "                   ('lsvc', lsvc), ('lsvc_bag', lsvc_bag),\n",
    "                   ('dtc', dtc), ('dtc_bag_best', dtc_bag),\n",
    "                   ('rfc_bag', rfc_bag),\n",
    "                   ('gnb', gnb_bag)]\n",
    "\n",
    "vc_hard_w = (1, 0.5, 0.5, 0.5, 1, 0.5, 0.5)\n",
    "\n",
    "vc_hard = VotingClassifier(estimators=vc_hard_estimators, voting='hard', weights=vc_hard_w, n_jobs=4)\n",
    "\n",
    "models['vc_hard'] = vc_hard"
   ]
  },
  {
   "cell_type": "code",
   "execution_count": 31,
   "metadata": {},
   "outputs": [],
   "source": [
    "# Soft Voting Classifier\n",
    "vc_soft_estimators = [('lr', lr), ('lr_bag', lr_bag),\n",
    "                   ('dtc', dtc), ('dtc_bag_best', dtc_bag),\n",
    "                   ('rfc_bag', rfc_bag),\n",
    "                   ('gnb', gnb_bag)]\n",
    "\n",
    "vc_soft_w = (1, 0.5, 1, 0.5, 1, 0.5)\n",
    "\n",
    "vc_soft = VotingClassifier(estimators=vc_soft_estimators, voting='soft', weights=vc_soft_w, n_jobs=4)\n",
    "\n",
    "models['vc_soft'] = vc_soft"
   ]
  },
  {
   "cell_type": "code",
   "execution_count": 32,
   "metadata": {
    "collapsed": true
   },
   "outputs": [],
   "source": [
    "# Hard Voting Classifier (Random)"
   ]
  },
  {
   "cell_type": "code",
   "execution_count": 33,
   "metadata": {
    "collapsed": true
   },
   "outputs": [],
   "source": [
    "# Soft Voting Classifier (Random)"
   ]
  },
  {
   "cell_type": "markdown",
   "metadata": {},
   "source": [
    "### Test Performance"
   ]
  },
  {
   "cell_type": "code",
   "execution_count": null,
   "metadata": {
    "collapsed": true
   },
   "outputs": [],
   "source": []
  }
 ],
 "metadata": {
  "kernelspec": {
   "display_name": "Python 3",
   "language": "python",
   "name": "python3"
  },
  "language_info": {
   "codemirror_mode": {
    "name": "ipython",
    "version": 3
   },
   "file_extension": ".py",
   "mimetype": "text/x-python",
   "name": "python",
   "nbconvert_exporter": "python",
   "pygments_lexer": "ipython3",
   "version": "3.6.2"
  }
 },
 "nbformat": 4,
 "nbformat_minor": 2
}

{
 "cells": [
  {
   "cell_type": "markdown",
   "metadata": {},
   "source": [
    "### Setup"
   ]
  },
  {
   "cell_type": "code",
   "execution_count": 11,
   "metadata": {
    "collapsed": true
   },
   "outputs": [],
   "source": [
    "import pandas as pd\n",
    "import numpy as np\n",
    "pd.set_option('display.max_columns', None, 'display.max_rows', 100) \n",
    "\n",
    "from os import path\n",
    "import pickle\n",
    "\n",
    "import missingno as msno\n",
    "\n",
    "from sklearn.base import BaseEstimator, TransformerMixin\n",
    "from sklearn.pipeline import Pipeline, FeatureUnion\n",
    "\n",
    "from sklearn.preprocessing import StandardScaler, LabelBinarizer, OneHotEncoder, LabelEncoder\n",
    "from sklearn.model_selection import train_test_split, GridSearchCV, cross_val_score\n",
    "\n",
    "from sklearn.metrics import confusion_matrix, f1_score\n",
    "\n",
    "from sklearn.linear_model import LogisticRegression\n",
    "\n",
    "from sklearn.svm import SVC\n",
    "\n",
    "from sklearn.neighbors import KNeighborsClassifier\n",
    "\n",
    "from sklearn.naive_bayes import GaussianNB\n",
    "\n",
    "from sklearn.tree import DecisionTreeClassifier\n",
    "from sklearn.ensemble import RandomForestClassifier"
   ]
  },
  {
   "cell_type": "markdown",
   "metadata": {},
   "source": [
    "### Import"
   ]
  },
  {
   "cell_type": "code",
   "execution_count": 2,
   "metadata": {
    "collapsed": true
   },
   "outputs": [],
   "source": [
    "f = 'loan_clean.p'\n",
    "d = ['..', 'data', 'interim']\n",
    "fp = path.join(*d, f)\n",
    "\n",
    "with open(fp, 'rb') as file:\n",
    "    data = pickle.load(file)"
   ]
  },
  {
   "cell_type": "code",
   "execution_count": 3,
   "metadata": {
    "scrolled": true
   },
   "outputs": [
    {
     "data": {
      "text/html": [
       "<div>\n",
       "<style>\n",
       "    .dataframe thead tr:only-child th {\n",
       "        text-align: right;\n",
       "    }\n",
       "\n",
       "    .dataframe thead th {\n",
       "        text-align: left;\n",
       "    }\n",
       "\n",
       "    .dataframe tbody tr th {\n",
       "        vertical-align: top;\n",
       "    }\n",
       "</style>\n",
       "<table border=\"1\" class=\"dataframe\">\n",
       "  <thead>\n",
       "    <tr style=\"text-align: right;\">\n",
       "      <th></th>\n",
       "      <th>loan_amnt</th>\n",
       "      <th>funded_amnt</th>\n",
       "      <th>funded_amnt_inv</th>\n",
       "      <th>term</th>\n",
       "      <th>int_rate</th>\n",
       "      <th>installment</th>\n",
       "      <th>grade</th>\n",
       "      <th>sub_grade</th>\n",
       "      <th>emp_length</th>\n",
       "      <th>home_ownership</th>\n",
       "      <th>annual_inc</th>\n",
       "      <th>verification_status</th>\n",
       "      <th>issue_d</th>\n",
       "      <th>loan_status</th>\n",
       "      <th>pymnt_plan</th>\n",
       "      <th>purpose</th>\n",
       "      <th>zip_code</th>\n",
       "      <th>addr_state</th>\n",
       "      <th>dti</th>\n",
       "      <th>delinq_2yrs</th>\n",
       "      <th>earliest_cr_line</th>\n",
       "      <th>inq_last_6mths</th>\n",
       "      <th>open_acc</th>\n",
       "      <th>pub_rec</th>\n",
       "      <th>revol_bal</th>\n",
       "      <th>revol_util</th>\n",
       "      <th>total_acc</th>\n",
       "      <th>initial_list_status</th>\n",
       "      <th>out_prncp</th>\n",
       "      <th>out_prncp_inv</th>\n",
       "      <th>total_pymnt</th>\n",
       "      <th>total_pymnt_inv</th>\n",
       "      <th>total_rec_prncp</th>\n",
       "      <th>total_rec_int</th>\n",
       "      <th>total_rec_late_fee</th>\n",
       "      <th>recoveries</th>\n",
       "      <th>collection_recovery_fee</th>\n",
       "      <th>last_pymnt_amnt</th>\n",
       "      <th>policy_code</th>\n",
       "      <th>application_type</th>\n",
       "      <th>acc_now_delinq</th>\n",
       "      <th>tot_coll_amt</th>\n",
       "      <th>tot_cur_bal</th>\n",
       "      <th>total_rev_hi_lim</th>\n",
       "      <th>default</th>\n",
       "      <th>default_harsh</th>\n",
       "      <th>had_delinq</th>\n",
       "      <th>had_major_derog</th>\n",
       "      <th>had_record</th>\n",
       "      <th>annual_inc_merged</th>\n",
       "      <th>dti_merged</th>\n",
       "      <th>rev_util_custom</th>\n",
       "      <th>rev_lim_custom</th>\n",
       "      <th>tot_cur_bal_filled</th>\n",
       "      <th>tot_cur_bal_med</th>\n",
       "      <th>had_collections</th>\n",
       "      <th>verification_status_merged</th>\n",
       "      <th>earliest_cr_line_td</th>\n",
       "    </tr>\n",
       "    <tr>\n",
       "      <th>id</th>\n",
       "      <th></th>\n",
       "      <th></th>\n",
       "      <th></th>\n",
       "      <th></th>\n",
       "      <th></th>\n",
       "      <th></th>\n",
       "      <th></th>\n",
       "      <th></th>\n",
       "      <th></th>\n",
       "      <th></th>\n",
       "      <th></th>\n",
       "      <th></th>\n",
       "      <th></th>\n",
       "      <th></th>\n",
       "      <th></th>\n",
       "      <th></th>\n",
       "      <th></th>\n",
       "      <th></th>\n",
       "      <th></th>\n",
       "      <th></th>\n",
       "      <th></th>\n",
       "      <th></th>\n",
       "      <th></th>\n",
       "      <th></th>\n",
       "      <th></th>\n",
       "      <th></th>\n",
       "      <th></th>\n",
       "      <th></th>\n",
       "      <th></th>\n",
       "      <th></th>\n",
       "      <th></th>\n",
       "      <th></th>\n",
       "      <th></th>\n",
       "      <th></th>\n",
       "      <th></th>\n",
       "      <th></th>\n",
       "      <th></th>\n",
       "      <th></th>\n",
       "      <th></th>\n",
       "      <th></th>\n",
       "      <th></th>\n",
       "      <th></th>\n",
       "      <th></th>\n",
       "      <th></th>\n",
       "      <th></th>\n",
       "      <th></th>\n",
       "      <th></th>\n",
       "      <th></th>\n",
       "      <th></th>\n",
       "      <th></th>\n",
       "      <th></th>\n",
       "      <th></th>\n",
       "      <th></th>\n",
       "      <th></th>\n",
       "      <th></th>\n",
       "      <th></th>\n",
       "      <th></th>\n",
       "      <th></th>\n",
       "    </tr>\n",
       "  </thead>\n",
       "  <tbody>\n",
       "    <tr>\n",
       "      <th>1077501</th>\n",
       "      <td>5000.0</td>\n",
       "      <td>5000.0</td>\n",
       "      <td>4975.0</td>\n",
       "      <td>36 months</td>\n",
       "      <td>10.65</td>\n",
       "      <td>162.87</td>\n",
       "      <td>B</td>\n",
       "      <td>B2</td>\n",
       "      <td>10+ years</td>\n",
       "      <td>RENT</td>\n",
       "      <td>24000.0</td>\n",
       "      <td>Verified</td>\n",
       "      <td>2011-12-01</td>\n",
       "      <td>Fully Paid</td>\n",
       "      <td>n</td>\n",
       "      <td>credit_card</td>\n",
       "      <td>860xx</td>\n",
       "      <td>AZ</td>\n",
       "      <td>27.65</td>\n",
       "      <td>0.0</td>\n",
       "      <td>1985-01-01</td>\n",
       "      <td>1.0</td>\n",
       "      <td>3.0</td>\n",
       "      <td>0.0</td>\n",
       "      <td>13648.0</td>\n",
       "      <td>83.7</td>\n",
       "      <td>9.0</td>\n",
       "      <td>f</td>\n",
       "      <td>0.0</td>\n",
       "      <td>0.0</td>\n",
       "      <td>5861.071414</td>\n",
       "      <td>5831.78</td>\n",
       "      <td>5000.00</td>\n",
       "      <td>861.07</td>\n",
       "      <td>0.00</td>\n",
       "      <td>0.00</td>\n",
       "      <td>0.00</td>\n",
       "      <td>171.62</td>\n",
       "      <td>1.0</td>\n",
       "      <td>INDIVIDUAL</td>\n",
       "      <td>0.0</td>\n",
       "      <td>NaN</td>\n",
       "      <td>NaN</td>\n",
       "      <td>NaN</td>\n",
       "      <td>0</td>\n",
       "      <td>0</td>\n",
       "      <td>0</td>\n",
       "      <td>0</td>\n",
       "      <td>0</td>\n",
       "      <td>24000.0</td>\n",
       "      <td>27.65</td>\n",
       "      <td>83.7</td>\n",
       "      <td>16305.854241</td>\n",
       "      <td>15008.0</td>\n",
       "      <td>15008.0</td>\n",
       "      <td>0</td>\n",
       "      <td>Verified</td>\n",
       "      <td>-9830</td>\n",
       "    </tr>\n",
       "    <tr>\n",
       "      <th>1077430</th>\n",
       "      <td>2500.0</td>\n",
       "      <td>2500.0</td>\n",
       "      <td>2500.0</td>\n",
       "      <td>60 months</td>\n",
       "      <td>15.27</td>\n",
       "      <td>59.83</td>\n",
       "      <td>C</td>\n",
       "      <td>C4</td>\n",
       "      <td>&lt; 1 year</td>\n",
       "      <td>RENT</td>\n",
       "      <td>30000.0</td>\n",
       "      <td>Source Verified</td>\n",
       "      <td>2011-12-01</td>\n",
       "      <td>Charged Off</td>\n",
       "      <td>n</td>\n",
       "      <td>car</td>\n",
       "      <td>309xx</td>\n",
       "      <td>GA</td>\n",
       "      <td>1.00</td>\n",
       "      <td>0.0</td>\n",
       "      <td>1999-04-01</td>\n",
       "      <td>5.0</td>\n",
       "      <td>3.0</td>\n",
       "      <td>0.0</td>\n",
       "      <td>1687.0</td>\n",
       "      <td>9.4</td>\n",
       "      <td>4.0</td>\n",
       "      <td>f</td>\n",
       "      <td>0.0</td>\n",
       "      <td>0.0</td>\n",
       "      <td>1008.710000</td>\n",
       "      <td>1008.71</td>\n",
       "      <td>456.46</td>\n",
       "      <td>435.17</td>\n",
       "      <td>0.00</td>\n",
       "      <td>117.08</td>\n",
       "      <td>1.11</td>\n",
       "      <td>119.66</td>\n",
       "      <td>1.0</td>\n",
       "      <td>INDIVIDUAL</td>\n",
       "      <td>0.0</td>\n",
       "      <td>NaN</td>\n",
       "      <td>NaN</td>\n",
       "      <td>NaN</td>\n",
       "      <td>1</td>\n",
       "      <td>1</td>\n",
       "      <td>0</td>\n",
       "      <td>0</td>\n",
       "      <td>0</td>\n",
       "      <td>30000.0</td>\n",
       "      <td>1.00</td>\n",
       "      <td>9.4</td>\n",
       "      <td>17946.808511</td>\n",
       "      <td>24713.0</td>\n",
       "      <td>24713.0</td>\n",
       "      <td>0</td>\n",
       "      <td>Source Verified</td>\n",
       "      <td>-4627</td>\n",
       "    </tr>\n",
       "    <tr>\n",
       "      <th>1077175</th>\n",
       "      <td>2400.0</td>\n",
       "      <td>2400.0</td>\n",
       "      <td>2400.0</td>\n",
       "      <td>36 months</td>\n",
       "      <td>15.96</td>\n",
       "      <td>84.33</td>\n",
       "      <td>C</td>\n",
       "      <td>C5</td>\n",
       "      <td>10+ years</td>\n",
       "      <td>RENT</td>\n",
       "      <td>12252.0</td>\n",
       "      <td>Not Verified</td>\n",
       "      <td>2011-12-01</td>\n",
       "      <td>Fully Paid</td>\n",
       "      <td>n</td>\n",
       "      <td>small_business</td>\n",
       "      <td>606xx</td>\n",
       "      <td>IL</td>\n",
       "      <td>8.72</td>\n",
       "      <td>0.0</td>\n",
       "      <td>2001-11-01</td>\n",
       "      <td>2.0</td>\n",
       "      <td>2.0</td>\n",
       "      <td>0.0</td>\n",
       "      <td>2956.0</td>\n",
       "      <td>98.5</td>\n",
       "      <td>10.0</td>\n",
       "      <td>f</td>\n",
       "      <td>0.0</td>\n",
       "      <td>0.0</td>\n",
       "      <td>3003.653644</td>\n",
       "      <td>3003.65</td>\n",
       "      <td>2400.00</td>\n",
       "      <td>603.65</td>\n",
       "      <td>0.00</td>\n",
       "      <td>0.00</td>\n",
       "      <td>0.00</td>\n",
       "      <td>649.91</td>\n",
       "      <td>1.0</td>\n",
       "      <td>INDIVIDUAL</td>\n",
       "      <td>0.0</td>\n",
       "      <td>NaN</td>\n",
       "      <td>NaN</td>\n",
       "      <td>NaN</td>\n",
       "      <td>0</td>\n",
       "      <td>0</td>\n",
       "      <td>0</td>\n",
       "      <td>0</td>\n",
       "      <td>0</td>\n",
       "      <td>12252.0</td>\n",
       "      <td>8.72</td>\n",
       "      <td>98.5</td>\n",
       "      <td>3001.015228</td>\n",
       "      <td>15008.0</td>\n",
       "      <td>15008.0</td>\n",
       "      <td>0</td>\n",
       "      <td>Not Verified</td>\n",
       "      <td>-3682</td>\n",
       "    </tr>\n",
       "    <tr>\n",
       "      <th>1076863</th>\n",
       "      <td>10000.0</td>\n",
       "      <td>10000.0</td>\n",
       "      <td>10000.0</td>\n",
       "      <td>36 months</td>\n",
       "      <td>13.49</td>\n",
       "      <td>339.31</td>\n",
       "      <td>C</td>\n",
       "      <td>C1</td>\n",
       "      <td>10+ years</td>\n",
       "      <td>RENT</td>\n",
       "      <td>49200.0</td>\n",
       "      <td>Source Verified</td>\n",
       "      <td>2011-12-01</td>\n",
       "      <td>Fully Paid</td>\n",
       "      <td>n</td>\n",
       "      <td>other</td>\n",
       "      <td>917xx</td>\n",
       "      <td>CA</td>\n",
       "      <td>20.00</td>\n",
       "      <td>0.0</td>\n",
       "      <td>1996-02-01</td>\n",
       "      <td>1.0</td>\n",
       "      <td>10.0</td>\n",
       "      <td>0.0</td>\n",
       "      <td>5598.0</td>\n",
       "      <td>21.0</td>\n",
       "      <td>37.0</td>\n",
       "      <td>f</td>\n",
       "      <td>0.0</td>\n",
       "      <td>0.0</td>\n",
       "      <td>12226.302212</td>\n",
       "      <td>12226.30</td>\n",
       "      <td>10000.00</td>\n",
       "      <td>2209.33</td>\n",
       "      <td>16.97</td>\n",
       "      <td>0.00</td>\n",
       "      <td>0.00</td>\n",
       "      <td>357.48</td>\n",
       "      <td>1.0</td>\n",
       "      <td>INDIVIDUAL</td>\n",
       "      <td>0.0</td>\n",
       "      <td>NaN</td>\n",
       "      <td>NaN</td>\n",
       "      <td>NaN</td>\n",
       "      <td>0</td>\n",
       "      <td>0</td>\n",
       "      <td>1</td>\n",
       "      <td>0</td>\n",
       "      <td>0</td>\n",
       "      <td>49200.0</td>\n",
       "      <td>20.00</td>\n",
       "      <td>21.0</td>\n",
       "      <td>26657.142857</td>\n",
       "      <td>49042.0</td>\n",
       "      <td>49042.0</td>\n",
       "      <td>0</td>\n",
       "      <td>Source Verified</td>\n",
       "      <td>-5782</td>\n",
       "    </tr>\n",
       "    <tr>\n",
       "      <th>1075269</th>\n",
       "      <td>5000.0</td>\n",
       "      <td>5000.0</td>\n",
       "      <td>5000.0</td>\n",
       "      <td>36 months</td>\n",
       "      <td>7.90</td>\n",
       "      <td>156.46</td>\n",
       "      <td>A</td>\n",
       "      <td>A4</td>\n",
       "      <td>3 years</td>\n",
       "      <td>RENT</td>\n",
       "      <td>36000.0</td>\n",
       "      <td>Source Verified</td>\n",
       "      <td>2011-12-01</td>\n",
       "      <td>Fully Paid</td>\n",
       "      <td>n</td>\n",
       "      <td>wedding</td>\n",
       "      <td>852xx</td>\n",
       "      <td>AZ</td>\n",
       "      <td>11.20</td>\n",
       "      <td>0.0</td>\n",
       "      <td>2004-11-01</td>\n",
       "      <td>3.0</td>\n",
       "      <td>9.0</td>\n",
       "      <td>0.0</td>\n",
       "      <td>7963.0</td>\n",
       "      <td>28.3</td>\n",
       "      <td>12.0</td>\n",
       "      <td>f</td>\n",
       "      <td>0.0</td>\n",
       "      <td>0.0</td>\n",
       "      <td>5631.377753</td>\n",
       "      <td>5631.38</td>\n",
       "      <td>5000.00</td>\n",
       "      <td>631.38</td>\n",
       "      <td>0.00</td>\n",
       "      <td>0.00</td>\n",
       "      <td>0.00</td>\n",
       "      <td>161.03</td>\n",
       "      <td>1.0</td>\n",
       "      <td>INDIVIDUAL</td>\n",
       "      <td>0.0</td>\n",
       "      <td>NaN</td>\n",
       "      <td>NaN</td>\n",
       "      <td>NaN</td>\n",
       "      <td>0</td>\n",
       "      <td>0</td>\n",
       "      <td>0</td>\n",
       "      <td>0</td>\n",
       "      <td>0</td>\n",
       "      <td>36000.0</td>\n",
       "      <td>11.20</td>\n",
       "      <td>28.3</td>\n",
       "      <td>28137.809187</td>\n",
       "      <td>30048.0</td>\n",
       "      <td>30048.0</td>\n",
       "      <td>0</td>\n",
       "      <td>Source Verified</td>\n",
       "      <td>-2586</td>\n",
       "    </tr>\n",
       "  </tbody>\n",
       "</table>\n",
       "</div>"
      ],
      "text/plain": [
       "         loan_amnt  funded_amnt  funded_amnt_inv        term  int_rate  \\\n",
       "id                                                                       \n",
       "1077501     5000.0       5000.0           4975.0   36 months     10.65   \n",
       "1077430     2500.0       2500.0           2500.0   60 months     15.27   \n",
       "1077175     2400.0       2400.0           2400.0   36 months     15.96   \n",
       "1076863    10000.0      10000.0          10000.0   36 months     13.49   \n",
       "1075269     5000.0       5000.0           5000.0   36 months      7.90   \n",
       "\n",
       "         installment grade sub_grade emp_length home_ownership  annual_inc  \\\n",
       "id                                                                           \n",
       "1077501       162.87     B        B2  10+ years           RENT     24000.0   \n",
       "1077430        59.83     C        C4   < 1 year           RENT     30000.0   \n",
       "1077175        84.33     C        C5  10+ years           RENT     12252.0   \n",
       "1076863       339.31     C        C1  10+ years           RENT     49200.0   \n",
       "1075269       156.46     A        A4    3 years           RENT     36000.0   \n",
       "\n",
       "        verification_status    issue_d  loan_status pymnt_plan  \\\n",
       "id                                                               \n",
       "1077501            Verified 2011-12-01   Fully Paid          n   \n",
       "1077430     Source Verified 2011-12-01  Charged Off          n   \n",
       "1077175        Not Verified 2011-12-01   Fully Paid          n   \n",
       "1076863     Source Verified 2011-12-01   Fully Paid          n   \n",
       "1075269     Source Verified 2011-12-01   Fully Paid          n   \n",
       "\n",
       "                purpose zip_code addr_state    dti  delinq_2yrs  \\\n",
       "id                                                                \n",
       "1077501     credit_card    860xx         AZ  27.65          0.0   \n",
       "1077430             car    309xx         GA   1.00          0.0   \n",
       "1077175  small_business    606xx         IL   8.72          0.0   \n",
       "1076863           other    917xx         CA  20.00          0.0   \n",
       "1075269         wedding    852xx         AZ  11.20          0.0   \n",
       "\n",
       "        earliest_cr_line  inq_last_6mths  open_acc  pub_rec  revol_bal  \\\n",
       "id                                                                       \n",
       "1077501       1985-01-01             1.0       3.0      0.0    13648.0   \n",
       "1077430       1999-04-01             5.0       3.0      0.0     1687.0   \n",
       "1077175       2001-11-01             2.0       2.0      0.0     2956.0   \n",
       "1076863       1996-02-01             1.0      10.0      0.0     5598.0   \n",
       "1075269       2004-11-01             3.0       9.0      0.0     7963.0   \n",
       "\n",
       "         revol_util  total_acc initial_list_status  out_prncp  out_prncp_inv  \\\n",
       "id                                                                             \n",
       "1077501        83.7        9.0                   f        0.0            0.0   \n",
       "1077430         9.4        4.0                   f        0.0            0.0   \n",
       "1077175        98.5       10.0                   f        0.0            0.0   \n",
       "1076863        21.0       37.0                   f        0.0            0.0   \n",
       "1075269        28.3       12.0                   f        0.0            0.0   \n",
       "\n",
       "          total_pymnt  total_pymnt_inv  total_rec_prncp  total_rec_int  \\\n",
       "id                                                                       \n",
       "1077501   5861.071414          5831.78          5000.00         861.07   \n",
       "1077430   1008.710000          1008.71           456.46         435.17   \n",
       "1077175   3003.653644          3003.65          2400.00         603.65   \n",
       "1076863  12226.302212         12226.30         10000.00        2209.33   \n",
       "1075269   5631.377753          5631.38          5000.00         631.38   \n",
       "\n",
       "         total_rec_late_fee  recoveries  collection_recovery_fee  \\\n",
       "id                                                                 \n",
       "1077501                0.00        0.00                     0.00   \n",
       "1077430                0.00      117.08                     1.11   \n",
       "1077175                0.00        0.00                     0.00   \n",
       "1076863               16.97        0.00                     0.00   \n",
       "1075269                0.00        0.00                     0.00   \n",
       "\n",
       "         last_pymnt_amnt  policy_code application_type  acc_now_delinq  \\\n",
       "id                                                                       \n",
       "1077501           171.62          1.0       INDIVIDUAL             0.0   \n",
       "1077430           119.66          1.0       INDIVIDUAL             0.0   \n",
       "1077175           649.91          1.0       INDIVIDUAL             0.0   \n",
       "1076863           357.48          1.0       INDIVIDUAL             0.0   \n",
       "1075269           161.03          1.0       INDIVIDUAL             0.0   \n",
       "\n",
       "         tot_coll_amt  tot_cur_bal  total_rev_hi_lim  default  default_harsh  \\\n",
       "id                                                                             \n",
       "1077501           NaN          NaN               NaN        0              0   \n",
       "1077430           NaN          NaN               NaN        1              1   \n",
       "1077175           NaN          NaN               NaN        0              0   \n",
       "1076863           NaN          NaN               NaN        0              0   \n",
       "1075269           NaN          NaN               NaN        0              0   \n",
       "\n",
       "         had_delinq  had_major_derog  had_record  annual_inc_merged  \\\n",
       "id                                                                    \n",
       "1077501           0                0           0            24000.0   \n",
       "1077430           0                0           0            30000.0   \n",
       "1077175           0                0           0            12252.0   \n",
       "1076863           1                0           0            49200.0   \n",
       "1075269           0                0           0            36000.0   \n",
       "\n",
       "         dti_merged  rev_util_custom  rev_lim_custom  tot_cur_bal_filled  \\\n",
       "id                                                                         \n",
       "1077501       27.65             83.7    16305.854241             15008.0   \n",
       "1077430        1.00              9.4    17946.808511             24713.0   \n",
       "1077175        8.72             98.5     3001.015228             15008.0   \n",
       "1076863       20.00             21.0    26657.142857             49042.0   \n",
       "1075269       11.20             28.3    28137.809187             30048.0   \n",
       "\n",
       "         tot_cur_bal_med  had_collections verification_status_merged  \\\n",
       "id                                                                     \n",
       "1077501          15008.0                0                   Verified   \n",
       "1077430          24713.0                0            Source Verified   \n",
       "1077175          15008.0                0               Not Verified   \n",
       "1076863          49042.0                0            Source Verified   \n",
       "1075269          30048.0                0            Source Verified   \n",
       "\n",
       "         earliest_cr_line_td  \n",
       "id                            \n",
       "1077501                -9830  \n",
       "1077430                -4627  \n",
       "1077175                -3682  \n",
       "1076863                -5782  \n",
       "1075269                -2586  "
      ]
     },
     "execution_count": 3,
     "metadata": {},
     "output_type": "execute_result"
    }
   ],
   "source": [
    "data.head()"
   ]
  },
  {
   "cell_type": "code",
   "execution_count": 13,
   "metadata": {},
   "outputs": [
    {
     "data": {
      "image/png": "[encoded data removed]",
      "text/plain": [
       "<matplotlib.figure.Figure at 0x12414708be0>"
      ]
     },
     "metadata": {},
     "output_type": "display_data"
    }
   ],
   "source": [
    "msno.matrix(data, labels=True)"
   ]
  },
  {
   "cell_type": "code",
   "execution_count": 14,
   "metadata": {},
   "outputs": [
    {
     "data": {
      "text/plain": [
       "loan_amnt                         0\n",
       "funded_amnt                       0\n",
       "funded_amnt_inv                   0\n",
       "term                              0\n",
       "int_rate                          0\n",
       "installment                       0\n",
       "grade                             0\n",
       "sub_grade                         0\n",
       "emp_length                        0\n",
       "home_ownership                    0\n",
       "annual_inc                        0\n",
       "verification_status               0\n",
       "issue_d                           0\n",
       "loan_status                       0\n",
       "pymnt_plan                        0\n",
       "purpose                           0\n",
       "zip_code                          0\n",
       "addr_state                        0\n",
       "dti                               0\n",
       "delinq_2yrs                       0\n",
       "earliest_cr_line                  0\n",
       "inq_last_6mths                    0\n",
       "open_acc                          0\n",
       "pub_rec                           0\n",
       "revol_bal                         0\n",
       "revol_util                      211\n",
       "total_acc                         0\n",
       "initial_list_status               0\n",
       "out_prncp                         0\n",
       "out_prncp_inv                     0\n",
       "total_pymnt                       0\n",
       "total_pymnt_inv                   0\n",
       "total_rec_prncp                   0\n",
       "total_rec_int                     0\n",
       "total_rec_late_fee                0\n",
       "recoveries                        0\n",
       "collection_recovery_fee           0\n",
       "last_pymnt_amnt                   0\n",
       "policy_code                       0\n",
       "application_type                  0\n",
       "acc_now_delinq                    0\n",
       "tot_coll_amt                  66446\n",
       "tot_cur_bal                   66446\n",
       "total_rev_hi_lim              66446\n",
       "default                           0\n",
       "had_delinq                        0\n",
       "had_major_derog                   0\n",
       "had_record                        0\n",
       "annual_inc_merged                 0\n",
       "dti_merged                        0\n",
       "rev_util_custom                   0\n",
       "rev_lim_custom                    0\n",
       "tot_cur_bal_filled                0\n",
       "tot_cur_bal_med                   0\n",
       "had_collections                   0\n",
       "verification_status_merged        0\n",
       "earliest_cr_line_td               0\n",
       "dtype: int64"
      ]
     },
     "execution_count": 14,
     "metadata": {},
     "output_type": "execute_result"
    }
   ],
   "source": [
    "data.isnull().sum()"
   ]
  },
  {
   "cell_type": "markdown",
   "metadata": {},
   "source": [
    "### Target Variable"
   ]
  },
  {
   "cell_type": "markdown",
   "metadata": {},
   "source": [
    "For this classification problem, our goal is to identify loans that will default. The original column capturing this information is <i>loan_status</i>, however these values extend beyond simple default/paid, so this has to be simplified into a binary true/false value.\n",
    "\n",
    "During initial data cleaning two new column were created: one identifying basic default loans (status of Default of Charged Off), and one which was more unforgiving in classifying defaults by including any late loans as well. For the purpose of this MVP analysis, we will keep things simple and focus on the basic definition of a defualt loan.\n",
    "\n",
    "As for the other statuses, all current loans need to be removed from the dataset. Analysis can only be conducted on loans that have completed their term or been written off, since otherwise ther is no way of knowing the terminal status of paid / default. The basic current / active loans were already removed during data cleaning, but we will also need to drop the 'late' loans since we are opting to not identify these as default."
   ]
  },
  {
   "cell_type": "code",
   "execution_count": 5,
   "metadata": {
    "collapsed": true
   },
   "outputs": [],
   "source": [
    "# Extract late loans\n",
    "late_mask = data['loan_status'].str.contains('Late')\n",
    "data_late = data[late_mask]"
   ]
  },
  {
   "cell_type": "code",
   "execution_count": 4,
   "metadata": {
    "collapsed": true
   },
   "outputs": [],
   "source": [
    "# Save late loan data in separate file\n",
    "f = 'loan_late.p'\n",
    "d = ['..', 'data', 'interim']\n",
    "fp = path.join(*d, f)\n",
    "\n",
    "with open(fp, 'wb') as file:\n",
    "    pickle.dump(data_late, file)"
   ]
  },
  {
   "cell_type": "code",
   "execution_count": 6,
   "metadata": {},
   "outputs": [],
   "source": [
    "# Remove late status entries\n",
    "data = data[~late_mask].copy()"
   ]
  },
  {
   "cell_type": "code",
   "execution_count": 7,
   "metadata": {},
   "outputs": [
    {
     "data": {
      "text/plain": [
       "Fully Paid     209685\n",
       "Charged Off     46006\n",
       "Default          1219\n",
       "Name: loan_status, dtype: int64"
      ]
     },
     "execution_count": 7,
     "metadata": {},
     "output_type": "execute_result"
    }
   ],
   "source": [
    "data['loan_status'].value_counts()"
   ]
  },
  {
   "cell_type": "code",
   "execution_count": 8,
   "metadata": {},
   "outputs": [
    {
     "data": {
      "text/plain": [
       "0    209685\n",
       "1     47225\n",
       "Name: default, dtype: int64"
      ]
     },
     "execution_count": 8,
     "metadata": {},
     "output_type": "execute_result"
    }
   ],
   "source": [
    "data['default'].value_counts()"
   ]
  },
  {
   "cell_type": "code",
   "execution_count": 9,
   "metadata": {
    "collapsed": true
   },
   "outputs": [],
   "source": [
    "# Drop alternative default status column used for including late status loans as default\n",
    "data.drop('default_harsh', axis=1, inplace=True)"
   ]
  },
  {
   "cell_type": "code",
   "execution_count": 10,
   "metadata": {
    "collapsed": true
   },
   "outputs": [],
   "source": [
    "target = data['default']"
   ]
  },
  {
   "cell_type": "markdown",
   "metadata": {},
   "source": [
    "### Feature Selection"
   ]
  },
  {
   "cell_type": "markdown",
   "metadata": {},
   "source": [
    "For the purpose of this MVP analysis and setting some basic benchmarks for comparison with more in-depth models, feature selection will be limited to a few key variables, which based off the data analysis thus far (see EDA) one would anticipate to influence whether a loan defaults:"
   ]
  },
  {
   "cell_type": "code",
   "execution_count": 20,
   "metadata": {
    "collapsed": true
   },
   "outputs": [],
   "source": [
    "num_attr = ['annual_inc_merged', 'int_rate', 'dti_merged', 'rev_util_custom', 'rev_lim_custom', 'tot_cur_bal_filled', 'loan_amnt', 'installment',\n",
    "            'inq_last_6mths', 'earliest_cr_line_td', 'total_acc', 'open_acc', 'delinq_2yrs', 'pub_rec', 'collection_recovery_fee',\n",
    "            'acc_now_delinq', 'had_delinq', 'had_major_derog', 'had_record', 'had_collections']\n",
    "\n",
    "cat_attr = ['grade','sub_grade', 'emp_length', 'purpose', 'home_ownership', 'verification_status_merged', 'application_type', 'term']"
   ]
  },
  {
   "cell_type": "markdown",
   "metadata": {},
   "source": [
    "Note that any columns containing payment summaries have been deliberately omitted. The reasoning for this is that these values can only be known after a loan has completed its term. Consequently, these values do not reflect he loans properties at the time of issuing and/or initial investment, which is what our analysis is interested in.\n",
    "\n",
    "Preparing the basic pipelines to set up the new dataframe:"
   ]
  },
  {
   "cell_type": "code",
   "execution_count": 21,
   "metadata": {
    "collapsed": true
   },
   "outputs": [],
   "source": [
    "# Class for selecting attributes from a dataframe, for use in pipelines\n",
    "\n",
    "class DataFrame_Selector(BaseEstimator, TransformerMixin):\n",
    "    def __init__(self, attribute_names):\n",
    "        self.attribute_names = attribute_names\n",
    "    def fit(self, X, y=None):\n",
    "        return self\n",
    "    def transform(self, X):\n",
    "        return X[self.attribute_names].values"
   ]
  },
  {
   "cell_type": "code",
   "execution_count": 22,
   "metadata": {
    "collapsed": true
   },
   "outputs": [],
   "source": [
    "class DataFrame_DummyEncoder(BaseEstimator, TransformerMixin):\n",
    "    def __init__(self, attribute_names):\n",
    "        self.attribute_names = attribute_names\n",
    "    def fit(self, X, y=None):\n",
    "        return self\n",
    "    def transform(self, X):\n",
    "        dummies = pd.get_dummies(X[self.attribute_names])\n",
    "        return dummies.values"
   ]
  },
  {
   "cell_type": "code",
   "execution_count": 23,
   "metadata": {
    "collapsed": true
   },
   "outputs": [],
   "source": [
    "num_pipeline = Pipeline([('selector', DataFrame_Selector(num_attr)),\n",
    "                         ('std_scaler', StandardScaler())])\n",
    "\n",
    "cat_pipeline = Pipeline([('selector', DataFrame_DummyEncoder(cat_attr))])\n",
    "\n",
    "prep_pipeline = FeatureUnion(transformer_list=[('num_pipeline', num_pipeline),\n",
    "                                               ('cat_pipeline', cat_pipeline)])"
   ]
  },
  {
   "cell_type": "code",
   "execution_count": 24,
   "metadata": {},
   "outputs": [],
   "source": [
    "data_prepared = prep_pipeline.fit_transform(data)"
   ]
  },
  {
   "cell_type": "code",
   "execution_count": 29,
   "metadata": {},
   "outputs": [
    {
     "data": {
      "text/plain": [
       "(256910, 101)"
      ]
     },
     "execution_count": 29,
     "metadata": {},
     "output_type": "execute_result"
    }
   ],
   "source": [
    "data_prepared.shape"
   ]
  },
  {
   "cell_type": "markdown",
   "metadata": {},
   "source": [
    "### Modeling"
   ]
  },
  {
   "cell_type": "markdown",
   "metadata": {},
   "source": [
    "##### Train/Test Split"
   ]
  },
  {
   "cell_type": "code",
   "execution_count": 25,
   "metadata": {
    "collapsed": true
   },
   "outputs": [],
   "source": [
    "X = data_prepared\n",
    "y = target\n",
    "\n",
    "X_train, X_test, y_train, y_test = train_test_split(X, y, test_size=0.2, random_state=42)"
   ]
  },
  {
   "cell_type": "markdown",
   "metadata": {},
   "source": [
    "##### Logistic Regression\n"
   ]
  },
  {
   "cell_type": "code",
   "execution_count": 26,
   "metadata": {
    "collapsed": true
   },
   "outputs": [],
   "source": [
    "logreg = LogisticRegression()"
   ]
  },
  {
   "cell_type": "code",
   "execution_count": 27,
   "metadata": {},
   "outputs": [
    {
     "data": {
      "text/plain": [
       "0.5783686745105322"
      ]
     },
     "execution_count": 27,
     "metadata": {},
     "output_type": "execute_result"
    }
   ],
   "source": [
    "logreg_cvs = cross_val_score(estimator=logreg, X=X_train, y=y_train, cv=10, scoring='f1', n_jobs=-1)\n",
    "logreg_cvs.mean()"
   ]
  },
  {
   "cell_type": "code",
   "execution_count": 30,
   "metadata": {
    "collapsed": true
   },
   "outputs": [],
   "source": [
    "logreg.fit(X_train, y_train);\n",
    "train_predict = logreg.predict(X_train)\n",
    "test_predict = logreg.predict(X_test)"
   ]
  },
  {
   "cell_type": "code",
   "execution_count": 31,
   "metadata": {},
   "outputs": [
    {
     "data": {
      "text/plain": [
       "0.51486857591212243"
      ]
     },
     "execution_count": 31,
     "metadata": {},
     "output_type": "execute_result"
    }
   ],
   "source": [
    "f1_score(train_predict, y_train)"
   ]
  },
  {
   "cell_type": "code",
   "execution_count": 32,
   "metadata": {
    "collapsed": true
   },
   "outputs": [],
   "source": [
    "param_grid = {'C': [0.001, 0.01, 0.1, 1, 10, 100, 100]}\n",
    "\n",
    "logreg_gs = GridSearchCV(estimator=logreg,\n",
    "                  param_grid = param_grid,\n",
    "                  scoring='f1',\n",
    "                  cv=3,\n",
    "                  n_jobs=-1)\n",
    "\n",
    "logreg_gs.fit(X_train, y_train);"
   ]
  },
  {
   "cell_type": "code",
   "execution_count": 33,
   "metadata": {},
   "outputs": [
    {
     "data": {
      "text/plain": [
       "0.56474083571877298"
      ]
     },
     "execution_count": 33,
     "metadata": {},
     "output_type": "execute_result"
    }
   ],
   "source": [
    "logreg_gs.best_score_"
   ]
  },
  {
   "cell_type": "code",
   "execution_count": 34,
   "metadata": {},
   "outputs": [
    {
     "data": {
      "text/plain": [
       "{'C': 100}"
      ]
     },
     "execution_count": 34,
     "metadata": {},
     "output_type": "execute_result"
    }
   ],
   "source": [
    "logreg_gs.best_params_"
   ]
  },
  {
   "cell_type": "code",
   "execution_count": null,
   "metadata": {
    "collapsed": true
   },
   "outputs": [],
   "source": [
    "logreg_best = logreg_gs.best_estimator_"
   ]
  },
  {
   "cell_type": "code",
   "execution_count": null,
   "metadata": {},
   "outputs": [],
   "source": [
    "logreg_cvs = cross_val_score(estimator=logreg_best, X=X_train, y=y_train, cv=10, scoring='f1', n_jobs=-1)\n",
    "logreg_cvs.mean()"
   ]
  },
  {
   "cell_type": "markdown",
   "metadata": {},
   "source": [
    "### Naive Bayes Classifier"
   ]
  },
  {
   "cell_type": "code",
   "execution_count": null,
   "metadata": {
    "collapsed": true
   },
   "outputs": [],
   "source": []
  },
  {
   "cell_type": "markdown",
   "metadata": {},
   "source": [
    "##### KNN"
   ]
  },
  {
   "cell_type": "code",
   "execution_count": 25,
   "metadata": {
    "collapsed": true
   },
   "outputs": [],
   "source": [
    "knc = KNeighborsClassifier()"
   ]
  },
  {
   "cell_type": "code",
   "execution_count": 28,
   "metadata": {
    "collapsed": true
   },
   "outputs": [],
   "source": [
    "KNeighborsClassifier?"
   ]
  },
  {
   "cell_type": "code",
   "execution_count": 27,
   "metadata": {},
   "outputs": [
    {
     "data": {
      "text/plain": [
       "KNeighborsClassifier(algorithm='auto', leaf_size=30, metric='minkowski',\n",
       "           metric_params=None, n_jobs=1, n_neighbors=5, p=2,\n",
       "           weights='uniform')"
      ]
     },
     "execution_count": 27,
     "metadata": {},
     "output_type": "execute_result"
    }
   ],
   "source": [
    "knc.fit(X_train, y_train)"
   ]
  },
  {
   "cell_type": "code",
   "execution_count": null,
   "metadata": {
    "collapsed": true
   },
   "outputs": [],
   "source": [
    "knc_pred = knc.predict(X_train)"
   ]
  },
  {
   "cell_type": "code",
   "execution_count": null,
   "metadata": {
    "collapsed": true
   },
   "outputs": [],
   "source": [
    "f1_score(knc_pred, y_train)"
   ]
  },
  {
   "cell_type": "code",
   "execution_count": null,
   "metadata": {
    "collapsed": true
   },
   "outputs": [],
   "source": [
    "knc_cvs = cross_val_score(estimator=knc, X=X_train, y=y_train, cv=3, scoring='f1', n_jobs=5)\n",
    "knc_cvs.mean()"
   ]
  },
  {
   "cell_type": "code",
   "execution_count": null,
   "metadata": {
    "collapsed": true
   },
   "outputs": [],
   "source": [
    "1"
   ]
  },
  {
   "cell_type": "markdown",
   "metadata": {},
   "source": [
    "##### Random Forest Classifier"
   ]
  },
  {
   "cell_type": "code",
   "execution_count": null,
   "metadata": {
    "collapsed": true
   },
   "outputs": [],
   "source": [
    "from sklearn.ensemble import RandomForestClassifier\n",
    "\n",
    "model = RandomForestClassifier(n_estimators=50, criterion='gini', max_features=0.2, n_jobs=-1)\n",
    "model.fit(data_prepared, target)\n",
    "f1_score(model.predict(data_prepared), target)"
   ]
  },
  {
   "cell_type": "code",
   "execution_count": null,
   "metadata": {
    "collapsed": true
   },
   "outputs": [],
   "source": [
    "confusion_matrix(model.predict(data_prepared), target)"
   ]
  }
 ],
 "metadata": {
  "kernelspec": {
   "display_name": "Python 3",
   "language": "python",
   "name": "python3"
  },
  "language_info": {
   "codemirror_mode": {
    "name": "ipython",
    "version": 3
   },
   "file_extension": ".py",
   "mimetype": "text/x-python",
   "name": "python",
   "nbconvert_exporter": "python",
   "pygments_lexer": "ipython3",
   "version": "3.6.2"
  }
 },
 "nbformat": 4,
 "nbformat_minor": 2
}

{
 "cells": [
  {
   "cell_type": "markdown",
   "metadata": {},
   "source": [
    "### Setup"
   ]
  },
  {
   "cell_type": "code",
   "execution_count": 1,
   "metadata": {
    "collapsed": true
   },
   "outputs": [],
   "source": [
    "import pandas as pd\n",
    "import numpy as np\n",
    "pd.set_option('display.max_columns', None, 'display.max_rows', 100) \n",
    "\n",
    "from os import path\n",
    "import pickle\n",
    "\n",
    "import missingno as msno\n",
    "import matplotlib.pyplot as plt\n",
    "\n",
    "from sklearn.base import BaseEstimator, TransformerMixin\n",
    "from sklearn.pipeline import Pipeline, FeatureUnion\n",
    "\n",
    "from sklearn.preprocessing import StandardScaler, LabelBinarizer, OneHotEncoder, LabelEncoder\n",
    "from sklearn.model_selection import train_test_split, GridSearchCV, cross_val_score, RandomizedSearchCV, cross_val_predict\n",
    "\n",
    "from sklearn.metrics import confusion_matrix, f1_score, recall_score, precision_score, precision_recall_curve\n",
    "\n",
    "from sklearn.linear_model import LogisticRegression\n",
    "\n",
    "from sklearn.svm import LinearSVC\n",
    "from sklearn.svm import SVC\n",
    "from sklearn.linear_model import SGDClassifier\n",
    "\n",
    "from sklearn.neighbors import KNeighborsClassifier\n",
    "from sklearn.naive_bayes import GaussianNB\n",
    "\n",
    "from sklearn.tree import DecisionTreeClassifier\n",
    "from sklearn.ensemble import RandomForestClassifier"
   ]
  },
  {
   "cell_type": "markdown",
   "metadata": {},
   "source": [
    "### Import"
   ]
  },
  {
   "cell_type": "code",
   "execution_count": 2,
   "metadata": {
    "collapsed": true
   },
   "outputs": [],
   "source": [
    "f = 'loan_clean.p'\n",
    "d = ['..', 'data', 'interim']\n",
    "fp = path.join(*d, f)\n",
    "\n",
    "with open(fp, 'rb') as file:\n",
    "    data = pickle.load(file)"
   ]
  },
  {
   "cell_type": "code",
   "execution_count": 3,
   "metadata": {
    "scrolled": true
   },
   "outputs": [
    {
     "data": {
      "text/html": [
       "<div>\n",
       "<style>\n",
       "    .dataframe thead tr:only-child th {\n",
       "        text-align: right;\n",
       "    }\n",
       "\n",
       "    .dataframe thead th {\n",
       "        text-align: left;\n",
       "    }\n",
       "\n",
       "    .dataframe tbody tr th {\n",
       "        vertical-align: top;\n",
       "    }\n",
       "</style>\n",
       "<table border=\"1\" class=\"dataframe\">\n",
       "  <thead>\n",
       "    <tr style=\"text-align: right;\">\n",
       "      <th></th>\n",
       "      <th>loan_amnt</th>\n",
       "      <th>funded_amnt</th>\n",
       "      <th>funded_amnt_inv</th>\n",
       "      <th>term</th>\n",
       "      <th>int_rate</th>\n",
       "      <th>installment</th>\n",
       "      <th>grade</th>\n",
       "      <th>sub_grade</th>\n",
       "      <th>emp_length</th>\n",
       "      <th>home_ownership</th>\n",
       "      <th>annual_inc</th>\n",
       "      <th>verification_status</th>\n",
       "      <th>issue_d</th>\n",
       "      <th>loan_status</th>\n",
       "      <th>pymnt_plan</th>\n",
       "      <th>purpose</th>\n",
       "      <th>zip_code</th>\n",
       "      <th>addr_state</th>\n",
       "      <th>dti</th>\n",
       "      <th>delinq_2yrs</th>\n",
       "      <th>earliest_cr_line</th>\n",
       "      <th>inq_last_6mths</th>\n",
       "      <th>open_acc</th>\n",
       "      <th>pub_rec</th>\n",
       "      <th>revol_bal</th>\n",
       "      <th>revol_util</th>\n",
       "      <th>total_acc</th>\n",
       "      <th>initial_list_status</th>\n",
       "      <th>out_prncp</th>\n",
       "      <th>out_prncp_inv</th>\n",
       "      <th>total_pymnt</th>\n",
       "      <th>total_pymnt_inv</th>\n",
       "      <th>total_rec_prncp</th>\n",
       "      <th>total_rec_int</th>\n",
       "      <th>total_rec_late_fee</th>\n",
       "      <th>recoveries</th>\n",
       "      <th>collection_recovery_fee</th>\n",
       "      <th>last_pymnt_amnt</th>\n",
       "      <th>policy_code</th>\n",
       "      <th>application_type</th>\n",
       "      <th>acc_now_delinq</th>\n",
       "      <th>tot_coll_amt</th>\n",
       "      <th>tot_cur_bal</th>\n",
       "      <th>total_rev_hi_lim</th>\n",
       "      <th>default</th>\n",
       "      <th>default_harsh</th>\n",
       "      <th>had_delinq</th>\n",
       "      <th>had_major_derog</th>\n",
       "      <th>had_record</th>\n",
       "      <th>annual_inc_merged</th>\n",
       "      <th>dti_merged</th>\n",
       "      <th>rev_util_custom</th>\n",
       "      <th>rev_lim_custom</th>\n",
       "      <th>tot_cur_bal_filled</th>\n",
       "      <th>tot_cur_bal_med</th>\n",
       "      <th>had_collections</th>\n",
       "      <th>verification_status_merged</th>\n",
       "      <th>earliest_cr_line_td</th>\n",
       "    </tr>\n",
       "    <tr>\n",
       "      <th>id</th>\n",
       "      <th></th>\n",
       "      <th></th>\n",
       "      <th></th>\n",
       "      <th></th>\n",
       "      <th></th>\n",
       "      <th></th>\n",
       "      <th></th>\n",
       "      <th></th>\n",
       "      <th></th>\n",
       "      <th></th>\n",
       "      <th></th>\n",
       "      <th></th>\n",
       "      <th></th>\n",
       "      <th></th>\n",
       "      <th></th>\n",
       "      <th></th>\n",
       "      <th></th>\n",
       "      <th></th>\n",
       "      <th></th>\n",
       "      <th></th>\n",
       "      <th></th>\n",
       "      <th></th>\n",
       "      <th></th>\n",
       "      <th></th>\n",
       "      <th></th>\n",
       "      <th></th>\n",
       "      <th></th>\n",
       "      <th></th>\n",
       "      <th></th>\n",
       "      <th></th>\n",
       "      <th></th>\n",
       "      <th></th>\n",
       "      <th></th>\n",
       "      <th></th>\n",
       "      <th></th>\n",
       "      <th></th>\n",
       "      <th></th>\n",
       "      <th></th>\n",
       "      <th></th>\n",
       "      <th></th>\n",
       "      <th></th>\n",
       "      <th></th>\n",
       "      <th></th>\n",
       "      <th></th>\n",
       "      <th></th>\n",
       "      <th></th>\n",
       "      <th></th>\n",
       "      <th></th>\n",
       "      <th></th>\n",
       "      <th></th>\n",
       "      <th></th>\n",
       "      <th></th>\n",
       "      <th></th>\n",
       "      <th></th>\n",
       "      <th></th>\n",
       "      <th></th>\n",
       "      <th></th>\n",
       "      <th></th>\n",
       "    </tr>\n",
       "  </thead>\n",
       "  <tbody>\n",
       "    <tr>\n",
       "      <th>1077501</th>\n",
       "      <td>5000.0</td>\n",
       "      <td>5000.0</td>\n",
       "      <td>4975.0</td>\n",
       "      <td>36 months</td>\n",
       "      <td>10.65</td>\n",
       "      <td>162.87</td>\n",
       "      <td>B</td>\n",
       "      <td>B2</td>\n",
       "      <td>10+ years</td>\n",
       "      <td>RENT</td>\n",
       "      <td>24000.0</td>\n",
       "      <td>Verified</td>\n",
       "      <td>2011-12-01</td>\n",
       "      <td>Fully Paid</td>\n",
       "      <td>n</td>\n",
       "      <td>credit_card</td>\n",
       "      <td>860xx</td>\n",
       "      <td>AZ</td>\n",
       "      <td>27.65</td>\n",
       "      <td>0.0</td>\n",
       "      <td>1985-01-01</td>\n",
       "      <td>1.0</td>\n",
       "      <td>3.0</td>\n",
       "      <td>0.0</td>\n",
       "      <td>13648.0</td>\n",
       "      <td>83.7</td>\n",
       "      <td>9.0</td>\n",
       "      <td>f</td>\n",
       "      <td>0.0</td>\n",
       "      <td>0.0</td>\n",
       "      <td>5861.071414</td>\n",
       "      <td>5831.78</td>\n",
       "      <td>5000.00</td>\n",
       "      <td>861.07</td>\n",
       "      <td>0.00</td>\n",
       "      <td>0.00</td>\n",
       "      <td>0.00</td>\n",
       "      <td>171.62</td>\n",
       "      <td>1.0</td>\n",
       "      <td>INDIVIDUAL</td>\n",
       "      <td>0.0</td>\n",
       "      <td>NaN</td>\n",
       "      <td>NaN</td>\n",
       "      <td>NaN</td>\n",
       "      <td>0</td>\n",
       "      <td>0</td>\n",
       "      <td>0</td>\n",
       "      <td>0</td>\n",
       "      <td>0</td>\n",
       "      <td>24000.0</td>\n",
       "      <td>27.65</td>\n",
       "      <td>83.7</td>\n",
       "      <td>16305.854241</td>\n",
       "      <td>15008.0</td>\n",
       "      <td>15008.0</td>\n",
       "      <td>0</td>\n",
       "      <td>Verified</td>\n",
       "      <td>-9830</td>\n",
       "    </tr>\n",
       "    <tr>\n",
       "      <th>1077430</th>\n",
       "      <td>2500.0</td>\n",
       "      <td>2500.0</td>\n",
       "      <td>2500.0</td>\n",
       "      <td>60 months</td>\n",
       "      <td>15.27</td>\n",
       "      <td>59.83</td>\n",
       "      <td>C</td>\n",
       "      <td>C4</td>\n",
       "      <td>&lt; 1 year</td>\n",
       "      <td>RENT</td>\n",
       "      <td>30000.0</td>\n",
       "      <td>Source Verified</td>\n",
       "      <td>2011-12-01</td>\n",
       "      <td>Charged Off</td>\n",
       "      <td>n</td>\n",
       "      <td>car</td>\n",
       "      <td>309xx</td>\n",
       "      <td>GA</td>\n",
       "      <td>1.00</td>\n",
       "      <td>0.0</td>\n",
       "      <td>1999-04-01</td>\n",
       "      <td>5.0</td>\n",
       "      <td>3.0</td>\n",
       "      <td>0.0</td>\n",
       "      <td>1687.0</td>\n",
       "      <td>9.4</td>\n",
       "      <td>4.0</td>\n",
       "      <td>f</td>\n",
       "      <td>0.0</td>\n",
       "      <td>0.0</td>\n",
       "      <td>1008.710000</td>\n",
       "      <td>1008.71</td>\n",
       "      <td>456.46</td>\n",
       "      <td>435.17</td>\n",
       "      <td>0.00</td>\n",
       "      <td>117.08</td>\n",
       "      <td>1.11</td>\n",
       "      <td>119.66</td>\n",
       "      <td>1.0</td>\n",
       "      <td>INDIVIDUAL</td>\n",
       "      <td>0.0</td>\n",
       "      <td>NaN</td>\n",
       "      <td>NaN</td>\n",
       "      <td>NaN</td>\n",
       "      <td>1</td>\n",
       "      <td>1</td>\n",
       "      <td>0</td>\n",
       "      <td>0</td>\n",
       "      <td>0</td>\n",
       "      <td>30000.0</td>\n",
       "      <td>1.00</td>\n",
       "      <td>9.4</td>\n",
       "      <td>17946.808511</td>\n",
       "      <td>24713.0</td>\n",
       "      <td>24713.0</td>\n",
       "      <td>0</td>\n",
       "      <td>Source Verified</td>\n",
       "      <td>-4627</td>\n",
       "    </tr>\n",
       "    <tr>\n",
       "      <th>1077175</th>\n",
       "      <td>2400.0</td>\n",
       "      <td>2400.0</td>\n",
       "      <td>2400.0</td>\n",
       "      <td>36 months</td>\n",
       "      <td>15.96</td>\n",
       "      <td>84.33</td>\n",
       "      <td>C</td>\n",
       "      <td>C5</td>\n",
       "      <td>10+ years</td>\n",
       "      <td>RENT</td>\n",
       "      <td>12252.0</td>\n",
       "      <td>Not Verified</td>\n",
       "      <td>2011-12-01</td>\n",
       "      <td>Fully Paid</td>\n",
       "      <td>n</td>\n",
       "      <td>small_business</td>\n",
       "      <td>606xx</td>\n",
       "      <td>IL</td>\n",
       "      <td>8.72</td>\n",
       "      <td>0.0</td>\n",
       "      <td>2001-11-01</td>\n",
       "      <td>2.0</td>\n",
       "      <td>2.0</td>\n",
       "      <td>0.0</td>\n",
       "      <td>2956.0</td>\n",
       "      <td>98.5</td>\n",
       "      <td>10.0</td>\n",
       "      <td>f</td>\n",
       "      <td>0.0</td>\n",
       "      <td>0.0</td>\n",
       "      <td>3003.653644</td>\n",
       "      <td>3003.65</td>\n",
       "      <td>2400.00</td>\n",
       "      <td>603.65</td>\n",
       "      <td>0.00</td>\n",
       "      <td>0.00</td>\n",
       "      <td>0.00</td>\n",
       "      <td>649.91</td>\n",
       "      <td>1.0</td>\n",
       "      <td>INDIVIDUAL</td>\n",
       "      <td>0.0</td>\n",
       "      <td>NaN</td>\n",
       "      <td>NaN</td>\n",
       "      <td>NaN</td>\n",
       "      <td>0</td>\n",
       "      <td>0</td>\n",
       "      <td>0</td>\n",
       "      <td>0</td>\n",
       "      <td>0</td>\n",
       "      <td>12252.0</td>\n",
       "      <td>8.72</td>\n",
       "      <td>98.5</td>\n",
       "      <td>3001.015228</td>\n",
       "      <td>15008.0</td>\n",
       "      <td>15008.0</td>\n",
       "      <td>0</td>\n",
       "      <td>Not Verified</td>\n",
       "      <td>-3682</td>\n",
       "    </tr>\n",
       "    <tr>\n",
       "      <th>1076863</th>\n",
       "      <td>10000.0</td>\n",
       "      <td>10000.0</td>\n",
       "      <td>10000.0</td>\n",
       "      <td>36 months</td>\n",
       "      <td>13.49</td>\n",
       "      <td>339.31</td>\n",
       "      <td>C</td>\n",
       "      <td>C1</td>\n",
       "      <td>10+ years</td>\n",
       "      <td>RENT</td>\n",
       "      <td>49200.0</td>\n",
       "      <td>Source Verified</td>\n",
       "      <td>2011-12-01</td>\n",
       "      <td>Fully Paid</td>\n",
       "      <td>n</td>\n",
       "      <td>other</td>\n",
       "      <td>917xx</td>\n",
       "      <td>CA</td>\n",
       "      <td>20.00</td>\n",
       "      <td>0.0</td>\n",
       "      <td>1996-02-01</td>\n",
       "      <td>1.0</td>\n",
       "      <td>10.0</td>\n",
       "      <td>0.0</td>\n",
       "      <td>5598.0</td>\n",
       "      <td>21.0</td>\n",
       "      <td>37.0</td>\n",
       "      <td>f</td>\n",
       "      <td>0.0</td>\n",
       "      <td>0.0</td>\n",
       "      <td>12226.302212</td>\n",
       "      <td>12226.30</td>\n",
       "      <td>10000.00</td>\n",
       "      <td>2209.33</td>\n",
       "      <td>16.97</td>\n",
       "      <td>0.00</td>\n",
       "      <td>0.00</td>\n",
       "      <td>357.48</td>\n",
       "      <td>1.0</td>\n",
       "      <td>INDIVIDUAL</td>\n",
       "      <td>0.0</td>\n",
       "      <td>NaN</td>\n",
       "      <td>NaN</td>\n",
       "      <td>NaN</td>\n",
       "      <td>0</td>\n",
       "      <td>0</td>\n",
       "      <td>1</td>\n",
       "      <td>0</td>\n",
       "      <td>0</td>\n",
       "      <td>49200.0</td>\n",
       "      <td>20.00</td>\n",
       "      <td>21.0</td>\n",
       "      <td>26657.142857</td>\n",
       "      <td>49042.0</td>\n",
       "      <td>49042.0</td>\n",
       "      <td>0</td>\n",
       "      <td>Source Verified</td>\n",
       "      <td>-5782</td>\n",
       "    </tr>\n",
       "    <tr>\n",
       "      <th>1075269</th>\n",
       "      <td>5000.0</td>\n",
       "      <td>5000.0</td>\n",
       "      <td>5000.0</td>\n",
       "      <td>36 months</td>\n",
       "      <td>7.90</td>\n",
       "      <td>156.46</td>\n",
       "      <td>A</td>\n",
       "      <td>A4</td>\n",
       "      <td>3 years</td>\n",
       "      <td>RENT</td>\n",
       "      <td>36000.0</td>\n",
       "      <td>Source Verified</td>\n",
       "      <td>2011-12-01</td>\n",
       "      <td>Fully Paid</td>\n",
       "      <td>n</td>\n",
       "      <td>wedding</td>\n",
       "      <td>852xx</td>\n",
       "      <td>AZ</td>\n",
       "      <td>11.20</td>\n",
       "      <td>0.0</td>\n",
       "      <td>2004-11-01</td>\n",
       "      <td>3.0</td>\n",
       "      <td>9.0</td>\n",
       "      <td>0.0</td>\n",
       "      <td>7963.0</td>\n",
       "      <td>28.3</td>\n",
       "      <td>12.0</td>\n",
       "      <td>f</td>\n",
       "      <td>0.0</td>\n",
       "      <td>0.0</td>\n",
       "      <td>5631.377753</td>\n",
       "      <td>5631.38</td>\n",
       "      <td>5000.00</td>\n",
       "      <td>631.38</td>\n",
       "      <td>0.00</td>\n",
       "      <td>0.00</td>\n",
       "      <td>0.00</td>\n",
       "      <td>161.03</td>\n",
       "      <td>1.0</td>\n",
       "      <td>INDIVIDUAL</td>\n",
       "      <td>0.0</td>\n",
       "      <td>NaN</td>\n",
       "      <td>NaN</td>\n",
       "      <td>NaN</td>\n",
       "      <td>0</td>\n",
       "      <td>0</td>\n",
       "      <td>0</td>\n",
       "      <td>0</td>\n",
       "      <td>0</td>\n",
       "      <td>36000.0</td>\n",
       "      <td>11.20</td>\n",
       "      <td>28.3</td>\n",
       "      <td>28137.809187</td>\n",
       "      <td>30048.0</td>\n",
       "      <td>30048.0</td>\n",
       "      <td>0</td>\n",
       "      <td>Source Verified</td>\n",
       "      <td>-2586</td>\n",
       "    </tr>\n",
       "  </tbody>\n",
       "</table>\n",
       "</div>"
      ],
      "text/plain": [
       "         loan_amnt  funded_amnt  funded_amnt_inv        term  int_rate  \\\n",
       "id                                                                       \n",
       "1077501     5000.0       5000.0           4975.0   36 months     10.65   \n",
       "1077430     2500.0       2500.0           2500.0   60 months     15.27   \n",
       "1077175     2400.0       2400.0           2400.0   36 months     15.96   \n",
       "1076863    10000.0      10000.0          10000.0   36 months     13.49   \n",
       "1075269     5000.0       5000.0           5000.0   36 months      7.90   \n",
       "\n",
       "         installment grade sub_grade emp_length home_ownership  annual_inc  \\\n",
       "id                                                                           \n",
       "1077501       162.87     B        B2  10+ years           RENT     24000.0   \n",
       "1077430        59.83     C        C4   < 1 year           RENT     30000.0   \n",
       "1077175        84.33     C        C5  10+ years           RENT     12252.0   \n",
       "1076863       339.31     C        C1  10+ years           RENT     49200.0   \n",
       "1075269       156.46     A        A4    3 years           RENT     36000.0   \n",
       "\n",
       "        verification_status    issue_d  loan_status pymnt_plan  \\\n",
       "id                                                               \n",
       "1077501            Verified 2011-12-01   Fully Paid          n   \n",
       "1077430     Source Verified 2011-12-01  Charged Off          n   \n",
       "1077175        Not Verified 2011-12-01   Fully Paid          n   \n",
       "1076863     Source Verified 2011-12-01   Fully Paid          n   \n",
       "1075269     Source Verified 2011-12-01   Fully Paid          n   \n",
       "\n",
       "                purpose zip_code addr_state    dti  delinq_2yrs  \\\n",
       "id                                                                \n",
       "1077501     credit_card    860xx         AZ  27.65          0.0   \n",
       "1077430             car    309xx         GA   1.00          0.0   \n",
       "1077175  small_business    606xx         IL   8.72          0.0   \n",
       "1076863           other    917xx         CA  20.00          0.0   \n",
       "1075269         wedding    852xx         AZ  11.20          0.0   \n",
       "\n",
       "        earliest_cr_line  inq_last_6mths  open_acc  pub_rec  revol_bal  \\\n",
       "id                                                                       \n",
       "1077501       1985-01-01             1.0       3.0      0.0    13648.0   \n",
       "1077430       1999-04-01             5.0       3.0      0.0     1687.0   \n",
       "1077175       2001-11-01             2.0       2.0      0.0     2956.0   \n",
       "1076863       1996-02-01             1.0      10.0      0.0     5598.0   \n",
       "1075269       2004-11-01             3.0       9.0      0.0     7963.0   \n",
       "\n",
       "         revol_util  total_acc initial_list_status  out_prncp  out_prncp_inv  \\\n",
       "id                                                                             \n",
       "1077501        83.7        9.0                   f        0.0            0.0   \n",
       "1077430         9.4        4.0                   f        0.0            0.0   \n",
       "1077175        98.5       10.0                   f        0.0            0.0   \n",
       "1076863        21.0       37.0                   f        0.0            0.0   \n",
       "1075269        28.3       12.0                   f        0.0            0.0   \n",
       "\n",
       "          total_pymnt  total_pymnt_inv  total_rec_prncp  total_rec_int  \\\n",
       "id                                                                       \n",
       "1077501   5861.071414          5831.78          5000.00         861.07   \n",
       "1077430   1008.710000          1008.71           456.46         435.17   \n",
       "1077175   3003.653644          3003.65          2400.00         603.65   \n",
       "1076863  12226.302212         12226.30         10000.00        2209.33   \n",
       "1075269   5631.377753          5631.38          5000.00         631.38   \n",
       "\n",
       "         total_rec_late_fee  recoveries  collection_recovery_fee  \\\n",
       "id                                                                 \n",
       "1077501                0.00        0.00                     0.00   \n",
       "1077430                0.00      117.08                     1.11   \n",
       "1077175                0.00        0.00                     0.00   \n",
       "1076863               16.97        0.00                     0.00   \n",
       "1075269                0.00        0.00                     0.00   \n",
       "\n",
       "         last_pymnt_amnt  policy_code application_type  acc_now_delinq  \\\n",
       "id                                                                       \n",
       "1077501           171.62          1.0       INDIVIDUAL             0.0   \n",
       "1077430           119.66          1.0       INDIVIDUAL             0.0   \n",
       "1077175           649.91          1.0       INDIVIDUAL             0.0   \n",
       "1076863           357.48          1.0       INDIVIDUAL             0.0   \n",
       "1075269           161.03          1.0       INDIVIDUAL             0.0   \n",
       "\n",
       "         tot_coll_amt  tot_cur_bal  total_rev_hi_lim  default  default_harsh  \\\n",
       "id                                                                             \n",
       "1077501           NaN          NaN               NaN        0              0   \n",
       "1077430           NaN          NaN               NaN        1              1   \n",
       "1077175           NaN          NaN               NaN        0              0   \n",
       "1076863           NaN          NaN               NaN        0              0   \n",
       "1075269           NaN          NaN               NaN        0              0   \n",
       "\n",
       "         had_delinq  had_major_derog  had_record  annual_inc_merged  \\\n",
       "id                                                                    \n",
       "1077501           0                0           0            24000.0   \n",
       "1077430           0                0           0            30000.0   \n",
       "1077175           0                0           0            12252.0   \n",
       "1076863           1                0           0            49200.0   \n",
       "1075269           0                0           0            36000.0   \n",
       "\n",
       "         dti_merged  rev_util_custom  rev_lim_custom  tot_cur_bal_filled  \\\n",
       "id                                                                         \n",
       "1077501       27.65             83.7    16305.854241             15008.0   \n",
       "1077430        1.00              9.4    17946.808511             24713.0   \n",
       "1077175        8.72             98.5     3001.015228             15008.0   \n",
       "1076863       20.00             21.0    26657.142857             49042.0   \n",
       "1075269       11.20             28.3    28137.809187             30048.0   \n",
       "\n",
       "         tot_cur_bal_med  had_collections verification_status_merged  \\\n",
       "id                                                                     \n",
       "1077501          15008.0                0                   Verified   \n",
       "1077430          24713.0                0            Source Verified   \n",
       "1077175          15008.0                0               Not Verified   \n",
       "1076863          49042.0                0            Source Verified   \n",
       "1075269          30048.0                0            Source Verified   \n",
       "\n",
       "         earliest_cr_line_td  \n",
       "id                            \n",
       "1077501                -9830  \n",
       "1077430                -4627  \n",
       "1077175                -3682  \n",
       "1076863                -5782  \n",
       "1075269                -2586  "
      ]
     },
     "execution_count": 3,
     "metadata": {},
     "output_type": "execute_result"
    }
   ],
   "source": [
    "data.head()"
   ]
  },
  {
   "cell_type": "code",
   "execution_count": 4,
   "metadata": {},
   "outputs": [
    {
     "data": {
      "image/png": "[encoded data removed]",
      "text/plain": [
       "<matplotlib.figure.Figure at 0x2a1de153a58>"
      ]
     },
     "metadata": {},
     "output_type": "display_data"
    }
   ],
   "source": [
    "msno.matrix(data, labels=True)"
   ]
  },
  {
   "cell_type": "code",
   "execution_count": 5,
   "metadata": {},
   "outputs": [
    {
     "data": {
      "text/plain": [
       "loan_amnt                         0\n",
       "funded_amnt                       0\n",
       "funded_amnt_inv                   0\n",
       "term                              0\n",
       "int_rate                          0\n",
       "installment                       0\n",
       "grade                             0\n",
       "sub_grade                         0\n",
       "emp_length                        0\n",
       "home_ownership                    0\n",
       "annual_inc                        0\n",
       "verification_status               0\n",
       "issue_d                           0\n",
       "loan_status                       0\n",
       "pymnt_plan                        0\n",
       "purpose                           0\n",
       "zip_code                          0\n",
       "addr_state                        0\n",
       "dti                               0\n",
       "delinq_2yrs                       0\n",
       "earliest_cr_line                  0\n",
       "inq_last_6mths                    0\n",
       "open_acc                          0\n",
       "pub_rec                           0\n",
       "revol_bal                         0\n",
       "revol_util                      222\n",
       "total_acc                         0\n",
       "initial_list_status               0\n",
       "out_prncp                         0\n",
       "out_prncp_inv                     0\n",
       "total_pymnt                       0\n",
       "total_pymnt_inv                   0\n",
       "total_rec_prncp                   0\n",
       "total_rec_int                     0\n",
       "total_rec_late_fee                0\n",
       "recoveries                        0\n",
       "collection_recovery_fee           0\n",
       "last_pymnt_amnt                   0\n",
       "policy_code                       0\n",
       "application_type                  0\n",
       "acc_now_delinq                    0\n",
       "tot_coll_amt                  66594\n",
       "tot_cur_bal                   66594\n",
       "total_rev_hi_lim              66594\n",
       "default                           0\n",
       "default_harsh                     0\n",
       "had_delinq                        0\n",
       "had_major_derog                   0\n",
       "had_record                        0\n",
       "annual_inc_merged                 0\n",
       "dti_merged                        0\n",
       "rev_util_custom                   0\n",
       "rev_lim_custom                    0\n",
       "tot_cur_bal_filled                0\n",
       "tot_cur_bal_med                   0\n",
       "had_collections                   0\n",
       "verification_status_merged        0\n",
       "earliest_cr_line_td               0\n",
       "dtype: int64"
      ]
     },
     "execution_count": 5,
     "metadata": {},
     "output_type": "execute_result"
    }
   ],
   "source": [
    "data.isnull().sum()"
   ]
  },
  {
   "cell_type": "markdown",
   "metadata": {},
   "source": [
    "### Target Variable"
   ]
  },
  {
   "cell_type": "markdown",
   "metadata": {},
   "source": [
    "For this classification problem, our goal is to identify loans that will default. The original column capturing this information is <i>loan_status</i>, however these values extend beyond simple default/paid, so this has to be simplified into a binary true/false value.\n",
    "\n",
    "During initial data cleaning two new column were created: one identifying basic default loans (status of Default of Charged Off), and one which was more unforgiving in classifying defaults by including any late loans as well. For the purpose of this MVP analysis, we will keep things simple and focus on the basic definition of a defualt loan.\n",
    "\n",
    "As for the other statuses, all current loans need to be removed from the dataset. Analysis can only be conducted on loans that have completed their term or been written off, since otherwise ther is no way of knowing the terminal status of paid / default. The basic current / active loans were already removed during data cleaning, but we will also need to drop the 'late' loans since we are opting to not identify these as default."
   ]
  },
  {
   "cell_type": "code",
   "execution_count": 3,
   "metadata": {
    "collapsed": true
   },
   "outputs": [],
   "source": [
    "# Extract late loans\n",
    "late_mask = data['loan_status'].str.contains('Late')\n",
    "data_late = data[late_mask]"
   ]
  },
  {
   "cell_type": "code",
   "execution_count": 4,
   "metadata": {
    "collapsed": true
   },
   "outputs": [],
   "source": [
    "# Save late loan data in separate file\n",
    "f = 'loan_late.p'\n",
    "d = ['..', 'data', 'interim']\n",
    "fp = path.join(*d, f)\n",
    "\n",
    "with open(fp, 'wb') as file:\n",
    "    pickle.dump(data_late, file)"
   ]
  },
  {
   "cell_type": "code",
   "execution_count": 5,
   "metadata": {
    "collapsed": true
   },
   "outputs": [],
   "source": [
    "# Remove late status entries\n",
    "data = data[~late_mask].copy()"
   ]
  },
  {
   "cell_type": "code",
   "execution_count": 6,
   "metadata": {},
   "outputs": [
    {
     "data": {
      "text/plain": [
       "Fully Paid     209685\n",
       "Charged Off     46006\n",
       "Default          1219\n",
       "Name: loan_status, dtype: int64"
      ]
     },
     "execution_count": 6,
     "metadata": {},
     "output_type": "execute_result"
    }
   ],
   "source": [
    "data['loan_status'].value_counts()"
   ]
  },
  {
   "cell_type": "code",
   "execution_count": 7,
   "metadata": {},
   "outputs": [
    {
     "data": {
      "text/plain": [
       "0    209685\n",
       "1     47225\n",
       "Name: default, dtype: int64"
      ]
     },
     "execution_count": 7,
     "metadata": {},
     "output_type": "execute_result"
    }
   ],
   "source": [
    "data['default'].value_counts()"
   ]
  },
  {
   "cell_type": "code",
   "execution_count": 8,
   "metadata": {
    "collapsed": true
   },
   "outputs": [],
   "source": [
    "# Drop alternative default status column used for including late status loans as default\n",
    "data.drop('default_harsh', axis=1, inplace=True)"
   ]
  },
  {
   "cell_type": "code",
   "execution_count": 9,
   "metadata": {
    "collapsed": true
   },
   "outputs": [],
   "source": [
    "target = data['default']"
   ]
  },
  {
   "cell_type": "markdown",
   "metadata": {},
   "source": [
    "### Feature Selection"
   ]
  },
  {
   "cell_type": "markdown",
   "metadata": {},
   "source": [
    "For the purpose of this MVP analysis and setting some basic benchmarks for comparison with more in-depth models, feature selection will be limited to a few key variables, which based off the data analysis thus far (see EDA) one would anticipate to influence whether a loan defaults:"
   ]
  },
  {
   "cell_type": "code",
   "execution_count": 10,
   "metadata": {
    "collapsed": true
   },
   "outputs": [],
   "source": [
    "num_attr = ['annual_inc_merged', 'int_rate', 'dti_merged', 'rev_util_custom', 'rev_lim_custom', 'tot_cur_bal_filled', 'loan_amnt', 'installment',\n",
    "            'inq_last_6mths', 'earliest_cr_line_td', 'total_acc', 'open_acc', 'delinq_2yrs', 'pub_rec', 'collection_recovery_fee',\n",
    "            'acc_now_delinq', 'had_delinq', 'had_major_derog', 'had_record', 'had_collections']\n",
    "\n",
    "cat_attr = ['grade','sub_grade', 'emp_length', 'purpose', 'home_ownership', 'verification_status_merged', 'application_type', 'term']"
   ]
  },
  {
   "cell_type": "markdown",
   "metadata": {},
   "source": [
    "Note that any columns containing payment summaries have been deliberately omitted. The reasoning for this is that these values can only be known after a loan has completed its term. Consequently, these values do not reflect he loans properties at the time of issuing and/or initial investment, which is what our analysis is interested in.\n",
    "\n",
    "Preparing the basic pipelines to set up the new dataframe:"
   ]
  },
  {
   "cell_type": "code",
   "execution_count": 11,
   "metadata": {
    "collapsed": true
   },
   "outputs": [],
   "source": [
    "# Class for selecting attributes from a dataframe, for use in pipelines\n",
    "\n",
    "class DataFrame_Selector(BaseEstimator, TransformerMixin):\n",
    "    def __init__(self, attribute_names):\n",
    "        self.attribute_names = attribute_names\n",
    "    def fit(self, X, y=None):\n",
    "        return self\n",
    "    def transform(self, X):\n",
    "        return X[self.attribute_names].values"
   ]
  },
  {
   "cell_type": "code",
   "execution_count": 12,
   "metadata": {
    "collapsed": true
   },
   "outputs": [],
   "source": [
    "class DataFrame_DummyEncoder(BaseEstimator, TransformerMixin):\n",
    "    def __init__(self, attribute_names):\n",
    "        self.attribute_names = attribute_names\n",
    "    def fit(self, X, y=None):\n",
    "        return self\n",
    "    def transform(self, X):\n",
    "        dummies = pd.get_dummies(X[self.attribute_names])\n",
    "        return dummies.values"
   ]
  },
  {
   "cell_type": "code",
   "execution_count": 13,
   "metadata": {
    "collapsed": true
   },
   "outputs": [],
   "source": [
    "num_pipeline = Pipeline([('selector', DataFrame_Selector(num_attr)),\n",
    "                         ('std_scaler', StandardScaler())])\n",
    "\n",
    "cat_pipeline = Pipeline([('selector', DataFrame_DummyEncoder(cat_attr))])\n",
    "\n",
    "prep_pipeline = FeatureUnion(transformer_list=[('num_pipeline', num_pipeline),\n",
    "                                               ('cat_pipeline', cat_pipeline)])"
   ]
  },
  {
   "cell_type": "code",
   "execution_count": 14,
   "metadata": {
    "collapsed": true
   },
   "outputs": [],
   "source": [
    "data_prepared = prep_pipeline.fit_transform(data)"
   ]
  },
  {
   "cell_type": "code",
   "execution_count": 15,
   "metadata": {},
   "outputs": [
    {
     "data": {
      "text/plain": [
       "(256910, 101)"
      ]
     },
     "execution_count": 15,
     "metadata": {},
     "output_type": "execute_result"
    }
   ],
   "source": [
    "data_prepared.shape"
   ]
  },
  {
   "cell_type": "markdown",
   "metadata": {},
   "source": [
    "### Modeling"
   ]
  },
  {
   "cell_type": "code",
   "execution_count": 36,
   "metadata": {
    "collapsed": true
   },
   "outputs": [],
   "source": [
    "# Initialize list/dict for models\n",
    "models = []"
   ]
  },
  {
   "cell_type": "code",
   "execution_count": 16,
   "metadata": {
    "collapsed": true
   },
   "outputs": [],
   "source": [
    "# Function to plot PR curve\n",
    "def plot_pr_curve(model, X, y, label=None, cv=3, n_jobs=-1):\n",
    "    if hasattr(model, 'decision_function'):\n",
    "        y_scores = cross_val_predict(model, X, y, cv=cv, method='decision_function', n_jobs=n_jobs)[:,1]\n",
    "    else:\n",
    "        y_scores = cross_val_predict(model, X, y, cv=cv, method='predict_proba', n_jobs=n_jobs)[:,1]\n",
    "    \n",
    "    precisions, recalls, thresholds = precision_recall_curve(y, y_scores)\n",
    "    \n",
    "    fig, axs = plt.subplots(1,2,figsize=(15,7))\n",
    "\n",
    "    axs[0].plot(thresholds, precisions[:-1], 'b--', label='Precision')\n",
    "    axs[0].plot(thresholds, recalls[:-1], 'g-', label='Recall')\n",
    "    x_min = max(thresholds[(len(recalls) - np.argmax(recalls[::-1][:-1]) -1)]*1.1, min(thresholds))\n",
    "    x_max = min(thresholds[np.argmax(precisions[:-1])]*1.1, max(thresholds))\n",
    "    axs[0].set_xlim(x_min, x_max)\n",
    "    axs[0].set_xlabel('Decision Threshold')\n",
    "    axs[0].set_ylabel('Precision / Recall')\n",
    "    axs[0].legend()\n",
    "\n",
    "    axs[1].plot(recalls[:-1], precisions[:-1], 'r-')\n",
    "    axs[1].set_xlabel('Recall')\n",
    "    axs[1].set_ylabel('Precision')\n",
    "\n",
    "    plt.suptitle('Precision/Recall Curve{}'.format(': ' + str(label) if label is not None else ''))\n",
    "\n",
    "    plt.show()\n",
    "    \n",
    "    return precisions, recalls, thresholds"
   ]
  },
  {
   "cell_type": "code",
   "execution_count": 17,
   "metadata": {
    "collapsed": true
   },
   "outputs": [],
   "source": [
    "def classifier_summary(y_actual, y_pred, print_results=True): \n",
    "    \n",
    "    f1 = f1_score(y_actual, y_pred)\n",
    "    recall = recall_score(y_actual, y_pred)\n",
    "    precision = precision_score(y_actual, y_pred)\n",
    "    \n",
    "    conf_mat = confusion_matrix(y_actual, y_pred)\n",
    "    \n",
    "    specificity = conf_mat[0,0] / (conf_mat[:,0].sum())\n",
    "    fallout = 1 - specificity\n",
    "    \n",
    "    df_cmat = pd.DataFrame(conf_mat).rename(index={0:'Actual Negative', 1:'Actual Positive'},\n",
    "                                  columns={0:'Predicted Negative', 1:'Predicted Positive'})\n",
    "    \n",
    "    df_scores = pd.DataFrame([{'Rate': 'f1', 'Score': f1},\n",
    "                              {'Rate': 'Recall', 'Score': recall},\n",
    "                              {'Rate': 'Precision', 'Score': precision},\n",
    "                              {'Rate': 'Specificity', 'Score': specificity},\n",
    "                              {'Rate': 'Fallout', 'Score': fallout}]).set_index('Rate')\n",
    "    \n",
    "    if print_results:\n",
    "        print('Confusion Matrix:')\n",
    "        print(df_cmat)\n",
    "        print(20*'-')\n",
    "        print('Accuracy Scores:')\n",
    "        print(df_scores)\n",
    "   \n",
    "    return df_cmat, df_scores"
   ]
  },
  {
   "cell_type": "markdown",
   "metadata": {},
   "source": [
    "##### Train/Test Split"
   ]
  },
  {
   "cell_type": "code",
   "execution_count": 20,
   "metadata": {
    "collapsed": true
   },
   "outputs": [],
   "source": [
    "X = data_prepared\n",
    "y = target\n",
    "\n",
    "X_train, X_test, y_train, y_test = train_test_split(X, y, test_size=0.2, random_state=42)"
   ]
  },
  {
   "cell_type": "markdown",
   "metadata": {},
   "source": [
    "Note that for the purposes of this this MVP analysis, we will not be splitting data further into train/validation sets, and simply be using the test set for evaluation. We are simply trying to get a rough benchmark for various models so optimization will be limited so there is need for concern of overfitting/adjusting for the test set."
   ]
  },
  {
   "cell_type": "markdown",
   "metadata": {},
   "source": [
    "##### Logistic Regression\n"
   ]
  },
  {
   "cell_type": "markdown",
   "metadata": {},
   "source": [
    "Basic model, no tuning:"
   ]
  },
  {
   "cell_type": "code",
   "execution_count": 22,
   "metadata": {
    "collapsed": true
   },
   "outputs": [],
   "source": [
    "logreg = LogisticRegression()"
   ]
  },
  {
   "cell_type": "code",
   "execution_count": 23,
   "metadata": {},
   "outputs": [
    {
     "data": {
      "text/plain": [
       "0.5783686745105322"
      ]
     },
     "execution_count": 23,
     "metadata": {},
     "output_type": "execute_result"
    }
   ],
   "source": [
    "logreg_cvs = cross_val_score(estimator=logreg, X=X_train, y=y_train, cv=10, scoring='f1', n_jobs=-1)\n",
    "logreg_cvs.mean()"
   ]
  },
  {
   "cell_type": "code",
   "execution_count": 24,
   "metadata": {
    "collapsed": true
   },
   "outputs": [],
   "source": [
    "logreg.fit(X_train, y_train);"
   ]
  },
  {
   "cell_type": "code",
   "execution_count": 28,
   "metadata": {
    "collapsed": true
   },
   "outputs": [],
   "source": [
    "y_train_pred = logreg.predict(X_train)\n",
    "y_test_pred = logreg.predict(X_test)"
   ]
  },
  {
   "cell_type": "code",
   "execution_count": 31,
   "metadata": {},
   "outputs": [
    {
     "data": {
      "text/plain": [
       "0.51486857591212243"
      ]
     },
     "execution_count": 31,
     "metadata": {},
     "output_type": "execute_result"
    }
   ],
   "source": [
    "train_score = f1_score(y_train, y_train_pred)\n",
    "train_score"
   ]
  },
  {
   "cell_type": "code",
   "execution_count": 38,
   "metadata": {},
   "outputs": [
    {
     "data": {
      "text/plain": [
       "array([[167672,     50],\n",
       "       [ 24682,  13124]], dtype=int64)"
      ]
     },
     "execution_count": 38,
     "metadata": {},
     "output_type": "execute_result"
    }
   ],
   "source": [
    "confusion_matrix(y_train, y_train_pred)"
   ]
  },
  {
   "cell_type": "code",
   "execution_count": 41,
   "metadata": {},
   "outputs": [
    {
     "data": {
      "text/plain": [
       "0.34714066550283024"
      ]
     },
     "execution_count": 41,
     "metadata": {},
     "output_type": "execute_result"
    }
   ],
   "source": [
    "recall_score(y_train, y_train_pred)"
   ]
  },
  {
   "cell_type": "markdown",
   "metadata": {},
   "source": [
    "Low recall - only 34% of defaulted loans accurately identified in the train set."
   ]
  },
  {
   "cell_type": "code",
   "execution_count": 33,
   "metadata": {},
   "outputs": [
    {
     "data": {
      "text/plain": [
       "0.50849600885165569"
      ]
     },
     "execution_count": 33,
     "metadata": {},
     "output_type": "execute_result"
    }
   ],
   "source": [
    "test_score = f1_score(y_test, y_test_pred)\n",
    "test_score"
   ]
  },
  {
   "cell_type": "code",
   "execution_count": 39,
   "metadata": {},
   "outputs": [
    {
     "data": {
      "text/plain": [
       "array([[41946,    17],\n",
       "       [ 6202,  3217]], dtype=int64)"
      ]
     },
     "execution_count": 39,
     "metadata": {},
     "output_type": "execute_result"
    }
   ],
   "source": [
    "confusion_matrix(y_test, y_test_pred)"
   ]
  },
  {
   "cell_type": "code",
   "execution_count": 42,
   "metadata": {},
   "outputs": [
    {
     "data": {
      "text/plain": [
       "0.34154368828962733"
      ]
     },
     "execution_count": 42,
     "metadata": {},
     "output_type": "execute_result"
    }
   ],
   "source": [
    "recall_score(y_test, y_test_pred)"
   ]
  },
  {
   "cell_type": "markdown",
   "metadata": {},
   "source": [
    "Again, low recall with similar 34% of defaulted loans correctly identified."
   ]
  },
  {
   "cell_type": "code",
   "execution_count": 37,
   "metadata": {
    "collapsed": true
   },
   "outputs": [],
   "source": [
    "# Add model to list\n",
    "model = {'model_name': 'LogReg (Basic)',\n",
    "         'model_type':'LogisticRegression',\n",
    "         'model': logreg,\n",
    "         'train_score': train_score,\n",
    "         'test_score': test_score}\n",
    "\n",
    "models.append(model)"
   ]
  },
  {
   "cell_type": "markdown",
   "metadata": {},
   "source": [
    "Improving recall is the priority given the business problem/context. The financial risks/costs with failing to identify a loan that will default greatly outweigh those of falsely classifying a good loan as a will-default."
   ]
  },
  {
   "cell_type": "markdown",
   "metadata": {},
   "source": [
    "Will attempt to do some basic improvements via hyperparameter tuning:"
   ]
  },
  {
   "cell_type": "code",
   "execution_count": 84,
   "metadata": {},
   "outputs": [
    {
     "name": "stderr",
     "output_type": "stream",
     "text": [
      "C:\\Users\\David\\Anaconda3\\lib\\site-packages\\sklearn\\linear_model\\logistic.py:1228: UserWarning: 'n_jobs' > 1 does not have any effect when 'solver' is set to 'liblinear'. Got 'n_jobs' = -1.\n",
      "  \" = {}.\".format(self.n_jobs))\n"
     ]
    }
   ],
   "source": [
    "logreg = LogisticRegression(n_jobs=-1) # sag due to large dataset\n",
    "\n",
    "param_grid = {'C': [0.001, 0.01, 0.1, 1, 10, 100, 100],\n",
    "              'class_weight': ['balanced', None]}\n",
    "\n",
    "logreg_gs = GridSearchCV(estimator=logreg,\n",
    "                  param_grid = param_grid,\n",
    "                  scoring='f1',\n",
    "                  cv=3,\n",
    "                  n_jobs=-1)\n",
    "\n",
    "logreg_gs.fit(X_train, y_train);"
   ]
  },
  {
   "cell_type": "code",
   "execution_count": 85,
   "metadata": {},
   "outputs": [
    {
     "data": {
      "text/plain": [
       "0.59345711335025753"
      ]
     },
     "execution_count": 85,
     "metadata": {},
     "output_type": "execute_result"
    }
   ],
   "source": [
    "logreg_gs.best_score_"
   ]
  },
  {
   "cell_type": "code",
   "execution_count": 86,
   "metadata": {},
   "outputs": [
    {
     "data": {
      "text/plain": [
       "{'C': 100, 'class_weight': 'balanced'}"
      ]
     },
     "execution_count": 86,
     "metadata": {},
     "output_type": "execute_result"
    }
   ],
   "source": [
    "logreg_gs.best_params_"
   ]
  },
  {
   "cell_type": "code",
   "execution_count": 52,
   "metadata": {
    "collapsed": true
   },
   "outputs": [],
   "source": [
    "logreg_best = logreg_gs.best_estimator_"
   ]
  },
  {
   "cell_type": "markdown",
   "metadata": {},
   "source": [
    "Repeat scoring for tuned model:"
   ]
  },
  {
   "cell_type": "code",
   "execution_count": 376,
   "metadata": {
    "collapsed": true
   },
   "outputs": [],
   "source": [
    "y_train_pred = logreg_best.predict(X_train)\n",
    "y_test_pred = logreg_best.predict(X_test)"
   ]
  },
  {
   "cell_type": "code",
   "execution_count": 377,
   "metadata": {
    "scrolled": true
   },
   "outputs": [
    {
     "name": "stdout",
     "output_type": "stream",
     "text": [
      "Confusion Matrix:\n",
      "                 Predicted Negative  Predicted Positive\n",
      "Actual Negative              134813               32909\n",
      "Actual Positive               12828               24978\n",
      "--------------------\n",
      "Accuracy Scores:\n",
      "                Score\n",
      "Rate                 \n",
      "f1           0.522044\n",
      "Recall       0.660689\n",
      "Precision    0.431496\n",
      "Specificity  0.913114\n",
      "Fallout      0.086886\n"
     ]
    }
   ],
   "source": [
    "cmat_train, scores_train = classifier_summary(y_train, y_train_pred)"
   ]
  },
  {
   "cell_type": "code",
   "execution_count": 378,
   "metadata": {
    "scrolled": true
   },
   "outputs": [
    {
     "name": "stdout",
     "output_type": "stream",
     "text": [
      "Confusion Matrix:\n",
      "                 Predicted Negative  Predicted Positive\n",
      "Actual Negative               33640                8323\n",
      "Actual Positive                3271                6148\n",
      "--------------------\n",
      "Accuracy Scores:\n",
      "                Score\n",
      "Rate                 \n",
      "f1           0.514692\n",
      "Recall       0.652723\n",
      "Precision    0.424850\n",
      "Specificity  0.911381\n",
      "Fallout      0.088619\n"
     ]
    }
   ],
   "source": [
    "cmat_test, scores_test = classifier_summary(y_test, y_test_pred)"
   ]
  },
  {
   "cell_type": "markdown",
   "metadata": {},
   "source": [
    "Whilst only a minimal improvement in f1 score, huge improvements were made to recall. These improvements have obviously come at a cost to precision, but as stated earlier this is of lesser importance given the business problem at hand. Even with these improvement we do still, however, miss in identifying approximately 35% of actual defaults. From a safe investment standpoint, 90% of the loans classified as non-default are accurate."
   ]
  },
  {
   "cell_type": "code",
   "execution_count": null,
   "metadata": {
    "collapsed": true
   },
   "outputs": [],
   "source": [
    "# Add model to list\n",
    "model = {'model_name': 'LogReg (Tuned)',\n",
    "         'model_type':'LogisticRegression',\n",
    "         'model': logreg_best,\n",
    "         'train_score': train_score,\n",
    "         'test_score': test_score}\n",
    "\n",
    "models.append(model)"
   ]
  },
  {
   "cell_type": "markdown",
   "metadata": {},
   "source": [
    "Taking a look at decision threshold for possible improvements to recall:"
   ]
  },
  {
   "cell_type": "code",
   "execution_count": 379,
   "metadata": {},
   "outputs": [
    {
     "data": {
      "image/png": "[encoded data removed]",
      "text/plain": [
       "<matplotlib.figure.Figure at 0x2a1884b43c8>"
      ]
     },
     "metadata": {},
     "output_type": "display_data"
    }
   ],
   "source": [
    "precisions, recalls, thresholds = plot_pr_curve(logreg_best, X_train, y_train, label='Logistic Regression')"
   ]
  },
  {
   "cell_type": "code",
   "execution_count": 380,
   "metadata": {},
   "outputs": [
    {
     "data": {
      "text/plain": [
       "-0.37086149247620764"
      ]
     },
     "execution_count": 380,
     "metadata": {},
     "output_type": "execute_result"
    }
   ],
   "source": [
    "# Get threshold value for desired recall\n",
    "desired_recall = 0.8\n",
    "i = len(recalls) - np.argmax(recalls[::-1] > desired_recall) - 1\n",
    "t = thresholds[i]\n",
    "t"
   ]
  },
  {
   "cell_type": "code",
   "execution_count": 381,
   "metadata": {
    "collapsed": true
   },
   "outputs": [],
   "source": [
    "y_train_pred_t = logreg_best.decision_function(X_train) >= t "
   ]
  },
  {
   "cell_type": "code",
   "execution_count": 382,
   "metadata": {},
   "outputs": [
    {
     "name": "stdout",
     "output_type": "stream",
     "text": [
      "Confusion Matrix:\n",
      "                 Predicted Negative  Predicted Positive\n",
      "Actual Negative              104576               63146\n",
      "Actual Positive                7557               30249\n",
      "--------------------\n",
      "Accuracy Scores:\n",
      "                Score\n",
      "Rate                 \n",
      "f1           0.461109\n",
      "Recall       0.800111\n",
      "Precision    0.323882\n",
      "Specificity  0.932607\n",
      "Fallout      0.067393\n"
     ]
    }
   ],
   "source": [
    "cmat, scores = classifier_summary(y_train, y_train_pred_t)"
   ]
  },
  {
   "cell_type": "markdown",
   "metadata": {},
   "source": [
    "Reducing the threshold greatly improves recall (selected 80%), however it inevitabely comes at an even greater cost to our precision (32%). Fallout and specificity have further been improved, so if this were used to identify the safest loans for investement (vs. those that will default) we would expect about 93% accuracy."
   ]
  },
  {
   "cell_type": "markdown",
   "metadata": {},
   "source": [
    "##### Naive Bayes Classifier"
   ]
  },
  {
   "cell_type": "code",
   "execution_count": 62,
   "metadata": {
    "collapsed": true
   },
   "outputs": [],
   "source": [
    "gnb = GaussianNB()"
   ]
  },
  {
   "cell_type": "code",
   "execution_count": 64,
   "metadata": {
    "scrolled": true
   },
   "outputs": [
    {
     "data": {
      "text/plain": [
       "GaussianNB(priors=None)"
      ]
     },
     "execution_count": 64,
     "metadata": {},
     "output_type": "execute_result"
    }
   ],
   "source": [
    "gnb.fit(X_train, y_train)"
   ]
  },
  {
   "cell_type": "code",
   "execution_count": 65,
   "metadata": {},
   "outputs": [
    {
     "data": {
      "text/plain": [
       "0.56338217653060074"
      ]
     },
     "execution_count": 65,
     "metadata": {},
     "output_type": "execute_result"
    }
   ],
   "source": [
    "train_predict = gnb.predict(X_train)\n",
    "f1_score(y_train, train_predict)"
   ]
  },
  {
   "cell_type": "code",
   "execution_count": 78,
   "metadata": {},
   "outputs": [
    {
     "data": {
      "text/plain": [
       "0.56572450630584459"
      ]
     },
     "execution_count": 78,
     "metadata": {},
     "output_type": "execute_result"
    }
   ],
   "source": [
    "gnb_cvs = cross_val_score(estimator=gnb, X=X_train, y=y_train, cv=10, scoring='f1', n_jobs=-1)\n",
    "gnb_cvs.mean()"
   ]
  },
  {
   "cell_type": "code",
   "execution_count": 387,
   "metadata": {
    "collapsed": true
   },
   "outputs": [],
   "source": [
    "y_test_pred = gnb.predict(X_test)\n",
    "y_train_pred = gnb.predict(X_train)"
   ]
  },
  {
   "cell_type": "code",
   "execution_count": 388,
   "metadata": {
    "scrolled": true
   },
   "outputs": [
    {
     "name": "stdout",
     "output_type": "stream",
     "text": [
      "Confusion Matrix:\n",
      "                 Predicted Negative  Predicted Positive\n",
      "Actual Negative              141457               26265\n",
      "Actual Positive               12680               25126\n",
      "--------------------\n",
      "Accuracy Scores:\n",
      "                Score\n",
      "Rate                 \n",
      "f1           0.563382\n",
      "Recall       0.664604\n",
      "Precision    0.488918\n",
      "Specificity  0.917736\n",
      "Fallout      0.082264\n"
     ]
    }
   ],
   "source": [
    "cmat_train, scores_train = classifier_summary(y_train, y_train_pred)"
   ]
  },
  {
   "cell_type": "code",
   "execution_count": 389,
   "metadata": {
    "scrolled": true
   },
   "outputs": [
    {
     "name": "stdout",
     "output_type": "stream",
     "text": [
      "Confusion Matrix:\n",
      "                 Predicted Negative  Predicted Positive\n",
      "Actual Negative               35343                6620\n",
      "Actual Positive                3215                6204\n",
      "--------------------\n",
      "Accuracy Scores:\n",
      "                Score\n",
      "Rate                 \n",
      "f1           0.557838\n",
      "Recall       0.658669\n",
      "Precision    0.483780\n",
      "Specificity  0.916619\n",
      "Fallout      0.083381\n"
     ]
    }
   ],
   "source": [
    "cmat_test, scores_test = classifier_summary(y_test, y_test_pred)"
   ]
  },
  {
   "cell_type": "markdown",
   "metadata": {},
   "source": [
    "Not a terrible recall score to start considering the previous performance of the logistic regression. Unfortunately, there is nothing in the ways of hyperparameter tuning, so any improvement to this model will require additional feature selection and optimization."
   ]
  },
  {
   "cell_type": "code",
   "execution_count": null,
   "metadata": {
    "collapsed": true
   },
   "outputs": [],
   "source": [
    "# Add model to list\n",
    "model = {'model_name': 'Naive Bayes (Basic)',\n",
    "         'model_type':'GaussianNB',\n",
    "         'model': gnb,\n",
    "         'train_score': train_score,\n",
    "         'test_score': test_score}\n",
    "\n",
    "models.append(model)"
   ]
  },
  {
   "cell_type": "markdown",
   "metadata": {},
   "source": [
    "Will see what additional improvements can be made by modifying the decision boundary:"
   ]
  },
  {
   "cell_type": "code",
   "execution_count": 390,
   "metadata": {},
   "outputs": [
    {
     "data": {
      "image/png": "[encoded data removed]",
      "text/plain": [
       "<matplotlib.figure.Figure at 0x2a191c7e6a0>"
      ]
     },
     "metadata": {},
     "output_type": "display_data"
    }
   ],
   "source": [
    "precisions, recalls, thresholds = plot_pr_curve(gnb, X_train, y_train)"
   ]
  },
  {
   "cell_type": "code",
   "execution_count": 413,
   "metadata": {},
   "outputs": [
    {
     "data": {
      "text/plain": [
       "0.0096447936240660684"
      ]
     },
     "execution_count": 413,
     "metadata": {},
     "output_type": "execute_result"
    }
   ],
   "source": [
    "# Get threshold value for desired recall\n",
    "desired_recall = 0.7\n",
    "i = len(recalls) - np.argmax(recalls[::-1] > desired_recall) - 1\n",
    "t = thresholds[i]\n",
    "t"
   ]
  },
  {
   "cell_type": "code",
   "execution_count": 414,
   "metadata": {
    "collapsed": true
   },
   "outputs": [],
   "source": [
    "y_train_pred_t = gnb.predict_proba(X_train)[:,1] >= t "
   ]
  },
  {
   "cell_type": "code",
   "execution_count": 415,
   "metadata": {},
   "outputs": [
    {
     "name": "stdout",
     "output_type": "stream",
     "text": [
      "Confusion Matrix:\n",
      "                 Predicted Negative  Predicted Positive\n",
      "Actual Negative              127691               40031\n",
      "Actual Positive               10242               27564\n",
      "--------------------\n",
      "Accuracy Scores:\n",
      "                Score\n",
      "Rate                 \n",
      "f1           0.523031\n",
      "Recall       0.729091\n",
      "Precision    0.407782\n",
      "Specificity  0.925747\n",
      "Fallout      0.074253\n"
     ]
    }
   ],
   "source": [
    "cmat, scores = classifier_summary(y_train, y_train_pred_t)"
   ]
  },
  {
   "cell_type": "markdown",
   "metadata": {},
   "source": [
    "Increasing the threshold slightly, we can acheive a recall of 72%, however it comes at the cost of reducing precision to from 48% to 40%. There is also the added benefit of slightly improved specificiy and fallout (on the magnitude of 1-2%)"
   ]
  },
  {
   "cell_type": "markdown",
   "metadata": {},
   "source": [
    "##### KNN"
   ]
  },
  {
   "cell_type": "markdown",
   "metadata": {},
   "source": [
    "KNN is not feasible with the number of training instances and features (due to categorical one hot encoding) and the number of records. Will be very slow to both fit and predict ($O(nk+nm)$). Will need to revisit with reduced dimensions, if possible."
   ]
  },
  {
   "cell_type": "markdown",
   "metadata": {},
   "source": [
    "##### Support Vector Classifier"
   ]
  },
  {
   "cell_type": "markdown",
   "metadata": {},
   "source": [
    "Support Vector Classifiers are likely to be computationally expensive due to the number of features, but we will still give it a try and see how it performs."
   ]
  },
  {
   "cell_type": "code",
   "execution_count": 96,
   "metadata": {
    "collapsed": true
   },
   "outputs": [],
   "source": [
    "lin_svc = LinearSVC(dual=False) # n_samples > n_features"
   ]
  },
  {
   "cell_type": "code",
   "execution_count": 97,
   "metadata": {},
   "outputs": [
    {
     "data": {
      "text/plain": [
       "LinearSVC(C=1.0, class_weight=None, dual=False, fit_intercept=True,\n",
       "     intercept_scaling=1, loss='squared_hinge', max_iter=1000,\n",
       "     multi_class='ovr', penalty='l2', random_state=None, tol=0.0001,\n",
       "     verbose=0)"
      ]
     },
     "execution_count": 97,
     "metadata": {},
     "output_type": "execute_result"
    }
   ],
   "source": [
    "lin_svc.fit(X_train, y_train)"
   ]
  },
  {
   "cell_type": "markdown",
   "metadata": {},
   "source": [
    "Quite slow due to large number of training instances n (200k) and features m (100). ($O(m\\times n)$)"
   ]
  },
  {
   "cell_type": "code",
   "execution_count": 441,
   "metadata": {},
   "outputs": [
    {
     "data": {
      "text/plain": [
       "0.64666821785899653"
      ]
     },
     "execution_count": 441,
     "metadata": {},
     "output_type": "execute_result"
    }
   ],
   "source": [
    "y_train_pred = lin_svc.predict(X_train)\n",
    "train_score = f1_score(y_train, y_train_pred)\n",
    "train_score"
   ]
  },
  {
   "cell_type": "code",
   "execution_count": 442,
   "metadata": {},
   "outputs": [
    {
     "data": {
      "text/plain": [
       "0.64162099798096328"
      ]
     },
     "execution_count": 442,
     "metadata": {},
     "output_type": "execute_result"
    }
   ],
   "source": [
    "y_test_pred = lin_svc.predict(X_test)\n",
    "test_score = f1_score(y_test, y_test_pred)\n",
    "test_score"
   ]
  },
  {
   "cell_type": "markdown",
   "metadata": {},
   "source": [
    "Not a terrible start in f1 score compared to other models thus far, and actually computed faster than anticipated."
   ]
  },
  {
   "cell_type": "code",
   "execution_count": 443,
   "metadata": {
    "collapsed": true
   },
   "outputs": [],
   "source": [
    "# Add model to list\n",
    "model = {'model_name': 'Linear SVC (Basic)',\n",
    "         'model_type':'LinearSVC',\n",
    "         'model': lin_svc,\n",
    "         'train_score': train_score,\n",
    "         'test_score': test_score}\n",
    "\n",
    "models.append(model)"
   ]
  },
  {
   "cell_type": "markdown",
   "metadata": {},
   "source": [
    "Will see if grid search is feasible for hyperparameter tuning. Note that the grid searches had to be seperated due to incompatibilities between penalty and loss/duality parameters.:"
   ]
  },
  {
   "cell_type": "code",
   "execution_count": 112,
   "metadata": {
    "collapsed": true
   },
   "outputs": [],
   "source": [
    "lscv = LinearSVC()"
   ]
  },
  {
   "cell_type": "code",
   "execution_count": 116,
   "metadata": {
    "scrolled": true
   },
   "outputs": [
    {
     "data": {
      "text/plain": [
       "GridSearchCV(cv=3, error_score='raise',\n",
       "       estimator=LinearSVC(C=1.0, class_weight=None, dual=True, fit_intercept=True,\n",
       "     intercept_scaling=1, loss='squared_hinge', max_iter=1000,\n",
       "     multi_class='ovr', penalty='l2', random_state=None, tol=0.0001,\n",
       "     verbose=0),\n",
       "       fit_params=None, iid=True, n_jobs=-1,\n",
       "       param_grid={'C': [0.001, 0.01, 0.1, 1, 10, 100, 1000], 'penalty': ['l1'], 'loss': ['squared_hinge'], 'dual': [False]},\n",
       "       pre_dispatch='2*n_jobs', refit=True, return_train_score=True,\n",
       "       scoring='f1', verbose=0)"
      ]
     },
     "execution_count": 116,
     "metadata": {},
     "output_type": "execute_result"
    }
   ],
   "source": [
    "# Grid search w/ l1 penalty\n",
    "param_grid = {'C': [.001, .01, .1, 1, 10, 100, 1000],\n",
    "              'penalty': ['l1'],\n",
    "              'loss': ['squared_hinge'],\n",
    "              'dual': [False]}\n",
    "\n",
    "lsvc_l1_gs = GridSearchCV(estimator=lscv,\n",
    "                       param_grid=param_grid,\n",
    "                       scoring='f1',\n",
    "                       cv=3,\n",
    "                       n_jobs=-1)\n",
    "\n",
    "lsvc_l1_gs.fit(X_train, y_train)"
   ]
  },
  {
   "cell_type": "code",
   "execution_count": 118,
   "metadata": {},
   "outputs": [
    {
     "data": {
      "text/plain": [
       "GridSearchCV(cv=3, error_score='raise',\n",
       "       estimator=LinearSVC(C=1.0, class_weight=None, dual=True, fit_intercept=True,\n",
       "     intercept_scaling=1, loss='squared_hinge', max_iter=1000,\n",
       "     multi_class='ovr', penalty='l2', random_state=None, tol=0.0001,\n",
       "     verbose=0),\n",
       "       fit_params=None, iid=True, n_jobs=-1,\n",
       "       param_grid={'C': [0.001, 0.01, 0.1, 1, 10, 100, 1000], 'penalty': ['l2'], 'loss': ['hinge', 'squared_hinge'], 'dual': [True]},\n",
       "       pre_dispatch='2*n_jobs', refit=True, return_train_score=True,\n",
       "       scoring='f1', verbose=0)"
      ]
     },
     "execution_count": 118,
     "metadata": {},
     "output_type": "execute_result"
    }
   ],
   "source": [
    "# Grid search w/ l2 penalty\n",
    "param_grid = {'C': [.001, .01, .1, 1, 10, 100, 1000],\n",
    "              'penalty': ['l2'],\n",
    "              'loss': ['hinge', 'squared_hinge'],\n",
    "              'dual': [True]}\n",
    "\n",
    "lsvc_l2_gs = GridSearchCV(estimator=lscv,\n",
    "                       param_grid=param_grid,\n",
    "                       scoring='f1',\n",
    "                       cv=3,\n",
    "                       n_jobs=-1)\n",
    "\n",
    "lsvc_l2_gs.fit(X_train, y_train)"
   ]
  },
  {
   "cell_type": "code",
   "execution_count": 120,
   "metadata": {},
   "outputs": [
    {
     "data": {
      "text/plain": [
       "(0.63358231818054889, 0.65590201874543352)"
      ]
     },
     "execution_count": 120,
     "metadata": {},
     "output_type": "execute_result"
    }
   ],
   "source": [
    "lsvc_l1_gs.best_score_, lsvc_l2_gs.best_score_"
   ]
  },
  {
   "cell_type": "code",
   "execution_count": 126,
   "metadata": {},
   "outputs": [
    {
     "data": {
      "text/plain": [
       "{'C': 10, 'dual': True, 'loss': 'squared_hinge', 'penalty': 'l2'}"
      ]
     },
     "execution_count": 126,
     "metadata": {},
     "output_type": "execute_result"
    }
   ],
   "source": [
    "lsvc_l2_gs.best_params_"
   ]
  },
  {
   "cell_type": "markdown",
   "metadata": {},
   "source": [
    "We can see a slight score improvemenet in l2 penalty vs. l1, so we will proceed with the l2 version:"
   ]
  },
  {
   "cell_type": "code",
   "execution_count": 132,
   "metadata": {
    "collapsed": true
   },
   "outputs": [],
   "source": [
    "lsvc_best = lsvc_l2_gs.best_estimator_"
   ]
  },
  {
   "cell_type": "code",
   "execution_count": 134,
   "metadata": {},
   "outputs": [
    {
     "data": {
      "text/plain": [
       "LinearSVC(C=10, class_weight=None, dual=False, fit_intercept=True,\n",
       "     intercept_scaling=1, loss='squared_hinge', max_iter=1000,\n",
       "     multi_class='ovr', penalty='l2', random_state=None, tol=0.0001,\n",
       "     verbose=0)"
      ]
     },
     "execution_count": 134,
     "metadata": {},
     "output_type": "execute_result"
    }
   ],
   "source": [
    "lsvc_best.set_params(dual=False) # Can switch back to False given l2 & squared_hinge"
   ]
  },
  {
   "cell_type": "code",
   "execution_count": 135,
   "metadata": {},
   "outputs": [
    {
     "data": {
      "text/plain": [
       "LinearSVC(C=10, class_weight=None, dual=False, fit_intercept=True,\n",
       "     intercept_scaling=1, loss='squared_hinge', max_iter=1000,\n",
       "     multi_class='ovr', penalty='l2', random_state=None, tol=0.0001,\n",
       "     verbose=0)"
      ]
     },
     "execution_count": 135,
     "metadata": {},
     "output_type": "execute_result"
    }
   ],
   "source": [
    "lsvc_best.fit(X_train, y_train)"
   ]
  },
  {
   "cell_type": "code",
   "execution_count": 417,
   "metadata": {
    "collapsed": true
   },
   "outputs": [],
   "source": [
    "y_train_pred = lsvc_best.predict(X_train)\n",
    "y_test_pred = lsvc_best.predict(X_test)"
   ]
  },
  {
   "cell_type": "code",
   "execution_count": 430,
   "metadata": {},
   "outputs": [
    {
     "name": "stdout",
     "output_type": "stream",
     "text": [
      "Confusion Matrix:\n",
      "                 Predicted Negative  Predicted Positive\n",
      "Actual Negative              167722                   0\n",
      "Actual Positive               19235               18571\n",
      "--------------------\n",
      "Accuracy Scores:\n",
      "                Score\n",
      "Rate                 \n",
      "f1           0.658815\n",
      "Recall       0.491218\n",
      "Precision    1.000000\n",
      "Specificity  0.897115\n",
      "Fallout      0.102885\n"
     ]
    }
   ],
   "source": [
    "train_cmat, train_scores = classifier_summary(y_train, y_train_pred);"
   ]
  },
  {
   "cell_type": "code",
   "execution_count": 431,
   "metadata": {},
   "outputs": [
    {
     "name": "stdout",
     "output_type": "stream",
     "text": [
      "Confusion Matrix:\n",
      "                 Predicted Negative  Predicted Positive\n",
      "Actual Negative               41963                   0\n",
      "Actual Positive                4845                4574\n",
      "--------------------\n",
      "Accuracy Scores:\n",
      "                Score\n",
      "Rate                 \n",
      "f1           0.653755\n",
      "Recall       0.485614\n",
      "Precision    1.000000\n",
      "Specificity  0.896492\n",
      "Fallout      0.103508\n"
     ]
    }
   ],
   "source": [
    "test_cmat, test_scores = classifier_summary(y_test, y_test_pred);"
   ]
  },
  {
   "cell_type": "code",
   "execution_count": 439,
   "metadata": {},
   "outputs": [
    {
     "data": {
      "text/plain": [
       "0.65375544915314798"
      ]
     },
     "execution_count": 439,
     "metadata": {},
     "output_type": "execute_result"
    }
   ],
   "source": [
    "test_scores.iloc[0,0]"
   ]
  },
  {
   "cell_type": "markdown",
   "metadata": {},
   "source": [
    "Whilst this SVC model has one of the higher f1 scores thus far, and we can see that this model is very strong with precision. Unfortunately this comes at the cost of recall, which is down to just 48%."
   ]
  },
  {
   "cell_type": "code",
   "execution_count": 440,
   "metadata": {
    "collapsed": true
   },
   "outputs": [],
   "source": [
    "# Add model to list\n",
    "model = {'model_name': 'Linear SVC (Tuned)',\n",
    "         'model_type':'LinearSVC',\n",
    "         'model': lsvc_best,\n",
    "         'train_score': train_scores.iloc[0,0],\n",
    "         'test_score': test_scores.iloc[0,0]}\n",
    "\n",
    "models.append(model)"
   ]
  },
  {
   "cell_type": "markdown",
   "metadata": {},
   "source": [
    "Exploring this tradeoff further may lead to a better model for our purposes (i.e. higher recall vs. precision), with adjustmenets to the decision threshold:"
   ]
  },
  {
   "cell_type": "code",
   "execution_count": 422,
   "metadata": {},
   "outputs": [
    {
     "data": {
      "image/png": "[encoded data removed]",
      "text/plain": [
       "<matplotlib.figure.Figure at 0x2a1e2f93048>"
      ]
     },
     "metadata": {},
     "output_type": "display_data"
    }
   ],
   "source": [
    "precisions, recalls, thresholds = plot_pr_curve(lsvc_best, X_train, y_train)"
   ]
  },
  {
   "cell_type": "code",
   "execution_count": 427,
   "metadata": {
    "collapsed": true
   },
   "outputs": [],
   "source": [
    "# Filter off new threshold\n",
    "y_train_pred_t = lsvc_best.decision_function(X_train) > -.85"
   ]
  },
  {
   "cell_type": "code",
   "execution_count": 428,
   "metadata": {},
   "outputs": [
    {
     "name": "stdout",
     "output_type": "stream",
     "text": [
      "Confusion Matrix:\n",
      "                 Predicted Negative  Predicted Positive\n",
      "Actual Negative               67036              100686\n",
      "Actual Positive                2832               34974\n",
      "--------------------\n",
      "Accuracy Scores:\n",
      "                Score\n",
      "Rate                 \n",
      "f1           0.403238\n",
      "Recall       0.925091\n",
      "Precision    0.257806\n",
      "Specificity  0.959466\n",
      "Fallout      0.040534\n"
     ]
    }
   ],
   "source": [
    "classifier_summary(y_train, y_train_pred_t);"
   ]
  },
  {
   "cell_type": "markdown",
   "metadata": {},
   "source": [
    "Reducing the threshold greatly improves recall, specificity, and fallout, but again at at a considerable cost to precision."
   ]
  },
  {
   "cell_type": "markdown",
   "metadata": {},
   "source": [
    "##### SGD Classifier"
   ]
  },
  {
   "cell_type": "code",
   "execution_count": 36,
   "metadata": {
    "collapsed": true
   },
   "outputs": [],
   "source": [
    "sgd = SGDClassifier(max_iter=100, n_jobs=-1)"
   ]
  },
  {
   "cell_type": "code",
   "execution_count": 37,
   "metadata": {},
   "outputs": [
    {
     "data": {
      "text/plain": [
       "SGDClassifier(alpha=0.0001, average=False, class_weight=None, epsilon=0.1,\n",
       "       eta0=0.0, fit_intercept=True, l1_ratio=0.15,\n",
       "       learning_rate='optimal', loss='hinge', max_iter=100, n_iter=None,\n",
       "       n_jobs=-1, penalty='l2', power_t=0.5, random_state=None,\n",
       "       shuffle=True, tol=None, verbose=0, warm_start=False)"
      ]
     },
     "execution_count": 37,
     "metadata": {},
     "output_type": "execute_result"
    }
   ],
   "source": [
    "sgd.fit(X_train, y_train)"
   ]
  },
  {
   "cell_type": "code",
   "execution_count": 38,
   "metadata": {
    "collapsed": true
   },
   "outputs": [],
   "source": [
    "y_train_pred = sgd.predict(X_train)\n",
    "y_test_pred = sgd.predict(X_test)"
   ]
  },
  {
   "cell_type": "code",
   "execution_count": 39,
   "metadata": {},
   "outputs": [
    {
     "name": "stdout",
     "output_type": "stream",
     "text": [
      "Confusion Matrix:\n",
      "                 Predicted Negative  Predicted Positive\n",
      "Actual Negative              167722                   0\n",
      "Actual Positive               23277               14529\n",
      "--------------------\n",
      "Accuracy Scores:\n",
      "                Score\n",
      "Rate                 \n",
      "f1           0.555231\n",
      "Recall       0.384304\n",
      "Precision    1.000000\n",
      "Specificity  0.878130\n",
      "Fallout      0.121870\n"
     ]
    }
   ],
   "source": [
    "train_cmat, train_scores = classifier_summary(y_train, y_train_pred)"
   ]
  },
  {
   "cell_type": "code",
   "execution_count": 40,
   "metadata": {},
   "outputs": [
    {
     "name": "stdout",
     "output_type": "stream",
     "text": [
      "Confusion Matrix:\n",
      "                 Predicted Negative  Predicted Positive\n",
      "Actual Negative               41963                   0\n",
      "Actual Positive                5855                3564\n",
      "--------------------\n",
      "Accuracy Scores:\n",
      "                Score\n",
      "Rate                 \n",
      "f1           0.549026\n",
      "Recall       0.378384\n",
      "Precision    1.000000\n",
      "Specificity  0.877557\n",
      "Fallout      0.122443\n"
     ]
    }
   ],
   "source": [
    "test_cmat, test_scores = classifier_summary(y_test, y_test_pred)"
   ]
  },
  {
   "cell_type": "markdown",
   "metadata": {},
   "source": [
    "This untuned model has the worst recall yet, but flawless precision having zero false positives."
   ]
  },
  {
   "cell_type": "code",
   "execution_count": 450,
   "metadata": {
    "collapsed": true
   },
   "outputs": [],
   "source": [
    "# Add model to list\n",
    "model = {'model_name': 'SGD (Basic)',\n",
    "         'model_type':'SGDClassifier',\n",
    "         'model': sgd,\n",
    "         'train_score': train_scores.iloc[0,0],\n",
    "         'test_score': test_scores.iloc[0,0]}\n",
    "\n",
    "models.append(model)"
   ]
  },
  {
   "cell_type": "markdown",
   "metadata": {},
   "source": [
    "We will see if there are any immediate improvements through parameter tuning:"
   ]
  },
  {
   "cell_type": "code",
   "execution_count": 41,
   "metadata": {
    "collapsed": true
   },
   "outputs": [],
   "source": [
    "# Had to reduce variety of params due to computational demand\n",
    "param_grid = {'loss': ['squared_hinge'],\n",
    "              'alpha': np.logspace(-6,3,10),\n",
    "              'penalty':['elasticnet'],\n",
    "              'l1_ratio':[0.0, 0.5, 1.0],\n",
    "              'class_weight': ['balanced', None]}\n",
    "\n",
    "sgd_gs = GridSearchCV(estimator=sgd,\n",
    "                  param_grid = param_grid,\n",
    "                  scoring='f1',\n",
    "                  cv=3,\n",
    "                  n_jobs=-1)\n",
    "\n",
    "sgd_gs.fit(X_train, y_train);"
   ]
  },
  {
   "cell_type": "code",
   "execution_count": 42,
   "metadata": {},
   "outputs": [
    {
     "data": {
      "text/plain": [
       "{'alpha': 9.9999999999999995e-07,\n",
       " 'class_weight': None,\n",
       " 'l1_ratio': 0.5,\n",
       " 'loss': 'squared_hinge',\n",
       " 'penalty': 'elasticnet'}"
      ]
     },
     "execution_count": 42,
     "metadata": {},
     "output_type": "execute_result"
    }
   ],
   "source": [
    "sgd_gs.best_params_"
   ]
  },
  {
   "cell_type": "code",
   "execution_count": 43,
   "metadata": {},
   "outputs": [
    {
     "data": {
      "text/plain": [
       "0.58887419287712728"
      ]
     },
     "execution_count": 43,
     "metadata": {},
     "output_type": "execute_result"
    }
   ],
   "source": [
    "sgd_gs.best_score_"
   ]
  },
  {
   "cell_type": "markdown",
   "metadata": {},
   "source": [
    "Slight improvement in f1 score over the original model."
   ]
  },
  {
   "cell_type": "code",
   "execution_count": 44,
   "metadata": {
    "collapsed": true
   },
   "outputs": [],
   "source": [
    "sgd_best = sgd_gs.best_estimator_"
   ]
  },
  {
   "cell_type": "code",
   "execution_count": 46,
   "metadata": {
    "collapsed": true
   },
   "outputs": [],
   "source": [
    "y_train_pred = sgd_best.predict(X_train)\n",
    "y_test_pred = sgd_best.predict(X_test)"
   ]
  },
  {
   "cell_type": "code",
   "execution_count": 49,
   "metadata": {},
   "outputs": [
    {
     "name": "stdout",
     "output_type": "stream",
     "text": [
      "Confusion Matrix:\n",
      "                 Predicted Negative  Predicted Positive\n",
      "Actual Negative              162621                5101\n",
      "Actual Positive               17977               19829\n",
      "--------------------\n",
      "Accuracy Scores:\n",
      "                Score\n",
      "Rate                 \n",
      "f1           0.632141\n",
      "Recall       0.524493\n",
      "Precision    0.795387\n",
      "Specificity  0.900458\n",
      "Fallout      0.099542\n"
     ]
    }
   ],
   "source": [
    "train_cmat, train_scores = classifier_summary(y_train, y_train_pred)"
   ]
  },
  {
   "cell_type": "code",
   "execution_count": 50,
   "metadata": {},
   "outputs": [
    {
     "name": "stdout",
     "output_type": "stream",
     "text": [
      "Confusion Matrix:\n",
      "                 Predicted Negative  Predicted Positive\n",
      "Actual Negative               40656                1307\n",
      "Actual Positive                4521                4898\n",
      "--------------------\n",
      "Accuracy Scores:\n",
      "                Score\n",
      "Rate                 \n",
      "f1           0.626984\n",
      "Recall       0.520013\n",
      "Precision    0.789363\n",
      "Specificity  0.899927\n",
      "Fallout      0.100073\n"
     ]
    }
   ],
   "source": [
    "test_cmat, test_scores = classifier_summary(y_test, y_test_pred)"
   ]
  },
  {
   "cell_type": "markdown",
   "metadata": {},
   "source": [
    "Optimizing some of the parameters seems to have at least boosted our recall to around 52%, but this is still worse than our other models thus far. Additionally, the fallout is quite signficant at 10% in comparison to the other models, making this one of the more risk-prone predictors."
   ]
  },
  {
   "cell_type": "code",
   "execution_count": null,
   "metadata": {
    "collapsed": true
   },
   "outputs": [],
   "source": [
    "# Add model to list\n",
    "model = {'model_name': 'SGD Classifier (Tuned)',\n",
    "         'model_type':'SGDClassifier',\n",
    "         'model': sgd_best,\n",
    "         'train_score': train_scores.iloc[0,0],\n",
    "         'test_score': test_scores.iloc[0,0]}\n",
    "\n",
    "models.append(model)"
   ]
  },
  {
   "cell_type": "markdown",
   "metadata": {},
   "source": [
    "##### Decision Tree Classifier"
   ]
  },
  {
   "cell_type": "code",
   "execution_count": 51,
   "metadata": {
    "collapsed": true
   },
   "outputs": [],
   "source": [
    "dtc = DecisionTreeClassifier()"
   ]
  },
  {
   "cell_type": "code",
   "execution_count": 61,
   "metadata": {
    "scrolled": true
   },
   "outputs": [
    {
     "data": {
      "text/plain": [
       "DecisionTreeClassifier(class_weight=None, criterion='gini', max_depth=None,\n",
       "            max_features=None, max_leaf_nodes=None,\n",
       "            min_impurity_decrease=0.0, min_impurity_split=None,\n",
       "            min_samples_leaf=1, min_samples_split=2,\n",
       "            min_weight_fraction_leaf=0.0, presort=False, random_state=None,\n",
       "            splitter='best')"
      ]
     },
     "execution_count": 61,
     "metadata": {},
     "output_type": "execute_result"
    }
   ],
   "source": [
    "dtc.fit(X_train, y_train)"
   ]
  },
  {
   "cell_type": "code",
   "execution_count": 54,
   "metadata": {
    "collapsed": true
   },
   "outputs": [],
   "source": [
    "y_train_pred = dtc.predict(X_train)\n",
    "y_test_pred = dtc.predict(X_test)"
   ]
  },
  {
   "cell_type": "code",
   "execution_count": 55,
   "metadata": {},
   "outputs": [
    {
     "name": "stdout",
     "output_type": "stream",
     "text": [
      "Confusion Matrix:\n",
      "                 Predicted Negative  Predicted Positive\n",
      "Actual Negative              167722                   0\n",
      "Actual Positive                   0               37806\n",
      "--------------------\n",
      "Accuracy Scores:\n",
      "             Score\n",
      "Rate              \n",
      "f1             1.0\n",
      "Recall         1.0\n",
      "Precision      1.0\n",
      "Specificity    1.0\n",
      "Fallout        0.0\n"
     ]
    }
   ],
   "source": [
    "train_cmat, train_scores = classifier_summary(y_train, y_train_pred)"
   ]
  },
  {
   "cell_type": "code",
   "execution_count": 56,
   "metadata": {},
   "outputs": [
    {
     "name": "stdout",
     "output_type": "stream",
     "text": [
      "Confusion Matrix:\n",
      "                 Predicted Negative  Predicted Positive\n",
      "Actual Negative               37437                4526\n",
      "Actual Positive                3950                5469\n",
      "--------------------\n",
      "Accuracy Scores:\n",
      "                Score\n",
      "Rate                 \n",
      "f1           0.563408\n",
      "Recall       0.580635\n",
      "Precision    0.547174\n",
      "Specificity  0.904559\n",
      "Fallout      0.095441\n"
     ]
    }
   ],
   "source": [
    "test_cmat, test_scores = classifier_summary(y_test, y_test_pred)"
   ]
  },
  {
   "cell_type": "markdown",
   "metadata": {},
   "source": [
    "Here we have a classic example of overfitting. The decision tree clearly needs to be constrained with some of its parameters to limit the depth and number of splits/leaves in the tree."
   ]
  },
  {
   "cell_type": "code",
   "execution_count": null,
   "metadata": {
    "collapsed": true
   },
   "outputs": [],
   "source": [
    "# Add model to list\n",
    "model = {'model_name': 'Decision Tree (Basic)',\n",
    "         'model_type':'DecisionTreeClassifier',\n",
    "         'model': dtc,\n",
    "         'train_score': train_scores.iloc[0,0],\n",
    "         'test_score': test_scores.iloc[0,0]}\n",
    "\n",
    "models.append(model)"
   ]
  },
  {
   "cell_type": "markdown",
   "metadata": {},
   "source": [
    "Due to the variety of parameter values, randomized search will be done in place of grid search:"
   ]
  },
  {
   "cell_type": "code",
   "execution_count": 78,
   "metadata": {
    "collapsed": true
   },
   "outputs": [],
   "source": [
    "RandomizedSearchCV?"
   ]
  },
  {
   "cell_type": "code",
   "execution_count": 69,
   "metadata": {
    "scrolled": false
   },
   "outputs": [
    {
     "data": {
      "text/plain": [
       "RandomizedSearchCV(cv=3, error_score='raise',\n",
       "          estimator=DecisionTreeClassifier(class_weight=None, criterion='gini', max_depth=None,\n",
       "            max_features=None, max_leaf_nodes=None,\n",
       "            min_impurity_decrease=0.0, min_impurity_split=None,\n",
       "            min_samples_leaf=1, min_samples_split=2,\n",
       "            min_weight_fraction_leaf=0.0, presort=False, random_state=None,\n",
       "            splitter='best'),\n",
       "          fit_params=None, iid=True, n_iter=100, n_jobs=-1,\n",
       "          param_distributions={'criterion': ['gini', 'entropy'], 'max_depth': array([10, 15, 20, 25, 30, 35, 40, 45, 50, 55, 60, 65, 70, 75, 80, 85, 90,\n",
       "       95]), 'min_samples_split': array([  2,   3,   4,   5,  10,  15,  20,  25,  30,  35,  40,  45,  50,\n",
       "        55,  60,  65,  70,  75,  80,  85,  90,  95,..., 0.1, 0.2, 0.30000000000000004, 0.4, 0.5, 0.6,\n",
       "       0.7000000000000001, 0.8, 0.9], dtype=object)},\n",
       "          pre_dispatch='2*n_jobs', random_state=None, refit=True,\n",
       "          return_train_score=True, scoring='f1', verbose=0)"
      ]
     },
     "execution_count": 69,
     "metadata": {},
     "output_type": "execute_result"
    }
   ],
   "source": [
    "param_grid = {'criterion': ['gini', 'entropy'],\n",
    "              'max_depth': np.arange(10,100,5),\n",
    "              'min_samples_split': np.append(np.array([2,3,4]), np.arange(5,101,5)),\n",
    "              'min_samples_leaf': np.append(np.array([2,3,4]), np.arange(5,101,5)),\n",
    "              'max_features': np.append(np.array(['sqrt', 'log2', None]), np.arange(0.1,1,0.1)).astype('object')}\n",
    "\n",
    "dtc_rs = RandomizedSearchCV(estimator=dtc,\n",
    "                  param_distributions = param_grid,\n",
    "                  n_iter=100,\n",
    "                  scoring='f1',\n",
    "                  cv=3,\n",
    "                  n_jobs=-1)\n",
    "\n",
    "dtc_rs.fit(X_train, y_train)"
   ]
  },
  {
   "cell_type": "code",
   "execution_count": 70,
   "metadata": {},
   "outputs": [
    {
     "data": {
      "text/plain": [
       "{'criterion': 'entropy',\n",
       " 'max_depth': 55,\n",
       " 'max_features': 0.7000000000000001,\n",
       " 'min_samples_leaf': 80,\n",
       " 'min_samples_split': 20}"
      ]
     },
     "execution_count": 70,
     "metadata": {},
     "output_type": "execute_result"
    }
   ],
   "source": [
    "dtc_rs.best_params_"
   ]
  },
  {
   "cell_type": "code",
   "execution_count": 71,
   "metadata": {},
   "outputs": [
    {
     "data": {
      "text/plain": [
       "0.66669749055934557"
      ]
     },
     "execution_count": 71,
     "metadata": {},
     "output_type": "execute_result"
    }
   ],
   "source": [
    "dtc_rs.best_score_"
   ]
  },
  {
   "cell_type": "code",
   "execution_count": 72,
   "metadata": {
    "collapsed": true
   },
   "outputs": [],
   "source": [
    "dtc_best = DecisionTreeClassifier(criterion='entropy',\n",
    "                                  max_depth=55,\n",
    "                                  max_features=0.7,\n",
    "                                  min_samples_leaf=80,\n",
    "                                  min_samples_split=20)"
   ]
  },
  {
   "cell_type": "code",
   "execution_count": 73,
   "metadata": {},
   "outputs": [
    {
     "data": {
      "text/plain": [
       "DecisionTreeClassifier(class_weight=None, criterion='entropy', max_depth=55,\n",
       "            max_features=0.7, max_leaf_nodes=None,\n",
       "            min_impurity_decrease=0.0, min_impurity_split=None,\n",
       "            min_samples_leaf=80, min_samples_split=20,\n",
       "            min_weight_fraction_leaf=0.0, presort=False, random_state=None,\n",
       "            splitter='best')"
      ]
     },
     "execution_count": 73,
     "metadata": {},
     "output_type": "execute_result"
    }
   ],
   "source": [
    "dtc_best.fit(X_train, y_train)"
   ]
  },
  {
   "cell_type": "code",
   "execution_count": 75,
   "metadata": {
    "collapsed": true
   },
   "outputs": [],
   "source": [
    "y_train_pred = dtc_best.predict(X_train)\n",
    "y_test_pred = dtc_best.predict(X_test)"
   ]
  },
  {
   "cell_type": "code",
   "execution_count": 76,
   "metadata": {},
   "outputs": [
    {
     "name": "stdout",
     "output_type": "stream",
     "text": [
      "Confusion Matrix:\n",
      "                 Predicted Negative  Predicted Positive\n",
      "Actual Negative              167589                 133\n",
      "Actual Positive               18804               19002\n",
      "--------------------\n",
      "Accuracy Scores:\n",
      "                Score\n",
      "Rate                 \n",
      "f1           0.667428\n",
      "Recall       0.502619\n",
      "Precision    0.993049\n",
      "Specificity  0.899116\n",
      "Fallout      0.100884\n"
     ]
    }
   ],
   "source": [
    "train_cmat, train_scores = classifier_summary(y_train, y_train_pred)"
   ]
  },
  {
   "cell_type": "code",
   "execution_count": 77,
   "metadata": {},
   "outputs": [
    {
     "name": "stdout",
     "output_type": "stream",
     "text": [
      "Confusion Matrix:\n",
      "                 Predicted Negative  Predicted Positive\n",
      "Actual Negative               41921                  42\n",
      "Actual Positive                4733                4686\n",
      "--------------------\n",
      "Accuracy Scores:\n",
      "                Score\n",
      "Rate                 \n",
      "f1           0.662473\n",
      "Recall       0.497505\n",
      "Precision    0.991117\n",
      "Specificity  0.898551\n",
      "Fallout      0.101449\n"
     ]
    }
   ],
   "source": [
    "test_cmat, test_scores = classifier_summary(y_test, y_test_pred)"
   ]
  },
  {
   "cell_type": "markdown",
   "metadata": {},
   "source": [
    "Although our parameter tuning improved overall f1 scores, it actually wound up hurting our recall, specificity, and fallout in order to acheive higher precision, which is the score we are least concerned with. We will try optimizing parameters with respect to the recall score:"
   ]
  },
  {
   "cell_type": "code",
   "execution_count": 79,
   "metadata": {},
   "outputs": [
    {
     "data": {
      "text/plain": [
       "RandomizedSearchCV(cv=3, error_score='raise',\n",
       "          estimator=DecisionTreeClassifier(class_weight=None, criterion='gini', max_depth=None,\n",
       "            max_features=None, max_leaf_nodes=None,\n",
       "            min_impurity_decrease=0.0, min_impurity_split=None,\n",
       "            min_samples_leaf=1, min_samples_split=2,\n",
       "            min_weight_fraction_leaf=0.0, presort=False, random_state=None,\n",
       "            splitter='best'),\n",
       "          fit_params=None, iid=True, n_iter=100, n_jobs=-1,\n",
       "          param_distributions={'criterion': ['gini', 'entropy'], 'max_depth': array([10, 15, 20, 25, 30, 35, 40, 45, 50, 55, 60, 65, 70, 75, 80, 85, 90,\n",
       "       95]), 'min_samples_split': array([  2,   3,   4,   5,  10,  15,  20,  25,  30,  35,  40,  45,  50,\n",
       "        55,  60,  65,  70,  75,  80,  85,  90,  95,..., 0.1, 0.2, 0.30000000000000004, 0.4, 0.5, 0.6,\n",
       "       0.7000000000000001, 0.8, 0.9], dtype=object)},\n",
       "          pre_dispatch='2*n_jobs', random_state=None, refit=True,\n",
       "          return_train_score=True, scoring='recall', verbose=0)"
      ]
     },
     "execution_count": 79,
     "metadata": {},
     "output_type": "execute_result"
    }
   ],
   "source": [
    "param_grid = {'criterion': ['gini', 'entropy'],\n",
    "              'max_depth': np.arange(10,100,5),\n",
    "              'min_samples_split': np.append(np.array([2,3,4]), np.arange(5,101,5)),\n",
    "              'min_samples_leaf': np.append(np.array([2,3,4]), np.arange(5,101,5)),\n",
    "              'max_features': np.append(np.array(['sqrt', 'log2', None]), np.arange(0.1,1,0.1)).astype('object')}\n",
    "\n",
    "dtc_rs_2 = RandomizedSearchCV(estimator=dtc,\n",
    "                  param_distributions = param_grid,\n",
    "                  n_iter=100,\n",
    "                  scoring='recall',\n",
    "                  cv=3,\n",
    "                  n_jobs=-1)\n",
    "\n",
    "dtc_rs_2.fit(X_train, y_train)"
   ]
  },
  {
   "cell_type": "code",
   "execution_count": 80,
   "metadata": {},
   "outputs": [
    {
     "data": {
      "text/plain": [
       "{'criterion': 'entropy',\n",
       " 'max_depth': 60,\n",
       " 'max_features': 0.8,\n",
       " 'min_samples_leaf': 5,\n",
       " 'min_samples_split': 15}"
      ]
     },
     "execution_count": 80,
     "metadata": {},
     "output_type": "execute_result"
    }
   ],
   "source": [
    "dtc_rs_2.best_params_"
   ]
  },
  {
   "cell_type": "code",
   "execution_count": 81,
   "metadata": {},
   "outputs": [
    {
     "data": {
      "text/plain": [
       "0.56800507971723146"
      ]
     },
     "execution_count": 81,
     "metadata": {},
     "output_type": "execute_result"
    }
   ],
   "source": [
    "dtc_rs_2.best_score_"
   ]
  },
  {
   "cell_type": "code",
   "execution_count": 102,
   "metadata": {
    "collapsed": true
   },
   "outputs": [],
   "source": [
    "dtc_best = dtc_rs_2.best_estimator_"
   ]
  },
  {
   "cell_type": "code",
   "execution_count": 103,
   "metadata": {},
   "outputs": [
    {
     "data": {
      "text/plain": [
       "DecisionTreeClassifier(class_weight=None, criterion='entropy', max_depth=60,\n",
       "            max_features=0.8, max_leaf_nodes=None,\n",
       "            min_impurity_decrease=0.0, min_impurity_split=None,\n",
       "            min_samples_leaf=5, min_samples_split=15,\n",
       "            min_weight_fraction_leaf=0.0, presort=False, random_state=None,\n",
       "            splitter='best')"
      ]
     },
     "execution_count": 103,
     "metadata": {},
     "output_type": "execute_result"
    }
   ],
   "source": [
    "dtc_best.fit(X_train, y_train)"
   ]
  },
  {
   "cell_type": "code",
   "execution_count": 104,
   "metadata": {
    "collapsed": true
   },
   "outputs": [],
   "source": [
    "y_train_pred = dtc_best.predict(X_train)\n",
    "y_test_pred = dtc_best.predict(X_test)"
   ]
  },
  {
   "cell_type": "code",
   "execution_count": 105,
   "metadata": {},
   "outputs": [
    {
     "name": "stdout",
     "output_type": "stream",
     "text": [
      "Confusion Matrix:\n",
      "                 Predicted Negative  Predicted Positive\n",
      "Actual Negative              163673                4049\n",
      "Actual Positive                8725               29081\n",
      "--------------------\n",
      "Accuracy Scores:\n",
      "                Score\n",
      "Rate                 \n",
      "f1           0.819922\n",
      "Recall       0.769217\n",
      "Precision    0.877784\n",
      "Specificity  0.949390\n",
      "Fallout      0.050610\n"
     ]
    }
   ],
   "source": [
    "train_cmat, train_scores = classifier_summary(y_train, y_train_pred)"
   ]
  },
  {
   "cell_type": "code",
   "execution_count": 106,
   "metadata": {},
   "outputs": [
    {
     "name": "stdout",
     "output_type": "stream",
     "text": [
      "Confusion Matrix:\n",
      "                 Predicted Negative  Predicted Positive\n",
      "Actual Negative               38937                3026\n",
      "Actual Positive                4130                5289\n",
      "--------------------\n",
      "Accuracy Scores:\n",
      "                Score\n",
      "Rate                 \n",
      "f1           0.596481\n",
      "Recall       0.561525\n",
      "Precision    0.636079\n",
      "Specificity  0.904103\n",
      "Fallout      0.095897\n"
     ]
    }
   ],
   "source": [
    "test_cmat, test_scores = classifier_summary(y_test, y_test_pred)"
   ]
  },
  {
   "cell_type": "markdown",
   "metadata": {},
   "source": [
    "Whilst there is some improvement in recall, it seems that this model still suffers from overfitting when trying to maximize recall. Acheiving a better balance between overfitting and recall will likely require more extensive parameter tweaking and feature optimization beyond the scope of this MVP. For the sake of this analysis, perhaps a random forest classifier will provide a more immediate improvement."
   ]
  },
  {
   "cell_type": "markdown",
   "metadata": {},
   "source": [
    "##### Random Forest Classifier"
   ]
  },
  {
   "cell_type": "code",
   "execution_count": 107,
   "metadata": {
    "collapsed": true
   },
   "outputs": [],
   "source": [
    "rfc = RandomForestClassifier(n_estimators=20,\n",
    "                             criterion='entropy',\n",
    "                             max_features=0.8,\n",
    "                             max_depth=60,\n",
    "                             min_samples_split=5,\n",
    "                             min_samples_leaf=15,\n",
    "                             n_jobs=-1)"
   ]
  },
  {
   "cell_type": "code",
   "execution_count": 108,
   "metadata": {},
   "outputs": [
    {
     "data": {
      "text/plain": [
       "RandomForestClassifier(bootstrap=True, class_weight=None, criterion='entropy',\n",
       "            max_depth=60, max_features=0.8, max_leaf_nodes=None,\n",
       "            min_impurity_decrease=0.0, min_impurity_split=None,\n",
       "            min_samples_leaf=15, min_samples_split=5,\n",
       "            min_weight_fraction_leaf=0.0, n_estimators=20, n_jobs=-1,\n",
       "            oob_score=False, random_state=None, verbose=0,\n",
       "            warm_start=False)"
      ]
     },
     "execution_count": 108,
     "metadata": {},
     "output_type": "execute_result"
    }
   ],
   "source": [
    "rfc.fit(X_train, y_train)"
   ]
  },
  {
   "cell_type": "code",
   "execution_count": 109,
   "metadata": {
    "collapsed": true
   },
   "outputs": [],
   "source": [
    "y_train_pred = rfc.predict(X_train)\n",
    "y_test_pred = rfc.predict(X_test)"
   ]
  },
  {
   "cell_type": "code",
   "execution_count": 110,
   "metadata": {},
   "outputs": [
    {
     "name": "stdout",
     "output_type": "stream",
     "text": [
      "Confusion Matrix:\n",
      "                 Predicted Negative  Predicted Positive\n",
      "Actual Negative              167710                  12\n",
      "Actual Positive               18456               19350\n",
      "--------------------\n",
      "Accuracy Scores:\n",
      "                Score\n",
      "Rate                 \n",
      "f1           0.676952\n",
      "Recall       0.511824\n",
      "Precision    0.999380\n",
      "Specificity  0.900863\n",
      "Fallout      0.099137\n"
     ]
    }
   ],
   "source": [
    "train_cmat, train_scores = classifier_summary(y_train, y_train_pred)"
   ]
  },
  {
   "cell_type": "code",
   "execution_count": 111,
   "metadata": {},
   "outputs": [
    {
     "name": "stdout",
     "output_type": "stream",
     "text": [
      "Confusion Matrix:\n",
      "                 Predicted Negative  Predicted Positive\n",
      "Actual Negative               41934                  29\n",
      "Actual Positive                4749                4670\n",
      "--------------------\n",
      "Accuracy Scores:\n",
      "                Score\n",
      "Rate                 \n",
      "f1           0.661567\n",
      "Recall       0.495806\n",
      "Precision    0.993828\n",
      "Specificity  0.898271\n",
      "Fallout      0.101729\n"
     ]
    }
   ],
   "source": [
    "test_cmat, test_scores = classifier_summary(y_test, y_test_pred)"
   ]
  },
  {
   "cell_type": "code",
   "execution_count": 112,
   "metadata": {},
   "outputs": [
    {
     "data": {
      "text/plain": [
       "RandomizedSearchCV(cv=3, error_score='raise',\n",
       "          estimator=RandomForestClassifier(bootstrap=True, class_weight=None, criterion='entropy',\n",
       "            max_depth=60, max_features=0.8, max_leaf_nodes=None,\n",
       "            min_impurity_decrease=0.0, min_impurity_split=None,\n",
       "            min_samples_leaf=15, min_samples_split=5,\n",
       "            min_weight_fraction_leaf=0.0, n_estimators=20, n_jobs=-1,\n",
       "            oob_score=False, random_state=None, verbose=0,\n",
       "            warm_start=False),\n",
       "          fit_params=None, iid=True, n_iter=50, n_jobs=-1,\n",
       "          param_distributions={'bootstrap': [True, False], 'criterion': ['gini', 'entropy'], 'class_weight': ['balanced', None], 'max_features': array([ 0.5 ,  0.51,  0.52,  0.53,  0.54,  0.55,  0.56,  0.57,  0.58,\n",
       "        0.59,  0.6 ,  0.61,  0.62,  0.63,  0.64,  0.65,  0.66,  0.67,\n",
       "        0.68,  0.69,  0.7... 90,  95, 100]), 'min_samples_leaf': array([ 50,  55,  60,  65,  70,  75,  80,  85,  90,  95, 100])},\n",
       "          pre_dispatch='2*n_jobs', random_state=None, refit=True,\n",
       "          return_train_score=True, scoring='recall', verbose=0)"
      ]
     },
     "execution_count": 112,
     "metadata": {},
     "output_type": "execute_result"
    }
   ],
   "source": [
    "param_grid = {'bootstrap': [True, False],\n",
    "              'criterion': ['gini', 'entropy'],\n",
    "              'class_weight': ['balanced', None],\n",
    "              'max_features': np.arange(.5,.91,0.1),\n",
    "              'max_depth': np.arange(20,60,5),\n",
    "              'min_samples_split': np.arange(20,101,5),\n",
    "              'min_samples_leaf': np.arange(50,101,5)}\n",
    "\n",
    "rfc_rs = RandomizedSearchCV(estimator=rfc,\n",
    "                  param_distributions = param_grid,\n",
    "                  n_iter=50,\n",
    "                  scoring='recall',\n",
    "                  cv=3,\n",
    "                  n_jobs=-1)\n",
    "\n",
    "rfc_rs.fit(X_train, y_train)"
   ]
  },
  {
   "cell_type": "code",
   "execution_count": 113,
   "metadata": {},
   "outputs": [
    {
     "data": {
      "text/plain": [
       "{'bootstrap': False,\n",
       " 'class_weight': 'balanced',\n",
       " 'criterion': 'entropy',\n",
       " 'max_depth': 27,\n",
       " 'max_features': 0.96000000000000041,\n",
       " 'min_samples_leaf': 90,\n",
       " 'min_samples_split': 40}"
      ]
     },
     "execution_count": 113,
     "metadata": {},
     "output_type": "execute_result"
    }
   ],
   "source": [
    "rfc_rs.best_params_"
   ]
  },
  {
   "cell_type": "code",
   "execution_count": 114,
   "metadata": {},
   "outputs": [
    {
     "data": {
      "text/plain": [
       "0.65225099106591289"
      ]
     },
     "execution_count": 114,
     "metadata": {},
     "output_type": "execute_result"
    }
   ],
   "source": [
    "rfc_rs.best_score_"
   ]
  },
  {
   "cell_type": "code",
   "execution_count": 131,
   "metadata": {
    "collapsed": true
   },
   "outputs": [],
   "source": [
    "rfc_best = RandomForestClassifier(n_estimators=20,\n",
    "                                  bootstrap=False,\n",
    "                                  class_weight='balanced',\n",
    "                                  criterion='entropy',\n",
    "                                  max_depth=25,\n",
    "                                  max_features=0.9,\n",
    "                                  min_samples_leaf=90,\n",
    "                                  min_samples_split=40,\n",
    "                                  n_jobs=-1)"
   ]
  },
  {
   "cell_type": "code",
   "execution_count": 132,
   "metadata": {},
   "outputs": [
    {
     "data": {
      "text/plain": [
       "RandomForestClassifier(bootstrap=False, class_weight='balanced',\n",
       "            criterion='entropy', max_depth=25, max_features=0.9,\n",
       "            max_leaf_nodes=None, min_impurity_decrease=0.0,\n",
       "            min_impurity_split=None, min_samples_leaf=90,\n",
       "            min_samples_split=40, min_weight_fraction_leaf=0.0,\n",
       "            n_estimators=20, n_jobs=-1, oob_score=False, random_state=None,\n",
       "            verbose=0, warm_start=False)"
      ]
     },
     "execution_count": 132,
     "metadata": {},
     "output_type": "execute_result"
    }
   ],
   "source": [
    "rfc_best.fit(X_train, y_train)"
   ]
  },
  {
   "cell_type": "code",
   "execution_count": 133,
   "metadata": {
    "collapsed": true
   },
   "outputs": [],
   "source": [
    "y_train_pred = rfc_best.predict(X_train)\n",
    "y_test_pred = rfc_best.predict(X_test)"
   ]
  },
  {
   "cell_type": "code",
   "execution_count": 134,
   "metadata": {},
   "outputs": [
    {
     "name": "stdout",
     "output_type": "stream",
     "text": [
      "Confusion Matrix:\n",
      "                 Predicted Negative  Predicted Positive\n",
      "Actual Negative              152386               15336\n",
      "Actual Positive               10557               27249\n",
      "--------------------\n",
      "Accuracy Scores:\n",
      "                Score\n",
      "Rate                 \n",
      "f1           0.677912\n",
      "Recall       0.720759\n",
      "Precision    0.639873\n",
      "Specificity  0.935210\n",
      "Fallout      0.064790\n"
     ]
    }
   ],
   "source": [
    "train_cmat, train_scores = classifier_summary(y_train, y_train_pred)"
   ]
  },
  {
   "cell_type": "code",
   "execution_count": 135,
   "metadata": {},
   "outputs": [
    {
     "name": "stdout",
     "output_type": "stream",
     "text": [
      "Confusion Matrix:\n",
      "                 Predicted Negative  Predicted Positive\n",
      "Actual Negative               37587                4376\n",
      "Actual Positive                3375                6044\n",
      "--------------------\n",
      "Accuracy Scores:\n",
      "                Score\n",
      "Rate                 \n",
      "f1           0.609305\n",
      "Recall       0.641682\n",
      "Precision    0.580038\n",
      "Specificity  0.917607\n",
      "Fallout      0.082393\n"
     ]
    }
   ],
   "source": [
    "test_cmat, test_scores = classifier_summary(y_test, y_test_pred)"
   ]
  }
 ],
 "metadata": {
  "kernelspec": {
   "display_name": "Python 3",
   "language": "python",
   "name": "python3"
  },
  "language_info": {
   "codemirror_mode": {
    "name": "ipython",
    "version": 3
   },
   "file_extension": ".py",
   "mimetype": "text/x-python",
   "name": "python",
   "nbconvert_exporter": "python",
   "pygments_lexer": "ipython3",
   "version": "3.6.2"
  }
 },
 "nbformat": 4,
 "nbformat_minor": 2
}

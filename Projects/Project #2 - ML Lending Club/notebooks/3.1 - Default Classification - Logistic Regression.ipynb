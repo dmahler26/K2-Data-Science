{
 "cells": [
  {
   "cell_type": "code",
   "execution_count": 102,
   "metadata": {},
   "outputs": [],
   "source": [
    "import pandas as pd\n",
    "import numpy as np\n",
    "pd.set_option('display.max_columns', None, 'display.max_rows', 100) \n",
    "\n",
    "from os import path\n",
    "import pickle\n",
    "\n",
    "import sys\n",
    "sys.path.append('..')\n",
    "import src.functions.my_functions as my_func\n",
    "\n",
    "import matplotlib.pyplot as plt\n",
    "import matplotlib.colors as colors\n",
    "import seaborn as sns\n",
    "7\n",
    "from sklearn.pipeline import Pipeline, FeatureUnion\n",
    "\n",
    "from sklearn.preprocessing import StandardScaler, Normalizer\n",
    "from sklearn.model_selection import train_test_split, GridSearchCV, cross_val_score, RandomizedSearchCV\n",
    "from sklearn.metrics.scorer import make_scorer\n",
    "\n",
    "from sklearn.metrics import f1_score, recall_score, precision_score, fbeta_score\n",
    "\n",
    "from sklearn.linear_model import LogisticRegression\n",
    "\n",
    "from sklearn.feature_selection import SelectFromModel, SelectKBest, SelectPercentile, RFECV, f_classif"
   ]
  },
  {
   "cell_type": "code",
   "execution_count": 100,
   "metadata": {},
   "outputs": [
    {
     "data": {
      "text/plain": [
       "<module 'src.functions.my_functions' from '..\\\\src\\\\functions\\\\my_functions.py'>"
      ]
     },
     "execution_count": 100,
     "metadata": {},
     "output_type": "execute_result"
    }
   ],
   "source": [
    "from imp import reload\n",
    "reload(my_func)"
   ]
  },
  {
   "cell_type": "markdown",
   "metadata": {},
   "source": [
    "### Import"
   ]
  },
  {
   "cell_type": "code",
   "execution_count": 4,
   "metadata": {
    "collapsed": true
   },
   "outputs": [],
   "source": [
    "data = {}\n",
    "\n",
    "ds = ['train', 'train_target', 'test', 'test_target']\n",
    "d = ['..', 'data', 'processed']\n",
    "\n",
    "for s in ds:    \n",
    "    fn = 'loan_'+s+'.p'\n",
    "    fp = path.join(*d, fn)\n",
    "\n",
    "    with open(fp, 'rb') as file:\n",
    "        data[s] = pickle.load(file)"
   ]
  },
  {
   "cell_type": "code",
   "execution_count": 5,
   "metadata": {},
   "outputs": [
    {
     "data": {
      "text/plain": [
       "((152218, 47), (152218, 2))"
      ]
     },
     "execution_count": 5,
     "metadata": {},
     "output_type": "execute_result"
    }
   ],
   "source": [
    "data['train'].shape, data['train_target'].shape"
   ]
  },
  {
   "cell_type": "code",
   "execution_count": 6,
   "metadata": {},
   "outputs": [
    {
     "data": {
      "text/plain": [
       "((38055, 47), (38055, 2))"
      ]
     },
     "execution_count": 6,
     "metadata": {},
     "output_type": "execute_result"
    }
   ],
   "source": [
    "data['test'].shape, data['test_target'].shape"
   ]
  },
  {
   "cell_type": "markdown",
   "metadata": {},
   "source": [
    "### Data Preparation"
   ]
  },
  {
   "cell_type": "code",
   "execution_count": 17,
   "metadata": {
    "collapsed": true
   },
   "outputs": [],
   "source": [
    "# Columns identified thus far as best for classification (during data prep, select K best)\n",
    "num_attr = ['funded_amnt_q10', 'int_rate_delta', 'annual_inc_q10', 'dti', 'delinq_2yrs', 'inq_last_6mths',\n",
    "            'open_acc', 'revol_bal_log', 'revol_util', 'total_acc', 'collection_recovery_fee', 'collections_12_mths_ex_med',\n",
    "            'acc_now_delinq', 'rev_lim_sqrt', 'tot_cur_bal', 'tot_coll_amt', 'subgrade_p_value',\n",
    "            'lti', 'rbti', 'tbti', 'cr_line_td_log']\n",
    "\n",
    "bin_attr = ['had_delinq', 'had_major_derog', 'had_record', 'verified']\n",
    "\n",
    "cat_attr = ['emp_length', 'purpose', 'home_ownership', 'term']"
   ]
  },
  {
   "cell_type": "code",
   "execution_count": 18,
   "metadata": {},
   "outputs": [],
   "source": [
    "num_prep = Pipeline([('custom', my_func.CustomNumAttributes()), # Create custom num attr\n",
    "                     ('select', my_func.DataFrame_Selector(num_attr)), # Select num columns\n",
    "                     ('sc', StandardScaler())]) # Scale data\n",
    "\n",
    "bin_prep = Pipeline([('custom', my_func.CustomBinAttributes()), # Create custom bin attr\n",
    "                     ('select', my_func.DataFrame_Selector(bin_attr))]) # Select binary columns\n",
    "\n",
    "cat_prep = Pipeline([('encode', my_func.DataFrame_DummyEncoder(cat_attr))]) # Select & encode categrocial columns\n",
    "\n",
    "feature_prep = FeatureUnion([('num', num_prep),\n",
    "                             ('bin', bin_prep),\n",
    "                             ('cat', cat_prep)])"
   ]
  },
  {
   "cell_type": "code",
   "execution_count": 19,
   "metadata": {},
   "outputs": [],
   "source": [
    "X_train_full = feature_prep.fit_transform(data['train'])"
   ]
  },
  {
   "cell_type": "code",
   "execution_count": 20,
   "metadata": {
    "collapsed": true
   },
   "outputs": [],
   "source": [
    "X_test = feature_prep.transform(data['test'])"
   ]
  },
  {
   "cell_type": "code",
   "execution_count": 21,
   "metadata": {},
   "outputs": [
    {
     "data": {
      "text/plain": [
       "((152218, 57), (38055, 57))"
      ]
     },
     "execution_count": 21,
     "metadata": {},
     "output_type": "execute_result"
    }
   ],
   "source": [
    "X_train_full.shape, X_test.shape"
   ]
  },
  {
   "cell_type": "code",
   "execution_count": 29,
   "metadata": {},
   "outputs": [
    {
     "data": {
      "text/plain": [
       "((152218,), (38055,))"
      ]
     },
     "execution_count": 29,
     "metadata": {},
     "output_type": "execute_result"
    }
   ],
   "source": [
    "y_train_full = data['train_target']['default']\n",
    "y_test = data['test_target']['default']\n",
    "\n",
    "y_train.shape, y_test.shape"
   ]
  },
  {
   "cell_type": "code",
   "execution_count": 22,
   "metadata": {
    "collapsed": true
   },
   "outputs": [],
   "source": [
    "def get_feature_prep_columns(feature_union):\n",
    "    num_cols = feature_union.transformer_list[0][1].named_steps['select'].get_feature_names()\n",
    "    bin_cols = feature_union.transformer_list[1][1].named_steps['select'].get_feature_names()\n",
    "    cat_cols = feature_union.transformer_list[2][1].named_steps['encode'].get_feature_names()\n",
    "    cols = num_cols + bin_cols + cat_cols\n",
    "    return cols"
   ]
  },
  {
   "cell_type": "code",
   "execution_count": 23,
   "metadata": {
    "scrolled": true
   },
   "outputs": [
    {
     "data": {
      "text/plain": [
       "['funded_amnt_q10',\n",
       " 'int_rate_delta',\n",
       " 'annual_inc_q10',\n",
       " 'dti',\n",
       " 'delinq_2yrs',\n",
       " 'inq_last_6mths',\n",
       " 'open_acc',\n",
       " 'revol_bal_log',\n",
       " 'revol_util',\n",
       " 'total_acc',\n",
       " 'collection_recovery_fee',\n",
       " 'collections_12_mths_ex_med',\n",
       " 'acc_now_delinq',\n",
       " 'rev_lim_sqrt',\n",
       " 'tot_cur_bal',\n",
       " 'tot_coll_amt',\n",
       " 'subgrade_p_value',\n",
       " 'lti',\n",
       " 'rbti',\n",
       " 'tbti',\n",
       " 'cr_line_td_log',\n",
       " 'had_delinq',\n",
       " 'had_major_derog',\n",
       " 'had_record',\n",
       " 'verified',\n",
       " 'emp_length_1 year',\n",
       " 'emp_length_10+ years',\n",
       " 'emp_length_2 years',\n",
       " 'emp_length_3 years',\n",
       " 'emp_length_4 years',\n",
       " 'emp_length_5 years',\n",
       " 'emp_length_6 years',\n",
       " 'emp_length_7 years',\n",
       " 'emp_length_8 years',\n",
       " 'emp_length_9 years',\n",
       " 'emp_length_< 1 year',\n",
       " 'emp_length_n/a',\n",
       " 'purpose_car',\n",
       " 'purpose_credit_card',\n",
       " 'purpose_debt_consolidation',\n",
       " 'purpose_home_improvement',\n",
       " 'purpose_house',\n",
       " 'purpose_major_purchase',\n",
       " 'purpose_medical',\n",
       " 'purpose_moving',\n",
       " 'purpose_other',\n",
       " 'purpose_renewable_energy',\n",
       " 'purpose_small_business',\n",
       " 'purpose_vacation',\n",
       " 'purpose_wedding',\n",
       " 'home_ownership_MORTGAGE',\n",
       " 'home_ownership_NONE',\n",
       " 'home_ownership_OTHER',\n",
       " 'home_ownership_OWN',\n",
       " 'home_ownership_RENT',\n",
       " 'term_ 36 months',\n",
       " 'term_ 60 months']"
      ]
     },
     "execution_count": 23,
     "metadata": {},
     "output_type": "execute_result"
    }
   ],
   "source": [
    "get_feature_prep_columns(feature_prep)"
   ]
  },
  {
   "cell_type": "code",
   "execution_count": 30,
   "metadata": {
    "collapsed": true
   },
   "outputs": [],
   "source": [
    "X_train, X_val, y_train, y_val = train_test_split(X_train_full, y_train_full, test_size=0.2, random_state=42)"
   ]
  },
  {
   "cell_type": "markdown",
   "metadata": {},
   "source": [
    "### Parameter Tuning"
   ]
  },
  {
   "cell_type": "code",
   "execution_count": 24,
   "metadata": {
    "collapsed": true
   },
   "outputs": [],
   "source": [
    "f2_score = make_scorer(fbeta_score, beta=2)"
   ]
  },
  {
   "cell_type": "code",
   "execution_count": 44,
   "metadata": {},
   "outputs": [
    {
     "name": "stdout",
     "output_type": "stream",
     "text": [
      "Time: 1min 3s \n"
     ]
    }
   ],
   "source": [
    "scoring={'F2': f2_score,\n",
    "         'recall':'recall',\n",
    "         'precision':'precision'}\n",
    "\n",
    "param_grid = {'C': [0.001, 0.01, 0.1, 1, 10, 100, 1000]}\n",
    "\n",
    "lr_c_gs = GridSearchCV(estimator=LogisticRegression(class_weight='balanced'),\n",
    "                  param_grid = param_grid,\n",
    "                  scoring=scoring,\n",
    "                  cv=3,\n",
    "                  refit=False,\n",
    "                  n_jobs=4)\n",
    "\n",
    "my_func.run_time(reset=True)\n",
    "lr_c_gs.fit(X_train, y_train);\n",
    "my_func.run_time()"
   ]
  },
  {
   "cell_type": "code",
   "execution_count": 70,
   "metadata": {
    "scrolled": false
   },
   "outputs": [
    {
     "data": {
      "image/png": "[encoded data removed]",
      "text/plain": [
       "<matplotlib.figure.Figure at 0x216052ea080>"
      ]
     },
     "metadata": {},
     "output_type": "display_data"
    }
   ],
   "source": [
    "my_func.plot_gs_param(lr_c_gs, set_xscale='log', ylim=(0.3, 0.7), figsize=(12,8))"
   ]
  },
  {
   "cell_type": "markdown",
   "metadata": {},
   "source": [
    "Decreasing C below the optimal F2 scoring value of 100 would be able to boost recall further, but the costs to precision are proportionally more and consequently unlikely to be worth it for the sake of balance.\n",
    "\n",
    "Running through a full grid search of possible param for C, penalty, and class weight:"
   ]
  },
  {
   "cell_type": "code",
   "execution_count": 72,
   "metadata": {},
   "outputs": [
    {
     "name": "stdout",
     "output_type": "stream",
     "text": [
      "Time: 121min 17s \n"
     ]
    }
   ],
   "source": [
    "scoring={'F2': f2_score,\n",
    "         'recall':'recall',\n",
    "         'precision':'precision'}\n",
    "\n",
    "param_grid = {'C': [0.001, 0.01, 0.1, 1, 10, 100, 1000],\n",
    "              'class_weight': ['balanced', None],\n",
    "              'penalty': ['l1','l2']}\n",
    "\n",
    "lr_gs = GridSearchCV(estimator=LogisticRegression(tol=0.001), # Slight reduce tol to improve comp time\n",
    "                  param_grid = param_grid,\n",
    "                  scoring=scoring,\n",
    "                  cv=3,\n",
    "                  refit=False,\n",
    "                  n_jobs=4)\n",
    "\n",
    "my_func.run_time(reset=True)\n",
    "lr_gs.fit(X_train, y_train)\n",
    "my_func.run_time()"
   ]
  },
  {
   "cell_type": "code",
   "execution_count": 73,
   "metadata": {},
   "outputs": [
    {
     "name": "stdout",
     "output_type": "stream",
     "text": [
      "--------------------\n",
      "Best F2:\n",
      "Params: {'C': 100, 'class_weight': 'balanced', 'penalty': 'l2'}\n",
      "F2 = 0.6144170023787927\n",
      "Recall = 0.6376811324672257\n",
      "Precision = 0.5361982981963649\n",
      "--------------------\n",
      "Best Recall:\n",
      "Params: {'C': 0.001, 'class_weight': 'balanced', 'penalty': 'l2'}\n",
      "F2 = 0.5743971115151113\n",
      "Recall = 0.6528985258718123\n",
      "Precision = 0.38786259744958895\n",
      "--------------------\n",
      "Best Precision:\n",
      "Params: {'C': 0.001, 'class_weight': None, 'penalty': 'l1'}\n",
      "F2 = 0.2494016740426696\n",
      "Recall = 0.21001704469774352\n",
      "Precision = 0.9981878533291695\n",
      "--------------------\n"
     ]
    }
   ],
   "source": [
    "my_func.gs_score_summary(lr_gs)"
   ]
  },
  {
   "cell_type": "markdown",
   "metadata": {
    "collapsed": true
   },
   "source": [
    "Our best F2 model acheives a recall of 0.61, versus the maximum potential of 0.65. Precision has been maintained at 0.53 which is at least still a slight improvement over the 0.5 of the uniform dummy model.\n",
    "\n",
    "Testing this model on the full training validation sets:"
   ]
  },
  {
   "cell_type": "code",
   "execution_count": 74,
   "metadata": {},
   "outputs": [
    {
     "data": {
      "text/plain": [
       "LogisticRegression(C=100, class_weight='balanced', dual=False,\n",
       "          fit_intercept=True, intercept_scaling=1, max_iter=100,\n",
       "          multi_class='ovr', n_jobs=1, penalty='l2', random_state=None,\n",
       "          solver='liblinear', tol=0.0001, verbose=0, warm_start=False)"
      ]
     },
     "execution_count": 74,
     "metadata": {},
     "output_type": "execute_result"
    }
   ],
   "source": [
    "lr_best = LogisticRegression(C=100, class_weight='balanced', penalty='l2')\n",
    "lr_best.fit(X_train, y_train)"
   ]
  },
  {
   "cell_type": "code",
   "execution_count": 75,
   "metadata": {
    "collapsed": true
   },
   "outputs": [],
   "source": [
    "y_train_pred = lr_best.predict(X_train)\n",
    "y_val_pred = lr_best.predict(X_val)"
   ]
  },
  {
   "cell_type": "code",
   "execution_count": 76,
   "metadata": {},
   "outputs": [
    {
     "name": "stdout",
     "output_type": "stream",
     "text": [
      "Confusion Matrix:\n",
      "                 Predicted Negative  Predicted Positive\n",
      "Actual Negative               85483               12831\n",
      "Actual Positive                8487               14973\n",
      "--------------------\n",
      "Accuracy Scores:\n",
      "                    Score\n",
      "Rate                     \n",
      "F2               0.615443\n",
      "Recall           0.638235\n",
      "Precision (pos)  0.538520\n",
      "Precision (neg)  0.909684\n",
      "Specificity      0.869490\n"
     ]
    }
   ],
   "source": [
    "lr_train_summary = my_func.classifier_summary(y_train, y_train_pred)"
   ]
  },
  {
   "cell_type": "code",
   "execution_count": 77,
   "metadata": {},
   "outputs": [
    {
     "name": "stdout",
     "output_type": "stream",
     "text": [
      "Confusion Matrix:\n",
      "                 Predicted Negative  Predicted Positive\n",
      "Actual Negative               21481                3149\n",
      "Actual Positive                2090                3724\n",
      "--------------------\n",
      "Accuracy Scores:\n",
      "                    Score\n",
      "Rate                     \n",
      "F2               0.618009\n",
      "Recall           0.640523\n",
      "Precision (pos)  0.541830\n",
      "Precision (neg)  0.911332\n",
      "Specificity      0.872148\n"
     ]
    }
   ],
   "source": [
    "lr_val_summary = my_func.classifier_summary(y_val, y_val_pred)"
   ]
  },
  {
   "cell_type": "markdown",
   "metadata": {},
   "source": [
    "Comparing result between our training and validation sets, there appears to be little reason for concern in terms of overfitting."
   ]
  },
  {
   "cell_type": "markdown",
   "metadata": {},
   "source": [
    "### Feature Selection"
   ]
  },
  {
   "cell_type": "code",
   "execution_count": 172,
   "metadata": {
    "collapsed": true
   },
   "outputs": [],
   "source": [
    "np.rate?"
   ]
  },
  {
   "cell_type": "code",
   "execution_count": 253,
   "metadata": {
    "collapsed": true
   },
   "outputs": [],
   "source": [
    "np.argsort?"
   ]
  },
  {
   "cell_type": "code",
   "execution_count": 255,
   "metadata": {},
   "outputs": [],
   "source": [
    "def rank_array(array, absolute=False, ascending=True):\n",
    "    if absolute:\n",
    "        temp = abs(array)\n",
    "    else:\n",
    "        temp = array\n",
    "        \n",
    "    if ascending:\n",
    "        temp=temp.argsort()\n",
    "    else:\n",
    "        temp=temp.argsort()[::-1]\n",
    "    \n",
    "    ranks = np.empty(len(array), int)\n",
    "    ranks[temp] = np.arange(len(array))\n",
    "    \n",
    "    return ranks"
   ]
  },
  {
   "cell_type": "code",
   "execution_count": 250,
   "metadata": {},
   "outputs": [
    {
     "data": {
      "text/plain": [
       "array([5, 4, 3, 2, 1])"
      ]
     },
     "execution_count": 250,
     "metadata": {},
     "output_type": "execute_result"
    }
   ],
   "source": [
    "np.array([1,2,3,4,5])[::-1]"
   ]
  },
  {
   "cell_type": "code",
   "execution_count": 182,
   "metadata": {},
   "outputs": [],
   "source": [
    "pd.DataFrame?"
   ]
  },
  {
   "cell_type": "code",
   "execution_count": 201,
   "metadata": {},
   "outputs": [],
   "source": [
    "np.reshape?"
   ]
  },
  {
   "cell_type": "code",
   "execution_count": 203,
   "metadata": {},
   "outputs": [
    {
     "data": {
      "text/plain": [
       "array([['funded_amnt_q10', 'int_rate_delta', 'annual_inc_q10', 'dti',\n",
       "        'delinq_2yrs', 'inq_last_6mths', 'open_acc', 'revol_bal_log',\n",
       "        'revol_util', 'total_acc', 'collection_recovery_fee',\n",
       "        'collections_12_mths_ex_med', 'acc_now_delinq', 'rev_lim_sqrt',\n",
       "        'tot_cur_bal', 'tot_coll_amt', 'subgrade_p_value', 'lti', 'rbti',\n",
       "        'tbti', 'cr_line_td_log', 'had_delinq', 'had_major_derog',\n",
       "        'had_record', 'verified', 'emp_length_1 year',\n",
       "        'emp_length_10+ years', 'emp_length_2 years', 'emp_length_3 years',\n",
       "        'emp_length_4 years', 'emp_length_5 years', 'emp_length_6 years',\n",
       "        'emp_length_7 years', 'emp_length_8 years', 'emp_length_9 years',\n",
       "        'emp_length_< 1 year', 'emp_length_n/a', 'purpose_car',\n",
       "        'purpose_credit_card', 'purpose_debt_consolidation',\n",
       "        'purpose_home_improvement', 'purpose_house',\n",
       "        'purpose_major_purchase', 'purpose_medical', 'purpose_moving',\n",
       "        'purpose_other', 'purpose_renewable_energy',\n",
       "        'purpose_small_business', 'purpose_vacation', 'purpose_wedding',\n",
       "        'home_ownership_MORTGAGE', 'home_ownership_NONE',\n",
       "        'home_ownership_OTHER', 'home_ownership_OWN',\n",
       "        'home_ownership_RENT', 'term_ 36 months', 'term_ 60 months']],\n",
       "      dtype='<U26')"
      ]
     },
     "execution_count": 203,
     "metadata": {},
     "output_type": "execute_result"
    }
   ],
   "source": [
    "np.array(get_feature_prep_columns(feature_prep)).reshape(1,-1)"
   ]
  },
  {
   "cell_type": "code",
   "execution_count": 235,
   "metadata": {},
   "outputs": [
    {
     "data": {
      "text/plain": [
       "(1, 57)"
      ]
     },
     "execution_count": 235,
     "metadata": {},
     "output_type": "execute_result"
    }
   ],
   "source": [
    "lr_best.coef_.shape"
   ]
  },
  {
   "cell_type": "code",
   "execution_count": 236,
   "metadata": {},
   "outputs": [
    {
     "data": {
      "text/plain": [
       "(1, 57)"
      ]
     },
     "execution_count": 236,
     "metadata": {},
     "output_type": "execute_result"
    }
   ],
   "source": [
    "rank_coef(lr_best.coef_[0]).reshape(1,-1).shape"
   ]
  },
  {
   "cell_type": "code",
   "execution_count": 259,
   "metadata": {},
   "outputs": [
    {
     "data": {
      "text/plain": [
       "0.0000       139215\n",
       "18.0000           5\n",
       "216.0000          5\n",
       "144.0000          5\n",
       "450.0000          4\n",
       "36.0000           4\n",
       "5.4400            3\n",
       "9.4000            3\n",
       "7.7300            3\n",
       "18.5382           3\n",
       "9.2690            3\n",
       "2.0088            3\n",
       "5.7500            3\n",
       "936.0000          3\n",
       "1.8000            3\n",
       "180.0000          3\n",
       "5.2000            3\n",
       "108.0000          3\n",
       "1.5800            3\n",
       "3.1400            3\n",
       "5.0400            3\n",
       "1.5200            3\n",
       "9.6355            3\n",
       "2.7300            2\n",
       "418.2444          2\n",
       "2.3220            2\n",
       "306.0000          2\n",
       "7.9300            2\n",
       "2.8000            2\n",
       "190.3068          2\n",
       "9.3821            2\n",
       "227.5560          2\n",
       "4.7900            2\n",
       "900.0000          2\n",
       "15.2184           2\n",
       "9.5000            2\n",
       "5.2727            2\n",
       "4.0608            2\n",
       "1146.7836         2\n",
       "167.5656          2\n",
       "29.5596           2\n",
       "429.7914          2\n",
       "8.1600            2\n",
       "373.4514          2\n",
       "6.2700            2\n",
       "45.0000           2\n",
       "20.4158           2\n",
       "110.6748          2\n",
       "5.8885            2\n",
       "4.3500            2\n",
       "              ...  \n",
       "655.1892          1\n",
       "21.2610           1\n",
       "455.0022          1\n",
       "486.4608          1\n",
       "855.8964          1\n",
       "378.8802          1\n",
       "1.1749            1\n",
       "43.6489           1\n",
       "20.0375           1\n",
       "3.1789            1\n",
       "5.6729            1\n",
       "2.7600            1\n",
       "29.6966           1\n",
       "11.5408           1\n",
       "140.4432          1\n",
       "27.5190           1\n",
       "19.8511           1\n",
       "7.5378            1\n",
       "209.0139          1\n",
       "1219.0770         1\n",
       "176.7330          1\n",
       "4.3802            1\n",
       "447.9246          1\n",
       "20.7701           1\n",
       "103.1598          1\n",
       "4.6311            1\n",
       "332.6022          1\n",
       "345.9186          1\n",
       "27.4415           1\n",
       "32.5104           1\n",
       "23.6583           1\n",
       "31.1739           1\n",
       "368.1270          1\n",
       "5.0387            1\n",
       "643.0464          1\n",
       "375.8526          1\n",
       "651.4254          1\n",
       "1440.0000         1\n",
       "18.5949           1\n",
       "555.7284          1\n",
       "81.0072           1\n",
       "230.4612          1\n",
       "306.5454          1\n",
       "392.7150          1\n",
       "195.8400          1\n",
       "241.0164          1\n",
       "127.8378          1\n",
       "35.9705           1\n",
       "403.7580          1\n",
       "12.3886           1\n",
       "Name: collection_recovery_fee, Length: 12812, dtype: int64"
      ]
     },
     "execution_count": 259,
     "metadata": {},
     "output_type": "execute_result"
    }
   ],
   "source": [
    "data['train']['collection_recovery_fee'].value_counts()"
   ]
  },
  {
   "cell_type": "code",
   "execution_count": 256,
   "metadata": {},
   "outputs": [
    {
     "data": {
      "text/html": [
       "<div>\n",
       "<style>\n",
       "    .dataframe thead tr:only-child th {\n",
       "        text-align: right;\n",
       "    }\n",
       "\n",
       "    .dataframe thead th {\n",
       "        text-align: left;\n",
       "    }\n",
       "\n",
       "    .dataframe tbody tr th {\n",
       "        vertical-align: top;\n",
       "    }\n",
       "</style>\n",
       "<table border=\"1\" class=\"dataframe\">\n",
       "  <thead>\n",
       "    <tr style=\"text-align: right;\">\n",
       "      <th></th>\n",
       "      <th>coef</th>\n",
       "      <th>feature</th>\n",
       "    </tr>\n",
       "  </thead>\n",
       "  <tbody>\n",
       "    <tr>\n",
       "      <th>0</th>\n",
       "      <td>160.040205</td>\n",
       "      <td>collection_recovery_fee</td>\n",
       "    </tr>\n",
       "    <tr>\n",
       "      <th>1</th>\n",
       "      <td>6.899650</td>\n",
       "      <td>term_ 60 months</td>\n",
       "    </tr>\n",
       "    <tr>\n",
       "      <th>2</th>\n",
       "      <td>6.581289</td>\n",
       "      <td>term_ 36 months</td>\n",
       "    </tr>\n",
       "    <tr>\n",
       "      <th>3</th>\n",
       "      <td>4.081162</td>\n",
       "      <td>home_ownership_RENT</td>\n",
       "    </tr>\n",
       "    <tr>\n",
       "      <th>4</th>\n",
       "      <td>3.894905</td>\n",
       "      <td>home_ownership_MORTGAGE</td>\n",
       "    </tr>\n",
       "    <tr>\n",
       "      <th>5</th>\n",
       "      <td>3.864674</td>\n",
       "      <td>home_ownership_OWN</td>\n",
       "    </tr>\n",
       "    <tr>\n",
       "      <th>6</th>\n",
       "      <td>2.834706</td>\n",
       "      <td>home_ownership_OTHER</td>\n",
       "    </tr>\n",
       "    <tr>\n",
       "      <th>7</th>\n",
       "      <td>1.595778</td>\n",
       "      <td>emp_length_n/a</td>\n",
       "    </tr>\n",
       "    <tr>\n",
       "      <th>8</th>\n",
       "      <td>1.489248</td>\n",
       "      <td>purpose_small_business</td>\n",
       "    </tr>\n",
       "    <tr>\n",
       "      <th>9</th>\n",
       "      <td>1.432925</td>\n",
       "      <td>purpose_medical</td>\n",
       "    </tr>\n",
       "    <tr>\n",
       "      <th>10</th>\n",
       "      <td>-1.194508</td>\n",
       "      <td>home_ownership_NONE</td>\n",
       "    </tr>\n",
       "    <tr>\n",
       "      <th>11</th>\n",
       "      <td>1.188456</td>\n",
       "      <td>purpose_home_improvement</td>\n",
       "    </tr>\n",
       "    <tr>\n",
       "      <th>12</th>\n",
       "      <td>1.184540</td>\n",
       "      <td>purpose_moving</td>\n",
       "    </tr>\n",
       "    <tr>\n",
       "      <th>13</th>\n",
       "      <td>1.176314</td>\n",
       "      <td>purpose_other</td>\n",
       "    </tr>\n",
       "    <tr>\n",
       "      <th>14</th>\n",
       "      <td>1.163880</td>\n",
       "      <td>emp_length_&lt; 1 year</td>\n",
       "    </tr>\n",
       "    <tr>\n",
       "      <th>15</th>\n",
       "      <td>1.154320</td>\n",
       "      <td>purpose_major_purchase</td>\n",
       "    </tr>\n",
       "    <tr>\n",
       "      <th>16</th>\n",
       "      <td>1.141530</td>\n",
       "      <td>purpose_debt_consolidation</td>\n",
       "    </tr>\n",
       "    <tr>\n",
       "      <th>17</th>\n",
       "      <td>1.137937</td>\n",
       "      <td>purpose_credit_card</td>\n",
       "    </tr>\n",
       "    <tr>\n",
       "      <th>18</th>\n",
       "      <td>1.112673</td>\n",
       "      <td>emp_length_7 years</td>\n",
       "    </tr>\n",
       "    <tr>\n",
       "      <th>19</th>\n",
       "      <td>1.109870</td>\n",
       "      <td>emp_length_9 years</td>\n",
       "    </tr>\n",
       "    <tr>\n",
       "      <th>20</th>\n",
       "      <td>1.103973</td>\n",
       "      <td>emp_length_3 years</td>\n",
       "    </tr>\n",
       "    <tr>\n",
       "      <th>21</th>\n",
       "      <td>1.080814</td>\n",
       "      <td>emp_length_10+ years</td>\n",
       "    </tr>\n",
       "    <tr>\n",
       "      <th>22</th>\n",
       "      <td>1.072390</td>\n",
       "      <td>emp_length_6 years</td>\n",
       "    </tr>\n",
       "    <tr>\n",
       "      <th>23</th>\n",
       "      <td>1.068901</td>\n",
       "      <td>emp_length_1 year</td>\n",
       "    </tr>\n",
       "    <tr>\n",
       "      <th>24</th>\n",
       "      <td>1.064665</td>\n",
       "      <td>emp_length_5 years</td>\n",
       "    </tr>\n",
       "    <tr>\n",
       "      <th>25</th>\n",
       "      <td>1.048626</td>\n",
       "      <td>emp_length_8 years</td>\n",
       "    </tr>\n",
       "    <tr>\n",
       "      <th>26</th>\n",
       "      <td>1.042782</td>\n",
       "      <td>emp_length_4 years</td>\n",
       "    </tr>\n",
       "    <tr>\n",
       "      <th>27</th>\n",
       "      <td>1.030885</td>\n",
       "      <td>purpose_vacation</td>\n",
       "    </tr>\n",
       "    <tr>\n",
       "      <th>28</th>\n",
       "      <td>1.016587</td>\n",
       "      <td>emp_length_2 years</td>\n",
       "    </tr>\n",
       "    <tr>\n",
       "      <th>29</th>\n",
       "      <td>0.890380</td>\n",
       "      <td>purpose_wedding</td>\n",
       "    </tr>\n",
       "    <tr>\n",
       "      <th>30</th>\n",
       "      <td>0.833407</td>\n",
       "      <td>purpose_car</td>\n",
       "    </tr>\n",
       "    <tr>\n",
       "      <th>31</th>\n",
       "      <td>0.824136</td>\n",
       "      <td>purpose_house</td>\n",
       "    </tr>\n",
       "    <tr>\n",
       "      <th>32</th>\n",
       "      <td>0.360592</td>\n",
       "      <td>subgrade_p_value</td>\n",
       "    </tr>\n",
       "    <tr>\n",
       "      <th>33</th>\n",
       "      <td>0.193794</td>\n",
       "      <td>dti</td>\n",
       "    </tr>\n",
       "    <tr>\n",
       "      <th>34</th>\n",
       "      <td>0.167062</td>\n",
       "      <td>open_acc</td>\n",
       "    </tr>\n",
       "    <tr>\n",
       "      <th>35</th>\n",
       "      <td>0.160712</td>\n",
       "      <td>lti</td>\n",
       "    </tr>\n",
       "    <tr>\n",
       "      <th>36</th>\n",
       "      <td>-0.144097</td>\n",
       "      <td>total_acc</td>\n",
       "    </tr>\n",
       "    <tr>\n",
       "      <th>37</th>\n",
       "      <td>-0.140276</td>\n",
       "      <td>rev_lim_sqrt</td>\n",
       "    </tr>\n",
       "    <tr>\n",
       "      <th>38</th>\n",
       "      <td>-0.135438</td>\n",
       "      <td>annual_inc_q10</td>\n",
       "    </tr>\n",
       "    <tr>\n",
       "      <th>39</th>\n",
       "      <td>0.101394</td>\n",
       "      <td>rbti</td>\n",
       "    </tr>\n",
       "    <tr>\n",
       "      <th>40</th>\n",
       "      <td>0.088040</td>\n",
       "      <td>revol_util</td>\n",
       "    </tr>\n",
       "    <tr>\n",
       "      <th>41</th>\n",
       "      <td>-0.067403</td>\n",
       "      <td>int_rate_delta</td>\n",
       "    </tr>\n",
       "    <tr>\n",
       "      <th>42</th>\n",
       "      <td>0.065504</td>\n",
       "      <td>inq_last_6mths</td>\n",
       "    </tr>\n",
       "    <tr>\n",
       "      <th>43</th>\n",
       "      <td>0.051306</td>\n",
       "      <td>delinq_2yrs</td>\n",
       "    </tr>\n",
       "    <tr>\n",
       "      <th>44</th>\n",
       "      <td>0.044848</td>\n",
       "      <td>had_major_derog</td>\n",
       "    </tr>\n",
       "    <tr>\n",
       "      <th>45</th>\n",
       "      <td>-0.042416</td>\n",
       "      <td>tot_cur_bal</td>\n",
       "    </tr>\n",
       "    <tr>\n",
       "      <th>46</th>\n",
       "      <td>-0.039153</td>\n",
       "      <td>had_delinq</td>\n",
       "    </tr>\n",
       "    <tr>\n",
       "      <th>47</th>\n",
       "      <td>-0.035529</td>\n",
       "      <td>revol_bal_log</td>\n",
       "    </tr>\n",
       "    <tr>\n",
       "      <th>48</th>\n",
       "      <td>0.035419</td>\n",
       "      <td>verified</td>\n",
       "    </tr>\n",
       "    <tr>\n",
       "      <th>49</th>\n",
       "      <td>-0.034865</td>\n",
       "      <td>had_record</td>\n",
       "    </tr>\n",
       "    <tr>\n",
       "      <th>50</th>\n",
       "      <td>0.025636</td>\n",
       "      <td>cr_line_td_log</td>\n",
       "    </tr>\n",
       "    <tr>\n",
       "      <th>51</th>\n",
       "      <td>-0.018756</td>\n",
       "      <td>tot_coll_amt</td>\n",
       "    </tr>\n",
       "    <tr>\n",
       "      <th>52</th>\n",
       "      <td>-0.018097</td>\n",
       "      <td>tbti</td>\n",
       "    </tr>\n",
       "    <tr>\n",
       "      <th>53</th>\n",
       "      <td>0.013039</td>\n",
       "      <td>collections_12_mths_ex_med</td>\n",
       "    </tr>\n",
       "    <tr>\n",
       "      <th>54</th>\n",
       "      <td>0.005216</td>\n",
       "      <td>funded_amnt_q10</td>\n",
       "    </tr>\n",
       "    <tr>\n",
       "      <th>55</th>\n",
       "      <td>-0.003247</td>\n",
       "      <td>acc_now_delinq</td>\n",
       "    </tr>\n",
       "    <tr>\n",
       "      <th>56</th>\n",
       "      <td>-0.003139</td>\n",
       "      <td>purpose_renewable_energy</td>\n",
       "    </tr>\n",
       "  </tbody>\n",
       "</table>\n",
       "</div>"
      ],
      "text/plain": [
       "          coef                     feature\n",
       "0   160.040205     collection_recovery_fee\n",
       "1     6.899650             term_ 60 months\n",
       "2     6.581289             term_ 36 months\n",
       "3     4.081162         home_ownership_RENT\n",
       "4     3.894905     home_ownership_MORTGAGE\n",
       "5     3.864674          home_ownership_OWN\n",
       "6     2.834706        home_ownership_OTHER\n",
       "7     1.595778              emp_length_n/a\n",
       "8     1.489248      purpose_small_business\n",
       "9     1.432925             purpose_medical\n",
       "10   -1.194508         home_ownership_NONE\n",
       "11    1.188456    purpose_home_improvement\n",
       "12    1.184540              purpose_moving\n",
       "13    1.176314               purpose_other\n",
       "14    1.163880         emp_length_< 1 year\n",
       "15    1.154320      purpose_major_purchase\n",
       "16    1.141530  purpose_debt_consolidation\n",
       "17    1.137937         purpose_credit_card\n",
       "18    1.112673          emp_length_7 years\n",
       "19    1.109870          emp_length_9 years\n",
       "20    1.103973          emp_length_3 years\n",
       "21    1.080814        emp_length_10+ years\n",
       "22    1.072390          emp_length_6 years\n",
       "23    1.068901           emp_length_1 year\n",
       "24    1.064665          emp_length_5 years\n",
       "25    1.048626          emp_length_8 years\n",
       "26    1.042782          emp_length_4 years\n",
       "27    1.030885            purpose_vacation\n",
       "28    1.016587          emp_length_2 years\n",
       "29    0.890380             purpose_wedding\n",
       "30    0.833407                 purpose_car\n",
       "31    0.824136               purpose_house\n",
       "32    0.360592            subgrade_p_value\n",
       "33    0.193794                         dti\n",
       "34    0.167062                    open_acc\n",
       "35    0.160712                         lti\n",
       "36   -0.144097                   total_acc\n",
       "37   -0.140276                rev_lim_sqrt\n",
       "38   -0.135438              annual_inc_q10\n",
       "39    0.101394                        rbti\n",
       "40    0.088040                  revol_util\n",
       "41   -0.067403              int_rate_delta\n",
       "42    0.065504              inq_last_6mths\n",
       "43    0.051306                 delinq_2yrs\n",
       "44    0.044848             had_major_derog\n",
       "45   -0.042416                 tot_cur_bal\n",
       "46   -0.039153                  had_delinq\n",
       "47   -0.035529               revol_bal_log\n",
       "48    0.035419                    verified\n",
       "49   -0.034865                  had_record\n",
       "50    0.025636              cr_line_td_log\n",
       "51   -0.018756                tot_coll_amt\n",
       "52   -0.018097                        tbti\n",
       "53    0.013039  collections_12_mths_ex_med\n",
       "54    0.005216             funded_amnt_q10\n",
       "55   -0.003247              acc_now_delinq\n",
       "56   -0.003139    purpose_renewable_energy"
      ]
     },
     "execution_count": 256,
     "metadata": {},
     "output_type": "execute_result"
    }
   ],
   "source": [
    "pd.DataFrame(data={'feature': get_feature_prep_columns(feature_prep), 'coef': lr_best.coef_.reshape(-1)}, index=rank_array(lr_best.coef_[0], True, False)).sort_index()"
   ]
  },
  {
   "cell_type": "code",
   "execution_count": 164,
   "metadata": {},
   "outputs": [],
   "source": [
    "def plot_RFE(estimator, X, y, step=1, cv=3, f_score=False, beta=1, n_jobs=1, figsize=(12,8)):\n",
    "    scoring = {'precision': 'precision',\n",
    "               'recall': 'recall'}\n",
    "    f2_score = make_scorer(fbeta_score, beta=2)\n",
    "    RFE = {}\n",
    "    plt.clf()\n",
    "    plt.figure(figsize=figsize)\n",
    "    ax = plt.gca()\n",
    "    for scorer in scoring:\n",
    "        RFE[scorer] = RFECV(estimator=estimator, step=step, cv=cv, scoring=scoring[scorer], n_jobs=n_jobs)\n",
    "        RFE[scorer].fit(X, y)\n",
    "        ax.plot(range(1, len(RFE[scorer].grid_scores_) + 1), RFE[scorer].grid_scores_, label=scorer)\n",
    "    \n",
    "    min_score = min(min(RFE['recall'].grid_scores_), min(RFE['precision'].grid_scores_))\n",
    "    max_score = max(max(RFE['recall'].grid_scores_), max(RFE['precision'].grid_scores_))\n",
    "    \n",
    "    ylim = ax.get_ylim()\n",
    "    \n",
    "    if f_score:\n",
    "        f_scores = (1 + beta**2) * (RFE['recall'].grid_scores_ * RFE['precision'].grid_scores_) / ((beta**2 * RFE['precision'].grid_scores_) + RFE['recall'].grid_scores_)\n",
    "        ax.plot(range(1, len(f_scores) + 1), f_scores, label='F'+str(beta), color='k', linestyle='--')\n",
    "        best_score = np.argmax(f_scores)\n",
    "        ax.plot([best_score+1,]*2, [ylim[0], f_scores[best_score]], linestyle='-.', color='k', lw=1, marker='x', markeredgewidth=2, ms=6)\n",
    "        ax.annotate(\"%0.2f\" % (f_scores[best_score]), (best_score+1, f_scores[best_score] + 0.01))\n",
    "        ax.annotate(\"%0.0f\" % (best_score+1), (best_score+1, ylim[0] + 0.01))\n",
    "        RFE['F'+str(beta)] = f_scores\n",
    "    \n",
    "    plt.ylim(ylim)\n",
    "    plt.xlabel('N Features Selected')\n",
    "    plt.ylabel('Accuracy Score (CV={})'.format(cv))\n",
    "    plt.title('Recursive Feature Elimination Scores')\n",
    "    plt.legend(bbox_to_anchor=(1,1))    \n",
    "    plt.show()\n",
    "    return RFE"
   ]
  },
  {
   "cell_type": "code",
   "execution_count": 140,
   "metadata": {},
   "outputs": [
    {
     "name": "stdout",
     "output_type": "stream",
     "text": [
      "Time: 18.01s \n"
     ]
    }
   ],
   "source": [
    "my_func.run_time(reset=True)\n",
    "LogisticRegression(C=100, class_weight='balanced', penalty='l2').fit(X_train, y_train)\n",
    "my_func.run_time()"
   ]
  },
  {
   "cell_type": "code",
   "execution_count": 167,
   "metadata": {
    "collapsed": true
   },
   "outputs": [],
   "source": [
    "rand_ind = np.random.choice(np.arange(0, X_train.shape[0], 1), size=50000, replace=False)"
   ]
  },
  {
   "cell_type": "code",
   "execution_count": 168,
   "metadata": {
    "collapsed": true
   },
   "outputs": [],
   "source": [
    "X_train_s = X_train[rand_ind]\n",
    "y_train_s = y_train.iloc[rand_ind]"
   ]
  },
  {
   "cell_type": "code",
   "execution_count": 170,
   "metadata": {},
   "outputs": [
    {
     "data": {
      "text/plain": [
       "<matplotlib.figure.Figure at 0x2167c8fa470>"
      ]
     },
     "metadata": {},
     "output_type": "display_data"
    },
    {
     "data": {
      "image/png": "[encoded data removed]",
      "text/plain": [
       "<matplotlib.figure.Figure at 0x21604ae8208>"
      ]
     },
     "metadata": {},
     "output_type": "display_data"
    }
   ],
   "source": [
    "RFE = plot_RFE(LogisticRegression(C=100, class_weight='balanced', penalty='l2'), X_train, y_train, f_score=True, beta=2, n_jobs=2)"
   ]
  },
  {
   "cell_type": "markdown",
   "metadata": {},
   "source": [
    "### Decision Threshold & PR Curve"
   ]
  },
  {
   "cell_type": "code",
   "execution_count": 101,
   "metadata": {},
   "outputs": [
    {
     "data": {
      "image/png": "[encoded data removed]",
      "text/plain": [
       "<matplotlib.figure.Figure at 0x21605298470>"
      ]
     },
     "metadata": {},
     "output_type": "display_data"
    }
   ],
   "source": [
    "precisions, recalls, thresholds = my_func.plot_pr_curve(lr_best, X_train, y_train, f_score=True, beta=2, label='Logistic Regression')"
   ]
  },
  {
   "cell_type": "code",
   "execution_count": null,
   "metadata": {
    "collapsed": true
   },
   "outputs": [],
   "source": [
    "# Get threshold value for desired recall\n",
    "desired_recall = 0.8\n",
    "i = len(recalls) - np.argmax(recalls[::-1] > desired_recall) - 1\n",
    "t = thresholds[i]\n",
    "print('Threshold for Recall = {}: {:.3f}'.format(desired_recall, t))"
   ]
  },
  {
   "cell_type": "code",
   "execution_count": 132,
   "metadata": {},
   "outputs": [],
   "source": [
    "# Filter results based off new threshold\n",
    "y_train_pred_t = lr_best.decision_function(X_train) >= -.5\n",
    "y_val_pred_t = lr_best.decision_function(X_val) >= -.5"
   ]
  },
  {
   "cell_type": "code",
   "execution_count": 130,
   "metadata": {
    "scrolled": true
   },
   "outputs": [
    {
     "name": "stdout",
     "output_type": "stream",
     "text": [
      "Confusion Matrix:\n",
      "                 Predicted Negative  Predicted Positive\n",
      "Actual Negative               67713               30601\n",
      "Actual Positive                5125               18335\n",
      "--------------------\n",
      "Accuracy Scores:\n",
      "                    Score\n",
      "Rate                     \n",
      "F2               0.642090\n",
      "Recall           0.781543\n",
      "Precision (pos)  0.374673\n",
      "Precision (neg)  0.929638\n",
      "Specificity      0.688742\n"
     ]
    }
   ],
   "source": [
    "my_func.classifier_summary(y_train, y_train_pred_t);"
   ]
  },
  {
   "cell_type": "code",
   "execution_count": 134,
   "metadata": {},
   "outputs": [
    {
     "name": "stdout",
     "output_type": "stream",
     "text": [
      "Confusion Matrix:\n",
      "                 Predicted Negative  Predicted Positive\n",
      "Actual Negative               17039                7591\n",
      "Actual Positive                1239                4575\n",
      "--------------------\n",
      "Accuracy Scores:\n",
      "                    Score\n",
      "Rate                     \n",
      "F2               0.645785\n",
      "Recall           0.786894\n",
      "Precision (pos)  0.376048\n",
      "Precision (neg)  0.932214\n",
      "Specificity      0.691799\n"
     ]
    }
   ],
   "source": [
    "my_func.classifier_summary(y_val, y_val_pred_t);"
   ]
  }
 ],
 "metadata": {
  "kernelspec": {
   "display_name": "Python 3",
   "language": "python",
   "name": "python3"
  },
  "language_info": {
   "codemirror_mode": {
    "name": "ipython",
    "version": 3
   },
   "file_extension": ".py",
   "mimetype": "text/x-python",
   "name": "python",
   "nbconvert_exporter": "python",
   "pygments_lexer": "ipython3",
   "version": "3.6.2"
  }
 },
 "nbformat": 4,
 "nbformat_minor": 2
}
